{
  "cells": [
    {
      "cell_type": "markdown",
      "metadata": {
        "id": "MMWsj-p0jFxK"
      },
      "source": [
        "\n",
        "# Анализ пользовательского поведения в мобильном приложении\n",
        "\n",
        "Проект выполнен для стартапа, который продает продукты питания. \n",
        "\n",
        "Цель: изучить поведение пользователей мобильного приложения.\n",
        "\n",
        "Входные данные: записи в логах (действие пользователя, или событие) приложения.\n",
        "\n",
        "План работы:\n",
        "1. Сделать обзор данных, провести предобработку\n",
        "2. Проверить данные\n",
        "3. Изучить воронку событий\n",
        "4. Проанализировать результаты эксперимента\n",
        "5. Сделать вывод\n",
        "\n",
        "## Обзор данных, предобработка"
      ]
    },
    {
      "cell_type": "code",
      "execution_count": null,
      "metadata": {
        "id": "YK1YMlArjFxL"
      },
      "outputs": [],
      "source": [
        "import pandas as pd\n",
        "import datetime as dt\n",
        "import numpy as np\n",
        "import seaborn as sns \n",
        "import matplotlib.pyplot as plt\n",
        "import scipy.stats as stats\n",
        "import math as mth"
      ]
    },
    {
      "cell_type": "code",
      "execution_count": null,
      "metadata": {
        "id": "T17_VWZrjFxN",
        "outputId": "4d8b2e67-b1c0-458b-c96a-fcd85b86a573"
      },
      "outputs": [
        {
          "data": {
            "text/html": [
              "<div>\n",
              "<style scoped>\n",
              "    .dataframe tbody tr th:only-of-type {\n",
              "        vertical-align: middle;\n",
              "    }\n",
              "\n",
              "    .dataframe tbody tr th {\n",
              "        vertical-align: top;\n",
              "    }\n",
              "\n",
              "    .dataframe thead th {\n",
              "        text-align: right;\n",
              "    }\n",
              "</style>\n",
              "<table border=\"1\" class=\"dataframe\">\n",
              "  <thead>\n",
              "    <tr style=\"text-align: right;\">\n",
              "      <th></th>\n",
              "      <th>EventName</th>\n",
              "      <th>DeviceIDHash</th>\n",
              "      <th>EventTimestamp</th>\n",
              "      <th>ExpId</th>\n",
              "    </tr>\n",
              "  </thead>\n",
              "  <tbody>\n",
              "    <tr>\n",
              "      <th>0</th>\n",
              "      <td>MainScreenAppear</td>\n",
              "      <td>4575588528974610257</td>\n",
              "      <td>1564029816</td>\n",
              "      <td>246</td>\n",
              "    </tr>\n",
              "    <tr>\n",
              "      <th>1</th>\n",
              "      <td>MainScreenAppear</td>\n",
              "      <td>7416695313311560658</td>\n",
              "      <td>1564053102</td>\n",
              "      <td>246</td>\n",
              "    </tr>\n",
              "    <tr>\n",
              "      <th>2</th>\n",
              "      <td>PaymentScreenSuccessful</td>\n",
              "      <td>3518123091307005509</td>\n",
              "      <td>1564054127</td>\n",
              "      <td>248</td>\n",
              "    </tr>\n",
              "    <tr>\n",
              "      <th>3</th>\n",
              "      <td>CartScreenAppear</td>\n",
              "      <td>3518123091307005509</td>\n",
              "      <td>1564054127</td>\n",
              "      <td>248</td>\n",
              "    </tr>\n",
              "    <tr>\n",
              "      <th>4</th>\n",
              "      <td>PaymentScreenSuccessful</td>\n",
              "      <td>6217807653094995999</td>\n",
              "      <td>1564055322</td>\n",
              "      <td>248</td>\n",
              "    </tr>\n",
              "  </tbody>\n",
              "</table>\n",
              "</div>"
            ],
            "text/plain": [
              "                 EventName         DeviceIDHash  EventTimestamp  ExpId\n",
              "0         MainScreenAppear  4575588528974610257      1564029816    246\n",
              "1         MainScreenAppear  7416695313311560658      1564053102    246\n",
              "2  PaymentScreenSuccessful  3518123091307005509      1564054127    248\n",
              "3         CartScreenAppear  3518123091307005509      1564054127    248\n",
              "4  PaymentScreenSuccessful  6217807653094995999      1564055322    248"
            ]
          },
          "execution_count": 3,
          "metadata": {},
          "output_type": "execute_result"
        }
      ],
      "source": [
        "logs = pd.read_csv('/datasets/logs_exp.csv', sep='\\t')\n",
        "logs.head()"
      ]
    },
    {
      "cell_type": "code",
      "execution_count": null,
      "metadata": {
        "id": "08Vy89DCjFxO"
      },
      "outputs": [],
      "source": [
        "logs = logs.rename(columns={'EventName': 'name', \n",
        "                            'DeviceIDHash': 'user_id', \n",
        "                            'EventTimestamp': 'timestamp', \n",
        "                            'ExpId': 'exp_id'})"
      ]
    },
    {
      "cell_type": "code",
      "execution_count": null,
      "metadata": {
        "id": "2TavXZnfjFxO",
        "outputId": "28624f17-12b0-4a03-870b-171296b96805"
      },
      "outputs": [
        {
          "name": "stdout",
          "output_type": "stream",
          "text": [
            "<class 'pandas.core.frame.DataFrame'>\n",
            "RangeIndex: 244126 entries, 0 to 244125\n",
            "Data columns (total 4 columns):\n",
            " #   Column     Non-Null Count   Dtype \n",
            "---  ------     --------------   ----- \n",
            " 0   name       244126 non-null  object\n",
            " 1   user_id    244126 non-null  int64 \n",
            " 2   timestamp  244126 non-null  int64 \n",
            " 3   exp_id     244126 non-null  int64 \n",
            "dtypes: int64(3), object(1)\n",
            "memory usage: 7.5+ MB\n"
          ]
        }
      ],
      "source": [
        "logs.info()"
      ]
    },
    {
      "cell_type": "code",
      "execution_count": null,
      "metadata": {
        "id": "zju7WlkGjFxO"
      },
      "outputs": [],
      "source": [
        "# Добавление стобцов с датой и временем и отдельно с датой\n",
        "logs['datetime'] = pd.to_datetime(logs['timestamp'], unit=\"s\")\n",
        "logs['date'] = logs['datetime'].dt.date"
      ]
    },
    {
      "cell_type": "code",
      "execution_count": null,
      "metadata": {
        "id": "n5LfNed2jFxO",
        "outputId": "26eee04a-7593-417f-a379-d7259fa38369"
      },
      "outputs": [
        {
          "data": {
            "text/html": [
              "<div>\n",
              "<style scoped>\n",
              "    .dataframe tbody tr th:only-of-type {\n",
              "        vertical-align: middle;\n",
              "    }\n",
              "\n",
              "    .dataframe tbody tr th {\n",
              "        vertical-align: top;\n",
              "    }\n",
              "\n",
              "    .dataframe thead th {\n",
              "        text-align: right;\n",
              "    }\n",
              "</style>\n",
              "<table border=\"1\" class=\"dataframe\">\n",
              "  <thead>\n",
              "    <tr style=\"text-align: right;\">\n",
              "      <th></th>\n",
              "      <th>name</th>\n",
              "      <th>user_id</th>\n",
              "      <th>timestamp</th>\n",
              "      <th>exp_id</th>\n",
              "      <th>datetime</th>\n",
              "      <th>date</th>\n",
              "    </tr>\n",
              "  </thead>\n",
              "  <tbody>\n",
              "    <tr>\n",
              "      <th>0</th>\n",
              "      <td>MainScreenAppear</td>\n",
              "      <td>4575588528974610257</td>\n",
              "      <td>1564029816</td>\n",
              "      <td>246</td>\n",
              "      <td>2019-07-25 04:43:36</td>\n",
              "      <td>2019-07-25</td>\n",
              "    </tr>\n",
              "    <tr>\n",
              "      <th>1</th>\n",
              "      <td>MainScreenAppear</td>\n",
              "      <td>7416695313311560658</td>\n",
              "      <td>1564053102</td>\n",
              "      <td>246</td>\n",
              "      <td>2019-07-25 11:11:42</td>\n",
              "      <td>2019-07-25</td>\n",
              "    </tr>\n",
              "    <tr>\n",
              "      <th>2</th>\n",
              "      <td>PaymentScreenSuccessful</td>\n",
              "      <td>3518123091307005509</td>\n",
              "      <td>1564054127</td>\n",
              "      <td>248</td>\n",
              "      <td>2019-07-25 11:28:47</td>\n",
              "      <td>2019-07-25</td>\n",
              "    </tr>\n",
              "    <tr>\n",
              "      <th>3</th>\n",
              "      <td>CartScreenAppear</td>\n",
              "      <td>3518123091307005509</td>\n",
              "      <td>1564054127</td>\n",
              "      <td>248</td>\n",
              "      <td>2019-07-25 11:28:47</td>\n",
              "      <td>2019-07-25</td>\n",
              "    </tr>\n",
              "    <tr>\n",
              "      <th>4</th>\n",
              "      <td>PaymentScreenSuccessful</td>\n",
              "      <td>6217807653094995999</td>\n",
              "      <td>1564055322</td>\n",
              "      <td>248</td>\n",
              "      <td>2019-07-25 11:48:42</td>\n",
              "      <td>2019-07-25</td>\n",
              "    </tr>\n",
              "  </tbody>\n",
              "</table>\n",
              "</div>"
            ],
            "text/plain": [
              "                      name              user_id   timestamp  exp_id  \\\n",
              "0         MainScreenAppear  4575588528974610257  1564029816     246   \n",
              "1         MainScreenAppear  7416695313311560658  1564053102     246   \n",
              "2  PaymentScreenSuccessful  3518123091307005509  1564054127     248   \n",
              "3         CartScreenAppear  3518123091307005509  1564054127     248   \n",
              "4  PaymentScreenSuccessful  6217807653094995999  1564055322     248   \n",
              "\n",
              "             datetime        date  \n",
              "0 2019-07-25 04:43:36  2019-07-25  \n",
              "1 2019-07-25 11:11:42  2019-07-25  \n",
              "2 2019-07-25 11:28:47  2019-07-25  \n",
              "3 2019-07-25 11:28:47  2019-07-25  \n",
              "4 2019-07-25 11:48:42  2019-07-25  "
            ]
          },
          "execution_count": 6,
          "metadata": {},
          "output_type": "execute_result"
        }
      ],
      "source": [
        "logs.head()"
      ]
    },
    {
      "cell_type": "code",
      "execution_count": null,
      "metadata": {
        "id": "zXiaMf1rjFxP",
        "outputId": "3514776f-0caa-4ac8-f0f2-87580c169c25"
      },
      "outputs": [
        {
          "data": {
            "text/plain": [
              "name         0\n",
              "user_id      0\n",
              "timestamp    0\n",
              "exp_id       0\n",
              "datetime     0\n",
              "date         0\n",
              "dtype: int64"
            ]
          },
          "execution_count": 7,
          "metadata": {},
          "output_type": "execute_result"
        }
      ],
      "source": [
        "logs.isna().sum()"
      ]
    },
    {
      "cell_type": "code",
      "execution_count": null,
      "metadata": {
        "id": "9Y4Fpdp4jFxP",
        "outputId": "4188fb85-7efe-4e0d-8bd1-75579ada7dc5"
      },
      "outputs": [
        {
          "data": {
            "text/plain": [
              "413"
            ]
          },
          "execution_count": 8,
          "metadata": {},
          "output_type": "execute_result"
        }
      ],
      "source": [
        "logs.duplicated().sum()"
      ]
    },
    {
      "cell_type": "code",
      "execution_count": null,
      "metadata": {
        "id": "7RUxnk4LjFxQ",
        "outputId": "8f7c1a87-29f8-4eaf-afca-8a4bc4dfdaa8"
      },
      "outputs": [
        {
          "data": {
            "text/plain": [
              "0"
            ]
          },
          "execution_count": 9,
          "metadata": {},
          "output_type": "execute_result"
        }
      ],
      "source": [
        "logs = logs.drop_duplicates().reset_index()\n",
        "logs.duplicated().sum()"
      ]
    },
    {
      "cell_type": "markdown",
      "metadata": {
        "id": "auvWDwMPjFxR"
      },
      "source": [
        "В данных не было пропусков, но были обнаружены явные дубликаты. Дубликаты лучше удалить, чтобы не исказить результаты исследования."
      ]
    },
    {
      "cell_type": "code",
      "execution_count": null,
      "metadata": {
        "id": "gG98pEAhjFxS",
        "outputId": "f0c76553-e7d7-4b2f-e043-019fb74917c5"
      },
      "outputs": [
        {
          "data": {
            "text/plain": [
              "user_id\n",
              "6888746892508752       1\n",
              "6207768971558512760    1\n",
              "6217807653094995999    1\n",
              "6217295124800833842    1\n",
              "6216080220799726690    1\n",
              "                      ..\n",
              "3175239243679501019    1\n",
              "3171891164497446149    1\n",
              "3171454373076660766    1\n",
              "3170212200647575044    1\n",
              "9222603179720523844    1\n",
              "Name: exp_id, Length: 7551, dtype: int64"
            ]
          },
          "execution_count": 10,
          "metadata": {},
          "output_type": "execute_result"
        }
      ],
      "source": [
        "uni = logs.groupby('user_id').nunique('exp_id').sort_values(by = 'exp_id', ascending = False)\n",
        "uni['exp_id']"
      ]
    },
    {
      "cell_type": "markdown",
      "metadata": {
        "id": "3CCufncCjFxS"
      },
      "source": [
        "В данных нет одинаковых пользователей, которые попали в разные группы."
      ]
    },
    {
      "cell_type": "markdown",
      "metadata": {
        "id": "M2r6FyULjFxS"
      },
      "source": [
        "## Проверка данных"
      ]
    },
    {
      "cell_type": "code",
      "execution_count": null,
      "metadata": {
        "id": "I-JoM0YpjFxS",
        "outputId": "ae081764-398b-4b7e-9b3f-a26f4507aac2"
      },
      "outputs": [
        {
          "name": "stdout",
          "output_type": "stream",
          "text": [
            "Количество всех событий в логах: 243713\n",
            "Количество пользователей: 7551\n",
            "Среднее количество событий на пользователя: 32\n"
          ]
        }
      ],
      "source": [
        "# изучение данных\n",
        "event_count = logs['name'].count()\n",
        "user_count = logs['user_id'].nunique()\n",
        "print('Количество всех событий в логах:', event_count)\n",
        "print('Количество пользователей:', user_count)\n",
        "print('Среднее количество событий на пользователя:', round(event_count/user_count))"
      ]
    },
    {
      "cell_type": "code",
      "execution_count": null,
      "metadata": {
        "id": "_NGXO2AVjFxT",
        "outputId": "46d2146b-405a-42ab-b6a7-d2244ca4cb34"
      },
      "outputs": [
        {
          "data": {
            "image/png": "[encoded data removed]",
            "text/plain": [
              "<Figure size 1440x576 with 1 Axes>"
            ]
          },
          "metadata": {
            "needs_background": "light"
          },
          "output_type": "display_data"
        }
      ],
      "source": [
        "plt.figure(figsize=(20, 8))\n",
        "logs['user_id'].hist(bins = 7551)\n",
        "\n",
        "plt.title('Распределение количества событий по пользователям')\n",
        "plt.ylabel('события')\n",
        "plt.xlabel('пользователи')\n",
        "plt.ylim (0, 200)\n",
        "plt.show()"
      ]
    },
    {
      "cell_type": "code",
      "execution_count": null,
      "metadata": {
        "id": "mKYXgn5jjFxU",
        "outputId": "c85cd944-e670-4aca-adb9-858e6c12c685"
      },
      "outputs": [
        {
          "name": "stdout",
          "output_type": "stream",
          "text": [
            "Минимальная дата: 2019-07-25\n",
            "Максимальная дата: 2019-08-07\n"
          ]
        }
      ],
      "source": [
        "# период данных\n",
        "print('Минимальная дата:', logs['date'].min())\n",
        "print('Максимальная дата:', logs['date'].max())"
      ]
    },
    {
      "cell_type": "code",
      "execution_count": null,
      "metadata": {
        "id": "MVZOB8cRjFxU",
        "outputId": "1bc3894d-a207-41e0-dbc7-ae00aa638abf"
      },
      "outputs": [
        {
          "data": {
            "image/png": "[encoded data removed]",
            "text/plain": [
              "<Figure size 1440x576 with 1 Axes>"
            ]
          },
          "metadata": {
            "needs_background": "light"
          },
          "output_type": "display_data"
        }
      ],
      "source": [
        "plt.figure(figsize=(20, 8))\n",
        "logs['datetime'].hist(bins = 14*24)\n",
        "\n",
        "plt.title('Распределение по дате и времени')\n",
        "plt.ylabel('события')\n",
        "plt.xlabel('дата')\n",
        "\n",
        "plt.show()"
      ]
    },
    {
      "cell_type": "markdown",
      "metadata": {
        "id": "5IdZuJq1jFxV"
      },
      "source": [
        "Данные неполные за весь период. До 01-08-2019 данных было мало, они могут добавляться из прошлого, «доезжать» позднее, и это может исказить дальнейшие результаты. По этой причине лучше отбросить старые данные.\n",
        "Актуальный период исследования: 01-08-2019 - 07-08-2019"
      ]
    },
    {
      "cell_type": "code",
      "execution_count": null,
      "metadata": {
        "id": "lq3OtmZVjFxV",
        "outputId": "f709ae8d-181f-4b9b-eec8-404f7a56c3cd"
      },
      "outputs": [
        {
          "data": {
            "text/html": [
              "<div>\n",
              "<style scoped>\n",
              "    .dataframe tbody tr th:only-of-type {\n",
              "        vertical-align: middle;\n",
              "    }\n",
              "\n",
              "    .dataframe tbody tr th {\n",
              "        vertical-align: top;\n",
              "    }\n",
              "\n",
              "    .dataframe thead th {\n",
              "        text-align: right;\n",
              "    }\n",
              "</style>\n",
              "<table border=\"1\" class=\"dataframe\">\n",
              "  <thead>\n",
              "    <tr style=\"text-align: right;\">\n",
              "      <th></th>\n",
              "      <th>index</th>\n",
              "      <th>name</th>\n",
              "      <th>user_id</th>\n",
              "      <th>timestamp</th>\n",
              "      <th>exp_id</th>\n",
              "      <th>datetime</th>\n",
              "      <th>date</th>\n",
              "    </tr>\n",
              "  </thead>\n",
              "  <tbody>\n",
              "    <tr>\n",
              "      <th>2826</th>\n",
              "      <td>2828</td>\n",
              "      <td>Tutorial</td>\n",
              "      <td>3737462046622621720</td>\n",
              "      <td>1564618048</td>\n",
              "      <td>246</td>\n",
              "      <td>2019-08-01 00:07:28</td>\n",
              "      <td>2019-08-01</td>\n",
              "    </tr>\n",
              "    <tr>\n",
              "      <th>2827</th>\n",
              "      <td>2829</td>\n",
              "      <td>MainScreenAppear</td>\n",
              "      <td>3737462046622621720</td>\n",
              "      <td>1564618080</td>\n",
              "      <td>246</td>\n",
              "      <td>2019-08-01 00:08:00</td>\n",
              "      <td>2019-08-01</td>\n",
              "    </tr>\n",
              "    <tr>\n",
              "      <th>2828</th>\n",
              "      <td>2830</td>\n",
              "      <td>MainScreenAppear</td>\n",
              "      <td>3737462046622621720</td>\n",
              "      <td>1564618135</td>\n",
              "      <td>246</td>\n",
              "      <td>2019-08-01 00:08:55</td>\n",
              "      <td>2019-08-01</td>\n",
              "    </tr>\n",
              "    <tr>\n",
              "      <th>2829</th>\n",
              "      <td>2831</td>\n",
              "      <td>OffersScreenAppear</td>\n",
              "      <td>3737462046622621720</td>\n",
              "      <td>1564618138</td>\n",
              "      <td>246</td>\n",
              "      <td>2019-08-01 00:08:58</td>\n",
              "      <td>2019-08-01</td>\n",
              "    </tr>\n",
              "    <tr>\n",
              "      <th>2830</th>\n",
              "      <td>2832</td>\n",
              "      <td>MainScreenAppear</td>\n",
              "      <td>1433840883824088890</td>\n",
              "      <td>1564618139</td>\n",
              "      <td>247</td>\n",
              "      <td>2019-08-01 00:08:59</td>\n",
              "      <td>2019-08-01</td>\n",
              "    </tr>\n",
              "    <tr>\n",
              "      <th>...</th>\n",
              "      <td>...</td>\n",
              "      <td>...</td>\n",
              "      <td>...</td>\n",
              "      <td>...</td>\n",
              "      <td>...</td>\n",
              "      <td>...</td>\n",
              "      <td>...</td>\n",
              "    </tr>\n",
              "    <tr>\n",
              "      <th>243708</th>\n",
              "      <td>244121</td>\n",
              "      <td>MainScreenAppear</td>\n",
              "      <td>4599628364049201812</td>\n",
              "      <td>1565212345</td>\n",
              "      <td>247</td>\n",
              "      <td>2019-08-07 21:12:25</td>\n",
              "      <td>2019-08-07</td>\n",
              "    </tr>\n",
              "    <tr>\n",
              "      <th>243709</th>\n",
              "      <td>244122</td>\n",
              "      <td>MainScreenAppear</td>\n",
              "      <td>5849806612437486590</td>\n",
              "      <td>1565212439</td>\n",
              "      <td>246</td>\n",
              "      <td>2019-08-07 21:13:59</td>\n",
              "      <td>2019-08-07</td>\n",
              "    </tr>\n",
              "    <tr>\n",
              "      <th>243710</th>\n",
              "      <td>244123</td>\n",
              "      <td>MainScreenAppear</td>\n",
              "      <td>5746969938801999050</td>\n",
              "      <td>1565212483</td>\n",
              "      <td>246</td>\n",
              "      <td>2019-08-07 21:14:43</td>\n",
              "      <td>2019-08-07</td>\n",
              "    </tr>\n",
              "    <tr>\n",
              "      <th>243711</th>\n",
              "      <td>244124</td>\n",
              "      <td>MainScreenAppear</td>\n",
              "      <td>5746969938801999050</td>\n",
              "      <td>1565212498</td>\n",
              "      <td>246</td>\n",
              "      <td>2019-08-07 21:14:58</td>\n",
              "      <td>2019-08-07</td>\n",
              "    </tr>\n",
              "    <tr>\n",
              "      <th>243712</th>\n",
              "      <td>244125</td>\n",
              "      <td>OffersScreenAppear</td>\n",
              "      <td>5746969938801999050</td>\n",
              "      <td>1565212517</td>\n",
              "      <td>246</td>\n",
              "      <td>2019-08-07 21:15:17</td>\n",
              "      <td>2019-08-07</td>\n",
              "    </tr>\n",
              "  </tbody>\n",
              "</table>\n",
              "<p>240887 rows × 7 columns</p>\n",
              "</div>"
            ],
            "text/plain": [
              "         index                name              user_id   timestamp  exp_id  \\\n",
              "2826      2828            Tutorial  3737462046622621720  1564618048     246   \n",
              "2827      2829    MainScreenAppear  3737462046622621720  1564618080     246   \n",
              "2828      2830    MainScreenAppear  3737462046622621720  1564618135     246   \n",
              "2829      2831  OffersScreenAppear  3737462046622621720  1564618138     246   \n",
              "2830      2832    MainScreenAppear  1433840883824088890  1564618139     247   \n",
              "...        ...                 ...                  ...         ...     ...   \n",
              "243708  244121    MainScreenAppear  4599628364049201812  1565212345     247   \n",
              "243709  244122    MainScreenAppear  5849806612437486590  1565212439     246   \n",
              "243710  244123    MainScreenAppear  5746969938801999050  1565212483     246   \n",
              "243711  244124    MainScreenAppear  5746969938801999050  1565212498     246   \n",
              "243712  244125  OffersScreenAppear  5746969938801999050  1565212517     246   \n",
              "\n",
              "                  datetime        date  \n",
              "2826   2019-08-01 00:07:28  2019-08-01  \n",
              "2827   2019-08-01 00:08:00  2019-08-01  \n",
              "2828   2019-08-01 00:08:55  2019-08-01  \n",
              "2829   2019-08-01 00:08:58  2019-08-01  \n",
              "2830   2019-08-01 00:08:59  2019-08-01  \n",
              "...                    ...         ...  \n",
              "243708 2019-08-07 21:12:25  2019-08-07  \n",
              "243709 2019-08-07 21:13:59  2019-08-07  \n",
              "243710 2019-08-07 21:14:43  2019-08-07  \n",
              "243711 2019-08-07 21:14:58  2019-08-07  \n",
              "243712 2019-08-07 21:15:17  2019-08-07  \n",
              "\n",
              "[240887 rows x 7 columns]"
            ]
          },
          "execution_count": 15,
          "metadata": {},
          "output_type": "execute_result"
        }
      ],
      "source": [
        "# срез с данными за актуальный период\n",
        "startdate =  pd.to_datetime('2019-08-01').date()\n",
        "logs_actual = logs.loc[logs['date'] >= startdate]\n",
        "logs_actual"
      ]
    },
    {
      "cell_type": "code",
      "execution_count": null,
      "metadata": {
        "id": "21o4-5wAjFxV",
        "outputId": "1d6f4337-8bce-423e-f25f-2987302d5639"
      },
      "outputs": [
        {
          "name": "stdout",
          "output_type": "stream",
          "text": [
            "Абсолютное количество потерянных событий: 2826\n",
            "Относительное количество потерянных событий: 1.16%\n"
          ]
        }
      ],
      "source": [
        "# потерянные данные\n",
        "logs_lost = logs.loc[logs['date'] < startdate]\n",
        "print('Абсолютное количество потерянных событий:', len(logs_lost))\n",
        "print('Относительное количество потерянных событий: {}%'.format(round(len(logs_lost)/event_count*100, 2)))"
      ]
    },
    {
      "cell_type": "code",
      "execution_count": null,
      "metadata": {
        "id": "I6BNvrqkjFxW",
        "outputId": "f5b5c897-fae5-466e-d72c-4f12c0f67044"
      },
      "outputs": [
        {
          "name": "stdout",
          "output_type": "stream",
          "text": [
            "Абсолютное количество потерянных пользователей: 17\n",
            "Относительное количество потерянных пользователей: 0.23%\n"
          ]
        }
      ],
      "source": [
        "users_lost = logs['user_id'].nunique() - logs_actual['user_id'].nunique()\n",
        "print('Абсолютное количество потерянных пользователей:', users_lost)\n",
        "print('Относительное количество потерянных пользователей: {}%'.format(round(users_lost/user_count*100, 2)))\n"
      ]
    },
    {
      "cell_type": "markdown",
      "metadata": {
        "id": "A3p_QWYwjFxW"
      },
      "source": [
        "После отброса старых данных было потеряно 2826 событий и 17 пользователь."
      ]
    },
    {
      "cell_type": "code",
      "execution_count": null,
      "metadata": {
        "id": "NqwPMjmQjFxW",
        "outputId": "5db5c214-1e40-4827-f5a2-2bcfb9feb59b"
      },
      "outputs": [
        {
          "data": {
            "text/plain": [
              "248    84563\n",
              "246    79302\n",
              "247    77022\n",
              "Name: exp_id, dtype: int64"
            ]
          },
          "execution_count": 18,
          "metadata": {},
          "output_type": "execute_result"
        }
      ],
      "source": [
        "logs_actual['exp_id'].value_counts()"
      ]
    },
    {
      "cell_type": "markdown",
      "metadata": {
        "id": "n15kYjS1jFxX"
      },
      "source": [
        "Во всех экспериментальных группах есть пользователи.\n",
        "\n",
        "## Изучение воронки событий"
      ]
    },
    {
      "cell_type": "code",
      "execution_count": null,
      "metadata": {
        "id": "BAgDxTdejFxX",
        "outputId": "2e3a175f-7647-4480-f4d3-aec87e4cf055"
      },
      "outputs": [
        {
          "data": {
            "text/html": [
              "<div>\n",
              "<style scoped>\n",
              "    .dataframe tbody tr th:only-of-type {\n",
              "        vertical-align: middle;\n",
              "    }\n",
              "\n",
              "    .dataframe tbody tr th {\n",
              "        vertical-align: top;\n",
              "    }\n",
              "\n",
              "    .dataframe thead th {\n",
              "        text-align: right;\n",
              "    }\n",
              "</style>\n",
              "<table border=\"1\" class=\"dataframe\">\n",
              "  <thead>\n",
              "    <tr style=\"text-align: right;\">\n",
              "      <th></th>\n",
              "      <th>name</th>\n",
              "      <th>frequency</th>\n",
              "      <th>per</th>\n",
              "    </tr>\n",
              "  </thead>\n",
              "  <tbody>\n",
              "    <tr>\n",
              "      <th>0</th>\n",
              "      <td>MainScreenAppear</td>\n",
              "      <td>117328</td>\n",
              "      <td>48.7</td>\n",
              "    </tr>\n",
              "    <tr>\n",
              "      <th>1</th>\n",
              "      <td>OffersScreenAppear</td>\n",
              "      <td>46333</td>\n",
              "      <td>19.2</td>\n",
              "    </tr>\n",
              "    <tr>\n",
              "      <th>2</th>\n",
              "      <td>CartScreenAppear</td>\n",
              "      <td>42303</td>\n",
              "      <td>17.6</td>\n",
              "    </tr>\n",
              "    <tr>\n",
              "      <th>3</th>\n",
              "      <td>PaymentScreenSuccessful</td>\n",
              "      <td>33918</td>\n",
              "      <td>14.1</td>\n",
              "    </tr>\n",
              "    <tr>\n",
              "      <th>4</th>\n",
              "      <td>Tutorial</td>\n",
              "      <td>1005</td>\n",
              "      <td>0.4</td>\n",
              "    </tr>\n",
              "  </tbody>\n",
              "</table>\n",
              "</div>"
            ],
            "text/plain": [
              "                      name  frequency   per\n",
              "0         MainScreenAppear     117328  48.7\n",
              "1       OffersScreenAppear      46333  19.2\n",
              "2         CartScreenAppear      42303  17.6\n",
              "3  PaymentScreenSuccessful      33918  14.1\n",
              "4                 Tutorial       1005   0.4"
            ]
          },
          "execution_count": 19,
          "metadata": {},
          "output_type": "execute_result"
        }
      ],
      "source": [
        "# Частота событий, встречающихся в логах\n",
        "events = logs_actual['name'].value_counts().to_frame().reset_index()\n",
        "events.columns = ['name', 'frequency']\n",
        "events['per'] = round((events['frequency']/logs_actual['name'].count() * 100), 1)\n",
        "events"
      ]
    },
    {
      "cell_type": "code",
      "execution_count": null,
      "metadata": {
        "id": "uF9Pxv_JjFxX",
        "outputId": "c5d8ae30-f076-4dd6-f1cc-a52b0304e2ae"
      },
      "outputs": [
        {
          "data": {
            "image/png": "[encoded data removed]",
            "text/plain": [
              "<Figure size 720x360 with 1 Axes>"
            ]
          },
          "metadata": {
            "needs_background": "light"
          },
          "output_type": "display_data"
        }
      ],
      "source": [
        "plt.figure(figsize=(10, 5)) \n",
        "plt.title('Частота событий')\n",
        "sns.barplot(data=events, x='frequency', y = 'name')\n",
        "plt.show()"
      ]
    },
    {
      "cell_type": "markdown",
      "metadata": {
        "id": "om3CUIVUjFxX"
      },
      "source": [
        "Самым частым событием является MainScreenAppear - появление главного экрана, запуск приложения. Самым редким - Tutorial. Не все проходят обучение по пользованию приложением. Неизвестно, в какой момент пользователям предлагается пройти обучение, поэтому дальнейший анализ можно проводить без этого события - этот этап необязательный."
      ]
    },
    {
      "cell_type": "code",
      "execution_count": null,
      "metadata": {
        "id": "cY1riVqqjFxX"
      },
      "outputs": [],
      "source": [
        "logs_actual = logs_actual.query('name != \"Tutorial\"')"
      ]
    },
    {
      "cell_type": "code",
      "execution_count": null,
      "metadata": {
        "id": "ggZBd2T-jFxX",
        "outputId": "74a42510-b553-4b92-e232-c0e8249cb89d"
      },
      "outputs": [
        {
          "data": {
            "text/html": [
              "<div>\n",
              "<style scoped>\n",
              "    .dataframe tbody tr th:only-of-type {\n",
              "        vertical-align: middle;\n",
              "    }\n",
              "\n",
              "    .dataframe tbody tr th {\n",
              "        vertical-align: top;\n",
              "    }\n",
              "\n",
              "    .dataframe thead th {\n",
              "        text-align: right;\n",
              "    }\n",
              "</style>\n",
              "<table border=\"1\" class=\"dataframe\">\n",
              "  <thead>\n",
              "    <tr style=\"text-align: right;\">\n",
              "      <th></th>\n",
              "      <th>users_amount</th>\n",
              "      <th>per</th>\n",
              "    </tr>\n",
              "    <tr>\n",
              "      <th>name</th>\n",
              "      <th></th>\n",
              "      <th></th>\n",
              "    </tr>\n",
              "  </thead>\n",
              "  <tbody>\n",
              "    <tr>\n",
              "      <th>MainScreenAppear</th>\n",
              "      <td>7419</td>\n",
              "      <td>98.5</td>\n",
              "    </tr>\n",
              "    <tr>\n",
              "      <th>OffersScreenAppear</th>\n",
              "      <td>4593</td>\n",
              "      <td>61.0</td>\n",
              "    </tr>\n",
              "    <tr>\n",
              "      <th>CartScreenAppear</th>\n",
              "      <td>3734</td>\n",
              "      <td>49.6</td>\n",
              "    </tr>\n",
              "    <tr>\n",
              "      <th>PaymentScreenSuccessful</th>\n",
              "      <td>3539</td>\n",
              "      <td>47.0</td>\n",
              "    </tr>\n",
              "  </tbody>\n",
              "</table>\n",
              "</div>"
            ],
            "text/plain": [
              "                         users_amount   per\n",
              "name                                       \n",
              "MainScreenAppear                 7419  98.5\n",
              "OffersScreenAppear               4593  61.0\n",
              "CartScreenAppear                 3734  49.6\n",
              "PaymentScreenSuccessful          3539  47.0"
            ]
          },
          "execution_count": 22,
          "metadata": {},
          "output_type": "execute_result"
        }
      ],
      "source": [
        "# Количество пользователей, совершавших каждое событие\n",
        "events_users = (\n",
        "    logs_actual.groupby('name')\n",
        "    .agg({'user_id': 'nunique'})\n",
        "    .sort_values(by = 'user_id', ascending = False)\n",
        ")\n",
        "events_users.columns = ['users_amount']\n",
        "\n",
        "# Доля пользователей, которые хоть раз совершали событие\n",
        "events_users['per'] = round((events_users['users_amount']/logs_actual['user_id'].nunique() * 100), 1)\n",
        "events_users"
      ]
    },
    {
      "cell_type": "code",
      "execution_count": null,
      "metadata": {
        "id": "t2EWHVsLjFxX",
        "outputId": "757693d4-d0cc-492d-a205-e3aacb91d2dc"
      },
      "outputs": [
        {
          "name": "stderr",
          "output_type": "stream",
          "text": [
            "/opt/conda/lib/python3.9/site-packages/pandas/core/indexing.py:1637: SettingWithCopyWarning: \n",
            "A value is trying to be set on a copy of a slice from a DataFrame\n",
            "\n",
            "See the caveats in the documentation: https://pandas.pydata.org/pandas-docs/stable/user_guide/indexing.html#returning-a-view-versus-a-copy\n",
            "  self._setitem_single_block(indexer, value, name)\n"
          ]
        },
        {
          "data": {
            "text/html": [
              "<div>\n",
              "<style scoped>\n",
              "    .dataframe tbody tr th:only-of-type {\n",
              "        vertical-align: middle;\n",
              "    }\n",
              "\n",
              "    .dataframe tbody tr th {\n",
              "        vertical-align: top;\n",
              "    }\n",
              "\n",
              "    .dataframe thead th {\n",
              "        text-align: right;\n",
              "    }\n",
              "</style>\n",
              "<table border=\"1\" class=\"dataframe\">\n",
              "  <thead>\n",
              "    <tr style=\"text-align: right;\">\n",
              "      <th></th>\n",
              "      <th>users_amount</th>\n",
              "      <th>per</th>\n",
              "      <th>part</th>\n",
              "    </tr>\n",
              "    <tr>\n",
              "      <th>name</th>\n",
              "      <th></th>\n",
              "      <th></th>\n",
              "      <th></th>\n",
              "    </tr>\n",
              "  </thead>\n",
              "  <tbody>\n",
              "    <tr>\n",
              "      <th>MainScreenAppear</th>\n",
              "      <td>7419</td>\n",
              "      <td>98.5</td>\n",
              "      <td>100.0</td>\n",
              "    </tr>\n",
              "    <tr>\n",
              "      <th>OffersScreenAppear</th>\n",
              "      <td>4593</td>\n",
              "      <td>61.0</td>\n",
              "      <td>61.9</td>\n",
              "    </tr>\n",
              "    <tr>\n",
              "      <th>CartScreenAppear</th>\n",
              "      <td>3734</td>\n",
              "      <td>49.6</td>\n",
              "      <td>81.3</td>\n",
              "    </tr>\n",
              "    <tr>\n",
              "      <th>PaymentScreenSuccessful</th>\n",
              "      <td>3539</td>\n",
              "      <td>47.0</td>\n",
              "      <td>94.8</td>\n",
              "    </tr>\n",
              "  </tbody>\n",
              "</table>\n",
              "</div>"
            ],
            "text/plain": [
              "                         users_amount   per   part\n",
              "name                                              \n",
              "MainScreenAppear                 7419  98.5  100.0\n",
              "OffersScreenAppear               4593  61.0   61.9\n",
              "CartScreenAppear                 3734  49.6   81.3\n",
              "PaymentScreenSuccessful          3539  47.0   94.8"
            ]
          },
          "execution_count": 23,
          "metadata": {},
          "output_type": "execute_result"
        }
      ],
      "source": [
        "# Доля пользователей, переходящих на следующий шаг воронки (для первого события )\n",
        "events_users['part'] = 100\n",
        "for i in range(1,len(events_users['users_amount'])):\n",
        "    events_users['part'].iloc[i] = round((events_users['users_amount'][i] / events_users['users_amount'][i-1]*100), 1)\n",
        "\n",
        "pd.options.mode.chained_assignment = None #убирает предупреждение цепного значения\n",
        "events_users"
      ]
    },
    {
      "cell_type": "markdown",
      "metadata": {
        "id": "zliFmExpjFxY"
      },
      "source": [
        "1. На первое событие попало 98,5%. Значит, что небольшая часть пользователей не запустила приложение. Возможно, есть проблемы с запуском, либо пользователи могли перейти из поисковой строки, рассылки и т.д.\n",
        "2. На второе событие попал 61% пользователей. Здесь происходит самая большая потеря пользователей - 38,1%.\n",
        "3. На третье событие попадает 49,6% пользователей и 47% успешно совершает оплату - последнее событие. На этих этапах потеря минимальная - 19% и 6%.\n",
        "\n",
        "Таким образом, 47% пользователей доходит от первого события до оплаты.\n",
        "\n"
      ]
    },
    {
      "cell_type": "markdown",
      "metadata": {
        "id": "5gD9p7p8jFxY"
      },
      "source": [
        "## Изучение результатов эксперимента"
      ]
    },
    {
      "cell_type": "code",
      "execution_count": null,
      "metadata": {
        "id": "y9r6PKlvjFxY",
        "outputId": "c0fcfa47-2a01-4b80-cdaa-6df9b3cad26e"
      },
      "outputs": [
        {
          "name": "stdout",
          "output_type": "stream",
          "text": [
            "Количество уникальных пользователей в 246 группе: 2483\n",
            "Количество уникальных пользователей в 247 группе: 2512\n",
            "Количество уникальных пользователей в 248 группе: 2535\n"
          ]
        }
      ],
      "source": [
        "# количество пользователей в экспериментальных группах\n",
        "group246 = (logs_actual.query('exp_id == 246')['user_id'].nunique())\n",
        "group247 = (logs_actual.query('exp_id == 247')['user_id'].nunique())\n",
        "group248 = (logs_actual.query('exp_id == 248')['user_id'].nunique())\n",
        "print('Количество уникальных пользователей в 246 группе:', group246)\n",
        "print('Количество уникальных пользователей в 247 группе:', group247)\n",
        "print('Количество уникальных пользователей в 248 группе:', group248)"
      ]
    },
    {
      "cell_type": "markdown",
      "metadata": {
        "id": "1uJugIScjFxZ"
      },
      "source": [
        "Количество пользователей примерно одинаково, поэтому можно считать группы сбалансированными.\n",
        "246 и 247 — контрольные группы, а 248 — экспериментальная."
      ]
    },
    {
      "cell_type": "code",
      "execution_count": null,
      "metadata": {
        "id": "f8aOdUvGjFxZ"
      },
      "outputs": [],
      "source": [
        "# Функция для проверки гипотез\n",
        "def test_hypo(success1, success2, trials1, trials2, alpha):\n",
        "    \n",
        "    alpha = alpha\n",
        "   \n",
        "    p1 = success1 / trials1\n",
        "    p2 = success2 / trials2\n",
        "    \n",
        "    p = (success1 + success2) / (trials1 + trials2)\n",
        " \n",
        "    difference = p1 - p2\n",
        "    z_value = difference / mth.sqrt(p *(1-p) * (1/trials1 + 1/trials2))\n",
        "    distr = stats.norm(0, 1) \n",
        "    p_value = (1 - distr.cdf(abs(z_value))) * 2\n",
        "    \n",
        "    print('p-значение: ', p_value)\n",
        "    if (p_value < alpha):\n",
        "        print(\"Отвергаем нулевую гипотезу: между группами есть значимая разница\")\n",
        "    else:\n",
        "        print(\"Не получилось отвергнуть нулевую гипотезу, нет оснований считать группы разными\")"
      ]
    },
    {
      "cell_type": "code",
      "execution_count": null,
      "metadata": {
        "id": "x5C0GbiHjFxZ",
        "outputId": "1e88b750-97ff-4ce2-8272-2a4e04f72c72"
      },
      "outputs": [
        {
          "data": {
            "text/html": [
              "<div>\n",
              "<style scoped>\n",
              "    .dataframe tbody tr th:only-of-type {\n",
              "        vertical-align: middle;\n",
              "    }\n",
              "\n",
              "    .dataframe tbody tr th {\n",
              "        vertical-align: top;\n",
              "    }\n",
              "\n",
              "    .dataframe thead th {\n",
              "        text-align: right;\n",
              "    }\n",
              "</style>\n",
              "<table border=\"1\" class=\"dataframe\">\n",
              "  <thead>\n",
              "    <tr style=\"text-align: right;\">\n",
              "      <th>exp_id</th>\n",
              "      <th>246</th>\n",
              "      <th>247</th>\n",
              "      <th>248</th>\n",
              "    </tr>\n",
              "    <tr>\n",
              "      <th>name</th>\n",
              "      <th></th>\n",
              "      <th></th>\n",
              "      <th></th>\n",
              "    </tr>\n",
              "  </thead>\n",
              "  <tbody>\n",
              "    <tr>\n",
              "      <th>MainScreenAppear</th>\n",
              "      <td>2450</td>\n",
              "      <td>2476</td>\n",
              "      <td>2493</td>\n",
              "    </tr>\n",
              "    <tr>\n",
              "      <th>OffersScreenAppear</th>\n",
              "      <td>1542</td>\n",
              "      <td>1520</td>\n",
              "      <td>1531</td>\n",
              "    </tr>\n",
              "    <tr>\n",
              "      <th>CartScreenAppear</th>\n",
              "      <td>1266</td>\n",
              "      <td>1238</td>\n",
              "      <td>1230</td>\n",
              "    </tr>\n",
              "    <tr>\n",
              "      <th>PaymentScreenSuccessful</th>\n",
              "      <td>1200</td>\n",
              "      <td>1158</td>\n",
              "      <td>1181</td>\n",
              "    </tr>\n",
              "  </tbody>\n",
              "</table>\n",
              "</div>"
            ],
            "text/plain": [
              "exp_id                    246   247   248\n",
              "name                                     \n",
              "MainScreenAppear         2450  2476  2493\n",
              "OffersScreenAppear       1542  1520  1531\n",
              "CartScreenAppear         1266  1238  1230\n",
              "PaymentScreenSuccessful  1200  1158  1181"
            ]
          },
          "execution_count": 26,
          "metadata": {},
          "output_type": "execute_result"
        }
      ],
      "source": [
        "# Сводная таблица с количеством пользователей в каждой группе по событиям\n",
        "users_groups = (\n",
        "    logs_actual\n",
        "    .pivot_table(index='name', columns='exp_id', values='user_id', aggfunc = 'nunique')\n",
        "    .sort_values(246, ascending=False)\n",
        ")\n",
        "users_groups"
      ]
    },
    {
      "cell_type": "markdown",
      "metadata": {
        "id": "F8j3Uy6rjFxZ"
      },
      "source": [
        "Проведем A/A-тестирование для проверки корректности всех механизмов и расчётов. Уровень значимость выбран 0,05, потребуется 4 проверки статистических гипотез.\n",
        "\n",
        "**Нулевая гипотеза**: доли уникальных посетителей, побывавших на этапе воронки, одинаковы.\n",
        "\n",
        "**Альтенативная гипотеза**: между долями уникальных посетителей, побывавших на этапе воронки, есть значимая разница."
      ]
    },
    {
      "cell_type": "code",
      "execution_count": null,
      "metadata": {
        "id": "LrKYErk2jFxa",
        "outputId": "cb60d7f2-6f1b-4f8a-bbee-5513d8a25766"
      },
      "outputs": [
        {
          "name": "stdout",
          "output_type": "stream",
          "text": [
            "Проверка для события MainScreenAppear :\n",
            "p-значение:  0.7526703436483038\n",
            "Не получилось отвергнуть нулевую гипотезу, нет оснований считать группы разными\n",
            "\n",
            "Проверка для события OffersScreenAppear :\n",
            "p-значение:  0.24786096925282264\n",
            "Не получилось отвергнуть нулевую гипотезу, нет оснований считать группы разными\n",
            "\n",
            "Проверка для события CartScreenAppear :\n",
            "p-значение:  0.22867643757335676\n",
            "Не получилось отвергнуть нулевую гипотезу, нет оснований считать группы разными\n",
            "\n",
            "Проверка для события PaymentScreenSuccessful :\n",
            "p-значение:  0.11446627829276612\n",
            "Не получилось отвергнуть нулевую гипотезу, нет оснований считать группы разными\n",
            "\n"
          ]
        }
      ],
      "source": [
        "# сравнение групп 246 и 247\n",
        "for name in users_groups.index:\n",
        "    print('Проверка для события', name, ':')\n",
        "    test_hypo(users_groups.loc[name, 246], users_groups.loc[name, 247], group246, group247, 0.05)\n",
        "    print()"
      ]
    },
    {
      "cell_type": "markdown",
      "metadata": {
        "id": "hc0Uzgy8jFxa"
      },
      "source": [
        "Между группами 246 и 247 нет разницы по каждому событию. Разбиение на группы работает корректно.\n",
        "\n",
        "Проанализируем результаты A/B-теста с использованием тех же гипотез."
      ]
    },
    {
      "cell_type": "code",
      "execution_count": null,
      "metadata": {
        "id": "3kvjJM0pjFxa",
        "outputId": "189d6930-8c48-4565-de6e-9b37528efb1c"
      },
      "outputs": [
        {
          "name": "stdout",
          "output_type": "stream",
          "text": [
            "Проверка для события MainScreenAppear :\n",
            "p-значение:  0.3387114076159288\n",
            "Не получилось отвергнуть нулевую гипотезу, нет оснований считать группы разными\n",
            "\n",
            "Проверка для события OffersScreenAppear :\n",
            "p-значение:  0.21442476639710506\n",
            "Не получилось отвергнуть нулевую гипотезу, нет оснований считать группы разными\n",
            "\n",
            "Проверка для события CartScreenAppear :\n",
            "p-значение:  0.08067367598823139\n",
            "Не получилось отвергнуть нулевую гипотезу, нет оснований считать группы разными\n",
            "\n",
            "Проверка для события PaymentScreenSuccessful :\n",
            "p-значение:  0.21693033984516674\n",
            "Не получилось отвергнуть нулевую гипотезу, нет оснований считать группы разными\n",
            "\n"
          ]
        }
      ],
      "source": [
        "# сравнение групп 246 и 248\n",
        "for name in users_groups.index:\n",
        "    print('Проверка для события', name, ':')\n",
        "    test_hypo(users_groups.loc[name, 246], users_groups.loc[name, 248], group246, group248, 0.05)\n",
        "    print()"
      ]
    },
    {
      "cell_type": "code",
      "execution_count": null,
      "metadata": {
        "id": "-wLaALiEjFxa",
        "outputId": "3c0e7ec0-0f34-4e28-bd82-12ec6f3730d3"
      },
      "outputs": [
        {
          "name": "stdout",
          "output_type": "stream",
          "text": [
            "Проверка для события MainScreenAppear :\n",
            "p-значение:  0.5194964354051703\n",
            "Не получилось отвергнуть нулевую гипотезу, нет оснований считать группы разными\n",
            "\n",
            "Проверка для события OffersScreenAppear :\n",
            "p-значение:  0.9333751305879443\n",
            "Не получилось отвергнуть нулевую гипотезу, нет оснований считать группы разными\n",
            "\n",
            "Проверка для события CartScreenAppear :\n",
            "p-значение:  0.5878284605111943\n",
            "Не получилось отвергнуть нулевую гипотезу, нет оснований считать группы разными\n",
            "\n",
            "Проверка для события PaymentScreenSuccessful :\n",
            "p-значение:  0.7275718682261119\n",
            "Не получилось отвергнуть нулевую гипотезу, нет оснований считать группы разными\n",
            "\n"
          ]
        }
      ],
      "source": [
        "# сравнение групп 247 и 248\n",
        "for name in users_groups.index:\n",
        "    print('Проверка для события', name, ':')\n",
        "    test_hypo(users_groups.loc[name, 247], users_groups.loc[name, 248], group247, group248, 0.05)\n",
        "    print()"
      ]
    },
    {
      "cell_type": "markdown",
      "metadata": {
        "id": "zDg3Tz2FjFxb"
      },
      "source": [
        "Разницы между сравнением 246 и 248 групп и 247 и 248 групп нет. \n",
        "\n",
        "Объединим контрольные группы 246 и 247, после чего сравним с 248 группой."
      ]
    },
    {
      "cell_type": "code",
      "execution_count": null,
      "metadata": {
        "id": "3QqMtwvsjFxb",
        "outputId": "7e5fc273-1619-41eb-c5bd-a9295454c337"
      },
      "outputs": [
        {
          "data": {
            "text/html": [
              "<div>\n",
              "<style scoped>\n",
              "    .dataframe tbody tr th:only-of-type {\n",
              "        vertical-align: middle;\n",
              "    }\n",
              "\n",
              "    .dataframe tbody tr th {\n",
              "        vertical-align: top;\n",
              "    }\n",
              "\n",
              "    .dataframe thead th {\n",
              "        text-align: right;\n",
              "    }\n",
              "</style>\n",
              "<table border=\"1\" class=\"dataframe\">\n",
              "  <thead>\n",
              "    <tr style=\"text-align: right;\">\n",
              "      <th>exp_id</th>\n",
              "      <th>246</th>\n",
              "      <th>247</th>\n",
              "      <th>248</th>\n",
              "      <th>246+247</th>\n",
              "    </tr>\n",
              "    <tr>\n",
              "      <th>name</th>\n",
              "      <th></th>\n",
              "      <th></th>\n",
              "      <th></th>\n",
              "      <th></th>\n",
              "    </tr>\n",
              "  </thead>\n",
              "  <tbody>\n",
              "    <tr>\n",
              "      <th>MainScreenAppear</th>\n",
              "      <td>2450</td>\n",
              "      <td>2476</td>\n",
              "      <td>2493</td>\n",
              "      <td>4926</td>\n",
              "    </tr>\n",
              "    <tr>\n",
              "      <th>OffersScreenAppear</th>\n",
              "      <td>1542</td>\n",
              "      <td>1520</td>\n",
              "      <td>1531</td>\n",
              "      <td>3062</td>\n",
              "    </tr>\n",
              "    <tr>\n",
              "      <th>CartScreenAppear</th>\n",
              "      <td>1266</td>\n",
              "      <td>1238</td>\n",
              "      <td>1230</td>\n",
              "      <td>2504</td>\n",
              "    </tr>\n",
              "    <tr>\n",
              "      <th>PaymentScreenSuccessful</th>\n",
              "      <td>1200</td>\n",
              "      <td>1158</td>\n",
              "      <td>1181</td>\n",
              "      <td>2358</td>\n",
              "    </tr>\n",
              "  </tbody>\n",
              "</table>\n",
              "</div>"
            ],
            "text/plain": [
              "exp_id                    246   247   248  246+247\n",
              "name                                              \n",
              "MainScreenAppear         2450  2476  2493     4926\n",
              "OffersScreenAppear       1542  1520  1531     3062\n",
              "CartScreenAppear         1266  1238  1230     2504\n",
              "PaymentScreenSuccessful  1200  1158  1181     2358"
            ]
          },
          "execution_count": 30,
          "metadata": {},
          "output_type": "execute_result"
        }
      ],
      "source": [
        "# Общее количество из групп 246 и 247\n",
        "group246_247 = group246 + group247\n",
        "\n",
        "# Добавление объединенной группы\n",
        "users_groups['246+247'] = users_groups[[246,247]].sum(axis=1)\n",
        "users_groups"
      ]
    },
    {
      "cell_type": "code",
      "execution_count": null,
      "metadata": {
        "id": "Yaa5hMzOjFxb",
        "outputId": "1a856ec6-64d7-4666-ffb8-c192dd4627c3"
      },
      "outputs": [
        {
          "name": "stdout",
          "output_type": "stream",
          "text": [
            "Проверка для события MainScreenAppear :\n",
            "p-значение:  0.3486684291093256\n",
            "Не получилось отвергнуть нулевую гипотезу, нет оснований считать группы разными\n",
            "\n",
            "Проверка для события OffersScreenAppear :\n",
            "p-значение:  0.44582745409482394\n",
            "Не получилось отвергнуть нулевую гипотезу, нет оснований считать группы разными\n",
            "\n",
            "Проверка для события CartScreenAppear :\n",
            "p-значение:  0.18683558686831558\n",
            "Не получилось отвергнуть нулевую гипотезу, нет оснований считать группы разными\n",
            "\n",
            "Проверка для события PaymentScreenSuccessful :\n",
            "p-значение:  0.6107918742187335\n",
            "Не получилось отвергнуть нулевую гипотезу, нет оснований считать группы разными\n",
            "\n"
          ]
        }
      ],
      "source": [
        "# сравнение объединенной и экспериментальной групп \n",
        "for name in users_groups.index:\n",
        "    print('Проверка для события', name, ':')\n",
        "    test_hypo(users_groups.loc[name, '246+247'], users_groups.loc[name, 248], group246_247, group248, 0.05)\n",
        "    print()"
      ]
    },
    {
      "cell_type": "markdown",
      "metadata": {
        "id": "g3JXxAIjjFxb"
      },
      "source": [
        "Разницы между сравнением объединенной и экспериментальной групп нет. "
      ]
    },
    {
      "cell_type": "markdown",
      "metadata": {
        "id": "oPVGhpDujFxc"
      },
      "source": [
        "При множественной проверке гипотез растет вероятность ошибки первого рода - растет вероятность получения ложноположительного результата. Воспользуемся поправкой Бонферрони, чтобы пересчитать уровень значимости. Для этого потребуется поделить изначальный уровень значимости на общее число тестов. В исследовании было проведено 4 А/A-теста и 12 A/B-тестов. \n",
        "Значит, всего было проведено 16 тестов:"
      ]
    },
    {
      "cell_type": "code",
      "execution_count": null,
      "metadata": {
        "id": "Kr6uquZVjFxc",
        "outputId": "79f61a76-6075-4d69-ecc3-fac7eae92d48"
      },
      "outputs": [
        {
          "data": {
            "text/plain": [
              "0.003125"
            ]
          },
          "execution_count": 32,
          "metadata": {},
          "output_type": "execute_result"
        }
      ],
      "source": [
        "0.05/16"
      ]
    },
    {
      "cell_type": "markdown",
      "metadata": {
        "id": "yvj2LoWejFxc"
      },
      "source": [
        "Перепроверим результаты, используя новый уровень значимости - 0.003125."
      ]
    },
    {
      "cell_type": "code",
      "execution_count": null,
      "metadata": {
        "id": "FdCzETH0jFxd",
        "outputId": "d9149e69-24e0-4dd7-b478-a439a29202d7"
      },
      "outputs": [
        {
          "name": "stdout",
          "output_type": "stream",
          "text": [
            "Проверка для события MainScreenAppear :\n",
            "p-значение:  0.7526703436483038\n",
            "Не получилось отвергнуть нулевую гипотезу, нет оснований считать группы разными\n",
            "\n",
            "Проверка для события OffersScreenAppear :\n",
            "p-значение:  0.24786096925282264\n",
            "Не получилось отвергнуть нулевую гипотезу, нет оснований считать группы разными\n",
            "\n",
            "Проверка для события CartScreenAppear :\n",
            "p-значение:  0.22867643757335676\n",
            "Не получилось отвергнуть нулевую гипотезу, нет оснований считать группы разными\n",
            "\n",
            "Проверка для события PaymentScreenSuccessful :\n",
            "p-значение:  0.11446627829276612\n",
            "Не получилось отвергнуть нулевую гипотезу, нет оснований считать группы разными\n",
            "\n"
          ]
        }
      ],
      "source": [
        "# сравнение групп 246 и 247\n",
        "for name in users_groups.index:\n",
        "    print('Проверка для события', name, ':')\n",
        "    test_hypo(users_groups.loc[name, 246], users_groups.loc[name, 247], group246, group247, 0.003125)\n",
        "    print()"
      ]
    },
    {
      "cell_type": "code",
      "execution_count": null,
      "metadata": {
        "id": "cLQp3hCQjFxd",
        "outputId": "17943cb7-fee5-4c43-bf60-b7e169d79c05"
      },
      "outputs": [
        {
          "name": "stdout",
          "output_type": "stream",
          "text": [
            "Проверка для события MainScreenAppear :\n",
            "p-значение:  0.3387114076159288\n",
            "Не получилось отвергнуть нулевую гипотезу, нет оснований считать группы разными\n",
            "\n",
            "Проверка для события OffersScreenAppear :\n",
            "p-значение:  0.21442476639710506\n",
            "Не получилось отвергнуть нулевую гипотезу, нет оснований считать группы разными\n",
            "\n",
            "Проверка для события CartScreenAppear :\n",
            "p-значение:  0.08067367598823139\n",
            "Не получилось отвергнуть нулевую гипотезу, нет оснований считать группы разными\n",
            "\n",
            "Проверка для события PaymentScreenSuccessful :\n",
            "p-значение:  0.21693033984516674\n",
            "Не получилось отвергнуть нулевую гипотезу, нет оснований считать группы разными\n",
            "\n"
          ]
        }
      ],
      "source": [
        "# сравнение групп 246 и 248\n",
        "for name in users_groups.index:\n",
        "    print('Проверка для события', name, ':')\n",
        "    test_hypo(users_groups.loc[name, 246], users_groups.loc[name, 248], group246, group248, 0.003125)\n",
        "    print()"
      ]
    },
    {
      "cell_type": "code",
      "execution_count": null,
      "metadata": {
        "id": "ptgL4Sk3jFxd",
        "outputId": "f0357537-8a6d-4be3-e905-d5d687419686"
      },
      "outputs": [
        {
          "name": "stdout",
          "output_type": "stream",
          "text": [
            "Проверка для события MainScreenAppear :\n",
            "p-значение:  0.5194964354051703\n",
            "Не получилось отвергнуть нулевую гипотезу, нет оснований считать группы разными\n",
            "\n",
            "Проверка для события OffersScreenAppear :\n",
            "p-значение:  0.9333751305879443\n",
            "Не получилось отвергнуть нулевую гипотезу, нет оснований считать группы разными\n",
            "\n",
            "Проверка для события CartScreenAppear :\n",
            "p-значение:  0.5878284605111943\n",
            "Не получилось отвергнуть нулевую гипотезу, нет оснований считать группы разными\n",
            "\n",
            "Проверка для события PaymentScreenSuccessful :\n",
            "p-значение:  0.7275718682261119\n",
            "Не получилось отвергнуть нулевую гипотезу, нет оснований считать группы разными\n",
            "\n"
          ]
        }
      ],
      "source": [
        "# сравнение групп 247 и 248\n",
        "for name in users_groups.index:\n",
        "    print('Проверка для события', name, ':')\n",
        "    test_hypo(users_groups.loc[name, 247], users_groups.loc[name, 248], group247, group248, 0.003125)\n",
        "    print()"
      ]
    },
    {
      "cell_type": "code",
      "execution_count": null,
      "metadata": {
        "id": "X8QfEYBjjFxd",
        "outputId": "2f16f121-244d-49b4-f8ea-f93952aa8df1"
      },
      "outputs": [
        {
          "name": "stdout",
          "output_type": "stream",
          "text": [
            "Проверка для события MainScreenAppear :\n",
            "p-значение:  0.3486684291093256\n",
            "Не получилось отвергнуть нулевую гипотезу, нет оснований считать группы разными\n",
            "\n",
            "Проверка для события OffersScreenAppear :\n",
            "p-значение:  0.44582745409482394\n",
            "Не получилось отвергнуть нулевую гипотезу, нет оснований считать группы разными\n",
            "\n",
            "Проверка для события CartScreenAppear :\n",
            "p-значение:  0.18683558686831558\n",
            "Не получилось отвергнуть нулевую гипотезу, нет оснований считать группы разными\n",
            "\n",
            "Проверка для события PaymentScreenSuccessful :\n",
            "p-значение:  0.6107918742187335\n",
            "Не получилось отвергнуть нулевую гипотезу, нет оснований считать группы разными\n",
            "\n"
          ]
        }
      ],
      "source": [
        "# сравнение объединенной и экспериментальной групп \n",
        "for name in users_groups.index:\n",
        "    print('Проверка для события', name, ':')\n",
        "    test_hypo(users_groups.loc[name, '246+247'], users_groups.loc[name, 248], group246_247, group248, 0.003125)\n",
        "    print()"
      ]
    },
    {
      "cell_type": "markdown",
      "metadata": {
        "id": "URaimdCZjFxd"
      },
      "source": [
        "После поправки Бонферрони в сравнениях групп не оказалось разницы. Значит, изменения не влияют на пользователей.\n",
        "\n",
        "## Вывод\n",
        "\n",
        "Перед исследование были получены логи событий мобильного приложения. Период исследования: 01-08-2019 - 07-08-2019. \n",
        "\n",
        "После предобработки и изучения воронки событий сделаны выводы о том, что: \n",
        "1. В среднем на пользователя приходится 32 события. \n",
        "2. После удаления неактуальных данных было потеряно небольшое количество пользователей и событий.\n",
        "3. Самым частым событием является MainScreenAppear - появление главного экрана, событие составило 48,9% от общего количества событий. \n",
        "4. Самое редкое событие - Tutorial. Событие составило 0,4% от общего количества событий. Этап необязательный, поэтому он был удален. \n",
        "5. Больше всего пользователей теряется на этапе OffersScreenAppear о предложении покупки, потеря составляет 37%. \n",
        "6. От первого события до последнего доходит 47% пользователей. Это хороший результат, но следует провести дополнительное исследование по причинам потери пользователей и повысить показатели.\n",
        "\n",
        "После анализа результатов A/A-тестирования можно сделать вывод о том, что группы были разбиты корректно. \n",
        "\n",
        "A/B-тест показал, что изменение шрифтов во всем приложении никак не повлияли на пользователей, проблем не возникло. Значит, можно поменять шрифты, но это будет иметь нейтральный эффект - показатели воронки событий не изменятся."
      ]
    }
  ],
  "metadata": {
    "ExecuteTimeLog": [
      {
        "duration": 1230,
        "start_time": "2023-03-03T19:20:37.662Z"
      },
      {
        "duration": 920,
        "start_time": "2023-03-03T19:21:06.770Z"
      },
      {
        "duration": 41,
        "start_time": "2023-03-03T19:21:22.495Z"
      },
      {
        "duration": 284,
        "start_time": "2023-03-03T19:21:30.869Z"
      },
      {
        "duration": 55,
        "start_time": "2023-03-03T19:36:27.846Z"
      },
      {
        "duration": 293,
        "start_time": "2023-03-03T19:36:34.620Z"
      },
      {
        "duration": 49,
        "start_time": "2023-03-03T19:38:43.439Z"
      },
      {
        "duration": 248,
        "start_time": "2023-03-03T19:39:27.483Z"
      },
      {
        "duration": 143,
        "start_time": "2023-03-03T19:40:18.430Z"
      },
      {
        "duration": 144,
        "start_time": "2023-03-03T19:40:36.286Z"
      },
      {
        "duration": 3,
        "start_time": "2023-03-03T19:46:05.195Z"
      },
      {
        "duration": 6,
        "start_time": "2023-03-03T19:46:10.895Z"
      },
      {
        "duration": 18,
        "start_time": "2023-03-03T19:46:26.168Z"
      },
      {
        "duration": 7,
        "start_time": "2023-03-03T20:31:44.074Z"
      },
      {
        "duration": 18,
        "start_time": "2023-03-03T20:31:45.018Z"
      },
      {
        "duration": 3,
        "start_time": "2023-03-03T20:31:55.519Z"
      },
      {
        "duration": 144,
        "start_time": "2023-03-03T20:31:55.953Z"
      },
      {
        "duration": 7,
        "start_time": "2023-03-03T20:31:56.756Z"
      },
      {
        "duration": 17,
        "start_time": "2023-03-03T20:31:57.852Z"
      },
      {
        "duration": 89,
        "start_time": "2023-03-03T20:32:54.307Z"
      },
      {
        "duration": 10,
        "start_time": "2023-03-03T20:33:07.953Z"
      },
      {
        "duration": 30,
        "start_time": "2023-03-03T20:34:16.468Z"
      },
      {
        "duration": 10,
        "start_time": "2023-03-03T20:34:24.620Z"
      },
      {
        "duration": 8,
        "start_time": "2023-03-03T20:37:55.387Z"
      },
      {
        "duration": 12,
        "start_time": "2023-03-03T20:37:55.909Z"
      },
      {
        "duration": 72,
        "start_time": "2023-03-03T20:38:31.740Z"
      },
      {
        "duration": 15,
        "start_time": "2023-03-03T20:39:34.806Z"
      },
      {
        "duration": 73,
        "start_time": "2023-03-03T20:41:05.779Z"
      },
      {
        "duration": 14,
        "start_time": "2023-03-03T20:41:06.474Z"
      },
      {
        "duration": 12,
        "start_time": "2023-03-03T20:41:26.573Z"
      },
      {
        "duration": 23,
        "start_time": "2023-03-03T20:41:56.085Z"
      },
      {
        "duration": 21,
        "start_time": "2023-03-03T20:42:17.063Z"
      },
      {
        "duration": 81,
        "start_time": "2023-03-03T20:42:33.884Z"
      },
      {
        "duration": 106,
        "start_time": "2023-03-03T20:43:35.023Z"
      },
      {
        "duration": 172,
        "start_time": "2023-03-03T20:43:53.838Z"
      },
      {
        "duration": 166,
        "start_time": "2023-03-03T20:44:02.255Z"
      },
      {
        "duration": 25,
        "start_time": "2023-03-03T20:46:16.700Z"
      },
      {
        "duration": 9,
        "start_time": "2023-03-03T20:46:45.264Z"
      },
      {
        "duration": 10,
        "start_time": "2023-03-03T20:50:55.618Z"
      },
      {
        "duration": 4,
        "start_time": "2023-03-03T20:51:00.770Z"
      },
      {
        "duration": 6,
        "start_time": "2023-03-03T20:51:15.962Z"
      },
      {
        "duration": 9,
        "start_time": "2023-03-03T20:52:14.609Z"
      },
      {
        "duration": 11,
        "start_time": "2023-03-03T20:52:19.240Z"
      },
      {
        "duration": 8,
        "start_time": "2023-03-03T20:52:56.269Z"
      },
      {
        "duration": 11,
        "start_time": "2023-03-03T20:53:35.613Z"
      },
      {
        "duration": 8,
        "start_time": "2023-03-03T20:53:36.667Z"
      },
      {
        "duration": 7,
        "start_time": "2023-03-03T20:53:44.534Z"
      },
      {
        "duration": 3,
        "start_time": "2023-03-03T20:54:13.982Z"
      },
      {
        "duration": 71,
        "start_time": "2023-03-03T20:54:24.400Z"
      },
      {
        "duration": 4,
        "start_time": "2023-03-03T20:54:29.224Z"
      },
      {
        "duration": 20,
        "start_time": "2023-03-03T20:55:53.217Z"
      },
      {
        "duration": 13,
        "start_time": "2023-03-03T20:55:59.891Z"
      },
      {
        "duration": 23,
        "start_time": "2023-03-03T20:56:30.500Z"
      },
      {
        "duration": 22,
        "start_time": "2023-03-03T20:56:55.666Z"
      },
      {
        "duration": 32,
        "start_time": "2023-03-03T20:57:40.074Z"
      },
      {
        "duration": 226,
        "start_time": "2023-03-03T21:16:05.422Z"
      },
      {
        "duration": 55,
        "start_time": "2023-03-03T21:17:03.884Z"
      },
      {
        "duration": 102,
        "start_time": "2023-03-03T21:17:07.772Z"
      },
      {
        "duration": 158,
        "start_time": "2023-03-03T21:18:13.995Z"
      },
      {
        "duration": 192,
        "start_time": "2023-03-03T21:20:34.503Z"
      },
      {
        "duration": 184,
        "start_time": "2023-03-03T21:20:52.788Z"
      },
      {
        "duration": 213,
        "start_time": "2023-03-03T21:20:58.557Z"
      },
      {
        "duration": 187,
        "start_time": "2023-03-03T21:21:06.616Z"
      },
      {
        "duration": 211,
        "start_time": "2023-03-03T21:21:13.140Z"
      },
      {
        "duration": 191,
        "start_time": "2023-03-03T22:13:41.818Z"
      },
      {
        "duration": 337,
        "start_time": "2023-03-03T22:14:38.555Z"
      },
      {
        "duration": 217,
        "start_time": "2023-03-03T22:14:43.926Z"
      },
      {
        "duration": 220,
        "start_time": "2023-03-03T22:15:03.608Z"
      },
      {
        "duration": 484,
        "start_time": "2023-03-03T22:15:34.789Z"
      },
      {
        "duration": 403,
        "start_time": "2023-03-03T22:15:41.510Z"
      },
      {
        "duration": 196,
        "start_time": "2023-03-03T22:15:56.834Z"
      },
      {
        "duration": 200,
        "start_time": "2023-03-03T22:16:04.817Z"
      },
      {
        "duration": 178,
        "start_time": "2023-03-03T22:18:19.685Z"
      },
      {
        "duration": 219,
        "start_time": "2023-03-03T22:18:53.911Z"
      },
      {
        "duration": 6,
        "start_time": "2023-03-03T22:18:58.838Z"
      },
      {
        "duration": 974,
        "start_time": "2023-03-03T22:19:19.885Z"
      },
      {
        "duration": 151,
        "start_time": "2023-03-03T22:19:20.861Z"
      },
      {
        "duration": 9,
        "start_time": "2023-03-03T22:19:21.013Z"
      },
      {
        "duration": 24,
        "start_time": "2023-03-03T22:19:21.023Z"
      },
      {
        "duration": 69,
        "start_time": "2023-03-03T22:19:21.050Z"
      },
      {
        "duration": 20,
        "start_time": "2023-03-03T22:19:21.121Z"
      },
      {
        "duration": 19,
        "start_time": "2023-03-03T22:19:21.143Z"
      },
      {
        "duration": 101,
        "start_time": "2023-03-03T22:19:21.163Z"
      },
      {
        "duration": 169,
        "start_time": "2023-03-03T22:19:21.265Z"
      },
      {
        "duration": 17,
        "start_time": "2023-03-03T22:19:21.436Z"
      },
      {
        "duration": 22,
        "start_time": "2023-03-03T22:19:21.454Z"
      },
      {
        "duration": 299,
        "start_time": "2023-03-03T22:19:21.477Z"
      },
      {
        "duration": 13,
        "start_time": "2023-03-03T22:19:21.777Z"
      },
      {
        "duration": 255,
        "start_time": "2023-03-03T22:21:47.819Z"
      },
      {
        "duration": 20,
        "start_time": "2023-03-03T22:23:08.853Z"
      },
      {
        "duration": 34,
        "start_time": "2023-03-03T22:23:15.627Z"
      },
      {
        "duration": 18,
        "start_time": "2023-03-03T22:25:12.985Z"
      },
      {
        "duration": 12,
        "start_time": "2023-03-03T22:25:21.717Z"
      },
      {
        "duration": 741,
        "start_time": "2023-03-03T22:29:16.630Z"
      },
      {
        "duration": 707,
        "start_time": "2023-03-03T22:29:34.480Z"
      },
      {
        "duration": 11,
        "start_time": "2023-03-03T22:29:41.846Z"
      },
      {
        "duration": 4,
        "start_time": "2023-03-03T22:30:05.548Z"
      },
      {
        "duration": 4,
        "start_time": "2023-03-03T22:30:10.464Z"
      },
      {
        "duration": 5,
        "start_time": "2023-03-03T22:30:18.925Z"
      },
      {
        "duration": 5,
        "start_time": "2023-03-03T22:31:29.628Z"
      },
      {
        "duration": 3,
        "start_time": "2023-03-03T22:31:32.712Z"
      },
      {
        "duration": 3,
        "start_time": "2023-03-03T22:31:37.428Z"
      },
      {
        "duration": 5,
        "start_time": "2023-03-03T22:32:01.211Z"
      },
      {
        "duration": 4,
        "start_time": "2023-03-03T22:32:04.803Z"
      },
      {
        "duration": 3,
        "start_time": "2023-03-03T22:32:18.940Z"
      },
      {
        "duration": 4,
        "start_time": "2023-03-03T22:34:07.947Z"
      },
      {
        "duration": 3,
        "start_time": "2023-03-03T22:34:08.507Z"
      },
      {
        "duration": 997,
        "start_time": "2023-03-03T22:34:38.169Z"
      },
      {
        "duration": 156,
        "start_time": "2023-03-03T22:34:39.167Z"
      },
      {
        "duration": 8,
        "start_time": "2023-03-03T22:34:39.324Z"
      },
      {
        "duration": 19,
        "start_time": "2023-03-03T22:34:39.334Z"
      },
      {
        "duration": 69,
        "start_time": "2023-03-03T22:34:39.355Z"
      },
      {
        "duration": 18,
        "start_time": "2023-03-03T22:34:39.426Z"
      },
      {
        "duration": 21,
        "start_time": "2023-03-03T22:34:39.445Z"
      },
      {
        "duration": 114,
        "start_time": "2023-03-03T22:34:39.467Z"
      },
      {
        "duration": 196,
        "start_time": "2023-03-03T22:34:39.583Z"
      },
      {
        "duration": 724,
        "start_time": "2023-03-03T22:34:39.780Z"
      },
      {
        "duration": 0,
        "start_time": "2023-03-03T22:34:40.506Z"
      },
      {
        "duration": 0,
        "start_time": "2023-03-03T22:34:40.507Z"
      },
      {
        "duration": 0,
        "start_time": "2023-03-03T22:34:40.508Z"
      },
      {
        "duration": 0,
        "start_time": "2023-03-03T22:34:40.509Z"
      },
      {
        "duration": 0,
        "start_time": "2023-03-03T22:34:40.510Z"
      },
      {
        "duration": 0,
        "start_time": "2023-03-03T22:34:40.511Z"
      },
      {
        "duration": 13,
        "start_time": "2023-03-03T22:34:50.452Z"
      },
      {
        "duration": 24,
        "start_time": "2023-03-03T22:34:53.045Z"
      },
      {
        "duration": 273,
        "start_time": "2023-03-03T22:34:53.569Z"
      },
      {
        "duration": 28,
        "start_time": "2023-03-03T22:34:56.648Z"
      },
      {
        "duration": 12,
        "start_time": "2023-03-03T22:34:59.599Z"
      },
      {
        "duration": 7,
        "start_time": "2023-03-03T22:35:12.393Z"
      },
      {
        "duration": 3,
        "start_time": "2023-03-03T22:35:14.071Z"
      },
      {
        "duration": 970,
        "start_time": "2023-03-03T22:36:50.301Z"
      },
      {
        "duration": 149,
        "start_time": "2023-03-03T22:36:51.273Z"
      },
      {
        "duration": 16,
        "start_time": "2023-03-03T22:36:51.424Z"
      },
      {
        "duration": 18,
        "start_time": "2023-03-03T22:36:51.442Z"
      },
      {
        "duration": 82,
        "start_time": "2023-03-03T22:36:51.462Z"
      },
      {
        "duration": 9,
        "start_time": "2023-03-03T22:36:51.546Z"
      },
      {
        "duration": 20,
        "start_time": "2023-03-03T22:36:51.557Z"
      },
      {
        "duration": 103,
        "start_time": "2023-03-03T22:36:51.579Z"
      },
      {
        "duration": 175,
        "start_time": "2023-03-03T22:36:51.684Z"
      },
      {
        "duration": 797,
        "start_time": "2023-03-03T22:36:51.861Z"
      },
      {
        "duration": 0,
        "start_time": "2023-03-03T22:36:52.659Z"
      },
      {
        "duration": 0,
        "start_time": "2023-03-03T22:36:52.660Z"
      },
      {
        "duration": 0,
        "start_time": "2023-03-03T22:36:52.661Z"
      },
      {
        "duration": 0,
        "start_time": "2023-03-03T22:36:52.662Z"
      },
      {
        "duration": 0,
        "start_time": "2023-03-03T22:36:52.663Z"
      },
      {
        "duration": 0,
        "start_time": "2023-03-03T22:36:52.664Z"
      },
      {
        "duration": 14,
        "start_time": "2023-03-03T22:36:58.392Z"
      },
      {
        "duration": 24,
        "start_time": "2023-03-03T22:36:58.847Z"
      },
      {
        "duration": 269,
        "start_time": "2023-03-03T22:36:58.920Z"
      },
      {
        "duration": 29,
        "start_time": "2023-03-03T22:37:00.389Z"
      },
      {
        "duration": 12,
        "start_time": "2023-03-03T22:37:01.156Z"
      },
      {
        "duration": 15,
        "start_time": "2023-03-03T22:37:29.927Z"
      },
      {
        "duration": 13,
        "start_time": "2023-03-03T22:37:38.709Z"
      },
      {
        "duration": 30,
        "start_time": "2023-03-03T22:38:47.326Z"
      },
      {
        "duration": 28,
        "start_time": "2023-03-03T22:39:02.040Z"
      },
      {
        "duration": 29,
        "start_time": "2023-03-03T22:39:20.535Z"
      },
      {
        "duration": 85,
        "start_time": "2023-03-03T22:40:46.339Z"
      },
      {
        "duration": 30,
        "start_time": "2023-03-03T22:40:55.952Z"
      },
      {
        "duration": 3,
        "start_time": "2023-03-03T22:41:20.937Z"
      },
      {
        "duration": 28,
        "start_time": "2023-03-03T22:44:26.798Z"
      },
      {
        "duration": 1204,
        "start_time": "2023-03-04T10:55:39.036Z"
      },
      {
        "duration": 514,
        "start_time": "2023-03-04T10:55:40.242Z"
      },
      {
        "duration": 8,
        "start_time": "2023-03-04T10:55:40.757Z"
      },
      {
        "duration": 32,
        "start_time": "2023-03-04T10:55:40.767Z"
      },
      {
        "duration": 75,
        "start_time": "2023-03-04T10:55:40.801Z"
      },
      {
        "duration": 10,
        "start_time": "2023-03-04T10:55:40.877Z"
      },
      {
        "duration": 50,
        "start_time": "2023-03-04T10:55:40.889Z"
      },
      {
        "duration": 103,
        "start_time": "2023-03-04T10:55:40.940Z"
      },
      {
        "duration": 215,
        "start_time": "2023-03-04T10:55:41.045Z"
      },
      {
        "duration": 16,
        "start_time": "2023-03-04T10:55:41.262Z"
      },
      {
        "duration": 42,
        "start_time": "2023-03-04T10:55:41.279Z"
      },
      {
        "duration": 299,
        "start_time": "2023-03-04T10:55:41.323Z"
      },
      {
        "duration": 32,
        "start_time": "2023-03-04T10:55:41.624Z"
      },
      {
        "duration": 13,
        "start_time": "2023-03-04T10:55:41.658Z"
      },
      {
        "duration": 56,
        "start_time": "2023-03-04T10:55:41.672Z"
      },
      {
        "duration": 4,
        "start_time": "2023-03-04T10:57:22.910Z"
      },
      {
        "duration": 546,
        "start_time": "2023-03-04T11:00:10.130Z"
      },
      {
        "duration": 391,
        "start_time": "2023-03-04T11:00:39.129Z"
      },
      {
        "duration": 330,
        "start_time": "2023-03-04T11:00:48.454Z"
      },
      {
        "duration": 35,
        "start_time": "2023-03-04T11:01:36.200Z"
      },
      {
        "duration": 409,
        "start_time": "2023-03-04T11:02:02.250Z"
      },
      {
        "duration": 18,
        "start_time": "2023-03-04T11:02:25.548Z"
      },
      {
        "duration": 335,
        "start_time": "2023-03-04T11:02:34.272Z"
      },
      {
        "duration": 1226,
        "start_time": "2023-03-04T11:03:52.152Z"
      },
      {
        "duration": 9,
        "start_time": "2023-03-04T11:04:13.633Z"
      },
      {
        "duration": 84,
        "start_time": "2023-03-04T11:05:42.476Z"
      },
      {
        "duration": 51,
        "start_time": "2023-03-04T11:06:09.556Z"
      },
      {
        "duration": 57,
        "start_time": "2023-03-04T11:06:34.509Z"
      },
      {
        "duration": 55,
        "start_time": "2023-03-04T11:06:43.970Z"
      },
      {
        "duration": 77,
        "start_time": "2023-03-04T11:06:57.846Z"
      },
      {
        "duration": 53,
        "start_time": "2023-03-04T11:07:58.029Z"
      },
      {
        "duration": 3,
        "start_time": "2023-03-04T11:12:59.958Z"
      },
      {
        "duration": 4,
        "start_time": "2023-03-04T11:13:08.489Z"
      },
      {
        "duration": 5,
        "start_time": "2023-03-04T11:13:21.422Z"
      },
      {
        "duration": 45,
        "start_time": "2023-03-04T11:13:34.826Z"
      },
      {
        "duration": 12,
        "start_time": "2023-03-04T11:13:48.812Z"
      },
      {
        "duration": 55,
        "start_time": "2023-03-04T11:13:56.708Z"
      },
      {
        "duration": 147,
        "start_time": "2023-03-04T11:14:18.631Z"
      },
      {
        "duration": 52,
        "start_time": "2023-03-04T11:15:28.775Z"
      },
      {
        "duration": 62,
        "start_time": "2023-03-04T11:15:34.163Z"
      },
      {
        "duration": 31,
        "start_time": "2023-03-04T11:17:20.591Z"
      },
      {
        "duration": 17,
        "start_time": "2023-03-04T11:17:40.304Z"
      },
      {
        "duration": 36,
        "start_time": "2023-03-04T11:18:46.729Z"
      },
      {
        "duration": 35,
        "start_time": "2023-03-04T11:19:06.007Z"
      },
      {
        "duration": 24,
        "start_time": "2023-03-04T11:19:25.288Z"
      },
      {
        "duration": 23,
        "start_time": "2023-03-04T11:19:31.068Z"
      },
      {
        "duration": 23,
        "start_time": "2023-03-04T11:19:49.072Z"
      },
      {
        "duration": 58,
        "start_time": "2023-03-04T11:24:54.862Z"
      },
      {
        "duration": 50,
        "start_time": "2023-03-04T11:25:04.135Z"
      },
      {
        "duration": 51,
        "start_time": "2023-03-04T11:25:09.557Z"
      },
      {
        "duration": 62,
        "start_time": "2023-03-04T11:26:39.937Z"
      },
      {
        "duration": 66,
        "start_time": "2023-03-04T11:26:46.391Z"
      },
      {
        "duration": 68,
        "start_time": "2023-03-04T11:27:49.723Z"
      },
      {
        "duration": 71,
        "start_time": "2023-03-04T11:28:17.007Z"
      },
      {
        "duration": 1491,
        "start_time": "2023-03-04T11:29:18.861Z"
      },
      {
        "duration": 60,
        "start_time": "2023-03-04T11:29:31.817Z"
      },
      {
        "duration": 56,
        "start_time": "2023-03-04T11:29:47.608Z"
      },
      {
        "duration": 57,
        "start_time": "2023-03-04T11:30:02.227Z"
      },
      {
        "duration": 141,
        "start_time": "2023-03-04T11:34:20.575Z"
      },
      {
        "duration": 162,
        "start_time": "2023-03-04T11:34:51.161Z"
      },
      {
        "duration": 57,
        "start_time": "2023-03-04T11:35:47.068Z"
      },
      {
        "duration": 3,
        "start_time": "2023-03-04T11:36:01.745Z"
      },
      {
        "duration": 163,
        "start_time": "2023-03-04T11:36:41.174Z"
      },
      {
        "duration": 164,
        "start_time": "2023-03-04T11:37:16.591Z"
      },
      {
        "duration": 175,
        "start_time": "2023-03-04T11:37:34.011Z"
      },
      {
        "duration": 242,
        "start_time": "2023-03-04T11:39:02.095Z"
      },
      {
        "duration": 296,
        "start_time": "2023-03-04T11:40:29.369Z"
      },
      {
        "duration": 25,
        "start_time": "2023-03-04T11:40:46.463Z"
      },
      {
        "duration": 136,
        "start_time": "2023-03-04T11:41:06.161Z"
      },
      {
        "duration": 143,
        "start_time": "2023-03-04T11:41:18.777Z"
      },
      {
        "duration": 48,
        "start_time": "2023-03-04T11:41:59.325Z"
      },
      {
        "duration": 202,
        "start_time": "2023-03-04T11:42:24.593Z"
      },
      {
        "duration": 195,
        "start_time": "2023-03-04T11:42:35.041Z"
      },
      {
        "duration": 134,
        "start_time": "2023-03-04T11:44:01.594Z"
      },
      {
        "duration": 154,
        "start_time": "2023-03-04T11:44:07.421Z"
      },
      {
        "duration": 184,
        "start_time": "2023-03-04T11:48:18.257Z"
      },
      {
        "duration": 26,
        "start_time": "2023-03-04T11:50:12.923Z"
      },
      {
        "duration": 140,
        "start_time": "2023-03-04T11:50:13.448Z"
      },
      {
        "duration": 165,
        "start_time": "2023-03-04T11:51:28.861Z"
      },
      {
        "duration": 144,
        "start_time": "2023-03-04T11:51:40.609Z"
      },
      {
        "duration": 143,
        "start_time": "2023-03-04T11:57:56.112Z"
      },
      {
        "duration": 84,
        "start_time": "2023-03-04T12:05:41.966Z"
      },
      {
        "duration": 1161,
        "start_time": "2023-03-04T14:09:09.451Z"
      },
      {
        "duration": 185,
        "start_time": "2023-03-04T14:09:10.615Z"
      },
      {
        "duration": 9,
        "start_time": "2023-03-04T14:09:10.804Z"
      },
      {
        "duration": 46,
        "start_time": "2023-03-04T14:09:10.817Z"
      },
      {
        "duration": 83,
        "start_time": "2023-03-04T14:09:10.864Z"
      },
      {
        "duration": 9,
        "start_time": "2023-03-04T14:09:10.949Z"
      },
      {
        "duration": 49,
        "start_time": "2023-03-04T14:09:10.959Z"
      },
      {
        "duration": 124,
        "start_time": "2023-03-04T14:09:11.009Z"
      },
      {
        "duration": 212,
        "start_time": "2023-03-04T14:09:11.135Z"
      },
      {
        "duration": 17,
        "start_time": "2023-03-04T14:09:11.349Z"
      },
      {
        "duration": 58,
        "start_time": "2023-03-04T14:09:11.368Z"
      },
      {
        "duration": 338,
        "start_time": "2023-03-04T14:09:11.427Z"
      },
      {
        "duration": 60,
        "start_time": "2023-03-04T14:09:11.768Z"
      },
      {
        "duration": 19,
        "start_time": "2023-03-04T14:09:11.830Z"
      },
      {
        "duration": 46,
        "start_time": "2023-03-04T14:09:11.851Z"
      },
      {
        "duration": 44,
        "start_time": "2023-03-04T14:09:11.903Z"
      },
      {
        "duration": 178,
        "start_time": "2023-03-04T14:09:11.948Z"
      },
      {
        "duration": 87,
        "start_time": "2023-03-04T14:09:12.128Z"
      },
      {
        "duration": 17,
        "start_time": "2023-03-04T14:09:12.223Z"
      },
      {
        "duration": 18,
        "start_time": "2023-03-04T14:09:20.252Z"
      },
      {
        "duration": 37,
        "start_time": "2023-03-04T14:09:29.676Z"
      },
      {
        "duration": 13,
        "start_time": "2023-03-04T14:09:33.871Z"
      },
      {
        "duration": 74,
        "start_time": "2023-03-04T14:10:22.029Z"
      },
      {
        "duration": 42,
        "start_time": "2023-03-04T14:11:26.152Z"
      },
      {
        "duration": 1238,
        "start_time": "2023-03-05T12:30:57.294Z"
      },
      {
        "duration": 705,
        "start_time": "2023-03-05T12:30:58.535Z"
      },
      {
        "duration": 7,
        "start_time": "2023-03-05T12:30:59.242Z"
      },
      {
        "duration": 19,
        "start_time": "2023-03-05T12:30:59.251Z"
      },
      {
        "duration": 66,
        "start_time": "2023-03-05T12:30:59.271Z"
      },
      {
        "duration": 17,
        "start_time": "2023-03-05T12:30:59.339Z"
      },
      {
        "duration": 26,
        "start_time": "2023-03-05T12:30:59.358Z"
      },
      {
        "duration": 100,
        "start_time": "2023-03-05T12:30:59.386Z"
      },
      {
        "duration": 185,
        "start_time": "2023-03-05T12:30:59.487Z"
      },
      {
        "duration": 15,
        "start_time": "2023-03-05T12:30:59.675Z"
      },
      {
        "duration": 26,
        "start_time": "2023-03-05T12:30:59.691Z"
      },
      {
        "duration": 319,
        "start_time": "2023-03-05T12:30:59.718Z"
      },
      {
        "duration": 38,
        "start_time": "2023-03-05T12:31:00.039Z"
      },
      {
        "duration": 12,
        "start_time": "2023-03-05T12:31:00.078Z"
      },
      {
        "duration": 37,
        "start_time": "2023-03-05T12:31:00.092Z"
      },
      {
        "duration": 40,
        "start_time": "2023-03-05T12:31:00.131Z"
      },
      {
        "duration": 148,
        "start_time": "2023-03-05T12:31:00.173Z"
      },
      {
        "duration": 69,
        "start_time": "2023-03-05T12:31:00.323Z"
      },
      {
        "duration": 31,
        "start_time": "2023-03-05T12:31:00.394Z"
      },
      {
        "duration": 12,
        "start_time": "2023-03-05T12:38:21.156Z"
      },
      {
        "duration": 105,
        "start_time": "2023-03-05T12:38:31.983Z"
      },
      {
        "duration": 10,
        "start_time": "2023-03-05T12:38:58.088Z"
      },
      {
        "duration": 6,
        "start_time": "2023-03-05T12:39:20.702Z"
      },
      {
        "duration": 9,
        "start_time": "2023-03-05T12:39:33.352Z"
      },
      {
        "duration": 9,
        "start_time": "2023-03-05T12:41:59.752Z"
      },
      {
        "duration": 7,
        "start_time": "2023-03-05T12:42:05.006Z"
      },
      {
        "duration": 15,
        "start_time": "2023-03-05T12:42:51.267Z"
      },
      {
        "duration": 10,
        "start_time": "2023-03-05T12:43:13.874Z"
      },
      {
        "duration": 12,
        "start_time": "2023-03-05T12:43:25.671Z"
      },
      {
        "duration": 7,
        "start_time": "2023-03-05T12:43:40.000Z"
      },
      {
        "duration": 14,
        "start_time": "2023-03-05T12:47:57.488Z"
      },
      {
        "duration": 86,
        "start_time": "2023-03-05T12:48:11.405Z"
      },
      {
        "duration": 766,
        "start_time": "2023-03-05T12:48:52.445Z"
      },
      {
        "duration": 243,
        "start_time": "2023-03-05T12:49:05.409Z"
      },
      {
        "duration": 19,
        "start_time": "2023-03-05T12:56:50.696Z"
      },
      {
        "duration": 59,
        "start_time": "2023-03-05T12:56:51.249Z"
      },
      {
        "duration": 71,
        "start_time": "2023-03-05T13:29:05.060Z"
      },
      {
        "duration": 67,
        "start_time": "2023-03-05T13:29:11.436Z"
      },
      {
        "duration": 4,
        "start_time": "2023-03-05T13:45:39.017Z"
      },
      {
        "duration": 73,
        "start_time": "2023-03-05T13:45:39.611Z"
      },
      {
        "duration": 13,
        "start_time": "2023-03-05T13:45:40.311Z"
      },
      {
        "duration": 3,
        "start_time": "2023-03-05T13:45:56.086Z"
      },
      {
        "duration": 16,
        "start_time": "2023-03-05T13:45:59.466Z"
      },
      {
        "duration": 4,
        "start_time": "2023-03-05T13:46:11.044Z"
      },
      {
        "duration": 72,
        "start_time": "2023-03-05T13:46:12.856Z"
      },
      {
        "duration": 12,
        "start_time": "2023-03-05T13:46:13.283Z"
      },
      {
        "duration": 4,
        "start_time": "2023-03-05T13:46:29.943Z"
      },
      {
        "duration": 66,
        "start_time": "2023-03-05T13:46:30.396Z"
      },
      {
        "duration": 13,
        "start_time": "2023-03-05T13:46:30.656Z"
      },
      {
        "duration": 8,
        "start_time": "2023-03-05T13:46:55.156Z"
      },
      {
        "duration": 69,
        "start_time": "2023-03-05T13:46:55.474Z"
      },
      {
        "duration": 9,
        "start_time": "2023-03-05T13:46:55.883Z"
      },
      {
        "duration": 10,
        "start_time": "2023-03-05T13:48:02.172Z"
      },
      {
        "duration": 66,
        "start_time": "2023-03-05T13:50:41.997Z"
      },
      {
        "duration": 10,
        "start_time": "2023-03-05T13:50:46.213Z"
      },
      {
        "duration": 72,
        "start_time": "2023-03-05T13:52:24.145Z"
      },
      {
        "duration": 10,
        "start_time": "2023-03-05T13:52:28.849Z"
      },
      {
        "duration": 9,
        "start_time": "2023-03-05T13:53:00.771Z"
      },
      {
        "duration": 9,
        "start_time": "2023-03-05T13:53:11.694Z"
      },
      {
        "duration": 562,
        "start_time": "2023-03-05T13:55:24.709Z"
      },
      {
        "duration": 11,
        "start_time": "2023-03-05T13:55:36.853Z"
      },
      {
        "duration": 12,
        "start_time": "2023-03-05T13:55:59.182Z"
      },
      {
        "duration": 4,
        "start_time": "2023-03-05T13:58:30.967Z"
      },
      {
        "duration": 78,
        "start_time": "2023-03-05T13:59:53.553Z"
      },
      {
        "duration": 73,
        "start_time": "2023-03-05T14:00:05.437Z"
      },
      {
        "duration": 72,
        "start_time": "2023-03-05T14:00:10.868Z"
      },
      {
        "duration": 69,
        "start_time": "2023-03-05T14:00:29.468Z"
      },
      {
        "duration": 79,
        "start_time": "2023-03-05T14:00:34.075Z"
      },
      {
        "duration": 9,
        "start_time": "2023-03-05T14:01:04.009Z"
      },
      {
        "duration": 74,
        "start_time": "2023-03-05T14:01:20.179Z"
      },
      {
        "duration": 10,
        "start_time": "2023-03-05T14:01:25.030Z"
      },
      {
        "duration": 10,
        "start_time": "2023-03-05T14:01:29.352Z"
      },
      {
        "duration": 11,
        "start_time": "2023-03-05T14:01:55.767Z"
      },
      {
        "duration": 11,
        "start_time": "2023-03-05T14:45:10.866Z"
      },
      {
        "duration": 11,
        "start_time": "2023-03-05T14:45:25.408Z"
      },
      {
        "duration": 10,
        "start_time": "2023-03-05T14:45:49.461Z"
      },
      {
        "duration": 5,
        "start_time": "2023-03-05T14:54:52.150Z"
      },
      {
        "duration": 500,
        "start_time": "2023-03-05T14:57:04.887Z"
      },
      {
        "duration": 89,
        "start_time": "2023-03-05T15:04:55.848Z"
      },
      {
        "duration": 10,
        "start_time": "2023-03-05T15:04:58.690Z"
      },
      {
        "duration": 8,
        "start_time": "2023-03-05T15:04:59.510Z"
      },
      {
        "duration": 9,
        "start_time": "2023-03-05T15:04:59.910Z"
      },
      {
        "duration": 692,
        "start_time": "2023-03-05T15:05:01.052Z"
      },
      {
        "duration": 775,
        "start_time": "2023-03-05T15:08:24.777Z"
      },
      {
        "duration": 4,
        "start_time": "2023-03-05T15:08:31.109Z"
      },
      {
        "duration": 9,
        "start_time": "2023-03-05T15:09:03.707Z"
      },
      {
        "duration": 9,
        "start_time": "2023-03-05T15:09:32.208Z"
      },
      {
        "duration": 12,
        "start_time": "2023-03-05T15:11:03.081Z"
      },
      {
        "duration": 9,
        "start_time": "2023-03-05T15:11:45.708Z"
      },
      {
        "duration": 4,
        "start_time": "2023-03-05T15:12:30.952Z"
      },
      {
        "duration": 110,
        "start_time": "2023-03-05T15:12:31.289Z"
      },
      {
        "duration": 10,
        "start_time": "2023-03-05T15:12:32.771Z"
      },
      {
        "duration": 9,
        "start_time": "2023-03-05T15:12:33.848Z"
      },
      {
        "duration": 13,
        "start_time": "2023-03-05T15:12:34.364Z"
      },
      {
        "duration": 10,
        "start_time": "2023-03-05T15:12:35.654Z"
      },
      {
        "duration": 9,
        "start_time": "2023-03-05T15:13:29.011Z"
      },
      {
        "duration": 4,
        "start_time": "2023-03-05T15:13:34.560Z"
      },
      {
        "duration": 9,
        "start_time": "2023-03-05T15:15:03.489Z"
      },
      {
        "duration": 1068,
        "start_time": "2023-03-05T15:25:18.802Z"
      },
      {
        "duration": 154,
        "start_time": "2023-03-05T15:25:19.871Z"
      },
      {
        "duration": 8,
        "start_time": "2023-03-05T15:25:20.026Z"
      },
      {
        "duration": 25,
        "start_time": "2023-03-05T15:25:20.035Z"
      },
      {
        "duration": 65,
        "start_time": "2023-03-05T15:25:20.062Z"
      },
      {
        "duration": 9,
        "start_time": "2023-03-05T15:25:20.129Z"
      },
      {
        "duration": 34,
        "start_time": "2023-03-05T15:25:20.140Z"
      },
      {
        "duration": 102,
        "start_time": "2023-03-05T15:25:20.175Z"
      },
      {
        "duration": 191,
        "start_time": "2023-03-05T15:25:20.278Z"
      },
      {
        "duration": 14,
        "start_time": "2023-03-05T15:25:20.472Z"
      },
      {
        "duration": 26,
        "start_time": "2023-03-05T15:25:20.487Z"
      },
      {
        "duration": 313,
        "start_time": "2023-03-05T15:25:20.515Z"
      },
      {
        "duration": 35,
        "start_time": "2023-03-05T15:25:20.830Z"
      },
      {
        "duration": 12,
        "start_time": "2023-03-05T15:25:20.867Z"
      },
      {
        "duration": 12,
        "start_time": "2023-03-05T15:25:20.881Z"
      },
      {
        "duration": 5,
        "start_time": "2023-03-05T15:25:20.895Z"
      },
      {
        "duration": 80,
        "start_time": "2023-03-05T15:25:20.902Z"
      },
      {
        "duration": 149,
        "start_time": "2023-03-05T15:25:20.983Z"
      },
      {
        "duration": 25,
        "start_time": "2023-03-05T15:25:21.134Z"
      },
      {
        "duration": 63,
        "start_time": "2023-03-05T15:25:21.160Z"
      },
      {
        "duration": 43,
        "start_time": "2023-03-05T15:25:21.225Z"
      },
      {
        "duration": 5,
        "start_time": "2023-03-05T15:25:21.269Z"
      },
      {
        "duration": 100,
        "start_time": "2023-03-05T15:25:21.276Z"
      },
      {
        "duration": 10,
        "start_time": "2023-03-05T15:25:21.378Z"
      },
      {
        "duration": 8,
        "start_time": "2023-03-05T15:25:21.389Z"
      },
      {
        "duration": 9,
        "start_time": "2023-03-05T15:25:21.399Z"
      },
      {
        "duration": 9,
        "start_time": "2023-03-05T15:25:21.410Z"
      },
      {
        "duration": 10,
        "start_time": "2023-03-05T15:25:21.455Z"
      },
      {
        "duration": 29,
        "start_time": "2023-03-05T15:25:55.120Z"
      },
      {
        "duration": 11,
        "start_time": "2023-03-05T15:26:22.026Z"
      },
      {
        "duration": 34,
        "start_time": "2023-03-05T15:26:25.095Z"
      },
      {
        "duration": 1097,
        "start_time": "2023-03-05T15:26:39.080Z"
      },
      {
        "duration": 158,
        "start_time": "2023-03-05T15:26:40.179Z"
      },
      {
        "duration": 8,
        "start_time": "2023-03-05T15:26:40.338Z"
      },
      {
        "duration": 21,
        "start_time": "2023-03-05T15:26:40.348Z"
      },
      {
        "duration": 66,
        "start_time": "2023-03-05T15:26:40.371Z"
      },
      {
        "duration": 23,
        "start_time": "2023-03-05T15:26:40.438Z"
      },
      {
        "duration": 23,
        "start_time": "2023-03-05T15:26:40.463Z"
      },
      {
        "duration": 108,
        "start_time": "2023-03-05T15:26:40.487Z"
      },
      {
        "duration": 185,
        "start_time": "2023-03-05T15:26:40.596Z"
      },
      {
        "duration": 15,
        "start_time": "2023-03-05T15:26:40.783Z"
      },
      {
        "duration": 25,
        "start_time": "2023-03-05T15:26:40.799Z"
      },
      {
        "duration": 314,
        "start_time": "2023-03-05T15:26:40.825Z"
      },
      {
        "duration": 35,
        "start_time": "2023-03-05T15:26:41.140Z"
      },
      {
        "duration": 25,
        "start_time": "2023-03-05T15:26:41.177Z"
      },
      {
        "duration": 12,
        "start_time": "2023-03-05T15:26:41.204Z"
      },
      {
        "duration": 6,
        "start_time": "2023-03-05T15:26:41.218Z"
      },
      {
        "duration": 53,
        "start_time": "2023-03-05T15:26:41.225Z"
      },
      {
        "duration": 139,
        "start_time": "2023-03-05T15:26:41.279Z"
      },
      {
        "duration": 16,
        "start_time": "2023-03-05T15:26:41.420Z"
      },
      {
        "duration": 74,
        "start_time": "2023-03-05T15:26:41.438Z"
      },
      {
        "duration": 29,
        "start_time": "2023-03-05T15:26:41.513Z"
      },
      {
        "duration": 4,
        "start_time": "2023-03-05T15:26:41.556Z"
      },
      {
        "duration": 83,
        "start_time": "2023-03-05T15:26:41.561Z"
      },
      {
        "duration": 11,
        "start_time": "2023-03-05T15:26:41.656Z"
      },
      {
        "duration": 12,
        "start_time": "2023-03-05T15:26:41.670Z"
      },
      {
        "duration": 9,
        "start_time": "2023-03-05T15:26:41.683Z"
      },
      {
        "duration": 9,
        "start_time": "2023-03-05T15:26:41.693Z"
      },
      {
        "duration": 10,
        "start_time": "2023-03-05T15:26:41.703Z"
      },
      {
        "duration": 1145,
        "start_time": "2023-03-05T18:24:46.653Z"
      },
      {
        "duration": 166,
        "start_time": "2023-03-05T18:24:47.800Z"
      },
      {
        "duration": 10,
        "start_time": "2023-03-05T18:24:47.967Z"
      },
      {
        "duration": 19,
        "start_time": "2023-03-05T18:24:47.979Z"
      },
      {
        "duration": 91,
        "start_time": "2023-03-05T18:24:48.001Z"
      },
      {
        "duration": 8,
        "start_time": "2023-03-05T18:24:48.094Z"
      },
      {
        "duration": 21,
        "start_time": "2023-03-05T18:24:48.103Z"
      },
      {
        "duration": 102,
        "start_time": "2023-03-05T18:24:48.126Z"
      },
      {
        "duration": 195,
        "start_time": "2023-03-05T18:24:48.230Z"
      },
      {
        "duration": 15,
        "start_time": "2023-03-05T18:24:48.426Z"
      },
      {
        "duration": 41,
        "start_time": "2023-03-05T18:24:48.443Z"
      },
      {
        "duration": 321,
        "start_time": "2023-03-05T18:24:48.486Z"
      },
      {
        "duration": 31,
        "start_time": "2023-03-05T18:24:48.809Z"
      },
      {
        "duration": 14,
        "start_time": "2023-03-05T18:24:48.864Z"
      },
      {
        "duration": 12,
        "start_time": "2023-03-05T18:24:48.880Z"
      },
      {
        "duration": 6,
        "start_time": "2023-03-05T18:24:48.893Z"
      },
      {
        "duration": 36,
        "start_time": "2023-03-05T18:24:48.900Z"
      },
      {
        "duration": 159,
        "start_time": "2023-03-05T18:24:48.938Z"
      },
      {
        "duration": 17,
        "start_time": "2023-03-05T18:24:49.099Z"
      },
      {
        "duration": 76,
        "start_time": "2023-03-05T18:24:49.118Z"
      },
      {
        "duration": 29,
        "start_time": "2023-03-05T18:24:49.195Z"
      },
      {
        "duration": 4,
        "start_time": "2023-03-05T18:24:49.226Z"
      },
      {
        "duration": 99,
        "start_time": "2023-03-05T18:24:49.232Z"
      },
      {
        "duration": 10,
        "start_time": "2023-03-05T18:24:49.333Z"
      },
      {
        "duration": 13,
        "start_time": "2023-03-05T18:24:49.355Z"
      },
      {
        "duration": 11,
        "start_time": "2023-03-05T18:24:49.370Z"
      },
      {
        "duration": 9,
        "start_time": "2023-03-05T18:24:49.383Z"
      },
      {
        "duration": 10,
        "start_time": "2023-03-05T18:24:49.393Z"
      },
      {
        "duration": 1328,
        "start_time": "2023-03-05T20:52:32.124Z"
      },
      {
        "duration": 1161,
        "start_time": "2023-03-05T20:52:33.454Z"
      },
      {
        "duration": 10,
        "start_time": "2023-03-05T20:52:35.597Z"
      },
      {
        "duration": 29,
        "start_time": "2023-03-05T20:52:36.959Z"
      },
      {
        "duration": 111,
        "start_time": "2023-03-05T20:52:37.586Z"
      },
      {
        "duration": 10,
        "start_time": "2023-03-05T20:52:38.260Z"
      },
      {
        "duration": 45,
        "start_time": "2023-03-05T20:52:39.112Z"
      },
      {
        "duration": 101,
        "start_time": "2023-03-05T20:52:39.655Z"
      },
      {
        "duration": 275,
        "start_time": "2023-03-05T20:52:40.385Z"
      },
      {
        "duration": 111,
        "start_time": "2023-03-05T21:08:36.956Z"
      },
      {
        "duration": 3,
        "start_time": "2023-03-05T21:08:44.773Z"
      },
      {
        "duration": 195,
        "start_time": "2023-03-05T21:08:45.130Z"
      },
      {
        "duration": 19,
        "start_time": "2023-03-05T21:08:45.327Z"
      },
      {
        "duration": 25,
        "start_time": "2023-03-05T21:08:45.421Z"
      },
      {
        "duration": 84,
        "start_time": "2023-03-05T21:08:45.568Z"
      },
      {
        "duration": 15,
        "start_time": "2023-03-05T21:08:45.838Z"
      },
      {
        "duration": 38,
        "start_time": "2023-03-05T21:08:46.238Z"
      },
      {
        "duration": 117,
        "start_time": "2023-03-05T21:08:46.584Z"
      },
      {
        "duration": 259,
        "start_time": "2023-03-05T21:08:46.736Z"
      },
      {
        "duration": 15,
        "start_time": "2023-03-05T21:08:49.063Z"
      },
      {
        "duration": 5,
        "start_time": "2023-03-05T21:09:00.545Z"
      },
      {
        "duration": 6,
        "start_time": "2023-03-05T21:09:15.029Z"
      },
      {
        "duration": 9,
        "start_time": "2023-03-05T21:09:31.717Z"
      },
      {
        "duration": 28,
        "start_time": "2023-03-05T21:10:35.632Z"
      },
      {
        "duration": 51,
        "start_time": "2023-03-05T21:10:42.971Z"
      },
      {
        "duration": 10,
        "start_time": "2023-03-05T21:11:19.119Z"
      },
      {
        "duration": 9,
        "start_time": "2023-03-05T21:13:35.475Z"
      },
      {
        "duration": 12,
        "start_time": "2023-03-05T21:13:45.969Z"
      },
      {
        "duration": 5,
        "start_time": "2023-03-05T21:13:51.154Z"
      },
      {
        "duration": 4,
        "start_time": "2023-03-05T21:14:00.598Z"
      },
      {
        "duration": 183,
        "start_time": "2023-03-05T21:14:01.354Z"
      },
      {
        "duration": 8,
        "start_time": "2023-03-05T21:14:01.631Z"
      },
      {
        "duration": 27,
        "start_time": "2023-03-05T21:14:02.064Z"
      },
      {
        "duration": 69,
        "start_time": "2023-03-05T21:14:02.461Z"
      },
      {
        "duration": 9,
        "start_time": "2023-03-05T21:14:03.079Z"
      },
      {
        "duration": 36,
        "start_time": "2023-03-05T21:14:03.734Z"
      },
      {
        "duration": 94,
        "start_time": "2023-03-05T21:14:04.404Z"
      },
      {
        "duration": 275,
        "start_time": "2023-03-05T21:14:05.258Z"
      },
      {
        "duration": 17,
        "start_time": "2023-03-05T21:14:14.654Z"
      },
      {
        "duration": 20,
        "start_time": "2023-03-05T21:14:20.590Z"
      },
      {
        "duration": 7,
        "start_time": "2023-03-05T21:14:27.631Z"
      },
      {
        "duration": 240,
        "start_time": "2023-03-05T21:16:08.681Z"
      },
      {
        "duration": 231,
        "start_time": "2023-03-05T21:17:23.590Z"
      },
      {
        "duration": 283,
        "start_time": "2023-03-05T21:17:37.154Z"
      },
      {
        "duration": 292,
        "start_time": "2023-03-05T21:17:54.921Z"
      },
      {
        "duration": 1099,
        "start_time": "2023-03-05T21:18:09.975Z"
      },
      {
        "duration": 1058,
        "start_time": "2023-03-05T21:18:18.563Z"
      },
      {
        "duration": 263,
        "start_time": "2023-03-05T21:18:25.957Z"
      },
      {
        "duration": 236,
        "start_time": "2023-03-05T21:18:33.932Z"
      },
      {
        "duration": 238,
        "start_time": "2023-03-05T21:18:42.214Z"
      },
      {
        "duration": 236,
        "start_time": "2023-03-05T21:18:50.866Z"
      },
      {
        "duration": 240,
        "start_time": "2023-03-05T21:20:06.385Z"
      },
      {
        "duration": 248,
        "start_time": "2023-03-05T21:20:58.196Z"
      },
      {
        "duration": 290,
        "start_time": "2023-03-05T21:21:17.767Z"
      },
      {
        "duration": 275,
        "start_time": "2023-03-05T21:21:27.789Z"
      },
      {
        "duration": 10,
        "start_time": "2023-03-05T21:25:57.801Z"
      },
      {
        "duration": 243,
        "start_time": "2023-03-05T21:26:02.066Z"
      },
      {
        "duration": 17,
        "start_time": "2023-03-05T21:43:47.519Z"
      },
      {
        "duration": 1220,
        "start_time": "2023-03-05T21:46:41.166Z"
      },
      {
        "duration": 186,
        "start_time": "2023-03-05T21:46:42.388Z"
      },
      {
        "duration": 8,
        "start_time": "2023-03-05T21:46:42.576Z"
      },
      {
        "duration": 24,
        "start_time": "2023-03-05T21:46:42.586Z"
      },
      {
        "duration": 111,
        "start_time": "2023-03-05T21:46:42.612Z"
      },
      {
        "duration": 9,
        "start_time": "2023-03-05T21:46:42.725Z"
      },
      {
        "duration": 35,
        "start_time": "2023-03-05T21:46:42.742Z"
      },
      {
        "duration": 116,
        "start_time": "2023-03-05T21:46:42.779Z"
      },
      {
        "duration": 269,
        "start_time": "2023-03-05T21:46:42.897Z"
      },
      {
        "duration": 241,
        "start_time": "2023-03-05T21:46:43.169Z"
      },
      {
        "duration": 17,
        "start_time": "2023-03-05T21:46:43.412Z"
      },
      {
        "duration": 212,
        "start_time": "2023-03-05T21:46:43.441Z"
      },
      {
        "duration": 35,
        "start_time": "2023-03-05T21:46:43.658Z"
      },
      {
        "duration": 352,
        "start_time": "2023-03-05T21:46:43.696Z"
      },
      {
        "duration": 46,
        "start_time": "2023-03-05T21:46:44.050Z"
      },
      {
        "duration": 15,
        "start_time": "2023-03-05T21:46:44.097Z"
      },
      {
        "duration": 59,
        "start_time": "2023-03-05T21:46:44.114Z"
      },
      {
        "duration": 16,
        "start_time": "2023-03-05T21:46:44.175Z"
      },
      {
        "duration": 42,
        "start_time": "2023-03-05T21:46:44.192Z"
      },
      {
        "duration": 170,
        "start_time": "2023-03-05T21:46:44.235Z"
      },
      {
        "duration": 22,
        "start_time": "2023-03-05T21:46:44.406Z"
      },
      {
        "duration": 83,
        "start_time": "2023-03-05T21:46:44.430Z"
      },
      {
        "duration": 56,
        "start_time": "2023-03-05T21:46:44.515Z"
      },
      {
        "duration": 4,
        "start_time": "2023-03-05T21:46:44.573Z"
      },
      {
        "duration": 110,
        "start_time": "2023-03-05T21:46:44.579Z"
      },
      {
        "duration": 14,
        "start_time": "2023-03-05T21:46:44.692Z"
      },
      {
        "duration": 39,
        "start_time": "2023-03-05T21:46:44.708Z"
      },
      {
        "duration": 19,
        "start_time": "2023-03-05T21:46:44.751Z"
      },
      {
        "duration": 18,
        "start_time": "2023-03-05T21:46:44.772Z"
      },
      {
        "duration": 32,
        "start_time": "2023-03-05T21:46:44.792Z"
      },
      {
        "duration": 10,
        "start_time": "2023-03-05T21:47:41.280Z"
      },
      {
        "duration": 227,
        "start_time": "2023-03-05T21:48:05.161Z"
      },
      {
        "duration": 648,
        "start_time": "2023-03-05T21:53:12.162Z"
      },
      {
        "duration": 15,
        "start_time": "2023-03-05T21:58:09.368Z"
      },
      {
        "duration": 14,
        "start_time": "2023-03-05T21:59:02.571Z"
      },
      {
        "duration": 15,
        "start_time": "2023-03-05T21:59:15.578Z"
      },
      {
        "duration": 4,
        "start_time": "2023-03-05T22:00:54.018Z"
      },
      {
        "duration": 16,
        "start_time": "2023-03-05T22:01:05.701Z"
      },
      {
        "duration": 12,
        "start_time": "2023-03-05T22:01:21.486Z"
      },
      {
        "duration": 80,
        "start_time": "2023-03-05T22:07:26.873Z"
      },
      {
        "duration": 55,
        "start_time": "2023-03-05T22:08:05.777Z"
      },
      {
        "duration": 65,
        "start_time": "2023-03-05T22:08:18.440Z"
      },
      {
        "duration": 11,
        "start_time": "2023-03-05T22:08:19.489Z"
      },
      {
        "duration": 5,
        "start_time": "2023-03-05T22:23:13.559Z"
      },
      {
        "duration": 4,
        "start_time": "2023-03-05T22:23:23.980Z"
      },
      {
        "duration": 4,
        "start_time": "2023-03-05T22:24:12.262Z"
      },
      {
        "duration": 5,
        "start_time": "2023-03-05T22:24:31.681Z"
      },
      {
        "duration": 4,
        "start_time": "2023-03-05T22:25:32.672Z"
      },
      {
        "duration": 10,
        "start_time": "2023-03-05T22:26:46.339Z"
      },
      {
        "duration": 107,
        "start_time": "2023-03-05T22:28:39.458Z"
      },
      {
        "duration": 10,
        "start_time": "2023-03-05T22:34:46.922Z"
      },
      {
        "duration": 10,
        "start_time": "2023-03-05T22:35:00.170Z"
      },
      {
        "duration": 10,
        "start_time": "2023-03-05T23:00:43.255Z"
      },
      {
        "duration": 10,
        "start_time": "2023-03-05T23:01:02.073Z"
      },
      {
        "duration": 13,
        "start_time": "2023-03-05T23:01:07.457Z"
      },
      {
        "duration": 4,
        "start_time": "2023-03-05T23:01:10.454Z"
      },
      {
        "duration": 3,
        "start_time": "2023-03-05T23:01:28.095Z"
      },
      {
        "duration": 7,
        "start_time": "2023-03-05T23:02:47.995Z"
      },
      {
        "duration": 4,
        "start_time": "2023-03-05T23:03:43.235Z"
      },
      {
        "duration": 10,
        "start_time": "2023-03-05T23:03:54.180Z"
      },
      {
        "duration": 9,
        "start_time": "2023-03-05T23:07:33.158Z"
      },
      {
        "duration": 917,
        "start_time": "2023-03-05T23:08:26.280Z"
      },
      {
        "duration": 12,
        "start_time": "2023-03-05T23:08:48.561Z"
      },
      {
        "duration": 12,
        "start_time": "2023-03-05T23:09:13.675Z"
      },
      {
        "duration": 13,
        "start_time": "2023-03-05T23:09:34.000Z"
      },
      {
        "duration": 774,
        "start_time": "2023-03-05T23:09:43.003Z"
      },
      {
        "duration": 1174,
        "start_time": "2023-03-05T23:09:56.159Z"
      },
      {
        "duration": 214,
        "start_time": "2023-03-05T23:09:57.344Z"
      },
      {
        "duration": 9,
        "start_time": "2023-03-05T23:09:57.559Z"
      },
      {
        "duration": 21,
        "start_time": "2023-03-05T23:09:57.569Z"
      },
      {
        "duration": 103,
        "start_time": "2023-03-05T23:09:57.592Z"
      },
      {
        "duration": 9,
        "start_time": "2023-03-05T23:09:57.697Z"
      },
      {
        "duration": 43,
        "start_time": "2023-03-05T23:09:57.708Z"
      },
      {
        "duration": 115,
        "start_time": "2023-03-05T23:09:57.755Z"
      },
      {
        "duration": 272,
        "start_time": "2023-03-05T23:09:57.872Z"
      },
      {
        "duration": 236,
        "start_time": "2023-03-05T23:09:58.154Z"
      },
      {
        "duration": 17,
        "start_time": "2023-03-05T23:09:58.392Z"
      },
      {
        "duration": 54,
        "start_time": "2023-03-05T23:09:58.410Z"
      },
      {
        "duration": 726,
        "start_time": "2023-03-05T23:09:58.465Z"
      },
      {
        "duration": 34,
        "start_time": "2023-03-05T23:09:59.193Z"
      },
      {
        "duration": 31,
        "start_time": "2023-03-05T23:09:59.229Z"
      },
      {
        "duration": 13,
        "start_time": "2023-03-05T23:09:59.262Z"
      },
      {
        "duration": 6,
        "start_time": "2023-03-05T23:09:59.277Z"
      },
      {
        "duration": 80,
        "start_time": "2023-03-05T23:09:59.284Z"
      },
      {
        "duration": 161,
        "start_time": "2023-03-05T23:09:59.365Z"
      },
      {
        "duration": 32,
        "start_time": "2023-03-05T23:09:59.527Z"
      },
      {
        "duration": 65,
        "start_time": "2023-03-05T23:09:59.560Z"
      },
      {
        "duration": 28,
        "start_time": "2023-03-05T23:09:59.627Z"
      },
      {
        "duration": 13,
        "start_time": "2023-03-05T23:09:59.656Z"
      },
      {
        "duration": 34,
        "start_time": "2023-03-05T23:09:59.670Z"
      },
      {
        "duration": 5,
        "start_time": "2023-03-05T23:09:59.706Z"
      },
      {
        "duration": 108,
        "start_time": "2023-03-05T23:09:59.712Z"
      },
      {
        "duration": 34,
        "start_time": "2023-03-05T23:09:59.822Z"
      },
      {
        "duration": 11,
        "start_time": "2023-03-05T23:09:59.857Z"
      },
      {
        "duration": 13,
        "start_time": "2023-03-05T23:09:59.870Z"
      },
      {
        "duration": 11,
        "start_time": "2023-03-05T23:09:59.884Z"
      },
      {
        "duration": 11,
        "start_time": "2023-03-05T23:09:59.897Z"
      },
      {
        "duration": 12,
        "start_time": "2023-03-05T23:10:29.923Z"
      },
      {
        "duration": 133,
        "start_time": "2023-03-05T23:10:46.079Z"
      },
      {
        "duration": 23,
        "start_time": "2023-03-05T23:10:59.134Z"
      },
      {
        "duration": 16,
        "start_time": "2023-03-05T23:11:15.335Z"
      },
      {
        "duration": 13,
        "start_time": "2023-03-05T23:11:35.357Z"
      },
      {
        "duration": 12,
        "start_time": "2023-03-05T23:13:43.879Z"
      },
      {
        "duration": 12,
        "start_time": "2023-03-05T23:13:50.183Z"
      },
      {
        "duration": 14,
        "start_time": "2023-03-05T23:14:54.942Z"
      },
      {
        "duration": 1235,
        "start_time": "2023-03-05T23:15:03.219Z"
      },
      {
        "duration": 202,
        "start_time": "2023-03-05T23:15:04.456Z"
      },
      {
        "duration": 11,
        "start_time": "2023-03-05T23:15:04.660Z"
      },
      {
        "duration": 23,
        "start_time": "2023-03-05T23:15:04.672Z"
      },
      {
        "duration": 96,
        "start_time": "2023-03-05T23:15:04.697Z"
      },
      {
        "duration": 9,
        "start_time": "2023-03-05T23:15:04.795Z"
      },
      {
        "duration": 55,
        "start_time": "2023-03-05T23:15:04.805Z"
      },
      {
        "duration": 111,
        "start_time": "2023-03-05T23:15:04.863Z"
      },
      {
        "duration": 286,
        "start_time": "2023-03-05T23:15:04.975Z"
      },
      {
        "duration": 268,
        "start_time": "2023-03-05T23:15:05.263Z"
      },
      {
        "duration": 32,
        "start_time": "2023-03-05T23:15:05.533Z"
      },
      {
        "duration": 36,
        "start_time": "2023-03-05T23:15:05.567Z"
      },
      {
        "duration": 766,
        "start_time": "2023-03-05T23:15:05.604Z"
      },
      {
        "duration": 35,
        "start_time": "2023-03-05T23:15:06.373Z"
      },
      {
        "duration": 32,
        "start_time": "2023-03-05T23:15:06.410Z"
      },
      {
        "duration": 32,
        "start_time": "2023-03-05T23:15:06.443Z"
      },
      {
        "duration": 12,
        "start_time": "2023-03-05T23:15:06.477Z"
      },
      {
        "duration": 53,
        "start_time": "2023-03-05T23:15:06.491Z"
      },
      {
        "duration": 189,
        "start_time": "2023-03-05T23:15:06.552Z"
      },
      {
        "duration": 26,
        "start_time": "2023-03-05T23:15:06.749Z"
      },
      {
        "duration": 81,
        "start_time": "2023-03-05T23:15:06.777Z"
      },
      {
        "duration": 979,
        "start_time": "2023-03-05T23:15:06.859Z"
      },
      {
        "duration": 0,
        "start_time": "2023-03-05T23:15:07.840Z"
      },
      {
        "duration": 0,
        "start_time": "2023-03-05T23:15:07.842Z"
      },
      {
        "duration": 0,
        "start_time": "2023-03-05T23:15:07.844Z"
      },
      {
        "duration": 0,
        "start_time": "2023-03-05T23:15:07.847Z"
      },
      {
        "duration": 0,
        "start_time": "2023-03-05T23:15:07.850Z"
      },
      {
        "duration": 0,
        "start_time": "2023-03-05T23:15:07.851Z"
      },
      {
        "duration": 0,
        "start_time": "2023-03-05T23:15:07.852Z"
      },
      {
        "duration": 0,
        "start_time": "2023-03-05T23:15:07.852Z"
      },
      {
        "duration": 13,
        "start_time": "2023-03-05T23:15:20.409Z"
      },
      {
        "duration": 11,
        "start_time": "2023-03-05T23:15:40.714Z"
      },
      {
        "duration": 15,
        "start_time": "2023-03-05T23:17:09.784Z"
      },
      {
        "duration": 771,
        "start_time": "2023-03-05T23:18:39.785Z"
      },
      {
        "duration": 11,
        "start_time": "2023-03-05T23:19:11.629Z"
      },
      {
        "duration": 15,
        "start_time": "2023-03-05T23:19:31.457Z"
      },
      {
        "duration": 15,
        "start_time": "2023-03-05T23:19:42.058Z"
      },
      {
        "duration": 13,
        "start_time": "2023-03-05T23:21:42.573Z"
      },
      {
        "duration": 14,
        "start_time": "2023-03-05T23:22:04.767Z"
      },
      {
        "duration": 12,
        "start_time": "2023-03-05T23:22:13.319Z"
      },
      {
        "duration": 11,
        "start_time": "2023-03-05T23:24:11.058Z"
      },
      {
        "duration": 11,
        "start_time": "2023-03-05T23:24:22.985Z"
      },
      {
        "duration": 12,
        "start_time": "2023-03-05T23:24:43.564Z"
      },
      {
        "duration": 11,
        "start_time": "2023-03-05T23:24:52.195Z"
      },
      {
        "duration": 766,
        "start_time": "2023-03-05T23:27:07.004Z"
      },
      {
        "duration": 9,
        "start_time": "2023-03-05T23:27:14.660Z"
      },
      {
        "duration": 10,
        "start_time": "2023-03-05T23:27:21.972Z"
      },
      {
        "duration": 758,
        "start_time": "2023-03-05T23:27:28.108Z"
      },
      {
        "duration": 732,
        "start_time": "2023-03-05T23:27:38.460Z"
      },
      {
        "duration": 24,
        "start_time": "2023-03-05T23:29:45.659Z"
      },
      {
        "duration": 16,
        "start_time": "2023-03-05T23:30:01.555Z"
      },
      {
        "duration": 15,
        "start_time": "2023-03-05T23:30:20.515Z"
      },
      {
        "duration": 800,
        "start_time": "2023-03-05T23:30:28.066Z"
      },
      {
        "duration": 17,
        "start_time": "2023-03-05T23:30:45.381Z"
      },
      {
        "duration": 17,
        "start_time": "2023-03-05T23:31:04.114Z"
      },
      {
        "duration": 16,
        "start_time": "2023-03-05T23:31:22.175Z"
      },
      {
        "duration": 16,
        "start_time": "2023-03-05T23:33:04.616Z"
      },
      {
        "duration": 1128,
        "start_time": "2023-03-05T23:33:38.881Z"
      },
      {
        "duration": 179,
        "start_time": "2023-03-05T23:33:40.012Z"
      },
      {
        "duration": 9,
        "start_time": "2023-03-05T23:33:40.192Z"
      },
      {
        "duration": 42,
        "start_time": "2023-03-05T23:33:40.204Z"
      },
      {
        "duration": 88,
        "start_time": "2023-03-05T23:33:40.250Z"
      },
      {
        "duration": 16,
        "start_time": "2023-03-05T23:33:40.340Z"
      },
      {
        "duration": 56,
        "start_time": "2023-03-05T23:33:40.358Z"
      },
      {
        "duration": 143,
        "start_time": "2023-03-05T23:33:40.416Z"
      },
      {
        "duration": 281,
        "start_time": "2023-03-05T23:33:40.561Z"
      },
      {
        "duration": 255,
        "start_time": "2023-03-05T23:33:40.847Z"
      },
      {
        "duration": 19,
        "start_time": "2023-03-05T23:33:41.103Z"
      },
      {
        "duration": 65,
        "start_time": "2023-03-05T23:33:41.124Z"
      },
      {
        "duration": 774,
        "start_time": "2023-03-05T23:33:41.191Z"
      },
      {
        "duration": 36,
        "start_time": "2023-03-05T23:33:41.966Z"
      },
      {
        "duration": 14,
        "start_time": "2023-03-05T23:33:42.005Z"
      },
      {
        "duration": 22,
        "start_time": "2023-03-05T23:33:42.040Z"
      },
      {
        "duration": 7,
        "start_time": "2023-03-05T23:33:42.065Z"
      },
      {
        "duration": 79,
        "start_time": "2023-03-05T23:33:42.074Z"
      },
      {
        "duration": 148,
        "start_time": "2023-03-05T23:33:42.155Z"
      },
      {
        "duration": 36,
        "start_time": "2023-03-05T23:33:42.306Z"
      },
      {
        "duration": 79,
        "start_time": "2023-03-05T23:33:42.350Z"
      },
      {
        "duration": 32,
        "start_time": "2023-03-05T23:33:42.430Z"
      },
      {
        "duration": 1013,
        "start_time": "2023-03-05T23:33:42.463Z"
      },
      {
        "duration": 0,
        "start_time": "2023-03-05T23:33:43.478Z"
      },
      {
        "duration": 0,
        "start_time": "2023-03-05T23:33:43.479Z"
      },
      {
        "duration": 0,
        "start_time": "2023-03-05T23:33:43.480Z"
      },
      {
        "duration": 0,
        "start_time": "2023-03-05T23:33:43.481Z"
      },
      {
        "duration": 0,
        "start_time": "2023-03-05T23:33:43.482Z"
      },
      {
        "duration": 0,
        "start_time": "2023-03-05T23:33:43.483Z"
      },
      {
        "duration": 0,
        "start_time": "2023-03-05T23:33:43.484Z"
      },
      {
        "duration": 0,
        "start_time": "2023-03-05T23:33:43.485Z"
      },
      {
        "duration": 7,
        "start_time": "2023-03-05T23:38:24.866Z"
      },
      {
        "duration": 6,
        "start_time": "2023-03-05T23:38:32.469Z"
      },
      {
        "duration": 12,
        "start_time": "2023-03-05T23:38:35.561Z"
      },
      {
        "duration": 1310,
        "start_time": "2023-03-06T14:11:22.781Z"
      },
      {
        "duration": 655,
        "start_time": "2023-03-06T14:11:24.093Z"
      },
      {
        "duration": 10,
        "start_time": "2023-03-06T14:11:24.750Z"
      },
      {
        "duration": 26,
        "start_time": "2023-03-06T14:11:24.762Z"
      },
      {
        "duration": 97,
        "start_time": "2023-03-06T14:11:24.790Z"
      },
      {
        "duration": 9,
        "start_time": "2023-03-06T14:11:24.888Z"
      },
      {
        "duration": 35,
        "start_time": "2023-03-06T14:11:24.899Z"
      },
      {
        "duration": 132,
        "start_time": "2023-03-06T14:11:24.935Z"
      },
      {
        "duration": 307,
        "start_time": "2023-03-06T14:11:25.069Z"
      },
      {
        "duration": 246,
        "start_time": "2023-03-06T14:11:25.378Z"
      },
      {
        "duration": 38,
        "start_time": "2023-03-06T14:11:25.626Z"
      },
      {
        "duration": 31,
        "start_time": "2023-03-06T14:11:25.669Z"
      },
      {
        "duration": 767,
        "start_time": "2023-03-06T14:11:25.702Z"
      },
      {
        "duration": 34,
        "start_time": "2023-03-06T14:11:26.472Z"
      },
      {
        "duration": 41,
        "start_time": "2023-03-06T14:11:26.507Z"
      },
      {
        "duration": 25,
        "start_time": "2023-03-06T14:11:26.563Z"
      },
      {
        "duration": 17,
        "start_time": "2023-03-06T14:11:26.590Z"
      },
      {
        "duration": 71,
        "start_time": "2023-03-06T14:11:26.609Z"
      },
      {
        "duration": 193,
        "start_time": "2023-03-06T14:11:26.682Z"
      },
      {
        "duration": 25,
        "start_time": "2023-03-06T14:11:26.877Z"
      },
      {
        "duration": 83,
        "start_time": "2023-03-06T14:11:26.904Z"
      },
      {
        "duration": 12,
        "start_time": "2023-03-06T14:11:26.989Z"
      },
      {
        "duration": 52,
        "start_time": "2023-03-06T14:11:27.003Z"
      },
      {
        "duration": 5,
        "start_time": "2023-03-06T14:11:27.057Z"
      },
      {
        "duration": 90,
        "start_time": "2023-03-06T14:11:27.063Z"
      },
      {
        "duration": 14,
        "start_time": "2023-03-06T14:11:27.163Z"
      },
      {
        "duration": 18,
        "start_time": "2023-03-06T14:11:27.179Z"
      },
      {
        "duration": 10,
        "start_time": "2023-03-06T14:11:27.199Z"
      },
      {
        "duration": 9,
        "start_time": "2023-03-06T14:11:27.210Z"
      },
      {
        "duration": 25,
        "start_time": "2023-03-06T14:11:27.221Z"
      },
      {
        "duration": 133,
        "start_time": "2023-03-06T14:12:27.294Z"
      },
      {
        "duration": 12,
        "start_time": "2023-03-06T14:12:41.414Z"
      },
      {
        "duration": 11,
        "start_time": "2023-03-06T14:12:45.878Z"
      },
      {
        "duration": 725,
        "start_time": "2023-03-06T14:13:04.558Z"
      },
      {
        "duration": 14,
        "start_time": "2023-03-06T14:13:25.081Z"
      },
      {
        "duration": 7,
        "start_time": "2023-03-06T14:13:41.187Z"
      },
      {
        "duration": 672,
        "start_time": "2023-03-06T14:14:27.674Z"
      },
      {
        "duration": 764,
        "start_time": "2023-03-06T14:14:55.878Z"
      },
      {
        "duration": 204,
        "start_time": "2023-03-06T14:15:06.881Z"
      },
      {
        "duration": 5,
        "start_time": "2023-03-06T14:15:56.383Z"
      },
      {
        "duration": 8,
        "start_time": "2023-03-06T14:16:10.817Z"
      },
      {
        "duration": 12,
        "start_time": "2023-03-06T14:16:15.718Z"
      },
      {
        "duration": 13,
        "start_time": "2023-03-06T14:18:49.299Z"
      },
      {
        "duration": 194,
        "start_time": "2023-03-06T14:19:42.793Z"
      },
      {
        "duration": 296,
        "start_time": "2023-03-06T14:22:42.749Z"
      },
      {
        "duration": 504,
        "start_time": "2023-03-06T14:22:52.002Z"
      },
      {
        "duration": 10438,
        "start_time": "2023-03-06T14:23:05.353Z"
      },
      {
        "duration": 11515,
        "start_time": "2023-03-06T14:24:48.013Z"
      },
      {
        "duration": 11562,
        "start_time": "2023-03-06T14:28:56.595Z"
      },
      {
        "duration": 11788,
        "start_time": "2023-03-06T14:29:24.450Z"
      },
      {
        "duration": 11016,
        "start_time": "2023-03-06T14:32:53.348Z"
      },
      {
        "duration": 11198,
        "start_time": "2023-03-06T14:33:18.590Z"
      },
      {
        "duration": 11,
        "start_time": "2023-03-06T14:34:04.382Z"
      },
      {
        "duration": 1072,
        "start_time": "2023-03-06T14:34:25.188Z"
      },
      {
        "duration": 185,
        "start_time": "2023-03-06T14:34:26.263Z"
      },
      {
        "duration": 10,
        "start_time": "2023-03-06T14:34:26.450Z"
      },
      {
        "duration": 27,
        "start_time": "2023-03-06T14:34:26.462Z"
      },
      {
        "duration": 89,
        "start_time": "2023-03-06T14:34:26.491Z"
      },
      {
        "duration": 8,
        "start_time": "2023-03-06T14:34:26.582Z"
      },
      {
        "duration": 25,
        "start_time": "2023-03-06T14:34:26.591Z"
      },
      {
        "duration": 134,
        "start_time": "2023-03-06T14:34:26.633Z"
      },
      {
        "duration": 285,
        "start_time": "2023-03-06T14:34:26.770Z"
      },
      {
        "duration": 234,
        "start_time": "2023-03-06T14:34:27.057Z"
      },
      {
        "duration": 20,
        "start_time": "2023-03-06T14:34:27.293Z"
      },
      {
        "duration": 10264,
        "start_time": "2023-03-06T14:34:27.314Z"
      },
      {
        "duration": 29,
        "start_time": "2023-03-06T14:34:37.580Z"
      },
      {
        "duration": 665,
        "start_time": "2023-03-06T14:34:37.612Z"
      },
      {
        "duration": 33,
        "start_time": "2023-03-06T14:34:38.279Z"
      },
      {
        "duration": 36,
        "start_time": "2023-03-06T14:34:38.314Z"
      },
      {
        "duration": 11,
        "start_time": "2023-03-06T14:34:38.352Z"
      },
      {
        "duration": 6,
        "start_time": "2023-03-06T14:34:38.365Z"
      },
      {
        "duration": 35,
        "start_time": "2023-03-06T14:34:38.372Z"
      },
      {
        "duration": 156,
        "start_time": "2023-03-06T14:34:38.408Z"
      },
      {
        "duration": 18,
        "start_time": "2023-03-06T14:34:38.566Z"
      },
      {
        "duration": 78,
        "start_time": "2023-03-06T14:34:38.586Z"
      },
      {
        "duration": 11,
        "start_time": "2023-03-06T14:34:38.665Z"
      },
      {
        "duration": 38,
        "start_time": "2023-03-06T14:34:38.678Z"
      },
      {
        "duration": 4,
        "start_time": "2023-03-06T14:34:38.717Z"
      },
      {
        "duration": 92,
        "start_time": "2023-03-06T14:34:38.723Z"
      },
      {
        "duration": 24,
        "start_time": "2023-03-06T14:34:38.817Z"
      },
      {
        "duration": 17,
        "start_time": "2023-03-06T14:34:38.842Z"
      },
      {
        "duration": 11,
        "start_time": "2023-03-06T14:34:38.861Z"
      },
      {
        "duration": 9,
        "start_time": "2023-03-06T14:34:38.874Z"
      },
      {
        "duration": 12,
        "start_time": "2023-03-06T14:34:38.884Z"
      },
      {
        "duration": 12,
        "start_time": "2023-03-06T14:34:46.046Z"
      },
      {
        "duration": 5,
        "start_time": "2023-03-06T14:35:44.694Z"
      },
      {
        "duration": 72,
        "start_time": "2023-03-06T14:36:35.547Z"
      },
      {
        "duration": 9,
        "start_time": "2023-03-06T14:36:49.183Z"
      },
      {
        "duration": 10,
        "start_time": "2023-03-06T14:38:07.069Z"
      },
      {
        "duration": 11,
        "start_time": "2023-03-06T14:38:14.596Z"
      },
      {
        "duration": 13,
        "start_time": "2023-03-06T14:38:19.245Z"
      },
      {
        "duration": 11,
        "start_time": "2023-03-06T14:38:27.346Z"
      },
      {
        "duration": 5,
        "start_time": "2023-03-06T15:30:16.810Z"
      },
      {
        "duration": 15,
        "start_time": "2023-03-06T15:31:37.289Z"
      },
      {
        "duration": 21,
        "start_time": "2023-03-06T15:32:39.558Z"
      },
      {
        "duration": 9,
        "start_time": "2023-03-06T15:32:41.687Z"
      },
      {
        "duration": 11,
        "start_time": "2023-03-06T15:32:43.913Z"
      },
      {
        "duration": 1424,
        "start_time": "2023-03-06T15:46:16.942Z"
      },
      {
        "duration": 236,
        "start_time": "2023-03-06T15:46:18.372Z"
      },
      {
        "duration": 12,
        "start_time": "2023-03-06T15:46:18.611Z"
      },
      {
        "duration": 32,
        "start_time": "2023-03-06T15:46:18.625Z"
      },
      {
        "duration": 162,
        "start_time": "2023-03-06T15:46:18.659Z"
      },
      {
        "duration": 31,
        "start_time": "2023-03-06T15:46:18.823Z"
      },
      {
        "duration": 77,
        "start_time": "2023-03-06T15:46:18.865Z"
      },
      {
        "duration": 150,
        "start_time": "2023-03-06T15:46:18.947Z"
      },
      {
        "duration": 303,
        "start_time": "2023-03-06T15:46:19.099Z"
      },
      {
        "duration": 306,
        "start_time": "2023-03-06T15:46:19.407Z"
      },
      {
        "duration": 41,
        "start_time": "2023-03-06T15:46:19.719Z"
      },
      {
        "duration": 13177,
        "start_time": "2023-03-06T15:46:19.771Z"
      },
      {
        "duration": 63,
        "start_time": "2023-03-06T15:46:32.953Z"
      },
      {
        "duration": 905,
        "start_time": "2023-03-06T15:46:33.019Z"
      },
      {
        "duration": 78,
        "start_time": "2023-03-06T15:46:33.926Z"
      },
      {
        "duration": 36,
        "start_time": "2023-03-06T15:46:34.008Z"
      },
      {
        "duration": 82,
        "start_time": "2023-03-06T15:46:34.046Z"
      },
      {
        "duration": 18,
        "start_time": "2023-03-06T15:46:34.130Z"
      },
      {
        "duration": 126,
        "start_time": "2023-03-06T15:46:34.153Z"
      },
      {
        "duration": 215,
        "start_time": "2023-03-06T15:46:34.281Z"
      },
      {
        "duration": 28,
        "start_time": "2023-03-06T15:46:34.502Z"
      },
      {
        "duration": 89,
        "start_time": "2023-03-06T15:46:34.537Z"
      },
      {
        "duration": 52,
        "start_time": "2023-03-06T15:46:34.628Z"
      },
      {
        "duration": 92,
        "start_time": "2023-03-06T15:46:34.686Z"
      },
      {
        "duration": 8,
        "start_time": "2023-03-06T15:46:34.780Z"
      },
      {
        "duration": 146,
        "start_time": "2023-03-06T15:46:34.790Z"
      },
      {
        "duration": 26,
        "start_time": "2023-03-06T15:46:34.938Z"
      },
      {
        "duration": 56,
        "start_time": "2023-03-06T15:46:34.966Z"
      },
      {
        "duration": 22,
        "start_time": "2023-03-06T15:46:35.024Z"
      },
      {
        "duration": 65,
        "start_time": "2023-03-06T15:46:35.055Z"
      },
      {
        "duration": 13,
        "start_time": "2023-03-06T15:46:35.122Z"
      },
      {
        "duration": 10,
        "start_time": "2023-03-06T15:46:35.138Z"
      },
      {
        "duration": 59,
        "start_time": "2023-03-06T15:46:35.150Z"
      },
      {
        "duration": 14,
        "start_time": "2023-03-06T15:46:35.211Z"
      },
      {
        "duration": 53,
        "start_time": "2023-03-06T15:46:35.227Z"
      },
      {
        "duration": 36,
        "start_time": "2023-03-06T15:46:35.283Z"
      },
      {
        "duration": 12,
        "start_time": "2023-03-06T15:47:50.215Z"
      },
      {
        "duration": 1104,
        "start_time": "2023-03-06T22:38:26.107Z"
      },
      {
        "duration": 166,
        "start_time": "2023-03-06T22:38:27.213Z"
      },
      {
        "duration": 10,
        "start_time": "2023-03-06T22:38:27.380Z"
      },
      {
        "duration": 21,
        "start_time": "2023-03-06T22:38:27.391Z"
      },
      {
        "duration": 88,
        "start_time": "2023-03-06T22:38:27.414Z"
      },
      {
        "duration": 8,
        "start_time": "2023-03-06T22:38:27.504Z"
      },
      {
        "duration": 30,
        "start_time": "2023-03-06T22:38:27.514Z"
      },
      {
        "duration": 113,
        "start_time": "2023-03-06T22:38:27.545Z"
      },
      {
        "duration": 252,
        "start_time": "2023-03-06T22:38:27.660Z"
      },
      {
        "duration": 219,
        "start_time": "2023-03-06T22:38:27.915Z"
      },
      {
        "duration": 17,
        "start_time": "2023-03-06T22:38:28.135Z"
      },
      {
        "duration": 10072,
        "start_time": "2023-03-06T22:38:28.153Z"
      },
      {
        "duration": 29,
        "start_time": "2023-03-06T22:38:38.227Z"
      },
      {
        "duration": 678,
        "start_time": "2023-03-06T22:38:38.257Z"
      },
      {
        "duration": 34,
        "start_time": "2023-03-06T22:38:38.936Z"
      },
      {
        "duration": 25,
        "start_time": "2023-03-06T22:38:38.971Z"
      },
      {
        "duration": 16,
        "start_time": "2023-03-06T22:38:38.997Z"
      },
      {
        "duration": 6,
        "start_time": "2023-03-06T22:38:39.014Z"
      },
      {
        "duration": 38,
        "start_time": "2023-03-06T22:38:39.021Z"
      },
      {
        "duration": 163,
        "start_time": "2023-03-06T22:38:39.060Z"
      },
      {
        "duration": 20,
        "start_time": "2023-03-06T22:38:39.225Z"
      },
      {
        "duration": 74,
        "start_time": "2023-03-06T22:38:39.246Z"
      },
      {
        "duration": 11,
        "start_time": "2023-03-06T22:38:39.322Z"
      },
      {
        "duration": 31,
        "start_time": "2023-03-06T22:38:39.335Z"
      },
      {
        "duration": 23,
        "start_time": "2023-03-06T22:38:39.368Z"
      },
      {
        "duration": 80,
        "start_time": "2023-03-06T22:38:39.392Z"
      },
      {
        "duration": 19,
        "start_time": "2023-03-06T22:38:39.473Z"
      },
      {
        "duration": 10,
        "start_time": "2023-03-06T22:38:39.495Z"
      },
      {
        "duration": 10,
        "start_time": "2023-03-06T22:38:39.507Z"
      },
      {
        "duration": 9,
        "start_time": "2023-03-06T22:38:39.519Z"
      },
      {
        "duration": 12,
        "start_time": "2023-03-06T22:38:39.530Z"
      },
      {
        "duration": 4,
        "start_time": "2023-03-06T22:38:39.544Z"
      },
      {
        "duration": 11,
        "start_time": "2023-03-06T22:38:39.591Z"
      },
      {
        "duration": 10,
        "start_time": "2023-03-06T22:38:39.603Z"
      },
      {
        "duration": 13,
        "start_time": "2023-03-06T22:38:39.615Z"
      },
      {
        "duration": 10,
        "start_time": "2023-03-06T22:38:39.630Z"
      },
      {
        "duration": 197,
        "start_time": "2023-03-06T22:42:32.920Z"
      },
      {
        "duration": 5,
        "start_time": "2023-03-06T22:44:56.953Z"
      },
      {
        "duration": 1307,
        "start_time": "2023-03-18T14:24:43.823Z"
      },
      {
        "duration": 16298,
        "start_time": "2023-03-18T14:24:45.132Z"
      },
      {
        "duration": 805,
        "start_time": "2023-03-18T14:25:28.659Z"
      },
      {
        "duration": 6617,
        "start_time": "2023-03-18T14:25:55.726Z"
      }
    ],
    "kernelspec": {
      "display_name": "Python 3 (ipykernel)",
      "language": "python",
      "name": "python3"
    },
    "language_info": {
      "codemirror_mode": {
        "name": "ipython",
        "version": 3
      },
      "file_extension": ".py",
      "mimetype": "text/x-python",
      "name": "python",
      "nbconvert_exporter": "python",
      "pygments_lexer": "ipython3",
      "version": "3.9.5"
    },
    "toc": {
      "base_numbering": 1,
      "nav_menu": {},
      "number_sections": false,
      "sideBar": true,
      "skip_h1_title": false,
      "title_cell": "Table of Contents",
      "title_sidebar": "Contents",
      "toc_cell": false,
      "toc_position": {
        "height": "calc(100% - 180px)",
        "left": "10px",
        "top": "150px",
        "width": "165px"
      },
      "toc_section_display": true,
      "toc_window_display": true
    },
    "colab": {
      "provenance": []
    }
  },
  "nbformat": 4,
  "nbformat_minor": 0
}