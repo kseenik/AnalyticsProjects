{
  "cells": [
    {
      "cell_type": "markdown",
      "metadata": {
        "id": "iJBkum5MtF8S"
      },
      "source": [
        "# Исследование объявлений о продаже квартир\n"
      ]
    },
    {
      "cell_type": "markdown",
      "metadata": {
        "id": "rlvCN8IMtF8S"
      },
      "source": [
        "------------------------------------------------------------------------------------\n",
        "\n",
        "Цель: найти интересные особенности и зависимости, которые существуют на рынке недвижимости. Установить параметры, которые позволят построить автоматизированную систему\n",
        "\n",
        "Входные данные — архив объявлений о продаже квартир в Санкт-Петербурге и соседних населённых пунктов за несколько лет.\n",
        "\n",
        "План работы:\n",
        "1. Рассмотреть данные\n",
        "2. Провести их преодобработку\n",
        "3. Добавить в таблицу необходимые столбцы\n",
        "4. Провести исследовательский анализ данных\n",
        "5. Сделать вывод"
      ]
    },
    {
      "cell_type": "markdown",
      "metadata": {
        "id": "e1UJO2CitF8T"
      },
      "source": [
        "## Этап 1. Обзор данных\n",
        "\n",
        "\n",
        "\n"
      ]
    },
    {
      "cell_type": "code",
      "execution_count": null,
      "metadata": {
        "id": "kTK1J073tF8U",
        "outputId": "5c1448d1-38b1-4b22-89c6-4079fe46e721"
      },
      "outputs": [
        {
          "data": {
            "text/html": [
              "<div>\n",
              "<style scoped>\n",
              "    .dataframe tbody tr th:only-of-type {\n",
              "        vertical-align: middle;\n",
              "    }\n",
              "\n",
              "    .dataframe tbody tr th {\n",
              "        vertical-align: top;\n",
              "    }\n",
              "\n",
              "    .dataframe thead th {\n",
              "        text-align: right;\n",
              "    }\n",
              "</style>\n",
              "<table border=\"1\" class=\"dataframe\">\n",
              "  <thead>\n",
              "    <tr style=\"text-align: right;\">\n",
              "      <th></th>\n",
              "      <th>total_images</th>\n",
              "      <th>last_price</th>\n",
              "      <th>total_area</th>\n",
              "      <th>first_day_exposition</th>\n",
              "      <th>rooms</th>\n",
              "      <th>ceiling_height</th>\n",
              "      <th>floors_total</th>\n",
              "      <th>living_area</th>\n",
              "      <th>floor</th>\n",
              "      <th>is_apartment</th>\n",
              "      <th>...</th>\n",
              "      <th>kitchen_area</th>\n",
              "      <th>balcony</th>\n",
              "      <th>locality_name</th>\n",
              "      <th>airports_nearest</th>\n",
              "      <th>cityCenters_nearest</th>\n",
              "      <th>parks_around3000</th>\n",
              "      <th>parks_nearest</th>\n",
              "      <th>ponds_around3000</th>\n",
              "      <th>ponds_nearest</th>\n",
              "      <th>days_exposition</th>\n",
              "    </tr>\n",
              "  </thead>\n",
              "  <tbody>\n",
              "    <tr>\n",
              "      <th>0</th>\n",
              "      <td>20</td>\n",
              "      <td>13000000.0</td>\n",
              "      <td>108.0</td>\n",
              "      <td>2019-03-07T00:00:00</td>\n",
              "      <td>3</td>\n",
              "      <td>2.70</td>\n",
              "      <td>16.0</td>\n",
              "      <td>51.0</td>\n",
              "      <td>8</td>\n",
              "      <td>NaN</td>\n",
              "      <td>...</td>\n",
              "      <td>25.0</td>\n",
              "      <td>NaN</td>\n",
              "      <td>Санкт-Петербург</td>\n",
              "      <td>18863.0</td>\n",
              "      <td>16028.0</td>\n",
              "      <td>1.0</td>\n",
              "      <td>482.0</td>\n",
              "      <td>2.0</td>\n",
              "      <td>755.0</td>\n",
              "      <td>NaN</td>\n",
              "    </tr>\n",
              "    <tr>\n",
              "      <th>1</th>\n",
              "      <td>7</td>\n",
              "      <td>3350000.0</td>\n",
              "      <td>40.4</td>\n",
              "      <td>2018-12-04T00:00:00</td>\n",
              "      <td>1</td>\n",
              "      <td>NaN</td>\n",
              "      <td>11.0</td>\n",
              "      <td>18.6</td>\n",
              "      <td>1</td>\n",
              "      <td>NaN</td>\n",
              "      <td>...</td>\n",
              "      <td>11.0</td>\n",
              "      <td>2.0</td>\n",
              "      <td>посёлок Шушары</td>\n",
              "      <td>12817.0</td>\n",
              "      <td>18603.0</td>\n",
              "      <td>0.0</td>\n",
              "      <td>NaN</td>\n",
              "      <td>0.0</td>\n",
              "      <td>NaN</td>\n",
              "      <td>81.0</td>\n",
              "    </tr>\n",
              "    <tr>\n",
              "      <th>2</th>\n",
              "      <td>10</td>\n",
              "      <td>5196000.0</td>\n",
              "      <td>56.0</td>\n",
              "      <td>2015-08-20T00:00:00</td>\n",
              "      <td>2</td>\n",
              "      <td>NaN</td>\n",
              "      <td>5.0</td>\n",
              "      <td>34.3</td>\n",
              "      <td>4</td>\n",
              "      <td>NaN</td>\n",
              "      <td>...</td>\n",
              "      <td>8.3</td>\n",
              "      <td>0.0</td>\n",
              "      <td>Санкт-Петербург</td>\n",
              "      <td>21741.0</td>\n",
              "      <td>13933.0</td>\n",
              "      <td>1.0</td>\n",
              "      <td>90.0</td>\n",
              "      <td>2.0</td>\n",
              "      <td>574.0</td>\n",
              "      <td>558.0</td>\n",
              "    </tr>\n",
              "    <tr>\n",
              "      <th>3</th>\n",
              "      <td>0</td>\n",
              "      <td>64900000.0</td>\n",
              "      <td>159.0</td>\n",
              "      <td>2015-07-24T00:00:00</td>\n",
              "      <td>3</td>\n",
              "      <td>NaN</td>\n",
              "      <td>14.0</td>\n",
              "      <td>NaN</td>\n",
              "      <td>9</td>\n",
              "      <td>NaN</td>\n",
              "      <td>...</td>\n",
              "      <td>NaN</td>\n",
              "      <td>0.0</td>\n",
              "      <td>Санкт-Петербург</td>\n",
              "      <td>28098.0</td>\n",
              "      <td>6800.0</td>\n",
              "      <td>2.0</td>\n",
              "      <td>84.0</td>\n",
              "      <td>3.0</td>\n",
              "      <td>234.0</td>\n",
              "      <td>424.0</td>\n",
              "    </tr>\n",
              "    <tr>\n",
              "      <th>4</th>\n",
              "      <td>2</td>\n",
              "      <td>10000000.0</td>\n",
              "      <td>100.0</td>\n",
              "      <td>2018-06-19T00:00:00</td>\n",
              "      <td>2</td>\n",
              "      <td>3.03</td>\n",
              "      <td>14.0</td>\n",
              "      <td>32.0</td>\n",
              "      <td>13</td>\n",
              "      <td>NaN</td>\n",
              "      <td>...</td>\n",
              "      <td>41.0</td>\n",
              "      <td>NaN</td>\n",
              "      <td>Санкт-Петербург</td>\n",
              "      <td>31856.0</td>\n",
              "      <td>8098.0</td>\n",
              "      <td>2.0</td>\n",
              "      <td>112.0</td>\n",
              "      <td>1.0</td>\n",
              "      <td>48.0</td>\n",
              "      <td>121.0</td>\n",
              "    </tr>\n",
              "  </tbody>\n",
              "</table>\n",
              "<p>5 rows × 22 columns</p>\n",
              "</div>"
            ],
            "text/plain": [
              "   total_images  last_price  total_area first_day_exposition  rooms  \\\n",
              "0            20  13000000.0       108.0  2019-03-07T00:00:00      3   \n",
              "1             7   3350000.0        40.4  2018-12-04T00:00:00      1   \n",
              "2            10   5196000.0        56.0  2015-08-20T00:00:00      2   \n",
              "3             0  64900000.0       159.0  2015-07-24T00:00:00      3   \n",
              "4             2  10000000.0       100.0  2018-06-19T00:00:00      2   \n",
              "\n",
              "   ceiling_height  floors_total  living_area  floor is_apartment  ...  \\\n",
              "0            2.70          16.0         51.0      8          NaN  ...   \n",
              "1             NaN          11.0         18.6      1          NaN  ...   \n",
              "2             NaN           5.0         34.3      4          NaN  ...   \n",
              "3             NaN          14.0          NaN      9          NaN  ...   \n",
              "4            3.03          14.0         32.0     13          NaN  ...   \n",
              "\n",
              "   kitchen_area  balcony    locality_name  airports_nearest  \\\n",
              "0          25.0      NaN  Санкт-Петербург           18863.0   \n",
              "1          11.0      2.0   посёлок Шушары           12817.0   \n",
              "2           8.3      0.0  Санкт-Петербург           21741.0   \n",
              "3           NaN      0.0  Санкт-Петербург           28098.0   \n",
              "4          41.0      NaN  Санкт-Петербург           31856.0   \n",
              "\n",
              "  cityCenters_nearest  parks_around3000  parks_nearest  ponds_around3000  \\\n",
              "0             16028.0               1.0          482.0               2.0   \n",
              "1             18603.0               0.0            NaN               0.0   \n",
              "2             13933.0               1.0           90.0               2.0   \n",
              "3              6800.0               2.0           84.0               3.0   \n",
              "4              8098.0               2.0          112.0               1.0   \n",
              "\n",
              "   ponds_nearest  days_exposition  \n",
              "0          755.0              NaN  \n",
              "1            NaN             81.0  \n",
              "2          574.0            558.0  \n",
              "3          234.0            424.0  \n",
              "4           48.0            121.0  \n",
              "\n",
              "[5 rows x 22 columns]"
            ]
          },
          "execution_count": 1,
          "metadata": {},
          "output_type": "execute_result"
        }
      ],
      "source": [
        "import pandas as pd\n",
        "\n",
        "data = pd.read_csv ('/datasets/real_estate_data.csv', sep='\\t')\n",
        "data.head()"
      ]
    },
    {
      "cell_type": "code",
      "execution_count": null,
      "metadata": {
        "id": "OdESGf_ttF8V",
        "outputId": "205af441-d8e5-4ad6-e673-65a6d94ff1f0"
      },
      "outputs": [
        {
          "name": "stdout",
          "output_type": "stream",
          "text": [
            "<class 'pandas.core.frame.DataFrame'>\n",
            "RangeIndex: 23699 entries, 0 to 23698\n",
            "Data columns (total 22 columns):\n",
            " #   Column                Non-Null Count  Dtype  \n",
            "---  ------                --------------  -----  \n",
            " 0   total_images          23699 non-null  int64  \n",
            " 1   last_price            23699 non-null  float64\n",
            " 2   total_area            23699 non-null  float64\n",
            " 3   first_day_exposition  23699 non-null  object \n",
            " 4   rooms                 23699 non-null  int64  \n",
            " 5   ceiling_height        14504 non-null  float64\n",
            " 6   floors_total          23613 non-null  float64\n",
            " 7   living_area           21796 non-null  float64\n",
            " 8   floor                 23699 non-null  int64  \n",
            " 9   is_apartment          2775 non-null   object \n",
            " 10  studio                23699 non-null  bool   \n",
            " 11  open_plan             23699 non-null  bool   \n",
            " 12  kitchen_area          21421 non-null  float64\n",
            " 13  balcony               12180 non-null  float64\n",
            " 14  locality_name         23650 non-null  object \n",
            " 15  airports_nearest      18157 non-null  float64\n",
            " 16  cityCenters_nearest   18180 non-null  float64\n",
            " 17  parks_around3000      18181 non-null  float64\n",
            " 18  parks_nearest         8079 non-null   float64\n",
            " 19  ponds_around3000      18181 non-null  float64\n",
            " 20  ponds_nearest         9110 non-null   float64\n",
            " 21  days_exposition       20518 non-null  float64\n",
            "dtypes: bool(2), float64(14), int64(3), object(3)\n",
            "memory usage: 3.7+ MB\n"
          ]
        }
      ],
      "source": [
        "data.info()"
      ]
    },
    {
      "cell_type": "code",
      "execution_count": null,
      "metadata": {
        "id": "l-v0arlXtF8W",
        "outputId": "aac5ca63-ef20-4512-ef6a-78e9861e7aba"
      },
      "outputs": [
        {
          "data": {
            "text/plain": [
              "array([[<AxesSubplot:title={'center':'total_images'}>,\n",
              "        <AxesSubplot:title={'center':'last_price'}>,\n",
              "        <AxesSubplot:title={'center':'total_area'}>,\n",
              "        <AxesSubplot:title={'center':'rooms'}>],\n",
              "       [<AxesSubplot:title={'center':'ceiling_height'}>,\n",
              "        <AxesSubplot:title={'center':'floors_total'}>,\n",
              "        <AxesSubplot:title={'center':'living_area'}>,\n",
              "        <AxesSubplot:title={'center':'floor'}>],\n",
              "       [<AxesSubplot:title={'center':'kitchen_area'}>,\n",
              "        <AxesSubplot:title={'center':'balcony'}>,\n",
              "        <AxesSubplot:title={'center':'airports_nearest'}>,\n",
              "        <AxesSubplot:title={'center':'cityCenters_nearest'}>],\n",
              "       [<AxesSubplot:title={'center':'parks_around3000'}>,\n",
              "        <AxesSubplot:title={'center':'parks_nearest'}>,\n",
              "        <AxesSubplot:title={'center':'ponds_around3000'}>,\n",
              "        <AxesSubplot:title={'center':'ponds_nearest'}>],\n",
              "       [<AxesSubplot:title={'center':'days_exposition'}>, <AxesSubplot:>,\n",
              "        <AxesSubplot:>, <AxesSubplot:>]], dtype=object)"
            ]
          },
          "execution_count": 3,
          "metadata": {},
          "output_type": "execute_result"
        },
        {
          "data": {
            "image/png": "[encoded data removed]",
            "text/plain": [
              "<Figure size 1080x1440 with 20 Axes>"
            ]
          },
          "metadata": {
            "needs_background": "light"
          },
          "output_type": "display_data"
        }
      ],
      "source": [
        "data.hist(figsize=(15, 20))"
      ]
    },
    {
      "cell_type": "markdown",
      "metadata": {
        "id": "ygbkzE4-tF8W"
      },
      "source": [
        "## Этап 2. Предобработка данных"
      ]
    },
    {
      "cell_type": "markdown",
      "metadata": {
        "id": "WD8tPKKatF8X"
      },
      "source": [
        "1. Определим, в каких столбцах есть пропуски и их количество."
      ]
    },
    {
      "cell_type": "code",
      "execution_count": null,
      "metadata": {
        "id": "ccTU1jYYtF8X",
        "outputId": "828e9446-fdd2-4f34-cb89-7f63bda41d1e"
      },
      "outputs": [
        {
          "data": {
            "text/plain": [
              "total_images                0\n",
              "last_price                  0\n",
              "total_area                  0\n",
              "first_day_exposition        0\n",
              "rooms                       0\n",
              "ceiling_height           9195\n",
              "floors_total               86\n",
              "living_area              1903\n",
              "floor                       0\n",
              "is_apartment            20924\n",
              "studio                      0\n",
              "open_plan                   0\n",
              "kitchen_area             2278\n",
              "balcony                 11519\n",
              "locality_name              49\n",
              "airports_nearest         5542\n",
              "cityCenters_nearest      5519\n",
              "parks_around3000         5518\n",
              "parks_nearest           15620\n",
              "ponds_around3000         5518\n",
              "ponds_nearest           14589\n",
              "days_exposition          3181\n",
              "dtype: int64"
            ]
          },
          "execution_count": 4,
          "metadata": {},
          "output_type": "execute_result"
        }
      ],
      "source": [
        "data.isna().sum()"
      ]
    },
    {
      "cell_type": "markdown",
      "metadata": {
        "id": "43EzUYv4tF8X"
      },
      "source": [
        "Предложим логичную замену для пропусков. Сделать это можно для данных о высоте потолков и количестве балконов. Высоту потолков можно заменить медианным значением, а пропуски в количестве балконов можно заменить на 0.\n",
        "\n",
        "Для остальных данных предложить логическую замену не получится."
      ]
    },
    {
      "cell_type": "code",
      "execution_count": null,
      "metadata": {
        "id": "LvEY0RXBtF8X",
        "outputId": "719e553d-a014-453d-9c23-a8ccf4c6ab73"
      },
      "outputs": [
        {
          "data": {
            "text/plain": [
              "total_images                0\n",
              "last_price                  0\n",
              "total_area                  0\n",
              "first_day_exposition        0\n",
              "rooms                       0\n",
              "ceiling_height              0\n",
              "floors_total               86\n",
              "living_area              1903\n",
              "floor                       0\n",
              "is_apartment            20924\n",
              "studio                      0\n",
              "open_plan                   0\n",
              "kitchen_area             2278\n",
              "balcony                     0\n",
              "locality_name              49\n",
              "airports_nearest         5542\n",
              "cityCenters_nearest      5519\n",
              "parks_around3000         5518\n",
              "parks_nearest           15620\n",
              "ponds_around3000         5518\n",
              "ponds_nearest           14589\n",
              "days_exposition          3181\n",
              "dtype: int64"
            ]
          },
          "execution_count": 5,
          "metadata": {},
          "output_type": "execute_result"
        }
      ],
      "source": [
        "ceiling_height_median = data['ceiling_height'].median()\n",
        "data['ceiling_height'] = data['ceiling_height'].fillna(ceiling_height_median)\n",
        "\n",
        "data['balcony'] = data['balcony'].fillna(0)\n",
        "data.isna().sum()"
      ]
    },
    {
      "cell_type": "markdown",
      "metadata": {
        "id": "7kw0IgtMtF8Y"
      },
      "source": [
        "К пропускам в данных могло привести то, что при заполнении объявлений не была указана вся информация. Данные, с пропущенными значениями, не являются обязательными, поэтому многие их могут пропустить.\n",
        "Также могли намеренно скрыть информацию.\n",
        "\n",
        "2. Рассмотрим типы данных и исправим на нужные при необходимости."
      ]
    },
    {
      "cell_type": "code",
      "execution_count": null,
      "metadata": {
        "scrolled": true,
        "id": "nvR5tOt0tF8Y",
        "outputId": "f2d8f347-4d68-473d-aacc-cf48275fef0e"
      },
      "outputs": [
        {
          "data": {
            "text/plain": [
              "total_images              int64\n",
              "last_price              float64\n",
              "total_area              float64\n",
              "first_day_exposition     object\n",
              "rooms                     int64\n",
              "ceiling_height          float64\n",
              "floors_total            float64\n",
              "living_area             float64\n",
              "floor                     int64\n",
              "is_apartment             object\n",
              "studio                     bool\n",
              "open_plan                  bool\n",
              "kitchen_area            float64\n",
              "balcony                 float64\n",
              "locality_name            object\n",
              "airports_nearest        float64\n",
              "cityCenters_nearest     float64\n",
              "parks_around3000        float64\n",
              "parks_nearest           float64\n",
              "ponds_around3000        float64\n",
              "ponds_nearest           float64\n",
              "days_exposition         float64\n",
              "dtype: object"
            ]
          },
          "execution_count": 6,
          "metadata": {},
          "output_type": "execute_result"
        }
      ],
      "source": [
        "data.dtypes"
      ]
    },
    {
      "cell_type": "code",
      "execution_count": null,
      "metadata": {
        "id": "9fb-0-HRtF8Z",
        "outputId": "b8e5f55f-ef64-487b-cf78-932f652632a7"
      },
      "outputs": [
        {
          "data": {
            "text/plain": [
              "total_images                     int64\n",
              "last_price                       int64\n",
              "total_area                     float64\n",
              "first_day_exposition    datetime64[ns]\n",
              "rooms                            int64\n",
              "ceiling_height                 float64\n",
              "floors_total                   float64\n",
              "living_area                    float64\n",
              "floor                            int64\n",
              "is_apartment                      bool\n",
              "studio                            bool\n",
              "open_plan                         bool\n",
              "kitchen_area                   float64\n",
              "balcony                        float64\n",
              "locality_name                   object\n",
              "airports_nearest               float64\n",
              "cityCenters_nearest            float64\n",
              "parks_around3000               float64\n",
              "parks_nearest                  float64\n",
              "ponds_around3000               float64\n",
              "ponds_nearest                  float64\n",
              "days_exposition                float64\n",
              "day                              int64\n",
              "month                            int64\n",
              "year                             int64\n",
              "dtype: object"
            ]
          },
          "execution_count": 7,
          "metadata": {},
          "output_type": "execute_result"
        }
      ],
      "source": [
        "data['first_day_exposition'] = data['first_day_exposition'].astype('datetime64')\n",
        "data['day'] = data['first_day_exposition'].dt.weekday \n",
        "data['month'] = data['first_day_exposition'].dt.month \n",
        "data['year'] = data['first_day_exposition'].dt.year\n",
        "\n",
        "data['last_price'] = data['last_price'].astype('int64')\n",
        "data['is_apartment'] = data['is_apartment'].astype('bool')\n",
        "data.dtypes"
      ]
    },
    {
      "cell_type": "markdown",
      "metadata": {
        "id": "S6tKJ5fStF8Z"
      },
      "source": [
        "first_day_exposition является датой, поэтому следовало изменить его значение.\n",
        "\n",
        "is_apartment имеет булев тип, last_price также следовало изменить на целочисленный тип"
      ]
    },
    {
      "cell_type": "markdown",
      "metadata": {
        "id": "otW9V4_AtF8Z"
      },
      "source": [
        "3. Изучим уникальные значения в столбце с названиями и устраните неявные дубликаты."
      ]
    },
    {
      "cell_type": "code",
      "execution_count": null,
      "metadata": {
        "id": "A3jgi1LltF8Z",
        "outputId": "ba7207f1-11a2-4f64-ce45-389ce2b2a39c"
      },
      "outputs": [
        {
          "data": {
            "text/plain": [
              "array(['Санкт-Петербург', 'посёлок Шушары', 'городской посёлок Янино-1',\n",
              "       'посёлок Парголово', 'посёлок Мурино', 'Ломоносов', 'Сертолово',\n",
              "       'Петергоф', 'Пушкин', 'деревня Кудрово', 'Коммунар', 'Колпино',\n",
              "       'поселок городского типа Красный Бор', 'Гатчина', 'поселок Мурино',\n",
              "       'деревня Фёдоровское', 'Выборг', 'Кронштадт', 'Кировск',\n",
              "       'деревня Новое Девяткино', 'посёлок Металлострой',\n",
              "       'посёлок городского типа Лебяжье',\n",
              "       'посёлок городского типа Сиверский', 'поселок Молодцово',\n",
              "       'поселок городского типа Кузьмоловский',\n",
              "       'садовое товарищество Новая Ропша', 'Павловск',\n",
              "       'деревня Пикколово', 'Всеволожск', 'Волхов', 'Кингисепп',\n",
              "       'Приозерск', 'Сестрорецк', 'деревня Куттузи', 'посёлок Аннино',\n",
              "       'поселок городского типа Ефимовский', 'посёлок Плодовое',\n",
              "       'деревня Заклинье', 'поселок Торковичи', 'поселок Первомайское',\n",
              "       'Красное Село', 'посёлок Понтонный', 'Сясьстрой', 'деревня Старая',\n",
              "       'деревня Лесколово', 'посёлок Новый Свет', 'Сланцы',\n",
              "       'село Путилово', 'Ивангород', 'Мурино', 'Шлиссельбург',\n",
              "       'Никольское', 'Зеленогорск', 'Сосновый Бор', 'поселок Новый Свет',\n",
              "       'деревня Оржицы', 'деревня Кальтино', 'Кудрово',\n",
              "       'поселок Романовка', 'посёлок Бугры', 'поселок Бугры',\n",
              "       'поселок городского типа Рощино', 'Кириши', 'Луга', 'Волосово',\n",
              "       'Отрадное', 'село Павлово', 'поселок Оредеж', 'село Копорье',\n",
              "       'посёлок городского типа Красный Бор', 'посёлок Молодёжное',\n",
              "       'Тихвин', 'посёлок Победа', 'деревня Нурма',\n",
              "       'поселок городского типа Синявино', 'Тосно',\n",
              "       'посёлок городского типа Кузьмоловский', 'посёлок Стрельна',\n",
              "       'Бокситогорск', 'посёлок Александровская', 'деревня Лопухинка',\n",
              "       'Пикалёво', 'поселок Терволово',\n",
              "       'поселок городского типа Советский', 'Подпорожье',\n",
              "       'посёлок Петровское', 'посёлок городского типа Токсово',\n",
              "       'поселок Сельцо', 'посёлок городского типа Вырица',\n",
              "       'деревня Кипень', 'деревня Келози', 'деревня Вартемяги',\n",
              "       'посёлок Тельмана', 'поселок Севастьяново',\n",
              "       'городской поселок Большая Ижора', nan,\n",
              "       'городской посёлок Павлово', 'деревня Агалатово',\n",
              "       'посёлок Новогорелово', 'городской посёлок Лесогорский',\n",
              "       'деревня Лаголово', 'поселок Цвелодубово',\n",
              "       'поселок городского типа Рахья', 'поселок городского типа Вырица',\n",
              "       'деревня Белогорка', 'поселок Заводской',\n",
              "       'городской посёлок Новоселье', 'деревня Большие Колпаны',\n",
              "       'деревня Горбунки', 'деревня Батово', 'деревня Заневка',\n",
              "       'деревня Иссад', 'Приморск', 'городской посёлок Фёдоровское',\n",
              "       'деревня Мистолово', 'Новая Ладога', 'поселок Зимитицы',\n",
              "       'поселок Барышево', 'деревня Разметелево',\n",
              "       'поселок городского типа имени Свердлова', 'деревня Пеники',\n",
              "       'поселок Рябово', 'деревня Пудомяги', 'поселок станции Корнево',\n",
              "       'деревня Низино', 'деревня Бегуницы', 'посёлок Поляны',\n",
              "       'городской посёлок Мга', 'поселок Елизаветино',\n",
              "       'посёлок городского типа Кузнечное', 'деревня Колтуши',\n",
              "       'поселок Запорожское', 'посёлок городского типа Рощино',\n",
              "       'деревня Гостилицы', 'деревня Малое Карлино',\n",
              "       'посёлок Мичуринское', 'посёлок городского типа имени Морозова',\n",
              "       'посёлок Песочный', 'посёлок Сосново', 'деревня Аро',\n",
              "       'поселок Ильичёво', 'посёлок городского типа Тайцы',\n",
              "       'деревня Малое Верево', 'деревня Извара', 'поселок станции Вещево',\n",
              "       'село Паша', 'деревня Калитино',\n",
              "       'посёлок городского типа Ульяновка', 'деревня Чудской Бор',\n",
              "       'поселок городского типа Дубровка', 'деревня Мины',\n",
              "       'поселок Войсковицы', 'посёлок городского типа имени Свердлова',\n",
              "       'деревня Коркино', 'посёлок Ропша',\n",
              "       'поселок городского типа Приладожский', 'посёлок Щеглово',\n",
              "       'посёлок Гаврилово', 'Лодейное Поле', 'деревня Рабитицы',\n",
              "       'поселок городского типа Никольский', 'деревня Кузьмолово',\n",
              "       'деревня Малые Колпаны', 'поселок Тельмана',\n",
              "       'посёлок Петро-Славянка', 'городской посёлок Назия',\n",
              "       'посёлок Репино', 'посёлок Ильичёво', 'поселок Углово',\n",
              "       'поселок Старая Малукса', 'садовое товарищество Рахья',\n",
              "       'поселок Аннино', 'поселок Победа', 'деревня Меньково',\n",
              "       'деревня Старые Бегуницы', 'посёлок Сапёрный', 'поселок Семрино',\n",
              "       'поселок Гаврилово', 'поселок Глажево', 'поселок Кобринское',\n",
              "       'деревня Гарболово', 'деревня Юкки',\n",
              "       'поселок станции Приветнинское', 'деревня Мануйлово',\n",
              "       'деревня Пчева', 'поселок Поляны', 'поселок Цвылёво',\n",
              "       'поселок Мельниково', 'посёлок Пудость', 'посёлок Усть-Луга',\n",
              "       'Светогорск', 'Любань', 'поселок Селезнёво',\n",
              "       'поселок городского типа Рябово', 'Каменногорск', 'деревня Кривко',\n",
              "       'поселок Глебычево', 'деревня Парицы', 'поселок Жилпосёлок',\n",
              "       'посёлок городского типа Мга', 'городской поселок Янино-1',\n",
              "       'посёлок Войскорово', 'село Никольское', 'посёлок Терволово',\n",
              "       'поселок Стеклянный', 'посёлок городского типа Важины',\n",
              "       'посёлок Мыза-Ивановка', 'село Русско-Высоцкое',\n",
              "       'поселок городского типа Лебяжье',\n",
              "       'поселок городского типа Форносово', 'село Старая Ладога',\n",
              "       'поселок Житково', 'городской посёлок Виллози', 'деревня Лампово',\n",
              "       'деревня Шпаньково', 'деревня Лаврики', 'посёлок Сумино',\n",
              "       'посёлок Возрождение', 'деревня Старосиверская',\n",
              "       'посёлок Кикерино', 'поселок Возрождение',\n",
              "       'деревня Старое Хинколово', 'посёлок Пригородный',\n",
              "       'посёлок Торфяное', 'городской посёлок Будогощь',\n",
              "       'поселок Суходолье', 'поселок Красная Долина', 'деревня Хапо-Ое',\n",
              "       'поселок городского типа Дружная Горка', 'поселок Лисий Нос',\n",
              "       'деревня Яльгелево', 'посёлок Стеклянный', 'село Рождествено',\n",
              "       'деревня Старополье', 'посёлок Левашово', 'деревня Сяськелево',\n",
              "       'деревня Камышовка',\n",
              "       'садоводческое некоммерческое товарищество Лесная Поляна',\n",
              "       'деревня Хязельки', 'поселок Жилгородок',\n",
              "       'посёлок городского типа Павлово', 'деревня Ялгино',\n",
              "       'поселок Новый Учхоз', 'городской посёлок Рощино',\n",
              "       'поселок Гончарово', 'поселок Почап', 'посёлок Сапёрное',\n",
              "       'посёлок Платформа 69-й километр', 'поселок Каложицы',\n",
              "       'деревня Фалилеево', 'деревня Пельгора',\n",
              "       'поселок городского типа Лесогорский', 'деревня Торошковичи',\n",
              "       'посёлок Белоостров', 'посёлок Алексеевка', 'поселок Серебрянский',\n",
              "       'поселок Лукаши', 'поселок Петровское', 'деревня Щеглово',\n",
              "       'поселок Мичуринское', 'деревня Тарасово', 'поселок Кингисеппский',\n",
              "       'посёлок при железнодорожной станции Вещево', 'поселок Ушаки',\n",
              "       'деревня Котлы', 'деревня Сижно', 'деревня Торосово',\n",
              "       'посёлок Форт Красная Горка', 'поселок городского типа Токсово',\n",
              "       'деревня Новолисино', 'посёлок станции Громово', 'деревня Глинка',\n",
              "       'посёлок Мельниково', 'поселок городского типа Назия',\n",
              "       'деревня Старая Пустошь', 'поселок Коммунары', 'поселок Починок',\n",
              "       'посёлок городского типа Вознесенье', 'деревня Разбегаево',\n",
              "       'посёлок городского типа Рябово', 'поселок Гладкое',\n",
              "       'посёлок при железнодорожной станции Приветнинское',\n",
              "       'поселок Тёсово-4', 'посёлок Жилгородок', 'деревня Бор',\n",
              "       'посёлок Коробицыно', 'деревня Большая Вруда', 'деревня Курковицы',\n",
              "       'посёлок Лисий Нос', 'городской посёлок Советский',\n",
              "       'посёлок Кобралово', 'деревня Суоранда', 'поселок Кобралово',\n",
              "       'поселок городского типа Кондратьево',\n",
              "       'коттеджный поселок Счастье', 'поселок Любань', 'деревня Реброво',\n",
              "       'деревня Зимитицы', 'деревня Тойворово', 'поселок Семиозерье',\n",
              "       'поселок Лесное', 'поселок Совхозный', 'поселок Усть-Луга',\n",
              "       'посёлок Ленинское', 'посёлок Суйда',\n",
              "       'посёлок городского типа Форносово', 'деревня Нижние Осельки',\n",
              "       'посёлок станции Свирь', 'поселок Перово', 'Высоцк',\n",
              "       'поселок Гарболово', 'село Шум', 'поселок Котельский',\n",
              "       'поселок станции Лужайка', 'деревня Большая Пустомержа',\n",
              "       'поселок Красносельское', 'деревня Вахнова Кара', 'деревня Пижма',\n",
              "       'коттеджный поселок Кивеннапа Север', 'поселок Коробицыно',\n",
              "       'поселок Ромашки', 'посёлок Перово', 'деревня Каськово',\n",
              "       'деревня Куровицы', 'посёлок Плоское', 'поселок Сумино',\n",
              "       'поселок городского типа Большая Ижора', 'поселок Кирпичное',\n",
              "       'деревня Ям-Тесово', 'деревня Раздолье', 'деревня Терпилицы',\n",
              "       'посёлок Шугозеро', 'деревня Ваганово', 'поселок Пушное',\n",
              "       'садовое товарищество Садко', 'посёлок Усть-Ижора',\n",
              "       'деревня Выскатка', 'городской посёлок Свирьстрой',\n",
              "       'поселок Громово', 'деревня Кисельня', 'посёлок Старая Малукса',\n",
              "       'деревня Трубников Бор', 'поселок Калитино',\n",
              "       'посёлок Высокоключевой', 'садовое товарищество Приладожский',\n",
              "       'посёлок Пансионат Зелёный Бор', 'деревня Ненимяки',\n",
              "       'поселок Пансионат Зелёный Бор', 'деревня Снегирёвка',\n",
              "       'деревня Рапполово', 'деревня Пустынка', 'поселок Рабитицы',\n",
              "       'деревня Большой Сабск', 'деревня Русско', 'деревня Лупполово',\n",
              "       'деревня Большое Рейзино', 'деревня Малая Романовка',\n",
              "       'поселок Дружноселье', 'поселок Пчевжа', 'поселок Володарское',\n",
              "       'деревня Нижняя', 'коттеджный посёлок Лесное', 'деревня Тихковицы',\n",
              "       'деревня Борисова Грива', 'посёлок Дзержинского'], dtype=object)"
            ]
          },
          "execution_count": 8,
          "metadata": {},
          "output_type": "execute_result"
        }
      ],
      "source": [
        "data['locality_name'].unique()"
      ]
    },
    {
      "cell_type": "code",
      "execution_count": null,
      "metadata": {
        "id": "VO9kPDUJtF8a",
        "outputId": "b89de60a-08cd-4b25-bdf0-9b433cb701b8"
      },
      "outputs": [
        {
          "data": {
            "text/plain": [
              "array(['Санкт-Петербург', 'поселок Шушары', 'поселок Янино-1',\n",
              "       'поселок Парголово', 'Мурино', 'Ломоносов', 'Сертолово',\n",
              "       'Петергоф', 'Пушкин', 'Кудрово', 'Коммунар', 'Колпино',\n",
              "       'поселок Красный Бор', 'Гатчина', 'поселок Фёдоровское', 'Выборг',\n",
              "       'Кронштадт', 'Кировск', 'поселок Новое Девяткино',\n",
              "       'поселок Металлострой', 'поселок Лебяжье', 'поселок Сиверский',\n",
              "       'поселок Молодцово', 'поселок Кузьмоловский',\n",
              "       'садовое товарищество Новая Ропша', 'Павловск',\n",
              "       'поселок Пикколово', 'Всеволожск', 'Волхов', 'Кингисепп',\n",
              "       'Приозерск', 'Сестрорецк', 'поселок Куттузи', 'поселок Аннино',\n",
              "       'поселок Ефимовский', 'поселок Плодовое', 'поселок Заклинье',\n",
              "       'поселок Торковичи', 'поселок Первомайское', 'Красное Село',\n",
              "       'поселок Понтонный', 'Сясьстрой', 'поселок Старая',\n",
              "       'поселок Лесколово', 'поселок Новый Свет', 'Сланцы',\n",
              "       'село Путилово', 'Ивангород', 'Шлиссельбург', 'Никольское',\n",
              "       'Зеленогорск', 'Сосновый Бор', 'поселок Оржицы',\n",
              "       'поселок Кальтино', 'поселок Романовка', 'поселок Бугры',\n",
              "       'поселок Рощино', 'Кириши', 'Луга', 'Волосово', 'Отрадное',\n",
              "       'село Павлово', 'поселок Оредеж', 'село Копорье',\n",
              "       'поселок Молодёжное', 'Тихвин', 'поселок Победа', 'поселок Нурма',\n",
              "       'поселок Синявино', 'Тосно', 'поселок Стрельна', 'Бокситогорск',\n",
              "       'поселок Александровская', 'поселок Лопухинка', 'Пикалёво',\n",
              "       'поселок Терволово', 'поселок Советский', 'Подпорожье',\n",
              "       'поселок Петровское', 'поселок Токсово', 'поселок Сельцо',\n",
              "       'поселок Вырица', 'поселок Кипень', 'поселок Келози',\n",
              "       'поселок Вартемяги', 'поселок Тельмана', 'поселок Севастьяново',\n",
              "       'поселок Большая Ижора', nan, 'поселок Павлово',\n",
              "       'поселок Агалатово', 'поселок Новогорелово', 'поселок Лесогорский',\n",
              "       'поселок Лаголово', 'поселок Цвелодубово', 'поселок Рахья',\n",
              "       'поселок Белогорка', 'поселок Заводской', 'поселок Новоселье',\n",
              "       'поселок Большие Колпаны', 'поселок Горбунки', 'поселок Батово',\n",
              "       'поселок Заневка', 'поселок Иссад', 'Приморск',\n",
              "       'поселок Мистолово', 'Новая Ладога', 'поселок Зимитицы',\n",
              "       'поселок Барышево', 'поселок Разметелево',\n",
              "       'поселок имени Свердлова', 'поселок Пеники', 'поселок Рябово',\n",
              "       'поселок Пудомяги', 'поселок при железнодорожной станции Корнево',\n",
              "       'поселок Низино', 'поселок Бегуницы', 'поселок Поляны',\n",
              "       'поселок Мга', 'поселок Елизаветино', 'поселок Кузнечное',\n",
              "       'поселок Колтуши', 'поселок Запорожское', 'поселок Гостилицы',\n",
              "       'поселок Малое Карлино', 'поселок Мичуринское',\n",
              "       'поселок имени Морозова', 'поселок Песочный', 'поселок Сосново',\n",
              "       'поселок Аро', 'поселок Ильичёво', 'поселок Тайцы',\n",
              "       'поселок Малое Верево', 'поселок Извара',\n",
              "       'поселок при железнодорожной станции Вещево', 'село Паша',\n",
              "       'поселок Калитино', 'поселок Ульяновка', 'поселок Чудской Бор',\n",
              "       'поселок Дубровка', 'поселок Мины', 'поселок Войсковицы',\n",
              "       'поселок Коркино', 'поселок Ропша', 'поселок Приладожский',\n",
              "       'поселок Щеглово', 'поселок Гаврилово', 'Лодейное Поле',\n",
              "       'поселок Рабитицы', 'поселок Никольский', 'поселок Кузьмолово',\n",
              "       'поселок Малые Колпаны', 'поселок Петро-Славянка', 'поселок Назия',\n",
              "       'поселок Репино', 'поселок Углово', 'поселок Старая Малукса',\n",
              "       'садовое товарищество Рахья', 'поселок Меньково',\n",
              "       'поселок Старые Бегуницы', 'поселок Сапёрный', 'поселок Семрино',\n",
              "       'поселок Глажево', 'поселок Кобринское', 'поселок Гарболово',\n",
              "       'поселок Юкки',\n",
              "       'поселок при железнодорожной станции Приветнинское',\n",
              "       'поселок Мануйлово', 'поселок Пчева', 'поселок Цвылёво',\n",
              "       'поселок Мельниково', 'поселок Пудость', 'поселок Усть-Луга',\n",
              "       'Светогорск', 'Любань', 'поселок Селезнёво', 'Каменногорск',\n",
              "       'поселок Кривко', 'поселок Глебычево', 'поселок Парицы',\n",
              "       'поселок Жилпоселок', 'поселок Войскорово', 'село Никольское',\n",
              "       'поселок Стеклянный', 'поселок Важины', 'поселок Мыза-Ивановка',\n",
              "       'село Русско-Высоцкое', 'поселок Форносово', 'село Старая Ладога',\n",
              "       'поселок Житково', 'поселок Виллози', 'поселок Лампово',\n",
              "       'поселок Шпаньково', 'поселок Лаврики', 'поселок Сумино',\n",
              "       'поселок Возрождение', 'поселок Старосиверская',\n",
              "       'поселок Кикерино', 'поселок Старое Хинколово',\n",
              "       'поселок Пригородный', 'поселок Торфяное', 'поселок Будогощь',\n",
              "       'поселок Суходолье', 'поселок Красная Долина', 'поселок Хапо-Ое',\n",
              "       'поселок Дружная Горка', 'поселок Лисий Нос', 'поселок Яльгелево',\n",
              "       'село Рождествено', 'поселок Старополье', 'поселок Левашово',\n",
              "       'поселок Сяськелево', 'поселок Камышовка',\n",
              "       'садоводческое некоммерческое товарищество Лесная Поляна',\n",
              "       'поселок Хязельки', 'поселок Жилгородок', 'поселок Ялгино',\n",
              "       'поселок Новый Учхоз', 'поселок Гончарово', 'поселок Почап',\n",
              "       'поселок Сапёрное', 'поселок Платформа 69-й километр',\n",
              "       'поселок Каложицы', 'поселок Фалилеево', 'поселок Пельгора',\n",
              "       'поселок Торошковичи', 'поселок Белоостров', 'поселок Алексеевка',\n",
              "       'поселок Серебрянский', 'поселок Лукаши', 'поселок Тарасово',\n",
              "       'поселок Кингисеппский', 'поселок Ушаки', 'поселок Котлы',\n",
              "       'поселок Сижно', 'поселок Торосово', 'поселок Форт Красная Горка',\n",
              "       'поселок Новолисино',\n",
              "       'поселок при железнодорожной станции Громово', 'поселок Глинка',\n",
              "       'поселок Старая Пустошь', 'поселок Коммунары', 'поселок Починок',\n",
              "       'поселок Вознесенье', 'поселок Разбегаево', 'поселок Гладкое',\n",
              "       'поселок Тёсово-4', 'поселок Бор', 'поселок Коробицыно',\n",
              "       'поселок Большая Вруда', 'поселок Курковицы', 'поселок Кобралово',\n",
              "       'поселок Суоранда', 'поселок Кондратьево', 'поселок Счастье',\n",
              "       'поселок Реброво', 'поселок Тойворово', 'поселок Семиозерье',\n",
              "       'поселок Лесное', 'поселок Совхозный', 'поселок Ленинское',\n",
              "       'поселок Суйда', 'поселок Нижние Осельки',\n",
              "       'поселок при железнодорожной станции Свирь', 'поселок Перово',\n",
              "       'Высоцк', 'село Шум', 'поселок Котельский',\n",
              "       'поселок при железнодорожной станции Лужайка',\n",
              "       'поселок Большая Пустомержа', 'поселок Красносельское',\n",
              "       'поселок Вахнова Кара', 'поселок Пижма', 'поселок Кивеннапа Север',\n",
              "       'поселок Ромашки', 'поселок Каськово', 'поселок Куровицы',\n",
              "       'поселок Плоское', 'поселок Кирпичное', 'поселок Ям-Тесово',\n",
              "       'поселок Раздолье', 'поселок Терпилицы', 'поселок Шугозеро',\n",
              "       'поселок Ваганово', 'поселок Пушное', 'садовое товарищество Садко',\n",
              "       'поселок Усть-Ижора', 'поселок Выскатка', 'поселок Свирьстрой',\n",
              "       'поселок Громово', 'поселок Кисельня', 'поселок Трубников Бор',\n",
              "       'поселок Высокоключевой', 'садовое товарищество Приладожский',\n",
              "       'поселок Пансионат Зелёный Бор', 'поселок Ненимяки',\n",
              "       'поселок Снегирёвка', 'поселок Рапполово', 'поселок Пустынка',\n",
              "       'поселок Большой Сабск', 'поселок Русско', 'поселок Лупполово',\n",
              "       'поселок Большое Рейзино', 'поселок Малая Романовка',\n",
              "       'поселок Дружноселье', 'поселок Пчевжа', 'поселок Володарское',\n",
              "       'поселок Нижняя', 'поселок Тихковицы', 'поселок Борисова Грива',\n",
              "       'поселок Дзержинского'], dtype=object)"
            ]
          },
          "execution_count": 9,
          "metadata": {},
          "output_type": "execute_result"
        }
      ],
      "source": [
        "# напишем функцию для устранения неявных дубликатов\n",
        "\n",
        "def replace_names(wrong_names, goog_name): \n",
        "    for wrong_name in wrong_names: \n",
        "        data['locality_name'] = data['locality_name'].str.replace(wrong_name, goog_name) \n",
        "\n",
        "duplicates = ['посёлок городского типа', 'поселок городского типа', 'городской поселок','городской посёлок','деревня','посёлок','коттеджный поселок'] \n",
        "name = 'поселок' \n",
        "replace_names(duplicates, name)\n",
        "\n",
        "dupl_murino = ['поселок Мурино', 'посёлок Мурино']\n",
        "original_murino = 'Мурино'\n",
        "replace_names(dupl_murino, original_murino)\n",
        "\n",
        "dupl_kudr = ['поселок Кудрово']\n",
        "original_kudrovo = 'Кудрово'\n",
        "replace_names(dupl_kudr, original_kudrovo)\n",
        "\n",
        "dupl_lub = ['поселок Любань']\n",
        "original_luban = 'Любань'\n",
        "replace_names(dupl_lub, original_luban)\n",
        "\n",
        "dupl_stan = ['поселок станции']\n",
        "original_stan = 'поселок при железнодорожной станции'\n",
        "replace_names(dupl_stan, original_stan)\n",
        "\n",
        "\n",
        "data['locality_name'].unique()"
      ]
    },
    {
      "cell_type": "code",
      "execution_count": null,
      "metadata": {
        "id": "iLi9hRvAtF8a",
        "outputId": "525689db-bcad-493e-aa06-d1b385778ce3"
      },
      "outputs": [
        {
          "data": {
            "text/plain": [
              "Санкт-Петербург                    15721\n",
              "Мурино                               590\n",
              "Кудрово                              472\n",
              "поселок Шушары                       440\n",
              "Всеволожск                           398\n",
              "                                   ...  \n",
              "поселок Платформа 69-й километр        1\n",
              "поселок Цвылёво                        1\n",
              "поселок Сижно                          1\n",
              "поселок Дзержинского                   1\n",
              "поселок Свирьстрой                     1\n",
              "Name: locality_name, Length: 310, dtype: int64"
            ]
          },
          "execution_count": 10,
          "metadata": {},
          "output_type": "execute_result"
        }
      ],
      "source": [
        "data['locality_name'].value_counts()"
      ]
    },
    {
      "cell_type": "markdown",
      "metadata": {
        "id": "r54h_qq7tF8a"
      },
      "source": [
        "4. Устранение аномалий"
      ]
    },
    {
      "cell_type": "code",
      "execution_count": null,
      "metadata": {
        "id": "63VVQSzZtF8b",
        "outputId": "6bf66fe7-32f6-4458-9165-96d38496b633"
      },
      "outputs": [
        {
          "data": {
            "text/html": [
              "<div>\n",
              "<style scoped>\n",
              "    .dataframe tbody tr th:only-of-type {\n",
              "        vertical-align: middle;\n",
              "    }\n",
              "\n",
              "    .dataframe tbody tr th {\n",
              "        vertical-align: top;\n",
              "    }\n",
              "\n",
              "    .dataframe thead th {\n",
              "        text-align: right;\n",
              "    }\n",
              "</style>\n",
              "<table border=\"1\" class=\"dataframe\">\n",
              "  <thead>\n",
              "    <tr style=\"text-align: right;\">\n",
              "      <th></th>\n",
              "      <th>total_images</th>\n",
              "      <th>last_price</th>\n",
              "      <th>total_area</th>\n",
              "      <th>rooms</th>\n",
              "      <th>ceiling_height</th>\n",
              "      <th>floors_total</th>\n",
              "      <th>living_area</th>\n",
              "      <th>floor</th>\n",
              "      <th>kitchen_area</th>\n",
              "      <th>balcony</th>\n",
              "      <th>airports_nearest</th>\n",
              "      <th>cityCenters_nearest</th>\n",
              "      <th>parks_around3000</th>\n",
              "      <th>parks_nearest</th>\n",
              "      <th>ponds_around3000</th>\n",
              "      <th>ponds_nearest</th>\n",
              "      <th>days_exposition</th>\n",
              "      <th>day</th>\n",
              "      <th>month</th>\n",
              "      <th>year</th>\n",
              "    </tr>\n",
              "  </thead>\n",
              "  <tbody>\n",
              "    <tr>\n",
              "      <th>count</th>\n",
              "      <td>23699.000000</td>\n",
              "      <td>2.369900e+04</td>\n",
              "      <td>23699.000000</td>\n",
              "      <td>23699.000000</td>\n",
              "      <td>23699.000000</td>\n",
              "      <td>23613.000000</td>\n",
              "      <td>21796.000000</td>\n",
              "      <td>23699.000000</td>\n",
              "      <td>21421.000000</td>\n",
              "      <td>23699.000000</td>\n",
              "      <td>18157.000000</td>\n",
              "      <td>18180.000000</td>\n",
              "      <td>18181.000000</td>\n",
              "      <td>8079.000000</td>\n",
              "      <td>18181.000000</td>\n",
              "      <td>9110.000000</td>\n",
              "      <td>20518.000000</td>\n",
              "      <td>23699.000000</td>\n",
              "      <td>23699.000000</td>\n",
              "      <td>23699.000000</td>\n",
              "    </tr>\n",
              "    <tr>\n",
              "      <th>mean</th>\n",
              "      <td>9.858475</td>\n",
              "      <td>6.541549e+06</td>\n",
              "      <td>60.348651</td>\n",
              "      <td>2.070636</td>\n",
              "      <td>2.724358</td>\n",
              "      <td>10.673824</td>\n",
              "      <td>34.457852</td>\n",
              "      <td>5.892358</td>\n",
              "      <td>10.569807</td>\n",
              "      <td>0.591080</td>\n",
              "      <td>28793.672193</td>\n",
              "      <td>14191.277833</td>\n",
              "      <td>0.611408</td>\n",
              "      <td>490.804555</td>\n",
              "      <td>0.770255</td>\n",
              "      <td>517.980900</td>\n",
              "      <td>180.888634</td>\n",
              "      <td>2.569307</td>\n",
              "      <td>6.400101</td>\n",
              "      <td>2017.367146</td>\n",
              "    </tr>\n",
              "    <tr>\n",
              "      <th>std</th>\n",
              "      <td>5.682529</td>\n",
              "      <td>1.088701e+07</td>\n",
              "      <td>35.654083</td>\n",
              "      <td>1.078405</td>\n",
              "      <td>0.988298</td>\n",
              "      <td>6.597173</td>\n",
              "      <td>22.030445</td>\n",
              "      <td>4.885249</td>\n",
              "      <td>5.905438</td>\n",
              "      <td>0.959298</td>\n",
              "      <td>12630.880622</td>\n",
              "      <td>8608.386210</td>\n",
              "      <td>0.802074</td>\n",
              "      <td>342.317995</td>\n",
              "      <td>0.938346</td>\n",
              "      <td>277.720643</td>\n",
              "      <td>219.727988</td>\n",
              "      <td>1.789082</td>\n",
              "      <td>3.491561</td>\n",
              "      <td>1.039771</td>\n",
              "    </tr>\n",
              "    <tr>\n",
              "      <th>min</th>\n",
              "      <td>0.000000</td>\n",
              "      <td>1.219000e+04</td>\n",
              "      <td>12.000000</td>\n",
              "      <td>0.000000</td>\n",
              "      <td>1.000000</td>\n",
              "      <td>1.000000</td>\n",
              "      <td>2.000000</td>\n",
              "      <td>1.000000</td>\n",
              "      <td>1.300000</td>\n",
              "      <td>0.000000</td>\n",
              "      <td>0.000000</td>\n",
              "      <td>181.000000</td>\n",
              "      <td>0.000000</td>\n",
              "      <td>1.000000</td>\n",
              "      <td>0.000000</td>\n",
              "      <td>13.000000</td>\n",
              "      <td>1.000000</td>\n",
              "      <td>0.000000</td>\n",
              "      <td>1.000000</td>\n",
              "      <td>2014.000000</td>\n",
              "    </tr>\n",
              "    <tr>\n",
              "      <th>25%</th>\n",
              "      <td>6.000000</td>\n",
              "      <td>3.400000e+06</td>\n",
              "      <td>40.000000</td>\n",
              "      <td>1.000000</td>\n",
              "      <td>2.600000</td>\n",
              "      <td>5.000000</td>\n",
              "      <td>18.600000</td>\n",
              "      <td>2.000000</td>\n",
              "      <td>7.000000</td>\n",
              "      <td>0.000000</td>\n",
              "      <td>18585.000000</td>\n",
              "      <td>9238.000000</td>\n",
              "      <td>0.000000</td>\n",
              "      <td>288.000000</td>\n",
              "      <td>0.000000</td>\n",
              "      <td>294.000000</td>\n",
              "      <td>45.000000</td>\n",
              "      <td>1.000000</td>\n",
              "      <td>3.000000</td>\n",
              "      <td>2017.000000</td>\n",
              "    </tr>\n",
              "    <tr>\n",
              "      <th>50%</th>\n",
              "      <td>9.000000</td>\n",
              "      <td>4.650000e+06</td>\n",
              "      <td>52.000000</td>\n",
              "      <td>2.000000</td>\n",
              "      <td>2.650000</td>\n",
              "      <td>9.000000</td>\n",
              "      <td>30.000000</td>\n",
              "      <td>4.000000</td>\n",
              "      <td>9.100000</td>\n",
              "      <td>0.000000</td>\n",
              "      <td>26726.000000</td>\n",
              "      <td>13098.500000</td>\n",
              "      <td>0.000000</td>\n",
              "      <td>455.000000</td>\n",
              "      <td>1.000000</td>\n",
              "      <td>502.000000</td>\n",
              "      <td>95.000000</td>\n",
              "      <td>3.000000</td>\n",
              "      <td>6.000000</td>\n",
              "      <td>2017.000000</td>\n",
              "    </tr>\n",
              "    <tr>\n",
              "      <th>75%</th>\n",
              "      <td>14.000000</td>\n",
              "      <td>6.800000e+06</td>\n",
              "      <td>69.900000</td>\n",
              "      <td>3.000000</td>\n",
              "      <td>2.700000</td>\n",
              "      <td>16.000000</td>\n",
              "      <td>42.300000</td>\n",
              "      <td>8.000000</td>\n",
              "      <td>12.000000</td>\n",
              "      <td>1.000000</td>\n",
              "      <td>37273.000000</td>\n",
              "      <td>16293.000000</td>\n",
              "      <td>1.000000</td>\n",
              "      <td>612.000000</td>\n",
              "      <td>1.000000</td>\n",
              "      <td>729.000000</td>\n",
              "      <td>232.000000</td>\n",
              "      <td>4.000000</td>\n",
              "      <td>10.000000</td>\n",
              "      <td>2018.000000</td>\n",
              "    </tr>\n",
              "    <tr>\n",
              "      <th>max</th>\n",
              "      <td>50.000000</td>\n",
              "      <td>7.630000e+08</td>\n",
              "      <td>900.000000</td>\n",
              "      <td>19.000000</td>\n",
              "      <td>100.000000</td>\n",
              "      <td>60.000000</td>\n",
              "      <td>409.700000</td>\n",
              "      <td>33.000000</td>\n",
              "      <td>112.000000</td>\n",
              "      <td>5.000000</td>\n",
              "      <td>84869.000000</td>\n",
              "      <td>65968.000000</td>\n",
              "      <td>3.000000</td>\n",
              "      <td>3190.000000</td>\n",
              "      <td>3.000000</td>\n",
              "      <td>1344.000000</td>\n",
              "      <td>1580.000000</td>\n",
              "      <td>6.000000</td>\n",
              "      <td>12.000000</td>\n",
              "      <td>2019.000000</td>\n",
              "    </tr>\n",
              "  </tbody>\n",
              "</table>\n",
              "</div>"
            ],
            "text/plain": [
              "       total_images    last_price    total_area         rooms  ceiling_height  \\\n",
              "count  23699.000000  2.369900e+04  23699.000000  23699.000000    23699.000000   \n",
              "mean       9.858475  6.541549e+06     60.348651      2.070636        2.724358   \n",
              "std        5.682529  1.088701e+07     35.654083      1.078405        0.988298   \n",
              "min        0.000000  1.219000e+04     12.000000      0.000000        1.000000   \n",
              "25%        6.000000  3.400000e+06     40.000000      1.000000        2.600000   \n",
              "50%        9.000000  4.650000e+06     52.000000      2.000000        2.650000   \n",
              "75%       14.000000  6.800000e+06     69.900000      3.000000        2.700000   \n",
              "max       50.000000  7.630000e+08    900.000000     19.000000      100.000000   \n",
              "\n",
              "       floors_total   living_area         floor  kitchen_area       balcony  \\\n",
              "count  23613.000000  21796.000000  23699.000000  21421.000000  23699.000000   \n",
              "mean      10.673824     34.457852      5.892358     10.569807      0.591080   \n",
              "std        6.597173     22.030445      4.885249      5.905438      0.959298   \n",
              "min        1.000000      2.000000      1.000000      1.300000      0.000000   \n",
              "25%        5.000000     18.600000      2.000000      7.000000      0.000000   \n",
              "50%        9.000000     30.000000      4.000000      9.100000      0.000000   \n",
              "75%       16.000000     42.300000      8.000000     12.000000      1.000000   \n",
              "max       60.000000    409.700000     33.000000    112.000000      5.000000   \n",
              "\n",
              "       airports_nearest  cityCenters_nearest  parks_around3000  parks_nearest  \\\n",
              "count      18157.000000         18180.000000      18181.000000    8079.000000   \n",
              "mean       28793.672193         14191.277833          0.611408     490.804555   \n",
              "std        12630.880622          8608.386210          0.802074     342.317995   \n",
              "min            0.000000           181.000000          0.000000       1.000000   \n",
              "25%        18585.000000          9238.000000          0.000000     288.000000   \n",
              "50%        26726.000000         13098.500000          0.000000     455.000000   \n",
              "75%        37273.000000         16293.000000          1.000000     612.000000   \n",
              "max        84869.000000         65968.000000          3.000000    3190.000000   \n",
              "\n",
              "       ponds_around3000  ponds_nearest  days_exposition           day  \\\n",
              "count      18181.000000    9110.000000     20518.000000  23699.000000   \n",
              "mean           0.770255     517.980900       180.888634      2.569307   \n",
              "std            0.938346     277.720643       219.727988      1.789082   \n",
              "min            0.000000      13.000000         1.000000      0.000000   \n",
              "25%            0.000000     294.000000        45.000000      1.000000   \n",
              "50%            1.000000     502.000000        95.000000      3.000000   \n",
              "75%            1.000000     729.000000       232.000000      4.000000   \n",
              "max            3.000000    1344.000000      1580.000000      6.000000   \n",
              "\n",
              "              month          year  \n",
              "count  23699.000000  23699.000000  \n",
              "mean       6.400101   2017.367146  \n",
              "std        3.491561      1.039771  \n",
              "min        1.000000   2014.000000  \n",
              "25%        3.000000   2017.000000  \n",
              "50%        6.000000   2017.000000  \n",
              "75%       10.000000   2018.000000  \n",
              "max       12.000000   2019.000000  "
            ]
          },
          "execution_count": 11,
          "metadata": {},
          "output_type": "execute_result"
        }
      ],
      "source": [
        "# изучим данных, обратим внимание на максимальные и минимальные значения\n",
        "data.describe()"
      ]
    },
    {
      "cell_type": "code",
      "execution_count": null,
      "metadata": {
        "id": "ePUqrroXtF8b",
        "outputId": "48c09fb0-e1e5-4270-fd78-9aaa299c1706"
      },
      "outputs": [
        {
          "data": {
            "text/html": [
              "<div>\n",
              "<style scoped>\n",
              "    .dataframe tbody tr th:only-of-type {\n",
              "        vertical-align: middle;\n",
              "    }\n",
              "\n",
              "    .dataframe tbody tr th {\n",
              "        vertical-align: top;\n",
              "    }\n",
              "\n",
              "    .dataframe thead th {\n",
              "        text-align: right;\n",
              "    }\n",
              "</style>\n",
              "<table border=\"1\" class=\"dataframe\">\n",
              "  <thead>\n",
              "    <tr style=\"text-align: right;\">\n",
              "      <th></th>\n",
              "      <th>total_images</th>\n",
              "      <th>last_price</th>\n",
              "      <th>total_area</th>\n",
              "      <th>rooms</th>\n",
              "      <th>ceiling_height</th>\n",
              "      <th>floors_total</th>\n",
              "      <th>living_area</th>\n",
              "      <th>floor</th>\n",
              "      <th>kitchen_area</th>\n",
              "      <th>balcony</th>\n",
              "      <th>airports_nearest</th>\n",
              "      <th>cityCenters_nearest</th>\n",
              "      <th>parks_around3000</th>\n",
              "      <th>parks_nearest</th>\n",
              "      <th>ponds_around3000</th>\n",
              "      <th>ponds_nearest</th>\n",
              "      <th>days_exposition</th>\n",
              "      <th>day</th>\n",
              "      <th>month</th>\n",
              "      <th>year</th>\n",
              "    </tr>\n",
              "  </thead>\n",
              "  <tbody>\n",
              "    <tr>\n",
              "      <th>count</th>\n",
              "      <td>23585.00000</td>\n",
              "      <td>2.358500e+04</td>\n",
              "      <td>23585.000000</td>\n",
              "      <td>23585.000000</td>\n",
              "      <td>23585.000000</td>\n",
              "      <td>23499.000000</td>\n",
              "      <td>21690.000000</td>\n",
              "      <td>23585.000000</td>\n",
              "      <td>21322.000000</td>\n",
              "      <td>23585.000000</td>\n",
              "      <td>18064.000000</td>\n",
              "      <td>18084.000000</td>\n",
              "      <td>18085.000000</td>\n",
              "      <td>8016.000000</td>\n",
              "      <td>18085.000000</td>\n",
              "      <td>9043.000000</td>\n",
              "      <td>20431.000000</td>\n",
              "      <td>23585.000000</td>\n",
              "      <td>23585.000000</td>\n",
              "      <td>23585.000000</td>\n",
              "    </tr>\n",
              "    <tr>\n",
              "      <th>mean</th>\n",
              "      <td>9.84859</td>\n",
              "      <td>6.470715e+06</td>\n",
              "      <td>60.089081</td>\n",
              "      <td>2.066865</td>\n",
              "      <td>2.691027</td>\n",
              "      <td>10.694285</td>\n",
              "      <td>34.281704</td>\n",
              "      <td>5.899512</td>\n",
              "      <td>10.542357</td>\n",
              "      <td>0.591054</td>\n",
              "      <td>28806.227690</td>\n",
              "      <td>14225.091186</td>\n",
              "      <td>0.608737</td>\n",
              "      <td>491.100549</td>\n",
              "      <td>0.767100</td>\n",
              "      <td>518.361163</td>\n",
              "      <td>180.477363</td>\n",
              "      <td>2.569472</td>\n",
              "      <td>6.397965</td>\n",
              "      <td>2017.367649</td>\n",
              "    </tr>\n",
              "    <tr>\n",
              "      <th>std</th>\n",
              "      <td>5.67096</td>\n",
              "      <td>1.067727e+07</td>\n",
              "      <td>34.884487</td>\n",
              "      <td>1.074118</td>\n",
              "      <td>0.198444</td>\n",
              "      <td>6.596984</td>\n",
              "      <td>21.500827</td>\n",
              "      <td>4.888582</td>\n",
              "      <td>5.842080</td>\n",
              "      <td>0.958800</td>\n",
              "      <td>12642.739572</td>\n",
              "      <td>8593.878802</td>\n",
              "      <td>0.799712</td>\n",
              "      <td>342.998557</td>\n",
              "      <td>0.935991</td>\n",
              "      <td>277.904832</td>\n",
              "      <td>219.343431</td>\n",
              "      <td>1.789821</td>\n",
              "      <td>3.490919</td>\n",
              "      <td>1.039116</td>\n",
              "    </tr>\n",
              "    <tr>\n",
              "      <th>min</th>\n",
              "      <td>0.00000</td>\n",
              "      <td>1.219000e+04</td>\n",
              "      <td>12.000000</td>\n",
              "      <td>0.000000</td>\n",
              "      <td>1.000000</td>\n",
              "      <td>1.000000</td>\n",
              "      <td>2.000000</td>\n",
              "      <td>1.000000</td>\n",
              "      <td>1.300000</td>\n",
              "      <td>0.000000</td>\n",
              "      <td>0.000000</td>\n",
              "      <td>181.000000</td>\n",
              "      <td>0.000000</td>\n",
              "      <td>1.000000</td>\n",
              "      <td>0.000000</td>\n",
              "      <td>13.000000</td>\n",
              "      <td>1.000000</td>\n",
              "      <td>0.000000</td>\n",
              "      <td>1.000000</td>\n",
              "      <td>2014.000000</td>\n",
              "    </tr>\n",
              "    <tr>\n",
              "      <th>25%</th>\n",
              "      <td>6.00000</td>\n",
              "      <td>3.400000e+06</td>\n",
              "      <td>40.000000</td>\n",
              "      <td>1.000000</td>\n",
              "      <td>2.600000</td>\n",
              "      <td>5.000000</td>\n",
              "      <td>18.600000</td>\n",
              "      <td>2.000000</td>\n",
              "      <td>7.000000</td>\n",
              "      <td>0.000000</td>\n",
              "      <td>18557.000000</td>\n",
              "      <td>9289.000000</td>\n",
              "      <td>0.000000</td>\n",
              "      <td>288.000000</td>\n",
              "      <td>0.000000</td>\n",
              "      <td>294.000000</td>\n",
              "      <td>45.000000</td>\n",
              "      <td>1.000000</td>\n",
              "      <td>3.000000</td>\n",
              "      <td>2017.000000</td>\n",
              "    </tr>\n",
              "    <tr>\n",
              "      <th>50%</th>\n",
              "      <td>9.00000</td>\n",
              "      <td>4.620000e+06</td>\n",
              "      <td>52.000000</td>\n",
              "      <td>2.000000</td>\n",
              "      <td>2.650000</td>\n",
              "      <td>9.000000</td>\n",
              "      <td>30.000000</td>\n",
              "      <td>4.000000</td>\n",
              "      <td>9.100000</td>\n",
              "      <td>0.000000</td>\n",
              "      <td>26766.000000</td>\n",
              "      <td>13123.000000</td>\n",
              "      <td>0.000000</td>\n",
              "      <td>454.000000</td>\n",
              "      <td>1.000000</td>\n",
              "      <td>502.000000</td>\n",
              "      <td>95.000000</td>\n",
              "      <td>3.000000</td>\n",
              "      <td>6.000000</td>\n",
              "      <td>2017.000000</td>\n",
              "    </tr>\n",
              "    <tr>\n",
              "      <th>75%</th>\n",
              "      <td>14.00000</td>\n",
              "      <td>6.750000e+06</td>\n",
              "      <td>69.500000</td>\n",
              "      <td>3.000000</td>\n",
              "      <td>2.700000</td>\n",
              "      <td>16.000000</td>\n",
              "      <td>42.200000</td>\n",
              "      <td>8.000000</td>\n",
              "      <td>12.000000</td>\n",
              "      <td>1.000000</td>\n",
              "      <td>37310.000000</td>\n",
              "      <td>16309.000000</td>\n",
              "      <td>1.000000</td>\n",
              "      <td>612.000000</td>\n",
              "      <td>1.000000</td>\n",
              "      <td>730.000000</td>\n",
              "      <td>231.000000</td>\n",
              "      <td>4.000000</td>\n",
              "      <td>10.000000</td>\n",
              "      <td>2018.000000</td>\n",
              "    </tr>\n",
              "    <tr>\n",
              "      <th>max</th>\n",
              "      <td>50.00000</td>\n",
              "      <td>7.630000e+08</td>\n",
              "      <td>900.000000</td>\n",
              "      <td>19.000000</td>\n",
              "      <td>3.980000</td>\n",
              "      <td>60.000000</td>\n",
              "      <td>409.700000</td>\n",
              "      <td>33.000000</td>\n",
              "      <td>112.000000</td>\n",
              "      <td>5.000000</td>\n",
              "      <td>84869.000000</td>\n",
              "      <td>65968.000000</td>\n",
              "      <td>3.000000</td>\n",
              "      <td>3190.000000</td>\n",
              "      <td>3.000000</td>\n",
              "      <td>1344.000000</td>\n",
              "      <td>1580.000000</td>\n",
              "      <td>6.000000</td>\n",
              "      <td>12.000000</td>\n",
              "      <td>2019.000000</td>\n",
              "    </tr>\n",
              "  </tbody>\n",
              "</table>\n",
              "</div>"
            ],
            "text/plain": [
              "       total_images    last_price    total_area         rooms  ceiling_height  \\\n",
              "count   23585.00000  2.358500e+04  23585.000000  23585.000000    23585.000000   \n",
              "mean        9.84859  6.470715e+06     60.089081      2.066865        2.691027   \n",
              "std         5.67096  1.067727e+07     34.884487      1.074118        0.198444   \n",
              "min         0.00000  1.219000e+04     12.000000      0.000000        1.000000   \n",
              "25%         6.00000  3.400000e+06     40.000000      1.000000        2.600000   \n",
              "50%         9.00000  4.620000e+06     52.000000      2.000000        2.650000   \n",
              "75%        14.00000  6.750000e+06     69.500000      3.000000        2.700000   \n",
              "max        50.00000  7.630000e+08    900.000000     19.000000        3.980000   \n",
              "\n",
              "       floors_total   living_area         floor  kitchen_area       balcony  \\\n",
              "count  23499.000000  21690.000000  23585.000000  21322.000000  23585.000000   \n",
              "mean      10.694285     34.281704      5.899512     10.542357      0.591054   \n",
              "std        6.596984     21.500827      4.888582      5.842080      0.958800   \n",
              "min        1.000000      2.000000      1.000000      1.300000      0.000000   \n",
              "25%        5.000000     18.600000      2.000000      7.000000      0.000000   \n",
              "50%        9.000000     30.000000      4.000000      9.100000      0.000000   \n",
              "75%       16.000000     42.200000      8.000000     12.000000      1.000000   \n",
              "max       60.000000    409.700000     33.000000    112.000000      5.000000   \n",
              "\n",
              "       airports_nearest  cityCenters_nearest  parks_around3000  parks_nearest  \\\n",
              "count      18064.000000         18084.000000      18085.000000    8016.000000   \n",
              "mean       28806.227690         14225.091186          0.608737     491.100549   \n",
              "std        12642.739572          8593.878802          0.799712     342.998557   \n",
              "min            0.000000           181.000000          0.000000       1.000000   \n",
              "25%        18557.000000          9289.000000          0.000000     288.000000   \n",
              "50%        26766.000000         13123.000000          0.000000     454.000000   \n",
              "75%        37310.000000         16309.000000          1.000000     612.000000   \n",
              "max        84869.000000         65968.000000          3.000000    3190.000000   \n",
              "\n",
              "       ponds_around3000  ponds_nearest  days_exposition           day  \\\n",
              "count      18085.000000    9043.000000     20431.000000  23585.000000   \n",
              "mean           0.767100     518.361163       180.477363      2.569472   \n",
              "std            0.935991     277.904832       219.343431      1.789821   \n",
              "min            0.000000      13.000000         1.000000      0.000000   \n",
              "25%            0.000000     294.000000        45.000000      1.000000   \n",
              "50%            1.000000     502.000000        95.000000      3.000000   \n",
              "75%            1.000000     730.000000       231.000000      4.000000   \n",
              "max            3.000000    1344.000000      1580.000000      6.000000   \n",
              "\n",
              "              month          year  \n",
              "count  23585.000000  23585.000000  \n",
              "mean       6.397965   2017.367649  \n",
              "std        3.490919      1.039116  \n",
              "min        1.000000   2014.000000  \n",
              "25%        3.000000   2017.000000  \n",
              "50%        6.000000   2017.000000  \n",
              "75%       10.000000   2018.000000  \n",
              "max       12.000000   2019.000000  "
            ]
          },
          "execution_count": 12,
          "metadata": {},
          "output_type": "execute_result"
        }
      ],
      "source": [
        "data = data[data['ceiling_height'] < 4]\n",
        "data.describe()"
      ]
    },
    {
      "cell_type": "markdown",
      "metadata": {
        "id": "kdEMcREAtF8b"
      },
      "source": [
        "При рассмотрении максимальных и минимальных элементов видно, что во многих столбцах есть выбросы. Например, в столбцах airports_nearest, cityCenters_nearest, parks_nearest, ponds_nearest максимальные значения равны выбросам, но они не повлияют на дальнейший анализ.\n",
        "\n",
        "Значение в столбце с высотой потолков можно выделить до 4м, так как средняя длина потолков составляет 2,7 м.\n",
        "\n",
        "\n",
        "\n",
        "**Добавим новые столбцы.**"
      ]
    },
    {
      "cell_type": "code",
      "execution_count": null,
      "metadata": {
        "id": "bKJOf0BntF8b"
      },
      "outputs": [],
      "source": [
        "# цена одного квадратного метра\n",
        "data['price_1m'] = data['last_price'] / data['total_area']"
      ]
    },
    {
      "cell_type": "markdown",
      "metadata": {
        "id": "CX7CQqPYtF8c"
      },
      "source": [
        "Столбцы, которые уже были добавлены:\n",
        "- день недели публикации объявления - day\n",
        "- месяц публикации объявления - month\n",
        "- год публикации объявления - year"
      ]
    },
    {
      "cell_type": "code",
      "execution_count": null,
      "metadata": {
        "id": "7foRXiuttF8c",
        "outputId": "7c25af36-b59d-4d7b-9aa4-c1c2536ed4d5"
      },
      "outputs": [
        {
          "data": {
            "text/html": [
              "<div>\n",
              "<style scoped>\n",
              "    .dataframe tbody tr th:only-of-type {\n",
              "        vertical-align: middle;\n",
              "    }\n",
              "\n",
              "    .dataframe tbody tr th {\n",
              "        vertical-align: top;\n",
              "    }\n",
              "\n",
              "    .dataframe thead th {\n",
              "        text-align: right;\n",
              "    }\n",
              "</style>\n",
              "<table border=\"1\" class=\"dataframe\">\n",
              "  <thead>\n",
              "    <tr style=\"text-align: right;\">\n",
              "      <th></th>\n",
              "      <th>total_images</th>\n",
              "      <th>last_price</th>\n",
              "      <th>total_area</th>\n",
              "      <th>first_day_exposition</th>\n",
              "      <th>rooms</th>\n",
              "      <th>ceiling_height</th>\n",
              "      <th>floors_total</th>\n",
              "      <th>living_area</th>\n",
              "      <th>floor</th>\n",
              "      <th>is_apartment</th>\n",
              "      <th>...</th>\n",
              "      <th>parks_around3000</th>\n",
              "      <th>parks_nearest</th>\n",
              "      <th>ponds_around3000</th>\n",
              "      <th>ponds_nearest</th>\n",
              "      <th>days_exposition</th>\n",
              "      <th>day</th>\n",
              "      <th>month</th>\n",
              "      <th>year</th>\n",
              "      <th>price_1m</th>\n",
              "      <th>floor_type</th>\n",
              "    </tr>\n",
              "  </thead>\n",
              "  <tbody>\n",
              "    <tr>\n",
              "      <th>0</th>\n",
              "      <td>20</td>\n",
              "      <td>13000000</td>\n",
              "      <td>108.0</td>\n",
              "      <td>2019-03-07</td>\n",
              "      <td>3</td>\n",
              "      <td>2.70</td>\n",
              "      <td>16.0</td>\n",
              "      <td>51.0</td>\n",
              "      <td>8</td>\n",
              "      <td>True</td>\n",
              "      <td>...</td>\n",
              "      <td>1.0</td>\n",
              "      <td>482.0</td>\n",
              "      <td>2.0</td>\n",
              "      <td>755.0</td>\n",
              "      <td>NaN</td>\n",
              "      <td>3</td>\n",
              "      <td>3</td>\n",
              "      <td>2019</td>\n",
              "      <td>120370.370370</td>\n",
              "      <td>другой</td>\n",
              "    </tr>\n",
              "    <tr>\n",
              "      <th>1</th>\n",
              "      <td>7</td>\n",
              "      <td>3350000</td>\n",
              "      <td>40.4</td>\n",
              "      <td>2018-12-04</td>\n",
              "      <td>1</td>\n",
              "      <td>2.65</td>\n",
              "      <td>11.0</td>\n",
              "      <td>18.6</td>\n",
              "      <td>1</td>\n",
              "      <td>True</td>\n",
              "      <td>...</td>\n",
              "      <td>0.0</td>\n",
              "      <td>NaN</td>\n",
              "      <td>0.0</td>\n",
              "      <td>NaN</td>\n",
              "      <td>81.0</td>\n",
              "      <td>1</td>\n",
              "      <td>12</td>\n",
              "      <td>2018</td>\n",
              "      <td>82920.792079</td>\n",
              "      <td>первый</td>\n",
              "    </tr>\n",
              "    <tr>\n",
              "      <th>2</th>\n",
              "      <td>10</td>\n",
              "      <td>5196000</td>\n",
              "      <td>56.0</td>\n",
              "      <td>2015-08-20</td>\n",
              "      <td>2</td>\n",
              "      <td>2.65</td>\n",
              "      <td>5.0</td>\n",
              "      <td>34.3</td>\n",
              "      <td>4</td>\n",
              "      <td>True</td>\n",
              "      <td>...</td>\n",
              "      <td>1.0</td>\n",
              "      <td>90.0</td>\n",
              "      <td>2.0</td>\n",
              "      <td>574.0</td>\n",
              "      <td>558.0</td>\n",
              "      <td>3</td>\n",
              "      <td>8</td>\n",
              "      <td>2015</td>\n",
              "      <td>92785.714286</td>\n",
              "      <td>другой</td>\n",
              "    </tr>\n",
              "    <tr>\n",
              "      <th>3</th>\n",
              "      <td>0</td>\n",
              "      <td>64900000</td>\n",
              "      <td>159.0</td>\n",
              "      <td>2015-07-24</td>\n",
              "      <td>3</td>\n",
              "      <td>2.65</td>\n",
              "      <td>14.0</td>\n",
              "      <td>NaN</td>\n",
              "      <td>9</td>\n",
              "      <td>True</td>\n",
              "      <td>...</td>\n",
              "      <td>2.0</td>\n",
              "      <td>84.0</td>\n",
              "      <td>3.0</td>\n",
              "      <td>234.0</td>\n",
              "      <td>424.0</td>\n",
              "      <td>4</td>\n",
              "      <td>7</td>\n",
              "      <td>2015</td>\n",
              "      <td>408176.100629</td>\n",
              "      <td>другой</td>\n",
              "    </tr>\n",
              "    <tr>\n",
              "      <th>4</th>\n",
              "      <td>2</td>\n",
              "      <td>10000000</td>\n",
              "      <td>100.0</td>\n",
              "      <td>2018-06-19</td>\n",
              "      <td>2</td>\n",
              "      <td>3.03</td>\n",
              "      <td>14.0</td>\n",
              "      <td>32.0</td>\n",
              "      <td>13</td>\n",
              "      <td>True</td>\n",
              "      <td>...</td>\n",
              "      <td>2.0</td>\n",
              "      <td>112.0</td>\n",
              "      <td>1.0</td>\n",
              "      <td>48.0</td>\n",
              "      <td>121.0</td>\n",
              "      <td>1</td>\n",
              "      <td>6</td>\n",
              "      <td>2018</td>\n",
              "      <td>100000.000000</td>\n",
              "      <td>другой</td>\n",
              "    </tr>\n",
              "  </tbody>\n",
              "</table>\n",
              "<p>5 rows × 27 columns</p>\n",
              "</div>"
            ],
            "text/plain": [
              "   total_images  last_price  total_area first_day_exposition  rooms  \\\n",
              "0            20    13000000       108.0           2019-03-07      3   \n",
              "1             7     3350000        40.4           2018-12-04      1   \n",
              "2            10     5196000        56.0           2015-08-20      2   \n",
              "3             0    64900000       159.0           2015-07-24      3   \n",
              "4             2    10000000       100.0           2018-06-19      2   \n",
              "\n",
              "   ceiling_height  floors_total  living_area  floor  is_apartment  ...  \\\n",
              "0            2.70          16.0         51.0      8          True  ...   \n",
              "1            2.65          11.0         18.6      1          True  ...   \n",
              "2            2.65           5.0         34.3      4          True  ...   \n",
              "3            2.65          14.0          NaN      9          True  ...   \n",
              "4            3.03          14.0         32.0     13          True  ...   \n",
              "\n",
              "   parks_around3000  parks_nearest  ponds_around3000  ponds_nearest  \\\n",
              "0               1.0          482.0               2.0          755.0   \n",
              "1               0.0            NaN               0.0            NaN   \n",
              "2               1.0           90.0               2.0          574.0   \n",
              "3               2.0           84.0               3.0          234.0   \n",
              "4               2.0          112.0               1.0           48.0   \n",
              "\n",
              "  days_exposition  day  month  year       price_1m  floor_type  \n",
              "0             NaN    3      3  2019  120370.370370      другой  \n",
              "1            81.0    1     12  2018   82920.792079      первый  \n",
              "2           558.0    3      8  2015   92785.714286      другой  \n",
              "3           424.0    4      7  2015  408176.100629      другой  \n",
              "4           121.0    1      6  2018  100000.000000      другой  \n",
              "\n",
              "[5 rows x 27 columns]"
            ]
          },
          "execution_count": 14,
          "metadata": {},
          "output_type": "execute_result"
        }
      ],
      "source": [
        "# функция для добавления типа этажа квартиры, добавление нового столбца с типом этажа\n",
        "\n",
        "def floor_desc(row):\n",
        "    if row['floor'] == 1:\n",
        "        return 'первый'\n",
        "    elif row['floor'] == row['floors_total']:\n",
        "        return 'последний'\n",
        "    else:\n",
        "        return 'другой'\n",
        "    \n",
        "data['floor_type'] = data.apply(floor_desc, axis = 1)\n",
        "data.head()"
      ]
    },
    {
      "cell_type": "code",
      "execution_count": null,
      "metadata": {
        "id": "ee9u3DLOtF8c",
        "outputId": "b69eb4f8-a3fd-4686-c69d-93cc725334d0"
      },
      "outputs": [
        {
          "data": {
            "text/html": [
              "<div>\n",
              "<style scoped>\n",
              "    .dataframe tbody tr th:only-of-type {\n",
              "        vertical-align: middle;\n",
              "    }\n",
              "\n",
              "    .dataframe tbody tr th {\n",
              "        vertical-align: top;\n",
              "    }\n",
              "\n",
              "    .dataframe thead th {\n",
              "        text-align: right;\n",
              "    }\n",
              "</style>\n",
              "<table border=\"1\" class=\"dataframe\">\n",
              "  <thead>\n",
              "    <tr style=\"text-align: right;\">\n",
              "      <th></th>\n",
              "      <th>total_images</th>\n",
              "      <th>last_price</th>\n",
              "      <th>total_area</th>\n",
              "      <th>first_day_exposition</th>\n",
              "      <th>rooms</th>\n",
              "      <th>ceiling_height</th>\n",
              "      <th>floors_total</th>\n",
              "      <th>living_area</th>\n",
              "      <th>floor</th>\n",
              "      <th>is_apartment</th>\n",
              "      <th>...</th>\n",
              "      <th>parks_nearest</th>\n",
              "      <th>ponds_around3000</th>\n",
              "      <th>ponds_nearest</th>\n",
              "      <th>days_exposition</th>\n",
              "      <th>day</th>\n",
              "      <th>month</th>\n",
              "      <th>year</th>\n",
              "      <th>price_1m</th>\n",
              "      <th>floor_type</th>\n",
              "      <th>cityCenters_nearest_km</th>\n",
              "    </tr>\n",
              "  </thead>\n",
              "  <tbody>\n",
              "    <tr>\n",
              "      <th>0</th>\n",
              "      <td>20</td>\n",
              "      <td>13000000</td>\n",
              "      <td>108.00</td>\n",
              "      <td>2019-03-07</td>\n",
              "      <td>3</td>\n",
              "      <td>2.70</td>\n",
              "      <td>16.0</td>\n",
              "      <td>51.00</td>\n",
              "      <td>8</td>\n",
              "      <td>True</td>\n",
              "      <td>...</td>\n",
              "      <td>482.0</td>\n",
              "      <td>2.0</td>\n",
              "      <td>755.0</td>\n",
              "      <td>NaN</td>\n",
              "      <td>3</td>\n",
              "      <td>3</td>\n",
              "      <td>2019</td>\n",
              "      <td>120370.370370</td>\n",
              "      <td>другой</td>\n",
              "      <td>16.0</td>\n",
              "    </tr>\n",
              "    <tr>\n",
              "      <th>1</th>\n",
              "      <td>7</td>\n",
              "      <td>3350000</td>\n",
              "      <td>40.40</td>\n",
              "      <td>2018-12-04</td>\n",
              "      <td>1</td>\n",
              "      <td>2.65</td>\n",
              "      <td>11.0</td>\n",
              "      <td>18.60</td>\n",
              "      <td>1</td>\n",
              "      <td>True</td>\n",
              "      <td>...</td>\n",
              "      <td>NaN</td>\n",
              "      <td>0.0</td>\n",
              "      <td>NaN</td>\n",
              "      <td>81.0</td>\n",
              "      <td>1</td>\n",
              "      <td>12</td>\n",
              "      <td>2018</td>\n",
              "      <td>82920.792079</td>\n",
              "      <td>первый</td>\n",
              "      <td>19.0</td>\n",
              "    </tr>\n",
              "    <tr>\n",
              "      <th>2</th>\n",
              "      <td>10</td>\n",
              "      <td>5196000</td>\n",
              "      <td>56.00</td>\n",
              "      <td>2015-08-20</td>\n",
              "      <td>2</td>\n",
              "      <td>2.65</td>\n",
              "      <td>5.0</td>\n",
              "      <td>34.30</td>\n",
              "      <td>4</td>\n",
              "      <td>True</td>\n",
              "      <td>...</td>\n",
              "      <td>90.0</td>\n",
              "      <td>2.0</td>\n",
              "      <td>574.0</td>\n",
              "      <td>558.0</td>\n",
              "      <td>3</td>\n",
              "      <td>8</td>\n",
              "      <td>2015</td>\n",
              "      <td>92785.714286</td>\n",
              "      <td>другой</td>\n",
              "      <td>14.0</td>\n",
              "    </tr>\n",
              "    <tr>\n",
              "      <th>3</th>\n",
              "      <td>0</td>\n",
              "      <td>64900000</td>\n",
              "      <td>159.00</td>\n",
              "      <td>2015-07-24</td>\n",
              "      <td>3</td>\n",
              "      <td>2.65</td>\n",
              "      <td>14.0</td>\n",
              "      <td>NaN</td>\n",
              "      <td>9</td>\n",
              "      <td>True</td>\n",
              "      <td>...</td>\n",
              "      <td>84.0</td>\n",
              "      <td>3.0</td>\n",
              "      <td>234.0</td>\n",
              "      <td>424.0</td>\n",
              "      <td>4</td>\n",
              "      <td>7</td>\n",
              "      <td>2015</td>\n",
              "      <td>408176.100629</td>\n",
              "      <td>другой</td>\n",
              "      <td>7.0</td>\n",
              "    </tr>\n",
              "    <tr>\n",
              "      <th>4</th>\n",
              "      <td>2</td>\n",
              "      <td>10000000</td>\n",
              "      <td>100.00</td>\n",
              "      <td>2018-06-19</td>\n",
              "      <td>2</td>\n",
              "      <td>3.03</td>\n",
              "      <td>14.0</td>\n",
              "      <td>32.00</td>\n",
              "      <td>13</td>\n",
              "      <td>True</td>\n",
              "      <td>...</td>\n",
              "      <td>112.0</td>\n",
              "      <td>1.0</td>\n",
              "      <td>48.0</td>\n",
              "      <td>121.0</td>\n",
              "      <td>1</td>\n",
              "      <td>6</td>\n",
              "      <td>2018</td>\n",
              "      <td>100000.000000</td>\n",
              "      <td>другой</td>\n",
              "      <td>8.0</td>\n",
              "    </tr>\n",
              "    <tr>\n",
              "      <th>5</th>\n",
              "      <td>10</td>\n",
              "      <td>2890000</td>\n",
              "      <td>30.40</td>\n",
              "      <td>2018-09-10</td>\n",
              "      <td>1</td>\n",
              "      <td>2.65</td>\n",
              "      <td>12.0</td>\n",
              "      <td>14.40</td>\n",
              "      <td>5</td>\n",
              "      <td>True</td>\n",
              "      <td>...</td>\n",
              "      <td>NaN</td>\n",
              "      <td>NaN</td>\n",
              "      <td>NaN</td>\n",
              "      <td>55.0</td>\n",
              "      <td>0</td>\n",
              "      <td>9</td>\n",
              "      <td>2018</td>\n",
              "      <td>95065.789474</td>\n",
              "      <td>другой</td>\n",
              "      <td>NaN</td>\n",
              "    </tr>\n",
              "    <tr>\n",
              "      <th>6</th>\n",
              "      <td>6</td>\n",
              "      <td>3700000</td>\n",
              "      <td>37.30</td>\n",
              "      <td>2017-11-02</td>\n",
              "      <td>1</td>\n",
              "      <td>2.65</td>\n",
              "      <td>26.0</td>\n",
              "      <td>10.60</td>\n",
              "      <td>6</td>\n",
              "      <td>True</td>\n",
              "      <td>...</td>\n",
              "      <td>NaN</td>\n",
              "      <td>0.0</td>\n",
              "      <td>NaN</td>\n",
              "      <td>155.0</td>\n",
              "      <td>3</td>\n",
              "      <td>11</td>\n",
              "      <td>2017</td>\n",
              "      <td>99195.710456</td>\n",
              "      <td>другой</td>\n",
              "      <td>19.0</td>\n",
              "    </tr>\n",
              "    <tr>\n",
              "      <th>7</th>\n",
              "      <td>5</td>\n",
              "      <td>7915000</td>\n",
              "      <td>71.60</td>\n",
              "      <td>2019-04-18</td>\n",
              "      <td>2</td>\n",
              "      <td>2.65</td>\n",
              "      <td>24.0</td>\n",
              "      <td>NaN</td>\n",
              "      <td>22</td>\n",
              "      <td>True</td>\n",
              "      <td>...</td>\n",
              "      <td>NaN</td>\n",
              "      <td>0.0</td>\n",
              "      <td>NaN</td>\n",
              "      <td>NaN</td>\n",
              "      <td>3</td>\n",
              "      <td>4</td>\n",
              "      <td>2019</td>\n",
              "      <td>110544.692737</td>\n",
              "      <td>другой</td>\n",
              "      <td>12.0</td>\n",
              "    </tr>\n",
              "    <tr>\n",
              "      <th>8</th>\n",
              "      <td>20</td>\n",
              "      <td>2900000</td>\n",
              "      <td>33.16</td>\n",
              "      <td>2018-05-23</td>\n",
              "      <td>1</td>\n",
              "      <td>2.65</td>\n",
              "      <td>27.0</td>\n",
              "      <td>15.43</td>\n",
              "      <td>26</td>\n",
              "      <td>True</td>\n",
              "      <td>...</td>\n",
              "      <td>NaN</td>\n",
              "      <td>NaN</td>\n",
              "      <td>NaN</td>\n",
              "      <td>189.0</td>\n",
              "      <td>2</td>\n",
              "      <td>5</td>\n",
              "      <td>2018</td>\n",
              "      <td>87454.764777</td>\n",
              "      <td>другой</td>\n",
              "      <td>NaN</td>\n",
              "    </tr>\n",
              "    <tr>\n",
              "      <th>9</th>\n",
              "      <td>18</td>\n",
              "      <td>5400000</td>\n",
              "      <td>61.00</td>\n",
              "      <td>2017-02-26</td>\n",
              "      <td>3</td>\n",
              "      <td>2.50</td>\n",
              "      <td>9.0</td>\n",
              "      <td>43.60</td>\n",
              "      <td>7</td>\n",
              "      <td>True</td>\n",
              "      <td>...</td>\n",
              "      <td>NaN</td>\n",
              "      <td>0.0</td>\n",
              "      <td>NaN</td>\n",
              "      <td>289.0</td>\n",
              "      <td>6</td>\n",
              "      <td>2</td>\n",
              "      <td>2017</td>\n",
              "      <td>88524.590164</td>\n",
              "      <td>другой</td>\n",
              "      <td>15.0</td>\n",
              "    </tr>\n",
              "  </tbody>\n",
              "</table>\n",
              "<p>10 rows × 28 columns</p>\n",
              "</div>"
            ],
            "text/plain": [
              "   total_images  last_price  total_area first_day_exposition  rooms  \\\n",
              "0            20    13000000      108.00           2019-03-07      3   \n",
              "1             7     3350000       40.40           2018-12-04      1   \n",
              "2            10     5196000       56.00           2015-08-20      2   \n",
              "3             0    64900000      159.00           2015-07-24      3   \n",
              "4             2    10000000      100.00           2018-06-19      2   \n",
              "5            10     2890000       30.40           2018-09-10      1   \n",
              "6             6     3700000       37.30           2017-11-02      1   \n",
              "7             5     7915000       71.60           2019-04-18      2   \n",
              "8            20     2900000       33.16           2018-05-23      1   \n",
              "9            18     5400000       61.00           2017-02-26      3   \n",
              "\n",
              "   ceiling_height  floors_total  living_area  floor  is_apartment  ...  \\\n",
              "0            2.70          16.0        51.00      8          True  ...   \n",
              "1            2.65          11.0        18.60      1          True  ...   \n",
              "2            2.65           5.0        34.30      4          True  ...   \n",
              "3            2.65          14.0          NaN      9          True  ...   \n",
              "4            3.03          14.0        32.00     13          True  ...   \n",
              "5            2.65          12.0        14.40      5          True  ...   \n",
              "6            2.65          26.0        10.60      6          True  ...   \n",
              "7            2.65          24.0          NaN     22          True  ...   \n",
              "8            2.65          27.0        15.43     26          True  ...   \n",
              "9            2.50           9.0        43.60      7          True  ...   \n",
              "\n",
              "   parks_nearest  ponds_around3000  ponds_nearest  days_exposition day  month  \\\n",
              "0          482.0               2.0          755.0              NaN   3      3   \n",
              "1            NaN               0.0            NaN             81.0   1     12   \n",
              "2           90.0               2.0          574.0            558.0   3      8   \n",
              "3           84.0               3.0          234.0            424.0   4      7   \n",
              "4          112.0               1.0           48.0            121.0   1      6   \n",
              "5            NaN               NaN            NaN             55.0   0      9   \n",
              "6            NaN               0.0            NaN            155.0   3     11   \n",
              "7            NaN               0.0            NaN              NaN   3      4   \n",
              "8            NaN               NaN            NaN            189.0   2      5   \n",
              "9            NaN               0.0            NaN            289.0   6      2   \n",
              "\n",
              "   year       price_1m  floor_type  cityCenters_nearest_km  \n",
              "0  2019  120370.370370      другой                    16.0  \n",
              "1  2018   82920.792079      первый                    19.0  \n",
              "2  2015   92785.714286      другой                    14.0  \n",
              "3  2015  408176.100629      другой                     7.0  \n",
              "4  2018  100000.000000      другой                     8.0  \n",
              "5  2018   95065.789474      другой                     NaN  \n",
              "6  2017   99195.710456      другой                    19.0  \n",
              "7  2019  110544.692737      другой                    12.0  \n",
              "8  2018   87454.764777      другой                     NaN  \n",
              "9  2017   88524.590164      другой                    15.0  \n",
              "\n",
              "[10 rows x 28 columns]"
            ]
          },
          "execution_count": 15,
          "metadata": {},
          "output_type": "execute_result"
        }
      ],
      "source": [
        "# расстояние до центра города в километрах\n",
        "\n",
        "data['cityCenters_nearest_km'] = (data['cityCenters_nearest'] / 1000).round()\n",
        "data.head(10)"
      ]
    },
    {
      "cell_type": "markdown",
      "metadata": {
        "id": "95gRPzLntF8d"
      },
      "source": [
        "## Этап 3. Исследовательский анализ данных"
      ]
    },
    {
      "cell_type": "markdown",
      "metadata": {
        "id": "nmxnE6UHtF8e"
      },
      "source": [
        "1. Изучение параметров объектов\n",
        "\n",
        "Перед построением гистограммы узнаем доверительный интервал для каждого из столбцов с помощью квантилей."
      ]
    },
    {
      "cell_type": "code",
      "execution_count": null,
      "metadata": {
        "id": "abjEROBctF8e",
        "outputId": "a0bb485a-9a29-4b45-eb60-7c05b058b32a"
      },
      "outputs": [
        {
          "data": {
            "text/plain": [
              "(31.0, 115.26399999999994)"
            ]
          },
          "execution_count": 16,
          "metadata": {},
          "output_type": "execute_result"
        }
      ],
      "source": [
        "#общая площадь\n",
        "data['total_area'].quantile(0.05), data['total_area'].quantile(0.95)"
      ]
    },
    {
      "cell_type": "code",
      "execution_count": null,
      "metadata": {
        "id": "M9kmiZyvtF8e",
        "outputId": "15e05d14-f5bb-402b-8d20-dc24cc8752d5"
      },
      "outputs": [
        {
          "data": {
            "text/plain": [
              "<AxesSubplot:title={'center':'Общая площадь'}, ylabel='Frequency'>"
            ]
          },
          "execution_count": 17,
          "metadata": {},
          "output_type": "execute_result"
        },
        {
          "data": {
            "image/png": "[encoded data removed]",
            "text/plain": [
              "<Figure size 432x288 with 1 Axes>"
            ]
          },
          "metadata": {
            "needs_background": "light"
          },
          "output_type": "display_data"
        }
      ],
      "source": [
        "data['total_area'].plot(kind = 'hist', bins = 50, range = (31,116), title = 'Общая площадь', grid=True)"
      ]
    },
    {
      "cell_type": "code",
      "execution_count": null,
      "metadata": {
        "id": "3EgHgV6mtF8f",
        "outputId": "d5e546c5-ba00-4f6c-c9ea-be04bd0e1d64"
      },
      "outputs": [
        {
          "data": {
            "text/plain": [
              "(15.2, 68.1)"
            ]
          },
          "execution_count": 18,
          "metadata": {},
          "output_type": "execute_result"
        }
      ],
      "source": [
        "#жилая площадь\n",
        "data['living_area'].quantile(0.05), data['living_area'].quantile(0.95)"
      ]
    },
    {
      "cell_type": "code",
      "execution_count": null,
      "metadata": {
        "id": "MkngEtPztF8f",
        "outputId": "84e66717-5714-4371-b3ee-a201d3695f85"
      },
      "outputs": [
        {
          "data": {
            "text/plain": [
              "<AxesSubplot:title={'center':'Жилая площадь'}, ylabel='Frequency'>"
            ]
          },
          "execution_count": 19,
          "metadata": {},
          "output_type": "execute_result"
        },
        {
          "data": {
            "image/png": "[encoded data removed]",
            "text/plain": [
              "<Figure size 432x288 with 1 Axes>"
            ]
          },
          "metadata": {
            "needs_background": "light"
          },
          "output_type": "display_data"
        }
      ],
      "source": [
        "data['living_area'].plot(kind = 'hist', bins = 30, range = (15, 69), title = 'Жилая площадь', grid=True)"
      ]
    },
    {
      "cell_type": "code",
      "execution_count": null,
      "metadata": {
        "id": "icyJTcGltF8f",
        "outputId": "ae209343-6c82-4d2f-89eb-6e9e81e54de7"
      },
      "outputs": [
        {
          "data": {
            "text/plain": [
              "(5.5, 20.0)"
            ]
          },
          "execution_count": 20,
          "metadata": {},
          "output_type": "execute_result"
        }
      ],
      "source": [
        "#площадь кухни\n",
        "data['kitchen_area'].quantile(0.05), data['kitchen_area'].quantile(0.95)"
      ]
    },
    {
      "cell_type": "code",
      "execution_count": null,
      "metadata": {
        "id": "9Sozv5S7tF8g",
        "outputId": "569f954e-05d8-42d4-f90e-792e41626cfc"
      },
      "outputs": [
        {
          "data": {
            "text/plain": [
              "<AxesSubplot:title={'center':'Площадь кухни'}, ylabel='Frequency'>"
            ]
          },
          "execution_count": 21,
          "metadata": {},
          "output_type": "execute_result"
        },
        {
          "data": {
            "image/png": "[encoded data removed]",
            "text/plain": [
              "<Figure size 432x288 with 1 Axes>"
            ]
          },
          "metadata": {
            "needs_background": "light"
          },
          "output_type": "display_data"
        }
      ],
      "source": [
        "data['kitchen_area'].plot(kind = 'hist', bins = 20, range = (5,21), title = 'Площадь кухни', grid=True)"
      ]
    },
    {
      "cell_type": "markdown",
      "metadata": {
        "id": "QRoTtdy-tF8g"
      },
      "source": [
        "Общая площадь находится в диапазоне (31, 116) кв. м. Самое частое - площади до 60 кв.м.\n",
        "Жилая площадь находится в диапазоне (15, 60) кв. м. Самое частое - площади до 20 кв. м. и 30 кв.м.\n",
        "Площадь кухни находится в диапазоне (5.5, 20) кв.м. Самое частое - площади от 6 до 11 кв. м."
      ]
    },
    {
      "cell_type": "code",
      "execution_count": null,
      "metadata": {
        "id": "fqrNRiAktF8h",
        "outputId": "426961df-e508-401a-c981-0661c520a01e"
      },
      "outputs": [
        {
          "data": {
            "text/plain": [
              "(1860000.0, 15000000.0)"
            ]
          },
          "execution_count": 22,
          "metadata": {},
          "output_type": "execute_result"
        }
      ],
      "source": [
        "#цена объекта\n",
        "data['last_price'].quantile(0.05), data['last_price'].quantile(0.95)"
      ]
    },
    {
      "cell_type": "code",
      "execution_count": null,
      "metadata": {
        "id": "qsDZFPq-tF8h",
        "outputId": "6f5363db-0602-4843-c3f7-b4ed7a5d93f0"
      },
      "outputs": [
        {
          "data": {
            "text/plain": [
              "<AxesSubplot:title={'center':'Цена объекта'}, ylabel='Frequency'>"
            ]
          },
          "execution_count": 23,
          "metadata": {},
          "output_type": "execute_result"
        },
        {
          "data": {
            "image/png": "[encoded data removed]",
            "text/plain": [
              "<Figure size 432x288 with 1 Axes>"
            ]
          },
          "metadata": {
            "needs_background": "light"
          },
          "output_type": "display_data"
        }
      ],
      "source": [
        "data['last_price'].plot(kind = 'hist', bins = 50, range = (1860000,15000000), title = 'Цена объекта', grid=True)"
      ]
    },
    {
      "cell_type": "markdown",
      "metadata": {
        "id": "QirXw546tF8h"
      },
      "source": [
        "Самая частая цена объектов составляет от 3 000 000 до 5 000 000."
      ]
    },
    {
      "cell_type": "code",
      "execution_count": null,
      "metadata": {
        "id": "A3j9Mzt5tF8h",
        "outputId": "2739a0b7-61ae-464c-9f21-c7129f6bed2b"
      },
      "outputs": [
        {
          "data": {
            "text/plain": [
              "(1.0, 4.0)"
            ]
          },
          "execution_count": 24,
          "metadata": {},
          "output_type": "execute_result"
        }
      ],
      "source": [
        "#количество комнат\n",
        "data['rooms'].quantile(0.05), data['rooms'].quantile(0.95)"
      ]
    },
    {
      "cell_type": "code",
      "execution_count": null,
      "metadata": {
        "id": "tlHe4Xp7tF8i",
        "outputId": "33b95e28-69d9-4a5b-823c-819f56d667f8"
      },
      "outputs": [
        {
          "data": {
            "text/plain": [
              "<AxesSubplot:title={'center':'Количество комнат'}, ylabel='Frequency'>"
            ]
          },
          "execution_count": 25,
          "metadata": {},
          "output_type": "execute_result"
        },
        {
          "data": {
            "image/png": "[encoded data removed]",
            "text/plain": [
              "<Figure size 432x288 with 1 Axes>"
            ]
          },
          "metadata": {
            "needs_background": "light"
          },
          "output_type": "display_data"
        }
      ],
      "source": [
        "data['rooms'].plot(kind = 'hist', bins = 10, range = (0,5), title = 'Количество комнат', grid=True)"
      ]
    },
    {
      "cell_type": "markdown",
      "metadata": {
        "id": "KNERRUPGtF8i"
      },
      "source": [
        "Больше всего актуальны 1-комнатные и 2-комнатные квартиры."
      ]
    },
    {
      "cell_type": "code",
      "execution_count": null,
      "metadata": {
        "id": "EeRoFHZGtF8i",
        "outputId": "81d6eb84-16e5-40da-96dc-4bd55e361f98"
      },
      "outputs": [
        {
          "data": {
            "text/plain": [
              "(2.5, 3.1)"
            ]
          },
          "execution_count": 26,
          "metadata": {},
          "output_type": "execute_result"
        }
      ],
      "source": [
        "#высота потолков\n",
        "data['ceiling_height'].quantile(0.05), data['ceiling_height'].quantile(0.95)"
      ]
    },
    {
      "cell_type": "code",
      "execution_count": null,
      "metadata": {
        "id": "NE_O00z6tF8i",
        "outputId": "75a3ff3a-3456-4519-a903-707e75df91e7"
      },
      "outputs": [
        {
          "data": {
            "text/plain": [
              "<AxesSubplot:title={'center':'Высота потолков'}, ylabel='Frequency'>"
            ]
          },
          "execution_count": 27,
          "metadata": {},
          "output_type": "execute_result"
        },
        {
          "data": {
            "image/png": "[encoded data removed]",
            "text/plain": [
              "<Figure size 432x288 with 1 Axes>"
            ]
          },
          "metadata": {
            "needs_background": "light"
          },
          "output_type": "display_data"
        }
      ],
      "source": [
        "data['ceiling_height'].plot(kind = 'hist', bins = 10, range = (2,3), title = 'Высота потолков', grid=True)"
      ]
    },
    {
      "cell_type": "markdown",
      "metadata": {
        "id": "qz04Kz-FtF8i"
      },
      "source": [
        "Средняя высота потолков составляет 2,7м."
      ]
    },
    {
      "cell_type": "code",
      "execution_count": null,
      "metadata": {
        "id": "sWhpAz6GtF8i",
        "outputId": "3ee95b05-6a50-46f5-8c1e-8eb9689dd3b9"
      },
      "outputs": [
        {
          "data": {
            "text/plain": [
              "(1.0, 16.0)"
            ]
          },
          "execution_count": 28,
          "metadata": {},
          "output_type": "execute_result"
        }
      ],
      "source": [
        "#этаж квартиры\n",
        "data['floor'].quantile(0.05), data['floor'].quantile(0.95)"
      ]
    },
    {
      "cell_type": "code",
      "execution_count": null,
      "metadata": {
        "id": "f5eRBmBatF8i",
        "outputId": "75e7ddab-c285-4ec5-a2bc-885b272df27f"
      },
      "outputs": [
        {
          "data": {
            "text/plain": [
              "<AxesSubplot:title={'center':'Этаж квартиры'}, ylabel='Frequency'>"
            ]
          },
          "execution_count": 29,
          "metadata": {},
          "output_type": "execute_result"
        },
        {
          "data": {
            "image/png": "[encoded data removed]",
            "text/plain": [
              "<Figure size 432x288 with 1 Axes>"
            ]
          },
          "metadata": {
            "needs_background": "light"
          },
          "output_type": "display_data"
        }
      ],
      "source": [
        "data['floor'].plot(kind = 'hist', bins = 10, range = (1,16), title = 'Этаж квартиры', grid=True)"
      ]
    },
    {
      "cell_type": "markdown",
      "metadata": {
        "id": "1bk68CFYtF8j"
      },
      "source": [
        "Больше всего продается квартир 1,2 и 4 этажах."
      ]
    },
    {
      "cell_type": "code",
      "execution_count": null,
      "metadata": {
        "scrolled": true,
        "id": "yrqtJuT_tF8j",
        "outputId": "9ca33577-3340-4166-bd5f-e46b300e9c3e"
      },
      "outputs": [
        {
          "data": {
            "text/plain": [
              "другой       17377\n",
              "последний     3302\n",
              "первый        2906\n",
              "Name: floor_type, dtype: int64"
            ]
          },
          "execution_count": 30,
          "metadata": {},
          "output_type": "execute_result"
        }
      ],
      "source": [
        "#тип этажа квартиры\n",
        "types = data['floor_type'].value_counts()\n",
        "types"
      ]
    },
    {
      "cell_type": "code",
      "execution_count": null,
      "metadata": {
        "id": "sWQTw07YtF8j",
        "outputId": "ce965822-f8a3-445d-f533-af7519d4fa97"
      },
      "outputs": [
        {
          "data": {
            "text/plain": [
              "<AxesSubplot:title={'center':'Тип этажа квартиры'}, ylabel='floor_type'>"
            ]
          },
          "execution_count": 31,
          "metadata": {},
          "output_type": "execute_result"
        },
        {
          "data": {
            "image/png": "[encoded data removed]",
            "text/plain": [
              "<Figure size 504x504 with 1 Axes>"
            ]
          },
          "metadata": {},
          "output_type": "display_data"
        }
      ],
      "source": [
        "types.plot(kind = 'pie', title = 'Тип этажа квартиры', figsize=(7,7), autopct='%1.1f%%')"
      ]
    },
    {
      "cell_type": "markdown",
      "metadata": {
        "id": "EcKS3-OutF8j"
      },
      "source": [
        "Значительную долю объявлений составляют квартиры не на первом и последнем этажах."
      ]
    },
    {
      "cell_type": "code",
      "execution_count": null,
      "metadata": {
        "id": "tKx7ibKGtF8j",
        "outputId": "f4a5cd5c-d4cb-4908-8ff9-5b3b35af5ece"
      },
      "outputs": [
        {
          "data": {
            "text/plain": [
              "(4.0, 25.0)"
            ]
          },
          "execution_count": 32,
          "metadata": {},
          "output_type": "execute_result"
        }
      ],
      "source": [
        "#общее количество этажей в доме\n",
        "data['floors_total'].quantile(0.05), data['floors_total'].quantile(0.95)"
      ]
    },
    {
      "cell_type": "code",
      "execution_count": null,
      "metadata": {
        "id": "sfJzN5ULtF8j",
        "outputId": "fc11f801-5d96-4283-f6a0-f23374b490cd"
      },
      "outputs": [
        {
          "data": {
            "text/plain": [
              "<AxesSubplot:title={'center':'Общее количество этажей в доме'}, ylabel='Frequency'>"
            ]
          },
          "execution_count": 33,
          "metadata": {},
          "output_type": "execute_result"
        },
        {
          "data": {
            "image/png": "[encoded data removed]",
            "text/plain": [
              "<Figure size 432x288 with 1 Axes>"
            ]
          },
          "metadata": {
            "needs_background": "light"
          },
          "output_type": "display_data"
        }
      ],
      "source": [
        "data['floors_total'].plot(kind = 'hist', bins = 10, range = (1,16), title = 'Общее количество этажей в доме', grid=True)"
      ]
    },
    {
      "cell_type": "markdown",
      "metadata": {
        "id": "Kr06nOVBtF8j"
      },
      "source": [
        "В большинстве случаев квартиры располагаются на 4 этаже"
      ]
    },
    {
      "cell_type": "code",
      "execution_count": null,
      "metadata": {
        "id": "pdqFdsmEtF8j",
        "outputId": "0c0ba01f-da5c-4eab-e00c-21c8f458fab2"
      },
      "outputs": [
        {
          "data": {
            "text/plain": [
              "(4.0, 32.0)"
            ]
          },
          "execution_count": 34,
          "metadata": {},
          "output_type": "execute_result"
        }
      ],
      "source": [
        "#расстояние до центра города в км\n",
        "\n",
        "data['cityCenters_nearest_km'].quantile(0.05), data['cityCenters_nearest_km'].quantile(0.95)"
      ]
    },
    {
      "cell_type": "code",
      "execution_count": null,
      "metadata": {
        "id": "IW5b_8AXtF8k",
        "outputId": "d48f23fa-f7fc-4254-bd80-5bea94776bda"
      },
      "outputs": [
        {
          "data": {
            "text/plain": [
              "<AxesSubplot:title={'center':'Расстояние до центра города'}, ylabel='Frequency'>"
            ]
          },
          "execution_count": 35,
          "metadata": {},
          "output_type": "execute_result"
        },
        {
          "data": {
            "image/png": "[encoded data removed]",
            "text/plain": [
              "<Figure size 432x288 with 1 Axes>"
            ]
          },
          "metadata": {
            "needs_background": "light"
          },
          "output_type": "display_data"
        }
      ],
      "source": [
        "data['cityCenters_nearest_km'].plot(kind = 'hist', bins = 30, range = (4,32), title = 'Расстояние до центра города', grid=True)"
      ]
    },
    {
      "cell_type": "markdown",
      "metadata": {
        "id": "dwbrCodbtF8k"
      },
      "source": [
        "Частая протяженность расстояния до центра город и находится в диапазоне от 10 до 15 км."
      ]
    },
    {
      "cell_type": "code",
      "execution_count": null,
      "metadata": {
        "id": "hP9qzToutF8k",
        "outputId": "2f0e296b-0078-40c4-97cd-2e143f26965a"
      },
      "outputs": [
        {
          "data": {
            "text/plain": [
              "(11555.0, 51340.0)"
            ]
          },
          "execution_count": 36,
          "metadata": {},
          "output_type": "execute_result"
        }
      ],
      "source": [
        "#расстояние до ближайшего аэропорта\n",
        "data['airports_nearest'].quantile(0.05), data['airports_nearest'].quantile(0.95)"
      ]
    },
    {
      "cell_type": "code",
      "execution_count": null,
      "metadata": {
        "id": "bZPTIiHutF8k",
        "outputId": "6e8159d4-5ed7-4be5-9b82-b751ba4b2643"
      },
      "outputs": [
        {
          "data": {
            "text/plain": [
              "<AxesSubplot:title={'center':'Расстояние до ближайшего аэропорта'}, ylabel='Frequency'>"
            ]
          },
          "execution_count": 37,
          "metadata": {},
          "output_type": "execute_result"
        },
        {
          "data": {
            "image/png": "[encoded data removed]",
            "text/plain": [
              "<Figure size 432x288 with 1 Axes>"
            ]
          },
          "metadata": {
            "needs_background": "light"
          },
          "output_type": "display_data"
        }
      ],
      "source": [
        "data['airports_nearest'].plot(kind = 'hist', bins = 50, range = (11000,52000), title = 'Расстояние до ближайшего аэропорта', grid=True)"
      ]
    },
    {
      "cell_type": "markdown",
      "metadata": {
        "id": "kXXdcHkKtF8k"
      },
      "source": [
        "Квартиры чаще всего находятся не так далеко от аэропортов. Большинство - до 30000 м."
      ]
    },
    {
      "cell_type": "code",
      "execution_count": null,
      "metadata": {
        "id": "Rfo2Jnp5tF8l",
        "outputId": "7dfaa889-e6ca-4109-a319-c20bb2f72b11"
      },
      "outputs": [
        {
          "data": {
            "text/plain": [
              "(94.75, 968.0)"
            ]
          },
          "execution_count": 38,
          "metadata": {},
          "output_type": "execute_result"
        }
      ],
      "source": [
        "#расстояние до ближайшего парка\n",
        "data['parks_nearest'].quantile(0.05), data['parks_nearest'].quantile(0.95)"
      ]
    },
    {
      "cell_type": "code",
      "execution_count": null,
      "metadata": {
        "id": "Xn2eoHyttF8l",
        "outputId": "fe23ec6c-85f0-41f7-a3f2-fa2c1aea31ad"
      },
      "outputs": [
        {
          "data": {
            "text/plain": [
              "<AxesSubplot:title={'center':'Расстояние до ближайшего парка'}, ylabel='Frequency'>"
            ]
          },
          "execution_count": 39,
          "metadata": {},
          "output_type": "execute_result"
        },
        {
          "data": {
            "image/png": "[encoded data removed]",
            "text/plain": [
              "<Figure size 432x288 with 1 Axes>"
            ]
          },
          "metadata": {
            "needs_background": "light"
          },
          "output_type": "display_data"
        }
      ],
      "source": [
        "data['parks_nearest'].plot(kind = 'hist', bins = 70, range = (94,970), title = 'Расстояние до ближайшего парка', grid=True)"
      ]
    },
    {
      "cell_type": "markdown",
      "metadata": {
        "id": "NXpGiJggtF8l"
      },
      "source": [
        "Рядом с квартирами недалеко находятся парки. Следует пройти менее 1 км для большинства квартир."
      ]
    },
    {
      "cell_type": "code",
      "execution_count": null,
      "metadata": {
        "id": "rQvC4KzttF8l",
        "outputId": "92601864-ea5b-4e6a-e141-1181adb5c613"
      },
      "outputs": [
        {
          "data": {
            "text/plain": [
              "<AxesSubplot:title={'center':'День публикации'}, ylabel='Frequency'>"
            ]
          },
          "execution_count": 40,
          "metadata": {},
          "output_type": "execute_result"
        },
        {
          "data": {
            "image/png": "[encoded data removed]",
            "text/plain": [
              "<Figure size 432x288 with 1 Axes>"
            ]
          },
          "metadata": {
            "needs_background": "light"
          },
          "output_type": "display_data"
        }
      ],
      "source": [
        "#день публикации объявлений\n",
        "data['day'].plot(kind = 'hist', bins = 10, range = (0,6), title = 'День публикации', grid=True)"
      ]
    },
    {
      "cell_type": "code",
      "execution_count": null,
      "metadata": {
        "id": "rOW2xGPMtF8l",
        "outputId": "087d38ef-82b9-4768-8e8d-082e866ad387"
      },
      "outputs": [
        {
          "data": {
            "text/plain": [
              "<AxesSubplot:title={'center':'Месяц публикации'}, ylabel='Frequency'>"
            ]
          },
          "execution_count": 41,
          "metadata": {},
          "output_type": "execute_result"
        },
        {
          "data": {
            "image/png": "[encoded data removed]",
            "text/plain": [
              "<Figure size 432x288 with 1 Axes>"
            ]
          },
          "metadata": {
            "needs_background": "light"
          },
          "output_type": "display_data"
        }
      ],
      "source": [
        "#месяц публикации объявлений\n",
        "data['month'].plot(kind = 'hist', bins = 15, range = (0,12), title = 'Месяц публикации', grid=True)"
      ]
    },
    {
      "cell_type": "markdown",
      "metadata": {
        "id": "kIvwB6QotF8l"
      },
      "source": [
        "Чаще всего объявления выкладываются по четвергам. Месяцы, в которых чаще выкладываются объявления, это февраль и март."
      ]
    },
    {
      "cell_type": "markdown",
      "metadata": {
        "id": "NHF2lUgKtF8m"
      },
      "source": [
        "2. Изучение сроков продаж квартир."
      ]
    },
    {
      "cell_type": "code",
      "execution_count": null,
      "metadata": {
        "id": "QWmUlfNItF8m",
        "outputId": "3953054b-2730-4e8b-817b-e80ae7a61c0f"
      },
      "outputs": [
        {
          "data": {
            "text/plain": [
              "(9.0, 645.0)"
            ]
          },
          "execution_count": 42,
          "metadata": {},
          "output_type": "execute_result"
        }
      ],
      "source": [
        "data['days_exposition'].quantile(0.05), data['days_exposition'].quantile(0.95)"
      ]
    },
    {
      "cell_type": "code",
      "execution_count": null,
      "metadata": {
        "id": "2vPnUKiKtF8m",
        "outputId": "825092ed-7d5e-40e6-f18f-4690a9d47feb"
      },
      "outputs": [
        {
          "data": {
            "text/plain": [
              "<AxesSubplot:title={'center':'Срок размещения объявления'}, ylabel='Frequency'>"
            ]
          },
          "execution_count": 43,
          "metadata": {},
          "output_type": "execute_result"
        },
        {
          "data": {
            "image/png": "[encoded data removed]",
            "text/plain": [
              "<Figure size 432x288 with 1 Axes>"
            ]
          },
          "metadata": {
            "needs_background": "light"
          },
          "output_type": "display_data"
        }
      ],
      "source": [
        "data['days_exposition'].plot(kind = 'hist', bins = 70, range = (9,645), title = 'Срок размещения объявления', grid=True)"
      ]
    },
    {
      "cell_type": "code",
      "execution_count": null,
      "metadata": {
        "id": "aQgaJlUVtF8m",
        "outputId": "ccb0c8ad-afe3-4d18-b041-d52e8b24c3a4"
      },
      "outputs": [
        {
          "name": "stdout",
          "output_type": "stream",
          "text": [
            "Среднее количество дней размещения объявления: 180.47736283099212\n",
            "Медиана: 95.0\n"
          ]
        }
      ],
      "source": [
        "print('Среднее количество дней размещения объявления:', data['days_exposition'].mean())\n",
        "print('Медиана:', data['days_exposition'].median())"
      ]
    },
    {
      "cell_type": "code",
      "execution_count": null,
      "metadata": {
        "id": "BUN-7DYQtF8m",
        "outputId": "63e76dbd-0fc0-4666-b540-78f140fc2406"
      },
      "outputs": [
        {
          "data": {
            "text/plain": [
              "<AxesSubplot:title={'center':'Срок размещения объявления'}, ylabel='Frequency'>"
            ]
          },
          "execution_count": 45,
          "metadata": {},
          "output_type": "execute_result"
        },
        {
          "data": {
            "image/png": "[encoded data removed]",
            "text/plain": [
              "<Figure size 432x288 with 1 Axes>"
            ]
          },
          "metadata": {
            "needs_background": "light"
          },
          "output_type": "display_data"
        }
      ],
      "source": [
        "data['days_exposition'].plot(kind = 'hist', bins = 70, range = (9, 200), title = 'Срок размещения объявления', grid=True)"
      ]
    },
    {
      "cell_type": "markdown",
      "metadata": {
        "id": "HUUX5ZcUtF8m"
      },
      "source": [
        "Среднее количество дней размещения составляет 180 дней. При увеличении графика (до 200 дней) видно, что чаще всего объявления размещаются 45 или 60 дней - столько времени обычно составляет продажа. Быстрыми продажами будут сроки до этих значений, необычно долгими являются сроки от 200 дней."
      ]
    },
    {
      "cell_type": "markdown",
      "metadata": {
        "id": "61s7Sn7_tF8m"
      },
      "source": [
        "3. Факторы, влияющие на стоимость объекта\n",
        "\n",
        "Построение таблиц корреляции для исследования зависимостей. Чем ближе коэффициент корреляции Пирсона к крайним значениям 1 или -1, тем теснее линейная взаимосвязь. "
      ]
    },
    {
      "cell_type": "code",
      "execution_count": null,
      "metadata": {
        "id": "LnpRIq2GtF8m",
        "outputId": "5dfba2da-493a-40d2-cb29-a3e7dc5825c0"
      },
      "outputs": [
        {
          "data": {
            "text/html": [
              "<div>\n",
              "<style scoped>\n",
              "    .dataframe tbody tr th:only-of-type {\n",
              "        vertical-align: middle;\n",
              "    }\n",
              "\n",
              "    .dataframe tbody tr th {\n",
              "        vertical-align: top;\n",
              "    }\n",
              "\n",
              "    .dataframe thead th {\n",
              "        text-align: right;\n",
              "    }\n",
              "</style>\n",
              "<table border=\"1\" class=\"dataframe\">\n",
              "  <thead>\n",
              "    <tr style=\"text-align: right;\">\n",
              "      <th></th>\n",
              "      <th>last_price</th>\n",
              "      <th>total_area</th>\n",
              "      <th>kitchen_area</th>\n",
              "      <th>rooms</th>\n",
              "    </tr>\n",
              "  </thead>\n",
              "  <tbody>\n",
              "    <tr>\n",
              "      <th>last_price</th>\n",
              "      <td>1.000000</td>\n",
              "      <td>0.644409</td>\n",
              "      <td>0.511371</td>\n",
              "      <td>0.356983</td>\n",
              "    </tr>\n",
              "    <tr>\n",
              "      <th>total_area</th>\n",
              "      <td>0.644409</td>\n",
              "      <td>1.000000</td>\n",
              "      <td>0.604869</td>\n",
              "      <td>0.760871</td>\n",
              "    </tr>\n",
              "    <tr>\n",
              "      <th>kitchen_area</th>\n",
              "      <td>0.511371</td>\n",
              "      <td>0.604869</td>\n",
              "      <td>1.000000</td>\n",
              "      <td>0.264563</td>\n",
              "    </tr>\n",
              "    <tr>\n",
              "      <th>rooms</th>\n",
              "      <td>0.356983</td>\n",
              "      <td>0.760871</td>\n",
              "      <td>0.264563</td>\n",
              "      <td>1.000000</td>\n",
              "    </tr>\n",
              "  </tbody>\n",
              "</table>\n",
              "</div>"
            ],
            "text/plain": [
              "              last_price  total_area  kitchen_area     rooms\n",
              "last_price      1.000000    0.644409      0.511371  0.356983\n",
              "total_area      0.644409    1.000000      0.604869  0.760871\n",
              "kitchen_area    0.511371    0.604869      1.000000  0.264563\n",
              "rooms           0.356983    0.760871      0.264563  1.000000"
            ]
          },
          "execution_count": 46,
          "metadata": {},
          "output_type": "execute_result"
        }
      ],
      "source": [
        "data[['last_price', 'total_area', 'kitchen_area', 'rooms']].corr()"
      ]
    },
    {
      "cell_type": "markdown",
      "metadata": {
        "id": "NP6bbycPtF8n"
      },
      "source": [
        "Таким образом, мы видим, что есть зависимость цены от общей площади, площади кухни и количества комнат. Коэффициенты положительные, значит при изменении первой величины растет и вторая.\n",
        "\n",
        "Самая тесная зависимость  зависимость цены от общей площади."
      ]
    },
    {
      "cell_type": "code",
      "execution_count": null,
      "metadata": {
        "id": "FkEZ9GCAtF8n",
        "outputId": "28f15b05-b919-4ba3-e16d-157d64705382"
      },
      "outputs": [
        {
          "data": {
            "text/html": [
              "<div>\n",
              "<style scoped>\n",
              "    .dataframe tbody tr th:only-of-type {\n",
              "        vertical-align: middle;\n",
              "    }\n",
              "\n",
              "    .dataframe tbody tr th {\n",
              "        vertical-align: top;\n",
              "    }\n",
              "\n",
              "    .dataframe thead th {\n",
              "        text-align: right;\n",
              "    }\n",
              "</style>\n",
              "<table border=\"1\" class=\"dataframe\">\n",
              "  <thead>\n",
              "    <tr style=\"text-align: right;\">\n",
              "      <th></th>\n",
              "      <th>count</th>\n",
              "      <th>mean</th>\n",
              "    </tr>\n",
              "    <tr>\n",
              "      <th>floor_type</th>\n",
              "      <th></th>\n",
              "      <th></th>\n",
              "    </tr>\n",
              "  </thead>\n",
              "  <tbody>\n",
              "    <tr>\n",
              "      <th>другой</th>\n",
              "      <td>17377.0</td>\n",
              "      <td>6.628530e+06</td>\n",
              "    </tr>\n",
              "    <tr>\n",
              "      <th>первый</th>\n",
              "      <td>2906.0</td>\n",
              "      <td>4.793925e+06</td>\n",
              "    </tr>\n",
              "    <tr>\n",
              "      <th>последний</th>\n",
              "      <td>3302.0</td>\n",
              "      <td>7.115904e+06</td>\n",
              "    </tr>\n",
              "  </tbody>\n",
              "</table>\n",
              "</div>"
            ],
            "text/plain": [
              "              count          mean\n",
              "floor_type                       \n",
              "другой      17377.0  6.628530e+06\n",
              "первый       2906.0  4.793925e+06\n",
              "последний    3302.0  7.115904e+06"
            ]
          },
          "execution_count": 47,
          "metadata": {},
          "output_type": "execute_result"
        }
      ],
      "source": [
        "floor_types = data.pivot_table(index = 'floor_type', values = 'last_price' , aggfunc = ('mean', 'count'))\n",
        "floor_types"
      ]
    },
    {
      "cell_type": "code",
      "execution_count": null,
      "metadata": {
        "id": "mQa7kSXrtF8n",
        "outputId": "20749fbf-df43-4f73-819b-6500f792f75c"
      },
      "outputs": [
        {
          "data": {
            "text/html": [
              "<div>\n",
              "<style scoped>\n",
              "    .dataframe tbody tr th:only-of-type {\n",
              "        vertical-align: middle;\n",
              "    }\n",
              "\n",
              "    .dataframe tbody tr th {\n",
              "        vertical-align: top;\n",
              "    }\n",
              "\n",
              "    .dataframe thead th {\n",
              "        text-align: right;\n",
              "    }\n",
              "</style>\n",
              "<table border=\"1\" class=\"dataframe\">\n",
              "  <thead>\n",
              "    <tr style=\"text-align: right;\">\n",
              "      <th></th>\n",
              "      <th>mean</th>\n",
              "      <th>count</th>\n",
              "    </tr>\n",
              "  </thead>\n",
              "  <tbody>\n",
              "    <tr>\n",
              "      <th>mean</th>\n",
              "      <td>1.000000</td>\n",
              "      <td>0.340321</td>\n",
              "    </tr>\n",
              "    <tr>\n",
              "      <th>count</th>\n",
              "      <td>0.340321</td>\n",
              "      <td>1.000000</td>\n",
              "    </tr>\n",
              "  </tbody>\n",
              "</table>\n",
              "</div>"
            ],
            "text/plain": [
              "           mean     count\n",
              "mean   1.000000  0.340321\n",
              "count  0.340321  1.000000"
            ]
          },
          "execution_count": 48,
          "metadata": {},
          "output_type": "execute_result"
        }
      ],
      "source": [
        "floor_types[['mean', 'count']].corr()"
      ]
    },
    {
      "cell_type": "markdown",
      "metadata": {
        "id": "1OkEcAcetF8n"
      },
      "source": [
        "Для нечислового столбца с типом этажа построена сводная таблица, в которой подсчитано количество каждого типа и определена средняя цена к ним.\n",
        "Коэффициент корреляции показал, что есть зависимость цены от типа этажа. "
      ]
    },
    {
      "cell_type": "code",
      "execution_count": null,
      "metadata": {
        "id": "w0316w_atF8n",
        "outputId": "4b413853-cdd4-44d3-9095-865e64ca514f"
      },
      "outputs": [
        {
          "data": {
            "text/html": [
              "<div>\n",
              "<style scoped>\n",
              "    .dataframe tbody tr th:only-of-type {\n",
              "        vertical-align: middle;\n",
              "    }\n",
              "\n",
              "    .dataframe tbody tr th {\n",
              "        vertical-align: top;\n",
              "    }\n",
              "\n",
              "    .dataframe thead th {\n",
              "        text-align: right;\n",
              "    }\n",
              "</style>\n",
              "<table border=\"1\" class=\"dataframe\">\n",
              "  <thead>\n",
              "    <tr style=\"text-align: right;\">\n",
              "      <th></th>\n",
              "      <th>last_price</th>\n",
              "      <th>day</th>\n",
              "      <th>month</th>\n",
              "      <th>year</th>\n",
              "    </tr>\n",
              "  </thead>\n",
              "  <tbody>\n",
              "    <tr>\n",
              "      <th>last_price</th>\n",
              "      <td>1.000000</td>\n",
              "      <td>0.001078</td>\n",
              "      <td>0.002043</td>\n",
              "      <td>-0.040586</td>\n",
              "    </tr>\n",
              "    <tr>\n",
              "      <th>day</th>\n",
              "      <td>0.001078</td>\n",
              "      <td>1.000000</td>\n",
              "      <td>0.011136</td>\n",
              "      <td>-0.004147</td>\n",
              "    </tr>\n",
              "    <tr>\n",
              "      <th>month</th>\n",
              "      <td>0.002043</td>\n",
              "      <td>0.011136</td>\n",
              "      <td>1.000000</td>\n",
              "      <td>-0.269242</td>\n",
              "    </tr>\n",
              "    <tr>\n",
              "      <th>year</th>\n",
              "      <td>-0.040586</td>\n",
              "      <td>-0.004147</td>\n",
              "      <td>-0.269242</td>\n",
              "      <td>1.000000</td>\n",
              "    </tr>\n",
              "  </tbody>\n",
              "</table>\n",
              "</div>"
            ],
            "text/plain": [
              "            last_price       day     month      year\n",
              "last_price    1.000000  0.001078  0.002043 -0.040586\n",
              "day           0.001078  1.000000  0.011136 -0.004147\n",
              "month         0.002043  0.011136  1.000000 -0.269242\n",
              "year         -0.040586 -0.004147 -0.269242  1.000000"
            ]
          },
          "execution_count": 49,
          "metadata": {},
          "output_type": "execute_result"
        }
      ],
      "source": [
        "data[['last_price', 'day', 'month', 'year']].corr()"
      ]
    },
    {
      "cell_type": "markdown",
      "metadata": {
        "id": "Kg2kADH1tF8n"
      },
      "source": [
        "Коэффициенты корреляции от дней и месяцев, в которые были выложены объявления, близкие к нулю. Это значит, что при изменении одной величины другая остаётся прежней.\n",
        "Коэффициент корреляции от года - отрицательный. Значит, рост одной величины связан с уменьшением другой.\n",
        "\n",
        "Получается, что нет зависимости цены от даты публикации объявления."
      ]
    },
    {
      "cell_type": "markdown",
      "metadata": {
        "id": "fIwxtn2FtF8n"
      },
      "source": [
        "4. Подсчет средней цены одного квадратного метра в 10 населённых пунктах с наибольшим числом объявлений. "
      ]
    },
    {
      "cell_type": "code",
      "execution_count": null,
      "metadata": {
        "id": "M6uW9CpjtF8o"
      },
      "outputs": [],
      "source": [
        "# добавление столбца с ценой за квадратный метр\n",
        "data['metr_price'] = data['last_price'] / data['total_area']"
      ]
    },
    {
      "cell_type": "code",
      "execution_count": null,
      "metadata": {
        "id": "2DcLjWxytF8o",
        "outputId": "6fee75f6-9853-41a3-c684-ba16b7a35d3d"
      },
      "outputs": [
        {
          "data": {
            "text/plain": [
              "Санкт-Петербург      15632\n",
              "Мурино                 588\n",
              "Кудрово                472\n",
              "поселок Шушары         440\n",
              "Всеволожск             396\n",
              "Пушкин                 367\n",
              "Колпино                338\n",
              "поселок Парголово      327\n",
              "Гатчина                305\n",
              "Выборг                 235\n",
              "Name: locality_name, dtype: int64"
            ]
          },
          "execution_count": 51,
          "metadata": {},
          "output_type": "execute_result"
        }
      ],
      "source": [
        "# выделение 10 населенных пунктов с наибольшим числом объявлений\n",
        "sort_ads = (data['locality_name']\n",
        "            .value_counts()\n",
        "            .head(10)\n",
        ")            \n",
        "sort_ads"
      ]
    },
    {
      "cell_type": "code",
      "execution_count": null,
      "metadata": {
        "id": "9tJB1lmNtF8o",
        "outputId": "70c8d6c6-ee18-441c-8970-e22920006049"
      },
      "outputs": [
        {
          "data": {
            "text/html": [
              "<div>\n",
              "<style scoped>\n",
              "    .dataframe tbody tr th:only-of-type {\n",
              "        vertical-align: middle;\n",
              "    }\n",
              "\n",
              "    .dataframe tbody tr th {\n",
              "        vertical-align: top;\n",
              "    }\n",
              "\n",
              "    .dataframe thead th {\n",
              "        text-align: right;\n",
              "    }\n",
              "</style>\n",
              "<table border=\"1\" class=\"dataframe\">\n",
              "  <thead>\n",
              "    <tr style=\"text-align: right;\">\n",
              "      <th></th>\n",
              "      <th>metr_price</th>\n",
              "    </tr>\n",
              "    <tr>\n",
              "      <th>locality_name</th>\n",
              "      <th></th>\n",
              "    </tr>\n",
              "  </thead>\n",
              "  <tbody>\n",
              "    <tr>\n",
              "      <th>Зеленогорск</th>\n",
              "      <td>115122.799198</td>\n",
              "    </tr>\n",
              "    <tr>\n",
              "      <th>Санкт-Петербург</th>\n",
              "      <td>114502.098976</td>\n",
              "    </tr>\n",
              "    <tr>\n",
              "      <th>поселок Репино</th>\n",
              "      <td>104238.614786</td>\n",
              "    </tr>\n",
              "    <tr>\n",
              "      <th>Пушкин</th>\n",
              "      <td>102777.293778</td>\n",
              "    </tr>\n",
              "    <tr>\n",
              "      <th>Сестрорецк</th>\n",
              "      <td>101404.946634</td>\n",
              "    </tr>\n",
              "    <tr>\n",
              "      <th>...</th>\n",
              "      <td>...</td>\n",
              "    </tr>\n",
              "    <tr>\n",
              "      <th>поселок Совхозный</th>\n",
              "      <td>12629.129129</td>\n",
              "    </tr>\n",
              "    <tr>\n",
              "      <th>поселок Выскатка</th>\n",
              "      <td>12335.480902</td>\n",
              "    </tr>\n",
              "    <tr>\n",
              "      <th>поселок Вахнова Кара</th>\n",
              "      <td>11688.311688</td>\n",
              "    </tr>\n",
              "    <tr>\n",
              "      <th>поселок при железнодорожной станции Свирь</th>\n",
              "      <td>11481.481481</td>\n",
              "    </tr>\n",
              "    <tr>\n",
              "      <th>поселок Старополье</th>\n",
              "      <td>11206.221198</td>\n",
              "    </tr>\n",
              "  </tbody>\n",
              "</table>\n",
              "<p>309 rows × 1 columns</p>\n",
              "</div>"
            ],
            "text/plain": [
              "                                              metr_price\n",
              "locality_name                                           \n",
              "Зеленогорск                                115122.799198\n",
              "Санкт-Петербург                            114502.098976\n",
              "поселок Репино                             104238.614786\n",
              "Пушкин                                     102777.293778\n",
              "Сестрорецк                                 101404.946634\n",
              "...                                                  ...\n",
              "поселок Совхозный                           12629.129129\n",
              "поселок Выскатка                            12335.480902\n",
              "поселок Вахнова Кара                        11688.311688\n",
              "поселок при железнодорожной станции Свирь   11481.481481\n",
              "поселок Старополье                          11206.221198\n",
              "\n",
              "[309 rows x 1 columns]"
            ]
          },
          "execution_count": 52,
          "metadata": {},
          "output_type": "execute_result"
        }
      ],
      "source": [
        "# сводная таблица с населенным пунктом и средней ценой за квадратный метр для него\n",
        "top_price = data.pivot_table(index = 'locality_name', values = 'metr_price', aggfunc = 'mean').sort_values(by = 'metr_price',ascending = False)\n",
        "top_price"
      ]
    },
    {
      "cell_type": "code",
      "execution_count": null,
      "metadata": {
        "id": "cnbuaBQQtF8o",
        "outputId": "06323bb7-ba4b-4be7-b8fa-6ab8bf254d5c"
      },
      "outputs": [
        {
          "data": {
            "text/html": [
              "<div>\n",
              "<style scoped>\n",
              "    .dataframe tbody tr th:only-of-type {\n",
              "        vertical-align: middle;\n",
              "    }\n",
              "\n",
              "    .dataframe tbody tr th {\n",
              "        vertical-align: top;\n",
              "    }\n",
              "\n",
              "    .dataframe thead th {\n",
              "        text-align: right;\n",
              "    }\n",
              "</style>\n",
              "<table border=\"1\" class=\"dataframe\">\n",
              "  <thead>\n",
              "    <tr style=\"text-align: right;\">\n",
              "      <th></th>\n",
              "      <th>metr_price</th>\n",
              "      <th>locality_name</th>\n",
              "    </tr>\n",
              "    <tr>\n",
              "      <th>locality_name</th>\n",
              "      <th></th>\n",
              "      <th></th>\n",
              "    </tr>\n",
              "  </thead>\n",
              "  <tbody>\n",
              "    <tr>\n",
              "      <th>Санкт-Петербург</th>\n",
              "      <td>114502.098976</td>\n",
              "      <td>15632</td>\n",
              "    </tr>\n",
              "    <tr>\n",
              "      <th>Пушкин</th>\n",
              "      <td>102777.293778</td>\n",
              "      <td>367</td>\n",
              "    </tr>\n",
              "    <tr>\n",
              "      <th>Кудрово</th>\n",
              "      <td>95324.930544</td>\n",
              "      <td>472</td>\n",
              "    </tr>\n",
              "    <tr>\n",
              "      <th>поселок Парголово</th>\n",
              "      <td>90175.913458</td>\n",
              "      <td>327</td>\n",
              "    </tr>\n",
              "    <tr>\n",
              "      <th>Мурино</th>\n",
              "      <td>86064.821204</td>\n",
              "      <td>588</td>\n",
              "    </tr>\n",
              "    <tr>\n",
              "      <th>поселок Шушары</th>\n",
              "      <td>78677.364217</td>\n",
              "      <td>440</td>\n",
              "    </tr>\n",
              "    <tr>\n",
              "      <th>Колпино</th>\n",
              "      <td>75424.579098</td>\n",
              "      <td>338</td>\n",
              "    </tr>\n",
              "    <tr>\n",
              "      <th>Гатчина</th>\n",
              "      <td>68811.372828</td>\n",
              "      <td>305</td>\n",
              "    </tr>\n",
              "    <tr>\n",
              "      <th>Всеволожск</th>\n",
              "      <td>68552.143144</td>\n",
              "      <td>396</td>\n",
              "    </tr>\n",
              "    <tr>\n",
              "      <th>Выборг</th>\n",
              "      <td>58153.501122</td>\n",
              "      <td>235</td>\n",
              "    </tr>\n",
              "  </tbody>\n",
              "</table>\n",
              "</div>"
            ],
            "text/plain": [
              "                      metr_price  locality_name\n",
              "locality_name                                  \n",
              "Санкт-Петербург    114502.098976          15632\n",
              "Пушкин             102777.293778            367\n",
              "Кудрово             95324.930544            472\n",
              "поселок Парголово   90175.913458            327\n",
              "Мурино              86064.821204            588\n",
              "поселок Шушары      78677.364217            440\n",
              "Колпино             75424.579098            338\n",
              "Гатчина             68811.372828            305\n",
              "Всеволожск          68552.143144            396\n",
              "Выборг              58153.501122            235"
            ]
          },
          "execution_count": 53,
          "metadata": {},
          "output_type": "execute_result"
        }
      ],
      "source": [
        "# выделим среднюю цену за квадратный метр для 10 населенных пунктов с наибольшим количеством объявлений\n",
        "# отсортируем по убыванию, чтобы узнать самую высокую и низкую стоимость квадратного метра \n",
        "top_price.join(sort_ads, on = 'locality_name', how = 'right').sort_values(by = 'metr_price', ascending = False)"
      ]
    },
    {
      "cell_type": "markdown",
      "metadata": {
        "id": "lIJjvrIptF8o"
      },
      "source": [
        "Таким образом, самая высокая цена за квадратный метр в Санкт-Петербурге, она составляет 114502 рубля.\n",
        "\n",
        "Самая низкая стоимость за квадратный метр в Выборге - 58153,5 рубля."
      ]
    },
    {
      "cell_type": "markdown",
      "metadata": {
        "id": "BSn16c-OtF8o"
      },
      "source": [
        "5. Вычисление средней цены каждого километра до центра Санкт-Петербурга. "
      ]
    },
    {
      "cell_type": "code",
      "execution_count": null,
      "metadata": {
        "id": "1_GXt7PXtF8o"
      },
      "outputs": [],
      "source": [
        "# срез по Санкт-Петербургу\n",
        "spb = data.query('locality_name == \"Санкт-Петербург\"')"
      ]
    },
    {
      "cell_type": "code",
      "execution_count": null,
      "metadata": {
        "id": "Uu18foZytF8o",
        "outputId": "defabce7-f5e8-4a5a-b360-befb32a0f1e6"
      },
      "outputs": [
        {
          "data": {
            "text/html": [
              "<div>\n",
              "<style scoped>\n",
              "    .dataframe tbody tr th:only-of-type {\n",
              "        vertical-align: middle;\n",
              "    }\n",
              "\n",
              "    .dataframe tbody tr th {\n",
              "        vertical-align: top;\n",
              "    }\n",
              "\n",
              "    .dataframe thead th {\n",
              "        text-align: right;\n",
              "    }\n",
              "</style>\n",
              "<table border=\"1\" class=\"dataframe\">\n",
              "  <thead>\n",
              "    <tr style=\"text-align: right;\">\n",
              "      <th></th>\n",
              "      <th>metr_price</th>\n",
              "    </tr>\n",
              "    <tr>\n",
              "      <th>cityCenters_nearest_km</th>\n",
              "      <th></th>\n",
              "    </tr>\n",
              "  </thead>\n",
              "  <tbody>\n",
              "    <tr>\n",
              "      <th>0.0</th>\n",
              "      <td>253433.411994</td>\n",
              "    </tr>\n",
              "    <tr>\n",
              "      <th>1.0</th>\n",
              "      <td>175127.093244</td>\n",
              "    </tr>\n",
              "    <tr>\n",
              "      <th>2.0</th>\n",
              "      <td>154415.306094</td>\n",
              "    </tr>\n",
              "    <tr>\n",
              "      <th>3.0</th>\n",
              "      <td>121044.817690</td>\n",
              "    </tr>\n",
              "    <tr>\n",
              "      <th>4.0</th>\n",
              "      <td>133020.703039</td>\n",
              "    </tr>\n",
              "    <tr>\n",
              "      <th>5.0</th>\n",
              "      <td>139892.359054</td>\n",
              "    </tr>\n",
              "    <tr>\n",
              "      <th>6.0</th>\n",
              "      <td>149937.940791</td>\n",
              "    </tr>\n",
              "    <tr>\n",
              "      <th>7.0</th>\n",
              "      <td>155989.669936</td>\n",
              "    </tr>\n",
              "    <tr>\n",
              "      <th>8.0</th>\n",
              "      <td>124936.721392</td>\n",
              "    </tr>\n",
              "    <tr>\n",
              "      <th>9.0</th>\n",
              "      <td>113087.042932</td>\n",
              "    </tr>\n",
              "    <tr>\n",
              "      <th>10.0</th>\n",
              "      <td>112689.645675</td>\n",
              "    </tr>\n",
              "    <tr>\n",
              "      <th>11.0</th>\n",
              "      <td>108562.821204</td>\n",
              "    </tr>\n",
              "    <tr>\n",
              "      <th>12.0</th>\n",
              "      <td>107482.319407</td>\n",
              "    </tr>\n",
              "    <tr>\n",
              "      <th>13.0</th>\n",
              "      <td>108162.955368</td>\n",
              "    </tr>\n",
              "    <tr>\n",
              "      <th>14.0</th>\n",
              "      <td>104264.261610</td>\n",
              "    </tr>\n",
              "    <tr>\n",
              "      <th>15.0</th>\n",
              "      <td>104267.163835</td>\n",
              "    </tr>\n",
              "    <tr>\n",
              "      <th>16.0</th>\n",
              "      <td>100533.852886</td>\n",
              "    </tr>\n",
              "    <tr>\n",
              "      <th>17.0</th>\n",
              "      <td>96597.652408</td>\n",
              "    </tr>\n",
              "    <tr>\n",
              "      <th>18.0</th>\n",
              "      <td>96362.263941</td>\n",
              "    </tr>\n",
              "    <tr>\n",
              "      <th>19.0</th>\n",
              "      <td>98652.736027</td>\n",
              "    </tr>\n",
              "    <tr>\n",
              "      <th>20.0</th>\n",
              "      <td>103069.560712</td>\n",
              "    </tr>\n",
              "    <tr>\n",
              "      <th>21.0</th>\n",
              "      <td>94469.584582</td>\n",
              "    </tr>\n",
              "    <tr>\n",
              "      <th>22.0</th>\n",
              "      <td>91330.425050</td>\n",
              "    </tr>\n",
              "    <tr>\n",
              "      <th>23.0</th>\n",
              "      <td>91828.517765</td>\n",
              "    </tr>\n",
              "    <tr>\n",
              "      <th>24.0</th>\n",
              "      <td>85736.904595</td>\n",
              "    </tr>\n",
              "    <tr>\n",
              "      <th>25.0</th>\n",
              "      <td>91531.371618</td>\n",
              "    </tr>\n",
              "    <tr>\n",
              "      <th>26.0</th>\n",
              "      <td>89285.876593</td>\n",
              "    </tr>\n",
              "    <tr>\n",
              "      <th>27.0</th>\n",
              "      <td>132115.709459</td>\n",
              "    </tr>\n",
              "    <tr>\n",
              "      <th>28.0</th>\n",
              "      <td>81161.915320</td>\n",
              "    </tr>\n",
              "    <tr>\n",
              "      <th>29.0</th>\n",
              "      <td>72953.365445</td>\n",
              "    </tr>\n",
              "  </tbody>\n",
              "</table>\n",
              "</div>"
            ],
            "text/plain": [
              "                           metr_price\n",
              "cityCenters_nearest_km               \n",
              "0.0                     253433.411994\n",
              "1.0                     175127.093244\n",
              "2.0                     154415.306094\n",
              "3.0                     121044.817690\n",
              "4.0                     133020.703039\n",
              "5.0                     139892.359054\n",
              "6.0                     149937.940791\n",
              "7.0                     155989.669936\n",
              "8.0                     124936.721392\n",
              "9.0                     113087.042932\n",
              "10.0                    112689.645675\n",
              "11.0                    108562.821204\n",
              "12.0                    107482.319407\n",
              "13.0                    108162.955368\n",
              "14.0                    104264.261610\n",
              "15.0                    104267.163835\n",
              "16.0                    100533.852886\n",
              "17.0                     96597.652408\n",
              "18.0                     96362.263941\n",
              "19.0                     98652.736027\n",
              "20.0                    103069.560712\n",
              "21.0                     94469.584582\n",
              "22.0                     91330.425050\n",
              "23.0                     91828.517765\n",
              "24.0                     85736.904595\n",
              "25.0                     91531.371618\n",
              "26.0                     89285.876593\n",
              "27.0                    132115.709459\n",
              "28.0                     81161.915320\n",
              "29.0                     72953.365445"
            ]
          },
          "execution_count": 55,
          "metadata": {},
          "output_type": "execute_result"
        }
      ],
      "source": [
        "# сводная таблица со средней ценой за квадратный метр и удаленности от центра\n",
        "pivot_spb = spb.pivot_table(index = 'cityCenters_nearest_km', values = 'metr_price', aggfunc = 'mean')\n",
        "pivot_spb"
      ]
    },
    {
      "cell_type": "code",
      "execution_count": null,
      "metadata": {
        "id": "yEb8R_attF8o",
        "outputId": "4c6b73f0-572c-4418-fc72-75eda99e5de0"
      },
      "outputs": [
        {
          "data": {
            "text/plain": [
              "<AxesSubplot:title={'center':'Зависимость цены за кв.м. от удаленности от центра'}, xlabel='cityCenters_nearest_km'>"
            ]
          },
          "execution_count": 56,
          "metadata": {},
          "output_type": "execute_result"
        },
        {
          "data": {
            "image/png": "[encoded data removed]",
            "text/plain": [
              "<Figure size 432x288 with 1 Axes>"
            ]
          },
          "metadata": {
            "needs_background": "light"
          },
          "output_type": "display_data"
        }
      ],
      "source": [
        "pivot_spb.plot(y = 'metr_price', kind = 'bar', grid = True, title = 'Зависимость цены за кв.м. от удаленности от центра')"
      ]
    },
    {
      "cell_type": "markdown",
      "metadata": {
        "id": "oSDJOXRktF8p"
      },
      "source": [
        "С увеличением удаленности от центра Санкт-Петербурга убывает цена. \n",
        "Выбросы могут говорить о приближенноси квартиры к другому объекту. Например, метро. Цена соответственно будет немного выше. "
      ]
    },
    {
      "cell_type": "markdown",
      "metadata": {
        "id": "S-D82wrvtF8p"
      },
      "source": [
        "## Итоги исследования"
      ]
    },
    {
      "cell_type": "markdown",
      "metadata": {
        "id": "bxArQWZUtF8p"
      },
      "source": [
        "Перед исследованием были получены данные — архив объявлений о продаже квартир в Санкт-Петербурге и соседних населённых пунктов за несколько лет. В данных были пропуски, дубликаты и аномалии. После их предобработки все было устранено. В пункте 3 были добавлены новые столбцы необходимые для исследовательского анализа.\n",
        "\n",
        "В ходе исследовательского анализа было выявлено, что существует зависимость цены квартиры от общей площади, площади кухни, количества комнат и типа этажа, где она находится. На стоимость квартиры не влияет день публикации объявления.\n",
        "Также существует зависимость от удаленности от центра города. Рассмотрена на примере Санкт-Петербурга.\n",
        "\n",
        "Рассмотрены также цены за квадратный метр в городах с наибольшим количеством объявлений. В Санкт-Петербурге самая высокая стоимость, когда в Выборге самая низкая.\n",
        "\n",
        "Данные показывают норму для публикаций объявлений. И помогут своевременно выявить аномалии и предовтратить мошеннические действия."
      ]
    }
  ],
  "metadata": {
    "ExecuteTimeLog": [
      {
        "duration": 1514,
        "start_time": "2022-12-05T13:39:56.256Z"
      },
      {
        "duration": 389,
        "start_time": "2022-12-05T13:40:04.120Z"
      },
      {
        "duration": 363,
        "start_time": "2022-12-05T13:40:21.060Z"
      },
      {
        "duration": 131,
        "start_time": "2022-12-05T13:40:46.344Z"
      },
      {
        "duration": 2620,
        "start_time": "2022-12-05T13:41:08.312Z"
      },
      {
        "duration": 95,
        "start_time": "2022-12-05T13:47:16.771Z"
      },
      {
        "duration": 126,
        "start_time": "2022-12-05T13:47:36.455Z"
      },
      {
        "duration": 1902,
        "start_time": "2022-12-05T13:56:27.782Z"
      },
      {
        "duration": 3762,
        "start_time": "2022-12-05T13:56:35.545Z"
      },
      {
        "duration": 2253,
        "start_time": "2022-12-05T14:51:18.555Z"
      },
      {
        "duration": 119,
        "start_time": "2022-12-05T14:51:23.492Z"
      },
      {
        "duration": 2279,
        "start_time": "2022-12-05T14:51:25.593Z"
      },
      {
        "duration": 155,
        "start_time": "2022-12-05T15:44:50.882Z"
      },
      {
        "duration": 23,
        "start_time": "2022-12-05T15:44:53.975Z"
      },
      {
        "duration": 2456,
        "start_time": "2022-12-05T15:44:56.133Z"
      },
      {
        "duration": 29,
        "start_time": "2022-12-05T20:09:12.827Z"
      },
      {
        "duration": 12,
        "start_time": "2022-12-05T20:09:23.945Z"
      },
      {
        "duration": 9,
        "start_time": "2022-12-05T20:11:44.760Z"
      },
      {
        "duration": 4,
        "start_time": "2022-12-05T20:32:29.245Z"
      },
      {
        "duration": 6,
        "start_time": "2022-12-05T20:32:35.537Z"
      },
      {
        "duration": 7,
        "start_time": "2022-12-05T20:33:14.463Z"
      },
      {
        "duration": 77,
        "start_time": "2022-12-05T20:33:29.208Z"
      },
      {
        "duration": 9,
        "start_time": "2022-12-05T20:36:08.064Z"
      },
      {
        "duration": 108,
        "start_time": "2022-12-05T20:36:15.656Z"
      },
      {
        "duration": 18,
        "start_time": "2022-12-05T20:36:16.572Z"
      },
      {
        "duration": 2061,
        "start_time": "2022-12-05T20:36:17.962Z"
      },
      {
        "duration": 10,
        "start_time": "2022-12-05T20:36:23.206Z"
      },
      {
        "duration": 48,
        "start_time": "2022-12-05T20:36:26.128Z"
      },
      {
        "duration": 11,
        "start_time": "2022-12-05T20:36:54.628Z"
      },
      {
        "duration": 6,
        "start_time": "2022-12-05T20:37:01.754Z"
      },
      {
        "duration": 119,
        "start_time": "2022-12-05T20:37:17.917Z"
      },
      {
        "duration": 15,
        "start_time": "2022-12-05T20:37:19.636Z"
      },
      {
        "duration": 2427,
        "start_time": "2022-12-05T20:37:20.254Z"
      },
      {
        "duration": 10,
        "start_time": "2022-12-05T20:37:26.327Z"
      },
      {
        "duration": 12,
        "start_time": "2022-12-05T20:37:30.201Z"
      },
      {
        "duration": 13,
        "start_time": "2022-12-05T20:38:05.780Z"
      },
      {
        "duration": 15,
        "start_time": "2022-12-05T20:44:48.741Z"
      },
      {
        "duration": 6,
        "start_time": "2022-12-05T20:46:31.132Z"
      },
      {
        "duration": 8,
        "start_time": "2022-12-05T20:48:00.669Z"
      },
      {
        "duration": 7,
        "start_time": "2022-12-05T20:48:09.588Z"
      },
      {
        "duration": 109,
        "start_time": "2022-12-05T20:50:47.585Z"
      },
      {
        "duration": 15,
        "start_time": "2022-12-05T20:50:49.729Z"
      },
      {
        "duration": 1904,
        "start_time": "2022-12-05T20:50:50.753Z"
      },
      {
        "duration": 9,
        "start_time": "2022-12-05T20:50:52.659Z"
      },
      {
        "duration": 13,
        "start_time": "2022-12-05T20:50:55.327Z"
      },
      {
        "duration": 6,
        "start_time": "2022-12-05T20:50:59.562Z"
      },
      {
        "duration": 12,
        "start_time": "2022-12-05T20:58:10.577Z"
      },
      {
        "duration": 12,
        "start_time": "2022-12-05T20:58:26.864Z"
      },
      {
        "duration": 20,
        "start_time": "2022-12-05T21:01:07.934Z"
      },
      {
        "duration": 13,
        "start_time": "2022-12-05T21:01:17.490Z"
      },
      {
        "duration": 13,
        "start_time": "2022-12-05T21:01:47.738Z"
      },
      {
        "duration": 559,
        "start_time": "2022-12-05T21:02:00.327Z"
      },
      {
        "duration": 24,
        "start_time": "2022-12-05T21:02:00.888Z"
      },
      {
        "duration": 2314,
        "start_time": "2022-12-05T21:02:00.914Z"
      },
      {
        "duration": 10,
        "start_time": "2022-12-05T21:02:03.230Z"
      },
      {
        "duration": 15,
        "start_time": "2022-12-05T21:02:03.242Z"
      },
      {
        "duration": 5,
        "start_time": "2022-12-05T21:02:03.258Z"
      },
      {
        "duration": 87,
        "start_time": "2022-12-05T21:02:03.265Z"
      },
      {
        "duration": 12,
        "start_time": "2022-12-05T21:02:25.584Z"
      },
      {
        "duration": 125,
        "start_time": "2022-12-05T21:02:36.219Z"
      },
      {
        "duration": 16,
        "start_time": "2022-12-05T21:02:36.850Z"
      },
      {
        "duration": 2018,
        "start_time": "2022-12-05T21:02:37.559Z"
      },
      {
        "duration": 10,
        "start_time": "2022-12-05T21:02:42.658Z"
      },
      {
        "duration": 18,
        "start_time": "2022-12-05T21:02:47.447Z"
      },
      {
        "duration": 6,
        "start_time": "2022-12-05T21:02:50.252Z"
      },
      {
        "duration": 13,
        "start_time": "2022-12-05T21:02:52.891Z"
      },
      {
        "duration": 11,
        "start_time": "2022-12-05T21:03:19.960Z"
      },
      {
        "duration": 10,
        "start_time": "2022-12-05T21:03:27.825Z"
      },
      {
        "duration": 9,
        "start_time": "2022-12-05T21:03:31.716Z"
      },
      {
        "duration": 14,
        "start_time": "2022-12-05T21:03:42.332Z"
      },
      {
        "duration": 11,
        "start_time": "2022-12-05T21:05:08.701Z"
      },
      {
        "duration": 11,
        "start_time": "2022-12-05T21:05:20.627Z"
      },
      {
        "duration": 10,
        "start_time": "2022-12-05T21:05:27.639Z"
      },
      {
        "duration": 7,
        "start_time": "2022-12-05T21:05:37.242Z"
      },
      {
        "duration": 15,
        "start_time": "2022-12-05T21:16:22.688Z"
      },
      {
        "duration": 14,
        "start_time": "2022-12-05T21:20:40.339Z"
      },
      {
        "duration": 13,
        "start_time": "2022-12-05T21:20:51.903Z"
      },
      {
        "duration": 551,
        "start_time": "2022-12-05T21:20:56.581Z"
      },
      {
        "duration": 17,
        "start_time": "2022-12-05T21:20:57.134Z"
      },
      {
        "duration": 2316,
        "start_time": "2022-12-05T21:20:57.152Z"
      },
      {
        "duration": 9,
        "start_time": "2022-12-05T21:20:59.470Z"
      },
      {
        "duration": 12,
        "start_time": "2022-12-05T21:20:59.480Z"
      },
      {
        "duration": 8,
        "start_time": "2022-12-05T21:20:59.494Z"
      },
      {
        "duration": 85,
        "start_time": "2022-12-05T21:20:59.503Z"
      },
      {
        "duration": 14,
        "start_time": "2022-12-05T21:24:13.854Z"
      },
      {
        "duration": 15,
        "start_time": "2022-12-05T21:28:03.818Z"
      },
      {
        "duration": 577,
        "start_time": "2022-12-05T21:34:40.667Z"
      },
      {
        "duration": 15,
        "start_time": "2022-12-05T21:34:41.246Z"
      },
      {
        "duration": 2289,
        "start_time": "2022-12-05T21:34:41.262Z"
      },
      {
        "duration": 10,
        "start_time": "2022-12-05T21:34:43.553Z"
      },
      {
        "duration": 13,
        "start_time": "2022-12-05T21:34:43.566Z"
      },
      {
        "duration": 5,
        "start_time": "2022-12-05T21:34:43.580Z"
      },
      {
        "duration": 34,
        "start_time": "2022-12-05T21:34:43.587Z"
      },
      {
        "duration": 7,
        "start_time": "2022-12-05T21:45:27.843Z"
      },
      {
        "duration": 61,
        "start_time": "2022-12-05T21:56:15.147Z"
      },
      {
        "duration": 12,
        "start_time": "2022-12-05T21:56:34.964Z"
      },
      {
        "duration": 53,
        "start_time": "2022-12-05T22:00:26.495Z"
      },
      {
        "duration": 99,
        "start_time": "2022-12-05T22:00:35.766Z"
      },
      {
        "duration": 86,
        "start_time": "2022-12-05T22:00:49.704Z"
      },
      {
        "duration": 168,
        "start_time": "2022-12-05T22:01:09.082Z"
      },
      {
        "duration": 89,
        "start_time": "2022-12-05T22:01:17.294Z"
      },
      {
        "duration": 82,
        "start_time": "2022-12-05T22:01:24.688Z"
      },
      {
        "duration": 676,
        "start_time": "2022-12-05T22:17:32.480Z"
      },
      {
        "duration": 15,
        "start_time": "2022-12-05T22:19:33.813Z"
      },
      {
        "duration": 11,
        "start_time": "2022-12-05T22:19:51.129Z"
      },
      {
        "duration": 12,
        "start_time": "2022-12-05T22:20:04.212Z"
      },
      {
        "duration": 8,
        "start_time": "2022-12-05T22:22:28.329Z"
      },
      {
        "duration": 658,
        "start_time": "2022-12-05T22:22:41.501Z"
      },
      {
        "duration": 728,
        "start_time": "2022-12-05T22:23:00.307Z"
      },
      {
        "duration": 115,
        "start_time": "2022-12-05T22:24:15.105Z"
      },
      {
        "duration": 662,
        "start_time": "2022-12-05T22:24:36.646Z"
      },
      {
        "duration": 109,
        "start_time": "2022-12-05T22:26:31.144Z"
      },
      {
        "duration": 140,
        "start_time": "2022-12-05T22:26:40.057Z"
      },
      {
        "duration": 157,
        "start_time": "2022-12-05T22:26:49.628Z"
      },
      {
        "duration": 119,
        "start_time": "2022-12-05T22:27:11.024Z"
      },
      {
        "duration": 137,
        "start_time": "2022-12-05T22:27:30.809Z"
      },
      {
        "duration": 221,
        "start_time": "2022-12-05T22:27:38.147Z"
      },
      {
        "duration": 113,
        "start_time": "2022-12-05T22:27:48.324Z"
      },
      {
        "duration": 123,
        "start_time": "2022-12-05T22:28:03.877Z"
      },
      {
        "duration": 106,
        "start_time": "2022-12-05T22:28:13.808Z"
      },
      {
        "duration": 116,
        "start_time": "2022-12-05T22:28:56.533Z"
      },
      {
        "duration": 125,
        "start_time": "2022-12-05T22:29:03.297Z"
      },
      {
        "duration": 124,
        "start_time": "2022-12-05T22:29:18.692Z"
      },
      {
        "duration": 86,
        "start_time": "2022-12-05T22:31:00.862Z"
      },
      {
        "duration": 7,
        "start_time": "2022-12-05T22:39:23.465Z"
      },
      {
        "duration": 11,
        "start_time": "2022-12-05T22:39:39.315Z"
      },
      {
        "duration": 6,
        "start_time": "2022-12-05T22:40:01.273Z"
      },
      {
        "duration": 36,
        "start_time": "2022-12-05T22:40:13.687Z"
      },
      {
        "duration": 27,
        "start_time": "2022-12-05T22:40:25.734Z"
      },
      {
        "duration": 37,
        "start_time": "2022-12-05T22:42:36.024Z"
      },
      {
        "duration": 124,
        "start_time": "2022-12-05T22:43:01.148Z"
      },
      {
        "duration": 95,
        "start_time": "2022-12-05T22:47:15.189Z"
      },
      {
        "duration": 87,
        "start_time": "2022-12-05T22:48:30.930Z"
      },
      {
        "duration": 563,
        "start_time": "2022-12-05T22:48:59.803Z"
      },
      {
        "duration": 15,
        "start_time": "2022-12-05T22:49:00.368Z"
      },
      {
        "duration": 2329,
        "start_time": "2022-12-05T22:49:00.384Z"
      },
      {
        "duration": 11,
        "start_time": "2022-12-05T22:49:02.716Z"
      },
      {
        "duration": 23,
        "start_time": "2022-12-05T22:49:02.729Z"
      },
      {
        "duration": 19,
        "start_time": "2022-12-05T22:49:02.754Z"
      },
      {
        "duration": 56,
        "start_time": "2022-12-05T22:49:02.775Z"
      },
      {
        "duration": 11,
        "start_time": "2022-12-05T22:49:02.833Z"
      },
      {
        "duration": 118,
        "start_time": "2022-12-05T22:49:02.846Z"
      },
      {
        "duration": 92,
        "start_time": "2022-12-05T22:49:02.967Z"
      },
      {
        "duration": 110,
        "start_time": "2022-12-05T22:49:03.062Z"
      },
      {
        "duration": 154,
        "start_time": "2022-12-05T22:49:17.503Z"
      },
      {
        "duration": 89,
        "start_time": "2022-12-05T22:50:33.851Z"
      },
      {
        "duration": 551,
        "start_time": "2022-12-05T22:52:00.800Z"
      },
      {
        "duration": 15,
        "start_time": "2022-12-05T22:52:01.353Z"
      },
      {
        "duration": 2430,
        "start_time": "2022-12-05T22:52:01.370Z"
      },
      {
        "duration": 9,
        "start_time": "2022-12-05T22:52:03.801Z"
      },
      {
        "duration": 15,
        "start_time": "2022-12-05T22:52:03.812Z"
      },
      {
        "duration": 32,
        "start_time": "2022-12-05T22:52:03.829Z"
      },
      {
        "duration": 49,
        "start_time": "2022-12-05T22:52:03.863Z"
      },
      {
        "duration": 12,
        "start_time": "2022-12-05T22:52:03.914Z"
      },
      {
        "duration": 94,
        "start_time": "2022-12-05T22:52:03.928Z"
      },
      {
        "duration": 89,
        "start_time": "2022-12-05T22:52:04.024Z"
      },
      {
        "duration": 27,
        "start_time": "2022-12-05T22:52:04.115Z"
      },
      {
        "duration": 103,
        "start_time": "2022-12-05T22:52:19.132Z"
      },
      {
        "duration": 42,
        "start_time": "2022-12-05T22:57:05.104Z"
      },
      {
        "duration": 4,
        "start_time": "2022-12-05T22:57:44.034Z"
      },
      {
        "duration": 597,
        "start_time": "2022-12-06T23:59:09.486Z"
      },
      {
        "duration": 14,
        "start_time": "2022-12-06T23:59:10.085Z"
      },
      {
        "duration": 2211,
        "start_time": "2022-12-06T23:59:10.100Z"
      },
      {
        "duration": 10,
        "start_time": "2022-12-06T23:59:12.313Z"
      },
      {
        "duration": 12,
        "start_time": "2022-12-06T23:59:12.324Z"
      },
      {
        "duration": 4,
        "start_time": "2022-12-06T23:59:12.338Z"
      },
      {
        "duration": 27,
        "start_time": "2022-12-06T23:59:12.344Z"
      },
      {
        "duration": 6,
        "start_time": "2022-12-06T23:59:12.372Z"
      },
      {
        "duration": 99,
        "start_time": "2022-12-06T23:59:12.379Z"
      },
      {
        "duration": 86,
        "start_time": "2022-12-06T23:59:12.480Z"
      },
      {
        "duration": 84,
        "start_time": "2022-12-06T23:59:12.567Z"
      },
      {
        "duration": 4,
        "start_time": "2022-12-06T23:59:12.652Z"
      },
      {
        "duration": 22,
        "start_time": "2022-12-06T23:59:43.648Z"
      },
      {
        "duration": 344,
        "start_time": "2022-12-07T00:08:52.914Z"
      },
      {
        "duration": 82,
        "start_time": "2022-12-07T00:09:57.920Z"
      },
      {
        "duration": 12,
        "start_time": "2022-12-07T00:12:09.852Z"
      },
      {
        "duration": 16,
        "start_time": "2022-12-07T00:13:04.691Z"
      },
      {
        "duration": 18,
        "start_time": "2022-12-07T00:15:15.462Z"
      },
      {
        "duration": 319,
        "start_time": "2022-12-07T00:15:43.155Z"
      },
      {
        "duration": 291,
        "start_time": "2022-12-07T00:16:48.996Z"
      },
      {
        "duration": 11,
        "start_time": "2022-12-07T00:20:44.915Z"
      },
      {
        "duration": 73,
        "start_time": "2022-12-07T00:21:57.153Z"
      },
      {
        "duration": 76,
        "start_time": "2022-12-07T00:22:11.907Z"
      },
      {
        "duration": 451,
        "start_time": "2022-12-07T00:23:10.877Z"
      },
      {
        "duration": 13,
        "start_time": "2022-12-07T00:23:11.330Z"
      },
      {
        "duration": 2088,
        "start_time": "2022-12-07T00:23:11.344Z"
      },
      {
        "duration": 9,
        "start_time": "2022-12-07T00:23:13.433Z"
      },
      {
        "duration": 19,
        "start_time": "2022-12-07T00:23:13.443Z"
      },
      {
        "duration": 5,
        "start_time": "2022-12-07T00:23:13.463Z"
      },
      {
        "duration": 40,
        "start_time": "2022-12-07T00:23:13.469Z"
      },
      {
        "duration": 5,
        "start_time": "2022-12-07T00:23:13.511Z"
      },
      {
        "duration": 87,
        "start_time": "2022-12-07T00:23:13.518Z"
      },
      {
        "duration": 80,
        "start_time": "2022-12-07T00:23:13.606Z"
      },
      {
        "duration": 92,
        "start_time": "2022-12-07T00:23:13.688Z"
      },
      {
        "duration": 5,
        "start_time": "2022-12-07T00:23:13.782Z"
      },
      {
        "duration": 73,
        "start_time": "2022-12-07T00:23:13.789Z"
      },
      {
        "duration": 479,
        "start_time": "2022-12-07T00:36:04.758Z"
      },
      {
        "duration": 13,
        "start_time": "2022-12-07T00:36:05.239Z"
      },
      {
        "duration": 2053,
        "start_time": "2022-12-07T00:36:05.254Z"
      },
      {
        "duration": 9,
        "start_time": "2022-12-07T00:36:07.310Z"
      },
      {
        "duration": 13,
        "start_time": "2022-12-07T00:36:07.321Z"
      },
      {
        "duration": 5,
        "start_time": "2022-12-07T00:36:07.336Z"
      },
      {
        "duration": 29,
        "start_time": "2022-12-07T00:36:07.342Z"
      },
      {
        "duration": 7,
        "start_time": "2022-12-07T00:36:07.373Z"
      },
      {
        "duration": 106,
        "start_time": "2022-12-07T00:36:07.381Z"
      },
      {
        "duration": 86,
        "start_time": "2022-12-07T00:36:07.490Z"
      },
      {
        "duration": 87,
        "start_time": "2022-12-07T00:36:07.577Z"
      },
      {
        "duration": 4,
        "start_time": "2022-12-07T00:36:07.665Z"
      },
      {
        "duration": 70,
        "start_time": "2022-12-07T00:36:07.671Z"
      },
      {
        "duration": 97,
        "start_time": "2022-12-07T00:36:59.216Z"
      },
      {
        "duration": 302,
        "start_time": "2022-12-07T00:37:08.292Z"
      },
      {
        "duration": 314,
        "start_time": "2022-12-07T00:37:19.273Z"
      },
      {
        "duration": 5,
        "start_time": "2022-12-07T00:38:28.674Z"
      },
      {
        "duration": 67,
        "start_time": "2022-12-07T00:40:37.034Z"
      },
      {
        "duration": 1326,
        "start_time": "2022-12-07T00:40:46.029Z"
      },
      {
        "duration": 1234,
        "start_time": "2022-12-07T00:41:25.871Z"
      },
      {
        "duration": 4,
        "start_time": "2022-12-07T00:41:44.578Z"
      },
      {
        "duration": 7,
        "start_time": "2022-12-07T00:42:02.640Z"
      },
      {
        "duration": 6,
        "start_time": "2022-12-07T00:43:38.352Z"
      },
      {
        "duration": 7,
        "start_time": "2022-12-07T00:43:55.468Z"
      },
      {
        "duration": 484,
        "start_time": "2022-12-07T00:44:19.954Z"
      },
      {
        "duration": 16,
        "start_time": "2022-12-07T00:44:20.440Z"
      },
      {
        "duration": 2093,
        "start_time": "2022-12-07T00:44:20.458Z"
      },
      {
        "duration": 9,
        "start_time": "2022-12-07T00:44:22.553Z"
      },
      {
        "duration": 12,
        "start_time": "2022-12-07T00:44:22.564Z"
      },
      {
        "duration": 5,
        "start_time": "2022-12-07T00:44:22.577Z"
      },
      {
        "duration": 26,
        "start_time": "2022-12-07T00:44:22.583Z"
      },
      {
        "duration": 6,
        "start_time": "2022-12-07T00:44:22.622Z"
      },
      {
        "duration": 80,
        "start_time": "2022-12-07T00:44:22.630Z"
      },
      {
        "duration": 85,
        "start_time": "2022-12-07T00:44:22.711Z"
      },
      {
        "duration": 93,
        "start_time": "2022-12-07T00:44:22.798Z"
      },
      {
        "duration": 4,
        "start_time": "2022-12-07T00:44:22.893Z"
      },
      {
        "duration": 319,
        "start_time": "2022-12-07T00:44:22.898Z"
      },
      {
        "duration": 6,
        "start_time": "2022-12-07T00:44:23.221Z"
      },
      {
        "duration": 74,
        "start_time": "2022-12-07T00:46:08.932Z"
      },
      {
        "duration": 7,
        "start_time": "2022-12-07T00:48:39.768Z"
      },
      {
        "duration": 25,
        "start_time": "2022-12-07T00:49:14.501Z"
      },
      {
        "duration": 158,
        "start_time": "2022-12-07T00:51:27.042Z"
      },
      {
        "duration": 108,
        "start_time": "2022-12-07T00:51:33.454Z"
      },
      {
        "duration": 187,
        "start_time": "2022-12-07T00:51:40.326Z"
      },
      {
        "duration": 100,
        "start_time": "2022-12-07T00:51:52.064Z"
      },
      {
        "duration": 122,
        "start_time": "2022-12-07T00:52:00.922Z"
      },
      {
        "duration": 125,
        "start_time": "2022-12-07T00:55:09.220Z"
      },
      {
        "duration": 53,
        "start_time": "2022-12-07T11:22:52.246Z"
      },
      {
        "duration": 573,
        "start_time": "2022-12-07T11:22:57.844Z"
      },
      {
        "duration": 14,
        "start_time": "2022-12-07T11:22:58.419Z"
      },
      {
        "duration": 2393,
        "start_time": "2022-12-07T11:22:58.435Z"
      },
      {
        "duration": 8,
        "start_time": "2022-12-07T11:23:00.830Z"
      },
      {
        "duration": 78,
        "start_time": "2022-12-07T11:23:00.841Z"
      },
      {
        "duration": 33,
        "start_time": "2022-12-07T11:23:00.921Z"
      },
      {
        "duration": 72,
        "start_time": "2022-12-07T11:23:00.955Z"
      },
      {
        "duration": 16,
        "start_time": "2022-12-07T11:23:01.029Z"
      },
      {
        "duration": 132,
        "start_time": "2022-12-07T11:23:01.047Z"
      },
      {
        "duration": 86,
        "start_time": "2022-12-07T11:23:01.180Z"
      },
      {
        "duration": 90,
        "start_time": "2022-12-07T11:23:01.268Z"
      },
      {
        "duration": 4,
        "start_time": "2022-12-07T11:23:01.360Z"
      },
      {
        "duration": 360,
        "start_time": "2022-12-07T11:23:01.365Z"
      },
      {
        "duration": 27,
        "start_time": "2022-12-07T11:23:01.728Z"
      },
      {
        "duration": 174,
        "start_time": "2022-12-07T11:23:01.756Z"
      },
      {
        "duration": 169,
        "start_time": "2022-12-07T11:23:22.333Z"
      },
      {
        "duration": 103,
        "start_time": "2022-12-07T11:23:28.323Z"
      },
      {
        "duration": 102,
        "start_time": "2022-12-07T11:23:36.367Z"
      },
      {
        "duration": 102,
        "start_time": "2022-12-07T11:23:43.783Z"
      },
      {
        "duration": 148,
        "start_time": "2022-12-07T11:25:39.184Z"
      },
      {
        "duration": 136,
        "start_time": "2022-12-07T11:25:52.064Z"
      },
      {
        "duration": 183,
        "start_time": "2022-12-07T11:26:45.883Z"
      },
      {
        "duration": 139,
        "start_time": "2022-12-07T11:26:56.794Z"
      },
      {
        "duration": 131,
        "start_time": "2022-12-07T11:29:32.040Z"
      },
      {
        "duration": 126,
        "start_time": "2022-12-07T11:29:36.966Z"
      },
      {
        "duration": 135,
        "start_time": "2022-12-07T11:29:44.756Z"
      },
      {
        "duration": 72,
        "start_time": "2022-12-07T11:30:44.264Z"
      },
      {
        "duration": 85,
        "start_time": "2022-12-07T11:31:10.143Z"
      },
      {
        "duration": 83,
        "start_time": "2022-12-07T11:31:17.084Z"
      },
      {
        "duration": 162,
        "start_time": "2022-12-07T11:31:30.644Z"
      },
      {
        "duration": 78,
        "start_time": "2022-12-07T11:33:09.384Z"
      },
      {
        "duration": 104,
        "start_time": "2022-12-07T11:33:21.976Z"
      },
      {
        "duration": 126,
        "start_time": "2022-12-07T11:34:26.044Z"
      },
      {
        "duration": 195,
        "start_time": "2022-12-07T11:35:03.815Z"
      },
      {
        "duration": 243,
        "start_time": "2022-12-07T11:35:38.654Z"
      },
      {
        "duration": 191,
        "start_time": "2022-12-07T11:36:00.040Z"
      },
      {
        "duration": 175,
        "start_time": "2022-12-07T11:36:24.120Z"
      },
      {
        "duration": 135,
        "start_time": "2022-12-07T11:36:31.189Z"
      },
      {
        "duration": 271,
        "start_time": "2022-12-07T11:36:34.950Z"
      },
      {
        "duration": 329,
        "start_time": "2022-12-07T11:37:09.279Z"
      },
      {
        "duration": 243,
        "start_time": "2022-12-07T11:37:41.729Z"
      },
      {
        "duration": 245,
        "start_time": "2022-12-07T11:38:02.851Z"
      },
      {
        "duration": 239,
        "start_time": "2022-12-07T11:38:11.869Z"
      },
      {
        "duration": 279,
        "start_time": "2022-12-07T11:38:23.770Z"
      },
      {
        "duration": 391,
        "start_time": "2022-12-07T11:38:51.929Z"
      },
      {
        "duration": 234,
        "start_time": "2022-12-07T11:39:29.850Z"
      },
      {
        "duration": 186,
        "start_time": "2022-12-07T11:39:34.369Z"
      },
      {
        "duration": 692,
        "start_time": "2022-12-07T11:39:40.830Z"
      },
      {
        "duration": 141,
        "start_time": "2022-12-07T11:39:48.110Z"
      },
      {
        "duration": 276,
        "start_time": "2022-12-07T11:39:56.972Z"
      },
      {
        "duration": 155,
        "start_time": "2022-12-07T11:40:02.050Z"
      },
      {
        "duration": 268,
        "start_time": "2022-12-07T11:40:14.789Z"
      },
      {
        "duration": 200,
        "start_time": "2022-12-07T11:40:19.213Z"
      },
      {
        "duration": 222,
        "start_time": "2022-12-07T11:41:31.609Z"
      },
      {
        "duration": 175,
        "start_time": "2022-12-07T11:41:41.390Z"
      },
      {
        "duration": 154,
        "start_time": "2022-12-07T11:41:45.650Z"
      },
      {
        "duration": 177,
        "start_time": "2022-12-07T11:41:49.430Z"
      },
      {
        "duration": 184,
        "start_time": "2022-12-07T11:41:54.250Z"
      },
      {
        "duration": 204,
        "start_time": "2022-12-07T11:41:55.450Z"
      },
      {
        "duration": 191,
        "start_time": "2022-12-07T11:41:58.630Z"
      },
      {
        "duration": 171,
        "start_time": "2022-12-07T11:42:01.851Z"
      },
      {
        "duration": 195,
        "start_time": "2022-12-07T11:42:03.330Z"
      },
      {
        "duration": 189,
        "start_time": "2022-12-07T11:42:05.969Z"
      },
      {
        "duration": 399,
        "start_time": "2022-12-07T11:42:18.492Z"
      },
      {
        "duration": 230,
        "start_time": "2022-12-07T11:42:27.510Z"
      },
      {
        "duration": 236,
        "start_time": "2022-12-07T11:42:51.329Z"
      },
      {
        "duration": 162,
        "start_time": "2022-12-07T11:43:09.529Z"
      },
      {
        "duration": 184,
        "start_time": "2022-12-07T11:43:15.769Z"
      },
      {
        "duration": 296,
        "start_time": "2022-12-07T11:43:22.971Z"
      },
      {
        "duration": 195,
        "start_time": "2022-12-07T11:43:29.129Z"
      },
      {
        "duration": 218,
        "start_time": "2022-12-07T11:44:21.550Z"
      },
      {
        "duration": 160,
        "start_time": "2022-12-07T11:44:30.950Z"
      },
      {
        "duration": 127,
        "start_time": "2022-12-07T11:44:42.330Z"
      },
      {
        "duration": 195,
        "start_time": "2022-12-07T11:44:56.510Z"
      },
      {
        "duration": 97,
        "start_time": "2022-12-07T11:46:27.351Z"
      },
      {
        "duration": 95,
        "start_time": "2022-12-07T11:46:40.858Z"
      },
      {
        "duration": 11,
        "start_time": "2022-12-07T11:47:09.932Z"
      },
      {
        "duration": 9,
        "start_time": "2022-12-07T11:47:19.269Z"
      },
      {
        "duration": 9,
        "start_time": "2022-12-07T11:48:21.451Z"
      },
      {
        "duration": 8,
        "start_time": "2022-12-07T11:48:47.610Z"
      },
      {
        "duration": 9,
        "start_time": "2022-12-07T11:49:42.430Z"
      },
      {
        "duration": 500,
        "start_time": "2022-12-07T11:49:48.711Z"
      },
      {
        "duration": 17,
        "start_time": "2022-12-07T11:49:49.214Z"
      },
      {
        "duration": 2267,
        "start_time": "2022-12-07T11:49:49.233Z"
      },
      {
        "duration": 13,
        "start_time": "2022-12-07T11:49:51.503Z"
      },
      {
        "duration": 12,
        "start_time": "2022-12-07T11:49:51.519Z"
      },
      {
        "duration": 20,
        "start_time": "2022-12-07T11:49:51.533Z"
      },
      {
        "duration": 35,
        "start_time": "2022-12-07T11:49:51.555Z"
      },
      {
        "duration": 8,
        "start_time": "2022-12-07T11:49:51.592Z"
      },
      {
        "duration": 108,
        "start_time": "2022-12-07T11:49:51.602Z"
      },
      {
        "duration": 103,
        "start_time": "2022-12-07T11:49:51.712Z"
      },
      {
        "duration": 98,
        "start_time": "2022-12-07T11:49:51.817Z"
      },
      {
        "duration": 4,
        "start_time": "2022-12-07T11:49:51.917Z"
      },
      {
        "duration": 378,
        "start_time": "2022-12-07T11:49:51.923Z"
      },
      {
        "duration": 38,
        "start_time": "2022-12-07T11:49:52.304Z"
      },
      {
        "duration": 228,
        "start_time": "2022-12-07T11:49:52.344Z"
      },
      {
        "duration": 171,
        "start_time": "2022-12-07T11:49:52.573Z"
      },
      {
        "duration": 269,
        "start_time": "2022-12-07T11:49:52.746Z"
      },
      {
        "duration": 216,
        "start_time": "2022-12-07T11:49:53.017Z"
      },
      {
        "duration": 172,
        "start_time": "2022-12-07T11:49:53.235Z"
      },
      {
        "duration": 89,
        "start_time": "2022-12-07T11:49:53.409Z"
      },
      {
        "duration": 160,
        "start_time": "2022-12-07T11:50:21.374Z"
      },
      {
        "duration": 129,
        "start_time": "2022-12-07T11:50:39.883Z"
      },
      {
        "duration": 88,
        "start_time": "2022-12-07T11:51:14.524Z"
      },
      {
        "duration": 134,
        "start_time": "2022-12-07T11:51:26.389Z"
      },
      {
        "duration": 144,
        "start_time": "2022-12-07T11:51:36.961Z"
      },
      {
        "duration": 584,
        "start_time": "2022-12-07T14:16:38.178Z"
      },
      {
        "duration": 15,
        "start_time": "2022-12-07T14:16:38.764Z"
      },
      {
        "duration": 2706,
        "start_time": "2022-12-07T14:16:38.780Z"
      },
      {
        "duration": 11,
        "start_time": "2022-12-07T14:16:41.489Z"
      },
      {
        "duration": 14,
        "start_time": "2022-12-07T14:16:41.502Z"
      },
      {
        "duration": 5,
        "start_time": "2022-12-07T14:16:41.517Z"
      },
      {
        "duration": 28,
        "start_time": "2022-12-07T14:16:41.524Z"
      },
      {
        "duration": 7,
        "start_time": "2022-12-07T14:16:41.554Z"
      },
      {
        "duration": 105,
        "start_time": "2022-12-07T14:16:41.562Z"
      },
      {
        "duration": 112,
        "start_time": "2022-12-07T14:16:41.670Z"
      },
      {
        "duration": 111,
        "start_time": "2022-12-07T14:16:41.783Z"
      },
      {
        "duration": 4,
        "start_time": "2022-12-07T14:16:41.896Z"
      },
      {
        "duration": 403,
        "start_time": "2022-12-07T14:16:41.902Z"
      },
      {
        "duration": 39,
        "start_time": "2022-12-07T14:16:42.307Z"
      },
      {
        "duration": 206,
        "start_time": "2022-12-07T14:16:42.348Z"
      },
      {
        "duration": 276,
        "start_time": "2022-12-07T14:16:42.555Z"
      },
      {
        "duration": 219,
        "start_time": "2022-12-07T14:16:42.836Z"
      },
      {
        "duration": 221,
        "start_time": "2022-12-07T14:16:43.057Z"
      },
      {
        "duration": 166,
        "start_time": "2022-12-07T14:16:43.280Z"
      },
      {
        "duration": 160,
        "start_time": "2022-12-07T14:16:43.448Z"
      },
      {
        "duration": 243,
        "start_time": "2022-12-07T14:17:08.873Z"
      },
      {
        "duration": 570,
        "start_time": "2022-12-07T14:18:14.616Z"
      },
      {
        "duration": 17,
        "start_time": "2022-12-07T14:18:15.188Z"
      },
      {
        "duration": 2392,
        "start_time": "2022-12-07T14:18:15.206Z"
      },
      {
        "duration": 13,
        "start_time": "2022-12-07T14:18:17.601Z"
      },
      {
        "duration": 26,
        "start_time": "2022-12-07T14:18:17.617Z"
      },
      {
        "duration": 6,
        "start_time": "2022-12-07T14:18:17.645Z"
      },
      {
        "duration": 30,
        "start_time": "2022-12-07T14:18:17.653Z"
      },
      {
        "duration": 7,
        "start_time": "2022-12-07T14:18:17.685Z"
      },
      {
        "duration": 133,
        "start_time": "2022-12-07T14:18:17.694Z"
      },
      {
        "duration": 102,
        "start_time": "2022-12-07T14:18:17.837Z"
      },
      {
        "duration": 104,
        "start_time": "2022-12-07T14:18:17.941Z"
      },
      {
        "duration": 6,
        "start_time": "2022-12-07T14:18:18.047Z"
      },
      {
        "duration": 368,
        "start_time": "2022-12-07T14:18:18.055Z"
      },
      {
        "duration": 38,
        "start_time": "2022-12-07T14:18:18.426Z"
      },
      {
        "duration": 198,
        "start_time": "2022-12-07T14:18:18.466Z"
      },
      {
        "duration": 203,
        "start_time": "2022-12-07T14:18:18.666Z"
      },
      {
        "duration": 357,
        "start_time": "2022-12-07T14:18:18.871Z"
      },
      {
        "duration": 225,
        "start_time": "2022-12-07T14:18:19.230Z"
      },
      {
        "duration": 204,
        "start_time": "2022-12-07T14:18:19.457Z"
      },
      {
        "duration": 168,
        "start_time": "2022-12-07T14:18:19.663Z"
      },
      {
        "duration": 504,
        "start_time": "2022-12-07T14:18:43.271Z"
      },
      {
        "duration": 16,
        "start_time": "2022-12-07T14:18:43.777Z"
      },
      {
        "duration": 2373,
        "start_time": "2022-12-07T14:18:43.797Z"
      },
      {
        "duration": 9,
        "start_time": "2022-12-07T14:18:46.172Z"
      },
      {
        "duration": 14,
        "start_time": "2022-12-07T14:18:46.183Z"
      },
      {
        "duration": 5,
        "start_time": "2022-12-07T14:18:46.198Z"
      },
      {
        "duration": 29,
        "start_time": "2022-12-07T14:18:46.205Z"
      },
      {
        "duration": 6,
        "start_time": "2022-12-07T14:18:46.236Z"
      },
      {
        "duration": 106,
        "start_time": "2022-12-07T14:18:46.245Z"
      },
      {
        "duration": 111,
        "start_time": "2022-12-07T14:18:46.353Z"
      },
      {
        "duration": 98,
        "start_time": "2022-12-07T14:18:46.466Z"
      },
      {
        "duration": 5,
        "start_time": "2022-12-07T14:18:46.566Z"
      },
      {
        "duration": 376,
        "start_time": "2022-12-07T14:18:46.573Z"
      },
      {
        "duration": 29,
        "start_time": "2022-12-07T14:18:46.950Z"
      },
      {
        "duration": 212,
        "start_time": "2022-12-07T14:18:46.981Z"
      },
      {
        "duration": 197,
        "start_time": "2022-12-07T14:18:47.195Z"
      },
      {
        "duration": 292,
        "start_time": "2022-12-07T14:18:47.394Z"
      },
      {
        "duration": 236,
        "start_time": "2022-12-07T14:18:47.687Z"
      },
      {
        "duration": 572,
        "start_time": "2022-12-07T14:19:56.027Z"
      },
      {
        "duration": 17,
        "start_time": "2022-12-07T14:19:56.601Z"
      },
      {
        "duration": 2419,
        "start_time": "2022-12-07T14:19:56.620Z"
      },
      {
        "duration": 15,
        "start_time": "2022-12-07T14:19:59.042Z"
      },
      {
        "duration": 27,
        "start_time": "2022-12-07T14:19:59.061Z"
      },
      {
        "duration": 7,
        "start_time": "2022-12-07T14:19:59.091Z"
      },
      {
        "duration": 63,
        "start_time": "2022-12-07T14:19:59.100Z"
      },
      {
        "duration": 10,
        "start_time": "2022-12-07T14:19:59.165Z"
      },
      {
        "duration": 115,
        "start_time": "2022-12-07T14:19:59.177Z"
      },
      {
        "duration": 102,
        "start_time": "2022-12-07T14:19:59.296Z"
      },
      {
        "duration": 94,
        "start_time": "2022-12-07T14:19:59.400Z"
      },
      {
        "duration": 4,
        "start_time": "2022-12-07T14:19:59.496Z"
      },
      {
        "duration": 395,
        "start_time": "2022-12-07T14:19:59.502Z"
      },
      {
        "duration": 43,
        "start_time": "2022-12-07T14:19:59.899Z"
      },
      {
        "duration": 202,
        "start_time": "2022-12-07T14:19:59.943Z"
      },
      {
        "duration": 193,
        "start_time": "2022-12-07T14:20:00.147Z"
      },
      {
        "duration": 276,
        "start_time": "2022-12-07T14:20:00.341Z"
      },
      {
        "duration": 220,
        "start_time": "2022-12-07T14:20:00.619Z"
      },
      {
        "duration": 516,
        "start_time": "2022-12-07T14:22:12.787Z"
      },
      {
        "duration": 17,
        "start_time": "2022-12-07T14:22:13.305Z"
      },
      {
        "duration": 2435,
        "start_time": "2022-12-07T14:22:13.323Z"
      },
      {
        "duration": 13,
        "start_time": "2022-12-07T14:22:15.760Z"
      },
      {
        "duration": 20,
        "start_time": "2022-12-07T14:22:15.776Z"
      },
      {
        "duration": 7,
        "start_time": "2022-12-07T14:22:15.798Z"
      },
      {
        "duration": 41,
        "start_time": "2022-12-07T14:22:15.806Z"
      },
      {
        "duration": 10,
        "start_time": "2022-12-07T14:22:15.850Z"
      },
      {
        "duration": 128,
        "start_time": "2022-12-07T14:22:15.862Z"
      },
      {
        "duration": 10,
        "start_time": "2022-12-07T14:22:15.992Z"
      },
      {
        "duration": 133,
        "start_time": "2022-12-07T14:22:16.005Z"
      },
      {
        "duration": 103,
        "start_time": "2022-12-07T14:22:16.140Z"
      },
      {
        "duration": 5,
        "start_time": "2022-12-07T14:22:16.245Z"
      },
      {
        "duration": 411,
        "start_time": "2022-12-07T14:22:16.253Z"
      },
      {
        "duration": 31,
        "start_time": "2022-12-07T14:22:16.666Z"
      },
      {
        "duration": 211,
        "start_time": "2022-12-07T14:22:16.698Z"
      },
      {
        "duration": 189,
        "start_time": "2022-12-07T14:22:16.911Z"
      },
      {
        "duration": 289,
        "start_time": "2022-12-07T14:22:17.102Z"
      },
      {
        "duration": 228,
        "start_time": "2022-12-07T14:22:17.393Z"
      },
      {
        "duration": 165,
        "start_time": "2022-12-07T14:22:17.623Z"
      },
      {
        "duration": 216,
        "start_time": "2022-12-07T14:22:17.790Z"
      },
      {
        "duration": 49,
        "start_time": "2022-12-07T14:36:58.277Z"
      },
      {
        "duration": 0,
        "start_time": "2022-12-07T14:36:58.328Z"
      },
      {
        "duration": 609,
        "start_time": "2022-12-07T14:37:01.954Z"
      },
      {
        "duration": 17,
        "start_time": "2022-12-07T14:37:02.566Z"
      },
      {
        "duration": 574,
        "start_time": "2022-12-07T14:37:09.911Z"
      },
      {
        "duration": 15,
        "start_time": "2022-12-07T14:37:10.487Z"
      },
      {
        "duration": 2418,
        "start_time": "2022-12-07T14:37:10.504Z"
      },
      {
        "duration": 10,
        "start_time": "2022-12-07T14:37:12.925Z"
      },
      {
        "duration": 25,
        "start_time": "2022-12-07T14:37:12.937Z"
      },
      {
        "duration": 12,
        "start_time": "2022-12-07T14:37:12.965Z"
      },
      {
        "duration": 42,
        "start_time": "2022-12-07T14:37:12.979Z"
      },
      {
        "duration": 7,
        "start_time": "2022-12-07T14:37:13.022Z"
      },
      {
        "duration": 125,
        "start_time": "2022-12-07T14:37:13.031Z"
      },
      {
        "duration": 9,
        "start_time": "2022-12-07T14:37:13.159Z"
      },
      {
        "duration": 101,
        "start_time": "2022-12-07T14:37:13.170Z"
      },
      {
        "duration": 100,
        "start_time": "2022-12-07T14:37:13.272Z"
      },
      {
        "duration": 5,
        "start_time": "2022-12-07T14:37:13.374Z"
      },
      {
        "duration": 390,
        "start_time": "2022-12-07T14:37:13.381Z"
      },
      {
        "duration": 29,
        "start_time": "2022-12-07T14:37:13.772Z"
      },
      {
        "duration": 236,
        "start_time": "2022-12-07T14:37:13.803Z"
      },
      {
        "duration": 212,
        "start_time": "2022-12-07T14:37:14.041Z"
      },
      {
        "duration": 285,
        "start_time": "2022-12-07T14:37:14.255Z"
      },
      {
        "duration": 222,
        "start_time": "2022-12-07T14:37:14.542Z"
      },
      {
        "duration": 168,
        "start_time": "2022-12-07T14:37:14.766Z"
      },
      {
        "duration": 201,
        "start_time": "2022-12-07T14:37:14.936Z"
      },
      {
        "duration": 617,
        "start_time": "2022-12-07T14:41:26.367Z"
      },
      {
        "duration": 17,
        "start_time": "2022-12-07T14:41:26.986Z"
      },
      {
        "duration": 2502,
        "start_time": "2022-12-07T14:41:27.004Z"
      },
      {
        "duration": 11,
        "start_time": "2022-12-07T14:41:29.508Z"
      },
      {
        "duration": 16,
        "start_time": "2022-12-07T14:41:29.521Z"
      },
      {
        "duration": 6,
        "start_time": "2022-12-07T14:41:29.538Z"
      },
      {
        "duration": 30,
        "start_time": "2022-12-07T14:41:29.545Z"
      },
      {
        "duration": 7,
        "start_time": "2022-12-07T14:41:29.577Z"
      },
      {
        "duration": 119,
        "start_time": "2022-12-07T14:41:29.586Z"
      },
      {
        "duration": 10,
        "start_time": "2022-12-07T14:41:29.708Z"
      },
      {
        "duration": 98,
        "start_time": "2022-12-07T14:41:29.721Z"
      },
      {
        "duration": 104,
        "start_time": "2022-12-07T14:41:29.822Z"
      },
      {
        "duration": 13,
        "start_time": "2022-12-07T14:41:29.928Z"
      },
      {
        "duration": 388,
        "start_time": "2022-12-07T14:41:29.944Z"
      },
      {
        "duration": 30,
        "start_time": "2022-12-07T14:41:30.333Z"
      },
      {
        "duration": 221,
        "start_time": "2022-12-07T14:41:30.365Z"
      },
      {
        "duration": 199,
        "start_time": "2022-12-07T14:41:30.588Z"
      },
      {
        "duration": 291,
        "start_time": "2022-12-07T14:41:30.789Z"
      },
      {
        "duration": 240,
        "start_time": "2022-12-07T14:41:31.082Z"
      },
      {
        "duration": 161,
        "start_time": "2022-12-07T14:41:31.324Z"
      },
      {
        "duration": 618,
        "start_time": "2022-12-07T16:13:16.619Z"
      },
      {
        "duration": 18,
        "start_time": "2022-12-07T16:13:17.239Z"
      },
      {
        "duration": 2591,
        "start_time": "2022-12-07T16:13:17.258Z"
      },
      {
        "duration": 10,
        "start_time": "2022-12-07T16:13:19.851Z"
      },
      {
        "duration": 12,
        "start_time": "2022-12-07T16:13:19.863Z"
      },
      {
        "duration": 5,
        "start_time": "2022-12-07T16:13:19.876Z"
      },
      {
        "duration": 34,
        "start_time": "2022-12-07T16:13:19.882Z"
      },
      {
        "duration": 6,
        "start_time": "2022-12-07T16:13:19.917Z"
      },
      {
        "duration": 98,
        "start_time": "2022-12-07T16:13:19.925Z"
      },
      {
        "duration": 8,
        "start_time": "2022-12-07T16:13:20.025Z"
      },
      {
        "duration": 104,
        "start_time": "2022-12-07T16:13:20.035Z"
      },
      {
        "duration": 91,
        "start_time": "2022-12-07T16:13:20.142Z"
      },
      {
        "duration": 4,
        "start_time": "2022-12-07T16:13:20.234Z"
      },
      {
        "duration": 359,
        "start_time": "2022-12-07T16:13:20.240Z"
      },
      {
        "duration": 33,
        "start_time": "2022-12-07T16:13:20.601Z"
      },
      {
        "duration": 197,
        "start_time": "2022-12-07T16:13:20.635Z"
      },
      {
        "duration": 233,
        "start_time": "2022-12-07T16:13:20.833Z"
      },
      {
        "duration": 189,
        "start_time": "2022-12-07T16:13:21.068Z"
      },
      {
        "duration": 219,
        "start_time": "2022-12-07T16:13:21.258Z"
      },
      {
        "duration": 160,
        "start_time": "2022-12-07T16:13:21.479Z"
      },
      {
        "duration": 188,
        "start_time": "2022-12-07T16:13:21.641Z"
      },
      {
        "duration": 52,
        "start_time": "2022-12-07T16:17:47.860Z"
      },
      {
        "duration": 602,
        "start_time": "2022-12-07T16:17:55.286Z"
      },
      {
        "duration": 16,
        "start_time": "2022-12-07T16:17:55.889Z"
      },
      {
        "duration": 2347,
        "start_time": "2022-12-07T16:17:55.906Z"
      },
      {
        "duration": 12,
        "start_time": "2022-12-07T16:17:58.255Z"
      },
      {
        "duration": 12,
        "start_time": "2022-12-07T16:17:58.270Z"
      },
      {
        "duration": 5,
        "start_time": "2022-12-07T16:17:58.284Z"
      },
      {
        "duration": 35,
        "start_time": "2022-12-07T16:17:58.291Z"
      },
      {
        "duration": 21,
        "start_time": "2022-12-07T16:17:58.327Z"
      },
      {
        "duration": 155,
        "start_time": "2022-12-07T16:17:58.350Z"
      },
      {
        "duration": 8,
        "start_time": "2022-12-07T16:17:58.507Z"
      },
      {
        "duration": 99,
        "start_time": "2022-12-07T16:17:58.517Z"
      },
      {
        "duration": 79,
        "start_time": "2022-12-07T16:17:58.617Z"
      },
      {
        "duration": 3,
        "start_time": "2022-12-07T16:17:58.705Z"
      },
      {
        "duration": 346,
        "start_time": "2022-12-07T16:17:58.711Z"
      },
      {
        "duration": 29,
        "start_time": "2022-12-07T16:17:59.059Z"
      },
      {
        "duration": 186,
        "start_time": "2022-12-07T16:17:59.090Z"
      },
      {
        "duration": 176,
        "start_time": "2022-12-07T16:17:59.277Z"
      },
      {
        "duration": 259,
        "start_time": "2022-12-07T16:17:59.455Z"
      },
      {
        "duration": 209,
        "start_time": "2022-12-07T16:17:59.715Z"
      },
      {
        "duration": 152,
        "start_time": "2022-12-07T16:17:59.925Z"
      },
      {
        "duration": 193,
        "start_time": "2022-12-07T16:18:00.079Z"
      },
      {
        "duration": 549,
        "start_time": "2022-12-07T16:52:31.850Z"
      },
      {
        "duration": 14,
        "start_time": "2022-12-07T16:52:32.401Z"
      },
      {
        "duration": 2124,
        "start_time": "2022-12-07T16:52:32.417Z"
      },
      {
        "duration": 9,
        "start_time": "2022-12-07T16:52:34.544Z"
      },
      {
        "duration": 12,
        "start_time": "2022-12-07T16:52:34.554Z"
      },
      {
        "duration": 5,
        "start_time": "2022-12-07T16:52:34.568Z"
      },
      {
        "duration": 32,
        "start_time": "2022-12-07T16:52:34.574Z"
      },
      {
        "duration": 5,
        "start_time": "2022-12-07T16:52:34.608Z"
      },
      {
        "duration": 122,
        "start_time": "2022-12-07T16:52:34.615Z"
      },
      {
        "duration": 8,
        "start_time": "2022-12-07T16:52:34.740Z"
      },
      {
        "duration": 98,
        "start_time": "2022-12-07T16:52:34.750Z"
      },
      {
        "duration": 83,
        "start_time": "2022-12-07T16:52:34.850Z"
      },
      {
        "duration": 5,
        "start_time": "2022-12-07T16:52:34.934Z"
      },
      {
        "duration": 344,
        "start_time": "2022-12-07T16:52:34.941Z"
      },
      {
        "duration": 33,
        "start_time": "2022-12-07T16:52:35.287Z"
      },
      {
        "duration": 174,
        "start_time": "2022-12-07T16:52:35.322Z"
      },
      {
        "duration": 167,
        "start_time": "2022-12-07T16:52:35.497Z"
      },
      {
        "duration": 248,
        "start_time": "2022-12-07T16:52:35.666Z"
      },
      {
        "duration": 193,
        "start_time": "2022-12-07T16:52:35.916Z"
      },
      {
        "duration": 136,
        "start_time": "2022-12-07T16:52:36.111Z"
      },
      {
        "duration": 174,
        "start_time": "2022-12-07T16:52:36.249Z"
      },
      {
        "duration": 48,
        "start_time": "2022-12-07T16:55:44.798Z"
      },
      {
        "duration": 593,
        "start_time": "2022-12-07T16:55:49.281Z"
      },
      {
        "duration": 13,
        "start_time": "2022-12-07T16:55:49.876Z"
      },
      {
        "duration": 2166,
        "start_time": "2022-12-07T16:55:49.891Z"
      },
      {
        "duration": 9,
        "start_time": "2022-12-07T16:55:52.059Z"
      },
      {
        "duration": 29,
        "start_time": "2022-12-07T16:55:52.069Z"
      },
      {
        "duration": 5,
        "start_time": "2022-12-07T16:55:52.100Z"
      },
      {
        "duration": 30,
        "start_time": "2022-12-07T16:55:52.107Z"
      },
      {
        "duration": 5,
        "start_time": "2022-12-07T16:55:52.139Z"
      },
      {
        "duration": 137,
        "start_time": "2022-12-07T16:55:52.146Z"
      },
      {
        "duration": 7,
        "start_time": "2022-12-07T16:55:52.286Z"
      },
      {
        "duration": 103,
        "start_time": "2022-12-07T16:55:52.295Z"
      },
      {
        "duration": 80,
        "start_time": "2022-12-07T16:55:52.399Z"
      },
      {
        "duration": 4,
        "start_time": "2022-12-07T16:55:52.481Z"
      },
      {
        "duration": 336,
        "start_time": "2022-12-07T16:55:52.487Z"
      },
      {
        "duration": 26,
        "start_time": "2022-12-07T16:55:52.825Z"
      },
      {
        "duration": 193,
        "start_time": "2022-12-07T16:55:52.853Z"
      },
      {
        "duration": 171,
        "start_time": "2022-12-07T16:55:53.047Z"
      },
      {
        "duration": 275,
        "start_time": "2022-12-07T16:55:53.220Z"
      },
      {
        "duration": 201,
        "start_time": "2022-12-07T16:55:53.497Z"
      },
      {
        "duration": 140,
        "start_time": "2022-12-07T16:55:53.704Z"
      },
      {
        "duration": 179,
        "start_time": "2022-12-07T16:55:53.846Z"
      },
      {
        "duration": 286934,
        "start_time": "2022-12-07T16:55:54.027Z"
      },
      {
        "duration": 484,
        "start_time": "2022-12-07T17:00:53.960Z"
      },
      {
        "duration": 14,
        "start_time": "2022-12-07T17:00:54.445Z"
      },
      {
        "duration": 2262,
        "start_time": "2022-12-07T17:00:54.463Z"
      },
      {
        "duration": 11,
        "start_time": "2022-12-07T17:00:56.727Z"
      },
      {
        "duration": 12,
        "start_time": "2022-12-07T17:00:56.740Z"
      },
      {
        "duration": 5,
        "start_time": "2022-12-07T17:00:56.754Z"
      },
      {
        "duration": 43,
        "start_time": "2022-12-07T17:00:56.761Z"
      },
      {
        "duration": 9,
        "start_time": "2022-12-07T17:00:56.806Z"
      },
      {
        "duration": 172,
        "start_time": "2022-12-07T17:00:56.818Z"
      },
      {
        "duration": 15,
        "start_time": "2022-12-07T17:00:56.991Z"
      },
      {
        "duration": 83,
        "start_time": "2022-12-07T17:00:57.007Z"
      },
      {
        "duration": 90,
        "start_time": "2022-12-07T17:00:57.091Z"
      },
      {
        "duration": 4,
        "start_time": "2022-12-07T17:00:57.183Z"
      },
      {
        "duration": 393,
        "start_time": "2022-12-07T17:00:57.188Z"
      },
      {
        "duration": 38,
        "start_time": "2022-12-07T17:00:57.583Z"
      },
      {
        "duration": 177,
        "start_time": "2022-12-07T17:00:57.623Z"
      },
      {
        "duration": 159,
        "start_time": "2022-12-07T17:00:57.801Z"
      },
      {
        "duration": 296,
        "start_time": "2022-12-07T17:00:57.961Z"
      },
      {
        "duration": 221,
        "start_time": "2022-12-07T17:00:58.259Z"
      },
      {
        "duration": 149,
        "start_time": "2022-12-07T17:00:58.482Z"
      },
      {
        "duration": 180,
        "start_time": "2022-12-07T17:00:58.633Z"
      },
      {
        "duration": 538,
        "start_time": "2022-12-07T17:01:46.197Z"
      },
      {
        "duration": 17,
        "start_time": "2022-12-07T17:01:46.737Z"
      },
      {
        "duration": 2265,
        "start_time": "2022-12-07T17:01:46.756Z"
      },
      {
        "duration": 10,
        "start_time": "2022-12-07T17:01:49.024Z"
      },
      {
        "duration": 15,
        "start_time": "2022-12-07T17:01:49.036Z"
      },
      {
        "duration": 6,
        "start_time": "2022-12-07T17:01:49.053Z"
      },
      {
        "duration": 28,
        "start_time": "2022-12-07T17:01:49.061Z"
      },
      {
        "duration": 15,
        "start_time": "2022-12-07T17:01:49.091Z"
      },
      {
        "duration": 130,
        "start_time": "2022-12-07T17:01:49.108Z"
      },
      {
        "duration": 7,
        "start_time": "2022-12-07T17:01:49.240Z"
      },
      {
        "duration": 95,
        "start_time": "2022-12-07T17:01:49.249Z"
      },
      {
        "duration": 89,
        "start_time": "2022-12-07T17:01:49.346Z"
      },
      {
        "duration": 3,
        "start_time": "2022-12-07T17:01:49.436Z"
      },
      {
        "duration": 338,
        "start_time": "2022-12-07T17:01:49.441Z"
      },
      {
        "duration": 42,
        "start_time": "2022-12-07T17:01:49.780Z"
      },
      {
        "duration": 177,
        "start_time": "2022-12-07T17:01:49.823Z"
      },
      {
        "duration": 175,
        "start_time": "2022-12-07T17:01:50.004Z"
      },
      {
        "duration": 251,
        "start_time": "2022-12-07T17:01:50.180Z"
      },
      {
        "duration": 196,
        "start_time": "2022-12-07T17:01:50.433Z"
      },
      {
        "duration": 139,
        "start_time": "2022-12-07T17:01:50.631Z"
      },
      {
        "duration": 176,
        "start_time": "2022-12-07T17:01:50.772Z"
      },
      {
        "duration": 606,
        "start_time": "2022-12-07T17:26:37.360Z"
      },
      {
        "duration": 14,
        "start_time": "2022-12-07T17:26:37.967Z"
      },
      {
        "duration": 2192,
        "start_time": "2022-12-07T17:26:37.982Z"
      },
      {
        "duration": 11,
        "start_time": "2022-12-07T17:26:40.176Z"
      },
      {
        "duration": 30,
        "start_time": "2022-12-07T17:26:40.189Z"
      },
      {
        "duration": 12,
        "start_time": "2022-12-07T17:26:40.221Z"
      },
      {
        "duration": 42,
        "start_time": "2022-12-07T17:26:40.235Z"
      },
      {
        "duration": 5,
        "start_time": "2022-12-07T17:26:40.279Z"
      },
      {
        "duration": 132,
        "start_time": "2022-12-07T17:26:40.286Z"
      },
      {
        "duration": 8,
        "start_time": "2022-12-07T17:26:40.422Z"
      },
      {
        "duration": 100,
        "start_time": "2022-12-07T17:26:40.431Z"
      },
      {
        "duration": 82,
        "start_time": "2022-12-07T17:26:40.533Z"
      },
      {
        "duration": 4,
        "start_time": "2022-12-07T17:26:40.617Z"
      },
      {
        "duration": 340,
        "start_time": "2022-12-07T17:26:40.623Z"
      },
      {
        "duration": 27,
        "start_time": "2022-12-07T17:26:40.965Z"
      },
      {
        "duration": 184,
        "start_time": "2022-12-07T17:26:41.005Z"
      },
      {
        "duration": 177,
        "start_time": "2022-12-07T17:26:41.191Z"
      },
      {
        "duration": 267,
        "start_time": "2022-12-07T17:26:41.370Z"
      },
      {
        "duration": 206,
        "start_time": "2022-12-07T17:26:41.639Z"
      },
      {
        "duration": 140,
        "start_time": "2022-12-07T17:26:41.846Z"
      },
      {
        "duration": 183,
        "start_time": "2022-12-07T17:26:41.987Z"
      },
      {
        "duration": 53,
        "start_time": "2022-12-07T17:44:03.571Z"
      },
      {
        "duration": 589,
        "start_time": "2022-12-07T17:44:09.511Z"
      },
      {
        "duration": 16,
        "start_time": "2022-12-07T17:44:10.102Z"
      },
      {
        "duration": 2294,
        "start_time": "2022-12-07T17:44:10.119Z"
      },
      {
        "duration": 10,
        "start_time": "2022-12-07T17:44:12.415Z"
      },
      {
        "duration": 22,
        "start_time": "2022-12-07T17:44:12.427Z"
      },
      {
        "duration": 5,
        "start_time": "2022-12-07T17:44:12.451Z"
      },
      {
        "duration": 28,
        "start_time": "2022-12-07T17:44:12.458Z"
      },
      {
        "duration": 7,
        "start_time": "2022-12-07T17:44:12.504Z"
      },
      {
        "duration": 148,
        "start_time": "2022-12-07T17:44:12.513Z"
      },
      {
        "duration": 8,
        "start_time": "2022-12-07T17:44:12.663Z"
      },
      {
        "duration": 99,
        "start_time": "2022-12-07T17:44:12.673Z"
      },
      {
        "duration": 92,
        "start_time": "2022-12-07T17:44:12.773Z"
      },
      {
        "duration": 5,
        "start_time": "2022-12-07T17:44:12.867Z"
      },
      {
        "duration": 424,
        "start_time": "2022-12-07T17:44:12.875Z"
      },
      {
        "duration": 28,
        "start_time": "2022-12-07T17:44:13.300Z"
      },
      {
        "duration": 192,
        "start_time": "2022-12-07T17:44:13.330Z"
      },
      {
        "duration": 211,
        "start_time": "2022-12-07T17:44:13.524Z"
      },
      {
        "duration": 269,
        "start_time": "2022-12-07T17:44:13.737Z"
      },
      {
        "duration": 227,
        "start_time": "2022-12-07T17:44:14.008Z"
      },
      {
        "duration": 148,
        "start_time": "2022-12-07T17:44:14.237Z"
      },
      {
        "duration": 174,
        "start_time": "2022-12-07T17:44:14.386Z"
      },
      {
        "duration": 301661,
        "start_time": "2022-12-07T17:44:14.561Z"
      },
      {
        "duration": 50,
        "start_time": "2022-12-07T18:43:34.276Z"
      },
      {
        "duration": 555,
        "start_time": "2022-12-07T18:43:41.259Z"
      },
      {
        "duration": 15,
        "start_time": "2022-12-07T18:43:41.815Z"
      },
      {
        "duration": 2166,
        "start_time": "2022-12-07T18:43:41.831Z"
      },
      {
        "duration": 12,
        "start_time": "2022-12-07T18:43:43.999Z"
      },
      {
        "duration": 12,
        "start_time": "2022-12-07T18:43:44.012Z"
      },
      {
        "duration": 5,
        "start_time": "2022-12-07T18:43:44.025Z"
      },
      {
        "duration": 27,
        "start_time": "2022-12-07T18:43:44.031Z"
      },
      {
        "duration": 6,
        "start_time": "2022-12-07T18:43:44.060Z"
      },
      {
        "duration": 158,
        "start_time": "2022-12-07T18:43:44.067Z"
      },
      {
        "duration": 8,
        "start_time": "2022-12-07T18:43:44.227Z"
      },
      {
        "duration": 96,
        "start_time": "2022-12-07T18:43:44.236Z"
      },
      {
        "duration": 88,
        "start_time": "2022-12-07T18:43:44.334Z"
      },
      {
        "duration": 5,
        "start_time": "2022-12-07T18:43:44.424Z"
      },
      {
        "duration": 355,
        "start_time": "2022-12-07T18:43:44.430Z"
      },
      {
        "duration": 29,
        "start_time": "2022-12-07T18:43:44.787Z"
      },
      {
        "duration": 193,
        "start_time": "2022-12-07T18:43:44.818Z"
      },
      {
        "duration": 181,
        "start_time": "2022-12-07T18:43:45.013Z"
      },
      {
        "duration": 252,
        "start_time": "2022-12-07T18:43:45.196Z"
      },
      {
        "duration": 209,
        "start_time": "2022-12-07T18:43:45.450Z"
      },
      {
        "duration": 143,
        "start_time": "2022-12-07T18:43:45.661Z"
      },
      {
        "duration": 166,
        "start_time": "2022-12-07T18:43:45.806Z"
      },
      {
        "duration": 34,
        "start_time": "2022-12-07T18:43:45.973Z"
      },
      {
        "duration": 172,
        "start_time": "2022-12-07T18:44:12.772Z"
      },
      {
        "duration": 209,
        "start_time": "2022-12-07T18:44:19.740Z"
      },
      {
        "duration": 243,
        "start_time": "2022-12-07T18:44:24.305Z"
      },
      {
        "duration": 595,
        "start_time": "2022-12-08T22:35:30.471Z"
      },
      {
        "duration": 24,
        "start_time": "2022-12-08T22:35:31.068Z"
      },
      {
        "duration": 2518,
        "start_time": "2022-12-08T22:35:31.094Z"
      },
      {
        "duration": 12,
        "start_time": "2022-12-08T22:35:33.615Z"
      },
      {
        "duration": 23,
        "start_time": "2022-12-08T22:35:33.628Z"
      },
      {
        "duration": 10,
        "start_time": "2022-12-08T22:35:33.653Z"
      },
      {
        "duration": 41,
        "start_time": "2022-12-08T22:35:33.665Z"
      },
      {
        "duration": 20,
        "start_time": "2022-12-08T22:35:33.708Z"
      },
      {
        "duration": 140,
        "start_time": "2022-12-08T22:35:33.730Z"
      },
      {
        "duration": 8,
        "start_time": "2022-12-08T22:35:33.873Z"
      },
      {
        "duration": 136,
        "start_time": "2022-12-08T22:35:33.883Z"
      },
      {
        "duration": 129,
        "start_time": "2022-12-08T22:35:34.022Z"
      },
      {
        "duration": 6,
        "start_time": "2022-12-08T22:35:34.153Z"
      },
      {
        "duration": 451,
        "start_time": "2022-12-08T22:35:34.160Z"
      },
      {
        "duration": 44,
        "start_time": "2022-12-08T22:35:34.614Z"
      },
      {
        "duration": 215,
        "start_time": "2022-12-08T22:35:34.661Z"
      },
      {
        "duration": 347,
        "start_time": "2022-12-08T22:35:34.880Z"
      },
      {
        "duration": 267,
        "start_time": "2022-12-08T22:35:35.229Z"
      },
      {
        "duration": 247,
        "start_time": "2022-12-08T22:35:35.498Z"
      },
      {
        "duration": 218,
        "start_time": "2022-12-08T22:35:35.747Z"
      },
      {
        "duration": 284,
        "start_time": "2022-12-08T22:35:35.967Z"
      },
      {
        "duration": 219,
        "start_time": "2022-12-08T22:45:36.283Z"
      },
      {
        "duration": 492,
        "start_time": "2022-12-08T22:46:11.742Z"
      },
      {
        "duration": 16,
        "start_time": "2022-12-08T22:46:12.236Z"
      },
      {
        "duration": 2238,
        "start_time": "2022-12-08T22:46:12.254Z"
      },
      {
        "duration": 11,
        "start_time": "2022-12-08T22:46:14.494Z"
      },
      {
        "duration": 25,
        "start_time": "2022-12-08T22:46:14.508Z"
      },
      {
        "duration": 26,
        "start_time": "2022-12-08T22:46:14.535Z"
      },
      {
        "duration": 51,
        "start_time": "2022-12-08T22:46:14.563Z"
      },
      {
        "duration": 8,
        "start_time": "2022-12-08T22:46:14.617Z"
      },
      {
        "duration": 166,
        "start_time": "2022-12-08T22:46:14.627Z"
      },
      {
        "duration": 9,
        "start_time": "2022-12-08T22:46:14.796Z"
      },
      {
        "duration": 99,
        "start_time": "2022-12-08T22:46:14.808Z"
      },
      {
        "duration": 86,
        "start_time": "2022-12-08T22:46:14.908Z"
      },
      {
        "duration": 6,
        "start_time": "2022-12-08T22:46:14.996Z"
      },
      {
        "duration": 364,
        "start_time": "2022-12-08T22:46:15.005Z"
      },
      {
        "duration": 50,
        "start_time": "2022-12-08T22:46:15.372Z"
      },
      {
        "duration": 193,
        "start_time": "2022-12-08T22:46:15.424Z"
      },
      {
        "duration": 212,
        "start_time": "2022-12-08T22:46:15.623Z"
      },
      {
        "duration": 328,
        "start_time": "2022-12-08T22:46:15.837Z"
      },
      {
        "duration": 246,
        "start_time": "2022-12-08T22:46:16.167Z"
      },
      {
        "duration": 150,
        "start_time": "2022-12-08T22:46:16.415Z"
      },
      {
        "duration": 278,
        "start_time": "2022-12-08T22:46:16.567Z"
      },
      {
        "duration": 88,
        "start_time": "2022-12-08T23:01:05.802Z"
      },
      {
        "duration": 8,
        "start_time": "2022-12-08T23:01:17.915Z"
      },
      {
        "duration": 258,
        "start_time": "2022-12-08T23:02:05.788Z"
      },
      {
        "duration": 8,
        "start_time": "2022-12-08T23:02:37.599Z"
      },
      {
        "duration": 219,
        "start_time": "2022-12-08T23:02:43.565Z"
      },
      {
        "duration": 8,
        "start_time": "2022-12-08T23:03:18.411Z"
      },
      {
        "duration": 27,
        "start_time": "2022-12-08T23:03:25.817Z"
      },
      {
        "duration": 203,
        "start_time": "2022-12-08T23:04:12.551Z"
      },
      {
        "duration": 197,
        "start_time": "2022-12-08T23:04:22.682Z"
      },
      {
        "duration": 248,
        "start_time": "2022-12-08T23:05:39.240Z"
      },
      {
        "duration": 229,
        "start_time": "2022-12-08T23:06:01.398Z"
      },
      {
        "duration": 195,
        "start_time": "2022-12-08T23:06:15.870Z"
      },
      {
        "duration": 273,
        "start_time": "2022-12-08T23:06:32.384Z"
      },
      {
        "duration": 165,
        "start_time": "2022-12-08T23:06:37.474Z"
      },
      {
        "duration": 180,
        "start_time": "2022-12-08T23:06:48.188Z"
      },
      {
        "duration": 197,
        "start_time": "2022-12-08T23:06:58.869Z"
      },
      {
        "duration": 174,
        "start_time": "2022-12-08T23:07:09.382Z"
      },
      {
        "duration": 15,
        "start_time": "2022-12-08T23:07:30.323Z"
      },
      {
        "duration": 166,
        "start_time": "2022-12-08T23:07:43.584Z"
      },
      {
        "duration": 172,
        "start_time": "2022-12-08T23:08:08.440Z"
      },
      {
        "duration": 324,
        "start_time": "2022-12-08T23:08:16.460Z"
      },
      {
        "duration": 166,
        "start_time": "2022-12-08T23:08:20.002Z"
      },
      {
        "duration": 159,
        "start_time": "2022-12-08T23:08:54.455Z"
      },
      {
        "duration": 186,
        "start_time": "2022-12-08T23:09:01.284Z"
      },
      {
        "duration": 172,
        "start_time": "2022-12-08T23:09:06.721Z"
      },
      {
        "duration": 197,
        "start_time": "2022-12-08T23:09:17.425Z"
      },
      {
        "duration": 222,
        "start_time": "2022-12-08T23:09:24.931Z"
      },
      {
        "duration": 209,
        "start_time": "2022-12-08T23:09:32.293Z"
      },
      {
        "duration": 147,
        "start_time": "2022-12-08T23:09:38.129Z"
      },
      {
        "duration": 8,
        "start_time": "2022-12-08T23:09:58.238Z"
      },
      {
        "duration": 242,
        "start_time": "2022-12-08T23:11:00.504Z"
      },
      {
        "duration": 279,
        "start_time": "2022-12-08T23:11:05.613Z"
      },
      {
        "duration": 9,
        "start_time": "2022-12-08T23:11:39.063Z"
      },
      {
        "duration": 203,
        "start_time": "2022-12-08T23:12:17.545Z"
      },
      {
        "duration": 143,
        "start_time": "2022-12-08T23:12:22.640Z"
      },
      {
        "duration": 139,
        "start_time": "2022-12-08T23:12:31.184Z"
      },
      {
        "duration": 285,
        "start_time": "2022-12-08T23:12:36.664Z"
      },
      {
        "duration": 223,
        "start_time": "2022-12-08T23:12:43.088Z"
      },
      {
        "duration": 142,
        "start_time": "2022-12-08T23:12:48.613Z"
      },
      {
        "duration": 221,
        "start_time": "2022-12-08T23:23:25.685Z"
      },
      {
        "duration": 200,
        "start_time": "2022-12-08T23:23:36.457Z"
      },
      {
        "duration": 84,
        "start_time": "2022-12-08T23:28:33.618Z"
      },
      {
        "duration": 12,
        "start_time": "2022-12-08T23:29:39.908Z"
      },
      {
        "duration": 183,
        "start_time": "2022-12-08T23:29:49.605Z"
      },
      {
        "duration": 10,
        "start_time": "2022-12-08T23:31:32.670Z"
      },
      {
        "duration": 246,
        "start_time": "2022-12-08T23:32:27.093Z"
      },
      {
        "duration": 191,
        "start_time": "2022-12-08T23:33:00.302Z"
      },
      {
        "duration": 238,
        "start_time": "2022-12-08T23:33:09.047Z"
      },
      {
        "duration": 7,
        "start_time": "2022-12-08T23:35:25.063Z"
      },
      {
        "duration": 161,
        "start_time": "2022-12-08T23:36:23.074Z"
      },
      {
        "duration": 180,
        "start_time": "2022-12-08T23:37:21.423Z"
      },
      {
        "duration": 7,
        "start_time": "2022-12-08T23:39:00.615Z"
      },
      {
        "duration": 8,
        "start_time": "2022-12-08T23:39:03.744Z"
      },
      {
        "duration": 8,
        "start_time": "2022-12-08T23:39:06.642Z"
      },
      {
        "duration": 549,
        "start_time": "2022-12-08T23:39:15.018Z"
      },
      {
        "duration": 15,
        "start_time": "2022-12-08T23:39:15.569Z"
      },
      {
        "duration": 2374,
        "start_time": "2022-12-08T23:39:15.586Z"
      },
      {
        "duration": 10,
        "start_time": "2022-12-08T23:39:17.961Z"
      },
      {
        "duration": 21,
        "start_time": "2022-12-08T23:39:17.973Z"
      },
      {
        "duration": 15,
        "start_time": "2022-12-08T23:39:17.996Z"
      },
      {
        "duration": 39,
        "start_time": "2022-12-08T23:39:18.013Z"
      },
      {
        "duration": 7,
        "start_time": "2022-12-08T23:39:18.053Z"
      },
      {
        "duration": 193,
        "start_time": "2022-12-08T23:39:18.062Z"
      },
      {
        "duration": 8,
        "start_time": "2022-12-08T23:39:18.257Z"
      },
      {
        "duration": 103,
        "start_time": "2022-12-08T23:39:18.267Z"
      },
      {
        "duration": 98,
        "start_time": "2022-12-08T23:39:18.372Z"
      },
      {
        "duration": 4,
        "start_time": "2022-12-08T23:39:18.471Z"
      },
      {
        "duration": 385,
        "start_time": "2022-12-08T23:39:18.477Z"
      },
      {
        "duration": 26,
        "start_time": "2022-12-08T23:39:18.863Z"
      },
      {
        "duration": 7,
        "start_time": "2022-12-08T23:39:18.891Z"
      },
      {
        "duration": 251,
        "start_time": "2022-12-08T23:39:18.899Z"
      },
      {
        "duration": 13,
        "start_time": "2022-12-08T23:39:19.155Z"
      },
      {
        "duration": 238,
        "start_time": "2022-12-08T23:39:19.170Z"
      },
      {
        "duration": 13,
        "start_time": "2022-12-08T23:39:19.410Z"
      },
      {
        "duration": 275,
        "start_time": "2022-12-08T23:39:19.425Z"
      },
      {
        "duration": 24,
        "start_time": "2022-12-08T23:39:19.702Z"
      },
      {
        "duration": 259,
        "start_time": "2022-12-08T23:39:19.737Z"
      },
      {
        "duration": 7,
        "start_time": "2022-12-08T23:39:19.997Z"
      },
      {
        "duration": 171,
        "start_time": "2022-12-08T23:39:20.005Z"
      },
      {
        "duration": 6,
        "start_time": "2022-12-08T23:39:20.178Z"
      },
      {
        "duration": 179,
        "start_time": "2022-12-08T23:39:20.186Z"
      },
      {
        "duration": 8,
        "start_time": "2022-12-08T23:39:20.367Z"
      },
      {
        "duration": 180,
        "start_time": "2022-12-08T23:39:20.377Z"
      },
      {
        "duration": 7,
        "start_time": "2022-12-08T23:39:20.559Z"
      },
      {
        "duration": 8,
        "start_time": "2022-12-08T23:39:20.567Z"
      },
      {
        "duration": 194,
        "start_time": "2022-12-08T23:39:20.577Z"
      },
      {
        "duration": 7,
        "start_time": "2022-12-08T23:39:20.773Z"
      },
      {
        "duration": 7,
        "start_time": "2022-12-08T23:40:17.705Z"
      },
      {
        "duration": 183,
        "start_time": "2022-12-08T23:41:04.351Z"
      },
      {
        "duration": 166,
        "start_time": "2022-12-08T23:41:23.102Z"
      },
      {
        "duration": 212,
        "start_time": "2022-12-08T23:41:28.494Z"
      },
      {
        "duration": 158,
        "start_time": "2022-12-08T23:41:33.430Z"
      },
      {
        "duration": 597,
        "start_time": "2022-12-08T23:42:53.850Z"
      },
      {
        "duration": 14,
        "start_time": "2022-12-08T23:42:54.449Z"
      },
      {
        "duration": 2299,
        "start_time": "2022-12-08T23:42:54.465Z"
      },
      {
        "duration": 9,
        "start_time": "2022-12-08T23:42:56.766Z"
      },
      {
        "duration": 12,
        "start_time": "2022-12-08T23:42:56.778Z"
      },
      {
        "duration": 5,
        "start_time": "2022-12-08T23:42:56.791Z"
      },
      {
        "duration": 25,
        "start_time": "2022-12-08T23:42:56.798Z"
      },
      {
        "duration": 9,
        "start_time": "2022-12-08T23:42:56.825Z"
      },
      {
        "duration": 164,
        "start_time": "2022-12-08T23:42:56.836Z"
      },
      {
        "duration": 8,
        "start_time": "2022-12-08T23:42:57.001Z"
      },
      {
        "duration": 98,
        "start_time": "2022-12-08T23:42:57.011Z"
      },
      {
        "duration": 112,
        "start_time": "2022-12-08T23:42:57.111Z"
      },
      {
        "duration": 6,
        "start_time": "2022-12-08T23:42:57.225Z"
      },
      {
        "duration": 372,
        "start_time": "2022-12-08T23:42:57.236Z"
      },
      {
        "duration": 43,
        "start_time": "2022-12-08T23:42:57.610Z"
      },
      {
        "duration": 8,
        "start_time": "2022-12-08T23:42:57.655Z"
      },
      {
        "duration": 228,
        "start_time": "2022-12-08T23:42:57.666Z"
      },
      {
        "duration": 8,
        "start_time": "2022-12-08T23:42:57.895Z"
      },
      {
        "duration": 195,
        "start_time": "2022-12-08T23:42:57.904Z"
      },
      {
        "duration": 6,
        "start_time": "2022-12-08T23:42:58.101Z"
      },
      {
        "duration": 255,
        "start_time": "2022-12-08T23:42:58.109Z"
      },
      {
        "duration": 7,
        "start_time": "2022-12-08T23:42:58.366Z"
      },
      {
        "duration": 237,
        "start_time": "2022-12-08T23:42:58.374Z"
      },
      {
        "duration": 19,
        "start_time": "2022-12-08T23:42:58.613Z"
      },
      {
        "duration": 177,
        "start_time": "2022-12-08T23:42:58.634Z"
      },
      {
        "duration": 18,
        "start_time": "2022-12-08T23:42:58.813Z"
      },
      {
        "duration": 165,
        "start_time": "2022-12-08T23:42:58.833Z"
      },
      {
        "duration": 6,
        "start_time": "2022-12-08T23:42:59.000Z"
      },
      {
        "duration": 172,
        "start_time": "2022-12-08T23:42:59.008Z"
      },
      {
        "duration": 7,
        "start_time": "2022-12-08T23:42:59.181Z"
      },
      {
        "duration": 9,
        "start_time": "2022-12-08T23:42:59.190Z"
      },
      {
        "duration": 184,
        "start_time": "2022-12-08T23:42:59.201Z"
      },
      {
        "duration": 7,
        "start_time": "2022-12-08T23:42:59.386Z"
      },
      {
        "duration": 194,
        "start_time": "2022-12-08T23:42:59.394Z"
      },
      {
        "duration": 162,
        "start_time": "2022-12-08T23:45:18.776Z"
      },
      {
        "duration": 185,
        "start_time": "2022-12-08T23:45:29.398Z"
      },
      {
        "duration": 179,
        "start_time": "2022-12-08T23:45:36.319Z"
      },
      {
        "duration": 301,
        "start_time": "2022-12-08T23:45:59.614Z"
      },
      {
        "duration": 169,
        "start_time": "2022-12-08T23:46:04.651Z"
      },
      {
        "duration": 185,
        "start_time": "2022-12-08T23:46:09.648Z"
      },
      {
        "duration": 7,
        "start_time": "2022-12-08T23:46:29.667Z"
      },
      {
        "duration": 195,
        "start_time": "2022-12-08T23:47:22.664Z"
      },
      {
        "duration": 7,
        "start_time": "2022-12-08T23:48:36.451Z"
      },
      {
        "duration": 200,
        "start_time": "2022-12-08T23:49:37.854Z"
      },
      {
        "duration": 257,
        "start_time": "2022-12-08T23:49:42.948Z"
      },
      {
        "duration": 248,
        "start_time": "2022-12-08T23:49:47.881Z"
      },
      {
        "duration": 388,
        "start_time": "2022-12-08T23:49:57.545Z"
      },
      {
        "duration": 233,
        "start_time": "2022-12-08T23:50:05.582Z"
      },
      {
        "duration": 226,
        "start_time": "2022-12-08T23:55:40.714Z"
      },
      {
        "duration": 224,
        "start_time": "2022-12-08T23:56:16.627Z"
      },
      {
        "duration": 179,
        "start_time": "2022-12-08T23:57:32.579Z"
      },
      {
        "duration": 7,
        "start_time": "2022-12-08T23:59:11.305Z"
      },
      {
        "duration": 158,
        "start_time": "2022-12-08T23:59:26.517Z"
      },
      {
        "duration": 469,
        "start_time": "2022-12-09T00:03:11.275Z"
      },
      {
        "duration": 17,
        "start_time": "2022-12-09T00:03:11.746Z"
      },
      {
        "duration": 2131,
        "start_time": "2022-12-09T00:03:11.764Z"
      },
      {
        "duration": 10,
        "start_time": "2022-12-09T00:03:13.897Z"
      },
      {
        "duration": 11,
        "start_time": "2022-12-09T00:03:13.909Z"
      },
      {
        "duration": 8,
        "start_time": "2022-12-09T00:03:13.921Z"
      },
      {
        "duration": 37,
        "start_time": "2022-12-09T00:03:13.932Z"
      },
      {
        "duration": 6,
        "start_time": "2022-12-09T00:03:13.970Z"
      },
      {
        "duration": 167,
        "start_time": "2022-12-09T00:03:13.977Z"
      },
      {
        "duration": 9,
        "start_time": "2022-12-09T00:03:14.147Z"
      },
      {
        "duration": 111,
        "start_time": "2022-12-09T00:03:14.157Z"
      },
      {
        "duration": 89,
        "start_time": "2022-12-09T00:03:14.269Z"
      },
      {
        "duration": 3,
        "start_time": "2022-12-09T00:03:14.360Z"
      },
      {
        "duration": 345,
        "start_time": "2022-12-09T00:03:14.366Z"
      },
      {
        "duration": 41,
        "start_time": "2022-12-09T00:03:14.713Z"
      },
      {
        "duration": 9,
        "start_time": "2022-12-09T00:03:14.755Z"
      },
      {
        "duration": 188,
        "start_time": "2022-12-09T00:03:14.765Z"
      },
      {
        "duration": 7,
        "start_time": "2022-12-09T00:03:14.955Z"
      },
      {
        "duration": 164,
        "start_time": "2022-12-09T00:03:14.964Z"
      },
      {
        "duration": 9,
        "start_time": "2022-12-09T00:03:15.129Z"
      },
      {
        "duration": 246,
        "start_time": "2022-12-09T00:03:15.140Z"
      },
      {
        "duration": 6,
        "start_time": "2022-12-09T00:03:15.388Z"
      },
      {
        "duration": 223,
        "start_time": "2022-12-09T00:03:15.396Z"
      },
      {
        "duration": 8,
        "start_time": "2022-12-09T00:03:15.621Z"
      },
      {
        "duration": 152,
        "start_time": "2022-12-09T00:03:15.631Z"
      },
      {
        "duration": 7,
        "start_time": "2022-12-09T00:03:15.784Z"
      },
      {
        "duration": 166,
        "start_time": "2022-12-09T00:03:15.792Z"
      },
      {
        "duration": 6,
        "start_time": "2022-12-09T00:03:15.960Z"
      },
      {
        "duration": 163,
        "start_time": "2022-12-09T00:03:15.968Z"
      },
      {
        "duration": 10,
        "start_time": "2022-12-09T00:03:16.133Z"
      },
      {
        "duration": 14,
        "start_time": "2022-12-09T00:03:16.144Z"
      },
      {
        "duration": 163,
        "start_time": "2022-12-09T00:03:16.159Z"
      },
      {
        "duration": 11,
        "start_time": "2022-12-09T00:03:16.324Z"
      },
      {
        "duration": 207,
        "start_time": "2022-12-09T00:03:16.337Z"
      },
      {
        "duration": 8,
        "start_time": "2022-12-09T00:03:16.546Z"
      },
      {
        "duration": 212,
        "start_time": "2022-12-09T00:03:16.556Z"
      },
      {
        "duration": 6,
        "start_time": "2022-12-09T00:03:16.770Z"
      },
      {
        "duration": 235,
        "start_time": "2022-12-09T00:03:16.777Z"
      },
      {
        "duration": 8,
        "start_time": "2022-12-09T00:03:48.326Z"
      },
      {
        "duration": 84,
        "start_time": "2022-12-09T00:04:23.868Z"
      },
      {
        "duration": 7,
        "start_time": "2022-12-09T00:06:19.981Z"
      },
      {
        "duration": 233,
        "start_time": "2022-12-09T00:07:08.429Z"
      },
      {
        "duration": 173,
        "start_time": "2022-12-09T00:07:37.743Z"
      },
      {
        "duration": 133,
        "start_time": "2022-12-09T00:08:10.328Z"
      },
      {
        "duration": 160,
        "start_time": "2022-12-09T00:08:24.902Z"
      },
      {
        "duration": 146,
        "start_time": "2022-12-09T00:08:32.070Z"
      },
      {
        "duration": 23,
        "start_time": "2022-12-09T00:11:36.547Z"
      },
      {
        "duration": 6,
        "start_time": "2022-12-09T00:11:42.877Z"
      },
      {
        "duration": 9,
        "start_time": "2022-12-09T00:12:56.196Z"
      },
      {
        "duration": 5,
        "start_time": "2022-12-09T00:14:09.464Z"
      },
      {
        "duration": 4,
        "start_time": "2022-12-09T00:14:12.310Z"
      },
      {
        "duration": 8,
        "start_time": "2022-12-09T00:14:17.857Z"
      },
      {
        "duration": 114,
        "start_time": "2022-12-09T00:17:47.895Z"
      },
      {
        "duration": 127,
        "start_time": "2022-12-09T00:17:59.315Z"
      },
      {
        "duration": 78,
        "start_time": "2022-12-09T00:18:37.500Z"
      },
      {
        "duration": 4,
        "start_time": "2022-12-09T00:19:02.592Z"
      },
      {
        "duration": 116,
        "start_time": "2022-12-09T00:20:00.476Z"
      },
      {
        "duration": 110,
        "start_time": "2022-12-09T00:20:10.604Z"
      },
      {
        "duration": 95,
        "start_time": "2022-12-09T00:20:24.380Z"
      },
      {
        "duration": 5,
        "start_time": "2022-12-09T00:22:45.946Z"
      },
      {
        "duration": 7,
        "start_time": "2022-12-09T00:24:21.729Z"
      },
      {
        "duration": 224,
        "start_time": "2022-12-09T00:25:03.320Z"
      },
      {
        "duration": 166,
        "start_time": "2022-12-09T00:25:10.886Z"
      },
      {
        "duration": 196,
        "start_time": "2022-12-09T00:25:16.734Z"
      },
      {
        "duration": 324,
        "start_time": "2022-12-09T00:25:49.412Z"
      },
      {
        "duration": 4,
        "start_time": "2022-12-09T00:26:13.526Z"
      },
      {
        "duration": 6,
        "start_time": "2022-12-09T00:26:24.164Z"
      },
      {
        "duration": 7,
        "start_time": "2022-12-09T00:27:13.455Z"
      },
      {
        "duration": 5,
        "start_time": "2022-12-09T00:27:41.179Z"
      },
      {
        "duration": 159,
        "start_time": "2022-12-09T00:28:36.707Z"
      },
      {
        "duration": 162,
        "start_time": "2022-12-09T00:28:43.656Z"
      },
      {
        "duration": 7,
        "start_time": "2022-12-09T00:31:35.571Z"
      },
      {
        "duration": 180,
        "start_time": "2022-12-09T00:31:45.478Z"
      },
      {
        "duration": 164,
        "start_time": "2022-12-09T00:31:49.973Z"
      },
      {
        "duration": 223,
        "start_time": "2022-12-09T00:37:59.928Z"
      },
      {
        "duration": 5,
        "start_time": "2022-12-09T00:38:42.171Z"
      },
      {
        "duration": 646,
        "start_time": "2022-12-09T11:47:33.601Z"
      },
      {
        "duration": 15,
        "start_time": "2022-12-09T11:47:34.248Z"
      },
      {
        "duration": 2421,
        "start_time": "2022-12-09T11:47:34.264Z"
      },
      {
        "duration": 10,
        "start_time": "2022-12-09T11:47:36.687Z"
      },
      {
        "duration": 14,
        "start_time": "2022-12-09T11:47:36.699Z"
      },
      {
        "duration": 6,
        "start_time": "2022-12-09T11:47:36.714Z"
      },
      {
        "duration": 27,
        "start_time": "2022-12-09T11:47:36.721Z"
      },
      {
        "duration": 6,
        "start_time": "2022-12-09T11:47:36.750Z"
      },
      {
        "duration": 178,
        "start_time": "2022-12-09T11:47:36.758Z"
      },
      {
        "duration": 8,
        "start_time": "2022-12-09T11:47:36.938Z"
      },
      {
        "duration": 103,
        "start_time": "2022-12-09T11:47:36.948Z"
      },
      {
        "duration": 93,
        "start_time": "2022-12-09T11:47:37.052Z"
      },
      {
        "duration": 4,
        "start_time": "2022-12-09T11:47:37.146Z"
      },
      {
        "duration": 440,
        "start_time": "2022-12-09T11:47:37.153Z"
      },
      {
        "duration": 35,
        "start_time": "2022-12-09T11:47:37.594Z"
      },
      {
        "duration": 6,
        "start_time": "2022-12-09T11:47:37.630Z"
      },
      {
        "duration": 202,
        "start_time": "2022-12-09T11:47:37.638Z"
      },
      {
        "duration": 6,
        "start_time": "2022-12-09T11:47:37.842Z"
      },
      {
        "duration": 243,
        "start_time": "2022-12-09T11:47:37.850Z"
      },
      {
        "duration": 11,
        "start_time": "2022-12-09T11:47:38.094Z"
      },
      {
        "duration": 177,
        "start_time": "2022-12-09T11:47:38.107Z"
      },
      {
        "duration": 6,
        "start_time": "2022-12-09T11:47:38.286Z"
      },
      {
        "duration": 219,
        "start_time": "2022-12-09T11:47:38.294Z"
      },
      {
        "duration": 6,
        "start_time": "2022-12-09T11:47:38.515Z"
      },
      {
        "duration": 157,
        "start_time": "2022-12-09T11:47:38.523Z"
      },
      {
        "duration": 7,
        "start_time": "2022-12-09T11:47:38.682Z"
      },
      {
        "duration": 157,
        "start_time": "2022-12-09T11:47:38.690Z"
      },
      {
        "duration": 7,
        "start_time": "2022-12-09T11:47:38.849Z"
      },
      {
        "duration": 157,
        "start_time": "2022-12-09T11:47:38.857Z"
      },
      {
        "duration": 5,
        "start_time": "2022-12-09T11:47:39.015Z"
      },
      {
        "duration": 108,
        "start_time": "2022-12-09T11:47:39.022Z"
      },
      {
        "duration": 6,
        "start_time": "2022-12-09T11:47:39.132Z"
      },
      {
        "duration": 165,
        "start_time": "2022-12-09T11:47:39.139Z"
      },
      {
        "duration": 6,
        "start_time": "2022-12-09T11:47:39.306Z"
      },
      {
        "duration": 182,
        "start_time": "2022-12-09T11:47:39.314Z"
      },
      {
        "duration": 11,
        "start_time": "2022-12-09T11:47:39.497Z"
      },
      {
        "duration": 184,
        "start_time": "2022-12-09T11:47:39.509Z"
      },
      {
        "duration": 16,
        "start_time": "2022-12-09T11:47:39.694Z"
      },
      {
        "duration": 312,
        "start_time": "2022-12-09T11:47:39.712Z"
      },
      {
        "duration": 175,
        "start_time": "2022-12-09T11:47:40.026Z"
      },
      {
        "duration": 145,
        "start_time": "2022-12-09T11:47:40.205Z"
      },
      {
        "duration": 6,
        "start_time": "2022-12-09T11:47:40.352Z"
      },
      {
        "duration": 233,
        "start_time": "2022-12-09T11:47:40.359Z"
      },
      {
        "duration": 12,
        "start_time": "2022-12-09T11:47:40.593Z"
      },
      {
        "duration": 229,
        "start_time": "2022-12-09T11:47:40.607Z"
      },
      {
        "duration": 107,
        "start_time": "2022-12-09T11:55:47.248Z"
      },
      {
        "duration": 28,
        "start_time": "2022-12-09T11:55:55.094Z"
      },
      {
        "duration": 69,
        "start_time": "2022-12-09T12:02:06.023Z"
      },
      {
        "duration": 529,
        "start_time": "2022-12-09T12:02:18.840Z"
      },
      {
        "duration": 15,
        "start_time": "2022-12-09T12:02:19.371Z"
      },
      {
        "duration": 2265,
        "start_time": "2022-12-09T12:02:19.388Z"
      },
      {
        "duration": 10,
        "start_time": "2022-12-09T12:02:21.655Z"
      },
      {
        "duration": 13,
        "start_time": "2022-12-09T12:02:21.667Z"
      },
      {
        "duration": 5,
        "start_time": "2022-12-09T12:02:21.682Z"
      },
      {
        "duration": 37,
        "start_time": "2022-12-09T12:02:21.689Z"
      },
      {
        "duration": 6,
        "start_time": "2022-12-09T12:02:21.728Z"
      },
      {
        "duration": 164,
        "start_time": "2022-12-09T12:02:21.736Z"
      },
      {
        "duration": 9,
        "start_time": "2022-12-09T12:02:21.901Z"
      },
      {
        "duration": 84,
        "start_time": "2022-12-09T12:02:21.911Z"
      },
      {
        "duration": 81,
        "start_time": "2022-12-09T12:02:22.005Z"
      },
      {
        "duration": 18,
        "start_time": "2022-12-09T12:02:22.088Z"
      },
      {
        "duration": 354,
        "start_time": "2022-12-09T12:02:22.109Z"
      },
      {
        "duration": 27,
        "start_time": "2022-12-09T12:02:22.465Z"
      },
      {
        "duration": 7,
        "start_time": "2022-12-09T12:02:22.504Z"
      },
      {
        "duration": 185,
        "start_time": "2022-12-09T12:02:22.512Z"
      },
      {
        "duration": 7,
        "start_time": "2022-12-09T12:02:22.704Z"
      },
      {
        "duration": 180,
        "start_time": "2022-12-09T12:02:22.712Z"
      },
      {
        "duration": 11,
        "start_time": "2022-12-09T12:02:22.894Z"
      },
      {
        "duration": 245,
        "start_time": "2022-12-09T12:02:22.906Z"
      },
      {
        "duration": 8,
        "start_time": "2022-12-09T12:02:23.152Z"
      },
      {
        "duration": 216,
        "start_time": "2022-12-09T12:02:23.161Z"
      },
      {
        "duration": 7,
        "start_time": "2022-12-09T12:02:23.379Z"
      },
      {
        "duration": 164,
        "start_time": "2022-12-09T12:02:23.387Z"
      },
      {
        "duration": 8,
        "start_time": "2022-12-09T12:02:23.553Z"
      },
      {
        "duration": 157,
        "start_time": "2022-12-09T12:02:23.562Z"
      },
      {
        "duration": 7,
        "start_time": "2022-12-09T12:02:23.720Z"
      },
      {
        "duration": 160,
        "start_time": "2022-12-09T12:02:23.729Z"
      },
      {
        "duration": 6,
        "start_time": "2022-12-09T12:02:23.890Z"
      },
      {
        "duration": 107,
        "start_time": "2022-12-09T12:02:23.905Z"
      },
      {
        "duration": 8,
        "start_time": "2022-12-09T12:02:24.014Z"
      },
      {
        "duration": 173,
        "start_time": "2022-12-09T12:02:24.024Z"
      },
      {
        "duration": 12,
        "start_time": "2022-12-09T12:02:24.199Z"
      },
      {
        "duration": 191,
        "start_time": "2022-12-09T12:02:24.213Z"
      },
      {
        "duration": 8,
        "start_time": "2022-12-09T12:02:24.406Z"
      },
      {
        "duration": 199,
        "start_time": "2022-12-09T12:02:24.416Z"
      },
      {
        "duration": 7,
        "start_time": "2022-12-09T12:02:24.616Z"
      },
      {
        "duration": 308,
        "start_time": "2022-12-09T12:02:24.625Z"
      },
      {
        "duration": 165,
        "start_time": "2022-12-09T12:02:24.935Z"
      },
      {
        "duration": 157,
        "start_time": "2022-12-09T12:02:25.106Z"
      },
      {
        "duration": 7,
        "start_time": "2022-12-09T12:02:25.265Z"
      },
      {
        "duration": 238,
        "start_time": "2022-12-09T12:02:25.274Z"
      },
      {
        "duration": 4,
        "start_time": "2022-12-09T12:02:25.514Z"
      },
      {
        "duration": 237,
        "start_time": "2022-12-09T12:02:25.520Z"
      },
      {
        "duration": 71,
        "start_time": "2022-12-09T12:02:25.758Z"
      },
      {
        "duration": 74,
        "start_time": "2022-12-09T12:02:42.503Z"
      },
      {
        "duration": 20,
        "start_time": "2022-12-09T12:03:05.504Z"
      },
      {
        "duration": 505,
        "start_time": "2022-12-09T12:48:59.229Z"
      },
      {
        "duration": 14,
        "start_time": "2022-12-09T12:48:59.735Z"
      },
      {
        "duration": 2188,
        "start_time": "2022-12-09T12:48:59.750Z"
      },
      {
        "duration": 10,
        "start_time": "2022-12-09T12:49:01.940Z"
      },
      {
        "duration": 16,
        "start_time": "2022-12-09T12:49:01.952Z"
      },
      {
        "duration": 5,
        "start_time": "2022-12-09T12:49:01.969Z"
      },
      {
        "duration": 31,
        "start_time": "2022-12-09T12:49:01.975Z"
      },
      {
        "duration": 7,
        "start_time": "2022-12-09T12:49:02.007Z"
      },
      {
        "duration": 159,
        "start_time": "2022-12-09T12:49:02.015Z"
      },
      {
        "duration": 7,
        "start_time": "2022-12-09T12:49:02.176Z"
      },
      {
        "duration": 97,
        "start_time": "2022-12-09T12:49:02.184Z"
      },
      {
        "duration": 88,
        "start_time": "2022-12-09T12:49:02.282Z"
      },
      {
        "duration": 4,
        "start_time": "2022-12-09T12:49:02.371Z"
      },
      {
        "duration": 357,
        "start_time": "2022-12-09T12:49:02.378Z"
      },
      {
        "duration": 28,
        "start_time": "2022-12-09T12:49:02.737Z"
      },
      {
        "duration": 6,
        "start_time": "2022-12-09T12:49:02.767Z"
      },
      {
        "duration": 211,
        "start_time": "2022-12-09T12:49:02.774Z"
      },
      {
        "duration": 21,
        "start_time": "2022-12-09T12:49:02.987Z"
      },
      {
        "duration": 172,
        "start_time": "2022-12-09T12:49:03.009Z"
      },
      {
        "duration": 8,
        "start_time": "2022-12-09T12:49:03.183Z"
      },
      {
        "duration": 232,
        "start_time": "2022-12-09T12:49:03.192Z"
      },
      {
        "duration": 7,
        "start_time": "2022-12-09T12:49:03.426Z"
      },
      {
        "duration": 219,
        "start_time": "2022-12-09T12:49:03.434Z"
      },
      {
        "duration": 8,
        "start_time": "2022-12-09T12:49:03.655Z"
      },
      {
        "duration": 161,
        "start_time": "2022-12-09T12:49:03.665Z"
      },
      {
        "duration": 7,
        "start_time": "2022-12-09T12:49:03.828Z"
      },
      {
        "duration": 159,
        "start_time": "2022-12-09T12:49:03.837Z"
      },
      {
        "duration": 12,
        "start_time": "2022-12-09T12:49:03.998Z"
      },
      {
        "duration": 176,
        "start_time": "2022-12-09T12:49:04.011Z"
      },
      {
        "duration": 7,
        "start_time": "2022-12-09T12:49:04.189Z"
      },
      {
        "duration": 107,
        "start_time": "2022-12-09T12:49:04.198Z"
      },
      {
        "duration": 7,
        "start_time": "2022-12-09T12:49:04.306Z"
      },
      {
        "duration": 162,
        "start_time": "2022-12-09T12:49:04.314Z"
      },
      {
        "duration": 7,
        "start_time": "2022-12-09T12:49:04.478Z"
      },
      {
        "duration": 184,
        "start_time": "2022-12-09T12:49:04.487Z"
      },
      {
        "duration": 6,
        "start_time": "2022-12-09T12:49:04.673Z"
      },
      {
        "duration": 200,
        "start_time": "2022-12-09T12:49:04.681Z"
      },
      {
        "duration": 6,
        "start_time": "2022-12-09T12:49:04.883Z"
      },
      {
        "duration": 330,
        "start_time": "2022-12-09T12:49:04.891Z"
      },
      {
        "duration": 149,
        "start_time": "2022-12-09T12:49:05.222Z"
      },
      {
        "duration": 137,
        "start_time": "2022-12-09T12:49:05.375Z"
      },
      {
        "duration": 7,
        "start_time": "2022-12-09T12:49:05.513Z"
      },
      {
        "duration": 233,
        "start_time": "2022-12-09T12:49:05.521Z"
      },
      {
        "duration": 6,
        "start_time": "2022-12-09T12:49:05.756Z"
      },
      {
        "duration": 231,
        "start_time": "2022-12-09T12:49:05.764Z"
      },
      {
        "duration": 23,
        "start_time": "2022-12-09T12:49:05.996Z"
      },
      {
        "duration": 1163,
        "start_time": "2022-12-09T12:49:15.985Z"
      },
      {
        "duration": 522,
        "start_time": "2022-12-09T12:56:08.238Z"
      },
      {
        "duration": 16,
        "start_time": "2022-12-09T12:56:08.761Z"
      },
      {
        "duration": 2178,
        "start_time": "2022-12-09T12:56:08.779Z"
      },
      {
        "duration": 10,
        "start_time": "2022-12-09T12:56:10.959Z"
      },
      {
        "duration": 13,
        "start_time": "2022-12-09T12:56:10.971Z"
      },
      {
        "duration": 5,
        "start_time": "2022-12-09T12:56:10.985Z"
      },
      {
        "duration": 29,
        "start_time": "2022-12-09T12:56:10.991Z"
      },
      {
        "duration": 6,
        "start_time": "2022-12-09T12:56:11.022Z"
      },
      {
        "duration": 160,
        "start_time": "2022-12-09T12:56:11.029Z"
      },
      {
        "duration": 7,
        "start_time": "2022-12-09T12:56:11.191Z"
      },
      {
        "duration": 85,
        "start_time": "2022-12-09T12:56:11.205Z"
      },
      {
        "duration": 93,
        "start_time": "2022-12-09T12:56:11.292Z"
      },
      {
        "duration": 4,
        "start_time": "2022-12-09T12:56:11.386Z"
      },
      {
        "duration": 334,
        "start_time": "2022-12-09T12:56:11.404Z"
      },
      {
        "duration": 28,
        "start_time": "2022-12-09T12:56:11.739Z"
      },
      {
        "duration": 7,
        "start_time": "2022-12-09T12:56:11.768Z"
      },
      {
        "duration": 207,
        "start_time": "2022-12-09T12:56:11.776Z"
      },
      {
        "duration": 19,
        "start_time": "2022-12-09T12:56:11.985Z"
      },
      {
        "duration": 177,
        "start_time": "2022-12-09T12:56:12.006Z"
      },
      {
        "duration": 7,
        "start_time": "2022-12-09T12:56:12.185Z"
      },
      {
        "duration": 254,
        "start_time": "2022-12-09T12:56:12.194Z"
      },
      {
        "duration": 7,
        "start_time": "2022-12-09T12:56:12.450Z"
      },
      {
        "duration": 219,
        "start_time": "2022-12-09T12:56:12.458Z"
      },
      {
        "duration": 6,
        "start_time": "2022-12-09T12:56:12.679Z"
      },
      {
        "duration": 167,
        "start_time": "2022-12-09T12:56:12.687Z"
      },
      {
        "duration": 7,
        "start_time": "2022-12-09T12:56:12.856Z"
      },
      {
        "duration": 158,
        "start_time": "2022-12-09T12:56:12.864Z"
      },
      {
        "duration": 6,
        "start_time": "2022-12-09T12:56:13.024Z"
      },
      {
        "duration": 166,
        "start_time": "2022-12-09T12:56:13.032Z"
      },
      {
        "duration": 5,
        "start_time": "2022-12-09T12:56:13.204Z"
      },
      {
        "duration": 112,
        "start_time": "2022-12-09T12:56:13.211Z"
      },
      {
        "duration": 8,
        "start_time": "2022-12-09T12:56:13.325Z"
      },
      {
        "duration": 176,
        "start_time": "2022-12-09T12:56:13.335Z"
      },
      {
        "duration": 7,
        "start_time": "2022-12-09T12:56:13.513Z"
      },
      {
        "duration": 179,
        "start_time": "2022-12-09T12:56:13.521Z"
      },
      {
        "duration": 8,
        "start_time": "2022-12-09T12:56:13.701Z"
      },
      {
        "duration": 198,
        "start_time": "2022-12-09T12:56:13.710Z"
      },
      {
        "duration": 20,
        "start_time": "2022-12-09T12:56:13.909Z"
      },
      {
        "duration": 337,
        "start_time": "2022-12-09T12:56:13.931Z"
      },
      {
        "duration": 161,
        "start_time": "2022-12-09T12:56:14.270Z"
      },
      {
        "duration": 149,
        "start_time": "2022-12-09T12:56:14.434Z"
      },
      {
        "duration": 7,
        "start_time": "2022-12-09T12:56:14.584Z"
      },
      {
        "duration": 230,
        "start_time": "2022-12-09T12:56:14.592Z"
      },
      {
        "duration": 4,
        "start_time": "2022-12-09T12:56:14.824Z"
      },
      {
        "duration": 239,
        "start_time": "2022-12-09T12:56:14.830Z"
      },
      {
        "duration": 21,
        "start_time": "2022-12-09T12:56:15.070Z"
      },
      {
        "duration": 13,
        "start_time": "2022-12-09T12:56:15.092Z"
      },
      {
        "duration": 1148,
        "start_time": "2022-12-09T12:56:15.106Z"
      },
      {
        "duration": 3,
        "start_time": "2022-12-09T12:57:08.841Z"
      },
      {
        "duration": 1127,
        "start_time": "2022-12-09T12:57:22.772Z"
      },
      {
        "duration": 17,
        "start_time": "2022-12-09T12:58:42.669Z"
      },
      {
        "duration": 3,
        "start_time": "2022-12-09T12:58:45.718Z"
      },
      {
        "duration": 1151,
        "start_time": "2022-12-09T12:58:49.092Z"
      },
      {
        "duration": 156,
        "start_time": "2022-12-09T12:59:16.810Z"
      },
      {
        "duration": 8,
        "start_time": "2022-12-09T13:00:16.939Z"
      },
      {
        "duration": 8,
        "start_time": "2022-12-09T13:00:22.894Z"
      },
      {
        "duration": 162,
        "start_time": "2022-12-09T13:00:42.969Z"
      },
      {
        "duration": 180,
        "start_time": "2022-12-09T13:02:50.886Z"
      },
      {
        "duration": 176,
        "start_time": "2022-12-09T13:03:31.924Z"
      },
      {
        "duration": 19,
        "start_time": "2022-12-09T13:04:22.004Z"
      },
      {
        "duration": 18,
        "start_time": "2022-12-09T13:04:45.419Z"
      },
      {
        "duration": 25,
        "start_time": "2022-12-09T13:04:58.573Z"
      },
      {
        "duration": 17,
        "start_time": "2022-12-09T13:05:13.649Z"
      },
      {
        "duration": 170,
        "start_time": "2022-12-09T13:05:30.750Z"
      },
      {
        "duration": 227,
        "start_time": "2022-12-09T13:07:09.377Z"
      },
      {
        "duration": 8,
        "start_time": "2022-12-09T13:09:35.889Z"
      },
      {
        "duration": 7,
        "start_time": "2022-12-09T13:09:49.965Z"
      },
      {
        "duration": 536,
        "start_time": "2022-12-09T13:10:28.134Z"
      },
      {
        "duration": 15,
        "start_time": "2022-12-09T13:10:28.672Z"
      },
      {
        "duration": 2285,
        "start_time": "2022-12-09T13:10:28.689Z"
      },
      {
        "duration": 12,
        "start_time": "2022-12-09T13:10:30.975Z"
      },
      {
        "duration": 24,
        "start_time": "2022-12-09T13:10:30.989Z"
      },
      {
        "duration": 19,
        "start_time": "2022-12-09T13:10:31.015Z"
      },
      {
        "duration": 48,
        "start_time": "2022-12-09T13:10:31.035Z"
      },
      {
        "duration": 7,
        "start_time": "2022-12-09T13:10:31.085Z"
      },
      {
        "duration": 157,
        "start_time": "2022-12-09T13:10:34.465Z"
      },
      {
        "duration": 8,
        "start_time": "2022-12-09T13:10:34.624Z"
      },
      {
        "duration": 228,
        "start_time": "2022-12-09T13:10:34.633Z"
      },
      {
        "duration": 6,
        "start_time": "2022-12-09T13:10:34.863Z"
      },
      {
        "duration": 229,
        "start_time": "2022-12-09T13:10:34.870Z"
      },
      {
        "duration": 21,
        "start_time": "2022-12-09T13:10:35.104Z"
      },
      {
        "duration": 233,
        "start_time": "2022-12-09T13:10:35.127Z"
      },
      {
        "duration": 75,
        "start_time": "2022-12-09T13:10:35.361Z"
      },
      {
        "duration": 12,
        "start_time": "2022-12-09T13:10:54.924Z"
      },
      {
        "duration": 527,
        "start_time": "2022-12-09T13:11:14.706Z"
      },
      {
        "duration": 14,
        "start_time": "2022-12-09T13:11:15.234Z"
      },
      {
        "duration": 2157,
        "start_time": "2022-12-09T13:11:15.249Z"
      },
      {
        "duration": 9,
        "start_time": "2022-12-09T13:11:19.547Z"
      },
      {
        "duration": 12,
        "start_time": "2022-12-09T13:11:19.557Z"
      },
      {
        "duration": 11,
        "start_time": "2022-12-09T13:11:19.570Z"
      },
      {
        "duration": 31,
        "start_time": "2022-12-09T13:11:19.583Z"
      },
      {
        "duration": 6,
        "start_time": "2022-12-09T13:11:19.616Z"
      },
      {
        "duration": 158,
        "start_time": "2022-12-09T13:11:19.624Z"
      },
      {
        "duration": 8,
        "start_time": "2022-12-09T13:11:19.784Z"
      },
      {
        "duration": 81,
        "start_time": "2022-12-09T13:11:19.805Z"
      },
      {
        "duration": 95,
        "start_time": "2022-12-09T13:11:19.888Z"
      },
      {
        "duration": 4,
        "start_time": "2022-12-09T13:11:19.985Z"
      },
      {
        "duration": 348,
        "start_time": "2022-12-09T13:11:20.004Z"
      },
      {
        "duration": 28,
        "start_time": "2022-12-09T13:11:20.354Z"
      },
      {
        "duration": 24,
        "start_time": "2022-12-09T13:11:20.384Z"
      },
      {
        "duration": 195,
        "start_time": "2022-12-09T13:11:20.411Z"
      },
      {
        "duration": 8,
        "start_time": "2022-12-09T13:11:20.608Z"
      },
      {
        "duration": 180,
        "start_time": "2022-12-09T13:11:20.618Z"
      },
      {
        "duration": 9,
        "start_time": "2022-12-09T13:11:20.800Z"
      },
      {
        "duration": 236,
        "start_time": "2022-12-09T13:11:20.811Z"
      },
      {
        "duration": 8,
        "start_time": "2022-12-09T13:11:21.049Z"
      },
      {
        "duration": 211,
        "start_time": "2022-12-09T13:11:21.059Z"
      },
      {
        "duration": 8,
        "start_time": "2022-12-09T13:11:21.272Z"
      },
      {
        "duration": 170,
        "start_time": "2022-12-09T13:11:21.281Z"
      },
      {
        "duration": 8,
        "start_time": "2022-12-09T13:11:21.453Z"
      },
      {
        "duration": 146,
        "start_time": "2022-12-09T13:11:21.463Z"
      },
      {
        "duration": 6,
        "start_time": "2022-12-09T13:11:21.611Z"
      },
      {
        "duration": 157,
        "start_time": "2022-12-09T13:11:21.619Z"
      },
      {
        "duration": 6,
        "start_time": "2022-12-09T13:11:21.777Z"
      },
      {
        "duration": 110,
        "start_time": "2022-12-09T13:11:21.785Z"
      },
      {
        "duration": 7,
        "start_time": "2022-12-09T13:11:21.905Z"
      },
      {
        "duration": 162,
        "start_time": "2022-12-09T13:11:21.913Z"
      },
      {
        "duration": 7,
        "start_time": "2022-12-09T13:11:22.077Z"
      },
      {
        "duration": 188,
        "start_time": "2022-12-09T13:11:22.086Z"
      },
      {
        "duration": 6,
        "start_time": "2022-12-09T13:11:22.276Z"
      },
      {
        "duration": 197,
        "start_time": "2022-12-09T13:11:22.283Z"
      },
      {
        "duration": 6,
        "start_time": "2022-12-09T13:11:22.482Z"
      },
      {
        "duration": 360,
        "start_time": "2022-12-09T13:11:22.489Z"
      },
      {
        "duration": 167,
        "start_time": "2022-12-09T13:11:22.851Z"
      },
      {
        "duration": 154,
        "start_time": "2022-12-09T13:11:23.020Z"
      },
      {
        "duration": 7,
        "start_time": "2022-12-09T13:11:23.176Z"
      },
      {
        "duration": 280,
        "start_time": "2022-12-09T13:11:23.184Z"
      },
      {
        "duration": 6,
        "start_time": "2022-12-09T13:11:23.467Z"
      },
      {
        "duration": 254,
        "start_time": "2022-12-09T13:11:23.474Z"
      },
      {
        "duration": 21,
        "start_time": "2022-12-09T13:11:23.730Z"
      },
      {
        "duration": 252,
        "start_time": "2022-12-09T13:11:23.753Z"
      },
      {
        "duration": 71,
        "start_time": "2022-12-09T13:11:24.007Z"
      },
      {
        "duration": 3,
        "start_time": "2022-12-09T13:12:26.759Z"
      },
      {
        "duration": 2,
        "start_time": "2022-12-09T13:12:28.747Z"
      },
      {
        "duration": 8,
        "start_time": "2022-12-09T13:12:30.685Z"
      },
      {
        "duration": 8,
        "start_time": "2022-12-09T13:13:14.814Z"
      },
      {
        "duration": 21,
        "start_time": "2022-12-09T13:19:27.420Z"
      },
      {
        "duration": 7,
        "start_time": "2022-12-09T13:19:36.923Z"
      },
      {
        "duration": 12,
        "start_time": "2022-12-09T13:20:06.533Z"
      },
      {
        "duration": 482,
        "start_time": "2022-12-09T13:23:01.869Z"
      },
      {
        "duration": 15,
        "start_time": "2022-12-09T13:23:02.353Z"
      },
      {
        "duration": 2272,
        "start_time": "2022-12-09T13:23:02.369Z"
      },
      {
        "duration": 9,
        "start_time": "2022-12-09T13:23:04.644Z"
      },
      {
        "duration": 56,
        "start_time": "2022-12-09T13:23:04.655Z"
      },
      {
        "duration": 33,
        "start_time": "2022-12-09T13:23:04.712Z"
      },
      {
        "duration": 49,
        "start_time": "2022-12-09T13:23:04.746Z"
      },
      {
        "duration": 28,
        "start_time": "2022-12-09T13:23:04.797Z"
      },
      {
        "duration": 176,
        "start_time": "2022-12-09T13:23:04.827Z"
      },
      {
        "duration": 9,
        "start_time": "2022-12-09T13:23:05.006Z"
      },
      {
        "duration": 110,
        "start_time": "2022-12-09T13:23:05.016Z"
      },
      {
        "duration": 94,
        "start_time": "2022-12-09T13:23:05.128Z"
      },
      {
        "duration": 4,
        "start_time": "2022-12-09T13:23:05.224Z"
      },
      {
        "duration": 362,
        "start_time": "2022-12-09T13:23:05.230Z"
      },
      {
        "duration": 30,
        "start_time": "2022-12-09T13:23:05.593Z"
      },
      {
        "duration": 27,
        "start_time": "2022-12-09T13:23:05.625Z"
      },
      {
        "duration": 200,
        "start_time": "2022-12-09T13:23:05.654Z"
      },
      {
        "duration": 8,
        "start_time": "2022-12-09T13:23:05.855Z"
      },
      {
        "duration": 190,
        "start_time": "2022-12-09T13:23:05.864Z"
      },
      {
        "duration": 7,
        "start_time": "2022-12-09T13:23:06.055Z"
      },
      {
        "duration": 261,
        "start_time": "2022-12-09T13:23:06.063Z"
      },
      {
        "duration": 6,
        "start_time": "2022-12-09T13:23:06.326Z"
      },
      {
        "duration": 204,
        "start_time": "2022-12-09T13:23:06.333Z"
      },
      {
        "duration": 6,
        "start_time": "2022-12-09T13:23:06.538Z"
      },
      {
        "duration": 160,
        "start_time": "2022-12-09T13:23:06.546Z"
      },
      {
        "duration": 6,
        "start_time": "2022-12-09T13:23:06.708Z"
      },
      {
        "duration": 155,
        "start_time": "2022-12-09T13:23:06.715Z"
      },
      {
        "duration": 6,
        "start_time": "2022-12-09T13:23:06.874Z"
      },
      {
        "duration": 159,
        "start_time": "2022-12-09T13:23:06.881Z"
      },
      {
        "duration": 5,
        "start_time": "2022-12-09T13:23:07.042Z"
      },
      {
        "duration": 111,
        "start_time": "2022-12-09T13:23:07.048Z"
      },
      {
        "duration": 7,
        "start_time": "2022-12-09T13:23:07.161Z"
      },
      {
        "duration": 184,
        "start_time": "2022-12-09T13:23:07.170Z"
      },
      {
        "duration": 8,
        "start_time": "2022-12-09T13:23:07.356Z"
      },
      {
        "duration": 238,
        "start_time": "2022-12-09T13:23:07.366Z"
      },
      {
        "duration": 7,
        "start_time": "2022-12-09T13:23:07.606Z"
      },
      {
        "duration": 202,
        "start_time": "2022-12-09T13:23:07.614Z"
      },
      {
        "duration": 7,
        "start_time": "2022-12-09T13:23:07.817Z"
      },
      {
        "duration": 354,
        "start_time": "2022-12-09T13:23:07.825Z"
      },
      {
        "duration": 165,
        "start_time": "2022-12-09T13:23:08.181Z"
      },
      {
        "duration": 168,
        "start_time": "2022-12-09T13:23:08.348Z"
      },
      {
        "duration": 7,
        "start_time": "2022-12-09T13:23:08.518Z"
      },
      {
        "duration": 241,
        "start_time": "2022-12-09T13:23:08.527Z"
      },
      {
        "duration": 5,
        "start_time": "2022-12-09T13:23:08.770Z"
      },
      {
        "duration": 242,
        "start_time": "2022-12-09T13:23:08.776Z"
      },
      {
        "duration": 20,
        "start_time": "2022-12-09T13:23:09.020Z"
      },
      {
        "duration": 2,
        "start_time": "2022-12-09T13:23:09.042Z"
      },
      {
        "duration": 47,
        "start_time": "2022-12-09T13:23:09.046Z"
      },
      {
        "duration": 37,
        "start_time": "2022-12-09T13:24:29.258Z"
      },
      {
        "duration": 8,
        "start_time": "2022-12-09T13:24:58.041Z"
      },
      {
        "duration": 13,
        "start_time": "2022-12-09T13:25:18.111Z"
      },
      {
        "duration": 4,
        "start_time": "2022-12-09T13:28:06.198Z"
      },
      {
        "duration": 356,
        "start_time": "2022-12-09T13:28:16.413Z"
      },
      {
        "duration": 5,
        "start_time": "2022-12-09T13:29:00.494Z"
      },
      {
        "duration": 11,
        "start_time": "2022-12-09T13:29:22.707Z"
      },
      {
        "duration": 9,
        "start_time": "2022-12-09T13:30:09.102Z"
      },
      {
        "duration": 7,
        "start_time": "2022-12-09T13:33:50.936Z"
      },
      {
        "duration": 10,
        "start_time": "2022-12-09T13:34:06.256Z"
      },
      {
        "duration": 14,
        "start_time": "2022-12-09T13:34:22.357Z"
      },
      {
        "duration": 28,
        "start_time": "2022-12-09T13:35:01.263Z"
      },
      {
        "duration": 14,
        "start_time": "2022-12-09T13:35:23.066Z"
      },
      {
        "duration": 7,
        "start_time": "2022-12-09T13:35:43.163Z"
      },
      {
        "duration": 8,
        "start_time": "2022-12-09T13:35:49.117Z"
      },
      {
        "duration": 12,
        "start_time": "2022-12-09T13:36:13.369Z"
      },
      {
        "duration": 67,
        "start_time": "2022-12-09T13:36:44.672Z"
      },
      {
        "duration": 72,
        "start_time": "2022-12-09T13:36:53.088Z"
      },
      {
        "duration": 22,
        "start_time": "2022-12-09T13:37:08.910Z"
      },
      {
        "duration": 8,
        "start_time": "2022-12-09T13:37:21.522Z"
      },
      {
        "duration": 7,
        "start_time": "2022-12-09T13:50:49.596Z"
      },
      {
        "duration": 51,
        "start_time": "2022-12-10T11:20:55.133Z"
      },
      {
        "duration": 932,
        "start_time": "2022-12-10T11:21:00.575Z"
      },
      {
        "duration": 16,
        "start_time": "2022-12-10T11:21:01.509Z"
      },
      {
        "duration": 3058,
        "start_time": "2022-12-10T11:21:01.527Z"
      },
      {
        "duration": 15,
        "start_time": "2022-12-10T11:21:04.588Z"
      },
      {
        "duration": 32,
        "start_time": "2022-12-10T11:21:04.606Z"
      },
      {
        "duration": 24,
        "start_time": "2022-12-10T11:21:04.640Z"
      },
      {
        "duration": 58,
        "start_time": "2022-12-10T11:21:04.667Z"
      },
      {
        "duration": 14,
        "start_time": "2022-12-10T11:21:04.726Z"
      },
      {
        "duration": 286,
        "start_time": "2022-12-10T11:21:04.743Z"
      },
      {
        "duration": 12,
        "start_time": "2022-12-10T11:21:05.030Z"
      },
      {
        "duration": 141,
        "start_time": "2022-12-10T11:21:05.044Z"
      },
      {
        "duration": 129,
        "start_time": "2022-12-10T11:21:05.187Z"
      },
      {
        "duration": 5,
        "start_time": "2022-12-10T11:21:05.318Z"
      },
      {
        "duration": 464,
        "start_time": "2022-12-10T11:21:05.337Z"
      },
      {
        "duration": 44,
        "start_time": "2022-12-10T11:21:05.803Z"
      },
      {
        "duration": 8,
        "start_time": "2022-12-10T11:21:05.849Z"
      },
      {
        "duration": 245,
        "start_time": "2022-12-10T11:21:05.859Z"
      },
      {
        "duration": 7,
        "start_time": "2022-12-10T11:21:06.107Z"
      },
      {
        "duration": 273,
        "start_time": "2022-12-10T11:21:06.116Z"
      },
      {
        "duration": 7,
        "start_time": "2022-12-10T11:21:06.391Z"
      },
      {
        "duration": 195,
        "start_time": "2022-12-10T11:21:06.399Z"
      },
      {
        "duration": 7,
        "start_time": "2022-12-10T11:21:06.596Z"
      },
      {
        "duration": 277,
        "start_time": "2022-12-10T11:21:06.605Z"
      },
      {
        "duration": 7,
        "start_time": "2022-12-10T11:21:06.884Z"
      },
      {
        "duration": 205,
        "start_time": "2022-12-10T11:21:06.894Z"
      },
      {
        "duration": 7,
        "start_time": "2022-12-10T11:21:07.101Z"
      },
      {
        "duration": 164,
        "start_time": "2022-12-10T11:21:07.111Z"
      },
      {
        "duration": 7,
        "start_time": "2022-12-10T11:21:07.277Z"
      },
      {
        "duration": 173,
        "start_time": "2022-12-10T11:21:07.285Z"
      },
      {
        "duration": 11,
        "start_time": "2022-12-10T11:21:07.460Z"
      },
      {
        "duration": 145,
        "start_time": "2022-12-10T11:21:07.472Z"
      },
      {
        "duration": 18,
        "start_time": "2022-12-10T11:21:07.619Z"
      },
      {
        "duration": 179,
        "start_time": "2022-12-10T11:21:07.639Z"
      },
      {
        "duration": 16,
        "start_time": "2022-12-10T11:21:07.820Z"
      },
      {
        "duration": 201,
        "start_time": "2022-12-10T11:21:07.838Z"
      },
      {
        "duration": 9,
        "start_time": "2022-12-10T11:21:08.041Z"
      },
      {
        "duration": 223,
        "start_time": "2022-12-10T11:21:08.052Z"
      },
      {
        "duration": 7,
        "start_time": "2022-12-10T11:21:08.277Z"
      },
      {
        "duration": 336,
        "start_time": "2022-12-10T11:21:08.286Z"
      },
      {
        "duration": 186,
        "start_time": "2022-12-10T11:21:08.624Z"
      },
      {
        "duration": 169,
        "start_time": "2022-12-10T11:21:08.814Z"
      },
      {
        "duration": 9,
        "start_time": "2022-12-10T11:21:08.986Z"
      },
      {
        "duration": 275,
        "start_time": "2022-12-10T11:21:08.996Z"
      },
      {
        "duration": 6,
        "start_time": "2022-12-10T11:21:09.273Z"
      },
      {
        "duration": 262,
        "start_time": "2022-12-10T11:21:09.281Z"
      },
      {
        "duration": 17,
        "start_time": "2022-12-10T11:21:09.545Z"
      },
      {
        "duration": 24,
        "start_time": "2022-12-10T11:21:09.565Z"
      },
      {
        "duration": 10,
        "start_time": "2022-12-10T11:21:09.590Z"
      },
      {
        "duration": 13,
        "start_time": "2022-12-10T11:21:09.636Z"
      },
      {
        "duration": 10,
        "start_time": "2022-12-10T11:21:09.651Z"
      },
      {
        "duration": 8,
        "start_time": "2022-12-10T11:21:43.083Z"
      },
      {
        "duration": 13,
        "start_time": "2022-12-10T11:22:02.663Z"
      },
      {
        "duration": 10,
        "start_time": "2022-12-10T11:25:18.236Z"
      },
      {
        "duration": 28,
        "start_time": "2022-12-10T11:34:04.804Z"
      },
      {
        "duration": 4,
        "start_time": "2022-12-10T11:34:16.587Z"
      },
      {
        "duration": 29,
        "start_time": "2022-12-10T11:38:23.137Z"
      },
      {
        "duration": 23,
        "start_time": "2022-12-10T11:41:16.004Z"
      },
      {
        "duration": 9,
        "start_time": "2022-12-10T11:41:55.784Z"
      },
      {
        "duration": 111,
        "start_time": "2022-12-10T11:45:02.084Z"
      },
      {
        "duration": 18,
        "start_time": "2022-12-10T11:46:57.184Z"
      },
      {
        "duration": 61,
        "start_time": "2022-12-10T11:47:04.764Z"
      },
      {
        "duration": 17,
        "start_time": "2022-12-10T11:47:19.268Z"
      },
      {
        "duration": 20,
        "start_time": "2022-12-10T11:47:31.683Z"
      },
      {
        "duration": 14,
        "start_time": "2022-12-10T11:47:44.919Z"
      },
      {
        "duration": 13,
        "start_time": "2022-12-10T11:48:19.427Z"
      },
      {
        "duration": 21,
        "start_time": "2022-12-10T11:48:44.026Z"
      },
      {
        "duration": 8,
        "start_time": "2022-12-10T11:50:48.404Z"
      },
      {
        "duration": 18,
        "start_time": "2022-12-10T11:56:42.383Z"
      },
      {
        "duration": 15,
        "start_time": "2022-12-10T11:58:15.525Z"
      },
      {
        "duration": 10,
        "start_time": "2022-12-10T11:58:52.045Z"
      },
      {
        "duration": 11,
        "start_time": "2022-12-10T11:59:58.618Z"
      },
      {
        "duration": 15,
        "start_time": "2022-12-10T12:00:21.732Z"
      },
      {
        "duration": 38,
        "start_time": "2022-12-10T12:15:02.665Z"
      },
      {
        "duration": 47,
        "start_time": "2022-12-10T12:15:13.345Z"
      },
      {
        "duration": 8,
        "start_time": "2022-12-10T12:15:35.606Z"
      },
      {
        "duration": 58,
        "start_time": "2022-12-10T12:18:22.385Z"
      },
      {
        "duration": 8,
        "start_time": "2022-12-10T12:23:19.844Z"
      },
      {
        "duration": 8,
        "start_time": "2022-12-10T12:23:23.624Z"
      },
      {
        "duration": 17,
        "start_time": "2022-12-10T12:23:29.844Z"
      },
      {
        "duration": 16,
        "start_time": "2022-12-10T12:24:58.309Z"
      },
      {
        "duration": 7,
        "start_time": "2022-12-10T12:29:37.965Z"
      },
      {
        "duration": 9,
        "start_time": "2022-12-10T12:29:41.504Z"
      },
      {
        "duration": 10,
        "start_time": "2022-12-10T12:29:44.844Z"
      },
      {
        "duration": 13,
        "start_time": "2022-12-10T12:30:24.718Z"
      },
      {
        "duration": 165,
        "start_time": "2022-12-10T12:31:18.497Z"
      },
      {
        "duration": 175,
        "start_time": "2022-12-10T12:32:43.430Z"
      },
      {
        "duration": 167,
        "start_time": "2022-12-10T12:32:51.250Z"
      },
      {
        "duration": 169,
        "start_time": "2022-12-10T12:33:05.078Z"
      },
      {
        "duration": 15,
        "start_time": "2022-12-10T12:33:23.711Z"
      },
      {
        "duration": 131,
        "start_time": "2022-12-10T12:34:11.878Z"
      },
      {
        "duration": 286,
        "start_time": "2022-12-10T12:35:17.518Z"
      },
      {
        "duration": 162,
        "start_time": "2022-12-10T12:35:28.978Z"
      },
      {
        "duration": 298,
        "start_time": "2022-12-10T12:40:00.278Z"
      },
      {
        "duration": 167,
        "start_time": "2022-12-10T12:54:46.344Z"
      },
      {
        "duration": 106,
        "start_time": "2022-12-10T12:56:41.038Z"
      },
      {
        "duration": 4,
        "start_time": "2022-12-10T12:57:08.478Z"
      },
      {
        "duration": 444,
        "start_time": "2022-12-10T13:00:18.900Z"
      },
      {
        "duration": 42,
        "start_time": "2022-12-10T13:02:15.810Z"
      },
      {
        "duration": 268,
        "start_time": "2022-12-10T13:04:24.187Z"
      },
      {
        "duration": 118,
        "start_time": "2022-12-10T13:05:48.361Z"
      },
      {
        "duration": 293,
        "start_time": "2022-12-10T13:05:57.042Z"
      },
      {
        "duration": 509,
        "start_time": "2022-12-10T13:38:59.668Z"
      },
      {
        "duration": 16,
        "start_time": "2022-12-10T13:39:00.178Z"
      },
      {
        "duration": 2334,
        "start_time": "2022-12-10T13:39:00.195Z"
      },
      {
        "duration": 13,
        "start_time": "2022-12-10T13:39:02.532Z"
      },
      {
        "duration": 48,
        "start_time": "2022-12-10T13:39:02.548Z"
      },
      {
        "duration": 17,
        "start_time": "2022-12-10T13:39:02.598Z"
      },
      {
        "duration": 50,
        "start_time": "2022-12-10T13:39:02.617Z"
      },
      {
        "duration": 18,
        "start_time": "2022-12-10T13:39:02.668Z"
      },
      {
        "duration": 164,
        "start_time": "2022-12-10T13:39:02.688Z"
      },
      {
        "duration": 8,
        "start_time": "2022-12-10T13:39:02.853Z"
      },
      {
        "duration": 110,
        "start_time": "2022-12-10T13:39:02.863Z"
      },
      {
        "duration": 96,
        "start_time": "2022-12-10T13:39:02.975Z"
      },
      {
        "duration": 4,
        "start_time": "2022-12-10T13:39:03.073Z"
      },
      {
        "duration": 364,
        "start_time": "2022-12-10T13:39:03.080Z"
      },
      {
        "duration": 27,
        "start_time": "2022-12-10T13:39:03.446Z"
      },
      {
        "duration": 6,
        "start_time": "2022-12-10T13:39:03.475Z"
      },
      {
        "duration": 201,
        "start_time": "2022-12-10T13:39:03.483Z"
      },
      {
        "duration": 7,
        "start_time": "2022-12-10T13:39:03.686Z"
      },
      {
        "duration": 185,
        "start_time": "2022-12-10T13:39:03.694Z"
      },
      {
        "duration": 7,
        "start_time": "2022-12-10T13:39:03.881Z"
      },
      {
        "duration": 252,
        "start_time": "2022-12-10T13:39:03.890Z"
      },
      {
        "duration": 6,
        "start_time": "2022-12-10T13:39:04.144Z"
      },
      {
        "duration": 217,
        "start_time": "2022-12-10T13:39:04.152Z"
      },
      {
        "duration": 7,
        "start_time": "2022-12-10T13:39:04.370Z"
      },
      {
        "duration": 166,
        "start_time": "2022-12-10T13:39:04.379Z"
      },
      {
        "duration": 7,
        "start_time": "2022-12-10T13:39:04.547Z"
      },
      {
        "duration": 160,
        "start_time": "2022-12-10T13:39:04.556Z"
      },
      {
        "duration": 6,
        "start_time": "2022-12-10T13:39:04.717Z"
      },
      {
        "duration": 157,
        "start_time": "2022-12-10T13:39:04.734Z"
      },
      {
        "duration": 8,
        "start_time": "2022-12-10T13:39:04.892Z"
      },
      {
        "duration": 118,
        "start_time": "2022-12-10T13:39:04.901Z"
      },
      {
        "duration": 16,
        "start_time": "2022-12-10T13:39:05.020Z"
      },
      {
        "duration": 170,
        "start_time": "2022-12-10T13:39:05.038Z"
      },
      {
        "duration": 8,
        "start_time": "2022-12-10T13:39:05.209Z"
      },
      {
        "duration": 197,
        "start_time": "2022-12-10T13:39:05.219Z"
      },
      {
        "duration": 18,
        "start_time": "2022-12-10T13:39:05.418Z"
      },
      {
        "duration": 208,
        "start_time": "2022-12-10T13:39:05.438Z"
      },
      {
        "duration": 7,
        "start_time": "2022-12-10T13:39:05.648Z"
      },
      {
        "duration": 336,
        "start_time": "2022-12-10T13:39:05.656Z"
      },
      {
        "duration": 173,
        "start_time": "2022-12-10T13:39:05.993Z"
      },
      {
        "duration": 181,
        "start_time": "2022-12-10T13:39:06.171Z"
      },
      {
        "duration": 8,
        "start_time": "2022-12-10T13:39:06.354Z"
      },
      {
        "duration": 271,
        "start_time": "2022-12-10T13:39:06.364Z"
      },
      {
        "duration": 6,
        "start_time": "2022-12-10T13:39:06.637Z"
      },
      {
        "duration": 291,
        "start_time": "2022-12-10T13:39:06.644Z"
      },
      {
        "duration": 18,
        "start_time": "2022-12-10T13:39:06.937Z"
      },
      {
        "duration": 23,
        "start_time": "2022-12-10T13:39:06.956Z"
      },
      {
        "duration": 8,
        "start_time": "2022-12-10T13:39:06.981Z"
      },
      {
        "duration": 17,
        "start_time": "2022-12-10T13:39:06.991Z"
      },
      {
        "duration": 29,
        "start_time": "2022-12-10T13:39:07.009Z"
      },
      {
        "duration": 13,
        "start_time": "2022-12-10T13:39:07.039Z"
      },
      {
        "duration": 25,
        "start_time": "2022-12-10T13:39:07.053Z"
      },
      {
        "duration": 11,
        "start_time": "2022-12-10T13:39:07.080Z"
      },
      {
        "duration": 20,
        "start_time": "2022-12-10T13:39:07.092Z"
      },
      {
        "duration": 28,
        "start_time": "2022-12-10T13:39:07.114Z"
      },
      {
        "duration": 311,
        "start_time": "2022-12-10T13:39:07.143Z"
      },
      {
        "duration": 632,
        "start_time": "2022-12-10T14:56:05.594Z"
      },
      {
        "duration": 14,
        "start_time": "2022-12-10T14:56:06.228Z"
      },
      {
        "duration": 2076,
        "start_time": "2022-12-10T14:56:06.244Z"
      },
      {
        "duration": 9,
        "start_time": "2022-12-10T14:56:08.321Z"
      },
      {
        "duration": 35,
        "start_time": "2022-12-10T14:56:08.333Z"
      },
      {
        "duration": 7,
        "start_time": "2022-12-10T14:56:08.370Z"
      },
      {
        "duration": 29,
        "start_time": "2022-12-10T14:56:08.398Z"
      },
      {
        "duration": 7,
        "start_time": "2022-12-10T14:56:08.428Z"
      },
      {
        "duration": 162,
        "start_time": "2022-12-10T14:56:08.436Z"
      },
      {
        "duration": 7,
        "start_time": "2022-12-10T14:56:08.599Z"
      },
      {
        "duration": 91,
        "start_time": "2022-12-10T14:56:08.607Z"
      },
      {
        "duration": 84,
        "start_time": "2022-12-10T14:56:08.699Z"
      },
      {
        "duration": 13,
        "start_time": "2022-12-10T14:56:08.785Z"
      },
      {
        "duration": 344,
        "start_time": "2022-12-10T14:56:08.802Z"
      },
      {
        "duration": 28,
        "start_time": "2022-12-10T14:56:09.147Z"
      },
      {
        "duration": 22,
        "start_time": "2022-12-10T14:56:09.176Z"
      },
      {
        "duration": 175,
        "start_time": "2022-12-10T14:56:09.200Z"
      },
      {
        "duration": 6,
        "start_time": "2022-12-10T14:56:09.377Z"
      },
      {
        "duration": 153,
        "start_time": "2022-12-10T14:56:09.396Z"
      },
      {
        "duration": 6,
        "start_time": "2022-12-10T14:56:09.550Z"
      },
      {
        "duration": 203,
        "start_time": "2022-12-10T14:56:09.557Z"
      },
      {
        "duration": 5,
        "start_time": "2022-12-10T14:56:09.762Z"
      },
      {
        "duration": 207,
        "start_time": "2022-12-10T14:56:09.769Z"
      },
      {
        "duration": 6,
        "start_time": "2022-12-10T14:56:09.978Z"
      },
      {
        "duration": 161,
        "start_time": "2022-12-10T14:56:09.985Z"
      },
      {
        "duration": 6,
        "start_time": "2022-12-10T14:56:10.148Z"
      },
      {
        "duration": 142,
        "start_time": "2022-12-10T14:56:10.155Z"
      },
      {
        "duration": 8,
        "start_time": "2022-12-10T14:56:10.298Z"
      },
      {
        "duration": 151,
        "start_time": "2022-12-10T14:56:10.307Z"
      },
      {
        "duration": 6,
        "start_time": "2022-12-10T14:56:10.460Z"
      },
      {
        "duration": 103,
        "start_time": "2022-12-10T14:56:10.467Z"
      },
      {
        "duration": 6,
        "start_time": "2022-12-10T14:56:10.572Z"
      },
      {
        "duration": 148,
        "start_time": "2022-12-10T14:56:10.579Z"
      },
      {
        "duration": 7,
        "start_time": "2022-12-10T14:56:10.728Z"
      },
      {
        "duration": 167,
        "start_time": "2022-12-10T14:56:10.736Z"
      },
      {
        "duration": 7,
        "start_time": "2022-12-10T14:56:10.904Z"
      },
      {
        "duration": 187,
        "start_time": "2022-12-10T14:56:10.912Z"
      },
      {
        "duration": 5,
        "start_time": "2022-12-10T14:56:11.100Z"
      },
      {
        "duration": 272,
        "start_time": "2022-12-10T14:56:11.107Z"
      },
      {
        "duration": 160,
        "start_time": "2022-12-10T14:56:11.380Z"
      },
      {
        "duration": 147,
        "start_time": "2022-12-10T14:56:11.543Z"
      },
      {
        "duration": 11,
        "start_time": "2022-12-10T14:56:11.692Z"
      },
      {
        "duration": 221,
        "start_time": "2022-12-10T14:56:11.704Z"
      },
      {
        "duration": 5,
        "start_time": "2022-12-10T14:56:11.926Z"
      },
      {
        "duration": 236,
        "start_time": "2022-12-10T14:56:11.933Z"
      },
      {
        "duration": 15,
        "start_time": "2022-12-10T14:56:12.170Z"
      },
      {
        "duration": 29,
        "start_time": "2022-12-10T14:56:12.186Z"
      },
      {
        "duration": 8,
        "start_time": "2022-12-10T14:56:12.216Z"
      },
      {
        "duration": 13,
        "start_time": "2022-12-10T14:56:12.225Z"
      },
      {
        "duration": 3,
        "start_time": "2022-12-10T14:56:12.240Z"
      },
      {
        "duration": 10,
        "start_time": "2022-12-10T14:56:12.244Z"
      },
      {
        "duration": 45,
        "start_time": "2022-12-10T14:56:12.256Z"
      },
      {
        "duration": 8,
        "start_time": "2022-12-10T14:56:12.303Z"
      },
      {
        "duration": 10,
        "start_time": "2022-12-10T14:56:12.313Z"
      },
      {
        "duration": 14,
        "start_time": "2022-12-10T14:56:12.324Z"
      },
      {
        "duration": 304,
        "start_time": "2022-12-10T14:56:12.340Z"
      }
    ],
    "kernelspec": {
      "display_name": "Python 3 (ipykernel)",
      "language": "python",
      "name": "python3"
    },
    "language_info": {
      "codemirror_mode": {
        "name": "ipython",
        "version": 3
      },
      "file_extension": ".py",
      "mimetype": "text/x-python",
      "name": "python",
      "nbconvert_exporter": "python",
      "pygments_lexer": "ipython3",
      "version": "3.9.5"
    },
    "toc": {
      "base_numbering": 1,
      "nav_menu": {},
      "number_sections": true,
      "sideBar": true,
      "skip_h1_title": true,
      "title_cell": "Table of Contents",
      "title_sidebar": "Contents",
      "toc_cell": false,
      "toc_position": {
        "height": "calc(100% - 180px)",
        "left": "10px",
        "top": "150px",
        "width": "252px"
      },
      "toc_section_display": true,
      "toc_window_display": false
    },
    "colab": {
      "provenance": []
    }
  },
  "nbformat": 4,
  "nbformat_minor": 0
}