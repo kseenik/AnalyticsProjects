{
  "cells": [
    {
      "cell_type": "markdown",
      "metadata": {
        "id": "DLQOCtv4geld"
      },
      "source": [
        "# Принятие решений в бизнесе\n",
        "\n",
        "Проект выполнен для проверки списка гипотез по увеличению выручки. \n",
        "\n",
        "Цель: приоритизация гипотез, запуск A/B-теста и анализа результатов. \n",
        "\n",
        "Входные данные: список гипотез подготовлен с отделом маркетинга крупного интернет-магазина. Для второй части используются данные о заказах и посетителях.\n",
        "\n",
        "План работы:\n",
        "\n",
        "1. Сделать обзор данных, провести предобработку\n",
        "2. Приоритизировать гипотезы\n",
        "3. Проанализировать результаты A/B-тестирования\n",
        "4. Сделать вывод\n",
        "\n",
        "##  Обзор данных"
      ]
    },
    {
      "cell_type": "code",
      "execution_count": null,
      "metadata": {
        "id": "NZ0O3_vngele"
      },
      "outputs": [],
      "source": [
        "import pandas as pd\n",
        "import datetime as dt\n",
        "import numpy as np\n",
        "import matplotlib.pyplot as plt\n",
        "from pandas.plotting import register_matplotlib_converters\n",
        "import warnings\n",
        "import scipy.stats as stats"
      ]
    },
    {
      "cell_type": "code",
      "execution_count": null,
      "metadata": {
        "id": "lrzCOoz0gelf",
        "outputId": "d8489ad2-68b3-48d3-9508-c92976e7a6a0"
      },
      "outputs": [
        {
          "data": {
            "text/html": [
              "<div>\n",
              "<style scoped>\n",
              "    .dataframe tbody tr th:only-of-type {\n",
              "        vertical-align: middle;\n",
              "    }\n",
              "\n",
              "    .dataframe tbody tr th {\n",
              "        vertical-align: top;\n",
              "    }\n",
              "\n",
              "    .dataframe thead th {\n",
              "        text-align: right;\n",
              "    }\n",
              "</style>\n",
              "<table border=\"1\" class=\"dataframe\">\n",
              "  <thead>\n",
              "    <tr style=\"text-align: right;\">\n",
              "      <th></th>\n",
              "      <th>Hypothesis</th>\n",
              "      <th>Reach</th>\n",
              "      <th>Impact</th>\n",
              "      <th>Confidence</th>\n",
              "      <th>Efforts</th>\n",
              "    </tr>\n",
              "  </thead>\n",
              "  <tbody>\n",
              "    <tr>\n",
              "      <th>0</th>\n",
              "      <td>Добавить два новых канала привлечения трафика, что позволит привлекать на 30% больше пользователей</td>\n",
              "      <td>3</td>\n",
              "      <td>10</td>\n",
              "      <td>8</td>\n",
              "      <td>6</td>\n",
              "    </tr>\n",
              "    <tr>\n",
              "      <th>1</th>\n",
              "      <td>Запустить собственную службу доставки, что сократит срок доставки заказов</td>\n",
              "      <td>2</td>\n",
              "      <td>5</td>\n",
              "      <td>4</td>\n",
              "      <td>10</td>\n",
              "    </tr>\n",
              "    <tr>\n",
              "      <th>2</th>\n",
              "      <td>Добавить блоки рекомендаций товаров на сайт интернет магазина, чтобы повысить конверсию и средний чек заказа</td>\n",
              "      <td>8</td>\n",
              "      <td>3</td>\n",
              "      <td>7</td>\n",
              "      <td>3</td>\n",
              "    </tr>\n",
              "    <tr>\n",
              "      <th>3</th>\n",
              "      <td>Изменить структура категорий, что увеличит конверсию, т.к. пользователи быстрее найдут нужный товар</td>\n",
              "      <td>8</td>\n",
              "      <td>3</td>\n",
              "      <td>3</td>\n",
              "      <td>8</td>\n",
              "    </tr>\n",
              "    <tr>\n",
              "      <th>4</th>\n",
              "      <td>Изменить цвет фона главной страницы, чтобы увеличить вовлеченность пользователей</td>\n",
              "      <td>3</td>\n",
              "      <td>1</td>\n",
              "      <td>1</td>\n",
              "      <td>1</td>\n",
              "    </tr>\n",
              "    <tr>\n",
              "      <th>5</th>\n",
              "      <td>Добавить страницу отзывов клиентов о магазине, что позволит увеличить количество заказов</td>\n",
              "      <td>3</td>\n",
              "      <td>2</td>\n",
              "      <td>2</td>\n",
              "      <td>3</td>\n",
              "    </tr>\n",
              "    <tr>\n",
              "      <th>6</th>\n",
              "      <td>Показать на главной странице баннеры с актуальными акциями и распродажами, чтобы увеличить конверсию</td>\n",
              "      <td>5</td>\n",
              "      <td>3</td>\n",
              "      <td>8</td>\n",
              "      <td>3</td>\n",
              "    </tr>\n",
              "    <tr>\n",
              "      <th>7</th>\n",
              "      <td>Добавить форму подписки на все основные страницы, чтобы собрать базу клиентов для email-рассылок</td>\n",
              "      <td>10</td>\n",
              "      <td>7</td>\n",
              "      <td>8</td>\n",
              "      <td>5</td>\n",
              "    </tr>\n",
              "    <tr>\n",
              "      <th>8</th>\n",
              "      <td>Запустить акцию, дающую скидку на товар в день рождения</td>\n",
              "      <td>1</td>\n",
              "      <td>9</td>\n",
              "      <td>9</td>\n",
              "      <td>5</td>\n",
              "    </tr>\n",
              "  </tbody>\n",
              "</table>\n",
              "</div>"
            ],
            "text/plain": [
              "                                                                                                     Hypothesis  \\\n",
              "0            Добавить два новых канала привлечения трафика, что позволит привлекать на 30% больше пользователей   \n",
              "1                                     Запустить собственную службу доставки, что сократит срок доставки заказов   \n",
              "2  Добавить блоки рекомендаций товаров на сайт интернет магазина, чтобы повысить конверсию и средний чек заказа   \n",
              "3           Изменить структура категорий, что увеличит конверсию, т.к. пользователи быстрее найдут нужный товар   \n",
              "4                              Изменить цвет фона главной страницы, чтобы увеличить вовлеченность пользователей   \n",
              "5                      Добавить страницу отзывов клиентов о магазине, что позволит увеличить количество заказов   \n",
              "6          Показать на главной странице баннеры с актуальными акциями и распродажами, чтобы увеличить конверсию   \n",
              "7              Добавить форму подписки на все основные страницы, чтобы собрать базу клиентов для email-рассылок   \n",
              "8                                                       Запустить акцию, дающую скидку на товар в день рождения   \n",
              "\n",
              "   Reach  Impact  Confidence  Efforts  \n",
              "0      3      10           8        6  \n",
              "1      2       5           4       10  \n",
              "2      8       3           7        3  \n",
              "3      8       3           3        8  \n",
              "4      3       1           1        1  \n",
              "5      3       2           2        3  \n",
              "6      5       3           8        3  \n",
              "7     10       7           8        5  \n",
              "8      1       9           9        5  "
            ]
          },
          "execution_count": 2,
          "metadata": {},
          "output_type": "execute_result"
        }
      ],
      "source": [
        "hypo = pd.read_csv('/datasets/hypothesis.csv', sep=',')\n",
        "pd.options.display.max_colwidth = 150\n",
        "hypo"
      ]
    },
    {
      "cell_type": "code",
      "execution_count": null,
      "metadata": {
        "scrolled": true,
        "id": "ouuqyD7rgelh",
        "outputId": "efc2bf3b-8fa3-4cb5-8984-b8ce30763304"
      },
      "outputs": [
        {
          "data": {
            "text/html": [
              "<div>\n",
              "<style scoped>\n",
              "    .dataframe tbody tr th:only-of-type {\n",
              "        vertical-align: middle;\n",
              "    }\n",
              "\n",
              "    .dataframe tbody tr th {\n",
              "        vertical-align: top;\n",
              "    }\n",
              "\n",
              "    .dataframe thead th {\n",
              "        text-align: right;\n",
              "    }\n",
              "</style>\n",
              "<table border=\"1\" class=\"dataframe\">\n",
              "  <thead>\n",
              "    <tr style=\"text-align: right;\">\n",
              "      <th></th>\n",
              "      <th>hypothesis</th>\n",
              "      <th>reach</th>\n",
              "      <th>impact</th>\n",
              "      <th>confidence</th>\n",
              "      <th>efforts</th>\n",
              "    </tr>\n",
              "  </thead>\n",
              "  <tbody>\n",
              "    <tr>\n",
              "      <th>0</th>\n",
              "      <td>Добавить два новых канала привлечения трафика, что позволит привлекать на 30% больше пользователей</td>\n",
              "      <td>3</td>\n",
              "      <td>10</td>\n",
              "      <td>8</td>\n",
              "      <td>6</td>\n",
              "    </tr>\n",
              "    <tr>\n",
              "      <th>1</th>\n",
              "      <td>Запустить собственную службу доставки, что сократит срок доставки заказов</td>\n",
              "      <td>2</td>\n",
              "      <td>5</td>\n",
              "      <td>4</td>\n",
              "      <td>10</td>\n",
              "    </tr>\n",
              "    <tr>\n",
              "      <th>2</th>\n",
              "      <td>Добавить блоки рекомендаций товаров на сайт интернет магазина, чтобы повысить конверсию и средний чек заказа</td>\n",
              "      <td>8</td>\n",
              "      <td>3</td>\n",
              "      <td>7</td>\n",
              "      <td>3</td>\n",
              "    </tr>\n",
              "    <tr>\n",
              "      <th>3</th>\n",
              "      <td>Изменить структура категорий, что увеличит конверсию, т.к. пользователи быстрее найдут нужный товар</td>\n",
              "      <td>8</td>\n",
              "      <td>3</td>\n",
              "      <td>3</td>\n",
              "      <td>8</td>\n",
              "    </tr>\n",
              "    <tr>\n",
              "      <th>4</th>\n",
              "      <td>Изменить цвет фона главной страницы, чтобы увеличить вовлеченность пользователей</td>\n",
              "      <td>3</td>\n",
              "      <td>1</td>\n",
              "      <td>1</td>\n",
              "      <td>1</td>\n",
              "    </tr>\n",
              "    <tr>\n",
              "      <th>5</th>\n",
              "      <td>Добавить страницу отзывов клиентов о магазине, что позволит увеличить количество заказов</td>\n",
              "      <td>3</td>\n",
              "      <td>2</td>\n",
              "      <td>2</td>\n",
              "      <td>3</td>\n",
              "    </tr>\n",
              "    <tr>\n",
              "      <th>6</th>\n",
              "      <td>Показать на главной странице баннеры с актуальными акциями и распродажами, чтобы увеличить конверсию</td>\n",
              "      <td>5</td>\n",
              "      <td>3</td>\n",
              "      <td>8</td>\n",
              "      <td>3</td>\n",
              "    </tr>\n",
              "    <tr>\n",
              "      <th>7</th>\n",
              "      <td>Добавить форму подписки на все основные страницы, чтобы собрать базу клиентов для email-рассылок</td>\n",
              "      <td>10</td>\n",
              "      <td>7</td>\n",
              "      <td>8</td>\n",
              "      <td>5</td>\n",
              "    </tr>\n",
              "    <tr>\n",
              "      <th>8</th>\n",
              "      <td>Запустить акцию, дающую скидку на товар в день рождения</td>\n",
              "      <td>1</td>\n",
              "      <td>9</td>\n",
              "      <td>9</td>\n",
              "      <td>5</td>\n",
              "    </tr>\n",
              "  </tbody>\n",
              "</table>\n",
              "</div>"
            ],
            "text/plain": [
              "                                                                                                     hypothesis  \\\n",
              "0            Добавить два новых канала привлечения трафика, что позволит привлекать на 30% больше пользователей   \n",
              "1                                     Запустить собственную службу доставки, что сократит срок доставки заказов   \n",
              "2  Добавить блоки рекомендаций товаров на сайт интернет магазина, чтобы повысить конверсию и средний чек заказа   \n",
              "3           Изменить структура категорий, что увеличит конверсию, т.к. пользователи быстрее найдут нужный товар   \n",
              "4                              Изменить цвет фона главной страницы, чтобы увеличить вовлеченность пользователей   \n",
              "5                      Добавить страницу отзывов клиентов о магазине, что позволит увеличить количество заказов   \n",
              "6          Показать на главной странице баннеры с актуальными акциями и распродажами, чтобы увеличить конверсию   \n",
              "7              Добавить форму подписки на все основные страницы, чтобы собрать базу клиентов для email-рассылок   \n",
              "8                                                       Запустить акцию, дающую скидку на товар в день рождения   \n",
              "\n",
              "   reach  impact  confidence  efforts  \n",
              "0      3      10           8        6  \n",
              "1      2       5           4       10  \n",
              "2      8       3           7        3  \n",
              "3      8       3           3        8  \n",
              "4      3       1           1        1  \n",
              "5      3       2           2        3  \n",
              "6      5       3           8        3  \n",
              "7     10       7           8        5  \n",
              "8      1       9           9        5  "
            ]
          },
          "execution_count": 3,
          "metadata": {},
          "output_type": "execute_result"
        }
      ],
      "source": [
        "hypo.columns = hypo.columns.str.lower()\n",
        "hypo"
      ]
    },
    {
      "cell_type": "code",
      "execution_count": null,
      "metadata": {
        "id": "TJP4QjiDgelh",
        "outputId": "220a03a4-33d6-4689-8244-cc63f08a0e54"
      },
      "outputs": [
        {
          "data": {
            "text/html": [
              "<div>\n",
              "<style scoped>\n",
              "    .dataframe tbody tr th:only-of-type {\n",
              "        vertical-align: middle;\n",
              "    }\n",
              "\n",
              "    .dataframe tbody tr th {\n",
              "        vertical-align: top;\n",
              "    }\n",
              "\n",
              "    .dataframe thead th {\n",
              "        text-align: right;\n",
              "    }\n",
              "</style>\n",
              "<table border=\"1\" class=\"dataframe\">\n",
              "  <thead>\n",
              "    <tr style=\"text-align: right;\">\n",
              "      <th></th>\n",
              "      <th>transactionId</th>\n",
              "      <th>visitorId</th>\n",
              "      <th>date</th>\n",
              "      <th>revenue</th>\n",
              "      <th>group</th>\n",
              "    </tr>\n",
              "  </thead>\n",
              "  <tbody>\n",
              "    <tr>\n",
              "      <th>0</th>\n",
              "      <td>3667963787</td>\n",
              "      <td>3312258926</td>\n",
              "      <td>2019-08-15</td>\n",
              "      <td>1650</td>\n",
              "      <td>B</td>\n",
              "    </tr>\n",
              "    <tr>\n",
              "      <th>1</th>\n",
              "      <td>2804400009</td>\n",
              "      <td>3642806036</td>\n",
              "      <td>2019-08-15</td>\n",
              "      <td>730</td>\n",
              "      <td>B</td>\n",
              "    </tr>\n",
              "    <tr>\n",
              "      <th>2</th>\n",
              "      <td>2961555356</td>\n",
              "      <td>4069496402</td>\n",
              "      <td>2019-08-15</td>\n",
              "      <td>400</td>\n",
              "      <td>A</td>\n",
              "    </tr>\n",
              "    <tr>\n",
              "      <th>3</th>\n",
              "      <td>3797467345</td>\n",
              "      <td>1196621759</td>\n",
              "      <td>2019-08-15</td>\n",
              "      <td>9759</td>\n",
              "      <td>B</td>\n",
              "    </tr>\n",
              "    <tr>\n",
              "      <th>4</th>\n",
              "      <td>2282983706</td>\n",
              "      <td>2322279887</td>\n",
              "      <td>2019-08-15</td>\n",
              "      <td>2308</td>\n",
              "      <td>B</td>\n",
              "    </tr>\n",
              "  </tbody>\n",
              "</table>\n",
              "</div>"
            ],
            "text/plain": [
              "   transactionId   visitorId        date  revenue group\n",
              "0     3667963787  3312258926  2019-08-15     1650     B\n",
              "1     2804400009  3642806036  2019-08-15      730     B\n",
              "2     2961555356  4069496402  2019-08-15      400     A\n",
              "3     3797467345  1196621759  2019-08-15     9759     B\n",
              "4     2282983706  2322279887  2019-08-15     2308     B"
            ]
          },
          "execution_count": 4,
          "metadata": {},
          "output_type": "execute_result"
        }
      ],
      "source": [
        "orders = pd.read_csv('/datasets/orders.csv', sep=',')\n",
        "orders.head()"
      ]
    },
    {
      "cell_type": "code",
      "execution_count": null,
      "metadata": {
        "id": "S6c1GdlAgeli"
      },
      "outputs": [],
      "source": [
        "orders['date'] = orders['date'].map(\n",
        "    lambda x: dt.datetime.strptime(x, '%Y-%m-%d')\n",
        ")"
      ]
    },
    {
      "cell_type": "code",
      "execution_count": null,
      "metadata": {
        "id": "IZxsOh4Hgeli",
        "outputId": "a4f25a8f-0b6a-4ce4-a08e-c1fcd1a6ba82"
      },
      "outputs": [
        {
          "name": "stdout",
          "output_type": "stream",
          "text": [
            "<class 'pandas.core.frame.DataFrame'>\n",
            "RangeIndex: 1197 entries, 0 to 1196\n",
            "Data columns (total 5 columns):\n",
            " #   Column         Non-Null Count  Dtype         \n",
            "---  ------         --------------  -----         \n",
            " 0   transactionId  1197 non-null   int64         \n",
            " 1   visitorId      1197 non-null   int64         \n",
            " 2   date           1197 non-null   datetime64[ns]\n",
            " 3   revenue        1197 non-null   int64         \n",
            " 4   group          1197 non-null   object        \n",
            "dtypes: datetime64[ns](1), int64(3), object(1)\n",
            "memory usage: 46.9+ KB\n"
          ]
        }
      ],
      "source": [
        "orders.info()"
      ]
    },
    {
      "cell_type": "code",
      "execution_count": null,
      "metadata": {
        "id": "l8e1xEDUgeli",
        "outputId": "1f2b9974-6b1b-4e44-c116-3e6915f348af"
      },
      "outputs": [
        {
          "data": {
            "text/plain": [
              "transactionId    0\n",
              "visitorId        0\n",
              "date             0\n",
              "revenue          0\n",
              "group            0\n",
              "dtype: int64"
            ]
          },
          "execution_count": 7,
          "metadata": {},
          "output_type": "execute_result"
        }
      ],
      "source": [
        "orders.isna().sum()"
      ]
    },
    {
      "cell_type": "code",
      "execution_count": null,
      "metadata": {
        "id": "Fmxhaqv2gelj",
        "outputId": "ad557c7d-af2f-4c6f-ae1b-3835d4be2e6c"
      },
      "outputs": [
        {
          "data": {
            "text/plain": [
              "0"
            ]
          },
          "execution_count": 8,
          "metadata": {},
          "output_type": "execute_result"
        }
      ],
      "source": [
        "orders.duplicated().sum()"
      ]
    },
    {
      "cell_type": "code",
      "execution_count": null,
      "metadata": {
        "id": "sswi7YP7gelj",
        "outputId": "ddfdbb2a-c9e4-422f-af0a-e669700b0b19"
      },
      "outputs": [
        {
          "data": {
            "text/html": [
              "<div>\n",
              "<style scoped>\n",
              "    .dataframe tbody tr th:only-of-type {\n",
              "        vertical-align: middle;\n",
              "    }\n",
              "\n",
              "    .dataframe tbody tr th {\n",
              "        vertical-align: top;\n",
              "    }\n",
              "\n",
              "    .dataframe thead th {\n",
              "        text-align: right;\n",
              "    }\n",
              "</style>\n",
              "<table border=\"1\" class=\"dataframe\">\n",
              "  <thead>\n",
              "    <tr style=\"text-align: right;\">\n",
              "      <th></th>\n",
              "      <th>date</th>\n",
              "      <th>group</th>\n",
              "      <th>visitors</th>\n",
              "    </tr>\n",
              "  </thead>\n",
              "  <tbody>\n",
              "    <tr>\n",
              "      <th>0</th>\n",
              "      <td>2019-08-01</td>\n",
              "      <td>A</td>\n",
              "      <td>719</td>\n",
              "    </tr>\n",
              "    <tr>\n",
              "      <th>1</th>\n",
              "      <td>2019-08-02</td>\n",
              "      <td>A</td>\n",
              "      <td>619</td>\n",
              "    </tr>\n",
              "    <tr>\n",
              "      <th>2</th>\n",
              "      <td>2019-08-03</td>\n",
              "      <td>A</td>\n",
              "      <td>507</td>\n",
              "    </tr>\n",
              "    <tr>\n",
              "      <th>3</th>\n",
              "      <td>2019-08-04</td>\n",
              "      <td>A</td>\n",
              "      <td>717</td>\n",
              "    </tr>\n",
              "    <tr>\n",
              "      <th>4</th>\n",
              "      <td>2019-08-05</td>\n",
              "      <td>A</td>\n",
              "      <td>756</td>\n",
              "    </tr>\n",
              "  </tbody>\n",
              "</table>\n",
              "</div>"
            ],
            "text/plain": [
              "         date group  visitors\n",
              "0  2019-08-01     A       719\n",
              "1  2019-08-02     A       619\n",
              "2  2019-08-03     A       507\n",
              "3  2019-08-04     A       717\n",
              "4  2019-08-05     A       756"
            ]
          },
          "execution_count": 9,
          "metadata": {},
          "output_type": "execute_result"
        }
      ],
      "source": [
        "visitors = pd.read_csv('/datasets/visitors.csv', sep=',')\n",
        "visitors.head()"
      ]
    },
    {
      "cell_type": "code",
      "execution_count": null,
      "metadata": {
        "id": "ZsZasMrmgelk"
      },
      "outputs": [],
      "source": [
        "visitors['date'] = visitors['date'].map(\n",
        "    lambda x: dt.datetime.strptime(x, '%Y-%m-%d')\n",
        ")"
      ]
    },
    {
      "cell_type": "code",
      "execution_count": null,
      "metadata": {
        "id": "gjOfyZUdgell",
        "outputId": "97afd9e8-072f-43a3-88a9-53f9528a87ba"
      },
      "outputs": [
        {
          "name": "stdout",
          "output_type": "stream",
          "text": [
            "<class 'pandas.core.frame.DataFrame'>\n",
            "RangeIndex: 62 entries, 0 to 61\n",
            "Data columns (total 3 columns):\n",
            " #   Column    Non-Null Count  Dtype         \n",
            "---  ------    --------------  -----         \n",
            " 0   date      62 non-null     datetime64[ns]\n",
            " 1   group     62 non-null     object        \n",
            " 2   visitors  62 non-null     int64         \n",
            "dtypes: datetime64[ns](1), int64(1), object(1)\n",
            "memory usage: 1.6+ KB\n"
          ]
        }
      ],
      "source": [
        "visitors.info()"
      ]
    },
    {
      "cell_type": "code",
      "execution_count": null,
      "metadata": {
        "id": "rXWeA-BBgell",
        "outputId": "09c6d127-8d3e-47c8-88e6-2652a3b00e8b"
      },
      "outputs": [
        {
          "data": {
            "text/plain": [
              "date        0\n",
              "group       0\n",
              "visitors    0\n",
              "dtype: int64"
            ]
          },
          "execution_count": 12,
          "metadata": {},
          "output_type": "execute_result"
        }
      ],
      "source": [
        "visitors.isna().sum()"
      ]
    },
    {
      "cell_type": "code",
      "execution_count": null,
      "metadata": {
        "id": "TnucTWzTgelm",
        "outputId": "4ed38df9-0042-4aa3-cd0c-e318c57d3ef1"
      },
      "outputs": [
        {
          "data": {
            "text/plain": [
              "0"
            ]
          },
          "execution_count": 13,
          "metadata": {},
          "output_type": "execute_result"
        }
      ],
      "source": [
        "visitors.duplicated().sum()"
      ]
    },
    {
      "cell_type": "markdown",
      "metadata": {
        "id": "aqS8elIagelm"
      },
      "source": [
        "Проведена предобработка данных. Дубликатов и пропусков не обнаружено."
      ]
    },
    {
      "cell_type": "markdown",
      "metadata": {
        "id": "eF3OXGA2gelm"
      },
      "source": [
        "## Приоритизация гипотез"
      ]
    },
    {
      "cell_type": "markdown",
      "metadata": {
        "id": "cM3E68qrgeln"
      },
      "source": [
        "Применим фреймворк ICE для приоритизации гипотез."
      ]
    },
    {
      "cell_type": "code",
      "execution_count": null,
      "metadata": {
        "id": "mYZCN1WIgeln",
        "outputId": "c3d81373-683c-45a0-ad37-7df821df9000"
      },
      "outputs": [
        {
          "data": {
            "text/html": [
              "<div>\n",
              "<style scoped>\n",
              "    .dataframe tbody tr th:only-of-type {\n",
              "        vertical-align: middle;\n",
              "    }\n",
              "\n",
              "    .dataframe tbody tr th {\n",
              "        vertical-align: top;\n",
              "    }\n",
              "\n",
              "    .dataframe thead th {\n",
              "        text-align: right;\n",
              "    }\n",
              "</style>\n",
              "<table border=\"1\" class=\"dataframe\">\n",
              "  <thead>\n",
              "    <tr style=\"text-align: right;\">\n",
              "      <th></th>\n",
              "      <th>hypothesis</th>\n",
              "      <th>ICE</th>\n",
              "    </tr>\n",
              "  </thead>\n",
              "  <tbody>\n",
              "    <tr>\n",
              "      <th>8</th>\n",
              "      <td>Запустить акцию, дающую скидку на товар в день рождения</td>\n",
              "      <td>16.20</td>\n",
              "    </tr>\n",
              "    <tr>\n",
              "      <th>0</th>\n",
              "      <td>Добавить два новых канала привлечения трафика, что позволит привлекать на 30% больше пользователей</td>\n",
              "      <td>13.33</td>\n",
              "    </tr>\n",
              "    <tr>\n",
              "      <th>7</th>\n",
              "      <td>Добавить форму подписки на все основные страницы, чтобы собрать базу клиентов для email-рассылок</td>\n",
              "      <td>11.20</td>\n",
              "    </tr>\n",
              "    <tr>\n",
              "      <th>6</th>\n",
              "      <td>Показать на главной странице баннеры с актуальными акциями и распродажами, чтобы увеличить конверсию</td>\n",
              "      <td>8.00</td>\n",
              "    </tr>\n",
              "    <tr>\n",
              "      <th>2</th>\n",
              "      <td>Добавить блоки рекомендаций товаров на сайт интернет магазина, чтобы повысить конверсию и средний чек заказа</td>\n",
              "      <td>7.00</td>\n",
              "    </tr>\n",
              "    <tr>\n",
              "      <th>1</th>\n",
              "      <td>Запустить собственную службу доставки, что сократит срок доставки заказов</td>\n",
              "      <td>2.00</td>\n",
              "    </tr>\n",
              "    <tr>\n",
              "      <th>5</th>\n",
              "      <td>Добавить страницу отзывов клиентов о магазине, что позволит увеличить количество заказов</td>\n",
              "      <td>1.33</td>\n",
              "    </tr>\n",
              "    <tr>\n",
              "      <th>3</th>\n",
              "      <td>Изменить структура категорий, что увеличит конверсию, т.к. пользователи быстрее найдут нужный товар</td>\n",
              "      <td>1.12</td>\n",
              "    </tr>\n",
              "    <tr>\n",
              "      <th>4</th>\n",
              "      <td>Изменить цвет фона главной страницы, чтобы увеличить вовлеченность пользователей</td>\n",
              "      <td>1.00</td>\n",
              "    </tr>\n",
              "  </tbody>\n",
              "</table>\n",
              "</div>"
            ],
            "text/plain": [
              "                                                                                                     hypothesis  \\\n",
              "8                                                       Запустить акцию, дающую скидку на товар в день рождения   \n",
              "0            Добавить два новых канала привлечения трафика, что позволит привлекать на 30% больше пользователей   \n",
              "7              Добавить форму подписки на все основные страницы, чтобы собрать базу клиентов для email-рассылок   \n",
              "6          Показать на главной странице баннеры с актуальными акциями и распродажами, чтобы увеличить конверсию   \n",
              "2  Добавить блоки рекомендаций товаров на сайт интернет магазина, чтобы повысить конверсию и средний чек заказа   \n",
              "1                                     Запустить собственную службу доставки, что сократит срок доставки заказов   \n",
              "5                      Добавить страницу отзывов клиентов о магазине, что позволит увеличить количество заказов   \n",
              "3           Изменить структура категорий, что увеличит конверсию, т.к. пользователи быстрее найдут нужный товар   \n",
              "4                              Изменить цвет фона главной страницы, чтобы увеличить вовлеченность пользователей   \n",
              "\n",
              "     ICE  \n",
              "8  16.20  \n",
              "0  13.33  \n",
              "7  11.20  \n",
              "6   8.00  \n",
              "2   7.00  \n",
              "1   2.00  \n",
              "5   1.33  \n",
              "3   1.12  \n",
              "4   1.00  "
            ]
          },
          "execution_count": 14,
          "metadata": {},
          "output_type": "execute_result"
        }
      ],
      "source": [
        "hypo['ICE'] = round((hypo['impact'] * hypo['confidence'])/hypo['efforts'], 2)\n",
        "\n",
        "hypo[['hypothesis', 'ICE']].sort_values(by='ICE', ascending=False)"
      ]
    },
    {
      "cell_type": "markdown",
      "metadata": {
        "id": "UDIqhINMgelo"
      },
      "source": [
        "Применим фреймворк RICE для приоритизации гипотез."
      ]
    },
    {
      "cell_type": "code",
      "execution_count": null,
      "metadata": {
        "id": "ubyaILuSgelo",
        "outputId": "fa85615c-f071-495e-8f15-e64f3f3b036a"
      },
      "outputs": [
        {
          "data": {
            "text/html": [
              "<div>\n",
              "<style scoped>\n",
              "    .dataframe tbody tr th:only-of-type {\n",
              "        vertical-align: middle;\n",
              "    }\n",
              "\n",
              "    .dataframe tbody tr th {\n",
              "        vertical-align: top;\n",
              "    }\n",
              "\n",
              "    .dataframe thead th {\n",
              "        text-align: right;\n",
              "    }\n",
              "</style>\n",
              "<table border=\"1\" class=\"dataframe\">\n",
              "  <thead>\n",
              "    <tr style=\"text-align: right;\">\n",
              "      <th></th>\n",
              "      <th>hypothesis</th>\n",
              "      <th>RICE</th>\n",
              "    </tr>\n",
              "  </thead>\n",
              "  <tbody>\n",
              "    <tr>\n",
              "      <th>7</th>\n",
              "      <td>Добавить форму подписки на все основные страницы, чтобы собрать базу клиентов для email-рассылок</td>\n",
              "      <td>112.0</td>\n",
              "    </tr>\n",
              "    <tr>\n",
              "      <th>2</th>\n",
              "      <td>Добавить блоки рекомендаций товаров на сайт интернет магазина, чтобы повысить конверсию и средний чек заказа</td>\n",
              "      <td>56.0</td>\n",
              "    </tr>\n",
              "    <tr>\n",
              "      <th>0</th>\n",
              "      <td>Добавить два новых канала привлечения трафика, что позволит привлекать на 30% больше пользователей</td>\n",
              "      <td>40.0</td>\n",
              "    </tr>\n",
              "    <tr>\n",
              "      <th>6</th>\n",
              "      <td>Показать на главной странице баннеры с актуальными акциями и распродажами, чтобы увеличить конверсию</td>\n",
              "      <td>40.0</td>\n",
              "    </tr>\n",
              "    <tr>\n",
              "      <th>8</th>\n",
              "      <td>Запустить акцию, дающую скидку на товар в день рождения</td>\n",
              "      <td>16.2</td>\n",
              "    </tr>\n",
              "    <tr>\n",
              "      <th>3</th>\n",
              "      <td>Изменить структура категорий, что увеличит конверсию, т.к. пользователи быстрее найдут нужный товар</td>\n",
              "      <td>9.0</td>\n",
              "    </tr>\n",
              "    <tr>\n",
              "      <th>1</th>\n",
              "      <td>Запустить собственную службу доставки, что сократит срок доставки заказов</td>\n",
              "      <td>4.0</td>\n",
              "    </tr>\n",
              "    <tr>\n",
              "      <th>5</th>\n",
              "      <td>Добавить страницу отзывов клиентов о магазине, что позволит увеличить количество заказов</td>\n",
              "      <td>4.0</td>\n",
              "    </tr>\n",
              "    <tr>\n",
              "      <th>4</th>\n",
              "      <td>Изменить цвет фона главной страницы, чтобы увеличить вовлеченность пользователей</td>\n",
              "      <td>3.0</td>\n",
              "    </tr>\n",
              "  </tbody>\n",
              "</table>\n",
              "</div>"
            ],
            "text/plain": [
              "                                                                                                     hypothesis  \\\n",
              "7              Добавить форму подписки на все основные страницы, чтобы собрать базу клиентов для email-рассылок   \n",
              "2  Добавить блоки рекомендаций товаров на сайт интернет магазина, чтобы повысить конверсию и средний чек заказа   \n",
              "0            Добавить два новых канала привлечения трафика, что позволит привлекать на 30% больше пользователей   \n",
              "6          Показать на главной странице баннеры с актуальными акциями и распродажами, чтобы увеличить конверсию   \n",
              "8                                                       Запустить акцию, дающую скидку на товар в день рождения   \n",
              "3           Изменить структура категорий, что увеличит конверсию, т.к. пользователи быстрее найдут нужный товар   \n",
              "1                                     Запустить собственную службу доставки, что сократит срок доставки заказов   \n",
              "5                      Добавить страницу отзывов клиентов о магазине, что позволит увеличить количество заказов   \n",
              "4                              Изменить цвет фона главной страницы, чтобы увеличить вовлеченность пользователей   \n",
              "\n",
              "    RICE  \n",
              "7  112.0  \n",
              "2   56.0  \n",
              "0   40.0  \n",
              "6   40.0  \n",
              "8   16.2  \n",
              "3    9.0  \n",
              "1    4.0  \n",
              "5    4.0  \n",
              "4    3.0  "
            ]
          },
          "execution_count": 15,
          "metadata": {},
          "output_type": "execute_result"
        }
      ],
      "source": [
        "hypo['RICE'] = (hypo['reach'] * hypo['impact'] * hypo['confidence'])/hypo['efforts']\n",
        "\n",
        "hypo[['hypothesis', 'RICE']].sort_values(by='RICE', ascending=False)"
      ]
    },
    {
      "cell_type": "markdown",
      "metadata": {
        "id": "kLkC3Rl7gelp"
      },
      "source": [
        "Для фреймворка ICE на лидирующие позиции вышли гипотезы:\n",
        "- Запустить акцию, дающую скидку на товар в день рождения\n",
        "- Добавить два новых канала привлечения трафика, что позволит привлекать на 30% больше пользователей\n",
        "- Добавить форму подписки на все основные страницы, чтобы собрать базу клиентов для email-рассылок\n",
        "\n",
        "Для фреймворка RICE на лидирующие позиции вышли гипотезы:\n",
        "- Добавить форму подписки на все основные страницы, чтобы собрать базу клиентов для email-рассылок\n",
        "- Добавить блоки рекомендаций товаров на сайт интернет магазина, чтобы повысить конверсию и средний чек заказа\n",
        "- Добавить два новых канала привлечения трафика, что позволит привлекать на 30% больше пользователей\n",
        "\n",
        "По разным фреймворкам есть разница в приоритизации, так как для фреймворка RICE добавляется еще один фактор - Reach(охват). Используется, если важно, на какое количество людей повлиет результат в течение определенного периода времени, и сколько пользователей увидят изменения.\n"
      ]
    },
    {
      "cell_type": "markdown",
      "metadata": {
        "id": "zRyHqMQQgelp"
      },
      "source": [
        "## A/B-тестирование"
      ]
    },
    {
      "cell_type": "code",
      "execution_count": null,
      "metadata": {
        "id": "yWaHjMUZgelp",
        "outputId": "f3874d64-6b71-4cd2-8dbc-6e203d2c6957"
      },
      "outputs": [
        {
          "name": "stdout",
          "output_type": "stream",
          "text": [
            "Минимальная дата: 2019-08-01\n"
          ]
        }
      ],
      "source": [
        "print('Минимальная дата:', orders['date'].min().date())"
      ]
    },
    {
      "cell_type": "code",
      "execution_count": null,
      "metadata": {
        "id": "h4r9AfsQgelp",
        "outputId": "69fda289-50fc-4d8d-aea2-e83ccf10b93e"
      },
      "outputs": [
        {
          "name": "stdout",
          "output_type": "stream",
          "text": [
            "Максимальная дата: 2019-08-31\n"
          ]
        }
      ],
      "source": [
        "print('Максимальная дата:', orders['date'].max().date())"
      ]
    },
    {
      "cell_type": "markdown",
      "metadata": {
        "id": "Je4rKqpHgelq"
      },
      "source": [
        "Создадим массивы с уникальными пользователями для каждой группы и рассмотрим количество пользователей в каждой группе."
      ]
    },
    {
      "cell_type": "code",
      "execution_count": null,
      "metadata": {
        "id": "C4BOWiJSgelq",
        "outputId": "a01c7c85-9dc9-4c4f-99c6-287eab4c77ec"
      },
      "outputs": [
        {
          "data": {
            "text/plain": [
              "503"
            ]
          },
          "execution_count": 18,
          "metadata": {},
          "output_type": "execute_result"
        }
      ],
      "source": [
        "groupA = (orders['visitorId'][orders['group'] == 'A'].unique())\n",
        "len(groupA)"
      ]
    },
    {
      "cell_type": "code",
      "execution_count": null,
      "metadata": {
        "id": "A5as6Miqgelq",
        "outputId": "658743cc-84ee-4bd5-893d-3fd318e96265"
      },
      "outputs": [
        {
          "data": {
            "text/plain": [
              "586"
            ]
          },
          "execution_count": 19,
          "metadata": {},
          "output_type": "execute_result"
        }
      ],
      "source": [
        "groupB = (orders['visitorId'][orders['group'] == 'B'].unique())\n",
        "len(groupB)"
      ]
    },
    {
      "cell_type": "code",
      "execution_count": null,
      "metadata": {
        "id": "KVZwIcBJgelq",
        "outputId": "d74bdca9-0770-4fa0-8a6f-7bd21260e4b8"
      },
      "outputs": [
        {
          "data": {
            "text/plain": [
              "array([   8300375,  199603092,  232979603,  237748145,  276558944,\n",
              "        351125977,  393266494,  457167155,  471551937,  477780734,\n",
              "        818047933,  963407295, 1230306981, 1294878855, 1316129916,\n",
              "       1333886533, 1404934699, 1602967004, 1614305549, 1648269707,\n",
              "       1668030113, 1738359350, 1801183820, 1959144690, 2038680547,\n",
              "       2044997962, 2378935119, 2458001652, 2579882178, 2587333274,\n",
              "       2600415354, 2654030115, 2686716486, 2712142231, 2716752286,\n",
              "       2780786433, 2927087541, 2949041841, 2954449915, 3062433592,\n",
              "       3202540741, 3234906277, 3656415546, 3717692402, 3766097110,\n",
              "       3803269165, 3891541246, 3941795274, 3951559397, 3957174400,\n",
              "       3963646447, 3972127743, 3984495233, 4069496402, 4120364173,\n",
              "       4186807279, 4256040402, 4266935830])"
            ]
          },
          "execution_count": 20,
          "metadata": {},
          "output_type": "execute_result"
        }
      ],
      "source": [
        "# Поиск пересекающихся значений id пользователей в двух группах\n",
        "intersection = np.intersect1d(groupA, groupB)\n",
        "intersection"
      ]
    },
    {
      "cell_type": "code",
      "execution_count": null,
      "metadata": {
        "id": "uTEdxoxQgelq",
        "outputId": "aba73270-3ac6-4163-847d-82a1a0553344"
      },
      "outputs": [
        {
          "data": {
            "text/plain": [
              "58"
            ]
          },
          "execution_count": 21,
          "metadata": {},
          "output_type": "execute_result"
        }
      ],
      "source": [
        "len(intersection)"
      ]
    },
    {
      "cell_type": "markdown",
      "metadata": {
        "id": "eKG2AwyZgelq"
      },
      "source": [
        "Для A/B теста было выбрано две группы, тест был парный. \n",
        "\n",
        "Дата начала теста - 01-08-2019.\n",
        "Дата окончания теста - 31-08-2019. Тест длился месяц.\n",
        "\n",
        "В группе А было 467 пользователей, в группе B - 543. Группы не сбалансированы и обнаружено 49 пользователей, которые участвуют одновременно в двух группах.\n",
        "\n",
        "Можно удалить часть пользователей, но в рамках данного проекта сбалансировать группы сложно, так как также требуется откорректировать таблицу visitors. Это позволит данным не исказится. Однако, удалить из второй таблицы не получится, так как там отстутсвуют id пользователей. \n",
        "Значит, следует продолжить работать с данными с учётом несбалансированных групп.\n"
      ]
    },
    {
      "cell_type": "code",
      "execution_count": null,
      "metadata": {
        "id": "E981AEaTgels"
      },
      "outputs": [],
      "source": [
        "# создаем массив уникальных пар значений дат и групп теста\n",
        "groups = orders[['date', 'group']].drop_duplicates()\n",
        "\n",
        "# получаем агрегированные кумулятивные по дням данные о заказах \n",
        "ordersAggregated = groups.apply(\n",
        "    lambda x: orders[\n",
        "        np.logical_and(\n",
        "            orders['date'] <= x['date'], orders['group'] == x['group']\n",
        "        )\n",
        "    ].agg(\n",
        "        {\n",
        "            'date': 'max',\n",
        "            'group': 'max',\n",
        "            'transactionId': 'nunique',\n",
        "            'visitorId': 'nunique',\n",
        "            'revenue': 'sum',\n",
        "        }\n",
        "    ),\n",
        "    axis=1,\n",
        ").sort_values(by=['date', 'group'])\n",
        "\n",
        "# получаем агрегированные кумулятивные по дням данные о посетителях интернет-магазина \n",
        "visitorsAggregated = groups.apply(\n",
        "    lambda x: visitors[\n",
        "        np.logical_and(\n",
        "            visitors['date'] <= x['date'], visitors['group'] == x['group']\n",
        "        )\n",
        "    ].agg({'date': 'max', 'group': 'max', 'visitors': 'sum'}),\n",
        "    axis=1,\n",
        ").sort_values(by=['date', 'group'])\n",
        "\n",
        "# объединяем кумулятивные данные в одной таблице и присваиваем ее столбцам понятные названия\n",
        "cumulativeData = ordersAggregated.merge(visitorsAggregated, left_on=['date', 'group'], right_on=['date', 'group'])\n",
        "\n",
        "cumulativeData.columns = [\n",
        "    'date',\n",
        "    'group',\n",
        "    'orders',\n",
        "    'buyers',\n",
        "    'revenue',\n",
        "    'visitors',\n",
        "]"
      ]
    },
    {
      "cell_type": "markdown",
      "metadata": {
        "id": "u2T0tsCAgels"
      },
      "source": [
        "1. Построим график кумулятивной выручки по группам. "
      ]
    },
    {
      "cell_type": "code",
      "execution_count": null,
      "metadata": {
        "id": "1egWHQIqgels",
        "outputId": "44f47a75-7061-4055-c7a5-414bced475e4"
      },
      "outputs": [
        {
          "data": {
            "image/png": "[encoded data removed]",
            "text/plain": [
              "<Figure size 720x360 with 1 Axes>"
            ]
          },
          "metadata": {
            "needs_background": "light"
          },
          "output_type": "display_data"
        }
      ],
      "source": [
        "# Сохраним данные о датах, выручке и числе заказов в группах A и B в переменных\n",
        "cumulativeRevenueA = cumulativeData[cumulativeData['group']=='A'][['date','revenue', 'orders']]\n",
        "cumulativeRevenueB = cumulativeData[cumulativeData['group']=='B'][['date','revenue', 'orders']]\n",
        "\n",
        "plt.figure(figsize=(10, 5))\n",
        "# Строим график выручки группы А\n",
        "plt.plot(cumulativeRevenueA['date'], cumulativeRevenueA['revenue'], label='A')\n",
        "\n",
        "# Строим график выручки группы B\n",
        "plt.plot(cumulativeRevenueB['date'], cumulativeRevenueB['revenue'], label='B')\n",
        "\n",
        "plt.legend() \n",
        "plt.title('Кумулятивная выручка по группам')\n",
        "plt.ylabel('выручка')\n",
        "plt.xlabel('дата')\n",
        "\n",
        "plt.show()\n"
      ]
    },
    {
      "cell_type": "markdown",
      "metadata": {
        "id": "D0ruD9d0gelt"
      },
      "source": [
        "Выручка по группам равномерно увеличивалась в начале теста, но после 17-08-2019 группа B вырвалась вперед и продолжила лидировать. Значит, есть влияние на результат.\n",
        "\n",
        "2. Построим график кумулятивного среднего чека по группам."
      ]
    },
    {
      "cell_type": "code",
      "execution_count": null,
      "metadata": {
        "id": "c9Vkgiezgelt",
        "outputId": "576a3087-b922-415b-d5f9-32dddba09376"
      },
      "outputs": [
        {
          "data": {
            "image/png": "[encoded data removed]",
            "text/plain": [
              "<Figure size 720x360 with 1 Axes>"
            ]
          },
          "metadata": {
            "needs_background": "light"
          },
          "output_type": "display_data"
        }
      ],
      "source": [
        "plt.figure(figsize=(10, 5))\n",
        "plt.plot(cumulativeRevenueA['date'], cumulativeRevenueA['revenue']/cumulativeRevenueA['orders'], label='A')\n",
        "plt.plot(cumulativeRevenueB['date'], cumulativeRevenueB['revenue']/cumulativeRevenueB['orders'], label='B')\n",
        "\n",
        "plt.legend() \n",
        "plt.title('Кумулятивный средний чек по группам')\n",
        "plt.ylabel('средний чек')\n",
        "plt.xlabel('дата')\n",
        "\n",
        "plt.show()\n"
      ]
    },
    {
      "cell_type": "markdown",
      "metadata": {
        "id": "WEHKziZ0gelt"
      },
      "source": [
        "График колебался, но после 17-08-2019 был резкий скачок группы B. Можно сделать вывод, что эта метрика влияет на результат.\n",
        "\n",
        "3. Построим график относительного изменения кумулятивного среднего чека группы B к группе A."
      ]
    },
    {
      "cell_type": "code",
      "execution_count": null,
      "metadata": {
        "id": "LD2qeAONgelt",
        "outputId": "e8d3c077-0ff6-43f3-8e38-78451fcb411f"
      },
      "outputs": [
        {
          "data": {
            "image/png": "[encoded data removed]",
            "text/plain": [
              "<Figure size 720x360 with 1 Axes>"
            ]
          },
          "metadata": {
            "needs_background": "light"
          },
          "output_type": "display_data"
        }
      ],
      "source": [
        "mergedCumulativeRevenue = cumulativeRevenueA.merge(cumulativeRevenueB, left_on='date', right_on='date', how='left', suffixes=['A', 'B'])\n",
        "\n",
        "plt.figure(figsize=(10, 5))\n",
        "# cтроим отношение средних чеков\n",
        "plt.plot(mergedCumulativeRevenue['date'], (mergedCumulativeRevenue['revenueB']/mergedCumulativeRevenue['ordersB'])/(mergedCumulativeRevenue['revenueA']/mergedCumulativeRevenue['ordersA'])-1)\n",
        "\n",
        "# добавляем ось X\n",
        "plt.axhline(y=0, color='black', linestyle='--') \n",
        "\n",
        "plt.title('Относительное изменение кумулятивного среднего чека')\n",
        "plt.ylabel('средний чек')\n",
        "plt.xlabel('дата')\n",
        "\n",
        "plt.show()\n"
      ]
    },
    {
      "cell_type": "markdown",
      "metadata": {
        "id": "SDOSp_bUgelt"
      },
      "source": [
        "Результаты теста значительно колебались в период с 09-08-2019 по 17-08-2019. Скорее всего есть аномальные значения.\n",
        "\n",
        "4. Построим график кумулятивного среднего количества заказов на посетителя по группам. "
      ]
    },
    {
      "cell_type": "code",
      "execution_count": null,
      "metadata": {
        "id": "ose6s7wJgelt",
        "outputId": "bd2cb5e4-7016-425f-ab60-375fd7500f16"
      },
      "outputs": [
        {
          "data": {
            "image/png": "[encoded data removed]",
            "text/plain": [
              "<Figure size 720x360 with 1 Axes>"
            ]
          },
          "metadata": {
            "needs_background": "light"
          },
          "output_type": "display_data"
        }
      ],
      "source": [
        "cumulativeData['conversion'] = cumulativeData['orders']/cumulativeData['visitors']\n",
        "\n",
        "cumulativeDataA = cumulativeData[cumulativeData['group']=='A']\n",
        "cumulativeDataB = cumulativeData[cumulativeData['group']=='B']\n",
        "\n",
        "plt.figure(figsize=(10, 5))\n",
        "plt.plot(cumulativeDataA['date'], cumulativeDataA['conversion'], label='A')\n",
        "plt.plot(cumulativeDataB['date'], cumulativeDataB['conversion'], label='B')\n",
        "plt.legend()\n",
        "\n",
        "plt.title('Кумулятивное среднее количество заказов на посетителя')\n",
        "plt.ylabel('заказы')\n",
        "plt.xlabel('дата')\n",
        "\n",
        "plt.show()"
      ]
    },
    {
      "cell_type": "markdown",
      "metadata": {
        "id": "e-B7XGu1gelt"
      },
      "source": [
        "Сегмент B имеет большее значение средних количествах заказа на посетителя. Значит, вносимые изменения оказывают влияние на результат.\n",
        "\n",
        "5. Построим график относительного изменения кумулятивного среднего количества заказов на посетителя группы B к группе A. "
      ]
    },
    {
      "cell_type": "code",
      "execution_count": null,
      "metadata": {
        "id": "jbFxYrzAgelu",
        "outputId": "5777f380-2338-446a-a829-0fb2cce46994"
      },
      "outputs": [
        {
          "data": {
            "image/png": "[encoded data removed]",
            "text/plain": [
              "<Figure size 864x432 with 1 Axes>"
            ]
          },
          "metadata": {
            "needs_background": "light"
          },
          "output_type": "display_data"
        }
      ],
      "source": [
        "mergedCumulativeConversions = cumulativeDataA[['date','conversion']].merge(cumulativeDataB[['date','conversion']], left_on='date', right_on='date', how='left', suffixes=['A', 'B'])\n",
        "\n",
        "plt.figure(figsize=(12, 6))\n",
        "plt.plot(mergedCumulativeConversions['date'], mergedCumulativeConversions['conversionB']/mergedCumulativeConversions['conversionA']-1, label=\"Относительный прирост среднего количества заказов на посетителя группы B относительно группы A\")\n",
        "plt.legend()\n",
        "\n",
        "plt.axhline(y=0, color='black', linestyle='--')\n",
        "plt.axhline(y=0.2, color='grey', linestyle='--')\n",
        "plt.title('Изменение кумулятивного среднего количества заказов на посетителя')\n",
        "plt.ylabel('Изменение среднего количества заказов на посетителя')\n",
        "plt.xlabel('Дата')\n",
        "\n",
        "plt.show()"
      ]
    },
    {
      "cell_type": "markdown",
      "metadata": {
        "id": "IzPsGHP8gelu"
      },
      "source": [
        "После второго дня группа B стала лидировать по конверсии, прирост доходит до примерно 20% и после начинает медленно снижаться. В среднем прирост составляет 15%.\n",
        "\n",
        "6. Построим точечный график количества заказов по пользователям. "
      ]
    },
    {
      "cell_type": "code",
      "execution_count": null,
      "metadata": {
        "id": "gI3qvBvBgelu",
        "outputId": "5c429b85-a96d-45db-aa5e-7e7b6863ca63"
      },
      "outputs": [
        {
          "data": {
            "image/png": "[encoded data removed]",
            "text/plain": [
              "<Figure size 720x360 with 1 Axes>"
            ]
          },
          "metadata": {
            "needs_background": "light"
          },
          "output_type": "display_data"
        }
      ],
      "source": [
        "# число заказов по пользователям\n",
        "ordersByUsers = (\n",
        "    orders.groupby('visitorId', as_index=False)\n",
        "    .agg({'transactionId': 'nunique'})\n",
        ")\n",
        "ordersByUsers.columns = ['visitorId', 'orders']\n",
        "\n",
        "plt.figure(figsize=(10, 5))\n",
        "x_values = pd.Series(range(0, len(ordersByUsers)))\n",
        "plt.scatter(x_values, ordersByUsers['orders']) \n",
        "\n",
        "plt.title('Количество заказов по пользователям')\n",
        "plt.ylabel('заказы')\n",
        "plt.xlabel('пользователи')\n",
        "\n",
        "plt.show()"
      ]
    },
    {
      "cell_type": "markdown",
      "metadata": {
        "id": "SmNe5mKKgelu"
      },
      "source": [
        "Большинство пользователей не совершают больше одного заказа. Больше двух заказов уже редкость. Максимальное количество наблюдается у двух пользователей - 11 заказов.\n",
        "\n",
        "7. Посчитаем 95-й и 99-й перцентили количества заказов на пользователя. "
      ]
    },
    {
      "cell_type": "code",
      "execution_count": null,
      "metadata": {
        "id": "ZFbmPixOgelu",
        "outputId": "7502a8e5-1cc4-4c47-ccf8-b71bf34a9016"
      },
      "outputs": [
        {
          "data": {
            "text/plain": [
              "array([2., 4.])"
            ]
          },
          "execution_count": 29,
          "metadata": {},
          "output_type": "execute_result"
        }
      ],
      "source": [
        "np.percentile(ordersByUsers['orders'], [95, 99])"
      ]
    },
    {
      "cell_type": "markdown",
      "metadata": {
        "id": "cOOFbL5kgelv"
      },
      "source": [
        "Не более 5% пользователей совершали больше 2-ух заказов, не более 1% пользователей совершали больше 4-х заказов. Пользователей, совершившие более 4-х заказов, можно назвать аномальными.\n",
        "\n",
        "8. Построим точечный график стоимостей заказов."
      ]
    },
    {
      "cell_type": "code",
      "execution_count": null,
      "metadata": {
        "scrolled": true,
        "id": "QvR85dUIgelv",
        "outputId": "b8f8608f-3fb5-4b63-ff8a-a2799bb1901a"
      },
      "outputs": [
        {
          "data": {
            "image/png": "[encoded data removed]",
            "text/plain": [
              "<Figure size 720x360 with 1 Axes>"
            ]
          },
          "metadata": {
            "needs_background": "light"
          },
          "output_type": "display_data"
        }
      ],
      "source": [
        "plt.figure(figsize=(10, 5))\n",
        "x_values = pd.Series(range(0, len(orders['revenue'])))\n",
        "plt.scatter(x_values, orders['revenue']) \n",
        "\n",
        "plt.title('Стоимости заказов')\n",
        "plt.ylabel('стоимость')\n",
        "plt.xlabel('пользователи')\n",
        "\n",
        "plt.show()"
      ]
    },
    {
      "cell_type": "markdown",
      "metadata": {
        "id": "hZSkA2Cggelv"
      },
      "source": [
        "Заказов более 10000 рублей мало. Есть выбросы - заказ более 20000 рублей и более 120000 рублей. Заказ на 120000 рублей выглядит аномальным.\n",
        "\n",
        "9. Рассмотрим 95-й и 99-й выборочные перцентили."
      ]
    },
    {
      "cell_type": "code",
      "execution_count": null,
      "metadata": {
        "id": "ptLsIQaNgelv",
        "outputId": "1bc7fd63-95fb-48a6-92c8-caaf83b991ec"
      },
      "outputs": [
        {
          "data": {
            "text/plain": [
              "array([28000. , 58233.2])"
            ]
          },
          "execution_count": 31,
          "metadata": {},
          "output_type": "execute_result"
        }
      ],
      "source": [
        "np.percentile(orders['revenue'], [95, 99])"
      ]
    },
    {
      "cell_type": "markdown",
      "metadata": {
        "id": "BbbYfdeZgelv"
      },
      "source": [
        "Не более, чем у 5% пользователей заказы больше 28000 рублей и не более, чем у 1% заказы больше 58233,2 рублей. Пользователей, которые совершили заказы на сумму более, чем 60000 рублей, можно назвать аномальными."
      ]
    },
    {
      "cell_type": "markdown",
      "metadata": {
        "id": "xIEH2M4Pgelw"
      },
      "source": [
        "Удалим две крупные покупки и рассмотрим распределение без них."
      ]
    },
    {
      "cell_type": "code",
      "execution_count": null,
      "metadata": {
        "id": "UAKyRG8Xgelw",
        "outputId": "2a55e5a8-1ea8-4523-f9ff-5b258e01e17c"
      },
      "outputs": [
        {
          "data": {
            "image/png": "[encoded data removed]",
            "text/plain": [
              "<Figure size 720x360 with 1 Axes>"
            ]
          },
          "metadata": {
            "needs_background": "light"
          },
          "output_type": "display_data"
        }
      ],
      "source": [
        "orders = orders[orders['revenue'] < 20000]\n",
        "plt.figure(figsize=(10, 5))\n",
        "x_values = pd.Series(range(0, len(orders['revenue'])))\n",
        "plt.scatter(x_values, orders['revenue']) \n",
        "\n",
        "plt.title('Стоимости заказов')\n",
        "plt.ylabel('стоимость')\n",
        "plt.xlabel('пользователи')\n",
        "\n",
        "plt.show()"
      ]
    },
    {
      "cell_type": "markdown",
      "metadata": {
        "id": "Dg9O-sw0gelw"
      },
      "source": [
        "Больше не видно аномальных покупок."
      ]
    },
    {
      "cell_type": "markdown",
      "metadata": {
        "id": "vzC-eBMsgelw"
      },
      "source": [
        "10. Посчитаем статистическую значимость различий в среднем количестве заказов на посетителя между группами по «сырым» данным."
      ]
    },
    {
      "cell_type": "code",
      "execution_count": null,
      "metadata": {
        "id": "E3fXEeLVgelx"
      },
      "outputs": [],
      "source": [
        "ordersADaily = (\n",
        "    orders[orders['group'] == 'A'][['date', 'transactionId', 'visitorId', 'revenue']]\n",
        "    .groupby('date', as_index=False)\n",
        "    .agg({'transactionId': pd.Series.nunique, 'revenue': 'sum'})\n",
        ")\n",
        "ordersADaily.columns = ['date', 'ordersPerDateA', 'revenuePerDateA']\n",
        "\n",
        "\n",
        "ordersBDaily = (\n",
        "    orders[orders['group'] == 'B'][['date', 'transactionId', 'visitorId', 'revenue']]\n",
        "    .groupby('date', as_index=False)\n",
        "    .agg({'transactionId': pd.Series.nunique, 'revenue': 'sum'})\n",
        ")\n",
        "ordersBDaily.columns = ['date', 'ordersPerDateB', 'revenuePerDateB']"
      ]
    },
    {
      "cell_type": "code",
      "execution_count": null,
      "metadata": {
        "id": "fHeFPP7Kgelx"
      },
      "outputs": [],
      "source": [
        "# ordersByUsersA и ordersByUsersB - количество заказов по пользователям, совершивших более 1 заказа\n",
        "ordersByUsersA = (\n",
        "    orders[orders['group'] == 'A']\n",
        "    .groupby('visitorId', as_index=False)\n",
        "    .agg({'transactionId': pd.Series.nunique})\n",
        ")\n",
        "ordersByUsersA.columns = ['userId', 'orders']\n",
        "\n",
        "ordersByUsersB = (\n",
        "    orders[orders['group'] == 'B']\n",
        "    .groupby('visitorId', as_index=False)\n",
        "    .agg({'transactionId': pd.Series.nunique})\n",
        ")\n",
        "ordersByUsersB.columns = ['userId', 'orders'] \n",
        "\n",
        "# sampleA и sampleB - переменные, в которых пользователям с заказами будет соответствовать число заказов пользователя, а пользователям без заказов — нули. \n",
        "sampleA = pd.concat([ordersByUsersA['orders'],pd.Series(0, index=np.arange(visitors[visitors['group'] == 'A']['visitors'].sum() - len(ordersByUsersA['orders'])), name='orders')],axis=0)\n",
        "\n",
        "sampleB = pd.concat([ordersByUsersB['orders'],pd.Series(0, index=np.arange(visitors[visitors['group'] == 'B']['visitors'].sum() - len(ordersByUsersB['orders'])), name='orders')],axis=0)\n"
      ]
    },
    {
      "cell_type": "markdown",
      "metadata": {
        "id": "UagyIqOfgely"
      },
      "source": [
        "Проверим гипотезы, используя непараметрический тест Уилкоксона-Манна-Уитни. Выбран этот статистический критерий, так как в данных есть небольшие выбросы.\n",
        "\n",
        "- **Нулевая гипотеза:** в \"сырых\" данных нет статистически значимых различий среднего количества заказов на посетителя по результатам месячного теста \n",
        "- **Альтернативная гипотеза:** есть статистически значимые различия"
      ]
    },
    {
      "cell_type": "code",
      "execution_count": null,
      "metadata": {
        "id": "1oXdNbFPgely",
        "outputId": "4276016b-7fc0-4cc7-bce7-43aa40cdeffb"
      },
      "outputs": [
        {
          "name": "stdout",
          "output_type": "stream",
          "text": [
            "p-value по тесту Манна-Уитни: 0.023\n"
          ]
        }
      ],
      "source": [
        "# p-value по тесту Манна-Уитни для статистической значимости различия среднего количества заказов\n",
        "\n",
        "print('p-value по тесту Манна-Уитни:', \"{0:.3f}\".format(stats.mannwhitneyu(sampleA, sampleB)[1]))"
      ]
    },
    {
      "cell_type": "code",
      "execution_count": null,
      "metadata": {
        "id": "j_6xzO2-gely",
        "outputId": "8aca7ff2-5c0e-4a55-cd93-57c864a3affa"
      },
      "outputs": [
        {
          "name": "stdout",
          "output_type": "stream",
          "text": [
            "Относительная разница между группами: 0.133\n"
          ]
        }
      ],
      "source": [
        "print('Относительная разница между группами:', \"{0:.3f}\".\n",
        "      format((ordersBDaily['ordersPerDateB'].sum()/\n",
        "              visitors[visitors['group'] == 'B']['visitors'].sum())/\n",
        "             (ordersADaily['ordersPerDateA'].sum()/\n",
        "              visitors[visitors['group'] == 'A']['visitors'].sum())-1))"
      ]
    },
    {
      "cell_type": "markdown",
      "metadata": {
        "id": "GxwunBJigely"
      },
      "source": [
        "p-value менее 0,05, отвергаем нулевую гипотезу. По сырым данным можно сказать, что в среднем количестве заказов между группами есть статистически значимые различия и относительная разница составляет 13,3%.\n",
        "\n",
        "11. Посчитаем статистическую значимость различий в среднем чеке заказа между группами по «сырым» данным. \n",
        "\n",
        "- **Нулевая гипотеза:** в \"сырых\" данных нет статистически значимых различий в среднем чеке заказа \n",
        "- **Альтернативная гипотеза:** есть статистически значимые различия"
      ]
    },
    {
      "cell_type": "code",
      "execution_count": null,
      "metadata": {
        "id": "Ak_C2f1Cgely",
        "outputId": "4b991ecd-ae3e-4ed2-c4d3-c7fe11c26732"
      },
      "outputs": [
        {
          "name": "stdout",
          "output_type": "stream",
          "text": [
            "p-value по тесту Манна-Уитни: 0.800\n"
          ]
        }
      ],
      "source": [
        "print('p-value по тесту Манна-Уитни:', '{0:.3f}'.format(stats.mannwhitneyu(orders[orders['group']=='A']['revenue'], orders[orders['group']=='B']['revenue'])[1]))"
      ]
    },
    {
      "cell_type": "code",
      "execution_count": null,
      "metadata": {
        "id": "gs_yF3bRgelz",
        "outputId": "547ff0c5-b48e-47d9-f43d-f73927f2011d"
      },
      "outputs": [
        {
          "name": "stdout",
          "output_type": "stream",
          "text": [
            "Относительная разница между группами: -0.016\n"
          ]
        }
      ],
      "source": [
        "print('Относительная разница между группами:', '{0:.3f}'.format(orders[orders['group']=='B']['revenue'].mean()/orders[orders['group']=='A']['revenue'].mean()-1))"
      ]
    },
    {
      "cell_type": "markdown",
      "metadata": {
        "id": "D82cYsGdgelz"
      },
      "source": [
        "p-value больше 0,05 - статистически значимых отличий в среднем чеке между группами нет. \n",
        "Относительное различие среднего чека между сегментами отрицательное, так как прироста нет.\n",
        "\n",
        "12. Посчитаем статистическую значимость различий в среднем количестве заказов на посетителя между группами по «очищенным» данным.\n",
        "\n",
        "- **Нулевая гипотеза:** в \"очищенных\" данных нет статистически значимых различий среднего количества заказов на посетителя по результатам теста \n",
        "- **Альтернативная гипотеза:** есть статистически значимые различия"
      ]
    },
    {
      "cell_type": "code",
      "execution_count": null,
      "metadata": {
        "id": "KsFLtzvDgelz"
      },
      "outputs": [],
      "source": [
        "# Подготовка очищенных данных, сделаем срезы с аномальными пользователями\n",
        "\n",
        "usersWithManyOrders = pd.concat(\n",
        "    [\n",
        "        ordersByUsersA[ordersByUsersA['orders'] > np.percentile(ordersByUsersA['userId'], 95)]['userId'],\n",
        "        ordersByUsersB[ordersByUsersB['orders'] > np.percentile(ordersByUsersA['userId'], 95)]['userId'],\n",
        "    ],\n",
        "    axis=0,\n",
        ")\n",
        "\n",
        "usersWithExpensiveOrders = orders[orders['revenue'] > np.percentile(orders['revenue'], 99)]['visitorId']\n",
        "abnormalUsers = (\n",
        "    pd.concat([usersWithManyOrders, usersWithExpensiveOrders], axis=0)\n",
        "    .drop_duplicates()\n",
        "    .sort_values()\n",
        ")"
      ]
    },
    {
      "cell_type": "markdown",
      "metadata": {
        "id": "cLBFrDCUgelz"
      },
      "source": [
        "Посмотрим на абсоютные и относительные потери после очистки данных."
      ]
    },
    {
      "cell_type": "code",
      "execution_count": null,
      "metadata": {
        "id": "M3By4Azqgelz",
        "outputId": "350a9a71-2497-467a-f322-483f8e5fe218"
      },
      "outputs": [
        {
          "name": "stdout",
          "output_type": "stream",
          "text": [
            "Абсолютные потери: 8\n",
            "Относительные потери: 0.83\n"
          ]
        }
      ],
      "source": [
        "print('Абсолютные потери:', abnormalUsers.count())\n",
        "print('Относительные потери:', round(len(abnormalUsers.unique())/len(orders['visitorId'].unique())*100, 2))"
      ]
    },
    {
      "cell_type": "markdown",
      "metadata": {
        "id": "WRiQAiBpgelz"
      },
      "source": [
        "Было потеряно 8 аномальных пользователей, а относительные потери составили 0,83%"
      ]
    },
    {
      "cell_type": "code",
      "execution_count": null,
      "metadata": {
        "id": "f_do0RB1gel0"
      },
      "outputs": [],
      "source": [
        "# очищенные данные\n",
        "\n",
        "sampleAFiltered = pd.concat(\n",
        "    [\n",
        "        ordersByUsersA[\n",
        "            np.logical_not(ordersByUsersA['userId'].isin(abnormalUsers))\n",
        "        ]['orders'],\n",
        "        pd.Series(\n",
        "            0,\n",
        "            index=np.arange(\n",
        "                visitors[visitors['group'] == 'A']['visitors'].sum() - len(ordersByUsersA['orders'])\n",
        "            ),\n",
        "            name='orders',\n",
        "        ),\n",
        "    ],\n",
        "    axis=0,\n",
        ")\n",
        "\n",
        "sampleBFiltered = pd.concat(\n",
        "    [\n",
        "        ordersByUsersB[\n",
        "            np.logical_not(ordersByUsersB['userId'].isin(abnormalUsers))\n",
        "        ]['orders'],\n",
        "        pd.Series(\n",
        "            0,\n",
        "            index=np.arange(\n",
        "                visitors[visitors['group'] == 'B']['visitors'].sum() - len(ordersByUsersB['orders'])\n",
        "            ),\n",
        "            name='orders',\n",
        "        ),\n",
        "    ],\n",
        "    axis=0,\n",
        ")"
      ]
    },
    {
      "cell_type": "code",
      "execution_count": null,
      "metadata": {
        "id": "YbjSr9Tygel0",
        "outputId": "b1988fb1-202c-43ca-dd21-1bb295e7ddae"
      },
      "outputs": [
        {
          "name": "stdout",
          "output_type": "stream",
          "text": [
            "p-value по тесту Манна-Уитни: 0.029\n"
          ]
        }
      ],
      "source": [
        "# p-value, статистическая значимость\n",
        "print('p-value по тесту Манна-Уитни:', '{0:.3f}'.format(stats.mannwhitneyu(sampleAFiltered, sampleBFiltered)[1]))"
      ]
    },
    {
      "cell_type": "code",
      "execution_count": null,
      "metadata": {
        "id": "vge60Sb8gel0",
        "outputId": "64999e32-240f-4880-d9b0-6bddd44d3710"
      },
      "outputs": [
        {
          "name": "stdout",
          "output_type": "stream",
          "text": [
            "Относительная разница между группами: 0.128\n"
          ]
        }
      ],
      "source": [
        "# Относительное различие между группами\n",
        "print('Относительная разница между группами:', '{0:.3f}'.format(sampleBFiltered.mean()/sampleAFiltered.mean()-1))"
      ]
    },
    {
      "cell_type": "markdown",
      "metadata": {
        "id": "Kl3lhngRgel0"
      },
      "source": [
        "p-value меньше 0,05. Значит, статистическая значимость достигнута и сегмент B лучше сегмента A. Относительный прирост среднего группы В к конверсии группы А равен 12,8%.\n",
        "\n",
        "13. Посчитаем статистическую значимость различий в среднем чеке заказа между группами по «очищенным» данным.\n",
        "\n",
        "- **Нулевая гипотеза:** в \"очищенных\" данных нет статистически значимых различий в среднем чеке по результатам теста \n",
        "- **Альтернативная гипотеза:** есть статистически значимые различия"
      ]
    },
    {
      "cell_type": "code",
      "execution_count": null,
      "metadata": {
        "id": "Ihq-qklFgel0",
        "outputId": "c0d44b74-d408-4b26-8abe-7c957d5d2891"
      },
      "outputs": [
        {
          "name": "stdout",
          "output_type": "stream",
          "text": [
            "p-value по тесту Манна-Уитни: 0.951\n"
          ]
        }
      ],
      "source": [
        "# p-value, статистическая значимость\n",
        "print('p-value по тесту Манна-Уитни:', '{0:.3f}'.format(\n",
        "        stats.mannwhitneyu(\n",
        "            orders[\n",
        "                np.logical_and(\n",
        "                    orders['group'] == 'A',\n",
        "                    np.logical_not(orders['visitorId'].isin(abnormalUsers)),\n",
        "                )\n",
        "            ]['revenue'],\n",
        "            orders[\n",
        "                np.logical_and(\n",
        "                    orders['group'] == 'B',\n",
        "                    np.logical_not(orders['visitorId'].isin(abnormalUsers)),\n",
        "                )\n",
        "            ]['revenue'],\n",
        "        )[1]\n",
        "    ))                    "
      ]
    },
    {
      "cell_type": "code",
      "execution_count": null,
      "metadata": {
        "id": "MKSVU3o0gel0",
        "outputId": "f290dec8-2ac6-49a9-eb2a-c7b77e412542"
      },
      "outputs": [
        {
          "name": "stdout",
          "output_type": "stream",
          "text": [
            "Относительная разница между группами: -0.038\n"
          ]
        }
      ],
      "source": [
        "# Относительное различие между группами\n",
        "print('Относительная разница между группами:', \"{0:.3f}\".format(\n",
        "        orders[\n",
        "            np.logical_and(\n",
        "                orders['group'] == 'B',\n",
        "                np.logical_not(orders['visitorId'].isin(abnormalUsers)),\n",
        "            )\n",
        "        ]['revenue'].mean()\n",
        "        / orders[\n",
        "            np.logical_and(\n",
        "                orders['group'] == 'A',\n",
        "                np.logical_not(orders['visitorId'].isin(abnormalUsers)),\n",
        "            )\n",
        "        ]['revenue'].mean()\n",
        "        - 1\n",
        "    ))"
      ]
    },
    {
      "cell_type": "markdown",
      "metadata": {
        "id": "VbWpJd95gel1"
      },
      "source": [
        "p-value больше 0,05 - статистически значимых отличий в среднем чеке между группами нет. Относительное различие среднего чека между сегментами отрицательное, прироста нет. После удаления аномальных значений в данных стало меньше шума и результат более точный.\n"
      ]
    },
    {
      "cell_type": "markdown",
      "metadata": {
        "id": "YE6d86wlgel1"
      },
      "source": [
        "## Вывод\n",
        "\n",
        "Перед исследованием были получены данные о гипотезах. Они были приоритизированы с помощью фреймворков ICE и RICE. Результаты получились разными, так как обычно используется один фреймворк для приоритизации. Выбирается в соответствии с нужными факторами для исследования.\n",
        "\n",
        "После A/B-теста были получены результаты, которые описаны в файлах /datasets/orders.csv и /datasets/visitors.csv. Данные были проанализированы. Просмотрена кумулятивная выручка по группам и среднему чеку, количество заказов на посетителя. Видно, что сегмент B лучше сегмента А. \n",
        "Статистическая значимость показала, что есть статистически значимые различия и прирост для сегмента В. \n",
        "\n",
        "По результам теста можно принять решение остановить тест и зафиксировать победу группы B. Изменения, действительно, влияют на результат, есть значимые различия и прирост от них - значительно растет количество заказов и, соответственно, выручка. Значит, цель изменений была достигнута и тест можно не продолжать."
      ]
    }
  ],
  "metadata": {
    "ExecuteTimeLog": [
      {
        "duration": 422,
        "start_time": "2023-02-25T13:27:21.580Z"
      },
      {
        "duration": 63,
        "start_time": "2023-02-25T13:28:14.580Z"
      },
      {
        "duration": 15,
        "start_time": "2023-02-25T13:28:19.742Z"
      },
      {
        "duration": 28,
        "start_time": "2023-02-25T13:30:53.707Z"
      },
      {
        "duration": 67,
        "start_time": "2023-02-25T13:32:08.972Z"
      },
      {
        "duration": 7,
        "start_time": "2023-02-25T13:32:57.010Z"
      },
      {
        "duration": 3,
        "start_time": "2023-02-25T13:34:39.435Z"
      },
      {
        "duration": 9,
        "start_time": "2023-02-25T13:34:46.729Z"
      },
      {
        "duration": 8,
        "start_time": "2023-02-25T13:35:22.298Z"
      },
      {
        "duration": 22,
        "start_time": "2023-02-25T13:35:33.406Z"
      },
      {
        "duration": 10,
        "start_time": "2023-02-25T13:35:46.396Z"
      },
      {
        "duration": 13,
        "start_time": "2023-02-25T13:37:30.797Z"
      },
      {
        "duration": 97,
        "start_time": "2023-02-25T13:42:36.825Z"
      },
      {
        "duration": 48,
        "start_time": "2023-02-25T13:43:42.786Z"
      },
      {
        "duration": 14,
        "start_time": "2023-02-25T13:44:06.637Z"
      },
      {
        "duration": 7,
        "start_time": "2023-02-25T13:44:35.670Z"
      },
      {
        "duration": 5,
        "start_time": "2023-02-25T13:44:50.031Z"
      },
      {
        "duration": 82,
        "start_time": "2023-02-25T13:45:04.419Z"
      },
      {
        "duration": 11,
        "start_time": "2023-02-25T13:45:21.166Z"
      },
      {
        "duration": 7,
        "start_time": "2023-02-25T13:45:44.983Z"
      },
      {
        "duration": 5,
        "start_time": "2023-02-25T13:45:46.949Z"
      },
      {
        "duration": 3,
        "start_time": "2023-02-25T13:50:10.056Z"
      },
      {
        "duration": 216,
        "start_time": "2023-02-25T13:50:42.693Z"
      },
      {
        "duration": 371,
        "start_time": "2023-02-25T13:55:19.154Z"
      },
      {
        "duration": 35,
        "start_time": "2023-02-25T13:55:19.527Z"
      },
      {
        "duration": 9,
        "start_time": "2023-02-25T13:55:19.564Z"
      },
      {
        "duration": 43,
        "start_time": "2023-02-25T13:55:19.574Z"
      },
      {
        "duration": 229,
        "start_time": "2023-02-25T13:55:19.620Z"
      },
      {
        "duration": 0,
        "start_time": "2023-02-25T13:55:19.851Z"
      },
      {
        "duration": 0,
        "start_time": "2023-02-25T13:55:19.852Z"
      },
      {
        "duration": 0,
        "start_time": "2023-02-25T13:55:19.853Z"
      },
      {
        "duration": 0,
        "start_time": "2023-02-25T13:55:19.855Z"
      },
      {
        "duration": 0,
        "start_time": "2023-02-25T13:55:19.856Z"
      },
      {
        "duration": 0,
        "start_time": "2023-02-25T13:55:19.857Z"
      },
      {
        "duration": 0,
        "start_time": "2023-02-25T13:55:19.859Z"
      },
      {
        "duration": 0,
        "start_time": "2023-02-25T13:55:19.860Z"
      },
      {
        "duration": 1,
        "start_time": "2023-02-25T13:55:19.861Z"
      },
      {
        "duration": 187,
        "start_time": "2023-02-25T13:56:50.855Z"
      },
      {
        "duration": 12,
        "start_time": "2023-02-25T13:57:27.236Z"
      },
      {
        "duration": 3,
        "start_time": "2023-02-25T13:57:51.783Z"
      },
      {
        "duration": 11,
        "start_time": "2023-02-25T13:57:54.610Z"
      },
      {
        "duration": 10,
        "start_time": "2023-02-25T13:58:38.796Z"
      },
      {
        "duration": 10,
        "start_time": "2023-02-25T13:58:58.970Z"
      },
      {
        "duration": 12,
        "start_time": "2023-02-25T13:59:06.180Z"
      },
      {
        "duration": 188,
        "start_time": "2023-02-25T14:00:51.369Z"
      },
      {
        "duration": 18,
        "start_time": "2023-02-25T14:01:03.500Z"
      },
      {
        "duration": 11,
        "start_time": "2023-02-25T14:01:08.417Z"
      },
      {
        "duration": 12,
        "start_time": "2023-02-25T14:01:16.859Z"
      },
      {
        "duration": 8,
        "start_time": "2023-02-25T14:01:16.970Z"
      },
      {
        "duration": 6,
        "start_time": "2023-02-25T14:01:17.827Z"
      },
      {
        "duration": 34,
        "start_time": "2023-02-25T14:01:20.530Z"
      },
      {
        "duration": 5,
        "start_time": "2023-02-25T14:01:34.014Z"
      },
      {
        "duration": 14,
        "start_time": "2023-02-25T14:01:35.514Z"
      },
      {
        "duration": 6,
        "start_time": "2023-02-25T14:01:37.749Z"
      },
      {
        "duration": 7,
        "start_time": "2023-02-25T14:01:38.370Z"
      },
      {
        "duration": 181,
        "start_time": "2023-02-25T14:04:30.481Z"
      },
      {
        "duration": 420,
        "start_time": "2023-02-25T14:05:39.680Z"
      },
      {
        "duration": 236,
        "start_time": "2023-02-25T14:05:46.497Z"
      },
      {
        "duration": 641,
        "start_time": "2023-02-25T14:05:54.812Z"
      },
      {
        "duration": 34,
        "start_time": "2023-02-25T14:05:55.456Z"
      },
      {
        "duration": 10,
        "start_time": "2023-02-25T14:05:55.492Z"
      },
      {
        "duration": 42,
        "start_time": "2023-02-25T14:05:55.504Z"
      },
      {
        "duration": 18,
        "start_time": "2023-02-25T14:05:55.549Z"
      },
      {
        "duration": 20,
        "start_time": "2023-02-25T14:05:55.568Z"
      },
      {
        "duration": 10,
        "start_time": "2023-02-25T14:05:55.590Z"
      },
      {
        "duration": 9,
        "start_time": "2023-02-25T14:05:55.602Z"
      },
      {
        "duration": 18,
        "start_time": "2023-02-25T14:05:55.613Z"
      },
      {
        "duration": 5,
        "start_time": "2023-02-25T14:05:55.633Z"
      },
      {
        "duration": 18,
        "start_time": "2023-02-25T14:05:55.640Z"
      },
      {
        "duration": 12,
        "start_time": "2023-02-25T14:05:55.660Z"
      },
      {
        "duration": 26,
        "start_time": "2023-02-25T14:05:55.674Z"
      },
      {
        "duration": 17,
        "start_time": "2023-02-25T14:05:55.703Z"
      },
      {
        "duration": 22,
        "start_time": "2023-02-25T14:05:55.721Z"
      },
      {
        "duration": 258,
        "start_time": "2023-02-25T14:05:55.745Z"
      },
      {
        "duration": 176,
        "start_time": "2023-02-25T14:09:34.555Z"
      },
      {
        "duration": 30,
        "start_time": "2023-02-25T14:10:53.256Z"
      },
      {
        "duration": 744,
        "start_time": "2023-02-25T14:11:25.808Z"
      },
      {
        "duration": 35,
        "start_time": "2023-02-25T14:11:26.554Z"
      },
      {
        "duration": 10,
        "start_time": "2023-02-25T14:11:26.591Z"
      },
      {
        "duration": 41,
        "start_time": "2023-02-25T14:11:26.604Z"
      },
      {
        "duration": 14,
        "start_time": "2023-02-25T14:11:26.646Z"
      },
      {
        "duration": 17,
        "start_time": "2023-02-25T14:11:26.663Z"
      },
      {
        "duration": 11,
        "start_time": "2023-02-25T14:11:26.681Z"
      },
      {
        "duration": 16,
        "start_time": "2023-02-25T14:11:26.694Z"
      },
      {
        "duration": 22,
        "start_time": "2023-02-25T14:11:26.712Z"
      },
      {
        "duration": 5,
        "start_time": "2023-02-25T14:11:26.737Z"
      },
      {
        "duration": 14,
        "start_time": "2023-02-25T14:11:26.744Z"
      },
      {
        "duration": 10,
        "start_time": "2023-02-25T14:11:26.761Z"
      },
      {
        "duration": 8,
        "start_time": "2023-02-25T14:11:26.772Z"
      },
      {
        "duration": 27,
        "start_time": "2023-02-25T14:11:26.782Z"
      },
      {
        "duration": 12,
        "start_time": "2023-02-25T14:11:26.811Z"
      },
      {
        "duration": 127,
        "start_time": "2023-02-25T14:11:26.825Z"
      },
      {
        "duration": 27,
        "start_time": "2023-02-25T14:11:32.946Z"
      },
      {
        "duration": 315,
        "start_time": "2023-02-25T14:12:15.914Z"
      },
      {
        "duration": 351,
        "start_time": "2023-02-25T14:31:54.712Z"
      },
      {
        "duration": 281,
        "start_time": "2023-02-25T14:32:44.569Z"
      },
      {
        "duration": 259,
        "start_time": "2023-02-25T14:32:51.698Z"
      },
      {
        "duration": 336,
        "start_time": "2023-02-25T14:33:16.911Z"
      },
      {
        "duration": 277,
        "start_time": "2023-02-25T14:34:21.458Z"
      },
      {
        "duration": 181,
        "start_time": "2023-02-25T14:34:31.673Z"
      },
      {
        "duration": 211,
        "start_time": "2023-02-25T14:36:02.416Z"
      },
      {
        "duration": 211,
        "start_time": "2023-02-25T14:36:57.050Z"
      },
      {
        "duration": 264,
        "start_time": "2023-02-25T14:37:10.214Z"
      },
      {
        "duration": 197,
        "start_time": "2023-02-25T14:37:25.088Z"
      },
      {
        "duration": 180,
        "start_time": "2023-02-25T14:37:43.506Z"
      },
      {
        "duration": 210,
        "start_time": "2023-02-25T14:42:42.658Z"
      },
      {
        "duration": 256,
        "start_time": "2023-02-25T14:42:47.816Z"
      },
      {
        "duration": 270,
        "start_time": "2023-02-25T15:04:39.138Z"
      },
      {
        "duration": 443,
        "start_time": "2023-02-25T15:05:24.192Z"
      },
      {
        "duration": 12,
        "start_time": "2023-02-25T15:09:53.392Z"
      },
      {
        "duration": 322,
        "start_time": "2023-02-25T15:11:51.885Z"
      },
      {
        "duration": 304,
        "start_time": "2023-02-25T15:11:57.033Z"
      },
      {
        "duration": 240,
        "start_time": "2023-02-25T15:12:25.295Z"
      },
      {
        "duration": 218,
        "start_time": "2023-02-25T15:12:28.794Z"
      },
      {
        "duration": 199,
        "start_time": "2023-02-25T15:12:36.237Z"
      },
      {
        "duration": 356,
        "start_time": "2023-02-25T15:14:24.376Z"
      },
      {
        "duration": 220,
        "start_time": "2023-02-25T15:15:32.285Z"
      },
      {
        "duration": 302,
        "start_time": "2023-02-25T15:22:35.499Z"
      },
      {
        "duration": 637,
        "start_time": "2023-02-25T15:24:08.432Z"
      },
      {
        "duration": 33,
        "start_time": "2023-02-25T15:24:09.071Z"
      },
      {
        "duration": 9,
        "start_time": "2023-02-25T15:24:09.106Z"
      },
      {
        "duration": 48,
        "start_time": "2023-02-25T15:24:09.118Z"
      },
      {
        "duration": 19,
        "start_time": "2023-02-25T15:24:09.168Z"
      },
      {
        "duration": 16,
        "start_time": "2023-02-25T15:24:09.189Z"
      },
      {
        "duration": 10,
        "start_time": "2023-02-25T15:24:09.207Z"
      },
      {
        "duration": 11,
        "start_time": "2023-02-25T15:24:09.219Z"
      },
      {
        "duration": 24,
        "start_time": "2023-02-25T15:24:09.232Z"
      },
      {
        "duration": 6,
        "start_time": "2023-02-25T15:24:09.260Z"
      },
      {
        "duration": 34,
        "start_time": "2023-02-25T15:24:09.268Z"
      },
      {
        "duration": 9,
        "start_time": "2023-02-25T15:24:09.305Z"
      },
      {
        "duration": 12,
        "start_time": "2023-02-25T15:24:09.316Z"
      },
      {
        "duration": 18,
        "start_time": "2023-02-25T15:24:09.330Z"
      },
      {
        "duration": 12,
        "start_time": "2023-02-25T15:24:09.351Z"
      },
      {
        "duration": 366,
        "start_time": "2023-02-25T15:24:09.366Z"
      },
      {
        "duration": 507,
        "start_time": "2023-02-25T15:24:09.734Z"
      },
      {
        "duration": 305,
        "start_time": "2023-02-25T15:24:10.243Z"
      },
      {
        "duration": 389,
        "start_time": "2023-02-25T15:24:10.550Z"
      },
      {
        "duration": 350,
        "start_time": "2023-02-25T15:24:10.941Z"
      },
      {
        "duration": 368,
        "start_time": "2023-02-25T15:24:11.299Z"
      },
      {
        "duration": 325,
        "start_time": "2023-02-25T15:25:07.114Z"
      },
      {
        "duration": 750,
        "start_time": "2023-02-25T15:26:05.180Z"
      },
      {
        "duration": 53,
        "start_time": "2023-02-25T17:48:25.236Z"
      },
      {
        "duration": 816,
        "start_time": "2023-02-25T17:48:33.072Z"
      },
      {
        "duration": 96,
        "start_time": "2023-02-25T17:48:33.890Z"
      },
      {
        "duration": 10,
        "start_time": "2023-02-25T17:48:33.990Z"
      },
      {
        "duration": 115,
        "start_time": "2023-02-25T17:48:34.001Z"
      },
      {
        "duration": 13,
        "start_time": "2023-02-25T17:48:34.117Z"
      },
      {
        "duration": 22,
        "start_time": "2023-02-25T17:48:34.131Z"
      },
      {
        "duration": 11,
        "start_time": "2023-02-25T17:48:34.155Z"
      },
      {
        "duration": 22,
        "start_time": "2023-02-25T17:48:34.167Z"
      },
      {
        "duration": 68,
        "start_time": "2023-02-25T17:48:34.191Z"
      },
      {
        "duration": 4,
        "start_time": "2023-02-25T17:48:34.261Z"
      },
      {
        "duration": 19,
        "start_time": "2023-02-25T17:48:34.267Z"
      },
      {
        "duration": 14,
        "start_time": "2023-02-25T17:48:34.287Z"
      },
      {
        "duration": 9,
        "start_time": "2023-02-25T17:48:34.302Z"
      },
      {
        "duration": 15,
        "start_time": "2023-02-25T17:48:34.313Z"
      },
      {
        "duration": 12,
        "start_time": "2023-02-25T17:48:34.330Z"
      },
      {
        "duration": 304,
        "start_time": "2023-02-25T17:48:34.344Z"
      },
      {
        "duration": 310,
        "start_time": "2023-02-25T17:48:34.650Z"
      },
      {
        "duration": 210,
        "start_time": "2023-02-25T17:48:34.962Z"
      },
      {
        "duration": 361,
        "start_time": "2023-02-25T17:48:35.174Z"
      },
      {
        "duration": 302,
        "start_time": "2023-02-25T17:48:35.538Z"
      },
      {
        "duration": 1235,
        "start_time": "2023-02-25T17:48:35.841Z"
      },
      {
        "duration": 27,
        "start_time": "2023-02-25T17:50:05.057Z"
      },
      {
        "duration": 328,
        "start_time": "2023-02-25T17:51:27.235Z"
      },
      {
        "duration": 341,
        "start_time": "2023-02-25T17:51:51.821Z"
      },
      {
        "duration": 307,
        "start_time": "2023-02-25T17:52:00.775Z"
      },
      {
        "duration": 351,
        "start_time": "2023-02-25T17:52:06.931Z"
      },
      {
        "duration": 313,
        "start_time": "2023-02-25T17:54:36.290Z"
      },
      {
        "duration": 316,
        "start_time": "2023-02-25T17:55:51.075Z"
      },
      {
        "duration": 295,
        "start_time": "2023-02-25T17:56:11.177Z"
      },
      {
        "duration": 241,
        "start_time": "2023-02-25T18:00:02.738Z"
      },
      {
        "duration": 358,
        "start_time": "2023-02-25T18:00:06.232Z"
      },
      {
        "duration": 187,
        "start_time": "2023-02-25T18:09:00.616Z"
      },
      {
        "duration": 115,
        "start_time": "2023-02-25T18:09:46.514Z"
      },
      {
        "duration": 142,
        "start_time": "2023-02-25T18:10:35.734Z"
      },
      {
        "duration": 137,
        "start_time": "2023-02-25T18:11:46.861Z"
      },
      {
        "duration": 142,
        "start_time": "2023-02-25T18:11:55.995Z"
      },
      {
        "duration": 142,
        "start_time": "2023-02-25T18:12:01.432Z"
      },
      {
        "duration": 6,
        "start_time": "2023-02-25T18:13:58.205Z"
      },
      {
        "duration": 123,
        "start_time": "2023-02-25T18:19:07.062Z"
      },
      {
        "duration": 145,
        "start_time": "2023-02-25T18:19:50.194Z"
      },
      {
        "duration": 12,
        "start_time": "2023-02-25T18:20:45.377Z"
      },
      {
        "duration": 10,
        "start_time": "2023-02-25T18:21:00.768Z"
      },
      {
        "duration": 11,
        "start_time": "2023-02-25T18:21:11.843Z"
      },
      {
        "duration": 87,
        "start_time": "2023-02-25T18:24:33.415Z"
      },
      {
        "duration": 5,
        "start_time": "2023-02-25T18:24:37.759Z"
      },
      {
        "duration": 526,
        "start_time": "2023-02-25T18:31:43.913Z"
      },
      {
        "duration": 140,
        "start_time": "2023-02-25T18:32:49.793Z"
      },
      {
        "duration": 175,
        "start_time": "2023-02-25T18:34:04.664Z"
      },
      {
        "duration": 241,
        "start_time": "2023-02-25T18:34:43.639Z"
      },
      {
        "duration": 124,
        "start_time": "2023-02-25T18:36:55.527Z"
      },
      {
        "duration": 114,
        "start_time": "2023-02-25T18:37:32.163Z"
      },
      {
        "duration": 229,
        "start_time": "2023-02-25T18:37:57.690Z"
      },
      {
        "duration": 153,
        "start_time": "2023-02-25T18:38:00.679Z"
      },
      {
        "duration": 25,
        "start_time": "2023-02-25T18:40:21.881Z"
      },
      {
        "duration": 24,
        "start_time": "2023-02-25T18:40:27.411Z"
      },
      {
        "duration": 32,
        "start_time": "2023-02-25T18:41:19.104Z"
      },
      {
        "duration": 28,
        "start_time": "2023-02-25T18:41:55.121Z"
      },
      {
        "duration": 6,
        "start_time": "2023-02-25T18:42:57.382Z"
      },
      {
        "duration": 26,
        "start_time": "2023-02-25T18:45:51.470Z"
      },
      {
        "duration": 10,
        "start_time": "2023-02-25T18:48:37.727Z"
      },
      {
        "duration": 11,
        "start_time": "2023-02-25T18:49:13.095Z"
      },
      {
        "duration": 7,
        "start_time": "2023-02-25T18:49:13.817Z"
      },
      {
        "duration": 73,
        "start_time": "2023-02-25T18:51:26.325Z"
      },
      {
        "duration": 1196,
        "start_time": "2023-02-25T19:21:21.980Z"
      },
      {
        "duration": 1239,
        "start_time": "2023-02-25T19:21:45.084Z"
      },
      {
        "duration": 1187,
        "start_time": "2023-02-25T19:33:19.530Z"
      },
      {
        "duration": 35,
        "start_time": "2023-02-25T19:33:20.719Z"
      },
      {
        "duration": 8,
        "start_time": "2023-02-25T19:33:20.756Z"
      },
      {
        "duration": 45,
        "start_time": "2023-02-25T19:33:20.766Z"
      },
      {
        "duration": 17,
        "start_time": "2023-02-25T19:33:20.813Z"
      },
      {
        "duration": 22,
        "start_time": "2023-02-25T19:33:20.832Z"
      },
      {
        "duration": 16,
        "start_time": "2023-02-25T19:33:20.856Z"
      },
      {
        "duration": 12,
        "start_time": "2023-02-25T19:33:20.873Z"
      },
      {
        "duration": 22,
        "start_time": "2023-02-25T19:33:20.887Z"
      },
      {
        "duration": 5,
        "start_time": "2023-02-25T19:33:20.911Z"
      },
      {
        "duration": 16,
        "start_time": "2023-02-25T19:33:20.917Z"
      },
      {
        "duration": 9,
        "start_time": "2023-02-25T19:33:20.935Z"
      },
      {
        "duration": 13,
        "start_time": "2023-02-25T19:33:20.946Z"
      },
      {
        "duration": 17,
        "start_time": "2023-02-25T19:33:20.961Z"
      },
      {
        "duration": 13,
        "start_time": "2023-02-25T19:33:20.980Z"
      },
      {
        "duration": 309,
        "start_time": "2023-02-25T19:33:20.994Z"
      },
      {
        "duration": 313,
        "start_time": "2023-02-25T19:33:21.305Z"
      },
      {
        "duration": 209,
        "start_time": "2023-02-25T19:33:21.620Z"
      },
      {
        "duration": 325,
        "start_time": "2023-02-25T19:33:21.831Z"
      },
      {
        "duration": 245,
        "start_time": "2023-02-25T19:33:22.159Z"
      },
      {
        "duration": 400,
        "start_time": "2023-02-25T19:33:22.406Z"
      },
      {
        "duration": 151,
        "start_time": "2023-02-25T19:33:22.808Z"
      },
      {
        "duration": 5,
        "start_time": "2023-02-25T19:33:22.961Z"
      },
      {
        "duration": 166,
        "start_time": "2023-02-25T19:33:22.967Z"
      },
      {
        "duration": 5,
        "start_time": "2023-02-25T19:33:23.137Z"
      },
      {
        "duration": 381,
        "start_time": "2023-02-25T19:33:23.143Z"
      },
      {
        "duration": 32,
        "start_time": "2023-02-25T19:33:23.525Z"
      },
      {
        "duration": 22,
        "start_time": "2023-02-25T19:33:23.560Z"
      },
      {
        "duration": 28,
        "start_time": "2023-02-25T19:33:23.584Z"
      },
      {
        "duration": 14,
        "start_time": "2023-02-25T19:33:23.614Z"
      },
      {
        "duration": 1207,
        "start_time": "2023-02-25T19:33:23.630Z"
      },
      {
        "duration": 9,
        "start_time": "2023-02-25T19:33:48.469Z"
      },
      {
        "duration": 1130,
        "start_time": "2023-02-25T19:33:57.713Z"
      },
      {
        "duration": 1180,
        "start_time": "2023-02-25T19:38:53.654Z"
      },
      {
        "duration": 97,
        "start_time": "2023-02-25T19:44:02.568Z"
      },
      {
        "duration": 83,
        "start_time": "2023-02-25T19:44:33.241Z"
      },
      {
        "duration": 102,
        "start_time": "2023-02-25T19:44:56.266Z"
      },
      {
        "duration": 1178,
        "start_time": "2023-02-25T19:47:55.421Z"
      },
      {
        "duration": 39,
        "start_time": "2023-02-25T19:47:56.602Z"
      },
      {
        "duration": 9,
        "start_time": "2023-02-25T19:47:56.643Z"
      },
      {
        "duration": 59,
        "start_time": "2023-02-25T19:47:56.655Z"
      },
      {
        "duration": 13,
        "start_time": "2023-02-25T19:47:56.716Z"
      },
      {
        "duration": 31,
        "start_time": "2023-02-25T19:47:56.731Z"
      },
      {
        "duration": 30,
        "start_time": "2023-02-25T19:47:56.764Z"
      },
      {
        "duration": 7,
        "start_time": "2023-02-25T19:47:56.796Z"
      },
      {
        "duration": 24,
        "start_time": "2023-02-25T19:47:56.804Z"
      },
      {
        "duration": 4,
        "start_time": "2023-02-25T19:47:56.832Z"
      },
      {
        "duration": 16,
        "start_time": "2023-02-25T19:47:56.838Z"
      },
      {
        "duration": 20,
        "start_time": "2023-02-25T19:47:56.856Z"
      },
      {
        "duration": 14,
        "start_time": "2023-02-25T19:47:56.879Z"
      },
      {
        "duration": 25,
        "start_time": "2023-02-25T19:47:56.895Z"
      },
      {
        "duration": 12,
        "start_time": "2023-02-25T19:47:56.922Z"
      },
      {
        "duration": 307,
        "start_time": "2023-02-25T19:47:56.936Z"
      },
      {
        "duration": 292,
        "start_time": "2023-02-25T19:47:57.245Z"
      },
      {
        "duration": 216,
        "start_time": "2023-02-25T19:47:57.540Z"
      },
      {
        "duration": 300,
        "start_time": "2023-02-25T19:47:57.758Z"
      },
      {
        "duration": 238,
        "start_time": "2023-02-25T19:47:58.060Z"
      },
      {
        "duration": 354,
        "start_time": "2023-02-25T19:47:58.300Z"
      },
      {
        "duration": 135,
        "start_time": "2023-02-25T19:47:58.656Z"
      },
      {
        "duration": 5,
        "start_time": "2023-02-25T19:47:58.793Z"
      },
      {
        "duration": 158,
        "start_time": "2023-02-25T19:47:58.800Z"
      },
      {
        "duration": 4,
        "start_time": "2023-02-25T19:47:58.960Z"
      },
      {
        "duration": 347,
        "start_time": "2023-02-25T19:47:58.966Z"
      },
      {
        "duration": 26,
        "start_time": "2023-02-25T19:47:59.315Z"
      },
      {
        "duration": 12,
        "start_time": "2023-02-25T19:47:59.344Z"
      },
      {
        "duration": 19,
        "start_time": "2023-02-25T19:47:59.358Z"
      },
      {
        "duration": 15,
        "start_time": "2023-02-25T19:47:59.379Z"
      },
      {
        "duration": 113,
        "start_time": "2023-02-25T19:47:59.396Z"
      },
      {
        "duration": 0,
        "start_time": "2023-02-25T19:47:59.510Z"
      },
      {
        "duration": 1401,
        "start_time": "2023-02-25T19:48:43.177Z"
      },
      {
        "duration": 1402,
        "start_time": "2023-02-25T19:49:01.435Z"
      },
      {
        "duration": 8,
        "start_time": "2023-02-25T20:24:17.790Z"
      },
      {
        "duration": 1141,
        "start_time": "2023-02-25T20:25:48.306Z"
      },
      {
        "duration": 1157,
        "start_time": "2023-02-25T20:26:44.629Z"
      },
      {
        "duration": 1184,
        "start_time": "2023-02-25T20:27:13.021Z"
      },
      {
        "duration": 332,
        "start_time": "2023-02-25T20:27:45.761Z"
      },
      {
        "duration": 26,
        "start_time": "2023-02-25T20:27:47.644Z"
      },
      {
        "duration": 7,
        "start_time": "2023-02-25T20:27:48.120Z"
      },
      {
        "duration": 1240,
        "start_time": "2023-02-25T20:27:58.908Z"
      },
      {
        "duration": 10,
        "start_time": "2023-02-25T20:28:27.856Z"
      },
      {
        "duration": 15,
        "start_time": "2023-02-25T20:29:19.976Z"
      },
      {
        "duration": 25,
        "start_time": "2023-02-25T20:29:52.953Z"
      },
      {
        "duration": 5,
        "start_time": "2023-02-25T20:30:34.281Z"
      },
      {
        "duration": 26,
        "start_time": "2023-02-25T20:30:55.509Z"
      },
      {
        "duration": 1175,
        "start_time": "2023-02-25T20:36:00.252Z"
      },
      {
        "duration": 9,
        "start_time": "2023-02-25T20:36:18.705Z"
      },
      {
        "duration": 1097,
        "start_time": "2023-02-25T20:36:39.205Z"
      },
      {
        "duration": 10,
        "start_time": "2023-02-25T20:36:50.489Z"
      },
      {
        "duration": 1156,
        "start_time": "2023-02-26T10:08:10.616Z"
      },
      {
        "duration": 48,
        "start_time": "2023-02-26T10:08:11.773Z"
      },
      {
        "duration": 8,
        "start_time": "2023-02-26T10:08:11.823Z"
      },
      {
        "duration": 43,
        "start_time": "2023-02-26T10:08:11.833Z"
      },
      {
        "duration": 12,
        "start_time": "2023-02-26T10:08:11.878Z"
      },
      {
        "duration": 42,
        "start_time": "2023-02-26T10:08:11.895Z"
      },
      {
        "duration": 13,
        "start_time": "2023-02-26T10:08:11.939Z"
      },
      {
        "duration": 6,
        "start_time": "2023-02-26T10:08:11.954Z"
      },
      {
        "duration": 20,
        "start_time": "2023-02-26T10:08:11.962Z"
      },
      {
        "duration": 4,
        "start_time": "2023-02-26T10:08:11.985Z"
      },
      {
        "duration": 36,
        "start_time": "2023-02-26T10:08:11.991Z"
      },
      {
        "duration": 7,
        "start_time": "2023-02-26T10:08:12.029Z"
      },
      {
        "duration": 6,
        "start_time": "2023-02-26T10:08:12.038Z"
      },
      {
        "duration": 15,
        "start_time": "2023-02-26T10:08:12.046Z"
      },
      {
        "duration": 10,
        "start_time": "2023-02-26T10:08:12.063Z"
      },
      {
        "duration": 329,
        "start_time": "2023-02-26T10:08:12.074Z"
      },
      {
        "duration": 318,
        "start_time": "2023-02-26T10:08:12.408Z"
      },
      {
        "duration": 215,
        "start_time": "2023-02-26T10:08:12.728Z"
      },
      {
        "duration": 293,
        "start_time": "2023-02-26T10:08:12.945Z"
      },
      {
        "duration": 222,
        "start_time": "2023-02-26T10:08:13.240Z"
      },
      {
        "duration": 370,
        "start_time": "2023-02-26T10:08:13.463Z"
      },
      {
        "duration": 159,
        "start_time": "2023-02-26T10:08:13.835Z"
      },
      {
        "duration": 10,
        "start_time": "2023-02-26T10:08:13.998Z"
      },
      {
        "duration": 168,
        "start_time": "2023-02-26T10:08:14.010Z"
      },
      {
        "duration": 5,
        "start_time": "2023-02-26T10:08:14.180Z"
      },
      {
        "duration": 248,
        "start_time": "2023-02-26T10:08:14.186Z"
      },
      {
        "duration": 170,
        "start_time": "2023-02-26T10:08:14.435Z"
      },
      {
        "duration": 29,
        "start_time": "2023-02-26T10:08:14.609Z"
      },
      {
        "duration": 5,
        "start_time": "2023-02-26T10:08:14.639Z"
      },
      {
        "duration": 10,
        "start_time": "2023-02-26T10:08:14.645Z"
      },
      {
        "duration": 6,
        "start_time": "2023-02-26T10:08:14.657Z"
      },
      {
        "duration": 33,
        "start_time": "2023-02-26T10:08:14.665Z"
      },
      {
        "duration": 29,
        "start_time": "2023-02-26T10:08:14.700Z"
      },
      {
        "duration": 4,
        "start_time": "2023-02-26T10:08:14.731Z"
      },
      {
        "duration": 11,
        "start_time": "2023-02-26T10:08:14.736Z"
      },
      {
        "duration": 9,
        "start_time": "2023-02-26T10:08:14.749Z"
      },
      {
        "duration": 1134,
        "start_time": "2023-02-26T10:10:26.743Z"
      },
      {
        "duration": 48,
        "start_time": "2023-02-26T10:10:27.879Z"
      },
      {
        "duration": 9,
        "start_time": "2023-02-26T10:10:27.929Z"
      },
      {
        "duration": 46,
        "start_time": "2023-02-26T10:10:27.939Z"
      },
      {
        "duration": 16,
        "start_time": "2023-02-26T10:10:27.988Z"
      },
      {
        "duration": 38,
        "start_time": "2023-02-26T10:10:28.006Z"
      },
      {
        "duration": 13,
        "start_time": "2023-02-26T10:10:28.045Z"
      },
      {
        "duration": 10,
        "start_time": "2023-02-26T10:10:28.059Z"
      },
      {
        "duration": 51,
        "start_time": "2023-02-26T10:10:28.072Z"
      },
      {
        "duration": 5,
        "start_time": "2023-02-26T10:10:28.124Z"
      },
      {
        "duration": 15,
        "start_time": "2023-02-26T10:10:28.131Z"
      },
      {
        "duration": 11,
        "start_time": "2023-02-26T10:10:28.148Z"
      },
      {
        "duration": 8,
        "start_time": "2023-02-26T10:10:28.161Z"
      },
      {
        "duration": 16,
        "start_time": "2023-02-26T10:10:28.172Z"
      },
      {
        "duration": 27,
        "start_time": "2023-02-26T10:10:28.190Z"
      },
      {
        "duration": 334,
        "start_time": "2023-02-26T10:10:28.219Z"
      },
      {
        "duration": 315,
        "start_time": "2023-02-26T10:10:28.555Z"
      },
      {
        "duration": 235,
        "start_time": "2023-02-26T10:10:28.872Z"
      },
      {
        "duration": 325,
        "start_time": "2023-02-26T10:10:29.109Z"
      },
      {
        "duration": 239,
        "start_time": "2023-02-26T10:10:29.436Z"
      },
      {
        "duration": 384,
        "start_time": "2023-02-26T10:10:29.677Z"
      },
      {
        "duration": 167,
        "start_time": "2023-02-26T10:10:30.063Z"
      },
      {
        "duration": 4,
        "start_time": "2023-02-26T10:10:30.232Z"
      },
      {
        "duration": 194,
        "start_time": "2023-02-26T10:10:30.238Z"
      },
      {
        "duration": 5,
        "start_time": "2023-02-26T10:10:30.434Z"
      },
      {
        "duration": 271,
        "start_time": "2023-02-26T10:10:30.441Z"
      },
      {
        "duration": 167,
        "start_time": "2023-02-26T10:10:30.714Z"
      },
      {
        "duration": 35,
        "start_time": "2023-02-26T10:10:30.883Z"
      },
      {
        "duration": 60,
        "start_time": "2023-02-26T10:10:30.920Z"
      },
      {
        "duration": 118,
        "start_time": "2023-02-26T10:10:30.982Z"
      },
      {
        "duration": 120,
        "start_time": "2023-02-26T10:10:31.102Z"
      },
      {
        "duration": 67,
        "start_time": "2023-02-26T10:10:31.224Z"
      },
      {
        "duration": 128,
        "start_time": "2023-02-26T10:10:31.293Z"
      },
      {
        "duration": 65,
        "start_time": "2023-02-26T10:10:31.423Z"
      },
      {
        "duration": 42,
        "start_time": "2023-02-26T10:10:31.490Z"
      },
      {
        "duration": 34,
        "start_time": "2023-02-26T10:10:31.534Z"
      },
      {
        "duration": 25,
        "start_time": "2023-02-26T10:10:31.570Z"
      },
      {
        "duration": 1519,
        "start_time": "2023-02-27T14:22:19.434Z"
      },
      {
        "duration": 88,
        "start_time": "2023-02-27T14:22:20.955Z"
      },
      {
        "duration": 9,
        "start_time": "2023-02-27T14:22:21.045Z"
      },
      {
        "duration": 117,
        "start_time": "2023-02-27T14:22:21.056Z"
      },
      {
        "duration": 13,
        "start_time": "2023-02-27T14:22:21.174Z"
      },
      {
        "duration": 27,
        "start_time": "2023-02-27T14:22:21.189Z"
      },
      {
        "duration": 17,
        "start_time": "2023-02-27T14:22:21.218Z"
      },
      {
        "duration": 16,
        "start_time": "2023-02-27T14:22:21.237Z"
      },
      {
        "duration": 92,
        "start_time": "2023-02-27T14:22:21.256Z"
      },
      {
        "duration": 5,
        "start_time": "2023-02-27T14:22:21.351Z"
      },
      {
        "duration": 27,
        "start_time": "2023-02-27T14:22:21.357Z"
      },
      {
        "duration": 16,
        "start_time": "2023-02-27T14:22:21.386Z"
      },
      {
        "duration": 13,
        "start_time": "2023-02-27T14:22:21.404Z"
      },
      {
        "duration": 17,
        "start_time": "2023-02-27T14:22:21.419Z"
      },
      {
        "duration": 25,
        "start_time": "2023-02-27T14:22:21.438Z"
      },
      {
        "duration": 296,
        "start_time": "2023-02-27T14:22:21.465Z"
      },
      {
        "duration": 311,
        "start_time": "2023-02-27T14:22:21.763Z"
      },
      {
        "duration": 223,
        "start_time": "2023-02-27T14:22:22.075Z"
      },
      {
        "duration": 392,
        "start_time": "2023-02-27T14:22:22.300Z"
      },
      {
        "duration": 248,
        "start_time": "2023-02-27T14:22:22.694Z"
      },
      {
        "duration": 392,
        "start_time": "2023-02-27T14:22:22.945Z"
      },
      {
        "duration": 158,
        "start_time": "2023-02-27T14:22:23.338Z"
      },
      {
        "duration": 6,
        "start_time": "2023-02-27T14:22:23.497Z"
      },
      {
        "duration": 185,
        "start_time": "2023-02-27T14:22:23.504Z"
      },
      {
        "duration": 6,
        "start_time": "2023-02-27T14:22:23.691Z"
      },
      {
        "duration": 272,
        "start_time": "2023-02-27T14:22:23.698Z"
      },
      {
        "duration": 173,
        "start_time": "2023-02-27T14:22:23.972Z"
      },
      {
        "duration": 26,
        "start_time": "2023-02-27T14:22:24.148Z"
      },
      {
        "duration": 7,
        "start_time": "2023-02-27T14:22:24.176Z"
      },
      {
        "duration": 27,
        "start_time": "2023-02-27T14:22:24.185Z"
      },
      {
        "duration": 8,
        "start_time": "2023-02-27T14:22:24.214Z"
      },
      {
        "duration": 26,
        "start_time": "2023-02-27T14:22:24.224Z"
      },
      {
        "duration": 21,
        "start_time": "2023-02-27T14:22:24.252Z"
      },
      {
        "duration": 57,
        "start_time": "2023-02-27T14:22:24.274Z"
      },
      {
        "duration": 5,
        "start_time": "2023-02-27T14:22:24.334Z"
      },
      {
        "duration": 39,
        "start_time": "2023-02-27T14:22:24.341Z"
      },
      {
        "duration": 13,
        "start_time": "2023-02-27T14:22:24.382Z"
      },
      {
        "duration": 26,
        "start_time": "2023-02-27T14:22:42.220Z"
      },
      {
        "duration": 32,
        "start_time": "2023-02-27T14:22:50.074Z"
      },
      {
        "duration": 2009,
        "start_time": "2023-02-27T14:23:31.825Z"
      },
      {
        "duration": 3,
        "start_time": "2023-02-27T14:23:45.270Z"
      },
      {
        "duration": 35,
        "start_time": "2023-02-27T14:23:48.089Z"
      },
      {
        "duration": 9,
        "start_time": "2023-02-27T14:25:57.127Z"
      },
      {
        "duration": 56,
        "start_time": "2023-02-27T14:26:10.426Z"
      },
      {
        "duration": 13,
        "start_time": "2023-02-27T14:26:11.412Z"
      },
      {
        "duration": 12,
        "start_time": "2023-02-27T14:26:12.479Z"
      },
      {
        "duration": 7,
        "start_time": "2023-02-27T14:26:13.572Z"
      },
      {
        "duration": 7,
        "start_time": "2023-02-27T14:26:15.617Z"
      },
      {
        "duration": 30,
        "start_time": "2023-02-27T14:26:16.067Z"
      },
      {
        "duration": 5,
        "start_time": "2023-02-27T14:26:16.490Z"
      },
      {
        "duration": 11,
        "start_time": "2023-02-27T14:26:17.273Z"
      },
      {
        "duration": 6,
        "start_time": "2023-02-27T14:26:17.817Z"
      },
      {
        "duration": 5,
        "start_time": "2023-02-27T14:26:18.357Z"
      },
      {
        "duration": 12,
        "start_time": "2023-02-27T14:26:21.651Z"
      },
      {
        "duration": 12,
        "start_time": "2023-02-27T14:27:41.891Z"
      },
      {
        "duration": 1284,
        "start_time": "2023-02-27T16:57:59.179Z"
      },
      {
        "duration": 96,
        "start_time": "2023-02-27T16:58:00.465Z"
      },
      {
        "duration": 11,
        "start_time": "2023-02-27T16:58:00.564Z"
      },
      {
        "duration": 172,
        "start_time": "2023-02-27T16:58:00.578Z"
      },
      {
        "duration": 17,
        "start_time": "2023-02-27T16:58:00.752Z"
      },
      {
        "duration": 52,
        "start_time": "2023-02-27T16:58:00.771Z"
      },
      {
        "duration": 32,
        "start_time": "2023-02-27T16:58:00.825Z"
      },
      {
        "duration": 27,
        "start_time": "2023-02-27T16:58:00.859Z"
      },
      {
        "duration": 95,
        "start_time": "2023-02-27T16:58:00.887Z"
      },
      {
        "duration": 4,
        "start_time": "2023-02-27T16:58:00.985Z"
      },
      {
        "duration": 28,
        "start_time": "2023-02-27T16:58:00.991Z"
      },
      {
        "duration": 27,
        "start_time": "2023-02-27T16:58:01.021Z"
      },
      {
        "duration": 29,
        "start_time": "2023-02-27T16:58:01.049Z"
      },
      {
        "duration": 38,
        "start_time": "2023-02-27T16:58:01.080Z"
      },
      {
        "duration": 32,
        "start_time": "2023-02-27T16:58:01.119Z"
      },
      {
        "duration": 288,
        "start_time": "2023-02-27T16:58:01.152Z"
      },
      {
        "duration": 275,
        "start_time": "2023-02-27T16:58:01.442Z"
      },
      {
        "duration": 201,
        "start_time": "2023-02-27T16:58:01.719Z"
      },
      {
        "duration": 333,
        "start_time": "2023-02-27T16:58:01.922Z"
      },
      {
        "duration": 248,
        "start_time": "2023-02-27T16:58:02.258Z"
      },
      {
        "duration": 340,
        "start_time": "2023-02-27T16:58:02.507Z"
      },
      {
        "duration": 135,
        "start_time": "2023-02-27T16:58:02.849Z"
      },
      {
        "duration": 10,
        "start_time": "2023-02-27T16:58:02.986Z"
      },
      {
        "duration": 180,
        "start_time": "2023-02-27T16:58:02.999Z"
      },
      {
        "duration": 13,
        "start_time": "2023-02-27T16:58:03.181Z"
      },
      {
        "duration": 285,
        "start_time": "2023-02-27T16:58:03.196Z"
      },
      {
        "duration": 156,
        "start_time": "2023-02-27T16:58:03.483Z"
      },
      {
        "duration": 22,
        "start_time": "2023-02-27T16:58:03.642Z"
      },
      {
        "duration": 5,
        "start_time": "2023-02-27T16:58:03.666Z"
      },
      {
        "duration": 11,
        "start_time": "2023-02-27T16:58:03.692Z"
      },
      {
        "duration": 7,
        "start_time": "2023-02-27T16:58:03.705Z"
      },
      {
        "duration": 11,
        "start_time": "2023-02-27T16:58:03.714Z"
      },
      {
        "duration": 8,
        "start_time": "2023-02-27T16:58:03.727Z"
      },
      {
        "duration": 25,
        "start_time": "2023-02-27T16:58:03.737Z"
      },
      {
        "duration": 30,
        "start_time": "2023-02-27T16:58:03.764Z"
      },
      {
        "duration": 16,
        "start_time": "2023-02-27T16:58:03.796Z"
      },
      {
        "duration": 10,
        "start_time": "2023-02-27T16:58:03.814Z"
      },
      {
        "duration": 4,
        "start_time": "2023-02-27T16:59:30.884Z"
      },
      {
        "duration": 4,
        "start_time": "2023-02-27T17:00:14.754Z"
      },
      {
        "duration": 91,
        "start_time": "2023-02-27T17:00:32.933Z"
      },
      {
        "duration": 4,
        "start_time": "2023-02-27T17:00:36.866Z"
      },
      {
        "duration": 4,
        "start_time": "2023-02-27T17:00:59.356Z"
      },
      {
        "duration": 4,
        "start_time": "2023-02-27T17:01:34.883Z"
      },
      {
        "duration": 5,
        "start_time": "2023-02-27T17:01:35.743Z"
      },
      {
        "duration": 5,
        "start_time": "2023-02-27T17:04:08.773Z"
      },
      {
        "duration": 7,
        "start_time": "2023-02-27T17:04:30.104Z"
      },
      {
        "duration": 9,
        "start_time": "2023-02-27T17:05:17.960Z"
      },
      {
        "duration": 15,
        "start_time": "2023-02-27T17:05:56.068Z"
      },
      {
        "duration": 13,
        "start_time": "2023-02-27T17:06:06.274Z"
      },
      {
        "duration": 9,
        "start_time": "2023-02-27T17:06:23.329Z"
      },
      {
        "duration": 11,
        "start_time": "2023-02-27T17:06:55.366Z"
      },
      {
        "duration": 11,
        "start_time": "2023-02-27T17:21:26.859Z"
      },
      {
        "duration": 8,
        "start_time": "2023-02-27T17:22:08.409Z"
      },
      {
        "duration": 3,
        "start_time": "2023-02-27T17:22:16.360Z"
      },
      {
        "duration": 6,
        "start_time": "2023-02-27T17:22:22.970Z"
      },
      {
        "duration": 148,
        "start_time": "2023-02-27T17:22:45.170Z"
      },
      {
        "duration": 24,
        "start_time": "2023-02-27T17:24:29.889Z"
      },
      {
        "duration": 163,
        "start_time": "2023-02-27T17:24:57.685Z"
      },
      {
        "duration": 23,
        "start_time": "2023-02-27T17:49:04.066Z"
      },
      {
        "duration": 5,
        "start_time": "2023-02-27T17:49:58.075Z"
      },
      {
        "duration": 72,
        "start_time": "2023-02-27T17:50:55.804Z"
      },
      {
        "duration": 16,
        "start_time": "2023-02-27T17:51:23.193Z"
      },
      {
        "duration": 8,
        "start_time": "2023-02-27T17:51:53.765Z"
      },
      {
        "duration": 4,
        "start_time": "2023-02-27T18:05:51.715Z"
      },
      {
        "duration": 80,
        "start_time": "2023-02-27T18:06:35.729Z"
      },
      {
        "duration": 21,
        "start_time": "2023-02-27T18:06:45.306Z"
      },
      {
        "duration": 12,
        "start_time": "2023-02-27T18:07:01.617Z"
      },
      {
        "duration": 3,
        "start_time": "2023-02-27T18:07:27.035Z"
      },
      {
        "duration": 8,
        "start_time": "2023-02-27T18:07:41.477Z"
      },
      {
        "duration": 11,
        "start_time": "2023-02-27T18:10:13.802Z"
      },
      {
        "duration": 10,
        "start_time": "2023-02-27T18:10:23.998Z"
      },
      {
        "duration": 4,
        "start_time": "2023-02-27T18:11:07.403Z"
      },
      {
        "duration": 5,
        "start_time": "2023-02-27T18:12:58.645Z"
      },
      {
        "duration": 4,
        "start_time": "2023-02-27T18:14:43.869Z"
      },
      {
        "duration": 4,
        "start_time": "2023-02-27T18:15:40.683Z"
      },
      {
        "duration": 5,
        "start_time": "2023-02-27T18:15:52.127Z"
      },
      {
        "duration": 218,
        "start_time": "2023-02-27T18:19:01.795Z"
      },
      {
        "duration": 119,
        "start_time": "2023-02-27T18:19:03.677Z"
      },
      {
        "duration": 9,
        "start_time": "2023-02-27T18:19:45.876Z"
      },
      {
        "duration": 8,
        "start_time": "2023-02-27T18:21:36.033Z"
      },
      {
        "duration": 5,
        "start_time": "2023-02-27T18:21:43.330Z"
      },
      {
        "duration": 12,
        "start_time": "2023-02-27T18:23:09.682Z"
      },
      {
        "duration": 9,
        "start_time": "2023-02-27T18:23:30.893Z"
      },
      {
        "duration": 4,
        "start_time": "2023-02-27T18:23:43.901Z"
      },
      {
        "duration": 8,
        "start_time": "2023-02-27T18:24:15.182Z"
      },
      {
        "duration": 7,
        "start_time": "2023-02-27T18:25:30.781Z"
      },
      {
        "duration": 12,
        "start_time": "2023-02-27T18:25:40.205Z"
      },
      {
        "duration": 8,
        "start_time": "2023-02-27T18:25:52.874Z"
      },
      {
        "duration": 6,
        "start_time": "2023-02-27T18:25:58.087Z"
      },
      {
        "duration": 4,
        "start_time": "2023-02-27T18:26:13.605Z"
      },
      {
        "duration": 5,
        "start_time": "2023-02-27T18:26:21.222Z"
      },
      {
        "duration": 4,
        "start_time": "2023-02-27T18:28:17.624Z"
      },
      {
        "duration": 5,
        "start_time": "2023-02-27T18:31:17.988Z"
      },
      {
        "duration": 1345,
        "start_time": "2023-02-27T19:58:53.124Z"
      },
      {
        "duration": 91,
        "start_time": "2023-02-27T19:58:54.471Z"
      },
      {
        "duration": 9,
        "start_time": "2023-02-27T19:58:54.564Z"
      },
      {
        "duration": 101,
        "start_time": "2023-02-27T19:58:54.575Z"
      },
      {
        "duration": 12,
        "start_time": "2023-02-27T19:58:54.677Z"
      },
      {
        "duration": 16,
        "start_time": "2023-02-27T19:58:54.691Z"
      },
      {
        "duration": 17,
        "start_time": "2023-02-27T19:58:54.709Z"
      },
      {
        "duration": 11,
        "start_time": "2023-02-27T19:58:54.728Z"
      },
      {
        "duration": 73,
        "start_time": "2023-02-27T19:58:54.741Z"
      },
      {
        "duration": 4,
        "start_time": "2023-02-27T19:58:54.818Z"
      },
      {
        "duration": 15,
        "start_time": "2023-02-27T19:58:54.824Z"
      },
      {
        "duration": 14,
        "start_time": "2023-02-27T19:58:54.841Z"
      },
      {
        "duration": 15,
        "start_time": "2023-02-27T19:58:54.856Z"
      },
      {
        "duration": 26,
        "start_time": "2023-02-27T19:58:54.874Z"
      },
      {
        "duration": 14,
        "start_time": "2023-02-27T19:58:54.901Z"
      },
      {
        "duration": 10,
        "start_time": "2023-02-27T19:58:54.917Z"
      },
      {
        "duration": 11,
        "start_time": "2023-02-27T19:58:54.929Z"
      },
      {
        "duration": 22,
        "start_time": "2023-02-27T19:58:54.942Z"
      },
      {
        "duration": 313,
        "start_time": "2023-02-27T19:58:54.966Z"
      },
      {
        "duration": 308,
        "start_time": "2023-02-27T19:58:55.281Z"
      },
      {
        "duration": 218,
        "start_time": "2023-02-27T19:58:55.591Z"
      },
      {
        "duration": 376,
        "start_time": "2023-02-27T19:58:55.812Z"
      },
      {
        "duration": 232,
        "start_time": "2023-02-27T19:58:56.190Z"
      },
      {
        "duration": 364,
        "start_time": "2023-02-27T19:58:56.424Z"
      },
      {
        "duration": 151,
        "start_time": "2023-02-27T19:58:56.791Z"
      },
      {
        "duration": 5,
        "start_time": "2023-02-27T19:58:56.944Z"
      },
      {
        "duration": 172,
        "start_time": "2023-02-27T19:58:56.951Z"
      },
      {
        "duration": 254,
        "start_time": "2023-02-27T19:58:57.127Z"
      },
      {
        "duration": 0,
        "start_time": "2023-02-27T19:58:57.383Z"
      },
      {
        "duration": 0,
        "start_time": "2023-02-27T19:58:57.384Z"
      },
      {
        "duration": 0,
        "start_time": "2023-02-27T19:58:57.386Z"
      },
      {
        "duration": 0,
        "start_time": "2023-02-27T19:58:57.387Z"
      },
      {
        "duration": 0,
        "start_time": "2023-02-27T19:58:57.389Z"
      },
      {
        "duration": 0,
        "start_time": "2023-02-27T19:58:57.390Z"
      },
      {
        "duration": 0,
        "start_time": "2023-02-27T19:58:57.391Z"
      },
      {
        "duration": 0,
        "start_time": "2023-02-27T19:58:57.392Z"
      },
      {
        "duration": 0,
        "start_time": "2023-02-27T19:58:57.394Z"
      },
      {
        "duration": 0,
        "start_time": "2023-02-27T19:58:57.395Z"
      },
      {
        "duration": 0,
        "start_time": "2023-02-27T19:58:57.396Z"
      },
      {
        "duration": 0,
        "start_time": "2023-02-27T19:58:57.398Z"
      },
      {
        "duration": 0,
        "start_time": "2023-02-27T19:58:57.399Z"
      },
      {
        "duration": 0,
        "start_time": "2023-02-27T19:58:57.401Z"
      },
      {
        "duration": 6,
        "start_time": "2023-02-27T19:59:38.727Z"
      },
      {
        "duration": 6,
        "start_time": "2023-02-27T19:59:50.832Z"
      },
      {
        "duration": 4,
        "start_time": "2023-02-27T19:59:58.932Z"
      },
      {
        "duration": 5,
        "start_time": "2023-02-27T20:00:18.207Z"
      },
      {
        "duration": 5,
        "start_time": "2023-02-27T20:00:46.411Z"
      },
      {
        "duration": 227,
        "start_time": "2023-02-27T20:11:52.131Z"
      },
      {
        "duration": 159,
        "start_time": "2023-02-27T20:12:22.107Z"
      },
      {
        "duration": 132,
        "start_time": "2023-02-27T20:12:25.310Z"
      },
      {
        "duration": 14,
        "start_time": "2023-02-27T20:13:26.377Z"
      },
      {
        "duration": 122,
        "start_time": "2023-02-27T20:13:33.874Z"
      },
      {
        "duration": 126,
        "start_time": "2023-02-27T20:14:36.189Z"
      },
      {
        "duration": 5,
        "start_time": "2023-02-27T20:14:48.952Z"
      },
      {
        "duration": 162,
        "start_time": "2023-02-27T20:15:02.245Z"
      },
      {
        "duration": 168,
        "start_time": "2023-02-27T20:15:17.120Z"
      },
      {
        "duration": 5,
        "start_time": "2023-02-27T20:15:18.911Z"
      },
      {
        "duration": 1149,
        "start_time": "2023-02-27T20:16:16.270Z"
      },
      {
        "duration": 38,
        "start_time": "2023-02-27T20:16:17.421Z"
      },
      {
        "duration": 9,
        "start_time": "2023-02-27T20:16:17.461Z"
      },
      {
        "duration": 57,
        "start_time": "2023-02-27T20:16:17.472Z"
      },
      {
        "duration": 13,
        "start_time": "2023-02-27T20:16:17.531Z"
      },
      {
        "duration": 42,
        "start_time": "2023-02-27T20:16:17.546Z"
      },
      {
        "duration": 21,
        "start_time": "2023-02-27T20:16:17.590Z"
      },
      {
        "duration": 11,
        "start_time": "2023-02-27T20:16:17.612Z"
      },
      {
        "duration": 28,
        "start_time": "2023-02-27T20:16:17.625Z"
      },
      {
        "duration": 5,
        "start_time": "2023-02-27T20:16:17.657Z"
      },
      {
        "duration": 22,
        "start_time": "2023-02-27T20:16:17.664Z"
      },
      {
        "duration": 12,
        "start_time": "2023-02-27T20:16:17.688Z"
      },
      {
        "duration": 13,
        "start_time": "2023-02-27T20:16:17.702Z"
      },
      {
        "duration": 22,
        "start_time": "2023-02-27T20:16:17.716Z"
      },
      {
        "duration": 12,
        "start_time": "2023-02-27T20:16:17.740Z"
      },
      {
        "duration": 22,
        "start_time": "2023-02-27T20:16:17.753Z"
      },
      {
        "duration": 14,
        "start_time": "2023-02-27T20:16:17.777Z"
      },
      {
        "duration": 16,
        "start_time": "2023-02-27T20:16:17.794Z"
      },
      {
        "duration": 8,
        "start_time": "2023-02-27T20:16:17.812Z"
      },
      {
        "duration": 308,
        "start_time": "2023-02-27T20:16:17.821Z"
      },
      {
        "duration": 326,
        "start_time": "2023-02-27T20:16:18.131Z"
      },
      {
        "duration": 222,
        "start_time": "2023-02-27T20:16:18.459Z"
      },
      {
        "duration": 290,
        "start_time": "2023-02-27T20:16:18.683Z"
      },
      {
        "duration": 235,
        "start_time": "2023-02-27T20:16:18.974Z"
      },
      {
        "duration": 401,
        "start_time": "2023-02-27T20:16:19.211Z"
      },
      {
        "duration": 158,
        "start_time": "2023-02-27T20:16:19.614Z"
      },
      {
        "duration": 7,
        "start_time": "2023-02-27T20:16:19.774Z"
      },
      {
        "duration": 177,
        "start_time": "2023-02-27T20:16:19.785Z"
      },
      {
        "duration": 256,
        "start_time": "2023-02-27T20:16:19.964Z"
      },
      {
        "duration": 0,
        "start_time": "2023-02-27T20:16:20.222Z"
      },
      {
        "duration": 0,
        "start_time": "2023-02-27T20:16:20.224Z"
      },
      {
        "duration": 0,
        "start_time": "2023-02-27T20:16:20.238Z"
      },
      {
        "duration": 0,
        "start_time": "2023-02-27T20:16:20.240Z"
      },
      {
        "duration": 0,
        "start_time": "2023-02-27T20:16:20.241Z"
      },
      {
        "duration": 0,
        "start_time": "2023-02-27T20:16:20.243Z"
      },
      {
        "duration": 0,
        "start_time": "2023-02-27T20:16:20.244Z"
      },
      {
        "duration": 0,
        "start_time": "2023-02-27T20:16:20.246Z"
      },
      {
        "duration": 0,
        "start_time": "2023-02-27T20:16:20.247Z"
      },
      {
        "duration": 0,
        "start_time": "2023-02-27T20:16:20.248Z"
      },
      {
        "duration": 0,
        "start_time": "2023-02-27T20:16:20.249Z"
      },
      {
        "duration": 0,
        "start_time": "2023-02-27T20:16:20.250Z"
      },
      {
        "duration": 0,
        "start_time": "2023-02-27T20:16:20.252Z"
      },
      {
        "duration": 0,
        "start_time": "2023-02-27T20:16:20.252Z"
      },
      {
        "duration": 5,
        "start_time": "2023-02-27T20:17:16.276Z"
      },
      {
        "duration": 298,
        "start_time": "2023-02-27T20:17:20.769Z"
      },
      {
        "duration": 220,
        "start_time": "2023-02-27T20:17:22.374Z"
      },
      {
        "duration": 132,
        "start_time": "2023-02-27T20:18:00.749Z"
      },
      {
        "duration": 23,
        "start_time": "2023-02-27T20:18:05.563Z"
      },
      {
        "duration": 9,
        "start_time": "2023-02-27T20:18:06.614Z"
      },
      {
        "duration": 1213,
        "start_time": "2023-02-27T20:19:01.117Z"
      },
      {
        "duration": 187,
        "start_time": "2023-02-27T20:20:06.634Z"
      },
      {
        "duration": 1173,
        "start_time": "2023-02-27T20:20:12.633Z"
      },
      {
        "duration": 2519,
        "start_time": "2023-02-27T20:21:32.322Z"
      },
      {
        "duration": 2051,
        "start_time": "2023-02-27T20:21:50.892Z"
      },
      {
        "duration": 2428,
        "start_time": "2023-02-27T20:22:03.572Z"
      },
      {
        "duration": 5,
        "start_time": "2023-02-27T20:22:52.644Z"
      },
      {
        "duration": 10,
        "start_time": "2023-02-27T20:22:59.379Z"
      },
      {
        "duration": 7,
        "start_time": "2023-02-27T20:23:05.330Z"
      },
      {
        "duration": 173,
        "start_time": "2023-02-27T20:24:13.570Z"
      },
      {
        "duration": 6,
        "start_time": "2023-02-27T20:24:17.429Z"
      },
      {
        "duration": 1199,
        "start_time": "2023-02-27T20:27:56.974Z"
      },
      {
        "duration": 38,
        "start_time": "2023-02-27T20:27:58.175Z"
      },
      {
        "duration": 11,
        "start_time": "2023-02-27T20:27:58.216Z"
      },
      {
        "duration": 44,
        "start_time": "2023-02-27T20:27:58.232Z"
      },
      {
        "duration": 13,
        "start_time": "2023-02-27T20:27:58.277Z"
      },
      {
        "duration": 15,
        "start_time": "2023-02-27T20:27:58.291Z"
      },
      {
        "duration": 9,
        "start_time": "2023-02-27T20:27:58.308Z"
      },
      {
        "duration": 8,
        "start_time": "2023-02-27T20:27:58.319Z"
      },
      {
        "duration": 22,
        "start_time": "2023-02-27T20:27:58.329Z"
      },
      {
        "duration": 4,
        "start_time": "2023-02-27T20:27:58.353Z"
      },
      {
        "duration": 18,
        "start_time": "2023-02-27T20:27:58.359Z"
      },
      {
        "duration": 8,
        "start_time": "2023-02-27T20:27:58.379Z"
      },
      {
        "duration": 7,
        "start_time": "2023-02-27T20:27:58.388Z"
      },
      {
        "duration": 13,
        "start_time": "2023-02-27T20:27:58.397Z"
      },
      {
        "duration": 30,
        "start_time": "2023-02-27T20:27:58.411Z"
      },
      {
        "duration": 11,
        "start_time": "2023-02-27T20:27:58.443Z"
      },
      {
        "duration": 7,
        "start_time": "2023-02-27T20:27:58.455Z"
      },
      {
        "duration": 11,
        "start_time": "2023-02-27T20:27:58.464Z"
      },
      {
        "duration": 5,
        "start_time": "2023-02-27T20:27:58.477Z"
      },
      {
        "duration": 321,
        "start_time": "2023-02-27T20:27:58.483Z"
      },
      {
        "duration": 288,
        "start_time": "2023-02-27T20:27:58.805Z"
      },
      {
        "duration": 212,
        "start_time": "2023-02-27T20:27:59.096Z"
      },
      {
        "duration": 336,
        "start_time": "2023-02-27T20:27:59.310Z"
      },
      {
        "duration": 228,
        "start_time": "2023-02-27T20:27:59.649Z"
      },
      {
        "duration": 316,
        "start_time": "2023-02-27T20:27:59.879Z"
      },
      {
        "duration": 157,
        "start_time": "2023-02-27T20:28:00.196Z"
      },
      {
        "duration": 6,
        "start_time": "2023-02-27T20:28:00.355Z"
      },
      {
        "duration": 186,
        "start_time": "2023-02-27T20:28:00.366Z"
      },
      {
        "duration": 6,
        "start_time": "2023-02-27T20:28:00.554Z"
      },
      {
        "duration": 212,
        "start_time": "2023-02-27T20:28:00.562Z"
      },
      {
        "duration": 308,
        "start_time": "2023-02-27T20:28:00.776Z"
      },
      {
        "duration": 146,
        "start_time": "2023-02-27T20:28:01.085Z"
      },
      {
        "duration": 26,
        "start_time": "2023-02-27T20:28:01.233Z"
      },
      {
        "duration": 18,
        "start_time": "2023-02-27T20:28:01.261Z"
      },
      {
        "duration": 28,
        "start_time": "2023-02-27T20:28:01.281Z"
      },
      {
        "duration": 19,
        "start_time": "2023-02-27T20:28:01.311Z"
      },
      {
        "duration": 46,
        "start_time": "2023-02-27T20:28:01.332Z"
      },
      {
        "duration": 41,
        "start_time": "2023-02-27T20:28:01.380Z"
      },
      {
        "duration": 130,
        "start_time": "2023-02-27T20:28:01.423Z"
      },
      {
        "duration": 0,
        "start_time": "2023-02-27T20:28:01.554Z"
      },
      {
        "duration": 0,
        "start_time": "2023-02-27T20:28:01.556Z"
      },
      {
        "duration": 0,
        "start_time": "2023-02-27T20:28:01.557Z"
      },
      {
        "duration": 0,
        "start_time": "2023-02-27T20:28:01.558Z"
      },
      {
        "duration": 9,
        "start_time": "2023-02-27T20:29:56.314Z"
      },
      {
        "duration": 23,
        "start_time": "2023-02-27T20:29:58.279Z"
      },
      {
        "duration": 5,
        "start_time": "2023-02-27T20:30:00.559Z"
      },
      {
        "duration": 11,
        "start_time": "2023-02-27T20:30:14.563Z"
      },
      {
        "duration": 11,
        "start_time": "2023-02-27T20:30:16.628Z"
      },
      {
        "duration": 1207,
        "start_time": "2023-03-01T12:32:31.421Z"
      },
      {
        "duration": 70,
        "start_time": "2023-03-01T12:32:32.630Z"
      },
      {
        "duration": 12,
        "start_time": "2023-03-01T12:32:32.702Z"
      },
      {
        "duration": 79,
        "start_time": "2023-03-01T12:32:32.716Z"
      },
      {
        "duration": 13,
        "start_time": "2023-03-01T12:32:32.797Z"
      },
      {
        "duration": 14,
        "start_time": "2023-03-01T12:32:32.811Z"
      },
      {
        "duration": 11,
        "start_time": "2023-03-01T12:32:32.827Z"
      },
      {
        "duration": 7,
        "start_time": "2023-03-01T12:32:32.841Z"
      },
      {
        "duration": 71,
        "start_time": "2023-03-01T12:32:32.849Z"
      },
      {
        "duration": 4,
        "start_time": "2023-03-01T12:32:32.923Z"
      },
      {
        "duration": 15,
        "start_time": "2023-03-01T12:32:32.929Z"
      },
      {
        "duration": 7,
        "start_time": "2023-03-01T12:32:32.945Z"
      },
      {
        "duration": 6,
        "start_time": "2023-03-01T12:32:32.954Z"
      },
      {
        "duration": 14,
        "start_time": "2023-03-01T12:32:32.961Z"
      },
      {
        "duration": 12,
        "start_time": "2023-03-01T12:32:32.977Z"
      },
      {
        "duration": 7,
        "start_time": "2023-03-01T12:32:32.990Z"
      },
      {
        "duration": 6,
        "start_time": "2023-03-01T12:32:32.999Z"
      },
      {
        "duration": 14,
        "start_time": "2023-03-01T12:32:33.006Z"
      },
      {
        "duration": 5,
        "start_time": "2023-03-01T12:32:33.021Z"
      },
      {
        "duration": 300,
        "start_time": "2023-03-01T12:32:33.060Z"
      },
      {
        "duration": 310,
        "start_time": "2023-03-01T12:32:33.362Z"
      },
      {
        "duration": 237,
        "start_time": "2023-03-01T12:32:33.674Z"
      },
      {
        "duration": 408,
        "start_time": "2023-03-01T12:32:33.912Z"
      },
      {
        "duration": 241,
        "start_time": "2023-03-01T12:32:34.322Z"
      },
      {
        "duration": 403,
        "start_time": "2023-03-01T12:32:34.565Z"
      },
      {
        "duration": 148,
        "start_time": "2023-03-01T12:32:34.970Z"
      },
      {
        "duration": 6,
        "start_time": "2023-03-01T12:32:35.120Z"
      },
      {
        "duration": 165,
        "start_time": "2023-03-01T12:32:35.130Z"
      },
      {
        "duration": 5,
        "start_time": "2023-03-01T12:32:35.297Z"
      },
      {
        "duration": 191,
        "start_time": "2023-03-01T12:32:35.304Z"
      },
      {
        "duration": 297,
        "start_time": "2023-03-01T12:32:35.497Z"
      },
      {
        "duration": 149,
        "start_time": "2023-03-01T12:32:35.796Z"
      },
      {
        "duration": 33,
        "start_time": "2023-03-01T12:32:35.946Z"
      },
      {
        "duration": 4,
        "start_time": "2023-03-01T12:32:35.981Z"
      },
      {
        "duration": 21,
        "start_time": "2023-03-01T12:32:35.987Z"
      },
      {
        "duration": 11,
        "start_time": "2023-03-01T12:32:36.010Z"
      },
      {
        "duration": 11,
        "start_time": "2023-03-01T12:32:36.023Z"
      },
      {
        "duration": 24,
        "start_time": "2023-03-01T12:32:36.036Z"
      },
      {
        "duration": 10,
        "start_time": "2023-03-01T12:32:36.062Z"
      },
      {
        "duration": 37,
        "start_time": "2023-03-01T12:32:36.073Z"
      },
      {
        "duration": 4,
        "start_time": "2023-03-01T12:32:36.112Z"
      },
      {
        "duration": 10,
        "start_time": "2023-03-01T12:32:36.118Z"
      },
      {
        "duration": 36,
        "start_time": "2023-03-01T12:32:36.130Z"
      },
      {
        "duration": 13,
        "start_time": "2023-03-01T12:33:11.258Z"
      },
      {
        "duration": 109,
        "start_time": "2023-03-01T12:38:47.147Z"
      },
      {
        "duration": 14,
        "start_time": "2023-03-01T12:38:59.303Z"
      },
      {
        "duration": 12,
        "start_time": "2023-03-01T12:39:53.905Z"
      },
      {
        "duration": 12,
        "start_time": "2023-03-01T12:40:48.998Z"
      },
      {
        "duration": 11,
        "start_time": "2023-03-01T12:40:59.884Z"
      },
      {
        "duration": 11,
        "start_time": "2023-03-01T12:41:18.665Z"
      },
      {
        "duration": 16,
        "start_time": "2023-03-01T12:42:07.452Z"
      },
      {
        "duration": 11,
        "start_time": "2023-03-01T12:42:31.410Z"
      },
      {
        "duration": 11,
        "start_time": "2023-03-01T12:42:31.874Z"
      },
      {
        "duration": 10,
        "start_time": "2023-03-01T12:51:51.760Z"
      },
      {
        "duration": 50,
        "start_time": "2023-03-01T12:52:32.551Z"
      },
      {
        "duration": 6,
        "start_time": "2023-03-01T12:52:37.304Z"
      },
      {
        "duration": 5,
        "start_time": "2023-03-01T12:53:31.458Z"
      },
      {
        "duration": 5,
        "start_time": "2023-03-01T12:54:01.804Z"
      },
      {
        "duration": 6,
        "start_time": "2023-03-01T12:54:32.688Z"
      },
      {
        "duration": 77,
        "start_time": "2023-03-01T12:59:30.754Z"
      },
      {
        "duration": 1157,
        "start_time": "2023-03-02T13:52:35.850Z"
      },
      {
        "duration": 72,
        "start_time": "2023-03-02T13:52:37.009Z"
      },
      {
        "duration": 8,
        "start_time": "2023-03-02T13:52:37.083Z"
      },
      {
        "duration": 91,
        "start_time": "2023-03-02T13:52:37.094Z"
      },
      {
        "duration": 12,
        "start_time": "2023-03-02T13:52:37.187Z"
      },
      {
        "duration": 20,
        "start_time": "2023-03-02T13:52:37.201Z"
      },
      {
        "duration": 12,
        "start_time": "2023-03-02T13:52:37.223Z"
      },
      {
        "duration": 12,
        "start_time": "2023-03-02T13:52:37.236Z"
      },
      {
        "duration": 59,
        "start_time": "2023-03-02T13:52:37.250Z"
      },
      {
        "duration": 4,
        "start_time": "2023-03-02T13:52:37.313Z"
      },
      {
        "duration": 20,
        "start_time": "2023-03-02T13:52:37.319Z"
      },
      {
        "duration": 9,
        "start_time": "2023-03-02T13:52:37.341Z"
      },
      {
        "duration": 7,
        "start_time": "2023-03-02T13:52:37.352Z"
      },
      {
        "duration": 16,
        "start_time": "2023-03-02T13:52:37.361Z"
      },
      {
        "duration": 11,
        "start_time": "2023-03-02T13:52:37.379Z"
      },
      {
        "duration": 8,
        "start_time": "2023-03-02T13:52:37.392Z"
      },
      {
        "duration": 5,
        "start_time": "2023-03-02T13:52:37.402Z"
      },
      {
        "duration": 13,
        "start_time": "2023-03-02T13:52:37.409Z"
      },
      {
        "duration": 13,
        "start_time": "2023-03-02T13:52:37.445Z"
      },
      {
        "duration": 8,
        "start_time": "2023-03-02T13:52:37.460Z"
      },
      {
        "duration": 117,
        "start_time": "2023-03-02T13:52:37.470Z"
      },
      {
        "duration": 0,
        "start_time": "2023-03-02T13:52:37.589Z"
      },
      {
        "duration": 0,
        "start_time": "2023-03-02T13:52:37.591Z"
      },
      {
        "duration": 0,
        "start_time": "2023-03-02T13:52:37.592Z"
      },
      {
        "duration": 0,
        "start_time": "2023-03-02T13:52:37.593Z"
      },
      {
        "duration": 0,
        "start_time": "2023-03-02T13:52:37.594Z"
      },
      {
        "duration": 0,
        "start_time": "2023-03-02T13:52:37.595Z"
      },
      {
        "duration": 0,
        "start_time": "2023-03-02T13:52:37.596Z"
      },
      {
        "duration": 0,
        "start_time": "2023-03-02T13:52:37.597Z"
      },
      {
        "duration": 0,
        "start_time": "2023-03-02T13:52:37.599Z"
      },
      {
        "duration": 0,
        "start_time": "2023-03-02T13:52:37.600Z"
      },
      {
        "duration": 0,
        "start_time": "2023-03-02T13:52:37.601Z"
      },
      {
        "duration": 0,
        "start_time": "2023-03-02T13:52:37.603Z"
      },
      {
        "duration": 0,
        "start_time": "2023-03-02T13:52:37.604Z"
      },
      {
        "duration": 0,
        "start_time": "2023-03-02T13:52:37.605Z"
      },
      {
        "duration": 0,
        "start_time": "2023-03-02T13:52:37.607Z"
      },
      {
        "duration": 0,
        "start_time": "2023-03-02T13:52:37.608Z"
      },
      {
        "duration": 0,
        "start_time": "2023-03-02T13:52:37.610Z"
      },
      {
        "duration": 0,
        "start_time": "2023-03-02T13:52:37.611Z"
      },
      {
        "duration": 0,
        "start_time": "2023-03-02T13:52:37.612Z"
      },
      {
        "duration": 0,
        "start_time": "2023-03-02T13:52:37.646Z"
      },
      {
        "duration": 0,
        "start_time": "2023-03-02T13:52:37.647Z"
      },
      {
        "duration": 0,
        "start_time": "2023-03-02T13:52:37.647Z"
      },
      {
        "duration": 0,
        "start_time": "2023-03-02T13:52:37.648Z"
      },
      {
        "duration": 0,
        "start_time": "2023-03-02T13:52:37.649Z"
      },
      {
        "duration": 6,
        "start_time": "2023-03-02T13:52:45.943Z"
      },
      {
        "duration": 6,
        "start_time": "2023-03-02T13:52:48.936Z"
      },
      {
        "duration": 1142,
        "start_time": "2023-03-02T13:55:28.069Z"
      },
      {
        "duration": 37,
        "start_time": "2023-03-02T13:55:29.213Z"
      },
      {
        "duration": 8,
        "start_time": "2023-03-02T13:55:29.252Z"
      },
      {
        "duration": 44,
        "start_time": "2023-03-02T13:55:29.262Z"
      },
      {
        "duration": 12,
        "start_time": "2023-03-02T13:55:29.307Z"
      },
      {
        "duration": 19,
        "start_time": "2023-03-02T13:55:29.320Z"
      },
      {
        "duration": 7,
        "start_time": "2023-03-02T13:55:29.341Z"
      },
      {
        "duration": 8,
        "start_time": "2023-03-02T13:55:29.350Z"
      },
      {
        "duration": 24,
        "start_time": "2023-03-02T13:55:29.360Z"
      },
      {
        "duration": 4,
        "start_time": "2023-03-02T13:55:29.387Z"
      },
      {
        "duration": 13,
        "start_time": "2023-03-02T13:55:29.393Z"
      },
      {
        "duration": 11,
        "start_time": "2023-03-02T13:55:29.407Z"
      },
      {
        "duration": 6,
        "start_time": "2023-03-02T13:55:29.419Z"
      },
      {
        "duration": 21,
        "start_time": "2023-03-02T13:55:29.427Z"
      },
      {
        "duration": 11,
        "start_time": "2023-03-02T13:55:29.450Z"
      },
      {
        "duration": 6,
        "start_time": "2023-03-02T13:55:29.463Z"
      },
      {
        "duration": 7,
        "start_time": "2023-03-02T13:55:29.471Z"
      },
      {
        "duration": 17,
        "start_time": "2023-03-02T13:55:29.480Z"
      },
      {
        "duration": 14,
        "start_time": "2023-03-02T13:55:29.499Z"
      },
      {
        "duration": 5,
        "start_time": "2023-03-02T13:55:29.515Z"
      },
      {
        "duration": 292,
        "start_time": "2023-03-02T13:55:29.545Z"
      },
      {
        "duration": 295,
        "start_time": "2023-03-02T13:55:29.839Z"
      },
      {
        "duration": 210,
        "start_time": "2023-03-02T13:55:30.135Z"
      },
      {
        "duration": 341,
        "start_time": "2023-03-02T13:55:30.346Z"
      },
      {
        "duration": 242,
        "start_time": "2023-03-02T13:55:30.689Z"
      },
      {
        "duration": 370,
        "start_time": "2023-03-02T13:55:30.933Z"
      },
      {
        "duration": 163,
        "start_time": "2023-03-02T13:55:31.306Z"
      },
      {
        "duration": 6,
        "start_time": "2023-03-02T13:55:31.474Z"
      },
      {
        "duration": 216,
        "start_time": "2023-03-02T13:55:31.482Z"
      },
      {
        "duration": 5,
        "start_time": "2023-03-02T13:55:31.699Z"
      },
      {
        "duration": 166,
        "start_time": "2023-03-02T13:55:31.706Z"
      },
      {
        "duration": 282,
        "start_time": "2023-03-02T13:55:31.874Z"
      },
      {
        "duration": 131,
        "start_time": "2023-03-02T13:55:32.157Z"
      },
      {
        "duration": 24,
        "start_time": "2023-03-02T13:55:32.289Z"
      },
      {
        "duration": 4,
        "start_time": "2023-03-02T13:55:32.315Z"
      },
      {
        "duration": 28,
        "start_time": "2023-03-02T13:55:32.321Z"
      },
      {
        "duration": 7,
        "start_time": "2023-03-02T13:55:32.351Z"
      },
      {
        "duration": 11,
        "start_time": "2023-03-02T13:55:32.360Z"
      },
      {
        "duration": 16,
        "start_time": "2023-03-02T13:55:32.372Z"
      },
      {
        "duration": 8,
        "start_time": "2023-03-02T13:55:32.390Z"
      },
      {
        "duration": 29,
        "start_time": "2023-03-02T13:55:32.400Z"
      },
      {
        "duration": 18,
        "start_time": "2023-03-02T13:55:32.430Z"
      },
      {
        "duration": 11,
        "start_time": "2023-03-02T13:55:32.450Z"
      },
      {
        "duration": 8,
        "start_time": "2023-03-02T13:55:32.463Z"
      },
      {
        "duration": 1239,
        "start_time": "2023-03-02T16:29:09.055Z"
      },
      {
        "duration": 69,
        "start_time": "2023-03-02T16:29:10.296Z"
      },
      {
        "duration": 8,
        "start_time": "2023-03-02T16:29:10.366Z"
      },
      {
        "duration": 135,
        "start_time": "2023-03-02T16:29:10.376Z"
      },
      {
        "duration": 12,
        "start_time": "2023-03-02T16:29:10.513Z"
      },
      {
        "duration": 13,
        "start_time": "2023-03-02T16:29:10.526Z"
      },
      {
        "duration": 6,
        "start_time": "2023-03-02T16:29:10.541Z"
      },
      {
        "duration": 6,
        "start_time": "2023-03-02T16:29:10.549Z"
      },
      {
        "duration": 61,
        "start_time": "2023-03-02T16:29:10.557Z"
      },
      {
        "duration": 4,
        "start_time": "2023-03-02T16:29:10.620Z"
      },
      {
        "duration": 13,
        "start_time": "2023-03-02T16:29:10.625Z"
      },
      {
        "duration": 8,
        "start_time": "2023-03-02T16:29:10.639Z"
      },
      {
        "duration": 6,
        "start_time": "2023-03-02T16:29:10.649Z"
      },
      {
        "duration": 14,
        "start_time": "2023-03-02T16:29:10.656Z"
      },
      {
        "duration": 11,
        "start_time": "2023-03-02T16:29:10.671Z"
      },
      {
        "duration": 9,
        "start_time": "2023-03-02T16:29:10.683Z"
      },
      {
        "duration": 6,
        "start_time": "2023-03-02T16:29:10.693Z"
      },
      {
        "duration": 12,
        "start_time": "2023-03-02T16:29:10.701Z"
      },
      {
        "duration": 36,
        "start_time": "2023-03-02T16:29:10.714Z"
      },
      {
        "duration": 6,
        "start_time": "2023-03-02T16:29:10.751Z"
      },
      {
        "duration": 275,
        "start_time": "2023-03-02T16:29:10.759Z"
      },
      {
        "duration": 253,
        "start_time": "2023-03-02T16:29:11.036Z"
      },
      {
        "duration": 182,
        "start_time": "2023-03-02T16:29:11.290Z"
      },
      {
        "duration": 341,
        "start_time": "2023-03-02T16:29:11.473Z"
      },
      {
        "duration": 211,
        "start_time": "2023-03-02T16:29:11.815Z"
      },
      {
        "duration": 344,
        "start_time": "2023-03-02T16:29:12.028Z"
      },
      {
        "duration": 127,
        "start_time": "2023-03-02T16:29:12.374Z"
      },
      {
        "duration": 5,
        "start_time": "2023-03-02T16:29:12.505Z"
      },
      {
        "duration": 145,
        "start_time": "2023-03-02T16:29:12.511Z"
      },
      {
        "duration": 5,
        "start_time": "2023-03-02T16:29:12.658Z"
      },
      {
        "duration": 160,
        "start_time": "2023-03-02T16:29:12.664Z"
      },
      {
        "duration": 284,
        "start_time": "2023-03-02T16:29:12.826Z"
      },
      {
        "duration": 126,
        "start_time": "2023-03-02T16:29:13.111Z"
      },
      {
        "duration": 27,
        "start_time": "2023-03-02T16:29:13.238Z"
      },
      {
        "duration": 5,
        "start_time": "2023-03-02T16:29:13.267Z"
      },
      {
        "duration": 13,
        "start_time": "2023-03-02T16:29:13.273Z"
      },
      {
        "duration": 11,
        "start_time": "2023-03-02T16:29:13.288Z"
      },
      {
        "duration": 21,
        "start_time": "2023-03-02T16:29:13.300Z"
      },
      {
        "duration": 8,
        "start_time": "2023-03-02T16:29:13.322Z"
      },
      {
        "duration": 23,
        "start_time": "2023-03-02T16:29:13.331Z"
      },
      {
        "duration": 26,
        "start_time": "2023-03-02T16:29:13.356Z"
      },
      {
        "duration": 4,
        "start_time": "2023-03-02T16:29:13.383Z"
      },
      {
        "duration": 14,
        "start_time": "2023-03-02T16:29:13.389Z"
      },
      {
        "duration": 8,
        "start_time": "2023-03-02T16:29:13.404Z"
      },
      {
        "duration": 4,
        "start_time": "2023-03-02T16:30:32.238Z"
      },
      {
        "duration": 13,
        "start_time": "2023-03-02T16:30:44.465Z"
      },
      {
        "duration": 12,
        "start_time": "2023-03-02T16:31:20.982Z"
      },
      {
        "duration": 5,
        "start_time": "2023-03-02T16:31:45.114Z"
      },
      {
        "duration": 9,
        "start_time": "2023-03-02T16:37:35.134Z"
      },
      {
        "duration": 87,
        "start_time": "2023-03-02T16:38:10.855Z"
      },
      {
        "duration": 7,
        "start_time": "2023-03-02T16:38:15.795Z"
      },
      {
        "duration": 6,
        "start_time": "2023-03-02T16:39:26.250Z"
      },
      {
        "duration": 4,
        "start_time": "2023-03-02T16:39:38.416Z"
      },
      {
        "duration": 7,
        "start_time": "2023-03-02T16:40:03.551Z"
      },
      {
        "duration": 7,
        "start_time": "2023-03-02T16:40:15.926Z"
      },
      {
        "duration": 10,
        "start_time": "2023-03-02T16:40:26.822Z"
      },
      {
        "duration": 4,
        "start_time": "2023-03-02T16:41:09.675Z"
      },
      {
        "duration": 5,
        "start_time": "2023-03-02T16:41:11.075Z"
      },
      {
        "duration": 5,
        "start_time": "2023-03-02T16:41:38.244Z"
      },
      {
        "duration": 6,
        "start_time": "2023-03-02T16:41:55.458Z"
      },
      {
        "duration": 11,
        "start_time": "2023-03-02T16:42:05.314Z"
      },
      {
        "duration": 6,
        "start_time": "2023-03-02T16:42:13.488Z"
      },
      {
        "duration": 5,
        "start_time": "2023-03-02T16:42:17.017Z"
      },
      {
        "duration": 10,
        "start_time": "2023-03-02T16:42:39.408Z"
      },
      {
        "duration": 5,
        "start_time": "2023-03-02T16:43:18.721Z"
      },
      {
        "duration": 4,
        "start_time": "2023-03-02T16:43:42.322Z"
      },
      {
        "duration": 6,
        "start_time": "2023-03-02T16:44:04.311Z"
      },
      {
        "duration": 5,
        "start_time": "2023-03-02T16:44:08.139Z"
      },
      {
        "duration": 5,
        "start_time": "2023-03-02T16:44:08.690Z"
      },
      {
        "duration": 4,
        "start_time": "2023-03-02T16:45:00.282Z"
      },
      {
        "duration": 1095,
        "start_time": "2023-03-02T16:51:51.516Z"
      },
      {
        "duration": 38,
        "start_time": "2023-03-02T16:51:52.613Z"
      },
      {
        "duration": 15,
        "start_time": "2023-03-02T16:51:52.653Z"
      },
      {
        "duration": 69,
        "start_time": "2023-03-02T16:51:52.670Z"
      },
      {
        "duration": 12,
        "start_time": "2023-03-02T16:51:52.740Z"
      },
      {
        "duration": 18,
        "start_time": "2023-03-02T16:51:52.753Z"
      },
      {
        "duration": 15,
        "start_time": "2023-03-02T16:51:52.772Z"
      },
      {
        "duration": 38,
        "start_time": "2023-03-02T16:51:52.789Z"
      },
      {
        "duration": 28,
        "start_time": "2023-03-02T16:51:52.829Z"
      },
      {
        "duration": 4,
        "start_time": "2023-03-02T16:51:52.860Z"
      },
      {
        "duration": 15,
        "start_time": "2023-03-02T16:51:52.865Z"
      },
      {
        "duration": 16,
        "start_time": "2023-03-02T16:51:52.881Z"
      },
      {
        "duration": 7,
        "start_time": "2023-03-02T16:51:52.899Z"
      },
      {
        "duration": 13,
        "start_time": "2023-03-02T16:51:52.907Z"
      },
      {
        "duration": 10,
        "start_time": "2023-03-02T16:51:52.922Z"
      },
      {
        "duration": 16,
        "start_time": "2023-03-02T16:51:52.933Z"
      },
      {
        "duration": 14,
        "start_time": "2023-03-02T16:51:52.951Z"
      },
      {
        "duration": 18,
        "start_time": "2023-03-02T16:51:52.967Z"
      },
      {
        "duration": 28,
        "start_time": "2023-03-02T16:51:52.986Z"
      },
      {
        "duration": 14,
        "start_time": "2023-03-02T16:51:53.016Z"
      },
      {
        "duration": 16,
        "start_time": "2023-03-02T16:51:53.032Z"
      },
      {
        "duration": 309,
        "start_time": "2023-03-02T16:51:53.050Z"
      },
      {
        "duration": 263,
        "start_time": "2023-03-02T16:51:53.361Z"
      },
      {
        "duration": 192,
        "start_time": "2023-03-02T16:51:53.626Z"
      },
      {
        "duration": 315,
        "start_time": "2023-03-02T16:51:53.820Z"
      },
      {
        "duration": 215,
        "start_time": "2023-03-02T16:51:54.137Z"
      },
      {
        "duration": 331,
        "start_time": "2023-03-02T16:51:54.354Z"
      },
      {
        "duration": 136,
        "start_time": "2023-03-02T16:51:54.688Z"
      },
      {
        "duration": 5,
        "start_time": "2023-03-02T16:51:54.826Z"
      },
      {
        "duration": 145,
        "start_time": "2023-03-02T16:51:54.832Z"
      },
      {
        "duration": 5,
        "start_time": "2023-03-02T16:51:54.979Z"
      },
      {
        "duration": 166,
        "start_time": "2023-03-02T16:51:54.985Z"
      },
      {
        "duration": 293,
        "start_time": "2023-03-02T16:51:55.153Z"
      },
      {
        "duration": 0,
        "start_time": "2023-03-02T16:51:55.448Z"
      },
      {
        "duration": 0,
        "start_time": "2023-03-02T16:51:55.449Z"
      },
      {
        "duration": 0,
        "start_time": "2023-03-02T16:51:55.450Z"
      },
      {
        "duration": 0,
        "start_time": "2023-03-02T16:51:55.451Z"
      },
      {
        "duration": 0,
        "start_time": "2023-03-02T16:51:55.452Z"
      },
      {
        "duration": 0,
        "start_time": "2023-03-02T16:51:55.453Z"
      },
      {
        "duration": 0,
        "start_time": "2023-03-02T16:51:55.454Z"
      },
      {
        "duration": 0,
        "start_time": "2023-03-02T16:51:55.454Z"
      },
      {
        "duration": 0,
        "start_time": "2023-03-02T16:51:55.456Z"
      },
      {
        "duration": 0,
        "start_time": "2023-03-02T16:51:55.457Z"
      },
      {
        "duration": 0,
        "start_time": "2023-03-02T16:51:55.458Z"
      },
      {
        "duration": 116,
        "start_time": "2023-03-02T16:53:31.188Z"
      },
      {
        "duration": 18,
        "start_time": "2023-03-02T16:53:36.292Z"
      },
      {
        "duration": 10,
        "start_time": "2023-03-02T16:53:37.009Z"
      },
      {
        "duration": 8,
        "start_time": "2023-03-02T16:58:50.476Z"
      },
      {
        "duration": 9,
        "start_time": "2023-03-02T16:59:22.531Z"
      },
      {
        "duration": 24,
        "start_time": "2023-03-02T16:59:37.396Z"
      },
      {
        "duration": 7,
        "start_time": "2023-03-02T16:59:42.973Z"
      },
      {
        "duration": 8,
        "start_time": "2023-03-02T17:00:02.995Z"
      },
      {
        "duration": 9,
        "start_time": "2023-03-02T17:00:05.978Z"
      },
      {
        "duration": 13,
        "start_time": "2023-03-02T17:00:08.871Z"
      },
      {
        "duration": 5,
        "start_time": "2023-03-02T17:00:12.711Z"
      },
      {
        "duration": 16,
        "start_time": "2023-03-02T17:00:15.928Z"
      },
      {
        "duration": 11,
        "start_time": "2023-03-02T17:00:46.491Z"
      },
      {
        "duration": 19,
        "start_time": "2023-03-02T17:00:48.919Z"
      },
      {
        "duration": 5,
        "start_time": "2023-03-02T17:00:51.527Z"
      },
      {
        "duration": 12,
        "start_time": "2023-03-02T17:00:58.330Z"
      },
      {
        "duration": 8,
        "start_time": "2023-03-02T17:00:59.918Z"
      },
      {
        "duration": 133,
        "start_time": "2023-03-02T17:01:56.499Z"
      },
      {
        "duration": 1168,
        "start_time": "2023-03-02T17:02:20.452Z"
      },
      {
        "duration": 40,
        "start_time": "2023-03-02T17:02:21.622Z"
      },
      {
        "duration": 10,
        "start_time": "2023-03-02T17:02:21.664Z"
      },
      {
        "duration": 54,
        "start_time": "2023-03-02T17:02:21.676Z"
      },
      {
        "duration": 13,
        "start_time": "2023-03-02T17:02:21.732Z"
      },
      {
        "duration": 27,
        "start_time": "2023-03-02T17:02:21.747Z"
      },
      {
        "duration": 11,
        "start_time": "2023-03-02T17:02:21.776Z"
      },
      {
        "duration": 8,
        "start_time": "2023-03-02T17:02:21.789Z"
      },
      {
        "duration": 22,
        "start_time": "2023-03-02T17:02:21.799Z"
      },
      {
        "duration": 4,
        "start_time": "2023-03-02T17:02:21.825Z"
      },
      {
        "duration": 25,
        "start_time": "2023-03-02T17:02:21.830Z"
      },
      {
        "duration": 20,
        "start_time": "2023-03-02T17:02:21.857Z"
      },
      {
        "duration": 11,
        "start_time": "2023-03-02T17:02:21.878Z"
      },
      {
        "duration": 18,
        "start_time": "2023-03-02T17:02:21.890Z"
      },
      {
        "duration": 10,
        "start_time": "2023-03-02T17:02:21.909Z"
      },
      {
        "duration": 14,
        "start_time": "2023-03-02T17:02:21.921Z"
      },
      {
        "duration": 12,
        "start_time": "2023-03-02T17:02:21.937Z"
      },
      {
        "duration": 14,
        "start_time": "2023-03-02T17:02:21.951Z"
      },
      {
        "duration": 9,
        "start_time": "2023-03-02T17:02:21.967Z"
      },
      {
        "duration": 10,
        "start_time": "2023-03-02T17:02:21.978Z"
      },
      {
        "duration": 7,
        "start_time": "2023-03-02T17:02:21.990Z"
      },
      {
        "duration": 284,
        "start_time": "2023-03-02T17:02:21.998Z"
      },
      {
        "duration": 272,
        "start_time": "2023-03-02T17:02:22.283Z"
      },
      {
        "duration": 194,
        "start_time": "2023-03-02T17:02:22.556Z"
      },
      {
        "duration": 300,
        "start_time": "2023-03-02T17:02:22.751Z"
      },
      {
        "duration": 239,
        "start_time": "2023-03-02T17:02:23.053Z"
      },
      {
        "duration": 306,
        "start_time": "2023-03-02T17:02:23.294Z"
      },
      {
        "duration": 141,
        "start_time": "2023-03-02T17:02:23.603Z"
      },
      {
        "duration": 5,
        "start_time": "2023-03-02T17:02:23.747Z"
      },
      {
        "duration": 171,
        "start_time": "2023-03-02T17:02:23.754Z"
      },
      {
        "duration": 5,
        "start_time": "2023-03-02T17:02:23.927Z"
      },
      {
        "duration": 182,
        "start_time": "2023-03-02T17:02:23.934Z"
      },
      {
        "duration": 32,
        "start_time": "2023-03-02T17:02:24.118Z"
      },
      {
        "duration": 224,
        "start_time": "2023-03-02T17:02:24.152Z"
      },
      {
        "duration": 21,
        "start_time": "2023-03-02T17:02:24.378Z"
      },
      {
        "duration": 7,
        "start_time": "2023-03-02T17:02:24.401Z"
      },
      {
        "duration": 24,
        "start_time": "2023-03-02T17:02:24.410Z"
      },
      {
        "duration": 19,
        "start_time": "2023-03-02T17:02:24.437Z"
      },
      {
        "duration": 13,
        "start_time": "2023-03-02T17:02:24.458Z"
      },
      {
        "duration": 9,
        "start_time": "2023-03-02T17:02:24.473Z"
      },
      {
        "duration": 26,
        "start_time": "2023-03-02T17:02:24.484Z"
      },
      {
        "duration": 21,
        "start_time": "2023-03-02T17:02:24.512Z"
      },
      {
        "duration": 14,
        "start_time": "2023-03-02T17:02:24.536Z"
      },
      {
        "duration": 13,
        "start_time": "2023-03-02T17:02:24.552Z"
      },
      {
        "duration": 11,
        "start_time": "2023-03-02T17:02:24.567Z"
      },
      {
        "duration": 45,
        "start_time": "2023-03-07T19:39:58.793Z"
      },
      {
        "duration": 1238,
        "start_time": "2023-03-07T19:40:03.162Z"
      },
      {
        "duration": 106,
        "start_time": "2023-03-07T19:40:04.402Z"
      },
      {
        "duration": 7,
        "start_time": "2023-03-07T19:40:04.510Z"
      },
      {
        "duration": 110,
        "start_time": "2023-03-07T19:40:04.518Z"
      },
      {
        "duration": 12,
        "start_time": "2023-03-07T19:40:04.630Z"
      },
      {
        "duration": 45,
        "start_time": "2023-03-07T19:40:04.650Z"
      },
      {
        "duration": 14,
        "start_time": "2023-03-07T19:40:04.696Z"
      },
      {
        "duration": 6,
        "start_time": "2023-03-07T19:40:04.712Z"
      },
      {
        "duration": 87,
        "start_time": "2023-03-07T19:40:04.719Z"
      },
      {
        "duration": 3,
        "start_time": "2023-03-07T19:40:04.808Z"
      },
      {
        "duration": 18,
        "start_time": "2023-03-07T19:40:04.813Z"
      },
      {
        "duration": 12,
        "start_time": "2023-03-07T19:40:04.833Z"
      },
      {
        "duration": 40,
        "start_time": "2023-03-07T19:40:04.846Z"
      },
      {
        "duration": 13,
        "start_time": "2023-03-07T19:40:04.888Z"
      },
      {
        "duration": 9,
        "start_time": "2023-03-07T19:40:04.902Z"
      },
      {
        "duration": 5,
        "start_time": "2023-03-07T19:40:04.912Z"
      },
      {
        "duration": 4,
        "start_time": "2023-03-07T19:40:04.919Z"
      },
      {
        "duration": 6,
        "start_time": "2023-03-07T19:40:04.924Z"
      },
      {
        "duration": 5,
        "start_time": "2023-03-07T19:40:04.931Z"
      },
      {
        "duration": 39,
        "start_time": "2023-03-07T19:40:04.938Z"
      },
      {
        "duration": 12,
        "start_time": "2023-03-07T19:40:04.979Z"
      },
      {
        "duration": 300,
        "start_time": "2023-03-07T19:40:04.993Z"
      },
      {
        "duration": 291,
        "start_time": "2023-03-07T19:40:05.295Z"
      },
      {
        "duration": 205,
        "start_time": "2023-03-07T19:40:05.588Z"
      },
      {
        "duration": 316,
        "start_time": "2023-03-07T19:40:05.794Z"
      },
      {
        "duration": 224,
        "start_time": "2023-03-07T19:40:06.112Z"
      },
      {
        "duration": 360,
        "start_time": "2023-03-07T19:40:06.339Z"
      },
      {
        "duration": 139,
        "start_time": "2023-03-07T19:40:06.701Z"
      },
      {
        "duration": 8,
        "start_time": "2023-03-07T19:40:06.843Z"
      },
      {
        "duration": 192,
        "start_time": "2023-03-07T19:40:06.855Z"
      },
      {
        "duration": 21,
        "start_time": "2023-03-07T19:40:07.048Z"
      },
      {
        "duration": 173,
        "start_time": "2023-03-07T19:40:07.071Z"
      },
      {
        "duration": 38,
        "start_time": "2023-03-07T19:40:07.249Z"
      },
      {
        "duration": 202,
        "start_time": "2023-03-07T19:40:07.288Z"
      },
      {
        "duration": 19,
        "start_time": "2023-03-07T19:40:07.491Z"
      },
      {
        "duration": 6,
        "start_time": "2023-03-07T19:40:07.512Z"
      },
      {
        "duration": 23,
        "start_time": "2023-03-07T19:40:07.520Z"
      },
      {
        "duration": 42,
        "start_time": "2023-03-07T19:40:07.545Z"
      },
      {
        "duration": 9,
        "start_time": "2023-03-07T19:40:07.588Z"
      },
      {
        "duration": 15,
        "start_time": "2023-03-07T19:40:07.598Z"
      },
      {
        "duration": 8,
        "start_time": "2023-03-07T19:40:07.616Z"
      },
      {
        "duration": 35,
        "start_time": "2023-03-07T19:40:07.626Z"
      },
      {
        "duration": 11,
        "start_time": "2023-03-07T19:40:07.667Z"
      },
      {
        "duration": 13,
        "start_time": "2023-03-07T19:40:07.680Z"
      },
      {
        "duration": 8,
        "start_time": "2023-03-07T19:40:07.694Z"
      },
      {
        "duration": 7,
        "start_time": "2023-03-07T19:40:24.765Z"
      },
      {
        "duration": 223,
        "start_time": "2023-03-07T19:40:38.573Z"
      }
    ],
    "kernelspec": {
      "display_name": "Python 3 (ipykernel)",
      "language": "python",
      "name": "python3"
    },
    "language_info": {
      "codemirror_mode": {
        "name": "ipython",
        "version": 3
      },
      "file_extension": ".py",
      "mimetype": "text/x-python",
      "name": "python",
      "nbconvert_exporter": "python",
      "pygments_lexer": "ipython3",
      "version": "3.9.5"
    },
    "toc": {
      "base_numbering": 1,
      "nav_menu": {},
      "number_sections": true,
      "sideBar": true,
      "skip_h1_title": true,
      "title_cell": "Table of Contents",
      "title_sidebar": "Contents",
      "toc_cell": false,
      "toc_position": {},
      "toc_section_display": true,
      "toc_window_display": true
    },
    "colab": {
      "provenance": []
    }
  },
  "nbformat": 4,
  "nbformat_minor": 0
}