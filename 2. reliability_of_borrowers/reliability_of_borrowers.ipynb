{
  "cells": [
    {
      "cell_type": "markdown",
      "id": "f938728e",
      "metadata": {
        "deletable": false,
        "editable": false,
        "id": "f938728e"
      },
      "source": [
        "# Исследование надежности заемщиков\n"
      ]
    },
    {
      "cell_type": "markdown",
      "id": "07204f4a",
      "metadata": {
        "id": "07204f4a"
      },
      "source": [
        "Проект выполнен для выявления влияния семейного положения и количества детей клиента на факт погашения кредита в срок. \n",
        "\n",
        "Цель: построение модели кредитного скоринга - специальной системы, которая оценивает способность потенциального заёмщика вернуть кредит банку.\n",
        "\n",
        "Входные данные от банка — статистика о платёжеспособности клиентов.\n",
        "\n",
        "План работы:\n",
        "1. Рассмотреть данные\n",
        "2. Провести их преодобработку\n",
        "3. Категоризировать данные\n",
        "4. Исследовать зависимость нескольких факторов и факта погашения кредита в срок\n",
        "5. Сделать вывод"
      ]
    },
    {
      "cell_type": "markdown",
      "id": "cf0e96ff",
      "metadata": {
        "deletable": false,
        "editable": false,
        "id": "cf0e96ff"
      },
      "source": [
        "## Этап 1. Обзор данных"
      ]
    },
    {
      "cell_type": "code",
      "execution_count": null,
      "id": "3fea4f81",
      "metadata": {
        "deletable": false,
        "id": "3fea4f81"
      },
      "outputs": [],
      "source": [
        "import pandas as pd\n",
        "\n",
        "try:\n",
        "    data = pd.read_csv('/datasets/data.csv')\n",
        "except:\n",
        "    data = pd.read_csv('https://code.s3.yandex.net/datasets/data.csv')"
      ]
    },
    {
      "cell_type": "code",
      "execution_count": null,
      "id": "d12318cb",
      "metadata": {
        "deletable": false,
        "id": "d12318cb",
        "outputId": "1a8f3ef2-d323-4ec2-ddf7-89670b5944c4"
      },
      "outputs": [
        {
          "data": {
            "text/html": [
              "<div>\n",
              "<style scoped>\n",
              "    .dataframe tbody tr th:only-of-type {\n",
              "        vertical-align: middle;\n",
              "    }\n",
              "\n",
              "    .dataframe tbody tr th {\n",
              "        vertical-align: top;\n",
              "    }\n",
              "\n",
              "    .dataframe thead th {\n",
              "        text-align: right;\n",
              "    }\n",
              "</style>\n",
              "<table border=\"1\" class=\"dataframe\">\n",
              "  <thead>\n",
              "    <tr style=\"text-align: right;\">\n",
              "      <th></th>\n",
              "      <th>children</th>\n",
              "      <th>days_employed</th>\n",
              "      <th>dob_years</th>\n",
              "      <th>education</th>\n",
              "      <th>education_id</th>\n",
              "      <th>family_status</th>\n",
              "      <th>family_status_id</th>\n",
              "      <th>gender</th>\n",
              "      <th>income_type</th>\n",
              "      <th>debt</th>\n",
              "      <th>total_income</th>\n",
              "      <th>purpose</th>\n",
              "    </tr>\n",
              "  </thead>\n",
              "  <tbody>\n",
              "    <tr>\n",
              "      <th>0</th>\n",
              "      <td>1</td>\n",
              "      <td>-8437.673028</td>\n",
              "      <td>42</td>\n",
              "      <td>высшее</td>\n",
              "      <td>0</td>\n",
              "      <td>женат / замужем</td>\n",
              "      <td>0</td>\n",
              "      <td>F</td>\n",
              "      <td>сотрудник</td>\n",
              "      <td>0</td>\n",
              "      <td>253875.639453</td>\n",
              "      <td>покупка жилья</td>\n",
              "    </tr>\n",
              "    <tr>\n",
              "      <th>1</th>\n",
              "      <td>1</td>\n",
              "      <td>-4024.803754</td>\n",
              "      <td>36</td>\n",
              "      <td>среднее</td>\n",
              "      <td>1</td>\n",
              "      <td>женат / замужем</td>\n",
              "      <td>0</td>\n",
              "      <td>F</td>\n",
              "      <td>сотрудник</td>\n",
              "      <td>0</td>\n",
              "      <td>112080.014102</td>\n",
              "      <td>приобретение автомобиля</td>\n",
              "    </tr>\n",
              "    <tr>\n",
              "      <th>2</th>\n",
              "      <td>0</td>\n",
              "      <td>-5623.422610</td>\n",
              "      <td>33</td>\n",
              "      <td>Среднее</td>\n",
              "      <td>1</td>\n",
              "      <td>женат / замужем</td>\n",
              "      <td>0</td>\n",
              "      <td>M</td>\n",
              "      <td>сотрудник</td>\n",
              "      <td>0</td>\n",
              "      <td>145885.952297</td>\n",
              "      <td>покупка жилья</td>\n",
              "    </tr>\n",
              "    <tr>\n",
              "      <th>3</th>\n",
              "      <td>3</td>\n",
              "      <td>-4124.747207</td>\n",
              "      <td>32</td>\n",
              "      <td>среднее</td>\n",
              "      <td>1</td>\n",
              "      <td>женат / замужем</td>\n",
              "      <td>0</td>\n",
              "      <td>M</td>\n",
              "      <td>сотрудник</td>\n",
              "      <td>0</td>\n",
              "      <td>267628.550329</td>\n",
              "      <td>дополнительное образование</td>\n",
              "    </tr>\n",
              "    <tr>\n",
              "      <th>4</th>\n",
              "      <td>0</td>\n",
              "      <td>340266.072047</td>\n",
              "      <td>53</td>\n",
              "      <td>среднее</td>\n",
              "      <td>1</td>\n",
              "      <td>гражданский брак</td>\n",
              "      <td>1</td>\n",
              "      <td>F</td>\n",
              "      <td>пенсионер</td>\n",
              "      <td>0</td>\n",
              "      <td>158616.077870</td>\n",
              "      <td>сыграть свадьбу</td>\n",
              "    </tr>\n",
              "    <tr>\n",
              "      <th>5</th>\n",
              "      <td>0</td>\n",
              "      <td>-926.185831</td>\n",
              "      <td>27</td>\n",
              "      <td>высшее</td>\n",
              "      <td>0</td>\n",
              "      <td>гражданский брак</td>\n",
              "      <td>1</td>\n",
              "      <td>M</td>\n",
              "      <td>компаньон</td>\n",
              "      <td>0</td>\n",
              "      <td>255763.565419</td>\n",
              "      <td>покупка жилья</td>\n",
              "    </tr>\n",
              "    <tr>\n",
              "      <th>6</th>\n",
              "      <td>0</td>\n",
              "      <td>-2879.202052</td>\n",
              "      <td>43</td>\n",
              "      <td>высшее</td>\n",
              "      <td>0</td>\n",
              "      <td>женат / замужем</td>\n",
              "      <td>0</td>\n",
              "      <td>F</td>\n",
              "      <td>компаньон</td>\n",
              "      <td>0</td>\n",
              "      <td>240525.971920</td>\n",
              "      <td>операции с жильем</td>\n",
              "    </tr>\n",
              "    <tr>\n",
              "      <th>7</th>\n",
              "      <td>0</td>\n",
              "      <td>-152.779569</td>\n",
              "      <td>50</td>\n",
              "      <td>СРЕДНЕЕ</td>\n",
              "      <td>1</td>\n",
              "      <td>женат / замужем</td>\n",
              "      <td>0</td>\n",
              "      <td>M</td>\n",
              "      <td>сотрудник</td>\n",
              "      <td>0</td>\n",
              "      <td>135823.934197</td>\n",
              "      <td>образование</td>\n",
              "    </tr>\n",
              "    <tr>\n",
              "      <th>8</th>\n",
              "      <td>2</td>\n",
              "      <td>-6929.865299</td>\n",
              "      <td>35</td>\n",
              "      <td>ВЫСШЕЕ</td>\n",
              "      <td>0</td>\n",
              "      <td>гражданский брак</td>\n",
              "      <td>1</td>\n",
              "      <td>F</td>\n",
              "      <td>сотрудник</td>\n",
              "      <td>0</td>\n",
              "      <td>95856.832424</td>\n",
              "      <td>на проведение свадьбы</td>\n",
              "    </tr>\n",
              "    <tr>\n",
              "      <th>9</th>\n",
              "      <td>0</td>\n",
              "      <td>-2188.756445</td>\n",
              "      <td>41</td>\n",
              "      <td>среднее</td>\n",
              "      <td>1</td>\n",
              "      <td>женат / замужем</td>\n",
              "      <td>0</td>\n",
              "      <td>M</td>\n",
              "      <td>сотрудник</td>\n",
              "      <td>0</td>\n",
              "      <td>144425.938277</td>\n",
              "      <td>покупка жилья для семьи</td>\n",
              "    </tr>\n",
              "    <tr>\n",
              "      <th>10</th>\n",
              "      <td>2</td>\n",
              "      <td>-4171.483647</td>\n",
              "      <td>36</td>\n",
              "      <td>высшее</td>\n",
              "      <td>0</td>\n",
              "      <td>женат / замужем</td>\n",
              "      <td>0</td>\n",
              "      <td>M</td>\n",
              "      <td>компаньон</td>\n",
              "      <td>0</td>\n",
              "      <td>113943.491460</td>\n",
              "      <td>покупка недвижимости</td>\n",
              "    </tr>\n",
              "    <tr>\n",
              "      <th>11</th>\n",
              "      <td>0</td>\n",
              "      <td>-792.701887</td>\n",
              "      <td>40</td>\n",
              "      <td>среднее</td>\n",
              "      <td>1</td>\n",
              "      <td>женат / замужем</td>\n",
              "      <td>0</td>\n",
              "      <td>F</td>\n",
              "      <td>сотрудник</td>\n",
              "      <td>0</td>\n",
              "      <td>77069.234271</td>\n",
              "      <td>покупка коммерческой недвижимости</td>\n",
              "    </tr>\n",
              "    <tr>\n",
              "      <th>12</th>\n",
              "      <td>0</td>\n",
              "      <td>NaN</td>\n",
              "      <td>65</td>\n",
              "      <td>среднее</td>\n",
              "      <td>1</td>\n",
              "      <td>гражданский брак</td>\n",
              "      <td>1</td>\n",
              "      <td>M</td>\n",
              "      <td>пенсионер</td>\n",
              "      <td>0</td>\n",
              "      <td>NaN</td>\n",
              "      <td>сыграть свадьбу</td>\n",
              "    </tr>\n",
              "    <tr>\n",
              "      <th>13</th>\n",
              "      <td>0</td>\n",
              "      <td>-1846.641941</td>\n",
              "      <td>54</td>\n",
              "      <td>неоконченное высшее</td>\n",
              "      <td>2</td>\n",
              "      <td>женат / замужем</td>\n",
              "      <td>0</td>\n",
              "      <td>F</td>\n",
              "      <td>сотрудник</td>\n",
              "      <td>0</td>\n",
              "      <td>130458.228857</td>\n",
              "      <td>приобретение автомобиля</td>\n",
              "    </tr>\n",
              "    <tr>\n",
              "      <th>14</th>\n",
              "      <td>0</td>\n",
              "      <td>-1844.956182</td>\n",
              "      <td>56</td>\n",
              "      <td>высшее</td>\n",
              "      <td>0</td>\n",
              "      <td>гражданский брак</td>\n",
              "      <td>1</td>\n",
              "      <td>F</td>\n",
              "      <td>компаньон</td>\n",
              "      <td>1</td>\n",
              "      <td>165127.911772</td>\n",
              "      <td>покупка жилой недвижимости</td>\n",
              "    </tr>\n",
              "    <tr>\n",
              "      <th>15</th>\n",
              "      <td>1</td>\n",
              "      <td>-972.364419</td>\n",
              "      <td>26</td>\n",
              "      <td>среднее</td>\n",
              "      <td>1</td>\n",
              "      <td>женат / замужем</td>\n",
              "      <td>0</td>\n",
              "      <td>F</td>\n",
              "      <td>сотрудник</td>\n",
              "      <td>0</td>\n",
              "      <td>116820.904450</td>\n",
              "      <td>строительство собственной недвижимости</td>\n",
              "    </tr>\n",
              "    <tr>\n",
              "      <th>16</th>\n",
              "      <td>0</td>\n",
              "      <td>-1719.934226</td>\n",
              "      <td>35</td>\n",
              "      <td>среднее</td>\n",
              "      <td>1</td>\n",
              "      <td>женат / замужем</td>\n",
              "      <td>0</td>\n",
              "      <td>F</td>\n",
              "      <td>сотрудник</td>\n",
              "      <td>0</td>\n",
              "      <td>289202.704229</td>\n",
              "      <td>недвижимость</td>\n",
              "    </tr>\n",
              "    <tr>\n",
              "      <th>17</th>\n",
              "      <td>0</td>\n",
              "      <td>-2369.999720</td>\n",
              "      <td>33</td>\n",
              "      <td>высшее</td>\n",
              "      <td>0</td>\n",
              "      <td>гражданский брак</td>\n",
              "      <td>1</td>\n",
              "      <td>M</td>\n",
              "      <td>сотрудник</td>\n",
              "      <td>0</td>\n",
              "      <td>90410.586745</td>\n",
              "      <td>строительство недвижимости</td>\n",
              "    </tr>\n",
              "    <tr>\n",
              "      <th>18</th>\n",
              "      <td>0</td>\n",
              "      <td>400281.136913</td>\n",
              "      <td>53</td>\n",
              "      <td>среднее</td>\n",
              "      <td>1</td>\n",
              "      <td>вдовец / вдова</td>\n",
              "      <td>2</td>\n",
              "      <td>F</td>\n",
              "      <td>пенсионер</td>\n",
              "      <td>0</td>\n",
              "      <td>56823.777243</td>\n",
              "      <td>на покупку подержанного автомобиля</td>\n",
              "    </tr>\n",
              "    <tr>\n",
              "      <th>19</th>\n",
              "      <td>0</td>\n",
              "      <td>-10038.818549</td>\n",
              "      <td>48</td>\n",
              "      <td>СРЕДНЕЕ</td>\n",
              "      <td>1</td>\n",
              "      <td>в разводе</td>\n",
              "      <td>3</td>\n",
              "      <td>F</td>\n",
              "      <td>сотрудник</td>\n",
              "      <td>0</td>\n",
              "      <td>242831.107982</td>\n",
              "      <td>на покупку своего автомобиля</td>\n",
              "    </tr>\n",
              "  </tbody>\n",
              "</table>\n",
              "</div>"
            ],
            "text/plain": [
              "    children  days_employed  dob_years            education  education_id  \\\n",
              "0          1   -8437.673028         42               высшее             0   \n",
              "1          1   -4024.803754         36              среднее             1   \n",
              "2          0   -5623.422610         33              Среднее             1   \n",
              "3          3   -4124.747207         32              среднее             1   \n",
              "4          0  340266.072047         53              среднее             1   \n",
              "5          0    -926.185831         27               высшее             0   \n",
              "6          0   -2879.202052         43               высшее             0   \n",
              "7          0    -152.779569         50              СРЕДНЕЕ             1   \n",
              "8          2   -6929.865299         35               ВЫСШЕЕ             0   \n",
              "9          0   -2188.756445         41              среднее             1   \n",
              "10         2   -4171.483647         36               высшее             0   \n",
              "11         0    -792.701887         40              среднее             1   \n",
              "12         0            NaN         65              среднее             1   \n",
              "13         0   -1846.641941         54  неоконченное высшее             2   \n",
              "14         0   -1844.956182         56               высшее             0   \n",
              "15         1    -972.364419         26              среднее             1   \n",
              "16         0   -1719.934226         35              среднее             1   \n",
              "17         0   -2369.999720         33               высшее             0   \n",
              "18         0  400281.136913         53              среднее             1   \n",
              "19         0  -10038.818549         48              СРЕДНЕЕ             1   \n",
              "\n",
              "       family_status  family_status_id gender income_type  debt  \\\n",
              "0    женат / замужем                 0      F   сотрудник     0   \n",
              "1    женат / замужем                 0      F   сотрудник     0   \n",
              "2    женат / замужем                 0      M   сотрудник     0   \n",
              "3    женат / замужем                 0      M   сотрудник     0   \n",
              "4   гражданский брак                 1      F   пенсионер     0   \n",
              "5   гражданский брак                 1      M   компаньон     0   \n",
              "6    женат / замужем                 0      F   компаньон     0   \n",
              "7    женат / замужем                 0      M   сотрудник     0   \n",
              "8   гражданский брак                 1      F   сотрудник     0   \n",
              "9    женат / замужем                 0      M   сотрудник     0   \n",
              "10   женат / замужем                 0      M   компаньон     0   \n",
              "11   женат / замужем                 0      F   сотрудник     0   \n",
              "12  гражданский брак                 1      M   пенсионер     0   \n",
              "13   женат / замужем                 0      F   сотрудник     0   \n",
              "14  гражданский брак                 1      F   компаньон     1   \n",
              "15   женат / замужем                 0      F   сотрудник     0   \n",
              "16   женат / замужем                 0      F   сотрудник     0   \n",
              "17  гражданский брак                 1      M   сотрудник     0   \n",
              "18    вдовец / вдова                 2      F   пенсионер     0   \n",
              "19         в разводе                 3      F   сотрудник     0   \n",
              "\n",
              "     total_income                                 purpose  \n",
              "0   253875.639453                           покупка жилья  \n",
              "1   112080.014102                 приобретение автомобиля  \n",
              "2   145885.952297                           покупка жилья  \n",
              "3   267628.550329              дополнительное образование  \n",
              "4   158616.077870                         сыграть свадьбу  \n",
              "5   255763.565419                           покупка жилья  \n",
              "6   240525.971920                       операции с жильем  \n",
              "7   135823.934197                             образование  \n",
              "8    95856.832424                   на проведение свадьбы  \n",
              "9   144425.938277                 покупка жилья для семьи  \n",
              "10  113943.491460                    покупка недвижимости  \n",
              "11   77069.234271       покупка коммерческой недвижимости  \n",
              "12            NaN                         сыграть свадьбу  \n",
              "13  130458.228857                 приобретение автомобиля  \n",
              "14  165127.911772              покупка жилой недвижимости  \n",
              "15  116820.904450  строительство собственной недвижимости  \n",
              "16  289202.704229                            недвижимость  \n",
              "17   90410.586745              строительство недвижимости  \n",
              "18   56823.777243      на покупку подержанного автомобиля  \n",
              "19  242831.107982            на покупку своего автомобиля  "
            ]
          },
          "execution_count": 2,
          "metadata": {},
          "output_type": "execute_result"
        }
      ],
      "source": [
        "data.head(20)"
      ]
    },
    {
      "cell_type": "code",
      "execution_count": null,
      "id": "84f8f5f4",
      "metadata": {
        "deletable": false,
        "id": "84f8f5f4",
        "outputId": "15376089-8dad-46c9-b520-c05248d43158"
      },
      "outputs": [
        {
          "name": "stdout",
          "output_type": "stream",
          "text": [
            "<class 'pandas.core.frame.DataFrame'>\n",
            "RangeIndex: 21525 entries, 0 to 21524\n",
            "Data columns (total 12 columns):\n",
            " #   Column            Non-Null Count  Dtype  \n",
            "---  ------            --------------  -----  \n",
            " 0   children          21525 non-null  int64  \n",
            " 1   days_employed     19351 non-null  float64\n",
            " 2   dob_years         21525 non-null  int64  \n",
            " 3   education         21525 non-null  object \n",
            " 4   education_id      21525 non-null  int64  \n",
            " 5   family_status     21525 non-null  object \n",
            " 6   family_status_id  21525 non-null  int64  \n",
            " 7   gender            21525 non-null  object \n",
            " 8   income_type       21525 non-null  object \n",
            " 9   debt              21525 non-null  int64  \n",
            " 10  total_income      19351 non-null  float64\n",
            " 11  purpose           21525 non-null  object \n",
            "dtypes: float64(2), int64(5), object(5)\n",
            "memory usage: 2.0+ MB\n"
          ]
        }
      ],
      "source": [
        "data.info()"
      ]
    },
    {
      "cell_type": "markdown",
      "id": "93f10047",
      "metadata": {
        "deletable": false,
        "editable": false,
        "id": "93f10047"
      },
      "source": [
        "## Этап 2. Предобработка данных"
      ]
    },
    {
      "cell_type": "markdown",
      "id": "144e57cd",
      "metadata": {
        "deletable": false,
        "editable": false,
        "id": "144e57cd"
      },
      "source": [
        "### Удаление пропусков"
      ]
    },
    {
      "cell_type": "code",
      "execution_count": null,
      "id": "e0b2ef27",
      "metadata": {
        "deletable": false,
        "id": "e0b2ef27",
        "outputId": "81f4d817-781c-465c-ed15-91ce4446810d"
      },
      "outputs": [
        {
          "data": {
            "text/plain": [
              "children               0\n",
              "days_employed       2174\n",
              "dob_years              0\n",
              "education              0\n",
              "education_id           0\n",
              "family_status          0\n",
              "family_status_id       0\n",
              "gender                 0\n",
              "income_type            0\n",
              "debt                   0\n",
              "total_income        2174\n",
              "purpose                0\n",
              "dtype: int64"
            ]
          },
          "execution_count": 4,
          "metadata": {},
          "output_type": "execute_result"
        }
      ],
      "source": [
        "data.isna().sum()"
      ]
    },
    {
      "cell_type": "markdown",
      "id": "8dec8a45",
      "metadata": {
        "deletable": false,
        "editable": false,
        "id": "8dec8a45"
      },
      "source": [
        "`total_income` — хранит данные о доходах. На сумму дохода сильнее всего влияет тип занятости, поэтому заполнить пропуски в этом столбце нужно медианным значением по каждому типу из столбца `income_type`."
      ]
    },
    {
      "cell_type": "code",
      "execution_count": null,
      "id": "b6f6487c",
      "metadata": {
        "deletable": false,
        "id": "b6f6487c"
      },
      "outputs": [],
      "source": [
        "for t in data['income_type'].unique():\n",
        "    data.loc[(data['income_type'] == t) & (data['total_income'].isna()), 'total_income'] = \\\n",
        "    data.loc[(data['income_type'] == t), 'total_income'].median()"
      ]
    },
    {
      "cell_type": "markdown",
      "id": "3e2d5ac3",
      "metadata": {
        "deletable": false,
        "editable": false,
        "id": "3e2d5ac3"
      },
      "source": [
        "### Обработка аномальных значений"
      ]
    },
    {
      "cell_type": "code",
      "execution_count": null,
      "id": "ff7b09f3",
      "metadata": {
        "deletable": false,
        "id": "ff7b09f3"
      },
      "outputs": [],
      "source": [
        "data['days_employed'] = data['days_employed'].abs()"
      ]
    },
    {
      "cell_type": "markdown",
      "id": "c9290373",
      "metadata": {
        "deletable": false,
        "editable": false,
        "id": "c9290373"
      },
      "source": [
        "Медианное значение трудового стажа для каждого типа занятости `days_employed` в днях."
      ]
    },
    {
      "cell_type": "code",
      "execution_count": null,
      "id": "ffcfded0",
      "metadata": {
        "deletable": false,
        "id": "ffcfded0",
        "outputId": "801ef80e-522b-4668-f34e-565af7432bcf"
      },
      "outputs": [
        {
          "data": {
            "text/plain": [
              "income_type\n",
              "безработный        366413.652744\n",
              "в декрете            3296.759962\n",
              "госслужащий          2689.368353\n",
              "компаньон            1547.382223\n",
              "пенсионер          365213.306266\n",
              "предприниматель       520.848083\n",
              "сотрудник            1574.202821\n",
              "студент               578.751554\n",
              "Name: days_employed, dtype: float64"
            ]
          },
          "execution_count": 7,
          "metadata": {},
          "output_type": "execute_result"
        }
      ],
      "source": [
        "data.groupby('income_type')['days_employed'].agg('median')"
      ]
    },
    {
      "cell_type": "markdown",
      "id": "ff54974e",
      "metadata": {
        "deletable": false,
        "editable": false,
        "id": "ff54974e"
      },
      "source": [
        "У двух типов (безработные и пенсионеры) получатся аномально большие значения. Исправить такие значения сложно, поэтому осталвяем их как есть. Этот столбец не понадобится для исследования."
      ]
    },
    {
      "cell_type": "markdown",
      "id": "bcebb5db",
      "metadata": {
        "deletable": false,
        "editable": false,
        "id": "bcebb5db"
      },
      "source": [
        "Перечень уникальных значений столбца `children`."
      ]
    },
    {
      "cell_type": "code",
      "source": [],
      "metadata": {
        "id": "sZoENdwQpZIm"
      },
      "id": "sZoENdwQpZIm",
      "execution_count": null,
      "outputs": []
    },
    {
      "cell_type": "code",
      "execution_count": null,
      "id": "2c8addae",
      "metadata": {
        "deletable": false,
        "id": "2c8addae",
        "outputId": "6975b15c-7f95-4697-d16d-a0c79b657b03"
      },
      "outputs": [
        {
          "data": {
            "text/plain": [
              "array([ 1,  0,  3,  2, -1,  4, 20,  5])"
            ]
          },
          "execution_count": 8,
          "metadata": {},
          "output_type": "execute_result"
        }
      ],
      "source": [
        "data['children'].unique()"
      ]
    },
    {
      "cell_type": "markdown",
      "id": "695a57bc",
      "metadata": {
        "deletable": false,
        "editable": false,
        "id": "695a57bc"
      },
      "source": [
        "В столбце `children` есть два аномальных значения."
      ]
    },
    {
      "cell_type": "code",
      "execution_count": null,
      "id": "75c55cf8",
      "metadata": {
        "deletable": false,
        "id": "75c55cf8"
      },
      "outputs": [],
      "source": [
        "data = data[(data['children'] != -1) & (data['children'] != 20)]"
      ]
    },
    {
      "cell_type": "code",
      "execution_count": null,
      "id": "1fc1ea96",
      "metadata": {
        "deletable": false,
        "id": "1fc1ea96",
        "outputId": "b2097101-d49d-44d9-901b-32a65c9463d1"
      },
      "outputs": [
        {
          "data": {
            "text/plain": [
              "array([1, 0, 3, 2, 4, 5])"
            ]
          },
          "execution_count": 10,
          "metadata": {},
          "output_type": "execute_result"
        }
      ],
      "source": [
        "data['children'].unique()"
      ]
    },
    {
      "cell_type": "markdown",
      "id": "d0f0a9f3",
      "metadata": {
        "deletable": false,
        "editable": false,
        "id": "d0f0a9f3"
      },
      "source": [
        "Заполнение пропусков в столбце `days_employed` медианными значениями по каждому типу занятости `income_type`."
      ]
    },
    {
      "cell_type": "code",
      "execution_count": null,
      "id": "646fe73f",
      "metadata": {
        "deletable": false,
        "id": "646fe73f"
      },
      "outputs": [],
      "source": [
        "for t in data['income_type'].unique():\n",
        "    data.loc[(data['income_type'] == t) & (data['days_employed'].isna()), 'days_employed'] = \\\n",
        "    data.loc[(data['income_type'] == t), 'days_employed'].median()"
      ]
    },
    {
      "cell_type": "code",
      "execution_count": null,
      "id": "87f60c4f",
      "metadata": {
        "deletable": false,
        "id": "87f60c4f",
        "outputId": "8da1e4e1-358e-4e87-98c9-f261bce0a7b2"
      },
      "outputs": [
        {
          "data": {
            "text/plain": [
              "children            0\n",
              "days_employed       0\n",
              "dob_years           0\n",
              "education           0\n",
              "education_id        0\n",
              "family_status       0\n",
              "family_status_id    0\n",
              "gender              0\n",
              "income_type         0\n",
              "debt                0\n",
              "total_income        0\n",
              "purpose             0\n",
              "dtype: int64"
            ]
          },
          "execution_count": 12,
          "metadata": {},
          "output_type": "execute_result"
        }
      ],
      "source": [
        "data.isna().sum()"
      ]
    },
    {
      "cell_type": "markdown",
      "id": "95acdc6e",
      "metadata": {
        "deletable": false,
        "editable": false,
        "id": "95acdc6e"
      },
      "source": [
        "### Изменение типов данных"
      ]
    },
    {
      "cell_type": "code",
      "execution_count": null,
      "id": "480b1a88",
      "metadata": {
        "deletable": false,
        "id": "480b1a88"
      },
      "outputs": [],
      "source": [
        "data['total_income'] = data['total_income'].astype(int)"
      ]
    },
    {
      "cell_type": "markdown",
      "id": "1099fbe2",
      "metadata": {
        "deletable": false,
        "editable": false,
        "id": "1099fbe2"
      },
      "source": [
        "### Обработка дубликатов"
      ]
    },
    {
      "cell_type": "code",
      "execution_count": null,
      "id": "b8901cd1",
      "metadata": {
        "deletable": false,
        "id": "b8901cd1"
      },
      "outputs": [],
      "source": [
        "data['education'] = data['education'].str.lower()"
      ]
    },
    {
      "cell_type": "code",
      "execution_count": null,
      "id": "0cbf2ff1",
      "metadata": {
        "deletable": false,
        "id": "0cbf2ff1",
        "outputId": "9684deba-1934-42d1-99e1-cda61740f822"
      },
      "outputs": [
        {
          "data": {
            "text/plain": [
              "71"
            ]
          },
          "execution_count": 15,
          "metadata": {},
          "output_type": "execute_result"
        }
      ],
      "source": [
        "data.duplicated().sum()"
      ]
    },
    {
      "cell_type": "code",
      "execution_count": null,
      "id": "3077c1bc",
      "metadata": {
        "deletable": false,
        "id": "3077c1bc"
      },
      "outputs": [],
      "source": [
        "data = data.drop_duplicates()"
      ]
    },
    {
      "cell_type": "markdown",
      "id": "4f0ba554",
      "metadata": {
        "deletable": false,
        "editable": false,
        "id": "4f0ba554"
      },
      "source": [
        "### Категоризация данных"
      ]
    },
    {
      "cell_type": "markdown",
      "id": "a3fb5d62",
      "metadata": {
        "deletable": false,
        "editable": false,
        "id": "a3fb5d62"
      },
      "source": [
        "На основании диапазонов, указанных ниже, создадим в датафрейме `data` столбец `total_income_category` с категориями:\n",
        "\n",
        "- 0–30000 — `'E'`;\n",
        "- 30001–50000 — `'D'`;\n",
        "- 50001–200000 — `'C'`;\n",
        "- 200001–1000000 — `'B'`;\n",
        "- 1000001 и выше — `'A'`.\n"
      ]
    },
    {
      "cell_type": "code",
      "execution_count": null,
      "id": "c5eb3def",
      "metadata": {
        "deletable": false,
        "id": "c5eb3def"
      },
      "outputs": [],
      "source": [
        "def categorize_income(income):\n",
        "    try:\n",
        "        if 0 <= income <= 30000:\n",
        "            return 'E'\n",
        "        elif 30001 <= income <= 50000:\n",
        "            return 'D'\n",
        "        elif 50001 <= income <= 200000:\n",
        "            return 'C'\n",
        "        elif 200001 <= income <= 1000000:\n",
        "            return 'B'\n",
        "        elif income >= 1000001:\n",
        "            return 'A'\n",
        "    except:\n",
        "        pass"
      ]
    },
    {
      "cell_type": "code",
      "execution_count": null,
      "id": "8ffea409",
      "metadata": {
        "deletable": false,
        "id": "8ffea409"
      },
      "outputs": [],
      "source": [
        "data['total_income_category'] = data['total_income'].apply(categorize_income)"
      ]
    },
    {
      "cell_type": "markdown",
      "id": "396dd63a",
      "metadata": {
        "deletable": false,
        "editable": false,
        "id": "396dd63a"
      },
      "source": [
        "Перечень уникальных целей взятия кредита из столбца `purpose`."
      ]
    },
    {
      "cell_type": "code",
      "execution_count": null,
      "id": "40a712c4",
      "metadata": {
        "deletable": false,
        "id": "40a712c4",
        "outputId": "673c12d9-7d7e-4ae0-9812-c622c89dd244"
      },
      "outputs": [
        {
          "data": {
            "text/plain": [
              "array(['покупка жилья', 'приобретение автомобиля',\n",
              "       'дополнительное образование', 'сыграть свадьбу',\n",
              "       'операции с жильем', 'образование', 'на проведение свадьбы',\n",
              "       'покупка жилья для семьи', 'покупка недвижимости',\n",
              "       'покупка коммерческой недвижимости', 'покупка жилой недвижимости',\n",
              "       'строительство собственной недвижимости', 'недвижимость',\n",
              "       'строительство недвижимости', 'на покупку подержанного автомобиля',\n",
              "       'на покупку своего автомобиля',\n",
              "       'операции с коммерческой недвижимостью',\n",
              "       'строительство жилой недвижимости', 'жилье',\n",
              "       'операции со своей недвижимостью', 'автомобили',\n",
              "       'заняться образованием', 'сделка с подержанным автомобилем',\n",
              "       'получение образования', 'автомобиль', 'свадьба',\n",
              "       'получение дополнительного образования', 'покупка своего жилья',\n",
              "       'операции с недвижимостью', 'получение высшего образования',\n",
              "       'свой автомобиль', 'сделка с автомобилем',\n",
              "       'профильное образование', 'высшее образование',\n",
              "       'покупка жилья для сдачи', 'на покупку автомобиля', 'ремонт жилью',\n",
              "       'заняться высшим образованием'], dtype=object)"
            ]
          },
          "execution_count": 19,
          "metadata": {},
          "output_type": "execute_result"
        }
      ],
      "source": [
        "data['purpose'].unique()"
      ]
    },
    {
      "cell_type": "markdown",
      "id": "1aa48d62",
      "metadata": {
        "deletable": false,
        "editable": false,
        "id": "1aa48d62"
      },
      "source": [
        "`categorize_purpose` - функция, которая на основании данных из столбца `purpose` формирует новый столбец `purpose_category`, в который войдут следующие категории:\n",
        "\n",
        "- `'операции с автомобилем'`,\n",
        "- `'операции с недвижимостью'`,\n",
        "- `'проведение свадьбы'`,\n",
        "- `'получение образования'`."
      ]
    },
    {
      "cell_type": "code",
      "execution_count": null,
      "id": "034f15b7",
      "metadata": {
        "deletable": false,
        "id": "034f15b7"
      },
      "outputs": [],
      "source": [
        "def categorize_purpose(row):\n",
        "    try:\n",
        "        if 'автом' in row:\n",
        "            return 'операции с автомобилем'\n",
        "        elif 'жил' in row or 'недвиж' in row:\n",
        "            return 'операции с недвижимостью'\n",
        "        elif 'свад' in row:\n",
        "            return 'проведение свадьбы'\n",
        "        elif 'образов' in row:\n",
        "            return 'получение образования'\n",
        "    except:\n",
        "        return 'нет категории'"
      ]
    },
    {
      "cell_type": "code",
      "execution_count": null,
      "id": "3f7ed768",
      "metadata": {
        "deletable": false,
        "id": "3f7ed768"
      },
      "outputs": [],
      "source": [
        "data['purpose_category'] = data['purpose'].apply(categorize_purpose)"
      ]
    },
    {
      "cell_type": "markdown",
      "id": "366e6bf8",
      "metadata": {
        "deletable": false,
        "editable": false,
        "id": "366e6bf8"
      },
      "source": [
        "## Этап 3. Исследование данных и ответы на вопросы"
      ]
    },
    {
      "cell_type": "markdown",
      "id": "89b549ea",
      "metadata": {
        "deletable": false,
        "editable": false,
        "id": "89b549ea"
      },
      "source": [
        "#### 3.1 Есть ли зависимость между количеством детей и возвратом кредита в срок?"
      ]
    },
    {
      "cell_type": "code",
      "execution_count": null,
      "id": "630cd593",
      "metadata": {
        "deletable": false,
        "id": "630cd593"
      },
      "outputs": [],
      "source": [
        "# Напишем функцию для перевода значений в проценты, функция будет\n",
        "# актуальна для решения заданых вопросов\n",
        "\n",
        "def per(i):\n",
        "    return \"{:.2%}\".format(i)\n"
      ]
    },
    {
      "cell_type": "code",
      "execution_count": null,
      "id": "15770630",
      "metadata": {
        "id": "15770630",
        "outputId": "59d3d872-4078-47e6-8db6-1834b95f3be4"
      },
      "outputs": [
        {
          "data": {
            "text/html": [
              "<div>\n",
              "<style scoped>\n",
              "    .dataframe tbody tr th:only-of-type {\n",
              "        vertical-align: middle;\n",
              "    }\n",
              "\n",
              "    .dataframe tbody tr th {\n",
              "        vertical-align: top;\n",
              "    }\n",
              "\n",
              "    .dataframe thead th {\n",
              "        text-align: right;\n",
              "    }\n",
              "</style>\n",
              "<table border=\"1\" class=\"dataframe\">\n",
              "  <thead>\n",
              "    <tr style=\"text-align: right;\">\n",
              "      <th></th>\n",
              "      <th>count</th>\n",
              "      <th>mean</th>\n",
              "      <th>sum</th>\n",
              "    </tr>\n",
              "    <tr>\n",
              "      <th>children</th>\n",
              "      <th></th>\n",
              "      <th></th>\n",
              "      <th></th>\n",
              "    </tr>\n",
              "  </thead>\n",
              "  <tbody>\n",
              "    <tr>\n",
              "      <th>0</th>\n",
              "      <td>14091.0</td>\n",
              "      <td>0.075438</td>\n",
              "      <td>1063.0</td>\n",
              "    </tr>\n",
              "    <tr>\n",
              "      <th>1</th>\n",
              "      <td>4808.0</td>\n",
              "      <td>0.092346</td>\n",
              "      <td>444.0</td>\n",
              "    </tr>\n",
              "    <tr>\n",
              "      <th>2</th>\n",
              "      <td>2052.0</td>\n",
              "      <td>0.094542</td>\n",
              "      <td>194.0</td>\n",
              "    </tr>\n",
              "    <tr>\n",
              "      <th>3</th>\n",
              "      <td>330.0</td>\n",
              "      <td>0.081818</td>\n",
              "      <td>27.0</td>\n",
              "    </tr>\n",
              "    <tr>\n",
              "      <th>4</th>\n",
              "      <td>41.0</td>\n",
              "      <td>0.097561</td>\n",
              "      <td>4.0</td>\n",
              "    </tr>\n",
              "    <tr>\n",
              "      <th>5</th>\n",
              "      <td>9.0</td>\n",
              "      <td>0.000000</td>\n",
              "      <td>0.0</td>\n",
              "    </tr>\n",
              "  </tbody>\n",
              "</table>\n",
              "</div>"
            ],
            "text/plain": [
              "            count      mean     sum\n",
              "children                           \n",
              "0         14091.0  0.075438  1063.0\n",
              "1          4808.0  0.092346   444.0\n",
              "2          2052.0  0.094542   194.0\n",
              "3           330.0  0.081818    27.0\n",
              "4            41.0  0.097561     4.0\n",
              "5             9.0  0.000000     0.0"
            ]
          },
          "execution_count": 25,
          "metadata": {},
          "output_type": "execute_result"
        }
      ],
      "source": [
        "# Создадим сводную таблицу, в которую поместим данные о количестве детей (children) и\n",
        "# данных о возврате кредитов в срок (debt). \n",
        "\n",
        "# В столбце debt методом sum посчитаем количество тех, кто не возвращает кредит в срок \n",
        "# затем методом count посчитаем общее количество людей с определенным количеством детей\n",
        "\n",
        "# И воспользуемся методом mean, так как общее количество должников для каждого количества \n",
        "# детей разное\n",
        "\n",
        "data_children = data.pivot_table(index='children', values='debt', aggfunc=('sum', 'count', 'mean'))\n",
        "data_children"
      ]
    },
    {
      "cell_type": "code",
      "execution_count": null,
      "id": "6a7ef6d0",
      "metadata": {
        "id": "6a7ef6d0",
        "outputId": "bbc58dac-07be-4e62-ebb9-c9f147fce503"
      },
      "outputs": [
        {
          "data": {
            "text/html": [
              "<div>\n",
              "<style scoped>\n",
              "    .dataframe tbody tr th:only-of-type {\n",
              "        vertical-align: middle;\n",
              "    }\n",
              "\n",
              "    .dataframe tbody tr th {\n",
              "        vertical-align: top;\n",
              "    }\n",
              "\n",
              "    .dataframe thead th {\n",
              "        text-align: right;\n",
              "    }\n",
              "</style>\n",
              "<table border=\"1\" class=\"dataframe\">\n",
              "  <thead>\n",
              "    <tr style=\"text-align: right;\">\n",
              "      <th></th>\n",
              "      <th>Общее количество</th>\n",
              "      <th>Среднее по задолжностям</th>\n",
              "      <th>Количество должников</th>\n",
              "    </tr>\n",
              "    <tr>\n",
              "      <th>children</th>\n",
              "      <th></th>\n",
              "      <th></th>\n",
              "      <th></th>\n",
              "    </tr>\n",
              "  </thead>\n",
              "  <tbody>\n",
              "    <tr>\n",
              "      <th>4</th>\n",
              "      <td>41.0</td>\n",
              "      <td>9.76%</td>\n",
              "      <td>4.0</td>\n",
              "    </tr>\n",
              "    <tr>\n",
              "      <th>2</th>\n",
              "      <td>2052.0</td>\n",
              "      <td>9.45%</td>\n",
              "      <td>194.0</td>\n",
              "    </tr>\n",
              "    <tr>\n",
              "      <th>1</th>\n",
              "      <td>4808.0</td>\n",
              "      <td>9.23%</td>\n",
              "      <td>444.0</td>\n",
              "    </tr>\n",
              "    <tr>\n",
              "      <th>3</th>\n",
              "      <td>330.0</td>\n",
              "      <td>8.18%</td>\n",
              "      <td>27.0</td>\n",
              "    </tr>\n",
              "    <tr>\n",
              "      <th>0</th>\n",
              "      <td>14091.0</td>\n",
              "      <td>7.54%</td>\n",
              "      <td>1063.0</td>\n",
              "    </tr>\n",
              "    <tr>\n",
              "      <th>5</th>\n",
              "      <td>9.0</td>\n",
              "      <td>0.00%</td>\n",
              "      <td>0.0</td>\n",
              "    </tr>\n",
              "  </tbody>\n",
              "</table>\n",
              "</div>"
            ],
            "text/plain": [
              "          Общее количество Среднее по задолжностям  Количество должников\n",
              "children                                                                \n",
              "4                     41.0                   9.76%                   4.0\n",
              "2                   2052.0                   9.45%                 194.0\n",
              "1                   4808.0                   9.23%                 444.0\n",
              "3                    330.0                   8.18%                  27.0\n",
              "0                  14091.0                   7.54%                1063.0\n",
              "5                      9.0                   0.00%                   0.0"
            ]
          },
          "execution_count": 39,
          "metadata": {},
          "output_type": "execute_result"
        }
      ],
      "source": [
        "# Переведем последний столбец в проценты с помощью написанной функции\n",
        "\n",
        "data_children['mean'] = data_children['mean'].apply(per)\n",
        "\n",
        "# Переименуем столбцы для лучшего восприятия и отсортируем столбцу со средним значением\n",
        "\n",
        "data_children = data_children.rename(columns = {'sum': 'Количество должников', 'count': 'Общее количество', 'mean': 'Среднее по задолжностям'}) \n",
        "data_children.sort_values(by='Среднее по задолжностям', ascending=False)"
      ]
    },
    {
      "cell_type": "markdown",
      "id": "10b0779d",
      "metadata": {
        "deletable": false,
        "id": "10b0779d"
      },
      "source": [
        "**Вывод:** \n",
        "\n",
        "Для семей с 4,5 детьми приведено критически мало данных, это выбросы, которые можно не учитывать при оценке зависимости.  Для семей с 3 детьми также мало данных, для учета этой категории нужно их добавить. \n",
        "\n",
        "В таком случае при оценке семей с 0-2 детьми можно сказать, что при уменьшении количества растет процент возврата кредита в срок. Значит, есть зависимость между количеством детей и возвратом кредита в срок."
      ]
    },
    {
      "cell_type": "markdown",
      "id": "a8122f67",
      "metadata": {
        "deletable": false,
        "editable": false,
        "id": "a8122f67"
      },
      "source": [
        "#### 3.2 Есть ли зависимость между семейным положением и возвратом кредита в срок?"
      ]
    },
    {
      "cell_type": "code",
      "execution_count": null,
      "id": "2969531e",
      "metadata": {
        "deletable": false,
        "id": "2969531e",
        "outputId": "3f677d91-e603-4be3-e9d6-e8481ad6bec9"
      },
      "outputs": [
        {
          "data": {
            "text/html": [
              "<div>\n",
              "<style scoped>\n",
              "    .dataframe tbody tr th:only-of-type {\n",
              "        vertical-align: middle;\n",
              "    }\n",
              "\n",
              "    .dataframe tbody tr th {\n",
              "        vertical-align: top;\n",
              "    }\n",
              "\n",
              "    .dataframe thead th {\n",
              "        text-align: right;\n",
              "    }\n",
              "</style>\n",
              "<table border=\"1\" class=\"dataframe\">\n",
              "  <thead>\n",
              "    <tr style=\"text-align: right;\">\n",
              "      <th></th>\n",
              "      <th>Общее количество</th>\n",
              "      <th>Среднее по задолжностям</th>\n",
              "      <th>Количество должников</th>\n",
              "    </tr>\n",
              "    <tr>\n",
              "      <th>family_status</th>\n",
              "      <th></th>\n",
              "      <th></th>\n",
              "      <th></th>\n",
              "    </tr>\n",
              "  </thead>\n",
              "  <tbody>\n",
              "    <tr>\n",
              "      <th>Не женат / не замужем</th>\n",
              "      <td>2796.0</td>\n",
              "      <td>9.76%</td>\n",
              "      <td>273.0</td>\n",
              "    </tr>\n",
              "    <tr>\n",
              "      <th>гражданский брак</th>\n",
              "      <td>4134.0</td>\n",
              "      <td>9.31%</td>\n",
              "      <td>385.0</td>\n",
              "    </tr>\n",
              "    <tr>\n",
              "      <th>женат / замужем</th>\n",
              "      <td>12261.0</td>\n",
              "      <td>7.56%</td>\n",
              "      <td>927.0</td>\n",
              "    </tr>\n",
              "    <tr>\n",
              "      <th>в разводе</th>\n",
              "      <td>1189.0</td>\n",
              "      <td>7.06%</td>\n",
              "      <td>84.0</td>\n",
              "    </tr>\n",
              "    <tr>\n",
              "      <th>вдовец / вдова</th>\n",
              "      <td>951.0</td>\n",
              "      <td>6.62%</td>\n",
              "      <td>63.0</td>\n",
              "    </tr>\n",
              "  </tbody>\n",
              "</table>\n",
              "</div>"
            ],
            "text/plain": [
              "                       Общее количество Среднее по задолжностям  \\\n",
              "family_status                                                     \n",
              "Не женат / не замужем            2796.0                   9.76%   \n",
              "гражданский брак                 4134.0                   9.31%   \n",
              "женат / замужем                 12261.0                   7.56%   \n",
              "в разводе                        1189.0                   7.06%   \n",
              "вдовец / вдова                    951.0                   6.62%   \n",
              "\n",
              "                       Количество должников  \n",
              "family_status                                \n",
              "Не женат / не замужем                 273.0  \n",
              "гражданский брак                      385.0  \n",
              "женат / замужем                       927.0  \n",
              "в разводе                              84.0  \n",
              "вдовец / вдова                         63.0  "
            ]
          },
          "execution_count": 36,
          "metadata": {},
          "output_type": "execute_result"
        }
      ],
      "source": [
        "# Аналогично составим следующие сводные таблицы. Семейное положение - столбец family_status\n",
        "\n",
        "data_family = data.pivot_table(index = 'family_status', values='debt', aggfunc = ('sum', 'count', 'mean')) \n",
        "\n",
        "\n",
        "data_family['mean'] = data_family['mean'].apply(per) \n",
        "data_family = data_family.rename(columns = {'sum': 'Количество должников', 'count': 'Общее количество', 'mean': 'Среднее по задолжностям'}) \n",
        "data_family.sort_values(by='Среднее по задолжностям', ascending=False)"
      ]
    },
    {
      "cell_type": "markdown",
      "id": "aea482a7",
      "metadata": {
        "deletable": false,
        "id": "aea482a7"
      },
      "source": [
        "**Вывод:** \n",
        "\n",
        "Есть зависимость между семейным положением и возвратом кредита в срок. Люди, которые не вступали в брак хуже всего возвращают в срок. Лучше них возвращают люди в браке. По первым трем строчкам можно увидеть зависимость и рассмотреть это со стороны повышения уровня ответственности. У людей, вступивших в брак, она выше.\n",
        "\n",
        "Мало данных для людей в разводе и вдов/вдовцов, но при учете этих статусов можно сделать заключение о том, что те, кто был или состоит в браке платят в срок."
      ]
    },
    {
      "cell_type": "markdown",
      "id": "4d9e90a6",
      "metadata": {
        "deletable": false,
        "editable": false,
        "id": "4d9e90a6"
      },
      "source": [
        "#### 3.3 Есть ли зависимость между уровнем дохода и возвратом кредита в срок?"
      ]
    },
    {
      "cell_type": "code",
      "execution_count": null,
      "id": "214b05ee",
      "metadata": {
        "deletable": false,
        "id": "214b05ee",
        "outputId": "35e74e32-d37e-4f04-84e9-037d01fffb77"
      },
      "outputs": [
        {
          "data": {
            "text/html": [
              "<div>\n",
              "<style scoped>\n",
              "    .dataframe tbody tr th:only-of-type {\n",
              "        vertical-align: middle;\n",
              "    }\n",
              "\n",
              "    .dataframe tbody tr th {\n",
              "        vertical-align: top;\n",
              "    }\n",
              "\n",
              "    .dataframe thead th {\n",
              "        text-align: right;\n",
              "    }\n",
              "</style>\n",
              "<table border=\"1\" class=\"dataframe\">\n",
              "  <thead>\n",
              "    <tr style=\"text-align: right;\">\n",
              "      <th></th>\n",
              "      <th>Общее количество</th>\n",
              "      <th>Среднее по задолжностям</th>\n",
              "      <th>Количество должников</th>\n",
              "    </tr>\n",
              "    <tr>\n",
              "      <th>total_income_category</th>\n",
              "      <th></th>\n",
              "      <th></th>\n",
              "      <th></th>\n",
              "    </tr>\n",
              "  </thead>\n",
              "  <tbody>\n",
              "    <tr>\n",
              "      <th>E</th>\n",
              "      <td>22.0</td>\n",
              "      <td>9.09%</td>\n",
              "      <td>2.0</td>\n",
              "    </tr>\n",
              "    <tr>\n",
              "      <th>C</th>\n",
              "      <td>15921.0</td>\n",
              "      <td>8.50%</td>\n",
              "      <td>1353.0</td>\n",
              "    </tr>\n",
              "    <tr>\n",
              "      <th>A</th>\n",
              "      <td>25.0</td>\n",
              "      <td>8.00%</td>\n",
              "      <td>2.0</td>\n",
              "    </tr>\n",
              "    <tr>\n",
              "      <th>B</th>\n",
              "      <td>5014.0</td>\n",
              "      <td>7.06%</td>\n",
              "      <td>354.0</td>\n",
              "    </tr>\n",
              "    <tr>\n",
              "      <th>D</th>\n",
              "      <td>349.0</td>\n",
              "      <td>6.02%</td>\n",
              "      <td>21.0</td>\n",
              "    </tr>\n",
              "  </tbody>\n",
              "</table>\n",
              "</div>"
            ],
            "text/plain": [
              "                       Общее количество Среднее по задолжностям  \\\n",
              "total_income_category                                             \n",
              "E                                  22.0                   9.09%   \n",
              "C                               15921.0                   8.50%   \n",
              "A                                  25.0                   8.00%   \n",
              "B                                5014.0                   7.06%   \n",
              "D                                 349.0                   6.02%   \n",
              "\n",
              "                       Количество должников  \n",
              "total_income_category                        \n",
              "E                                       2.0  \n",
              "C                                    1353.0  \n",
              "A                                       2.0  \n",
              "B                                     354.0  \n",
              "D                                      21.0  "
            ]
          },
          "execution_count": 41,
          "metadata": {},
          "output_type": "execute_result"
        }
      ],
      "source": [
        "# В качестве индекса был выбран заранее подготовленный столбец total_income_category \n",
        "# В нем были категоризированы доходы на A, B, C, D, E\n",
        "# Условия категоризации - п.2.6, задание 16\n",
        "\n",
        "data_income = data.pivot_table(index = 'total_income_category', values='debt', aggfunc = ('sum', 'count', 'mean')) \n",
        "\n",
        "\n",
        "data_income['mean'] = data_income['mean'].apply(per) \n",
        "data_income = data_income.rename(columns = {'sum': 'Количество должников', 'count': 'Общее количество', 'mean': 'Среднее по задолжностям'}) \n",
        "data_income.sort_values(by='Среднее по задолжностям', ascending=False)"
      ]
    },
    {
      "cell_type": "code",
      "execution_count": null,
      "id": "ba252ddc",
      "metadata": {
        "id": "ba252ddc"
      },
      "outputs": [],
      "source": [
        "data_income['mean', 'debt'] = data_income['mean', 'debt'].apply(per)\n",
        "data_income"
      ]
    },
    {
      "cell_type": "markdown",
      "id": "5e8e3b26",
      "metadata": {
        "deletable": false,
        "id": "5e8e3b26"
      },
      "source": [
        "**Вывод:** \n",
        "\n",
        "Для категорий E, A, D мало данных, зависимость была рассмотрена для категорий B и C. В таком случае заемщики с доходом 50001-200000 платят хуже тех, у кого доход составляет 200001-1000000.\n",
        "\n",
        "Здесь трудно сказать о зависимости, так как при обращении заемщика банки сопоставляют его доход со средним доходом специалистов того же профиля и регионом. Перед выводом о зависимости лучше всего провести еще одно исследование с учетом этих факторов."
      ]
    },
    {
      "cell_type": "markdown",
      "id": "32a4f924",
      "metadata": {
        "deletable": false,
        "editable": false,
        "id": "32a4f924"
      },
      "source": [
        "#### 3.4 Как разные цели кредита влияют на его возврат в срок?"
      ]
    },
    {
      "cell_type": "code",
      "execution_count": null,
      "id": "cc615728",
      "metadata": {
        "deletable": false,
        "id": "cc615728",
        "outputId": "61e28db5-b9c8-4fdc-b6ad-2981e634d9cb"
      },
      "outputs": [
        {
          "data": {
            "text/html": [
              "<div>\n",
              "<style scoped>\n",
              "    .dataframe tbody tr th:only-of-type {\n",
              "        vertical-align: middle;\n",
              "    }\n",
              "\n",
              "    .dataframe tbody tr th {\n",
              "        vertical-align: top;\n",
              "    }\n",
              "\n",
              "    .dataframe thead th {\n",
              "        text-align: right;\n",
              "    }\n",
              "</style>\n",
              "<table border=\"1\" class=\"dataframe\">\n",
              "  <thead>\n",
              "    <tr style=\"text-align: right;\">\n",
              "      <th></th>\n",
              "      <th>Общее количество</th>\n",
              "      <th>Среднее по задолжностям</th>\n",
              "      <th>Количество должников</th>\n",
              "    </tr>\n",
              "    <tr>\n",
              "      <th>purpose_category</th>\n",
              "      <th></th>\n",
              "      <th></th>\n",
              "      <th></th>\n",
              "    </tr>\n",
              "  </thead>\n",
              "  <tbody>\n",
              "    <tr>\n",
              "      <th>операции с автомобилем</th>\n",
              "      <td>4279.0</td>\n",
              "      <td>9.35%</td>\n",
              "      <td>400.0</td>\n",
              "    </tr>\n",
              "    <tr>\n",
              "      <th>получение образования</th>\n",
              "      <td>3988.0</td>\n",
              "      <td>9.25%</td>\n",
              "      <td>369.0</td>\n",
              "    </tr>\n",
              "    <tr>\n",
              "      <th>проведение свадьбы</th>\n",
              "      <td>2313.0</td>\n",
              "      <td>7.91%</td>\n",
              "      <td>183.0</td>\n",
              "    </tr>\n",
              "    <tr>\n",
              "      <th>операции с недвижимостью</th>\n",
              "      <td>10751.0</td>\n",
              "      <td>7.26%</td>\n",
              "      <td>780.0</td>\n",
              "    </tr>\n",
              "  </tbody>\n",
              "</table>\n",
              "</div>"
            ],
            "text/plain": [
              "                          Общее количество Среднее по задолжностям  \\\n",
              "purpose_category                                                     \n",
              "операции с автомобилем              4279.0                   9.35%   \n",
              "получение образования               3988.0                   9.25%   \n",
              "проведение свадьбы                  2313.0                   7.91%   \n",
              "операции с недвижимостью           10751.0                   7.26%   \n",
              "\n",
              "                          Количество должников  \n",
              "purpose_category                                \n",
              "операции с автомобилем                   400.0  \n",
              "получение образования                    369.0  \n",
              "проведение свадьбы                       183.0  \n",
              "операции с недвижимостью                 780.0  "
            ]
          },
          "execution_count": 42,
          "metadata": {},
          "output_type": "execute_result"
        }
      ],
      "source": [
        "# Цели кредита также были разделены на 4 категории\n",
        "# Условия категоризации - п.2.6, задание 18\n",
        "\n",
        "data_purpose = data.pivot_table(index = 'purpose_category', values='debt', aggfunc = ('sum', 'count', 'mean')) \n",
        "\n",
        "\n",
        "data_purpose['mean'] = data_purpose['mean'].apply(per) \n",
        "data_purpose = data_purpose.rename(columns = {'sum': 'Количество должников', 'count': 'Общее количество', 'mean': 'Среднее по задолжностям'}) \n",
        "data_purpose.sort_values(by='Среднее по задолжностям', ascending=False)"
      ]
    },
    {
      "cell_type": "code",
      "execution_count": null,
      "id": "c105fdd3",
      "metadata": {
        "id": "c105fdd3"
      },
      "outputs": [],
      "source": [
        "data_purpose['mean', 'debt'] = data_purpose['mean', 'debt'].apply(per)\n",
        "data_purpose"
      ]
    },
    {
      "cell_type": "markdown",
      "id": "645cd40f",
      "metadata": {
        "deletable": false,
        "id": "645cd40f"
      },
      "source": [
        "**Вывод:** \n",
        "\n",
        "Люди, которые берут кредит с целью операций с недвижимостью лучше всего вовзращают в срок. Это может быть связано с тем, что они берут его более осознанно из-за объема покупки. Также хорошо возвращают люди, которые берут кредит на свадьбу.\n",
        "\n",
        "Хуже всего возвращают кредит люди, которые берут с целью получения образования или покупки автомобиля."
      ]
    },
    {
      "cell_type": "markdown",
      "id": "67f7a262",
      "metadata": {
        "deletable": false,
        "editable": false,
        "id": "67f7a262"
      },
      "source": [
        "#### 3.5 Возможные причины появления пропусков в исходных данных."
      ]
    },
    {
      "cell_type": "markdown",
      "id": "8953ec69",
      "metadata": {
        "deletable": false,
        "id": "8953ec69"
      },
      "source": [
        "*Ответ:* \n",
        "\n",
        "Причинами появления пропусков в исходных данных могут быть:\n",
        "- ошибка при вводе данных\n",
        "- намеренно сделанный пропуск в данных\n",
        "- из-за отсутствия данных в других столбца"
      ]
    },
    {
      "cell_type": "markdown",
      "id": "bc42b857",
      "metadata": {
        "deletable": false,
        "editable": false,
        "id": "bc42b857"
      },
      "source": [
        "\n",
        "## Итоги исследования"
      ]
    },
    {
      "cell_type": "markdown",
      "id": "19d4a13e",
      "metadata": {
        "deletable": false,
        "id": "19d4a13e"
      },
      "source": [
        "Перед исследованием были получены данные от банка — статистика о платёжеспособности клиентов. В данных были пропуски, дубликаты. После их предобработки все было устранено. Данные по доходам клиентов и целям взятия кредитов были категоризированы.\n",
        "\n",
        "В ходе исследования надежности заемщиков было выялено, что есть зависимость между возвращением кредитов в срок и количеством детей, также между семейным статусом. В таком случае для модели самого надежного заемщика можно выделить следующие аспекты:\n",
        "- нет детей\n",
        "- в браке на данный момент/состоял в браке\n",
        "- кредит с целью покупки недвижимости\n",
        "\n",
        "Можно добавить предпочительный доход, но для более точного результата следует выявить предпочтительный доход с учетом дохода и профиля специализации заемщика."
      ]
    }
  ],
  "metadata": {
    "ExecuteTimeLog": [
      {
        "duration": 46,
        "start_time": "2022-11-11T20:44:13.628Z"
      },
      {
        "duration": 628,
        "start_time": "2022-11-11T20:44:28.501Z"
      },
      {
        "duration": 20,
        "start_time": "2022-11-11T20:44:31.591Z"
      },
      {
        "duration": 15,
        "start_time": "2022-11-11T20:44:34.920Z"
      },
      {
        "duration": 11,
        "start_time": "2022-11-11T20:44:38.549Z"
      },
      {
        "duration": 39,
        "start_time": "2022-11-11T20:44:41.946Z"
      },
      {
        "duration": 4,
        "start_time": "2022-11-11T20:44:44.353Z"
      },
      {
        "duration": 8,
        "start_time": "2022-11-11T20:44:46.203Z"
      },
      {
        "duration": 5,
        "start_time": "2022-11-11T20:44:53.649Z"
      },
      {
        "duration": 6,
        "start_time": "2022-11-11T20:45:42.221Z"
      },
      {
        "duration": 7,
        "start_time": "2022-11-11T20:45:44.774Z"
      },
      {
        "duration": 38,
        "start_time": "2022-11-11T20:45:47.398Z"
      },
      {
        "duration": 11,
        "start_time": "2022-11-11T20:45:49.495Z"
      },
      {
        "duration": 4,
        "start_time": "2022-11-11T20:45:52.118Z"
      },
      {
        "duration": 14,
        "start_time": "2022-11-11T20:45:54.605Z"
      },
      {
        "duration": 20,
        "start_time": "2022-11-11T20:45:56.835Z"
      },
      {
        "duration": 16,
        "start_time": "2022-11-11T20:46:01.610Z"
      },
      {
        "duration": 4,
        "start_time": "2022-11-11T20:48:09.585Z"
      },
      {
        "duration": 11,
        "start_time": "2022-11-11T20:48:12.349Z"
      },
      {
        "duration": 5,
        "start_time": "2022-11-11T20:48:14.400Z"
      },
      {
        "duration": 4,
        "start_time": "2022-11-11T20:48:16.905Z"
      },
      {
        "duration": 9,
        "start_time": "2022-11-11T20:48:18.476Z"
      },
      {
        "duration": 28,
        "start_time": "2022-11-11T20:48:20.685Z"
      },
      {
        "duration": 9,
        "start_time": "2022-11-11T20:48:44.691Z"
      },
      {
        "duration": 17,
        "start_time": "2022-11-11T20:48:59.431Z"
      },
      {
        "duration": 12,
        "start_time": "2022-11-11T20:50:55.601Z"
      },
      {
        "duration": 13,
        "start_time": "2022-11-11T20:55:03.523Z"
      },
      {
        "duration": 21,
        "start_time": "2022-11-11T20:57:28.205Z"
      },
      {
        "duration": 14,
        "start_time": "2022-11-11T20:57:36.065Z"
      },
      {
        "duration": 13,
        "start_time": "2022-11-11T20:57:41.637Z"
      },
      {
        "duration": 44,
        "start_time": "2022-11-11T21:01:48.110Z"
      },
      {
        "duration": 3,
        "start_time": "2022-11-11T21:02:53.367Z"
      },
      {
        "duration": 16,
        "start_time": "2022-11-11T21:02:54.940Z"
      },
      {
        "duration": 9,
        "start_time": "2022-11-11T21:03:05.950Z"
      },
      {
        "duration": 714,
        "start_time": "2022-11-11T21:03:24.347Z"
      },
      {
        "duration": 7,
        "start_time": "2022-11-11T21:03:43.521Z"
      },
      {
        "duration": 3,
        "start_time": "2022-11-11T21:08:31.207Z"
      },
      {
        "duration": 12,
        "start_time": "2022-11-11T21:08:32.445Z"
      },
      {
        "duration": 173,
        "start_time": "2022-11-11T21:08:33.826Z"
      },
      {
        "duration": 3,
        "start_time": "2022-11-11T21:11:11.707Z"
      },
      {
        "duration": 15,
        "start_time": "2022-11-11T21:11:13.044Z"
      },
      {
        "duration": 8,
        "start_time": "2022-11-11T21:11:13.662Z"
      },
      {
        "duration": 2,
        "start_time": "2022-11-11T21:13:14.498Z"
      },
      {
        "duration": 15,
        "start_time": "2022-11-11T21:13:15.145Z"
      },
      {
        "duration": 9,
        "start_time": "2022-11-11T21:13:16.441Z"
      },
      {
        "duration": 4,
        "start_time": "2022-11-11T21:20:34.590Z"
      },
      {
        "duration": 15,
        "start_time": "2022-11-11T21:20:35.104Z"
      },
      {
        "duration": 7,
        "start_time": "2022-11-11T21:20:35.608Z"
      },
      {
        "duration": 3,
        "start_time": "2022-11-11T21:20:48.012Z"
      },
      {
        "duration": 13,
        "start_time": "2022-11-11T21:20:48.226Z"
      },
      {
        "duration": 7,
        "start_time": "2022-11-11T21:20:48.610Z"
      },
      {
        "duration": 16,
        "start_time": "2022-11-11T21:22:05.486Z"
      },
      {
        "duration": 7,
        "start_time": "2022-11-11T21:22:33.742Z"
      },
      {
        "duration": 7,
        "start_time": "2022-11-11T21:27:12.223Z"
      },
      {
        "duration": 22,
        "start_time": "2022-11-11T21:27:22.018Z"
      },
      {
        "duration": 16,
        "start_time": "2022-11-11T21:27:25.356Z"
      },
      {
        "duration": 14,
        "start_time": "2022-11-11T21:28:53.899Z"
      },
      {
        "duration": 7,
        "start_time": "2022-11-11T21:28:56.389Z"
      },
      {
        "duration": 15,
        "start_time": "2022-11-11T21:39:57.807Z"
      },
      {
        "duration": 7,
        "start_time": "2022-11-11T21:40:00.878Z"
      },
      {
        "duration": 23,
        "start_time": "2022-11-11T22:21:55.121Z"
      },
      {
        "duration": 686,
        "start_time": "2022-11-11T22:22:16.004Z"
      },
      {
        "duration": 727,
        "start_time": "2022-11-11T22:22:27.110Z"
      },
      {
        "duration": 794,
        "start_time": "2022-11-11T22:22:37.810Z"
      },
      {
        "duration": 14,
        "start_time": "2022-11-11T22:24:57.176Z"
      },
      {
        "duration": 28,
        "start_time": "2022-11-11T22:46:14.238Z"
      },
      {
        "duration": 28,
        "start_time": "2022-11-11T22:47:17.064Z"
      },
      {
        "duration": 9,
        "start_time": "2022-11-11T22:47:19.617Z"
      },
      {
        "duration": 27,
        "start_time": "2022-11-11T22:47:22.972Z"
      },
      {
        "duration": 48,
        "start_time": "2022-11-11T22:47:25.207Z"
      },
      {
        "duration": 28,
        "start_time": "2022-11-11T22:47:41.293Z"
      },
      {
        "duration": 59,
        "start_time": "2022-11-11T22:47:43.247Z"
      },
      {
        "duration": 12,
        "start_time": "2022-11-11T22:47:51.063Z"
      },
      {
        "duration": 37,
        "start_time": "2022-11-11T22:48:02.890Z"
      },
      {
        "duration": 9,
        "start_time": "2022-11-11T22:48:10.892Z"
      },
      {
        "duration": 12,
        "start_time": "2022-11-12T00:08:20.554Z"
      },
      {
        "duration": 46,
        "start_time": "2022-11-12T10:56:25.214Z"
      },
      {
        "duration": 722,
        "start_time": "2022-11-12T10:56:32.304Z"
      },
      {
        "duration": 22,
        "start_time": "2022-11-12T10:56:35.821Z"
      },
      {
        "duration": 15,
        "start_time": "2022-11-12T10:56:41.079Z"
      },
      {
        "duration": 11,
        "start_time": "2022-11-12T10:56:44.237Z"
      },
      {
        "duration": 35,
        "start_time": "2022-11-12T10:56:47.168Z"
      },
      {
        "duration": 5,
        "start_time": "2022-11-12T10:56:49.000Z"
      },
      {
        "duration": 8,
        "start_time": "2022-11-12T10:56:58.762Z"
      },
      {
        "duration": 5,
        "start_time": "2022-11-12T10:57:23.094Z"
      },
      {
        "duration": 6,
        "start_time": "2022-11-12T10:57:25.502Z"
      },
      {
        "duration": 5,
        "start_time": "2022-11-12T10:57:27.635Z"
      },
      {
        "duration": 32,
        "start_time": "2022-11-12T10:57:30.744Z"
      },
      {
        "duration": 13,
        "start_time": "2022-11-12T10:57:32.419Z"
      },
      {
        "duration": 3,
        "start_time": "2022-11-12T10:57:35.799Z"
      },
      {
        "duration": 12,
        "start_time": "2022-11-12T10:57:37.882Z"
      },
      {
        "duration": 20,
        "start_time": "2022-11-12T10:58:07.325Z"
      },
      {
        "duration": 16,
        "start_time": "2022-11-12T10:58:08.364Z"
      },
      {
        "duration": 6,
        "start_time": "2022-11-12T10:58:11.991Z"
      },
      {
        "duration": 16,
        "start_time": "2022-11-12T10:58:12.276Z"
      },
      {
        "duration": 10,
        "start_time": "2022-11-12T10:58:15.418Z"
      },
      {
        "duration": 6,
        "start_time": "2022-11-12T10:58:17.116Z"
      },
      {
        "duration": 3,
        "start_time": "2022-11-12T10:58:20.431Z"
      },
      {
        "duration": 8,
        "start_time": "2022-11-12T10:58:22.786Z"
      },
      {
        "duration": 3,
        "start_time": "2022-11-12T10:58:24.713Z"
      },
      {
        "duration": 28,
        "start_time": "2022-11-12T10:58:26.779Z"
      },
      {
        "duration": 13,
        "start_time": "2022-11-12T10:58:40.628Z"
      },
      {
        "duration": 29,
        "start_time": "2022-11-12T10:58:43.548Z"
      },
      {
        "duration": 10,
        "start_time": "2022-11-12T10:58:46.617Z"
      },
      {
        "duration": 35,
        "start_time": "2022-11-12T10:58:50.545Z"
      },
      {
        "duration": 46,
        "start_time": "2022-11-12T12:25:07.605Z"
      },
      {
        "duration": 59,
        "start_time": "2022-11-12T12:26:48.214Z"
      },
      {
        "duration": 189,
        "start_time": "2022-11-12T12:28:28.169Z"
      },
      {
        "duration": 5,
        "start_time": "2022-11-12T12:58:37.084Z"
      },
      {
        "duration": 13,
        "start_time": "2022-11-12T12:58:47.717Z"
      },
      {
        "duration": 9,
        "start_time": "2022-11-12T12:59:01.001Z"
      },
      {
        "duration": 51,
        "start_time": "2022-11-12T12:59:45.764Z"
      },
      {
        "duration": 7,
        "start_time": "2022-11-12T13:00:11.799Z"
      },
      {
        "duration": 62,
        "start_time": "2022-11-12T13:00:21.591Z"
      },
      {
        "duration": 75,
        "start_time": "2022-11-12T13:00:29.198Z"
      },
      {
        "duration": 56,
        "start_time": "2022-11-12T13:00:35.866Z"
      },
      {
        "duration": 5,
        "start_time": "2022-11-12T13:03:01.371Z"
      },
      {
        "duration": 8,
        "start_time": "2022-11-12T13:03:04.142Z"
      },
      {
        "duration": 8,
        "start_time": "2022-11-12T13:03:37.791Z"
      },
      {
        "duration": 7,
        "start_time": "2022-11-12T13:03:44.676Z"
      },
      {
        "duration": 8,
        "start_time": "2022-11-12T13:04:03.383Z"
      },
      {
        "duration": 7,
        "start_time": "2022-11-12T13:04:07.525Z"
      },
      {
        "duration": 29,
        "start_time": "2022-11-12T13:04:23.512Z"
      },
      {
        "duration": 9,
        "start_time": "2022-11-12T13:04:25.875Z"
      },
      {
        "duration": 13,
        "start_time": "2022-11-12T13:04:29.147Z"
      },
      {
        "duration": 13,
        "start_time": "2022-11-12T13:04:37.569Z"
      },
      {
        "duration": 77,
        "start_time": "2022-11-12T13:06:18.645Z"
      },
      {
        "duration": 36,
        "start_time": "2022-11-12T13:07:01.113Z"
      },
      {
        "duration": 10,
        "start_time": "2022-11-12T13:07:02.192Z"
      },
      {
        "duration": 30,
        "start_time": "2022-11-12T13:07:09.204Z"
      },
      {
        "duration": 10,
        "start_time": "2022-11-12T13:07:10.545Z"
      },
      {
        "duration": 52,
        "start_time": "2022-11-12T13:07:12.855Z"
      },
      {
        "duration": 11,
        "start_time": "2022-11-12T13:07:24.365Z"
      },
      {
        "duration": 69,
        "start_time": "2022-11-12T13:23:22.914Z"
      },
      {
        "duration": 17,
        "start_time": "2022-11-12T13:23:25.499Z"
      },
      {
        "duration": 15,
        "start_time": "2022-11-12T13:23:29.526Z"
      },
      {
        "duration": 11,
        "start_time": "2022-11-12T13:23:35.538Z"
      },
      {
        "duration": 35,
        "start_time": "2022-11-12T13:23:39.469Z"
      },
      {
        "duration": 4,
        "start_time": "2022-11-12T13:23:42.420Z"
      },
      {
        "duration": 7,
        "start_time": "2022-11-12T13:23:44.375Z"
      },
      {
        "duration": 4,
        "start_time": "2022-11-12T13:23:49.041Z"
      },
      {
        "duration": 5,
        "start_time": "2022-11-12T13:23:53.837Z"
      },
      {
        "duration": 5,
        "start_time": "2022-11-12T13:24:00.730Z"
      },
      {
        "duration": 31,
        "start_time": "2022-11-12T13:24:07.152Z"
      },
      {
        "duration": 10,
        "start_time": "2022-11-12T13:24:09.342Z"
      },
      {
        "duration": 4,
        "start_time": "2022-11-12T13:24:18.913Z"
      },
      {
        "duration": 12,
        "start_time": "2022-11-12T13:24:21.481Z"
      },
      {
        "duration": 19,
        "start_time": "2022-11-12T13:24:24.095Z"
      },
      {
        "duration": 19,
        "start_time": "2022-11-12T13:24:25.691Z"
      },
      {
        "duration": 3,
        "start_time": "2022-11-12T13:24:28.270Z"
      },
      {
        "duration": 11,
        "start_time": "2022-11-12T13:24:30.528Z"
      },
      {
        "duration": 6,
        "start_time": "2022-11-12T13:24:32.859Z"
      },
      {
        "duration": 3,
        "start_time": "2022-11-12T13:24:35.461Z"
      },
      {
        "duration": 9,
        "start_time": "2022-11-12T13:24:36.829Z"
      },
      {
        "duration": 4,
        "start_time": "2022-11-12T13:24:38.857Z"
      },
      {
        "duration": 31,
        "start_time": "2022-11-12T13:24:41.451Z"
      },
      {
        "duration": 10,
        "start_time": "2022-11-12T13:24:43.279Z"
      },
      {
        "duration": 31,
        "start_time": "2022-11-12T13:24:47.304Z"
      },
      {
        "duration": 26,
        "start_time": "2022-11-12T13:24:49.740Z"
      },
      {
        "duration": 15,
        "start_time": "2022-11-12T13:24:54.182Z"
      },
      {
        "duration": 426,
        "start_time": "2022-11-12T14:16:08.126Z"
      },
      {
        "duration": 21,
        "start_time": "2022-11-12T14:16:08.554Z"
      },
      {
        "duration": 37,
        "start_time": "2022-11-12T14:16:08.577Z"
      },
      {
        "duration": 17,
        "start_time": "2022-11-12T14:16:08.616Z"
      },
      {
        "duration": 49,
        "start_time": "2022-11-12T14:16:08.636Z"
      },
      {
        "duration": 4,
        "start_time": "2022-11-12T14:16:08.686Z"
      },
      {
        "duration": 21,
        "start_time": "2022-11-12T14:16:08.692Z"
      },
      {
        "duration": 16,
        "start_time": "2022-11-12T14:16:08.715Z"
      },
      {
        "duration": 24,
        "start_time": "2022-11-12T14:16:08.732Z"
      },
      {
        "duration": 14,
        "start_time": "2022-11-12T14:16:08.758Z"
      },
      {
        "duration": 55,
        "start_time": "2022-11-12T14:16:08.773Z"
      },
      {
        "duration": 9,
        "start_time": "2022-11-12T14:16:08.830Z"
      },
      {
        "duration": 31,
        "start_time": "2022-11-12T14:16:08.840Z"
      },
      {
        "duration": 32,
        "start_time": "2022-11-12T14:16:08.874Z"
      },
      {
        "duration": 37,
        "start_time": "2022-11-12T14:16:08.908Z"
      },
      {
        "duration": 27,
        "start_time": "2022-11-12T14:16:08.947Z"
      },
      {
        "duration": 18,
        "start_time": "2022-11-12T14:16:08.976Z"
      },
      {
        "duration": 33,
        "start_time": "2022-11-12T14:16:08.995Z"
      },
      {
        "duration": 33,
        "start_time": "2022-11-12T14:16:09.029Z"
      },
      {
        "duration": 13,
        "start_time": "2022-11-12T14:16:09.063Z"
      },
      {
        "duration": 29,
        "start_time": "2022-11-12T14:16:09.078Z"
      },
      {
        "duration": 29,
        "start_time": "2022-11-12T14:16:09.109Z"
      },
      {
        "duration": 66,
        "start_time": "2022-11-12T14:16:09.139Z"
      },
      {
        "duration": 11,
        "start_time": "2022-11-12T14:16:09.208Z"
      },
      {
        "duration": 75,
        "start_time": "2022-11-12T14:16:09.221Z"
      },
      {
        "duration": 9,
        "start_time": "2022-11-12T14:16:09.297Z"
      },
      {
        "duration": 29,
        "start_time": "2022-11-12T14:16:09.308Z"
      },
      {
        "duration": 114,
        "start_time": "2022-11-12T14:16:09.339Z"
      },
      {
        "duration": 0,
        "start_time": "2022-11-12T14:16:09.455Z"
      },
      {
        "duration": 0,
        "start_time": "2022-11-12T14:16:09.456Z"
      },
      {
        "duration": 0,
        "start_time": "2022-11-12T14:16:09.457Z"
      },
      {
        "duration": 0,
        "start_time": "2022-11-12T14:16:09.465Z"
      },
      {
        "duration": 9,
        "start_time": "2022-11-12T14:17:11.671Z"
      },
      {
        "duration": 10,
        "start_time": "2022-11-12T14:17:19.078Z"
      },
      {
        "duration": 13,
        "start_time": "2022-11-12T14:18:11.543Z"
      },
      {
        "duration": 11,
        "start_time": "2022-11-12T15:00:37.273Z"
      },
      {
        "duration": 9,
        "start_time": "2022-11-12T15:00:50.379Z"
      },
      {
        "duration": 28,
        "start_time": "2022-11-12T15:01:11.542Z"
      },
      {
        "duration": 25,
        "start_time": "2022-11-12T15:01:19.269Z"
      },
      {
        "duration": 42,
        "start_time": "2022-11-12T15:02:14.929Z"
      },
      {
        "duration": 49,
        "start_time": "2022-11-12T15:02:25.065Z"
      },
      {
        "duration": 52,
        "start_time": "2022-11-12T15:02:31.950Z"
      },
      {
        "duration": 445,
        "start_time": "2022-11-12T15:02:45.148Z"
      },
      {
        "duration": 25,
        "start_time": "2022-11-12T15:02:52.334Z"
      },
      {
        "duration": 21,
        "start_time": "2022-11-12T15:03:32.052Z"
      },
      {
        "duration": 22,
        "start_time": "2022-11-12T15:03:37.735Z"
      },
      {
        "duration": 24,
        "start_time": "2022-11-12T15:04:01.584Z"
      },
      {
        "duration": 23,
        "start_time": "2022-11-12T15:04:18.553Z"
      },
      {
        "duration": 739,
        "start_time": "2022-11-12T15:06:32.316Z"
      },
      {
        "duration": 25,
        "start_time": "2022-11-12T15:07:21.371Z"
      },
      {
        "duration": 26,
        "start_time": "2022-11-12T15:07:59.001Z"
      },
      {
        "duration": 30,
        "start_time": "2022-11-12T15:09:18.164Z"
      },
      {
        "duration": 462,
        "start_time": "2022-11-12T16:30:05.990Z"
      },
      {
        "duration": 27,
        "start_time": "2022-11-12T16:30:06.453Z"
      },
      {
        "duration": 24,
        "start_time": "2022-11-12T16:30:06.481Z"
      },
      {
        "duration": 30,
        "start_time": "2022-11-12T16:30:06.507Z"
      },
      {
        "duration": 60,
        "start_time": "2022-11-12T16:30:06.540Z"
      },
      {
        "duration": 4,
        "start_time": "2022-11-12T16:30:06.602Z"
      },
      {
        "duration": 20,
        "start_time": "2022-11-12T16:30:06.607Z"
      },
      {
        "duration": 7,
        "start_time": "2022-11-12T16:30:06.629Z"
      },
      {
        "duration": 16,
        "start_time": "2022-11-12T16:30:06.637Z"
      },
      {
        "duration": 9,
        "start_time": "2022-11-12T16:30:06.654Z"
      },
      {
        "duration": 50,
        "start_time": "2022-11-12T16:30:06.664Z"
      },
      {
        "duration": 10,
        "start_time": "2022-11-12T16:30:06.715Z"
      },
      {
        "duration": 8,
        "start_time": "2022-11-12T16:30:06.727Z"
      },
      {
        "duration": 19,
        "start_time": "2022-11-12T16:30:06.737Z"
      },
      {
        "duration": 29,
        "start_time": "2022-11-12T16:30:06.758Z"
      },
      {
        "duration": 16,
        "start_time": "2022-11-12T16:30:06.789Z"
      },
      {
        "duration": 3,
        "start_time": "2022-11-12T16:30:06.806Z"
      },
      {
        "duration": 17,
        "start_time": "2022-11-12T16:30:06.811Z"
      },
      {
        "duration": 8,
        "start_time": "2022-11-12T16:30:06.829Z"
      },
      {
        "duration": 8,
        "start_time": "2022-11-12T16:30:06.839Z"
      },
      {
        "duration": 16,
        "start_time": "2022-11-12T16:30:06.848Z"
      },
      {
        "duration": 15,
        "start_time": "2022-11-12T16:30:06.866Z"
      },
      {
        "duration": 37,
        "start_time": "2022-11-12T16:30:06.882Z"
      },
      {
        "duration": 10,
        "start_time": "2022-11-12T16:30:06.920Z"
      },
      {
        "duration": 29,
        "start_time": "2022-11-12T16:30:06.932Z"
      },
      {
        "duration": 39,
        "start_time": "2022-11-12T16:30:06.963Z"
      },
      {
        "duration": 824,
        "start_time": "2022-11-12T16:30:07.003Z"
      },
      {
        "duration": 0,
        "start_time": "2022-11-12T16:30:07.829Z"
      },
      {
        "duration": 0,
        "start_time": "2022-11-12T16:30:07.830Z"
      },
      {
        "duration": 0,
        "start_time": "2022-11-12T16:30:07.832Z"
      },
      {
        "duration": 0,
        "start_time": "2022-11-12T16:30:07.833Z"
      },
      {
        "duration": 0,
        "start_time": "2022-11-12T16:30:07.835Z"
      },
      {
        "duration": 27,
        "start_time": "2022-11-12T16:30:20.323Z"
      },
      {
        "duration": 28,
        "start_time": "2022-11-12T16:32:12.922Z"
      },
      {
        "duration": 7,
        "start_time": "2022-11-12T16:35:11.566Z"
      },
      {
        "duration": 35,
        "start_time": "2022-11-12T16:35:18.825Z"
      },
      {
        "duration": 8,
        "start_time": "2022-11-12T16:35:20.293Z"
      },
      {
        "duration": 12,
        "start_time": "2022-11-12T23:18:57.177Z"
      },
      {
        "duration": 63,
        "start_time": "2022-11-12T23:18:58.812Z"
      },
      {
        "duration": 773,
        "start_time": "2022-11-12T23:19:05.778Z"
      },
      {
        "duration": 30,
        "start_time": "2022-11-12T23:19:06.558Z"
      },
      {
        "duration": 17,
        "start_time": "2022-11-12T23:19:06.589Z"
      },
      {
        "duration": 10,
        "start_time": "2022-11-12T23:19:06.607Z"
      },
      {
        "duration": 59,
        "start_time": "2022-11-12T23:19:06.620Z"
      },
      {
        "duration": 6,
        "start_time": "2022-11-12T23:19:06.681Z"
      },
      {
        "duration": 12,
        "start_time": "2022-11-12T23:19:06.689Z"
      },
      {
        "duration": 7,
        "start_time": "2022-11-12T23:19:06.703Z"
      },
      {
        "duration": 10,
        "start_time": "2022-11-12T23:19:06.712Z"
      },
      {
        "duration": 5,
        "start_time": "2022-11-12T23:19:06.723Z"
      },
      {
        "duration": 69,
        "start_time": "2022-11-12T23:19:06.729Z"
      },
      {
        "duration": 10,
        "start_time": "2022-11-12T23:19:06.800Z"
      },
      {
        "duration": 7,
        "start_time": "2022-11-12T23:19:06.812Z"
      },
      {
        "duration": 35,
        "start_time": "2022-11-12T23:19:06.822Z"
      },
      {
        "duration": 30,
        "start_time": "2022-11-12T23:19:06.864Z"
      },
      {
        "duration": 22,
        "start_time": "2022-11-12T23:19:06.895Z"
      },
      {
        "duration": 5,
        "start_time": "2022-11-12T23:19:06.918Z"
      },
      {
        "duration": 22,
        "start_time": "2022-11-12T23:19:06.924Z"
      },
      {
        "duration": 43,
        "start_time": "2022-11-12T23:19:06.948Z"
      },
      {
        "duration": 6,
        "start_time": "2022-11-12T23:19:06.993Z"
      },
      {
        "duration": 15,
        "start_time": "2022-11-12T23:19:07.001Z"
      },
      {
        "duration": 8,
        "start_time": "2022-11-12T23:19:07.018Z"
      },
      {
        "duration": 32,
        "start_time": "2022-11-12T23:19:07.027Z"
      },
      {
        "duration": 27,
        "start_time": "2022-11-12T23:19:07.060Z"
      },
      {
        "duration": 32,
        "start_time": "2022-11-12T23:19:07.089Z"
      },
      {
        "duration": 24,
        "start_time": "2022-11-12T23:19:07.123Z"
      },
      {
        "duration": 1036,
        "start_time": "2022-11-12T23:19:07.154Z"
      },
      {
        "duration": 0,
        "start_time": "2022-11-12T23:19:08.193Z"
      },
      {
        "duration": 0,
        "start_time": "2022-11-12T23:19:08.195Z"
      },
      {
        "duration": 0,
        "start_time": "2022-11-12T23:19:08.197Z"
      },
      {
        "duration": 0,
        "start_time": "2022-11-12T23:19:08.199Z"
      },
      {
        "duration": 0,
        "start_time": "2022-11-12T23:19:08.200Z"
      },
      {
        "duration": 18,
        "start_time": "2022-11-12T23:21:41.340Z"
      },
      {
        "duration": 36,
        "start_time": "2022-11-12T23:21:51.533Z"
      },
      {
        "duration": 20,
        "start_time": "2022-11-12T23:21:56.167Z"
      },
      {
        "duration": 29,
        "start_time": "2022-11-12T23:22:36.344Z"
      },
      {
        "duration": 22,
        "start_time": "2022-11-12T23:22:57.790Z"
      },
      {
        "duration": 792,
        "start_time": "2022-11-12T23:28:21.675Z"
      },
      {
        "duration": 34,
        "start_time": "2022-11-12T23:28:22.469Z"
      },
      {
        "duration": 15,
        "start_time": "2022-11-12T23:28:22.504Z"
      },
      {
        "duration": 10,
        "start_time": "2022-11-12T23:28:22.521Z"
      },
      {
        "duration": 55,
        "start_time": "2022-11-12T23:28:22.533Z"
      },
      {
        "duration": 4,
        "start_time": "2022-11-12T23:28:22.589Z"
      },
      {
        "duration": 10,
        "start_time": "2022-11-12T23:28:22.594Z"
      },
      {
        "duration": 4,
        "start_time": "2022-11-12T23:28:22.606Z"
      },
      {
        "duration": 15,
        "start_time": "2022-11-12T23:28:22.611Z"
      },
      {
        "duration": 5,
        "start_time": "2022-11-12T23:28:22.628Z"
      },
      {
        "duration": 49,
        "start_time": "2022-11-12T23:28:22.647Z"
      },
      {
        "duration": 10,
        "start_time": "2022-11-12T23:28:22.698Z"
      },
      {
        "duration": 5,
        "start_time": "2022-11-12T23:28:22.710Z"
      },
      {
        "duration": 19,
        "start_time": "2022-11-12T23:28:22.717Z"
      },
      {
        "duration": 40,
        "start_time": "2022-11-12T23:28:22.738Z"
      },
      {
        "duration": 17,
        "start_time": "2022-11-12T23:28:22.780Z"
      },
      {
        "duration": 3,
        "start_time": "2022-11-12T23:28:22.799Z"
      },
      {
        "duration": 14,
        "start_time": "2022-11-12T23:28:22.804Z"
      },
      {
        "duration": 6,
        "start_time": "2022-11-12T23:28:22.820Z"
      },
      {
        "duration": 30,
        "start_time": "2022-11-12T23:28:22.827Z"
      },
      {
        "duration": 17,
        "start_time": "2022-11-12T23:28:22.859Z"
      },
      {
        "duration": 10,
        "start_time": "2022-11-12T23:28:22.877Z"
      },
      {
        "duration": 28,
        "start_time": "2022-11-12T23:28:22.888Z"
      },
      {
        "duration": 9,
        "start_time": "2022-11-12T23:28:22.917Z"
      },
      {
        "duration": 36,
        "start_time": "2022-11-12T23:28:22.927Z"
      },
      {
        "duration": 31,
        "start_time": "2022-11-12T23:28:22.965Z"
      },
      {
        "duration": 30,
        "start_time": "2022-11-12T23:28:22.998Z"
      },
      {
        "duration": 49,
        "start_time": "2022-11-12T23:28:23.029Z"
      },
      {
        "duration": 9,
        "start_time": "2022-11-12T23:28:23.079Z"
      },
      {
        "duration": 32,
        "start_time": "2022-11-12T23:28:23.089Z"
      },
      {
        "duration": 8,
        "start_time": "2022-11-12T23:28:23.123Z"
      },
      {
        "duration": 865,
        "start_time": "2022-11-12T23:30:50.459Z"
      },
      {
        "duration": 21,
        "start_time": "2022-11-12T23:31:18.534Z"
      },
      {
        "duration": 15,
        "start_time": "2022-11-12T23:31:27.190Z"
      },
      {
        "duration": 19,
        "start_time": "2022-11-12T23:31:37.234Z"
      },
      {
        "duration": 35,
        "start_time": "2022-11-12T23:32:04.130Z"
      },
      {
        "duration": 23,
        "start_time": "2022-11-12T23:32:29.093Z"
      },
      {
        "duration": 28,
        "start_time": "2022-11-12T23:33:04.950Z"
      },
      {
        "duration": 32,
        "start_time": "2022-11-12T23:35:16.800Z"
      },
      {
        "duration": 507,
        "start_time": "2022-11-12T23:36:11.070Z"
      },
      {
        "duration": 30,
        "start_time": "2022-11-12T23:36:11.580Z"
      },
      {
        "duration": 16,
        "start_time": "2022-11-12T23:36:11.612Z"
      },
      {
        "duration": 26,
        "start_time": "2022-11-12T23:36:11.631Z"
      },
      {
        "duration": 56,
        "start_time": "2022-11-12T23:36:11.659Z"
      },
      {
        "duration": 4,
        "start_time": "2022-11-12T23:36:11.717Z"
      },
      {
        "duration": 13,
        "start_time": "2022-11-12T23:36:11.723Z"
      },
      {
        "duration": 4,
        "start_time": "2022-11-12T23:36:11.737Z"
      },
      {
        "duration": 48,
        "start_time": "2022-11-12T23:36:11.752Z"
      },
      {
        "duration": 10,
        "start_time": "2022-11-12T23:36:11.803Z"
      },
      {
        "duration": 34,
        "start_time": "2022-11-12T23:36:11.815Z"
      },
      {
        "duration": 16,
        "start_time": "2022-11-12T23:36:11.851Z"
      },
      {
        "duration": 28,
        "start_time": "2022-11-12T23:36:11.871Z"
      },
      {
        "duration": 28,
        "start_time": "2022-11-12T23:36:11.901Z"
      },
      {
        "duration": 29,
        "start_time": "2022-11-12T23:36:11.934Z"
      },
      {
        "duration": 39,
        "start_time": "2022-11-12T23:36:11.968Z"
      },
      {
        "duration": 4,
        "start_time": "2022-11-12T23:36:12.009Z"
      },
      {
        "duration": 19,
        "start_time": "2022-11-12T23:36:12.014Z"
      },
      {
        "duration": 7,
        "start_time": "2022-11-12T23:36:12.035Z"
      },
      {
        "duration": 15,
        "start_time": "2022-11-12T23:36:12.044Z"
      },
      {
        "duration": 48,
        "start_time": "2022-11-12T23:36:12.065Z"
      },
      {
        "duration": 2,
        "start_time": "2022-11-12T23:36:12.115Z"
      },
      {
        "duration": 33,
        "start_time": "2022-11-12T23:36:12.119Z"
      },
      {
        "duration": 11,
        "start_time": "2022-11-12T23:36:12.159Z"
      },
      {
        "duration": 56,
        "start_time": "2022-11-12T23:36:12.171Z"
      },
      {
        "duration": 40,
        "start_time": "2022-11-12T23:36:12.228Z"
      },
      {
        "duration": 14,
        "start_time": "2022-11-12T23:36:12.270Z"
      },
      {
        "duration": 60,
        "start_time": "2022-11-12T23:36:12.287Z"
      },
      {
        "duration": 20,
        "start_time": "2022-11-12T23:36:12.349Z"
      },
      {
        "duration": 37,
        "start_time": "2022-11-12T23:37:25.432Z"
      },
      {
        "duration": 524,
        "start_time": "2022-11-12T23:39:51.334Z"
      },
      {
        "duration": 32,
        "start_time": "2022-11-12T23:39:51.860Z"
      },
      {
        "duration": 27,
        "start_time": "2022-11-12T23:39:51.893Z"
      },
      {
        "duration": 13,
        "start_time": "2022-11-12T23:39:51.922Z"
      },
      {
        "duration": 58,
        "start_time": "2022-11-12T23:39:51.937Z"
      },
      {
        "duration": 4,
        "start_time": "2022-11-12T23:39:51.996Z"
      },
      {
        "duration": 15,
        "start_time": "2022-11-12T23:39:52.002Z"
      },
      {
        "duration": 9,
        "start_time": "2022-11-12T23:39:52.018Z"
      },
      {
        "duration": 15,
        "start_time": "2022-11-12T23:39:52.028Z"
      },
      {
        "duration": 10,
        "start_time": "2022-11-12T23:39:52.047Z"
      },
      {
        "duration": 64,
        "start_time": "2022-11-12T23:39:52.059Z"
      },
      {
        "duration": 10,
        "start_time": "2022-11-12T23:39:52.124Z"
      },
      {
        "duration": 6,
        "start_time": "2022-11-12T23:39:52.135Z"
      },
      {
        "duration": 48,
        "start_time": "2022-11-12T23:39:52.143Z"
      },
      {
        "duration": 26,
        "start_time": "2022-11-12T23:39:52.194Z"
      },
      {
        "duration": 15,
        "start_time": "2022-11-12T23:39:52.223Z"
      },
      {
        "duration": 4,
        "start_time": "2022-11-12T23:39:52.240Z"
      },
      {
        "duration": 45,
        "start_time": "2022-11-12T23:39:52.246Z"
      },
      {
        "duration": 18,
        "start_time": "2022-11-12T23:39:52.292Z"
      },
      {
        "duration": 5,
        "start_time": "2022-11-12T23:39:52.311Z"
      },
      {
        "duration": 13,
        "start_time": "2022-11-12T23:39:52.319Z"
      },
      {
        "duration": 6,
        "start_time": "2022-11-12T23:39:52.333Z"
      },
      {
        "duration": 45,
        "start_time": "2022-11-12T23:39:52.341Z"
      },
      {
        "duration": 19,
        "start_time": "2022-11-12T23:39:52.388Z"
      },
      {
        "duration": 23,
        "start_time": "2022-11-12T23:39:52.409Z"
      },
      {
        "duration": 46,
        "start_time": "2022-11-12T23:39:52.434Z"
      },
      {
        "duration": 9,
        "start_time": "2022-11-12T23:39:52.487Z"
      },
      {
        "duration": 35,
        "start_time": "2022-11-12T23:39:52.499Z"
      },
      {
        "duration": 20,
        "start_time": "2022-11-12T23:39:52.535Z"
      },
      {
        "duration": 22,
        "start_time": "2022-11-12T23:40:37.525Z"
      },
      {
        "duration": 81,
        "start_time": "2022-11-12T23:40:46.137Z"
      },
      {
        "duration": 40,
        "start_time": "2022-11-12T23:40:53.351Z"
      },
      {
        "duration": 32,
        "start_time": "2022-11-12T23:41:15.482Z"
      },
      {
        "duration": 41,
        "start_time": "2022-11-12T23:42:02.889Z"
      },
      {
        "duration": 500,
        "start_time": "2022-11-12T23:42:14.307Z"
      },
      {
        "duration": 27,
        "start_time": "2022-11-12T23:42:14.809Z"
      },
      {
        "duration": 24,
        "start_time": "2022-11-12T23:42:14.838Z"
      },
      {
        "duration": 39,
        "start_time": "2022-11-12T23:42:14.865Z"
      },
      {
        "duration": 51,
        "start_time": "2022-11-12T23:42:14.906Z"
      },
      {
        "duration": 4,
        "start_time": "2022-11-12T23:42:14.960Z"
      },
      {
        "duration": 34,
        "start_time": "2022-11-12T23:42:14.966Z"
      },
      {
        "duration": 15,
        "start_time": "2022-11-12T23:42:15.001Z"
      },
      {
        "duration": 33,
        "start_time": "2022-11-12T23:42:15.018Z"
      },
      {
        "duration": 54,
        "start_time": "2022-11-12T23:42:15.058Z"
      },
      {
        "duration": 36,
        "start_time": "2022-11-12T23:42:15.114Z"
      },
      {
        "duration": 15,
        "start_time": "2022-11-12T23:42:15.152Z"
      },
      {
        "duration": 37,
        "start_time": "2022-11-12T23:42:15.169Z"
      },
      {
        "duration": 16,
        "start_time": "2022-11-12T23:42:15.209Z"
      },
      {
        "duration": 51,
        "start_time": "2022-11-12T23:42:15.227Z"
      },
      {
        "duration": 39,
        "start_time": "2022-11-12T23:42:15.282Z"
      },
      {
        "duration": 6,
        "start_time": "2022-11-12T23:42:15.324Z"
      },
      {
        "duration": 34,
        "start_time": "2022-11-12T23:42:15.332Z"
      },
      {
        "duration": 37,
        "start_time": "2022-11-12T23:42:15.367Z"
      },
      {
        "duration": 8,
        "start_time": "2022-11-12T23:42:15.407Z"
      },
      {
        "duration": 23,
        "start_time": "2022-11-12T23:42:15.417Z"
      },
      {
        "duration": 37,
        "start_time": "2022-11-12T23:42:15.444Z"
      },
      {
        "duration": 92,
        "start_time": "2022-11-12T23:42:15.484Z"
      },
      {
        "duration": 0,
        "start_time": "2022-11-12T23:42:15.577Z"
      },
      {
        "duration": 0,
        "start_time": "2022-11-12T23:42:15.578Z"
      },
      {
        "duration": 0,
        "start_time": "2022-11-12T23:42:15.581Z"
      },
      {
        "duration": 0,
        "start_time": "2022-11-12T23:42:15.582Z"
      },
      {
        "duration": 0,
        "start_time": "2022-11-12T23:42:15.583Z"
      },
      {
        "duration": 0,
        "start_time": "2022-11-12T23:42:15.584Z"
      },
      {
        "duration": 40,
        "start_time": "2022-11-12T23:42:32.878Z"
      },
      {
        "duration": 33,
        "start_time": "2022-11-12T23:42:51.075Z"
      },
      {
        "duration": 32,
        "start_time": "2022-11-12T23:45:43.066Z"
      },
      {
        "duration": 74,
        "start_time": "2022-11-12T23:50:15.153Z"
      },
      {
        "duration": 44,
        "start_time": "2022-11-12T23:57:11.204Z"
      },
      {
        "duration": 54,
        "start_time": "2022-11-12T23:57:35.168Z"
      },
      {
        "duration": 47,
        "start_time": "2022-11-12T23:57:52.685Z"
      },
      {
        "duration": 17,
        "start_time": "2022-11-12T23:58:25.894Z"
      },
      {
        "duration": 10,
        "start_time": "2022-11-13T00:00:29.194Z"
      },
      {
        "duration": 29,
        "start_time": "2022-11-13T00:04:31.446Z"
      },
      {
        "duration": 25,
        "start_time": "2022-11-13T00:04:48.518Z"
      },
      {
        "duration": 31,
        "start_time": "2022-11-13T00:15:03.292Z"
      },
      {
        "duration": 24,
        "start_time": "2022-11-13T00:16:04.613Z"
      },
      {
        "duration": 705,
        "start_time": "2022-11-13T00:16:51.165Z"
      },
      {
        "duration": 654,
        "start_time": "2022-11-13T00:17:23.465Z"
      },
      {
        "duration": 12,
        "start_time": "2022-11-13T00:18:07.672Z"
      },
      {
        "duration": 27,
        "start_time": "2022-11-13T00:21:40.564Z"
      },
      {
        "duration": 29,
        "start_time": "2022-11-13T00:22:02.038Z"
      },
      {
        "duration": 33,
        "start_time": "2022-11-13T00:23:31.555Z"
      },
      {
        "duration": 6,
        "start_time": "2022-11-13T01:30:31.898Z"
      }
    ],
    "colab": {
      "provenance": []
    },
    "kernelspec": {
      "display_name": "Python 3 (ipykernel)",
      "language": "python",
      "name": "python3"
    },
    "language_info": {
      "codemirror_mode": {
        "name": "ipython",
        "version": 3
      },
      "file_extension": ".py",
      "mimetype": "text/x-python",
      "name": "python",
      "nbconvert_exporter": "python",
      "pygments_lexer": "ipython3",
      "version": "3.9.5"
    },
    "toc": {
      "base_numbering": 1,
      "nav_menu": {},
      "number_sections": true,
      "sideBar": true,
      "skip_h1_title": true,
      "title_cell": "Table of Contents",
      "title_sidebar": "Contents",
      "toc_cell": false,
      "toc_position": {},
      "toc_section_display": true,
      "toc_window_display": false
    }
  },
  "nbformat": 4,
  "nbformat_minor": 5
}