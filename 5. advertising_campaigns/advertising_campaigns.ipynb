{
  "cells": [
    {
      "cell_type": "markdown",
      "metadata": {
        "id": "xTTGaFYrIDML"
      },
      "source": [
        "# Планирование рекламных кампаний"
      ]
    },
    {
      "cell_type": "markdown",
      "metadata": {
        "id": "NoRFu4gRIDML"
      },
      "source": [
        "Проект выполнен для выявления ставки на потенциально популярный продукт и планирования рекламных кампаний для интернет-магазина «Стримчик»\n",
        "\n",
        "Цель: выявить определяющие успешность игры закономерности.\n",
        "\n",
        "Входные данные из открытых источников — данные о продажах игр, оценки пользователей и экспертов, жанры и платформы (например, Xbox или PlayStation)\n",
        "\n",
        "План работы:\n",
        "1. Рассмотреть данные\n",
        "2. Провести их преодобработку\n",
        "3. Провести исследовательский анализ\n",
        "4. Составить портрет пользователя каждого региона\n",
        "5. Проверить гипотезы\n",
        "6. Сделать вывод\n"
      ]
    },
    {
      "cell_type": "markdown",
      "metadata": {
        "id": "_Gq-rzzQIDML"
      },
      "source": [
        "## Этап 1. Обзор данных"
      ]
    },
    {
      "cell_type": "code",
      "execution_count": null,
      "metadata": {
        "id": "DwaltZ6xIDMM"
      },
      "outputs": [],
      "source": [
        "import pandas as pd\n",
        "import seaborn as sb\n",
        "import matplotlib.pyplot as plt\n",
        "from scipy import stats as st"
      ]
    },
    {
      "cell_type": "code",
      "execution_count": null,
      "metadata": {
        "id": "Zq1LgqsWIDMN"
      },
      "outputs": [],
      "source": [
        "data = pd.read_csv('/datasets/games.csv')"
      ]
    },
    {
      "cell_type": "code",
      "execution_count": null,
      "metadata": {
        "id": "fhcjUuejIDMN",
        "outputId": "9c335351-68d1-4d15-e594-a2d92069cc7c"
      },
      "outputs": [
        {
          "data": {
            "text/html": [
              "<div>\n",
              "<style scoped>\n",
              "    .dataframe tbody tr th:only-of-type {\n",
              "        vertical-align: middle;\n",
              "    }\n",
              "\n",
              "    .dataframe tbody tr th {\n",
              "        vertical-align: top;\n",
              "    }\n",
              "\n",
              "    .dataframe thead th {\n",
              "        text-align: right;\n",
              "    }\n",
              "</style>\n",
              "<table border=\"1\" class=\"dataframe\">\n",
              "  <thead>\n",
              "    <tr style=\"text-align: right;\">\n",
              "      <th></th>\n",
              "      <th>Name</th>\n",
              "      <th>Platform</th>\n",
              "      <th>Year_of_Release</th>\n",
              "      <th>Genre</th>\n",
              "      <th>NA_sales</th>\n",
              "      <th>EU_sales</th>\n",
              "      <th>JP_sales</th>\n",
              "      <th>Other_sales</th>\n",
              "      <th>Critic_Score</th>\n",
              "      <th>User_Score</th>\n",
              "      <th>Rating</th>\n",
              "    </tr>\n",
              "  </thead>\n",
              "  <tbody>\n",
              "    <tr>\n",
              "      <th>0</th>\n",
              "      <td>Wii Sports</td>\n",
              "      <td>Wii</td>\n",
              "      <td>2006.0</td>\n",
              "      <td>Sports</td>\n",
              "      <td>41.36</td>\n",
              "      <td>28.96</td>\n",
              "      <td>3.77</td>\n",
              "      <td>8.45</td>\n",
              "      <td>76.0</td>\n",
              "      <td>8</td>\n",
              "      <td>E</td>\n",
              "    </tr>\n",
              "    <tr>\n",
              "      <th>1</th>\n",
              "      <td>Super Mario Bros.</td>\n",
              "      <td>NES</td>\n",
              "      <td>1985.0</td>\n",
              "      <td>Platform</td>\n",
              "      <td>29.08</td>\n",
              "      <td>3.58</td>\n",
              "      <td>6.81</td>\n",
              "      <td>0.77</td>\n",
              "      <td>NaN</td>\n",
              "      <td>NaN</td>\n",
              "      <td>NaN</td>\n",
              "    </tr>\n",
              "    <tr>\n",
              "      <th>2</th>\n",
              "      <td>Mario Kart Wii</td>\n",
              "      <td>Wii</td>\n",
              "      <td>2008.0</td>\n",
              "      <td>Racing</td>\n",
              "      <td>15.68</td>\n",
              "      <td>12.76</td>\n",
              "      <td>3.79</td>\n",
              "      <td>3.29</td>\n",
              "      <td>82.0</td>\n",
              "      <td>8.3</td>\n",
              "      <td>E</td>\n",
              "    </tr>\n",
              "    <tr>\n",
              "      <th>3</th>\n",
              "      <td>Wii Sports Resort</td>\n",
              "      <td>Wii</td>\n",
              "      <td>2009.0</td>\n",
              "      <td>Sports</td>\n",
              "      <td>15.61</td>\n",
              "      <td>10.93</td>\n",
              "      <td>3.28</td>\n",
              "      <td>2.95</td>\n",
              "      <td>80.0</td>\n",
              "      <td>8</td>\n",
              "      <td>E</td>\n",
              "    </tr>\n",
              "    <tr>\n",
              "      <th>4</th>\n",
              "      <td>Pokemon Red/Pokemon Blue</td>\n",
              "      <td>GB</td>\n",
              "      <td>1996.0</td>\n",
              "      <td>Role-Playing</td>\n",
              "      <td>11.27</td>\n",
              "      <td>8.89</td>\n",
              "      <td>10.22</td>\n",
              "      <td>1.00</td>\n",
              "      <td>NaN</td>\n",
              "      <td>NaN</td>\n",
              "      <td>NaN</td>\n",
              "    </tr>\n",
              "    <tr>\n",
              "      <th>5</th>\n",
              "      <td>Tetris</td>\n",
              "      <td>GB</td>\n",
              "      <td>1989.0</td>\n",
              "      <td>Puzzle</td>\n",
              "      <td>23.20</td>\n",
              "      <td>2.26</td>\n",
              "      <td>4.22</td>\n",
              "      <td>0.58</td>\n",
              "      <td>NaN</td>\n",
              "      <td>NaN</td>\n",
              "      <td>NaN</td>\n",
              "    </tr>\n",
              "    <tr>\n",
              "      <th>6</th>\n",
              "      <td>New Super Mario Bros.</td>\n",
              "      <td>DS</td>\n",
              "      <td>2006.0</td>\n",
              "      <td>Platform</td>\n",
              "      <td>11.28</td>\n",
              "      <td>9.14</td>\n",
              "      <td>6.50</td>\n",
              "      <td>2.88</td>\n",
              "      <td>89.0</td>\n",
              "      <td>8.5</td>\n",
              "      <td>E</td>\n",
              "    </tr>\n",
              "    <tr>\n",
              "      <th>7</th>\n",
              "      <td>Wii Play</td>\n",
              "      <td>Wii</td>\n",
              "      <td>2006.0</td>\n",
              "      <td>Misc</td>\n",
              "      <td>13.96</td>\n",
              "      <td>9.18</td>\n",
              "      <td>2.93</td>\n",
              "      <td>2.84</td>\n",
              "      <td>58.0</td>\n",
              "      <td>6.6</td>\n",
              "      <td>E</td>\n",
              "    </tr>\n",
              "    <tr>\n",
              "      <th>8</th>\n",
              "      <td>New Super Mario Bros. Wii</td>\n",
              "      <td>Wii</td>\n",
              "      <td>2009.0</td>\n",
              "      <td>Platform</td>\n",
              "      <td>14.44</td>\n",
              "      <td>6.94</td>\n",
              "      <td>4.70</td>\n",
              "      <td>2.24</td>\n",
              "      <td>87.0</td>\n",
              "      <td>8.4</td>\n",
              "      <td>E</td>\n",
              "    </tr>\n",
              "    <tr>\n",
              "      <th>9</th>\n",
              "      <td>Duck Hunt</td>\n",
              "      <td>NES</td>\n",
              "      <td>1984.0</td>\n",
              "      <td>Shooter</td>\n",
              "      <td>26.93</td>\n",
              "      <td>0.63</td>\n",
              "      <td>0.28</td>\n",
              "      <td>0.47</td>\n",
              "      <td>NaN</td>\n",
              "      <td>NaN</td>\n",
              "      <td>NaN</td>\n",
              "    </tr>\n",
              "  </tbody>\n",
              "</table>\n",
              "</div>"
            ],
            "text/plain": [
              "                        Name Platform  Year_of_Release         Genre  \\\n",
              "0                 Wii Sports      Wii           2006.0        Sports   \n",
              "1          Super Mario Bros.      NES           1985.0      Platform   \n",
              "2             Mario Kart Wii      Wii           2008.0        Racing   \n",
              "3          Wii Sports Resort      Wii           2009.0        Sports   \n",
              "4   Pokemon Red/Pokemon Blue       GB           1996.0  Role-Playing   \n",
              "5                     Tetris       GB           1989.0        Puzzle   \n",
              "6      New Super Mario Bros.       DS           2006.0      Platform   \n",
              "7                   Wii Play      Wii           2006.0          Misc   \n",
              "8  New Super Mario Bros. Wii      Wii           2009.0      Platform   \n",
              "9                  Duck Hunt      NES           1984.0       Shooter   \n",
              "\n",
              "   NA_sales  EU_sales  JP_sales  Other_sales  Critic_Score User_Score Rating  \n",
              "0     41.36     28.96      3.77         8.45          76.0          8      E  \n",
              "1     29.08      3.58      6.81         0.77           NaN        NaN    NaN  \n",
              "2     15.68     12.76      3.79         3.29          82.0        8.3      E  \n",
              "3     15.61     10.93      3.28         2.95          80.0          8      E  \n",
              "4     11.27      8.89     10.22         1.00           NaN        NaN    NaN  \n",
              "5     23.20      2.26      4.22         0.58           NaN        NaN    NaN  \n",
              "6     11.28      9.14      6.50         2.88          89.0        8.5      E  \n",
              "7     13.96      9.18      2.93         2.84          58.0        6.6      E  \n",
              "8     14.44      6.94      4.70         2.24          87.0        8.4      E  \n",
              "9     26.93      0.63      0.28         0.47           NaN        NaN    NaN  "
            ]
          },
          "execution_count": 3,
          "metadata": {},
          "output_type": "execute_result"
        }
      ],
      "source": [
        "data.head(10)"
      ]
    },
    {
      "cell_type": "code",
      "execution_count": null,
      "metadata": {
        "scrolled": true,
        "id": "CfxEQ6A5IDMO",
        "outputId": "33232821-bb27-40de-8bfd-549806a3c145"
      },
      "outputs": [
        {
          "data": {
            "text/html": [
              "<div>\n",
              "<style scoped>\n",
              "    .dataframe tbody tr th:only-of-type {\n",
              "        vertical-align: middle;\n",
              "    }\n",
              "\n",
              "    .dataframe tbody tr th {\n",
              "        vertical-align: top;\n",
              "    }\n",
              "\n",
              "    .dataframe thead th {\n",
              "        text-align: right;\n",
              "    }\n",
              "</style>\n",
              "<table border=\"1\" class=\"dataframe\">\n",
              "  <thead>\n",
              "    <tr style=\"text-align: right;\">\n",
              "      <th></th>\n",
              "      <th>Year_of_Release</th>\n",
              "      <th>NA_sales</th>\n",
              "      <th>EU_sales</th>\n",
              "      <th>JP_sales</th>\n",
              "      <th>Other_sales</th>\n",
              "      <th>Critic_Score</th>\n",
              "    </tr>\n",
              "  </thead>\n",
              "  <tbody>\n",
              "    <tr>\n",
              "      <th>count</th>\n",
              "      <td>16446.000000</td>\n",
              "      <td>16715.000000</td>\n",
              "      <td>16715.000000</td>\n",
              "      <td>16715.000000</td>\n",
              "      <td>16715.000000</td>\n",
              "      <td>8137.000000</td>\n",
              "    </tr>\n",
              "    <tr>\n",
              "      <th>mean</th>\n",
              "      <td>2006.484616</td>\n",
              "      <td>0.263377</td>\n",
              "      <td>0.145060</td>\n",
              "      <td>0.077617</td>\n",
              "      <td>0.047342</td>\n",
              "      <td>68.967679</td>\n",
              "    </tr>\n",
              "    <tr>\n",
              "      <th>std</th>\n",
              "      <td>5.877050</td>\n",
              "      <td>0.813604</td>\n",
              "      <td>0.503339</td>\n",
              "      <td>0.308853</td>\n",
              "      <td>0.186731</td>\n",
              "      <td>13.938165</td>\n",
              "    </tr>\n",
              "    <tr>\n",
              "      <th>min</th>\n",
              "      <td>1980.000000</td>\n",
              "      <td>0.000000</td>\n",
              "      <td>0.000000</td>\n",
              "      <td>0.000000</td>\n",
              "      <td>0.000000</td>\n",
              "      <td>13.000000</td>\n",
              "    </tr>\n",
              "    <tr>\n",
              "      <th>25%</th>\n",
              "      <td>2003.000000</td>\n",
              "      <td>0.000000</td>\n",
              "      <td>0.000000</td>\n",
              "      <td>0.000000</td>\n",
              "      <td>0.000000</td>\n",
              "      <td>60.000000</td>\n",
              "    </tr>\n",
              "    <tr>\n",
              "      <th>50%</th>\n",
              "      <td>2007.000000</td>\n",
              "      <td>0.080000</td>\n",
              "      <td>0.020000</td>\n",
              "      <td>0.000000</td>\n",
              "      <td>0.010000</td>\n",
              "      <td>71.000000</td>\n",
              "    </tr>\n",
              "    <tr>\n",
              "      <th>75%</th>\n",
              "      <td>2010.000000</td>\n",
              "      <td>0.240000</td>\n",
              "      <td>0.110000</td>\n",
              "      <td>0.040000</td>\n",
              "      <td>0.030000</td>\n",
              "      <td>79.000000</td>\n",
              "    </tr>\n",
              "    <tr>\n",
              "      <th>max</th>\n",
              "      <td>2016.000000</td>\n",
              "      <td>41.360000</td>\n",
              "      <td>28.960000</td>\n",
              "      <td>10.220000</td>\n",
              "      <td>10.570000</td>\n",
              "      <td>98.000000</td>\n",
              "    </tr>\n",
              "  </tbody>\n",
              "</table>\n",
              "</div>"
            ],
            "text/plain": [
              "       Year_of_Release      NA_sales      EU_sales      JP_sales  \\\n",
              "count     16446.000000  16715.000000  16715.000000  16715.000000   \n",
              "mean       2006.484616      0.263377      0.145060      0.077617   \n",
              "std           5.877050      0.813604      0.503339      0.308853   \n",
              "min        1980.000000      0.000000      0.000000      0.000000   \n",
              "25%        2003.000000      0.000000      0.000000      0.000000   \n",
              "50%        2007.000000      0.080000      0.020000      0.000000   \n",
              "75%        2010.000000      0.240000      0.110000      0.040000   \n",
              "max        2016.000000     41.360000     28.960000     10.220000   \n",
              "\n",
              "        Other_sales  Critic_Score  \n",
              "count  16715.000000   8137.000000  \n",
              "mean       0.047342     68.967679  \n",
              "std        0.186731     13.938165  \n",
              "min        0.000000     13.000000  \n",
              "25%        0.000000     60.000000  \n",
              "50%        0.010000     71.000000  \n",
              "75%        0.030000     79.000000  \n",
              "max       10.570000     98.000000  "
            ]
          },
          "execution_count": 4,
          "metadata": {},
          "output_type": "execute_result"
        }
      ],
      "source": [
        "data.describe()"
      ]
    },
    {
      "cell_type": "code",
      "execution_count": null,
      "metadata": {
        "id": "Lr8dWda6IDMO",
        "outputId": "400dbd01-d536-46cf-9fb3-ac07fc3bad20"
      },
      "outputs": [
        {
          "name": "stdout",
          "output_type": "stream",
          "text": [
            "<class 'pandas.core.frame.DataFrame'>\n",
            "RangeIndex: 16715 entries, 0 to 16714\n",
            "Data columns (total 11 columns):\n",
            " #   Column           Non-Null Count  Dtype  \n",
            "---  ------           --------------  -----  \n",
            " 0   Name             16713 non-null  object \n",
            " 1   Platform         16715 non-null  object \n",
            " 2   Year_of_Release  16446 non-null  float64\n",
            " 3   Genre            16713 non-null  object \n",
            " 4   NA_sales         16715 non-null  float64\n",
            " 5   EU_sales         16715 non-null  float64\n",
            " 6   JP_sales         16715 non-null  float64\n",
            " 7   Other_sales      16715 non-null  float64\n",
            " 8   Critic_Score     8137 non-null   float64\n",
            " 9   User_Score       10014 non-null  object \n",
            " 10  Rating           9949 non-null   object \n",
            "dtypes: float64(6), object(5)\n",
            "memory usage: 1.4+ MB\n"
          ]
        }
      ],
      "source": [
        "data.info()"
      ]
    },
    {
      "cell_type": "markdown",
      "metadata": {
        "id": "0bY3FI8wIDMP"
      },
      "source": [
        "После обзора данных выявлены неверные названия столбцов, которые требуется привести к нижнему регистру. Также найдены столбцы, тип данных которых требуется исправить."
      ]
    },
    {
      "cell_type": "markdown",
      "metadata": {
        "id": "sJrQ9dQAIDMQ"
      },
      "source": [
        "## Этап 2. Предобработка данных"
      ]
    },
    {
      "cell_type": "markdown",
      "metadata": {
        "id": "92C5odejIDMQ"
      },
      "source": [
        "- Приведем названия столбцов к нижнему регистру."
      ]
    },
    {
      "cell_type": "code",
      "execution_count": null,
      "metadata": {
        "scrolled": true,
        "id": "-cirDjXeIDMQ",
        "outputId": "e43c250f-c261-49ab-b91c-9a186062bb40"
      },
      "outputs": [
        {
          "data": {
            "text/html": [
              "<div>\n",
              "<style scoped>\n",
              "    .dataframe tbody tr th:only-of-type {\n",
              "        vertical-align: middle;\n",
              "    }\n",
              "\n",
              "    .dataframe tbody tr th {\n",
              "        vertical-align: top;\n",
              "    }\n",
              "\n",
              "    .dataframe thead th {\n",
              "        text-align: right;\n",
              "    }\n",
              "</style>\n",
              "<table border=\"1\" class=\"dataframe\">\n",
              "  <thead>\n",
              "    <tr style=\"text-align: right;\">\n",
              "      <th></th>\n",
              "      <th>name</th>\n",
              "      <th>platform</th>\n",
              "      <th>year_of_release</th>\n",
              "      <th>genre</th>\n",
              "      <th>na_sales</th>\n",
              "      <th>eu_sales</th>\n",
              "      <th>jp_sales</th>\n",
              "      <th>other_sales</th>\n",
              "      <th>critic_score</th>\n",
              "      <th>user_score</th>\n",
              "      <th>rating</th>\n",
              "    </tr>\n",
              "  </thead>\n",
              "  <tbody>\n",
              "    <tr>\n",
              "      <th>0</th>\n",
              "      <td>Wii Sports</td>\n",
              "      <td>Wii</td>\n",
              "      <td>2006.0</td>\n",
              "      <td>Sports</td>\n",
              "      <td>41.36</td>\n",
              "      <td>28.96</td>\n",
              "      <td>3.77</td>\n",
              "      <td>8.45</td>\n",
              "      <td>76.0</td>\n",
              "      <td>8</td>\n",
              "      <td>E</td>\n",
              "    </tr>\n",
              "    <tr>\n",
              "      <th>1</th>\n",
              "      <td>Super Mario Bros.</td>\n",
              "      <td>NES</td>\n",
              "      <td>1985.0</td>\n",
              "      <td>Platform</td>\n",
              "      <td>29.08</td>\n",
              "      <td>3.58</td>\n",
              "      <td>6.81</td>\n",
              "      <td>0.77</td>\n",
              "      <td>NaN</td>\n",
              "      <td>NaN</td>\n",
              "      <td>NaN</td>\n",
              "    </tr>\n",
              "    <tr>\n",
              "      <th>2</th>\n",
              "      <td>Mario Kart Wii</td>\n",
              "      <td>Wii</td>\n",
              "      <td>2008.0</td>\n",
              "      <td>Racing</td>\n",
              "      <td>15.68</td>\n",
              "      <td>12.76</td>\n",
              "      <td>3.79</td>\n",
              "      <td>3.29</td>\n",
              "      <td>82.0</td>\n",
              "      <td>8.3</td>\n",
              "      <td>E</td>\n",
              "    </tr>\n",
              "    <tr>\n",
              "      <th>3</th>\n",
              "      <td>Wii Sports Resort</td>\n",
              "      <td>Wii</td>\n",
              "      <td>2009.0</td>\n",
              "      <td>Sports</td>\n",
              "      <td>15.61</td>\n",
              "      <td>10.93</td>\n",
              "      <td>3.28</td>\n",
              "      <td>2.95</td>\n",
              "      <td>80.0</td>\n",
              "      <td>8</td>\n",
              "      <td>E</td>\n",
              "    </tr>\n",
              "    <tr>\n",
              "      <th>4</th>\n",
              "      <td>Pokemon Red/Pokemon Blue</td>\n",
              "      <td>GB</td>\n",
              "      <td>1996.0</td>\n",
              "      <td>Role-Playing</td>\n",
              "      <td>11.27</td>\n",
              "      <td>8.89</td>\n",
              "      <td>10.22</td>\n",
              "      <td>1.00</td>\n",
              "      <td>NaN</td>\n",
              "      <td>NaN</td>\n",
              "      <td>NaN</td>\n",
              "    </tr>\n",
              "    <tr>\n",
              "      <th>5</th>\n",
              "      <td>Tetris</td>\n",
              "      <td>GB</td>\n",
              "      <td>1989.0</td>\n",
              "      <td>Puzzle</td>\n",
              "      <td>23.20</td>\n",
              "      <td>2.26</td>\n",
              "      <td>4.22</td>\n",
              "      <td>0.58</td>\n",
              "      <td>NaN</td>\n",
              "      <td>NaN</td>\n",
              "      <td>NaN</td>\n",
              "    </tr>\n",
              "    <tr>\n",
              "      <th>6</th>\n",
              "      <td>New Super Mario Bros.</td>\n",
              "      <td>DS</td>\n",
              "      <td>2006.0</td>\n",
              "      <td>Platform</td>\n",
              "      <td>11.28</td>\n",
              "      <td>9.14</td>\n",
              "      <td>6.50</td>\n",
              "      <td>2.88</td>\n",
              "      <td>89.0</td>\n",
              "      <td>8.5</td>\n",
              "      <td>E</td>\n",
              "    </tr>\n",
              "    <tr>\n",
              "      <th>7</th>\n",
              "      <td>Wii Play</td>\n",
              "      <td>Wii</td>\n",
              "      <td>2006.0</td>\n",
              "      <td>Misc</td>\n",
              "      <td>13.96</td>\n",
              "      <td>9.18</td>\n",
              "      <td>2.93</td>\n",
              "      <td>2.84</td>\n",
              "      <td>58.0</td>\n",
              "      <td>6.6</td>\n",
              "      <td>E</td>\n",
              "    </tr>\n",
              "    <tr>\n",
              "      <th>8</th>\n",
              "      <td>New Super Mario Bros. Wii</td>\n",
              "      <td>Wii</td>\n",
              "      <td>2009.0</td>\n",
              "      <td>Platform</td>\n",
              "      <td>14.44</td>\n",
              "      <td>6.94</td>\n",
              "      <td>4.70</td>\n",
              "      <td>2.24</td>\n",
              "      <td>87.0</td>\n",
              "      <td>8.4</td>\n",
              "      <td>E</td>\n",
              "    </tr>\n",
              "    <tr>\n",
              "      <th>9</th>\n",
              "      <td>Duck Hunt</td>\n",
              "      <td>NES</td>\n",
              "      <td>1984.0</td>\n",
              "      <td>Shooter</td>\n",
              "      <td>26.93</td>\n",
              "      <td>0.63</td>\n",
              "      <td>0.28</td>\n",
              "      <td>0.47</td>\n",
              "      <td>NaN</td>\n",
              "      <td>NaN</td>\n",
              "      <td>NaN</td>\n",
              "    </tr>\n",
              "  </tbody>\n",
              "</table>\n",
              "</div>"
            ],
            "text/plain": [
              "                        name platform  year_of_release         genre  \\\n",
              "0                 Wii Sports      Wii           2006.0        Sports   \n",
              "1          Super Mario Bros.      NES           1985.0      Platform   \n",
              "2             Mario Kart Wii      Wii           2008.0        Racing   \n",
              "3          Wii Sports Resort      Wii           2009.0        Sports   \n",
              "4   Pokemon Red/Pokemon Blue       GB           1996.0  Role-Playing   \n",
              "5                     Tetris       GB           1989.0        Puzzle   \n",
              "6      New Super Mario Bros.       DS           2006.0      Platform   \n",
              "7                   Wii Play      Wii           2006.0          Misc   \n",
              "8  New Super Mario Bros. Wii      Wii           2009.0      Platform   \n",
              "9                  Duck Hunt      NES           1984.0       Shooter   \n",
              "\n",
              "   na_sales  eu_sales  jp_sales  other_sales  critic_score user_score rating  \n",
              "0     41.36     28.96      3.77         8.45          76.0          8      E  \n",
              "1     29.08      3.58      6.81         0.77           NaN        NaN    NaN  \n",
              "2     15.68     12.76      3.79         3.29          82.0        8.3      E  \n",
              "3     15.61     10.93      3.28         2.95          80.0          8      E  \n",
              "4     11.27      8.89     10.22         1.00           NaN        NaN    NaN  \n",
              "5     23.20      2.26      4.22         0.58           NaN        NaN    NaN  \n",
              "6     11.28      9.14      6.50         2.88          89.0        8.5      E  \n",
              "7     13.96      9.18      2.93         2.84          58.0        6.6      E  \n",
              "8     14.44      6.94      4.70         2.24          87.0        8.4      E  \n",
              "9     26.93      0.63      0.28         0.47           NaN        NaN    NaN  "
            ]
          },
          "execution_count": 6,
          "metadata": {},
          "output_type": "execute_result"
        }
      ],
      "source": [
        "data.columns = data.columns.str.lower()\n",
        "data.head(10)"
      ]
    },
    {
      "cell_type": "markdown",
      "metadata": {
        "id": "iGmfxR7BIDMR"
      },
      "source": [
        "- Посмотрим информацию о типах данных и преобразуем по необходимости."
      ]
    },
    {
      "cell_type": "code",
      "execution_count": null,
      "metadata": {
        "id": "u0jtxdLzIDMR",
        "outputId": "577fa134-4f40-4d3e-9ae0-9ca5763087b5"
      },
      "outputs": [
        {
          "data": {
            "text/plain": [
              "name                object\n",
              "platform            object\n",
              "year_of_release    float64\n",
              "genre               object\n",
              "na_sales           float64\n",
              "eu_sales           float64\n",
              "jp_sales           float64\n",
              "other_sales        float64\n",
              "critic_score       float64\n",
              "user_score          object\n",
              "rating              object\n",
              "dtype: object"
            ]
          },
          "execution_count": 7,
          "metadata": {},
          "output_type": "execute_result"
        }
      ],
      "source": [
        "data.dtypes"
      ]
    },
    {
      "cell_type": "code",
      "execution_count": null,
      "metadata": {
        "id": "z6uiJNwnIDMR"
      },
      "outputs": [],
      "source": [
        "data['year_of_release'] = data['year_of_release'].astype('Int64') \n",
        "data['user_score'] = pd.to_numeric(data['user_score'], errors='coerce', downcast='float') \n",
        "data['user_score'] = data['user_score'].astype('float64') "
      ]
    },
    {
      "cell_type": "code",
      "execution_count": null,
      "metadata": {
        "id": "9gID1cE8IDMS",
        "outputId": "c43bf9af-0fa6-4474-f1f5-d1179b4c44f3"
      },
      "outputs": [
        {
          "data": {
            "text/plain": [
              "name                object\n",
              "platform            object\n",
              "year_of_release      Int64\n",
              "genre               object\n",
              "na_sales           float64\n",
              "eu_sales           float64\n",
              "jp_sales           float64\n",
              "other_sales        float64\n",
              "critic_score       float64\n",
              "user_score         float64\n",
              "rating              object\n",
              "dtype: object"
            ]
          },
          "execution_count": 9,
          "metadata": {},
          "output_type": "execute_result"
        }
      ],
      "source": [
        "data.dtypes"
      ]
    },
    {
      "cell_type": "markdown",
      "metadata": {
        "id": "qBUmDC6wIDMS"
      },
      "source": [
        "Заменили тип данных в столбце с годом (year_of_release), так как он всегда целочисленных и оценка пользователей(user_score) должна иметь численный вид.\n",
        "\n",
        "- Пропуски в столбцах"
      ]
    },
    {
      "cell_type": "code",
      "execution_count": null,
      "metadata": {
        "scrolled": true,
        "id": "JOgDod6FIDMS",
        "outputId": "ec3d32aa-eef0-423a-8201-e728732f22d9"
      },
      "outputs": [
        {
          "data": {
            "text/plain": [
              "name                  2\n",
              "platform              0\n",
              "year_of_release     269\n",
              "genre                 2\n",
              "na_sales              0\n",
              "eu_sales              0\n",
              "jp_sales              0\n",
              "other_sales           0\n",
              "critic_score       8578\n",
              "user_score         9125\n",
              "rating             6766\n",
              "dtype: int64"
            ]
          },
          "execution_count": 10,
          "metadata": {},
          "output_type": "execute_result"
        }
      ],
      "source": [
        "data.isna().sum()"
      ]
    },
    {
      "cell_type": "code",
      "execution_count": null,
      "metadata": {
        "id": "un8eHz7fIDMS",
        "outputId": "09cbdf07-8e4c-4ab0-82cf-8634a62b86e7"
      },
      "outputs": [
        {
          "data": {
            "text/plain": [
              "name                0.011965\n",
              "platform            0.000000\n",
              "year_of_release     1.609333\n",
              "genre               0.011965\n",
              "na_sales            0.000000\n",
              "eu_sales            0.000000\n",
              "jp_sales            0.000000\n",
              "other_sales         0.000000\n",
              "critic_score       51.319174\n",
              "user_score         54.591684\n",
              "rating             40.478612\n",
              "dtype: float64"
            ]
          },
          "execution_count": 11,
          "metadata": {},
          "output_type": "execute_result"
        }
      ],
      "source": [
        "# выведем также в процентах\n",
        "data.isna().mean()*100"
      ]
    },
    {
      "cell_type": "code",
      "execution_count": null,
      "metadata": {
        "id": "VS3WO1B7IDMT"
      },
      "outputs": [],
      "source": [
        "data['rating'] = data['rating'].fillna('Unknown')"
      ]
    },
    {
      "cell_type": "code",
      "execution_count": null,
      "metadata": {
        "scrolled": true,
        "id": "UO4ngGUuIDMU",
        "outputId": "8329d3f0-f0a0-4f3d-8276-86e8bd4216c9"
      },
      "outputs": [
        {
          "data": {
            "text/plain": [
              "name                  2\n",
              "platform              0\n",
              "year_of_release     269\n",
              "genre                 2\n",
              "na_sales              0\n",
              "eu_sales              0\n",
              "jp_sales              0\n",
              "other_sales           0\n",
              "critic_score       8578\n",
              "user_score         9125\n",
              "rating                0\n",
              "dtype: int64"
            ]
          },
          "execution_count": 13,
          "metadata": {},
          "output_type": "execute_result"
        }
      ],
      "source": [
        "data.isna().sum()"
      ]
    },
    {
      "cell_type": "markdown",
      "metadata": {
        "id": "02DojYMBIDMV"
      },
      "source": [
        "Удалось заполнить только пропуски в столбце рейтинга, так как для остальных нельзя предложить очевидную замену.\n",
        "\n",
        "Причинами появления пропусков в исходных данных могут быть: ошибки при вводе данных, намеренно сделанный пропуск в данных, пропуски из-за отсутствия данных в других столбца, технические сбои.\n",
        "\n",
        "tbd (to be determined = будет определено) для неизвестных значений столбца.\n",
        "\n",
        "- Проверка данных на дубликаты"
      ]
    },
    {
      "cell_type": "code",
      "execution_count": null,
      "metadata": {
        "id": "89k8tgnkIDMV",
        "outputId": "13a664c5-bd40-4422-cc74-a2c585502ca7"
      },
      "outputs": [
        {
          "data": {
            "text/plain": [
              "0"
            ]
          },
          "execution_count": 14,
          "metadata": {},
          "output_type": "execute_result"
        }
      ],
      "source": [
        "data.duplicated().sum()"
      ]
    },
    {
      "cell_type": "markdown",
      "metadata": {
        "id": "TTl4ZbtgIDMW"
      },
      "source": [
        "- Создание столбца с суммарными продажами во всех регионах."
      ]
    },
    {
      "cell_type": "code",
      "execution_count": null,
      "metadata": {
        "id": "zmaxVwpWIDMW"
      },
      "outputs": [],
      "source": [
        "data['sales_sum'] = data['na_sales'] + data['eu_sales'] + data['jp_sales'] + data ['other_sales']"
      ]
    },
    {
      "cell_type": "code",
      "execution_count": null,
      "metadata": {
        "id": "bvpDzDc2IDMX",
        "outputId": "9077957f-0b8b-4856-f3f6-b2e749c5edad"
      },
      "outputs": [
        {
          "data": {
            "text/html": [
              "<div>\n",
              "<style scoped>\n",
              "    .dataframe tbody tr th:only-of-type {\n",
              "        vertical-align: middle;\n",
              "    }\n",
              "\n",
              "    .dataframe tbody tr th {\n",
              "        vertical-align: top;\n",
              "    }\n",
              "\n",
              "    .dataframe thead th {\n",
              "        text-align: right;\n",
              "    }\n",
              "</style>\n",
              "<table border=\"1\" class=\"dataframe\">\n",
              "  <thead>\n",
              "    <tr style=\"text-align: right;\">\n",
              "      <th></th>\n",
              "      <th>name</th>\n",
              "      <th>platform</th>\n",
              "      <th>year_of_release</th>\n",
              "      <th>genre</th>\n",
              "      <th>na_sales</th>\n",
              "      <th>eu_sales</th>\n",
              "      <th>jp_sales</th>\n",
              "      <th>other_sales</th>\n",
              "      <th>critic_score</th>\n",
              "      <th>user_score</th>\n",
              "      <th>rating</th>\n",
              "      <th>sales_sum</th>\n",
              "    </tr>\n",
              "  </thead>\n",
              "  <tbody>\n",
              "    <tr>\n",
              "      <th>0</th>\n",
              "      <td>Wii Sports</td>\n",
              "      <td>Wii</td>\n",
              "      <td>2006</td>\n",
              "      <td>Sports</td>\n",
              "      <td>41.36</td>\n",
              "      <td>28.96</td>\n",
              "      <td>3.77</td>\n",
              "      <td>8.45</td>\n",
              "      <td>76.0</td>\n",
              "      <td>8.0</td>\n",
              "      <td>E</td>\n",
              "      <td>82.54</td>\n",
              "    </tr>\n",
              "    <tr>\n",
              "      <th>1</th>\n",
              "      <td>Super Mario Bros.</td>\n",
              "      <td>NES</td>\n",
              "      <td>1985</td>\n",
              "      <td>Platform</td>\n",
              "      <td>29.08</td>\n",
              "      <td>3.58</td>\n",
              "      <td>6.81</td>\n",
              "      <td>0.77</td>\n",
              "      <td>NaN</td>\n",
              "      <td>NaN</td>\n",
              "      <td>Unknown</td>\n",
              "      <td>40.24</td>\n",
              "    </tr>\n",
              "    <tr>\n",
              "      <th>2</th>\n",
              "      <td>Mario Kart Wii</td>\n",
              "      <td>Wii</td>\n",
              "      <td>2008</td>\n",
              "      <td>Racing</td>\n",
              "      <td>15.68</td>\n",
              "      <td>12.76</td>\n",
              "      <td>3.79</td>\n",
              "      <td>3.29</td>\n",
              "      <td>82.0</td>\n",
              "      <td>8.3</td>\n",
              "      <td>E</td>\n",
              "      <td>35.52</td>\n",
              "    </tr>\n",
              "    <tr>\n",
              "      <th>3</th>\n",
              "      <td>Wii Sports Resort</td>\n",
              "      <td>Wii</td>\n",
              "      <td>2009</td>\n",
              "      <td>Sports</td>\n",
              "      <td>15.61</td>\n",
              "      <td>10.93</td>\n",
              "      <td>3.28</td>\n",
              "      <td>2.95</td>\n",
              "      <td>80.0</td>\n",
              "      <td>8.0</td>\n",
              "      <td>E</td>\n",
              "      <td>32.77</td>\n",
              "    </tr>\n",
              "    <tr>\n",
              "      <th>4</th>\n",
              "      <td>Pokemon Red/Pokemon Blue</td>\n",
              "      <td>GB</td>\n",
              "      <td>1996</td>\n",
              "      <td>Role-Playing</td>\n",
              "      <td>11.27</td>\n",
              "      <td>8.89</td>\n",
              "      <td>10.22</td>\n",
              "      <td>1.00</td>\n",
              "      <td>NaN</td>\n",
              "      <td>NaN</td>\n",
              "      <td>Unknown</td>\n",
              "      <td>31.38</td>\n",
              "    </tr>\n",
              "  </tbody>\n",
              "</table>\n",
              "</div>"
            ],
            "text/plain": [
              "                       name platform  year_of_release         genre  na_sales  \\\n",
              "0                Wii Sports      Wii             2006        Sports     41.36   \n",
              "1         Super Mario Bros.      NES             1985      Platform     29.08   \n",
              "2            Mario Kart Wii      Wii             2008        Racing     15.68   \n",
              "3         Wii Sports Resort      Wii             2009        Sports     15.61   \n",
              "4  Pokemon Red/Pokemon Blue       GB             1996  Role-Playing     11.27   \n",
              "\n",
              "   eu_sales  jp_sales  other_sales  critic_score  user_score   rating  \\\n",
              "0     28.96      3.77         8.45          76.0         8.0        E   \n",
              "1      3.58      6.81         0.77           NaN         NaN  Unknown   \n",
              "2     12.76      3.79         3.29          82.0         8.3        E   \n",
              "3     10.93      3.28         2.95          80.0         8.0        E   \n",
              "4      8.89     10.22         1.00           NaN         NaN  Unknown   \n",
              "\n",
              "   sales_sum  \n",
              "0      82.54  \n",
              "1      40.24  \n",
              "2      35.52  \n",
              "3      32.77  \n",
              "4      31.38  "
            ]
          },
          "execution_count": 16,
          "metadata": {},
          "output_type": "execute_result"
        }
      ],
      "source": [
        "data.head()"
      ]
    },
    {
      "cell_type": "markdown",
      "metadata": {
        "id": "MOac4idkIDMX"
      },
      "source": [
        "## Этап 3. Исследовательский анализ данных\n"
      ]
    },
    {
      "cell_type": "markdown",
      "metadata": {
        "id": "vqt9MdWWIDMX"
      },
      "source": [
        "- Сколько игр выпускалось в разные годы. "
      ]
    },
    {
      "cell_type": "code",
      "execution_count": null,
      "metadata": {
        "scrolled": false,
        "id": "xFsuUExfIDMX",
        "outputId": "264e17a4-5c4a-4feb-c4d9-58192da59cfe"
      },
      "outputs": [
        {
          "data": {
            "image/png": "[encoded data removed]",
            "text/plain": [
              "<Figure size 720x360 with 1 Axes>"
            ]
          },
          "metadata": {
            "needs_background": "light"
          },
          "output_type": "display_data"
        }
      ],
      "source": [
        "year_hist = data['year_of_release'].hist(bins = 74, grid = True, figsize = (10,5))\n",
        "year_hist.set_ylabel('Количество игр')\n",
        "year_hist.set_xlabel('Год')\n",
        "year_hist.set_title('Количество выпускаемых игр по годам')\n",
        "plt.show()"
      ]
    },
    {
      "cell_type": "markdown",
      "metadata": {
        "id": "YY4KfDKVIDMY"
      },
      "source": [
        "Не все периоды важны для исследования. С начала 90-ых был заметных подъем в количестве проданных игр, но с 2011 продажи упали в два раза.\n",
        "\n",
        "Самыми актуальными данными можно считать продажи с 2011 года, за последние 5 лет. "
      ]
    },
    {
      "cell_type": "code",
      "execution_count": null,
      "metadata": {
        "id": "-N38n8x8IDMY",
        "outputId": "58acedd1-ce5c-4073-e58e-00a8fbec4019"
      },
      "outputs": [
        {
          "data": {
            "text/html": [
              "<div>\n",
              "<style scoped>\n",
              "    .dataframe tbody tr th:only-of-type {\n",
              "        vertical-align: middle;\n",
              "    }\n",
              "\n",
              "    .dataframe tbody tr th {\n",
              "        vertical-align: top;\n",
              "    }\n",
              "\n",
              "    .dataframe thead th {\n",
              "        text-align: right;\n",
              "    }\n",
              "</style>\n",
              "<table border=\"1\" class=\"dataframe\">\n",
              "  <thead>\n",
              "    <tr style=\"text-align: right;\">\n",
              "      <th></th>\n",
              "      <th></th>\n",
              "      <th>sales_sum</th>\n",
              "    </tr>\n",
              "    <tr>\n",
              "      <th>platform</th>\n",
              "      <th>year_of_release</th>\n",
              "      <th></th>\n",
              "    </tr>\n",
              "  </thead>\n",
              "  <tbody>\n",
              "    <tr>\n",
              "      <th rowspan=\"5\" valign=\"top\">3DS</th>\n",
              "      <th>2012</th>\n",
              "      <td>51.36</td>\n",
              "    </tr>\n",
              "    <tr>\n",
              "      <th>2013</th>\n",
              "      <td>56.57</td>\n",
              "    </tr>\n",
              "    <tr>\n",
              "      <th>2014</th>\n",
              "      <td>43.76</td>\n",
              "    </tr>\n",
              "    <tr>\n",
              "      <th>2015</th>\n",
              "      <td>27.78</td>\n",
              "    </tr>\n",
              "    <tr>\n",
              "      <th>2016</th>\n",
              "      <td>15.14</td>\n",
              "    </tr>\n",
              "    <tr>\n",
              "      <th>DS</th>\n",
              "      <th>2012</th>\n",
              "      <td>11.01</td>\n",
              "    </tr>\n",
              "    <tr>\n",
              "      <th rowspan=\"5\" valign=\"top\">PC</th>\n",
              "      <th>2012</th>\n",
              "      <td>23.22</td>\n",
              "    </tr>\n",
              "    <tr>\n",
              "      <th>2013</th>\n",
              "      <td>12.38</td>\n",
              "    </tr>\n",
              "    <tr>\n",
              "      <th>2014</th>\n",
              "      <td>13.28</td>\n",
              "    </tr>\n",
              "    <tr>\n",
              "      <th>2015</th>\n",
              "      <td>8.52</td>\n",
              "    </tr>\n",
              "    <tr>\n",
              "      <th>2016</th>\n",
              "      <td>5.25</td>\n",
              "    </tr>\n",
              "    <tr>\n",
              "      <th rowspan=\"4\" valign=\"top\">PS3</th>\n",
              "      <th>2012</th>\n",
              "      <td>107.36</td>\n",
              "    </tr>\n",
              "    <tr>\n",
              "      <th>2013</th>\n",
              "      <td>113.25</td>\n",
              "    </tr>\n",
              "    <tr>\n",
              "      <th>2014</th>\n",
              "      <td>47.76</td>\n",
              "    </tr>\n",
              "    <tr>\n",
              "      <th>2015</th>\n",
              "      <td>16.82</td>\n",
              "    </tr>\n",
              "    <tr>\n",
              "      <th rowspan=\"4\" valign=\"top\">PS4</th>\n",
              "      <th>2013</th>\n",
              "      <td>25.99</td>\n",
              "    </tr>\n",
              "    <tr>\n",
              "      <th>2014</th>\n",
              "      <td>100.00</td>\n",
              "    </tr>\n",
              "    <tr>\n",
              "      <th>2015</th>\n",
              "      <td>118.90</td>\n",
              "    </tr>\n",
              "    <tr>\n",
              "      <th>2016</th>\n",
              "      <td>69.25</td>\n",
              "    </tr>\n",
              "    <tr>\n",
              "      <th>PSP</th>\n",
              "      <th>2012</th>\n",
              "      <td>7.69</td>\n",
              "    </tr>\n",
              "    <tr>\n",
              "      <th rowspan=\"4\" valign=\"top\">PSV</th>\n",
              "      <th>2012</th>\n",
              "      <td>16.19</td>\n",
              "    </tr>\n",
              "    <tr>\n",
              "      <th>2013</th>\n",
              "      <td>10.59</td>\n",
              "    </tr>\n",
              "    <tr>\n",
              "      <th>2014</th>\n",
              "      <td>11.90</td>\n",
              "    </tr>\n",
              "    <tr>\n",
              "      <th>2015</th>\n",
              "      <td>6.25</td>\n",
              "    </tr>\n",
              "    <tr>\n",
              "      <th rowspan=\"2\" valign=\"top\">Wii</th>\n",
              "      <th>2012</th>\n",
              "      <td>21.71</td>\n",
              "    </tr>\n",
              "    <tr>\n",
              "      <th>2013</th>\n",
              "      <td>8.59</td>\n",
              "    </tr>\n",
              "    <tr>\n",
              "      <th rowspan=\"4\" valign=\"top\">WiiU</th>\n",
              "      <th>2012</th>\n",
              "      <td>17.56</td>\n",
              "    </tr>\n",
              "    <tr>\n",
              "      <th>2013</th>\n",
              "      <td>21.65</td>\n",
              "    </tr>\n",
              "    <tr>\n",
              "      <th>2014</th>\n",
              "      <td>22.03</td>\n",
              "    </tr>\n",
              "    <tr>\n",
              "      <th>2015</th>\n",
              "      <td>16.35</td>\n",
              "    </tr>\n",
              "    <tr>\n",
              "      <th rowspan=\"4\" valign=\"top\">X360</th>\n",
              "      <th>2012</th>\n",
              "      <td>99.74</td>\n",
              "    </tr>\n",
              "    <tr>\n",
              "      <th>2013</th>\n",
              "      <td>88.58</td>\n",
              "    </tr>\n",
              "    <tr>\n",
              "      <th>2014</th>\n",
              "      <td>34.74</td>\n",
              "    </tr>\n",
              "    <tr>\n",
              "      <th>2015</th>\n",
              "      <td>11.96</td>\n",
              "    </tr>\n",
              "    <tr>\n",
              "      <th rowspan=\"4\" valign=\"top\">XOne</th>\n",
              "      <th>2013</th>\n",
              "      <td>18.96</td>\n",
              "    </tr>\n",
              "    <tr>\n",
              "      <th>2014</th>\n",
              "      <td>54.07</td>\n",
              "    </tr>\n",
              "    <tr>\n",
              "      <th>2015</th>\n",
              "      <td>60.14</td>\n",
              "    </tr>\n",
              "    <tr>\n",
              "      <th>2016</th>\n",
              "      <td>26.15</td>\n",
              "    </tr>\n",
              "  </tbody>\n",
              "</table>\n",
              "</div>"
            ],
            "text/plain": [
              "                          sales_sum\n",
              "platform year_of_release           \n",
              "3DS      2012                 51.36\n",
              "         2013                 56.57\n",
              "         2014                 43.76\n",
              "         2015                 27.78\n",
              "         2016                 15.14\n",
              "DS       2012                 11.01\n",
              "PC       2012                 23.22\n",
              "         2013                 12.38\n",
              "         2014                 13.28\n",
              "         2015                  8.52\n",
              "         2016                  5.25\n",
              "PS3      2012                107.36\n",
              "         2013                113.25\n",
              "         2014                 47.76\n",
              "         2015                 16.82\n",
              "PS4      2013                 25.99\n",
              "         2014                100.00\n",
              "         2015                118.90\n",
              "         2016                 69.25\n",
              "PSP      2012                  7.69\n",
              "PSV      2012                 16.19\n",
              "         2013                 10.59\n",
              "         2014                 11.90\n",
              "         2015                  6.25\n",
              "Wii      2012                 21.71\n",
              "         2013                  8.59\n",
              "WiiU     2012                 17.56\n",
              "         2013                 21.65\n",
              "         2014                 22.03\n",
              "         2015                 16.35\n",
              "X360     2012                 99.74\n",
              "         2013                 88.58\n",
              "         2014                 34.74\n",
              "         2015                 11.96\n",
              "XOne     2013                 18.96\n",
              "         2014                 54.07\n",
              "         2015                 60.14\n",
              "         2016                 26.15"
            ]
          },
          "execution_count": 18,
          "metadata": {},
          "output_type": "execute_result"
        }
      ],
      "source": [
        "actual = data[data['year_of_release'] > 2011]\n",
        "sales = actual.pivot_table(index = ['platform', 'year_of_release'], values = 'sales_sum', aggfunc = 'sum')\n",
        "last_top_sales = sales[sales['sales_sum'] >= 5]\n",
        "last_top_sales"
      ]
    },
    {
      "cell_type": "markdown",
      "metadata": {
        "id": "9Hsyy2NyIDMY"
      },
      "source": [
        "- Изменяемость продаж по платформам"
      ]
    },
    {
      "cell_type": "code",
      "execution_count": null,
      "metadata": {
        "scrolled": true,
        "id": "ISC04pQlIDMY",
        "outputId": "ff38daa7-0da1-4ec0-8c24-a5f84d330981"
      },
      "outputs": [
        {
          "data": {
            "image/png": "[encoded data removed]",
            "text/plain": [
              "<Figure size 720x360 with 1 Axes>"
            ]
          },
          "metadata": {
            "needs_background": "light"
          },
          "output_type": "display_data"
        }
      ],
      "source": [
        "platform_sales = data.pivot_table(index='platform', values='sales_sum', aggfunc='sum').sort_values(by='sales_sum', ascending=False)\n",
        "platform_sales.plot(y = 'sales_sum', kind = 'bar', grid = True, figsize=(10,5), title = 'Количество продаж по платформам', ylabel = 'Количество продаж', xlabel = 'Платформа')\n",
        "plt.show()"
      ]
    },
    {
      "cell_type": "code",
      "execution_count": null,
      "metadata": {
        "id": "01BFG8aFIDMY",
        "outputId": "895a4133-e821-4175-9e13-40fbf56f3765"
      },
      "outputs": [
        {
          "data": {
            "image/png": "[encoded data removed]",
            "text/plain": [
              "<Figure size 720x720 with 1 Axes>"
            ]
          },
          "metadata": {
            "needs_background": "light"
          },
          "output_type": "display_data"
        }
      ],
      "source": [
        "data.plot(x = 'year_of_release', y = 'platform', kind = 'scatter', figsize = (10,10), title = 'Диаграмма рассеяния выпускаемых игр на платформах', ylabel = 'Платформа', xlabel = 'Год релиза')\n",
        "plt.show()"
      ]
    },
    {
      "cell_type": "markdown",
      "metadata": {
        "id": "xwyxpbw4IDMZ"
      },
      "source": [
        "После построения диаграммы рассеяния по годам для каждой платформы можно заметить, что игры появляются и исчезают в разные года на примерно одинаковый срок.\n",
        "Cрок для появления новых и исчезновения старых платформ составляет в среднем 8-10 лет.  "
      ]
    },
    {
      "cell_type": "code",
      "execution_count": null,
      "metadata": {
        "id": "NWaXXBEwIDMZ",
        "outputId": "db18a186-991b-4abd-a792-2632f71515fe"
      },
      "outputs": [
        {
          "data": {
            "text/plain": [
              "platform\n",
              "PS4     314.14\n",
              "PS3     288.79\n",
              "X360    236.54\n",
              "3DS     194.61\n",
              "XOne    159.32\n",
              "WiiU     82.19\n",
              "PC       62.65\n",
              "PSV      49.18\n",
              "Wii      35.37\n",
              "DS       12.55\n",
              "PSP      11.19\n",
              "Name: sales_sum, dtype: float64"
            ]
          },
          "execution_count": 21,
          "metadata": {},
          "output_type": "execute_result"
        }
      ],
      "source": [
        "actual.groupby('platform')['sales_sum'].sum().sort_values(ascending = False)"
      ]
    },
    {
      "cell_type": "markdown",
      "metadata": {
        "id": "VQ-0VnkaIDMZ"
      },
      "source": [
        "Топ-5 платформами за последние 5 лет оказались - PS3, X360, PS4, 3DS и XOne."
      ]
    },
    {
      "cell_type": "code",
      "execution_count": null,
      "metadata": {
        "id": "UI4UIYQPIDMZ"
      },
      "outputs": [],
      "source": [
        "top_platform = actual.query('platform == \"PS3\" or platform == \"X360\" or platform == \"PS4\" or platform == \"3DS\" or platform == \"XOne\"')"
      ]
    },
    {
      "cell_type": "code",
      "execution_count": null,
      "metadata": {
        "id": "irMHzXjFIDMZ",
        "outputId": "fdd24b17-2ef4-4450-e13d-07d732296a07"
      },
      "outputs": [
        {
          "data": {
            "image/png": "[encoded data removed]",
            "text/plain": [
              "<Figure size 1080x720 with 1 Axes>"
            ]
          },
          "metadata": {
            "needs_background": "light"
          },
          "output_type": "display_data"
        }
      ],
      "source": [
        "actual.groupby(['platform', 'year_of_release'])['sales_sum'].sum().unstack('platform').plot(figsize = (15, 10), grid=True, title = 'Распределения по годам', ylabel = 'Общие продажи', xlabel = 'Платформа')\n",
        "plt.show()"
      ]
    },
    {
      "cell_type": "markdown",
      "metadata": {
        "id": "JBj0zhuPIDMZ"
      },
      "source": [
        "По распределению по годам видно, что продажи у всех платформ падали к 2016 году. Можно отметить, что продажи только платформ XOne и PS4 росли."
      ]
    },
    {
      "cell_type": "markdown",
      "metadata": {
        "id": "XtpyiHQFIDMa"
      },
      "source": [
        "- Построим график «ящик с усами» по глобальным продажам игр в разбивке по платформам"
      ]
    },
    {
      "cell_type": "code",
      "execution_count": null,
      "metadata": {
        "scrolled": false,
        "id": "ggiDWth0IDMa",
        "outputId": "dc61d948-6aef-42fc-82cb-20a53036ac09"
      },
      "outputs": [
        {
          "data": {
            "text/plain": [
              "(0.0, 2.8)"
            ]
          },
          "execution_count": 24,
          "metadata": {},
          "output_type": "execute_result"
        },
        {
          "data": {
            "image/png": "[encoded data removed]",
            "text/plain": [
              "<Figure size 864x432 with 1 Axes>"
            ]
          },
          "metadata": {
            "needs_background": "light"
          },
          "output_type": "display_data"
        }
      ],
      "source": [
        "plt.figure(figsize = (12,6))\n",
        "sb.boxplot(data = top_platform, x = 'platform', y = 'sales_sum')\n",
        "plt.title('Ящик с усами')\n",
        "plt.xlabel('Платформа')\n",
        "plt.ylabel('Глобальные продажи')\n",
        "plt.ylim(0,2.8)\n"
      ]
    },
    {
      "cell_type": "markdown",
      "metadata": {
        "id": "qW7NzXMoIDMa"
      },
      "source": [
        "На графике видно, что медианные значения продаж для платформ низкие. Лидерами по продажам являются X360, PS4, XOne и PS3. "
      ]
    },
    {
      "cell_type": "markdown",
      "metadata": {
        "id": "Im81v08kIDMa"
      },
      "source": [
        "- Влияние отзывов пользователей и критиков на продажи внутри одной популярной платформы - X360. "
      ]
    },
    {
      "cell_type": "code",
      "execution_count": null,
      "metadata": {
        "scrolled": true,
        "id": "VlUGCK7DIDMa",
        "outputId": "bf069f06-dc6f-42d2-ad77-3daef53b1b2b"
      },
      "outputs": [
        {
          "data": {
            "image/png": "[encoded data removed]",
            "text/plain": [
              "<Figure size 720x360 with 1 Axes>"
            ]
          },
          "metadata": {
            "needs_background": "light"
          },
          "output_type": "display_data"
        },
        {
          "name": "stdout",
          "output_type": "stream",
          "text": [
            "Корреляция между отзывами критиков и продажами: 0.3605734888507336\n"
          ]
        }
      ],
      "source": [
        "# Построение диаграммы рассения\n",
        "X360 = actual.query(\"platform == 'X360'\")\n",
        "X360.plot(x = 'critic_score', y = 'sales_sum', kind='scatter', grid=True, figsize=(10,5))\n",
        "plt.show()\n",
        "\n",
        "# Подсчет коэффициента корреляции\n",
        "x360_critic = X360['critic_score'].corr(X360['sales_sum'])\n",
        "print('Корреляция между отзывами критиков и продажами:', x360_critic)"
      ]
    },
    {
      "cell_type": "code",
      "execution_count": null,
      "metadata": {
        "id": "bf1pkCyfIDMb",
        "outputId": "8cb90252-461f-4d41-ed90-10d738e37b72"
      },
      "outputs": [
        {
          "data": {
            "image/png": "[encoded data removed]",
            "text/plain": [
              "<Figure size 720x360 with 1 Axes>"
            ]
          },
          "metadata": {
            "needs_background": "light"
          },
          "output_type": "display_data"
        },
        {
          "name": "stdout",
          "output_type": "stream",
          "text": [
            "Корреляция между отзывами пользователей и продажами: 0.3605734888507336\n"
          ]
        }
      ],
      "source": [
        "# Построение диаграммы рассения\n",
        "X360.plot(x = 'user_score', y = 'sales_sum', kind='scatter', grid=True, figsize=(10,5))\n",
        "plt.show()\n",
        "\n",
        "# Подсчет коэффициента корреляции\n",
        "x360_user = X360['critic_score'].corr(X360['sales_sum'])\n",
        "print('Корреляция между отзывами пользователей и продажами:', x360_critic)"
      ]
    },
    {
      "cell_type": "markdown",
      "metadata": {
        "id": "MJonE4C3IDMb"
      },
      "source": [
        "Корреляция между отзывами критиков и продажами умеренная. Коэффциент положительный, значит с ростом одной величины растет и другая.\n",
        "\n",
        "Корреляция между отзывами пользователей и продажами также положительная, но низкая. Значит, перед покупкой люди обращают внимание на отзывы. Но больше влияют отзыввы критиков, чем пользовательские.\n",
        "\n",
        "Рассмотрим диаграммы рассения и корреляции для остальных поппулярных платформ."
      ]
    },
    {
      "cell_type": "code",
      "execution_count": null,
      "metadata": {
        "id": "dtPc4KFVIDMb",
        "outputId": "f9768d4c-b497-43f0-d74f-150b623a8094"
      },
      "outputs": [
        {
          "data": {
            "image/png": "[encoded data removed]",
            "text/plain": [
              "<Figure size 1440x360 with 2 Axes>"
            ]
          },
          "metadata": {
            "needs_background": "light"
          },
          "output_type": "display_data"
        },
        {
          "name": "stdout",
          "output_type": "stream",
          "text": [
            "Корреляция между отзывами критиков и продажами: 0.40656790206178095\n",
            "Корреляция между отзывами пользователей и продажами: -0.031957109005188264\n"
          ]
        },
        {
          "data": {
            "image/png": "[encoded data removed]",
            "text/plain": [
              "<Figure size 1440x360 with 2 Axes>"
            ]
          },
          "metadata": {
            "needs_background": "light"
          },
          "output_type": "display_data"
        },
        {
          "name": "stdout",
          "output_type": "stream",
          "text": [
            "Корреляция между отзывами критиков и продажами: 0.4169983280084017\n",
            "Корреляция между отзывами пользователей и продажами: -0.06892505319711206\n"
          ]
        },
        {
          "data": {
            "image/png": "[encoded data removed]",
            "text/plain": [
              "<Figure size 1440x360 with 2 Axes>"
            ]
          },
          "metadata": {
            "needs_background": "light"
          },
          "output_type": "display_data"
        },
        {
          "name": "stdout",
          "output_type": "stream",
          "text": [
            "Корреляция между отзывами критиков и продажами: 0.3314972592629587\n",
            "Корреляция между отзывами пользователей и продажами: -0.005143521263447908\n"
          ]
        },
        {
          "data": {
            "image/png": "[encoded data removed]",
            "text/plain": [
              "<Figure size 1440x360 with 2 Axes>"
            ]
          },
          "metadata": {
            "needs_background": "light"
          },
          "output_type": "display_data"
        },
        {
          "name": "stdout",
          "output_type": "stream",
          "text": [
            "Корреляция между отзывами критиков и продажами: 0.3208028695360785\n",
            "Корреляция между отзывами пользователей и продажами: 0.19758261153521017\n"
          ]
        }
      ],
      "source": [
        "def diagrams(name):\n",
        "    platform = actual.query(\"platform == @name\")\n",
        "    fig, ax = plt.subplots(1 ,2, figsize=(20,5))\n",
        "    fig.suptitle(name, fontsize=15)\n",
        "    platform.plot(x = 'critic_score', y = 'sales_sum', kind='scatter', grid=True, ax=ax[0], ylabel = 'Продажи', xlabel = 'Оценка критиков')\n",
        "    platform.plot(x = 'user_score', y = 'sales_sum', kind='scatter', grid=True, ax=ax[1], ylabel = 'Продажи', xlabel = 'Оценка пользователей')\n",
        "    plt.show()\n",
        "    cor_c = platform['critic_score'].corr(platform['sales_sum'])\n",
        "    cor_u = platform['user_score'].corr(platform['sales_sum'])\n",
        "    print('Корреляция между отзывами критиков и продажами:', cor_c)\n",
        "    print('Корреляция между отзывами пользователей и продажами:', cor_u)\n",
        "\n",
        "\n",
        "popular = ['PS4', 'XOne', 'PS3', '3DS']\n",
        "\n",
        "for i in popular:\n",
        "    diagrams(i)"
      ]
    },
    {
      "cell_type": "markdown",
      "metadata": {
        "id": "JQjU5qS8IDMb"
      },
      "source": [
        "Все коэффициенты у отзывов критиков положительные - есть слабая линейная связь между отзывами и продажами. Пользовательские оценки не влияют на количество продаж игр.\n",
        "Значит, для всех платформ влияющим фактором для покупателей являются отзывы критиков."
      ]
    },
    {
      "cell_type": "markdown",
      "metadata": {
        "id": "XebtaStmIDMc"
      },
      "source": [
        "- Общее распределение игр по жанрам"
      ]
    },
    {
      "cell_type": "code",
      "execution_count": null,
      "metadata": {
        "id": "_0qwn9YBIDMc",
        "outputId": "ce5f5deb-8107-4de3-8d2c-904312346622"
      },
      "outputs": [
        {
          "data": {
            "text/html": [
              "<div>\n",
              "<style scoped>\n",
              "    .dataframe tbody tr th:only-of-type {\n",
              "        vertical-align: middle;\n",
              "    }\n",
              "\n",
              "    .dataframe tbody tr th {\n",
              "        vertical-align: top;\n",
              "    }\n",
              "\n",
              "    .dataframe thead th {\n",
              "        text-align: right;\n",
              "    }\n",
              "</style>\n",
              "<table border=\"1\" class=\"dataframe\">\n",
              "  <thead>\n",
              "    <tr style=\"text-align: right;\">\n",
              "      <th></th>\n",
              "      <th>Кол-во игр</th>\n",
              "      <th>Общая прибыль</th>\n",
              "      <th>Средняя прибыль</th>\n",
              "    </tr>\n",
              "    <tr>\n",
              "      <th>genre</th>\n",
              "      <th></th>\n",
              "      <th></th>\n",
              "      <th></th>\n",
              "    </tr>\n",
              "  </thead>\n",
              "  <tbody>\n",
              "    <tr>\n",
              "      <th>Shooter</th>\n",
              "      <td>180</td>\n",
              "      <td>282.11</td>\n",
              "      <td>1.567278</td>\n",
              "    </tr>\n",
              "    <tr>\n",
              "      <th>Sports</th>\n",
              "      <td>203</td>\n",
              "      <td>167.81</td>\n",
              "      <td>0.826650</td>\n",
              "    </tr>\n",
              "    <tr>\n",
              "      <th>Role-Playing</th>\n",
              "      <td>219</td>\n",
              "      <td>151.26</td>\n",
              "      <td>0.690685</td>\n",
              "    </tr>\n",
              "    <tr>\n",
              "      <th>Platform</th>\n",
              "      <td>53</td>\n",
              "      <td>34.13</td>\n",
              "      <td>0.643962</td>\n",
              "    </tr>\n",
              "    <tr>\n",
              "      <th>Action</th>\n",
              "      <td>657</td>\n",
              "      <td>376.25</td>\n",
              "      <td>0.572679</td>\n",
              "    </tr>\n",
              "    <tr>\n",
              "      <th>Racing</th>\n",
              "      <td>82</td>\n",
              "      <td>42.18</td>\n",
              "      <td>0.514390</td>\n",
              "    </tr>\n",
              "    <tr>\n",
              "      <th>Simulation</th>\n",
              "      <td>49</td>\n",
              "      <td>25.16</td>\n",
              "      <td>0.513469</td>\n",
              "    </tr>\n",
              "    <tr>\n",
              "      <th>Fighting</th>\n",
              "      <td>83</td>\n",
              "      <td>35.53</td>\n",
              "      <td>0.428072</td>\n",
              "    </tr>\n",
              "    <tr>\n",
              "      <th>Misc</th>\n",
              "      <td>116</td>\n",
              "      <td>48.78</td>\n",
              "      <td>0.420517</td>\n",
              "    </tr>\n",
              "    <tr>\n",
              "      <th>Puzzle</th>\n",
              "      <td>15</td>\n",
              "      <td>2.72</td>\n",
              "      <td>0.181333</td>\n",
              "    </tr>\n",
              "    <tr>\n",
              "      <th>Adventure</th>\n",
              "      <td>133</td>\n",
              "      <td>22.68</td>\n",
              "      <td>0.170526</td>\n",
              "    </tr>\n",
              "    <tr>\n",
              "      <th>Strategy</th>\n",
              "      <td>30</td>\n",
              "      <td>4.79</td>\n",
              "      <td>0.159667</td>\n",
              "    </tr>\n",
              "  </tbody>\n",
              "</table>\n",
              "</div>"
            ],
            "text/plain": [
              "              Кол-во игр  Общая прибыль  Средняя прибыль\n",
              "genre                                                   \n",
              "Shooter              180         282.11         1.567278\n",
              "Sports               203         167.81         0.826650\n",
              "Role-Playing         219         151.26         0.690685\n",
              "Platform              53          34.13         0.643962\n",
              "Action               657         376.25         0.572679\n",
              "Racing                82          42.18         0.514390\n",
              "Simulation            49          25.16         0.513469\n",
              "Fighting              83          35.53         0.428072\n",
              "Misc                 116          48.78         0.420517\n",
              "Puzzle                15           2.72         0.181333\n",
              "Adventure            133          22.68         0.170526\n",
              "Strategy              30           4.79         0.159667"
            ]
          },
          "execution_count": 28,
          "metadata": {},
          "output_type": "execute_result"
        }
      ],
      "source": [
        "genre_sales = top_platform.pivot_table(index='genre', values='sales_sum',aggfunc=['count', 'sum','mean'])\n",
        "genre_sales.columns = ['Кол-во игр', 'Общая прибыль', 'Средняя прибыль']\n",
        "genre_sales.sort_values(by='Средняя прибыль', ascending=False)"
      ]
    },
    {
      "cell_type": "code",
      "execution_count": null,
      "metadata": {
        "id": "OvlRIJlVIDMc",
        "outputId": "b4a228ef-63fd-4a9b-866b-e662faaf5ac1"
      },
      "outputs": [
        {
          "data": {
            "text/plain": [
              "(0.0, 5.0)"
            ]
          },
          "execution_count": 29,
          "metadata": {},
          "output_type": "execute_result"
        },
        {
          "data": {
            "image/png": "[encoded data removed]",
            "text/plain": [
              "<Figure size 1080x720 with 1 Axes>"
            ]
          },
          "metadata": {
            "needs_background": "light"
          },
          "output_type": "display_data"
        }
      ],
      "source": [
        "plt.figure(figsize = (15,10))\n",
        "sb.boxplot(data = top_platform, x = 'genre', y = 'sales_sum')\n",
        "plt.title('Ящик с усами')\n",
        "plt.xlabel('Жанр')\n",
        "plt.ylabel('Продажи')\n",
        "plt.ylim(0, 5)"
      ]
    },
    {
      "cell_type": "markdown",
      "metadata": {
        "id": "kKHW2g_MIDMc"
      },
      "source": [
        "Самым прибыльным жанром является shooter. На втором месте sports. Жанры с низкой прибылью по графику - strategy и adventure."
      ]
    },
    {
      "cell_type": "markdown",
      "metadata": {
        "id": "m73O1dgsIDMc"
      },
      "source": [
        "## Этап 4. Портрет пользователя для каждого региона\n"
      ]
    },
    {
      "cell_type": "markdown",
      "metadata": {
        "id": "_3-gGwARIDMc"
      },
      "source": [
        "- Самые популярные платформы (топ-5)"
      ]
    },
    {
      "cell_type": "code",
      "execution_count": null,
      "metadata": {
        "id": "L_ObuiYQIDMd",
        "outputId": "fdeb8e7d-fb12-4f50-84b7-9a6d10e1f9ef"
      },
      "outputs": [
        {
          "data": {
            "image/png": "[encoded data removed]",
            "text/plain": [
              "<Figure size 1440x360 with 3 Axes>"
            ]
          },
          "metadata": {
            "needs_background": "light"
          },
          "output_type": "display_data"
        }
      ],
      "source": [
        "platform_sales_na = actual.pivot_table(index='platform', values='na_sales', aggfunc='sum').sort_values(by='na_sales', ascending=False).head()\n",
        "platform_sales_eu = actual.pivot_table(index='platform', values='eu_sales', aggfunc='sum').sort_values(by='eu_sales', ascending=False).head()\n",
        "platform_sales_jp = actual.pivot_table(index='platform', values='jp_sales', aggfunc='sum').sort_values(by='jp_sales', ascending=False).head()\n",
        "\n",
        "fig, ax = plt.subplots(nrows = 1, ncols = 3, figsize=(20,5))\n",
        "\n",
        "platform_sales_na.plot(y = 'na_sales', kind = 'bar', grid = True, ax=ax[0], title = 'Топ-5 популярных платформ в Северной Америке', ylabel = 'Продажи', xlabel = 'Плафтормы')\n",
        "platform_sales_eu.plot(y = 'eu_sales', kind = 'bar', grid = True, ax=ax[1], title = 'Топ-5 популярных платформ в Европе', ylabel = 'Продажи', xlabel = 'Плафтормы')\n",
        "platform_sales_jp.plot(y = 'jp_sales', kind = 'bar', grid = True, ax=ax[2], title = 'Топ-5 популярных платформ в Японии', ylabel = 'Продажи', xlabel = 'Плафтормы')\n",
        "plt.show()"
      ]
    },
    {
      "cell_type": "markdown",
      "metadata": {
        "id": "qOArQsd7IDMd"
      },
      "source": [
        "Таким образом, топ-5 популярных платформ для каждого региона разнится. Также разными является количество продаж: для Северной Америки максимальная прибыль составляет около 240 миллионов копий, для Европы около 160 миллионов, для Японии около 100 миллионов. Это можно объяснить повышенным интересом к играм в Северной Америке."
      ]
    },
    {
      "cell_type": "markdown",
      "metadata": {
        "id": "A7gT9zjGIDMd"
      },
      "source": [
        "- Самые популярные жанры (топ-5)"
      ]
    },
    {
      "cell_type": "code",
      "execution_count": null,
      "metadata": {
        "id": "qMRSndoGIDMd",
        "outputId": "1e28c76d-0ed2-4091-d81d-ae8c876c206c"
      },
      "outputs": [
        {
          "data": {
            "image/png": "[encoded data removed]",
            "text/plain": [
              "<Figure size 1440x360 with 3 Axes>"
            ]
          },
          "metadata": {
            "needs_background": "light"
          },
          "output_type": "display_data"
        }
      ],
      "source": [
        "genre_sales_na = actual.pivot_table(index='genre', values='na_sales', aggfunc='sum').sort_values(by='na_sales', ascending=False).head()\n",
        "genre_sales_eu = actual.pivot_table(index='genre', values='eu_sales', aggfunc='sum').sort_values(by='eu_sales', ascending=False).head()\n",
        "genre_sales_jp = actual.pivot_table(index='genre', values='jp_sales', aggfunc='sum').sort_values(by='jp_sales', ascending=False).head()\n",
        "\n",
        "fig, ax = plt.subplots(nrows = 1, ncols = 3, figsize=(20,5))\n",
        "\n",
        "genre_sales_na.plot(y = 'na_sales', kind = 'bar', grid = True, ax=ax[0], title = 'Топ-5 популярных жанров в Северной Америке', ylabel = 'Продажи', xlabel = 'Жанр')\n",
        "genre_sales_eu.plot(y = 'eu_sales', kind = 'bar', grid = True, ax=ax[1], title = 'Топ-5 популярных жанров в Европе', ylabel = 'Продажи', xlabel = 'Жанр')\n",
        "genre_sales_jp.plot(y = 'jp_sales', kind = 'bar', grid = True, ax=ax[2], title = 'Топ-5 популярных жанров в Японии', ylabel = 'Продажи', xlabel = 'Жанр')\n",
        "plt.show()"
      ]
    },
    {
      "cell_type": "markdown",
      "metadata": {
        "id": "I1tw_PjGIDMd"
      },
      "source": [
        "Топ-5 популярных жанров разные для каждого региона. Для Северной Америки и Европы лидирующую позицию занял жанр Action, а для Японии - Role-playing."
      ]
    },
    {
      "cell_type": "markdown",
      "metadata": {
        "id": "bwDmSeNjIDMe"
      },
      "source": [
        "- Влияние рейтинга ESRB на продажи в каждом регионе"
      ]
    },
    {
      "cell_type": "code",
      "execution_count": null,
      "metadata": {
        "id": "NyiK6lk6IDMe",
        "outputId": "ed7b1f16-92bc-4c7a-f323-10bf2ff3e910"
      },
      "outputs": [
        {
          "data": {
            "image/png": "[encoded data removed]",
            "text/plain": [
              "<Figure size 1440x360 with 3 Axes>"
            ]
          },
          "metadata": {
            "needs_background": "light"
          },
          "output_type": "display_data"
        }
      ],
      "source": [
        "esrb_sales_na = actual.pivot_table(index='rating', values='na_sales', aggfunc='sum').sort_values(by='na_sales', ascending=False).head()\n",
        "esrb_sales_eu = actual.pivot_table(index='rating', values='eu_sales', aggfunc='sum').sort_values(by='eu_sales', ascending=False).head()\n",
        "esrb_sales_jp = actual.pivot_table(index='rating', values='jp_sales', aggfunc='sum').sort_values(by='jp_sales', ascending=False).head()\n",
        "\n",
        "fig, ax = plt.subplots(nrows = 1, ncols = 3, figsize=(20,5))\n",
        "\n",
        "esrb_sales_na.plot(y = 'na_sales', kind = 'bar', grid = True, ax=ax[0], title = 'Влияние рейтинга на продажи в Северной Америке', ylabel = 'Продажи', xlabel = 'Рейтинг')\n",
        "esrb_sales_eu.plot(y = 'eu_sales', kind = 'bar', grid = True, ax=ax[1], title = 'Влияние рейтинга на продажи в Европе', ylabel = 'Продажи', xlabel = 'Рейтинг')\n",
        "esrb_sales_jp.plot(y = 'jp_sales', kind = 'bar', grid = True, ax=ax[2], title = 'Влияние рейтинга на продажи в Японии', ylabel = 'Продажи', xlabel = 'Рейтинг')\n",
        "plt.show()"
      ]
    },
    {
      "cell_type": "markdown",
      "metadata": {
        "id": "TopFH0nLIDMe"
      },
      "source": [
        "В каждом регионе разное количество продаж по рейтингам. Предпочтительное всего рейтинги с показателем М и Е. В Японии популярны игры без рейтинга. Это можно объяснить тем, что в Японии присуждением рейтингов занимается CERO, а не ESRB."
      ]
    },
    {
      "cell_type": "markdown",
      "metadata": {
        "id": "TXnHt1M7IDMe"
      },
      "source": [
        "## Этап 5. Проверка гипотез\n",
        "\n",
        "Воспользуемся для проверки гипотез методом scipy.stats.ttest_ind(), так как нужно сопоставить средних двух генральных совокупностей по взятым выборкам.\n",
        "\n",
        "- Средние пользовательские рейтинги платформ Xbox One и PC одинаковые\n",
        "\n",
        "Нужно проверить одинаковы ли средние показатели пользовательских рейтингов для двух платформ, поэтому сформулируем гипотезы следующим образом:\n",
        "\n",
        "H_0: Пользовательский рейтинг платформы Xbox One = Пользовательский рейтинг платформы PC\n",
        "\n",
        "H_1: Пользовательский рейтинг платформы Xbox One ≠ Пользовательский рейтинг платформы PC"
      ]
    },
    {
      "cell_type": "code",
      "execution_count": null,
      "metadata": {
        "id": "JY0HqJzzIDMe",
        "outputId": "106eed91-8c4c-43bf-d18d-ef995cc4ef3c"
      },
      "outputs": [
        {
          "name": "stdout",
          "output_type": "stream",
          "text": [
            "p-значение: 4.935069725426706e-06\n",
            "Отвергаем нулевую гипотезу\n"
          ]
        }
      ],
      "source": [
        "xbox = data[data['platform'] == \"XOne\"]['user_score'].dropna()\n",
        "pc = data[data['platform'] == \"PC\"]['user_score'].dropna()\n",
        "\n",
        "alpha = .05 \n",
        "\n",
        "results = st.ttest_ind(\n",
        "    xbox, \n",
        "    pc,\n",
        "    equal_var = False)\n",
        "\n",
        "print('p-значение:', results.pvalue)\n",
        "\n",
        "if results.pvalue < alpha:\n",
        "    print(\"Отвергаем нулевую гипотезу\")\n",
        "else:\n",
        "    print(\"Не получилось отвергнуть нулевую гипотезу\") "
      ]
    },
    {
      "cell_type": "markdown",
      "metadata": {
        "id": "vOXJs4lmIDMf"
      },
      "source": [
        "Значение p-value равно менее 1%, нулевая гипотеза отвергнута - средние пользовательские рейтинги платформ Xbox One и PC разные."
      ]
    },
    {
      "cell_type": "markdown",
      "metadata": {
        "id": "Ut1SuAUxIDMf"
      },
      "source": [
        "- Средние пользовательские рейтинги жанров Action и Sports разные.\n",
        "\n",
        "H_0: Пользовательский рейтинг жанра Action = Пользовательский рейтинг жанра Sports\n",
        "\n",
        "H_1: Пользовательский рейтинг жанра Action ≠ Пользовательский рейтинг жанра Sports"
      ]
    },
    {
      "cell_type": "code",
      "execution_count": null,
      "metadata": {
        "scrolled": true,
        "id": "yDcOTFtPIDMf",
        "outputId": "b737cc89-9655-43c0-bdb7-3285b433b7b5"
      },
      "outputs": [
        {
          "name": "stdout",
          "output_type": "stream",
          "text": [
            "p-значение: 0.11483815981646321\n",
            "Не получилось отвергнуть нулевую гипотезу\n"
          ]
        }
      ],
      "source": [
        "action = data[data['genre']==\"Action\"]['user_score'].dropna()\n",
        "sports = data[data['genre']==\"Sports\"]['user_score'].dropna()\n",
        "\n",
        "alpha = .05\n",
        "\n",
        "results = st.ttest_ind(\n",
        "    action, \n",
        "    sports,\n",
        "    equal_var = False)\n",
        "\n",
        "print('p-значение:', results.pvalue)\n",
        "\n",
        "if results.pvalue < alpha:\n",
        "    print(\"Отвергаем нулевую гипотезу\")\n",
        "else:\n",
        "    print(\"Не получилось отвергнуть нулевую гипотезу\") "
      ]
    },
    {
      "cell_type": "markdown",
      "metadata": {
        "id": "rKygGjfhIDMf"
      },
      "source": [
        "Значит, что средние пользовательские рейтинги жанров Action и Sports равны или приблизительно равны."
      ]
    },
    {
      "cell_type": "markdown",
      "metadata": {
        "id": "E6p7Lzv5IDMf"
      },
      "source": [
        "## Итоги исследования\n",
        "\n",
        "Перед исследованием были получены данные из открытых источников о продажах игр, оценки пользователей и экспертов, жанры и платформы (например, Xbox или PlayStation). В данных были пропуски и ошибки. После их предобработки все было устранено. В пункте 2 был добавлен стобец с суммарными продажами, необходимый для исследовательского анализа.\n",
        "\n",
        "В ходе анализа было выяснено, что с 90-х годов стремительно росли продажи, но после 2009 года они начали уменьшаться. Это можно объяснить сменой технологий пользователей и небольшой потерей интереса к компьютерным играм. Также были выявлены популярные платформы: PS3, X360, PS4, 3DS и XOne. Потенциально прибыльнами из них были PS4 и XOne. Cрок для появления новых и исчезновения старых платформ составляет в среднем 8-10 лет.  \n",
        "\n",
        "Для дальнейшего исследования использовались популярные платформы и актуальный период. Актуальным периодом были 2012-2016 года.\n",
        "\n",
        "У популярных платформ выявлена взаимосвязь между продажами и оценками критиков. Пользовательские оценки на продажи не влияют. Самым прибыльным жанром в выбранный период был Shooter, второе место занял жанр Sports.\n",
        "\n",
        "Составление портрета пользователей показало, что для каждого региона свои топ-5 платформ, популярные жанры и предпочтительные рейтинги. Для некоторых регионов есть сходства, но лучше всего запускать рекламные кампании отдельно для каждого региона, опираясь на составленный портрет и выявленные взаимосвязи."
      ]
    }
  ],
  "metadata": {
    "ExecuteTimeLog": [
      {
        "duration": 631,
        "start_time": "2022-12-19T21:59:34.907Z"
      },
      {
        "duration": 66,
        "start_time": "2022-12-19T22:01:04.062Z"
      },
      {
        "duration": 24,
        "start_time": "2022-12-19T22:01:11.379Z"
      },
      {
        "duration": 442,
        "start_time": "2022-12-20T21:44:20.957Z"
      },
      {
        "duration": 20,
        "start_time": "2022-12-20T21:44:21.502Z"
      },
      {
        "duration": 55,
        "start_time": "2022-12-20T21:44:46.206Z"
      },
      {
        "duration": 10,
        "start_time": "2022-12-20T21:45:39.853Z"
      },
      {
        "duration": 8,
        "start_time": "2022-12-20T21:48:46.281Z"
      },
      {
        "duration": 4,
        "start_time": "2022-12-20T21:55:56.921Z"
      },
      {
        "duration": 16,
        "start_time": "2022-12-20T21:56:05.071Z"
      },
      {
        "duration": 9,
        "start_time": "2022-12-20T21:57:42.944Z"
      },
      {
        "duration": 5,
        "start_time": "2022-12-20T21:57:46.858Z"
      },
      {
        "duration": 9,
        "start_time": "2022-12-20T22:00:03.213Z"
      },
      {
        "duration": 8,
        "start_time": "2022-12-20T22:00:12.044Z"
      },
      {
        "duration": 16,
        "start_time": "2022-12-20T22:01:28.144Z"
      },
      {
        "duration": 12,
        "start_time": "2022-12-20T22:02:05.947Z"
      },
      {
        "duration": 52,
        "start_time": "2022-12-20T22:02:14.585Z"
      },
      {
        "duration": 15,
        "start_time": "2022-12-20T22:02:14.989Z"
      },
      {
        "duration": 23,
        "start_time": "2022-12-20T22:02:25.139Z"
      },
      {
        "duration": 5,
        "start_time": "2022-12-20T22:02:32.273Z"
      },
      {
        "duration": 11,
        "start_time": "2022-12-20T22:02:34.034Z"
      },
      {
        "duration": 11,
        "start_time": "2022-12-20T22:02:43.404Z"
      },
      {
        "duration": 11,
        "start_time": "2022-12-20T22:02:49.294Z"
      },
      {
        "duration": 19,
        "start_time": "2022-12-20T22:03:11.556Z"
      },
      {
        "duration": 9,
        "start_time": "2022-12-20T22:08:05.732Z"
      },
      {
        "duration": 11,
        "start_time": "2022-12-20T22:10:42.273Z"
      },
      {
        "duration": 24,
        "start_time": "2022-12-20T22:16:40.675Z"
      },
      {
        "duration": 15,
        "start_time": "2022-12-20T22:18:47.390Z"
      },
      {
        "duration": 4,
        "start_time": "2022-12-20T22:19:26.904Z"
      },
      {
        "duration": 11,
        "start_time": "2022-12-20T22:19:39.173Z"
      },
      {
        "duration": 6,
        "start_time": "2022-12-20T22:19:41.317Z"
      },
      {
        "duration": 500,
        "start_time": "2022-12-20T22:19:47.295Z"
      },
      {
        "duration": 21,
        "start_time": "2022-12-20T22:19:47.798Z"
      },
      {
        "duration": 33,
        "start_time": "2022-12-20T22:19:47.821Z"
      },
      {
        "duration": 5,
        "start_time": "2022-12-20T22:19:47.856Z"
      },
      {
        "duration": 66,
        "start_time": "2022-12-20T22:19:47.862Z"
      },
      {
        "duration": 0,
        "start_time": "2022-12-20T22:19:47.930Z"
      },
      {
        "duration": 0,
        "start_time": "2022-12-20T22:19:47.931Z"
      },
      {
        "duration": 6,
        "start_time": "2022-12-20T22:19:52.522Z"
      },
      {
        "duration": 12,
        "start_time": "2022-12-20T22:20:47.707Z"
      },
      {
        "duration": 13,
        "start_time": "2022-12-20T22:20:56.386Z"
      },
      {
        "duration": 4,
        "start_time": "2022-12-20T22:20:57.854Z"
      },
      {
        "duration": 9,
        "start_time": "2022-12-20T22:22:08.638Z"
      },
      {
        "duration": 6,
        "start_time": "2022-12-20T22:26:29.532Z"
      },
      {
        "duration": 9,
        "start_time": "2022-12-20T22:26:35.809Z"
      },
      {
        "duration": 3,
        "start_time": "2022-12-20T22:31:05.957Z"
      },
      {
        "duration": 19,
        "start_time": "2022-12-20T22:31:10.747Z"
      },
      {
        "duration": 5,
        "start_time": "2022-12-20T22:33:42.199Z"
      },
      {
        "duration": 21,
        "start_time": "2022-12-20T22:33:48.294Z"
      },
      {
        "duration": 52,
        "start_time": "2022-12-20T22:35:03.579Z"
      },
      {
        "duration": 14,
        "start_time": "2022-12-20T22:35:04.025Z"
      },
      {
        "duration": 16,
        "start_time": "2022-12-20T22:35:05.222Z"
      },
      {
        "duration": 5,
        "start_time": "2022-12-20T22:35:05.972Z"
      },
      {
        "duration": 13,
        "start_time": "2022-12-20T22:35:06.385Z"
      },
      {
        "duration": 5,
        "start_time": "2022-12-20T22:35:06.795Z"
      },
      {
        "duration": 8,
        "start_time": "2022-12-20T22:35:07.830Z"
      },
      {
        "duration": 4,
        "start_time": "2022-12-20T22:35:08.204Z"
      },
      {
        "duration": 10,
        "start_time": "2022-12-20T22:35:08.677Z"
      },
      {
        "duration": 8,
        "start_time": "2022-12-20T22:35:38.492Z"
      },
      {
        "duration": 20,
        "start_time": "2022-12-20T22:35:41.225Z"
      },
      {
        "duration": 21,
        "start_time": "2022-12-20T22:35:45.744Z"
      },
      {
        "duration": 13,
        "start_time": "2022-12-20T22:36:06.510Z"
      },
      {
        "duration": 14,
        "start_time": "2022-12-20T22:39:35.034Z"
      },
      {
        "duration": 22,
        "start_time": "2022-12-20T22:39:52.528Z"
      },
      {
        "duration": 12,
        "start_time": "2022-12-20T22:40:01.776Z"
      },
      {
        "duration": 11,
        "start_time": "2022-12-20T22:50:12.653Z"
      },
      {
        "duration": 10,
        "start_time": "2022-12-20T22:50:28.055Z"
      },
      {
        "duration": 14,
        "start_time": "2022-12-20T22:50:51.386Z"
      },
      {
        "duration": 612,
        "start_time": "2022-12-20T22:52:06.812Z"
      },
      {
        "duration": 250,
        "start_time": "2022-12-20T22:52:36.484Z"
      },
      {
        "duration": 333,
        "start_time": "2022-12-20T22:52:55.451Z"
      },
      {
        "duration": 255,
        "start_time": "2022-12-20T22:53:04.298Z"
      },
      {
        "duration": 176,
        "start_time": "2022-12-20T23:00:05.315Z"
      },
      {
        "duration": 138,
        "start_time": "2022-12-20T23:01:27.646Z"
      },
      {
        "duration": 139,
        "start_time": "2022-12-20T23:02:13.596Z"
      },
      {
        "duration": 731,
        "start_time": "2022-12-20T23:02:41.211Z"
      },
      {
        "duration": 13,
        "start_time": "2022-12-20T23:03:46.845Z"
      },
      {
        "duration": 703,
        "start_time": "2022-12-20T23:04:18.471Z"
      },
      {
        "duration": 141,
        "start_time": "2022-12-20T23:23:46.629Z"
      },
      {
        "duration": 206,
        "start_time": "2022-12-20T23:24:28.367Z"
      },
      {
        "duration": 166,
        "start_time": "2022-12-20T23:24:34.771Z"
      },
      {
        "duration": 279,
        "start_time": "2022-12-20T23:24:45.973Z"
      },
      {
        "duration": 206,
        "start_time": "2022-12-20T23:25:28.906Z"
      },
      {
        "duration": 194,
        "start_time": "2022-12-20T23:25:50.396Z"
      },
      {
        "duration": 198,
        "start_time": "2022-12-20T23:25:55.856Z"
      },
      {
        "duration": 650,
        "start_time": "2022-12-21T14:56:07.623Z"
      },
      {
        "duration": 24,
        "start_time": "2022-12-21T14:56:08.276Z"
      },
      {
        "duration": 24,
        "start_time": "2022-12-21T14:56:08.302Z"
      },
      {
        "duration": 32,
        "start_time": "2022-12-21T14:56:08.327Z"
      },
      {
        "duration": 45,
        "start_time": "2022-12-21T14:56:08.361Z"
      },
      {
        "duration": 9,
        "start_time": "2022-12-21T14:56:08.408Z"
      },
      {
        "duration": 34,
        "start_time": "2022-12-21T14:56:08.419Z"
      },
      {
        "duration": 12,
        "start_time": "2022-12-21T14:56:08.454Z"
      },
      {
        "duration": 51,
        "start_time": "2022-12-21T14:56:08.467Z"
      },
      {
        "duration": 48,
        "start_time": "2022-12-21T14:56:08.520Z"
      },
      {
        "duration": 71,
        "start_time": "2022-12-21T14:56:08.570Z"
      },
      {
        "duration": 722,
        "start_time": "2022-12-21T14:56:08.642Z"
      },
      {
        "duration": 361,
        "start_time": "2022-12-21T14:56:09.366Z"
      },
      {
        "duration": 102,
        "start_time": "2022-12-21T14:56:09.731Z"
      },
      {
        "duration": 78,
        "start_time": "2022-12-21T14:59:30.335Z"
      },
      {
        "duration": 10,
        "start_time": "2022-12-21T14:59:51.427Z"
      },
      {
        "duration": 71,
        "start_time": "2022-12-21T15:00:18.696Z"
      },
      {
        "duration": 11,
        "start_time": "2022-12-21T15:00:39.633Z"
      },
      {
        "duration": 10,
        "start_time": "2022-12-21T15:01:46.032Z"
      },
      {
        "duration": 9,
        "start_time": "2022-12-21T15:01:54.816Z"
      },
      {
        "duration": 67,
        "start_time": "2022-12-21T15:02:18.632Z"
      },
      {
        "duration": 12,
        "start_time": "2022-12-21T15:02:25.136Z"
      },
      {
        "duration": 8,
        "start_time": "2022-12-21T15:06:35.962Z"
      },
      {
        "duration": 8,
        "start_time": "2022-12-21T15:06:44.112Z"
      },
      {
        "duration": 54,
        "start_time": "2022-12-21T15:12:58.211Z"
      },
      {
        "duration": 593,
        "start_time": "2022-12-21T15:13:15.731Z"
      },
      {
        "duration": 284,
        "start_time": "2022-12-21T15:16:01.154Z"
      },
      {
        "duration": 224,
        "start_time": "2022-12-21T15:16:42.961Z"
      },
      {
        "duration": 238,
        "start_time": "2022-12-21T15:17:27.665Z"
      },
      {
        "duration": 161,
        "start_time": "2022-12-21T15:18:05.211Z"
      },
      {
        "duration": 303,
        "start_time": "2022-12-21T15:18:19.088Z"
      },
      {
        "duration": 26,
        "start_time": "2022-12-21T15:20:36.741Z"
      },
      {
        "duration": 16,
        "start_time": "2022-12-21T15:20:51.847Z"
      },
      {
        "duration": 228,
        "start_time": "2022-12-21T15:21:21.575Z"
      },
      {
        "duration": 102,
        "start_time": "2022-12-21T15:43:42.120Z"
      },
      {
        "duration": 13,
        "start_time": "2022-12-21T15:43:50.220Z"
      },
      {
        "duration": 81,
        "start_time": "2022-12-21T15:44:12.920Z"
      },
      {
        "duration": 93,
        "start_time": "2022-12-21T15:44:22.260Z"
      },
      {
        "duration": 131,
        "start_time": "2022-12-21T15:48:11.115Z"
      },
      {
        "duration": 194,
        "start_time": "2022-12-21T15:49:18.937Z"
      },
      {
        "duration": 18,
        "start_time": "2022-12-21T15:56:51.913Z"
      },
      {
        "duration": 718,
        "start_time": "2022-12-21T15:58:58.018Z"
      },
      {
        "duration": 143,
        "start_time": "2022-12-21T15:59:09.758Z"
      },
      {
        "duration": 188,
        "start_time": "2022-12-21T15:59:25.030Z"
      },
      {
        "duration": 176,
        "start_time": "2022-12-21T16:03:17.597Z"
      },
      {
        "duration": 180,
        "start_time": "2022-12-21T16:03:31.222Z"
      },
      {
        "duration": 264,
        "start_time": "2022-12-21T16:03:58.934Z"
      },
      {
        "duration": 172,
        "start_time": "2022-12-21T16:04:04.640Z"
      },
      {
        "duration": 171,
        "start_time": "2022-12-21T16:04:36.682Z"
      },
      {
        "duration": 171,
        "start_time": "2022-12-21T16:05:07.588Z"
      },
      {
        "duration": 229,
        "start_time": "2022-12-21T16:09:07.952Z"
      },
      {
        "duration": 70,
        "start_time": "2022-12-21T16:13:52.652Z"
      },
      {
        "duration": 28,
        "start_time": "2022-12-21T16:14:52.946Z"
      },
      {
        "duration": 28,
        "start_time": "2022-12-21T16:15:04.116Z"
      },
      {
        "duration": 29,
        "start_time": "2022-12-21T16:15:10.635Z"
      },
      {
        "duration": 10,
        "start_time": "2022-12-21T16:16:08.634Z"
      },
      {
        "duration": 33,
        "start_time": "2022-12-21T16:16:15.474Z"
      },
      {
        "duration": 19,
        "start_time": "2022-12-21T16:17:28.198Z"
      },
      {
        "duration": 11,
        "start_time": "2022-12-21T16:17:39.298Z"
      },
      {
        "duration": 1241,
        "start_time": "2022-12-21T16:18:10.014Z"
      },
      {
        "duration": 315,
        "start_time": "2022-12-21T16:18:24.370Z"
      },
      {
        "duration": 173,
        "start_time": "2022-12-21T16:20:42.214Z"
      },
      {
        "duration": 169,
        "start_time": "2022-12-21T16:21:53.741Z"
      },
      {
        "duration": 170,
        "start_time": "2022-12-21T16:22:43.398Z"
      },
      {
        "duration": 160,
        "start_time": "2022-12-21T16:24:18.696Z"
      },
      {
        "duration": 178,
        "start_time": "2022-12-21T16:24:21.014Z"
      },
      {
        "duration": 281,
        "start_time": "2022-12-21T16:26:29.202Z"
      },
      {
        "duration": 183,
        "start_time": "2022-12-21T16:33:04.546Z"
      },
      {
        "duration": 174,
        "start_time": "2022-12-21T16:34:34.454Z"
      },
      {
        "duration": 167,
        "start_time": "2022-12-21T16:34:35.763Z"
      },
      {
        "duration": 181,
        "start_time": "2022-12-21T16:35:16.522Z"
      },
      {
        "duration": 173,
        "start_time": "2022-12-21T16:35:38.222Z"
      },
      {
        "duration": 5,
        "start_time": "2022-12-21T16:37:14.994Z"
      },
      {
        "duration": 166,
        "start_time": "2022-12-21T16:46:26.184Z"
      },
      {
        "duration": 180,
        "start_time": "2022-12-21T16:46:35.100Z"
      },
      {
        "duration": 19,
        "start_time": "2022-12-21T16:46:41.498Z"
      },
      {
        "duration": 171,
        "start_time": "2022-12-21T16:46:50.834Z"
      },
      {
        "duration": 43,
        "start_time": "2022-12-21T16:57:18.116Z"
      },
      {
        "duration": 22,
        "start_time": "2022-12-21T16:57:29.038Z"
      },
      {
        "duration": 86,
        "start_time": "2022-12-21T17:07:01.244Z"
      },
      {
        "duration": 72,
        "start_time": "2022-12-21T17:08:41.916Z"
      },
      {
        "duration": 44,
        "start_time": "2022-12-21T20:57:48.202Z"
      },
      {
        "duration": 569,
        "start_time": "2022-12-21T20:57:56.099Z"
      },
      {
        "duration": 21,
        "start_time": "2022-12-21T20:57:56.671Z"
      },
      {
        "duration": 16,
        "start_time": "2022-12-21T20:57:56.694Z"
      },
      {
        "duration": 9,
        "start_time": "2022-12-21T20:57:56.712Z"
      },
      {
        "duration": 14,
        "start_time": "2022-12-21T20:57:56.723Z"
      },
      {
        "duration": 5,
        "start_time": "2022-12-21T20:57:56.739Z"
      },
      {
        "duration": 33,
        "start_time": "2022-12-21T20:57:56.746Z"
      },
      {
        "duration": 5,
        "start_time": "2022-12-21T20:57:56.780Z"
      },
      {
        "duration": 12,
        "start_time": "2022-12-21T20:57:56.787Z"
      },
      {
        "duration": 7,
        "start_time": "2022-12-21T20:57:56.803Z"
      },
      {
        "duration": 18,
        "start_time": "2022-12-21T20:57:56.812Z"
      },
      {
        "duration": 666,
        "start_time": "2022-12-21T20:57:56.832Z"
      },
      {
        "duration": 296,
        "start_time": "2022-12-21T20:57:57.500Z"
      },
      {
        "duration": 286,
        "start_time": "2022-12-21T20:57:57.797Z"
      },
      {
        "duration": 606,
        "start_time": "2022-12-21T20:57:58.084Z"
      },
      {
        "duration": 7,
        "start_time": "2022-12-21T20:57:58.692Z"
      },
      {
        "duration": 217,
        "start_time": "2022-12-21T20:57:58.701Z"
      },
      {
        "duration": 244,
        "start_time": "2022-12-21T20:57:58.920Z"
      },
      {
        "duration": 167,
        "start_time": "2022-12-21T20:57:59.166Z"
      },
      {
        "duration": 178,
        "start_time": "2022-12-21T20:57:59.335Z"
      },
      {
        "duration": 187,
        "start_time": "2022-12-21T20:57:59.514Z"
      },
      {
        "duration": 180,
        "start_time": "2022-12-21T20:57:59.703Z"
      },
      {
        "duration": 171,
        "start_time": "2022-12-21T20:57:59.885Z"
      },
      {
        "duration": 169,
        "start_time": "2022-12-21T20:58:00.058Z"
      },
      {
        "duration": 168,
        "start_time": "2022-12-21T20:58:00.229Z"
      },
      {
        "duration": 179,
        "start_time": "2022-12-21T20:58:00.400Z"
      },
      {
        "duration": 7,
        "start_time": "2022-12-21T20:58:03.261Z"
      },
      {
        "duration": 28,
        "start_time": "2022-12-21T20:58:10.034Z"
      },
      {
        "duration": 24,
        "start_time": "2022-12-21T20:58:32.854Z"
      },
      {
        "duration": 137,
        "start_time": "2022-12-21T20:59:21.638Z"
      },
      {
        "duration": 155,
        "start_time": "2022-12-21T20:59:44.954Z"
      },
      {
        "duration": 23,
        "start_time": "2022-12-21T21:03:15.258Z"
      },
      {
        "duration": 138,
        "start_time": "2022-12-21T21:04:19.863Z"
      },
      {
        "duration": 24,
        "start_time": "2022-12-21T21:04:24.260Z"
      },
      {
        "duration": 127,
        "start_time": "2022-12-21T21:04:35.791Z"
      },
      {
        "duration": 5,
        "start_time": "2022-12-21T21:04:56.065Z"
      },
      {
        "duration": 7,
        "start_time": "2022-12-21T21:05:19.142Z"
      },
      {
        "duration": 125,
        "start_time": "2022-12-21T21:07:50.650Z"
      },
      {
        "duration": 40,
        "start_time": "2022-12-21T21:08:22.482Z"
      },
      {
        "duration": 162,
        "start_time": "2022-12-21T21:11:39.447Z"
      },
      {
        "duration": 149,
        "start_time": "2022-12-21T21:12:00.258Z"
      },
      {
        "duration": 106,
        "start_time": "2022-12-21T21:34:07.141Z"
      },
      {
        "duration": 19,
        "start_time": "2022-12-21T21:34:21.514Z"
      },
      {
        "duration": 3,
        "start_time": "2022-12-21T22:18:23.617Z"
      },
      {
        "duration": 6,
        "start_time": "2022-12-21T22:18:32.621Z"
      },
      {
        "duration": 5,
        "start_time": "2022-12-21T22:18:40.742Z"
      },
      {
        "duration": 10,
        "start_time": "2022-12-21T22:18:44.663Z"
      },
      {
        "duration": 90,
        "start_time": "2022-12-21T22:18:56.012Z"
      },
      {
        "duration": 69,
        "start_time": "2022-12-21T22:19:00.900Z"
      },
      {
        "duration": 21,
        "start_time": "2022-12-21T22:19:15.830Z"
      },
      {
        "duration": 8,
        "start_time": "2022-12-21T22:22:12.405Z"
      },
      {
        "duration": 12,
        "start_time": "2022-12-21T22:22:19.323Z"
      },
      {
        "duration": 73,
        "start_time": "2022-12-21T22:22:33.165Z"
      },
      {
        "duration": 11,
        "start_time": "2022-12-21T22:22:44.486Z"
      },
      {
        "duration": 11,
        "start_time": "2022-12-21T22:32:09.608Z"
      },
      {
        "duration": 24,
        "start_time": "2022-12-21T22:32:15.888Z"
      },
      {
        "duration": 25,
        "start_time": "2022-12-21T22:33:03.777Z"
      },
      {
        "duration": 26,
        "start_time": "2022-12-21T22:33:48.163Z"
      },
      {
        "duration": 24,
        "start_time": "2022-12-21T22:34:01.083Z"
      },
      {
        "duration": 21,
        "start_time": "2022-12-21T22:37:15.229Z"
      },
      {
        "duration": 66,
        "start_time": "2022-12-21T22:38:06.121Z"
      },
      {
        "duration": 20,
        "start_time": "2022-12-21T22:38:34.625Z"
      },
      {
        "duration": 21,
        "start_time": "2022-12-21T22:41:23.574Z"
      },
      {
        "duration": 9,
        "start_time": "2022-12-21T22:47:40.453Z"
      },
      {
        "duration": 11,
        "start_time": "2022-12-21T22:48:50.111Z"
      },
      {
        "duration": 585,
        "start_time": "2022-12-21T22:49:47.375Z"
      },
      {
        "duration": 11,
        "start_time": "2022-12-21T22:50:29.358Z"
      },
      {
        "duration": 8,
        "start_time": "2022-12-21T22:51:09.843Z"
      },
      {
        "duration": 68,
        "start_time": "2022-12-21T22:51:27.568Z"
      },
      {
        "duration": 13,
        "start_time": "2022-12-21T22:51:34.252Z"
      },
      {
        "duration": 10,
        "start_time": "2022-12-21T22:54:44.401Z"
      },
      {
        "duration": 25,
        "start_time": "2022-12-21T22:54:51.373Z"
      },
      {
        "duration": 12,
        "start_time": "2022-12-21T22:55:34.379Z"
      },
      {
        "duration": 14,
        "start_time": "2022-12-21T22:55:38.331Z"
      },
      {
        "duration": 12,
        "start_time": "2022-12-21T22:56:08.014Z"
      },
      {
        "duration": 16,
        "start_time": "2022-12-21T22:56:15.768Z"
      },
      {
        "duration": 52,
        "start_time": "2022-12-22T14:19:33.640Z"
      },
      {
        "duration": 497,
        "start_time": "2022-12-22T14:19:37.983Z"
      },
      {
        "duration": 22,
        "start_time": "2022-12-22T14:19:38.482Z"
      },
      {
        "duration": 30,
        "start_time": "2022-12-22T14:19:38.505Z"
      },
      {
        "duration": 18,
        "start_time": "2022-12-22T14:19:38.538Z"
      },
      {
        "duration": 7,
        "start_time": "2022-12-22T14:19:38.558Z"
      },
      {
        "duration": 15,
        "start_time": "2022-12-22T14:19:38.567Z"
      },
      {
        "duration": 5,
        "start_time": "2022-12-22T14:19:38.584Z"
      },
      {
        "duration": 40,
        "start_time": "2022-12-22T14:19:38.590Z"
      },
      {
        "duration": 6,
        "start_time": "2022-12-22T14:19:38.632Z"
      },
      {
        "duration": 12,
        "start_time": "2022-12-22T14:19:38.641Z"
      },
      {
        "duration": 5,
        "start_time": "2022-12-22T14:19:38.655Z"
      },
      {
        "duration": 17,
        "start_time": "2022-12-22T14:19:38.662Z"
      },
      {
        "duration": 684,
        "start_time": "2022-12-22T14:19:38.681Z"
      },
      {
        "duration": 326,
        "start_time": "2022-12-22T14:19:39.367Z"
      },
      {
        "duration": 314,
        "start_time": "2022-12-22T14:19:39.696Z"
      },
      {
        "duration": 723,
        "start_time": "2022-12-22T14:19:40.015Z"
      },
      {
        "duration": 20,
        "start_time": "2022-12-22T14:19:40.740Z"
      },
      {
        "duration": 164,
        "start_time": "2022-12-22T14:19:40.762Z"
      },
      {
        "duration": 7,
        "start_time": "2022-12-22T14:19:40.928Z"
      },
      {
        "duration": 223,
        "start_time": "2022-12-22T14:19:40.936Z"
      },
      {
        "duration": 6,
        "start_time": "2022-12-22T14:19:41.162Z"
      },
      {
        "duration": 226,
        "start_time": "2022-12-22T14:19:41.171Z"
      },
      {
        "duration": 171,
        "start_time": "2022-12-22T14:19:41.399Z"
      },
      {
        "duration": 190,
        "start_time": "2022-12-22T14:19:41.573Z"
      },
      {
        "duration": 202,
        "start_time": "2022-12-22T14:19:41.765Z"
      },
      {
        "duration": 205,
        "start_time": "2022-12-22T14:19:41.970Z"
      },
      {
        "duration": 189,
        "start_time": "2022-12-22T14:19:42.177Z"
      },
      {
        "duration": 206,
        "start_time": "2022-12-22T14:19:42.370Z"
      },
      {
        "duration": 185,
        "start_time": "2022-12-22T14:19:42.578Z"
      },
      {
        "duration": 198,
        "start_time": "2022-12-22T14:19:42.765Z"
      },
      {
        "duration": 189,
        "start_time": "2022-12-22T14:19:42.965Z"
      },
      {
        "duration": 14,
        "start_time": "2022-12-22T14:19:43.156Z"
      },
      {
        "duration": 19,
        "start_time": "2022-12-22T14:19:43.172Z"
      },
      {
        "duration": 121,
        "start_time": "2022-12-22T14:21:01.954Z"
      },
      {
        "duration": 22,
        "start_time": "2022-12-22T14:22:11.846Z"
      },
      {
        "duration": 52,
        "start_time": "2022-12-22T14:22:25.629Z"
      },
      {
        "duration": 31,
        "start_time": "2022-12-22T14:22:44.240Z"
      },
      {
        "duration": 27,
        "start_time": "2022-12-22T14:23:13.424Z"
      },
      {
        "duration": 47,
        "start_time": "2022-12-22T14:27:01.208Z"
      },
      {
        "duration": 27,
        "start_time": "2022-12-22T14:27:48.669Z"
      },
      {
        "duration": 164,
        "start_time": "2022-12-22T14:28:03.590Z"
      },
      {
        "duration": 24,
        "start_time": "2022-12-22T14:28:08.833Z"
      },
      {
        "duration": 6,
        "start_time": "2022-12-22T14:28:29.270Z"
      },
      {
        "duration": 232,
        "start_time": "2022-12-22T14:29:00.195Z"
      },
      {
        "duration": 6,
        "start_time": "2022-12-22T14:29:03.174Z"
      },
      {
        "duration": 160,
        "start_time": "2022-12-22T14:30:08.241Z"
      },
      {
        "duration": 134,
        "start_time": "2022-12-22T14:30:23.218Z"
      },
      {
        "duration": 180,
        "start_time": "2022-12-22T14:31:55.459Z"
      },
      {
        "duration": 167,
        "start_time": "2022-12-22T14:32:21.217Z"
      },
      {
        "duration": 164,
        "start_time": "2022-12-22T14:32:31.300Z"
      },
      {
        "duration": 150,
        "start_time": "2022-12-22T14:47:37.177Z"
      },
      {
        "duration": 154,
        "start_time": "2022-12-22T14:48:09.154Z"
      },
      {
        "duration": 137,
        "start_time": "2022-12-22T14:48:32.536Z"
      },
      {
        "duration": 1369,
        "start_time": "2022-12-22T14:51:28.330Z"
      },
      {
        "duration": 1197,
        "start_time": "2022-12-22T14:52:41.060Z"
      },
      {
        "duration": 21,
        "start_time": "2022-12-22T14:53:01.508Z"
      },
      {
        "duration": 27,
        "start_time": "2022-12-22T14:53:28.414Z"
      },
      {
        "duration": 68,
        "start_time": "2022-12-22T14:54:00.955Z"
      },
      {
        "duration": 1354,
        "start_time": "2022-12-22T14:54:11.581Z"
      },
      {
        "duration": 323,
        "start_time": "2022-12-22T14:55:08.028Z"
      },
      {
        "duration": 1468,
        "start_time": "2022-12-22T14:55:37.458Z"
      },
      {
        "duration": 1324,
        "start_time": "2022-12-22T14:56:03.702Z"
      },
      {
        "duration": 1557,
        "start_time": "2022-12-22T14:56:24.279Z"
      },
      {
        "duration": 2477,
        "start_time": "2022-12-22T14:57:17.678Z"
      },
      {
        "duration": 2358,
        "start_time": "2022-12-22T14:57:27.048Z"
      },
      {
        "duration": 2380,
        "start_time": "2022-12-22T14:58:13.581Z"
      },
      {
        "duration": 2839,
        "start_time": "2022-12-22T14:58:26.408Z"
      },
      {
        "duration": 472,
        "start_time": "2022-12-22T14:59:15.619Z"
      },
      {
        "duration": 2409,
        "start_time": "2022-12-22T14:59:23.688Z"
      },
      {
        "duration": 2425,
        "start_time": "2022-12-22T15:00:25.048Z"
      },
      {
        "duration": 2192,
        "start_time": "2022-12-22T15:00:35.244Z"
      },
      {
        "duration": 1257,
        "start_time": "2022-12-22T15:01:10.752Z"
      },
      {
        "duration": 1258,
        "start_time": "2022-12-22T15:01:27.472Z"
      },
      {
        "duration": 1558,
        "start_time": "2022-12-22T15:01:36.438Z"
      },
      {
        "duration": 1391,
        "start_time": "2022-12-22T15:03:11.925Z"
      },
      {
        "duration": 1555,
        "start_time": "2022-12-22T15:03:57.561Z"
      },
      {
        "duration": 1362,
        "start_time": "2022-12-22T15:04:10.342Z"
      },
      {
        "duration": 1189,
        "start_time": "2022-12-22T15:05:31.799Z"
      },
      {
        "duration": 1301,
        "start_time": "2022-12-22T15:07:28.050Z"
      },
      {
        "duration": 19,
        "start_time": "2022-12-22T15:17:03.656Z"
      },
      {
        "duration": 14,
        "start_time": "2022-12-22T15:17:05.971Z"
      },
      {
        "duration": 9,
        "start_time": "2022-12-22T15:19:29.476Z"
      },
      {
        "duration": 14,
        "start_time": "2022-12-22T15:19:35.003Z"
      },
      {
        "duration": 14,
        "start_time": "2022-12-22T15:20:07.639Z"
      },
      {
        "duration": 15,
        "start_time": "2022-12-22T15:21:00.799Z"
      },
      {
        "duration": 11,
        "start_time": "2022-12-22T15:23:47.311Z"
      },
      {
        "duration": 15,
        "start_time": "2022-12-22T15:24:02.139Z"
      },
      {
        "duration": 154,
        "start_time": "2022-12-22T15:38:32.662Z"
      },
      {
        "duration": 148,
        "start_time": "2022-12-22T15:38:40.247Z"
      },
      {
        "duration": 182,
        "start_time": "2022-12-22T15:39:47.135Z"
      },
      {
        "duration": 174,
        "start_time": "2022-12-22T15:40:21.507Z"
      },
      {
        "duration": 161,
        "start_time": "2022-12-22T15:40:35.390Z"
      },
      {
        "duration": 185,
        "start_time": "2022-12-22T15:40:40.101Z"
      },
      {
        "duration": 493,
        "start_time": "2022-12-22T18:27:17.012Z"
      },
      {
        "duration": 39,
        "start_time": "2022-12-22T18:27:17.510Z"
      },
      {
        "duration": 37,
        "start_time": "2022-12-22T18:27:17.550Z"
      },
      {
        "duration": 46,
        "start_time": "2022-12-22T18:27:17.589Z"
      },
      {
        "duration": 8,
        "start_time": "2022-12-22T18:27:17.637Z"
      },
      {
        "duration": 18,
        "start_time": "2022-12-22T18:27:17.647Z"
      },
      {
        "duration": 7,
        "start_time": "2022-12-22T18:27:17.667Z"
      },
      {
        "duration": 48,
        "start_time": "2022-12-22T18:27:17.675Z"
      },
      {
        "duration": 16,
        "start_time": "2022-12-22T18:27:17.725Z"
      },
      {
        "duration": 13,
        "start_time": "2022-12-22T18:27:17.744Z"
      },
      {
        "duration": 6,
        "start_time": "2022-12-22T18:27:17.759Z"
      },
      {
        "duration": 18,
        "start_time": "2022-12-22T18:27:17.766Z"
      },
      {
        "duration": 563,
        "start_time": "2022-12-22T18:27:17.785Z"
      },
      {
        "duration": 347,
        "start_time": "2022-12-22T18:27:18.350Z"
      },
      {
        "duration": 257,
        "start_time": "2022-12-22T18:27:18.699Z"
      },
      {
        "duration": 795,
        "start_time": "2022-12-22T18:27:18.958Z"
      },
      {
        "duration": 175,
        "start_time": "2022-12-22T18:27:19.755Z"
      },
      {
        "duration": 5,
        "start_time": "2022-12-22T18:27:19.933Z"
      },
      {
        "duration": 166,
        "start_time": "2022-12-22T18:27:19.939Z"
      },
      {
        "duration": 7,
        "start_time": "2022-12-22T18:27:20.112Z"
      },
      {
        "duration": 1419,
        "start_time": "2022-12-22T18:27:20.121Z"
      },
      {
        "duration": 249,
        "start_time": "2022-12-22T18:27:21.542Z"
      },
      {
        "duration": 204,
        "start_time": "2022-12-22T18:27:21.792Z"
      },
      {
        "duration": 200,
        "start_time": "2022-12-22T18:27:21.997Z"
      },
      {
        "duration": 213,
        "start_time": "2022-12-22T18:27:22.199Z"
      },
      {
        "duration": 208,
        "start_time": "2022-12-22T18:27:22.415Z"
      },
      {
        "duration": 182,
        "start_time": "2022-12-22T18:27:22.625Z"
      },
      {
        "duration": 215,
        "start_time": "2022-12-22T18:27:22.811Z"
      },
      {
        "duration": 193,
        "start_time": "2022-12-22T18:27:23.028Z"
      },
      {
        "duration": 326,
        "start_time": "2022-12-22T18:27:23.222Z"
      },
      {
        "duration": 199,
        "start_time": "2022-12-22T18:27:23.550Z"
      },
      {
        "duration": 16,
        "start_time": "2022-12-22T18:27:23.751Z"
      },
      {
        "duration": 21,
        "start_time": "2022-12-22T18:27:23.768Z"
      },
      {
        "duration": 401,
        "start_time": "2022-12-24T22:25:45.330Z"
      },
      {
        "duration": 90,
        "start_time": "2022-12-24T22:25:45.747Z"
      },
      {
        "duration": 26,
        "start_time": "2022-12-24T22:25:48.940Z"
      },
      {
        "duration": 27,
        "start_time": "2022-12-24T22:25:50.285Z"
      },
      {
        "duration": 65,
        "start_time": "2022-12-24T22:25:53.099Z"
      },
      {
        "duration": 17,
        "start_time": "2022-12-24T22:26:01.319Z"
      },
      {
        "duration": 399,
        "start_time": "2022-12-24T22:26:54.128Z"
      },
      {
        "duration": 50,
        "start_time": "2022-12-24T22:26:54.529Z"
      },
      {
        "duration": 21,
        "start_time": "2022-12-24T22:26:54.580Z"
      },
      {
        "duration": 31,
        "start_time": "2022-12-24T22:26:54.602Z"
      },
      {
        "duration": 14,
        "start_time": "2022-12-24T22:26:54.635Z"
      },
      {
        "duration": 18,
        "start_time": "2022-12-24T22:26:54.650Z"
      },
      {
        "duration": 4,
        "start_time": "2022-12-24T22:26:54.669Z"
      },
      {
        "duration": 16,
        "start_time": "2022-12-24T22:26:54.675Z"
      },
      {
        "duration": 4,
        "start_time": "2022-12-24T22:26:54.693Z"
      },
      {
        "duration": 31,
        "start_time": "2022-12-24T22:26:54.698Z"
      },
      {
        "duration": 9,
        "start_time": "2022-12-24T22:26:54.731Z"
      },
      {
        "duration": 11,
        "start_time": "2022-12-24T22:26:54.741Z"
      },
      {
        "duration": 6,
        "start_time": "2022-12-24T22:26:54.754Z"
      },
      {
        "duration": 14,
        "start_time": "2022-12-24T22:26:54.764Z"
      },
      {
        "duration": 649,
        "start_time": "2022-12-24T22:26:54.780Z"
      },
      {
        "duration": 300,
        "start_time": "2022-12-24T22:26:55.432Z"
      },
      {
        "duration": 260,
        "start_time": "2022-12-24T22:26:55.734Z"
      },
      {
        "duration": 673,
        "start_time": "2022-12-24T22:26:55.996Z"
      },
      {
        "duration": 135,
        "start_time": "2022-12-24T22:26:56.670Z"
      },
      {
        "duration": 22,
        "start_time": "2022-12-24T22:26:56.806Z"
      },
      {
        "duration": 207,
        "start_time": "2022-12-24T22:26:56.829Z"
      },
      {
        "duration": 5,
        "start_time": "2022-12-24T22:26:57.037Z"
      },
      {
        "duration": 1152,
        "start_time": "2022-12-24T22:26:57.043Z"
      },
      {
        "duration": 211,
        "start_time": "2022-12-24T22:26:58.196Z"
      },
      {
        "duration": 186,
        "start_time": "2022-12-24T22:26:58.408Z"
      },
      {
        "duration": 169,
        "start_time": "2022-12-24T22:26:58.596Z"
      },
      {
        "duration": 176,
        "start_time": "2022-12-24T22:26:58.768Z"
      },
      {
        "duration": 155,
        "start_time": "2022-12-24T22:26:58.946Z"
      },
      {
        "duration": 167,
        "start_time": "2022-12-24T22:26:59.103Z"
      },
      {
        "duration": 256,
        "start_time": "2022-12-24T22:26:59.272Z"
      },
      {
        "duration": 149,
        "start_time": "2022-12-24T22:26:59.530Z"
      },
      {
        "duration": 171,
        "start_time": "2022-12-24T22:26:59.680Z"
      },
      {
        "duration": 178,
        "start_time": "2022-12-24T22:26:59.853Z"
      },
      {
        "duration": 12,
        "start_time": "2022-12-24T22:27:00.032Z"
      },
      {
        "duration": 12,
        "start_time": "2022-12-24T22:27:00.046Z"
      },
      {
        "duration": 3,
        "start_time": "2022-12-24T22:36:32.028Z"
      },
      {
        "duration": 55,
        "start_time": "2022-12-24T22:36:32.495Z"
      },
      {
        "duration": 16,
        "start_time": "2022-12-24T22:36:33.564Z"
      },
      {
        "duration": 35,
        "start_time": "2022-12-24T22:36:34.145Z"
      },
      {
        "duration": 15,
        "start_time": "2022-12-24T22:36:34.778Z"
      },
      {
        "duration": 100,
        "start_time": "2022-12-24T22:36:38.603Z"
      },
      {
        "duration": 8,
        "start_time": "2022-12-24T22:36:51.945Z"
      },
      {
        "duration": 9,
        "start_time": "2022-12-24T22:36:58.207Z"
      },
      {
        "duration": 8,
        "start_time": "2022-12-24T22:37:27.527Z"
      },
      {
        "duration": 9,
        "start_time": "2022-12-24T22:43:22.396Z"
      },
      {
        "duration": 375,
        "start_time": "2022-12-24T22:43:50.843Z"
      },
      {
        "duration": 49,
        "start_time": "2022-12-24T22:43:51.220Z"
      },
      {
        "duration": 20,
        "start_time": "2022-12-24T22:43:51.271Z"
      },
      {
        "duration": 28,
        "start_time": "2022-12-24T22:43:51.293Z"
      },
      {
        "duration": 13,
        "start_time": "2022-12-24T22:43:51.323Z"
      },
      {
        "duration": 2,
        "start_time": "2022-12-24T22:43:51.338Z"
      },
      {
        "duration": 28,
        "start_time": "2022-12-24T22:43:51.341Z"
      },
      {
        "duration": 4,
        "start_time": "2022-12-24T22:43:51.371Z"
      },
      {
        "duration": 16,
        "start_time": "2022-12-24T22:43:51.376Z"
      },
      {
        "duration": 22,
        "start_time": "2022-12-24T22:43:51.394Z"
      },
      {
        "duration": 8,
        "start_time": "2022-12-24T22:43:51.417Z"
      },
      {
        "duration": 4,
        "start_time": "2022-12-24T22:43:51.427Z"
      },
      {
        "duration": 11,
        "start_time": "2022-12-24T22:43:51.432Z"
      },
      {
        "duration": 5,
        "start_time": "2022-12-24T22:43:51.445Z"
      },
      {
        "duration": 14,
        "start_time": "2022-12-24T22:43:51.452Z"
      },
      {
        "duration": 459,
        "start_time": "2022-12-24T22:43:51.467Z"
      },
      {
        "duration": 319,
        "start_time": "2022-12-24T22:43:51.927Z"
      },
      {
        "duration": 225,
        "start_time": "2022-12-24T22:43:52.248Z"
      },
      {
        "duration": 654,
        "start_time": "2022-12-24T22:43:52.474Z"
      },
      {
        "duration": 150,
        "start_time": "2022-12-24T22:43:53.130Z"
      },
      {
        "duration": 5,
        "start_time": "2022-12-24T22:43:53.281Z"
      },
      {
        "duration": 144,
        "start_time": "2022-12-24T22:43:53.287Z"
      },
      {
        "duration": 5,
        "start_time": "2022-12-24T22:43:53.433Z"
      },
      {
        "duration": 1176,
        "start_time": "2022-12-24T22:43:53.440Z"
      },
      {
        "duration": 220,
        "start_time": "2022-12-24T22:43:54.618Z"
      },
      {
        "duration": 161,
        "start_time": "2022-12-24T22:43:54.840Z"
      },
      {
        "duration": 160,
        "start_time": "2022-12-24T22:43:55.003Z"
      },
      {
        "duration": 161,
        "start_time": "2022-12-24T22:43:55.165Z"
      },
      {
        "duration": 153,
        "start_time": "2022-12-24T22:43:55.328Z"
      },
      {
        "duration": 152,
        "start_time": "2022-12-24T22:43:55.482Z"
      },
      {
        "duration": 162,
        "start_time": "2022-12-24T22:43:55.636Z"
      },
      {
        "duration": 234,
        "start_time": "2022-12-24T22:43:55.800Z"
      },
      {
        "duration": 171,
        "start_time": "2022-12-24T22:43:56.036Z"
      },
      {
        "duration": 202,
        "start_time": "2022-12-24T22:43:56.209Z"
      },
      {
        "duration": 14,
        "start_time": "2022-12-24T22:43:56.415Z"
      },
      {
        "duration": 11,
        "start_time": "2022-12-24T22:43:56.430Z"
      },
      {
        "duration": 361,
        "start_time": "2022-12-24T22:44:18.050Z"
      },
      {
        "duration": 49,
        "start_time": "2022-12-24T22:44:18.413Z"
      },
      {
        "duration": 20,
        "start_time": "2022-12-24T22:44:18.463Z"
      },
      {
        "duration": 25,
        "start_time": "2022-12-24T22:44:18.485Z"
      },
      {
        "duration": 13,
        "start_time": "2022-12-24T22:44:18.512Z"
      },
      {
        "duration": 14,
        "start_time": "2022-12-24T22:44:18.526Z"
      },
      {
        "duration": 46,
        "start_time": "2022-12-24T22:44:18.542Z"
      },
      {
        "duration": 0,
        "start_time": "2022-12-24T22:44:18.591Z"
      },
      {
        "duration": 0,
        "start_time": "2022-12-24T22:44:18.592Z"
      },
      {
        "duration": 0,
        "start_time": "2022-12-24T22:44:18.593Z"
      },
      {
        "duration": 0,
        "start_time": "2022-12-24T22:44:18.594Z"
      },
      {
        "duration": 0,
        "start_time": "2022-12-24T22:44:18.595Z"
      },
      {
        "duration": 0,
        "start_time": "2022-12-24T22:44:18.596Z"
      },
      {
        "duration": 0,
        "start_time": "2022-12-24T22:44:18.597Z"
      },
      {
        "duration": 0,
        "start_time": "2022-12-24T22:44:18.599Z"
      },
      {
        "duration": 0,
        "start_time": "2022-12-24T22:44:18.599Z"
      },
      {
        "duration": 0,
        "start_time": "2022-12-24T22:44:18.600Z"
      },
      {
        "duration": 0,
        "start_time": "2022-12-24T22:44:18.601Z"
      },
      {
        "duration": 0,
        "start_time": "2022-12-24T22:44:18.603Z"
      },
      {
        "duration": 0,
        "start_time": "2022-12-24T22:44:18.604Z"
      },
      {
        "duration": 0,
        "start_time": "2022-12-24T22:44:18.605Z"
      },
      {
        "duration": 0,
        "start_time": "2022-12-24T22:44:18.606Z"
      },
      {
        "duration": 0,
        "start_time": "2022-12-24T22:44:18.606Z"
      },
      {
        "duration": 0,
        "start_time": "2022-12-24T22:44:18.607Z"
      },
      {
        "duration": 0,
        "start_time": "2022-12-24T22:44:18.608Z"
      },
      {
        "duration": 0,
        "start_time": "2022-12-24T22:44:18.609Z"
      },
      {
        "duration": 0,
        "start_time": "2022-12-24T22:44:18.610Z"
      },
      {
        "duration": 0,
        "start_time": "2022-12-24T22:44:18.611Z"
      },
      {
        "duration": 0,
        "start_time": "2022-12-24T22:44:18.616Z"
      },
      {
        "duration": 0,
        "start_time": "2022-12-24T22:44:18.616Z"
      },
      {
        "duration": 0,
        "start_time": "2022-12-24T22:44:18.617Z"
      },
      {
        "duration": 0,
        "start_time": "2022-12-24T22:44:18.619Z"
      },
      {
        "duration": 0,
        "start_time": "2022-12-24T22:44:18.620Z"
      },
      {
        "duration": 0,
        "start_time": "2022-12-24T22:44:18.621Z"
      },
      {
        "duration": 0,
        "start_time": "2022-12-24T22:44:18.622Z"
      },
      {
        "duration": 0,
        "start_time": "2022-12-24T22:44:18.623Z"
      },
      {
        "duration": 396,
        "start_time": "2022-12-24T22:44:59.416Z"
      },
      {
        "duration": 53,
        "start_time": "2022-12-24T22:44:59.815Z"
      },
      {
        "duration": 23,
        "start_time": "2022-12-24T22:44:59.870Z"
      },
      {
        "duration": 35,
        "start_time": "2022-12-24T22:44:59.895Z"
      },
      {
        "duration": 14,
        "start_time": "2022-12-24T22:44:59.933Z"
      },
      {
        "duration": 15,
        "start_time": "2022-12-24T22:44:59.949Z"
      },
      {
        "duration": 14,
        "start_time": "2022-12-24T22:44:59.966Z"
      },
      {
        "duration": 12,
        "start_time": "2022-12-24T22:44:59.982Z"
      },
      {
        "duration": 20,
        "start_time": "2022-12-24T22:44:59.996Z"
      },
      {
        "duration": 21,
        "start_time": "2022-12-24T22:45:00.018Z"
      },
      {
        "duration": 20,
        "start_time": "2022-12-24T22:45:00.041Z"
      },
      {
        "duration": 27,
        "start_time": "2022-12-24T22:45:00.063Z"
      },
      {
        "duration": 24,
        "start_time": "2022-12-24T22:45:00.091Z"
      },
      {
        "duration": 15,
        "start_time": "2022-12-24T22:45:00.118Z"
      },
      {
        "duration": 471,
        "start_time": "2022-12-24T22:45:00.134Z"
      },
      {
        "duration": 328,
        "start_time": "2022-12-24T22:45:00.607Z"
      },
      {
        "duration": 205,
        "start_time": "2022-12-24T22:45:00.937Z"
      },
      {
        "duration": 673,
        "start_time": "2022-12-24T22:45:01.144Z"
      },
      {
        "duration": 130,
        "start_time": "2022-12-24T22:45:01.819Z"
      },
      {
        "duration": 5,
        "start_time": "2022-12-24T22:45:01.951Z"
      },
      {
        "duration": 149,
        "start_time": "2022-12-24T22:45:01.957Z"
      },
      {
        "duration": 10,
        "start_time": "2022-12-24T22:45:02.107Z"
      },
      {
        "duration": 1161,
        "start_time": "2022-12-24T22:45:02.119Z"
      },
      {
        "duration": 219,
        "start_time": "2022-12-24T22:45:03.282Z"
      },
      {
        "duration": 158,
        "start_time": "2022-12-24T22:45:03.502Z"
      },
      {
        "duration": 168,
        "start_time": "2022-12-24T22:45:03.661Z"
      },
      {
        "duration": 168,
        "start_time": "2022-12-24T22:45:03.831Z"
      },
      {
        "duration": 164,
        "start_time": "2022-12-24T22:45:04.001Z"
      },
      {
        "duration": 164,
        "start_time": "2022-12-24T22:45:04.167Z"
      },
      {
        "duration": 170,
        "start_time": "2022-12-24T22:45:04.333Z"
      },
      {
        "duration": 236,
        "start_time": "2022-12-24T22:45:04.505Z"
      },
      {
        "duration": 173,
        "start_time": "2022-12-24T22:45:04.743Z"
      },
      {
        "duration": 168,
        "start_time": "2022-12-24T22:45:04.918Z"
      },
      {
        "duration": 13,
        "start_time": "2022-12-24T22:45:05.088Z"
      },
      {
        "duration": 23,
        "start_time": "2022-12-24T22:45:05.103Z"
      },
      {
        "duration": 101,
        "start_time": "2022-12-24T22:45:30.672Z"
      },
      {
        "duration": 14,
        "start_time": "2022-12-24T22:45:41.551Z"
      },
      {
        "duration": 4,
        "start_time": "2022-12-24T22:46:32.294Z"
      },
      {
        "duration": 23,
        "start_time": "2022-12-24T22:46:36.609Z"
      },
      {
        "duration": 197,
        "start_time": "2022-12-24T22:46:45.760Z"
      },
      {
        "duration": 197,
        "start_time": "2022-12-24T22:47:01.563Z"
      },
      {
        "duration": 223,
        "start_time": "2022-12-24T22:48:29.118Z"
      },
      {
        "duration": 250,
        "start_time": "2022-12-24T22:48:49.913Z"
      },
      {
        "duration": 405,
        "start_time": "2022-12-24T22:51:52.382Z"
      },
      {
        "duration": 286,
        "start_time": "2022-12-24T22:52:31.364Z"
      },
      {
        "duration": 339,
        "start_time": "2022-12-24T22:52:56.154Z"
      },
      {
        "duration": 195,
        "start_time": "2022-12-24T22:58:39.884Z"
      },
      {
        "duration": 2,
        "start_time": "2022-12-24T22:59:41.307Z"
      },
      {
        "duration": 9,
        "start_time": "2022-12-24T23:02:47.027Z"
      },
      {
        "duration": 13,
        "start_time": "2022-12-24T23:02:57.872Z"
      },
      {
        "duration": 12,
        "start_time": "2022-12-24T23:03:13.471Z"
      },
      {
        "duration": 12,
        "start_time": "2022-12-24T23:03:24.104Z"
      },
      {
        "duration": 19,
        "start_time": "2022-12-24T23:03:42.290Z"
      },
      {
        "duration": 305,
        "start_time": "2022-12-24T23:10:02.028Z"
      },
      {
        "duration": 284,
        "start_time": "2022-12-24T23:10:27.100Z"
      },
      {
        "duration": 273,
        "start_time": "2022-12-24T23:11:01.780Z"
      },
      {
        "duration": 253,
        "start_time": "2022-12-24T23:11:14.091Z"
      },
      {
        "duration": 283,
        "start_time": "2022-12-24T23:11:20.437Z"
      },
      {
        "duration": 395,
        "start_time": "2022-12-24T23:11:28.649Z"
      },
      {
        "duration": 278,
        "start_time": "2022-12-24T23:11:35.939Z"
      },
      {
        "duration": 10,
        "start_time": "2022-12-24T23:14:47.538Z"
      },
      {
        "duration": 23,
        "start_time": "2022-12-24T23:14:56.305Z"
      },
      {
        "duration": 7,
        "start_time": "2022-12-24T23:15:00.622Z"
      },
      {
        "duration": 215,
        "start_time": "2022-12-24T23:16:11.920Z"
      },
      {
        "duration": 9,
        "start_time": "2022-12-24T23:19:56.215Z"
      },
      {
        "duration": 25,
        "start_time": "2022-12-24T23:20:26.488Z"
      },
      {
        "duration": 8,
        "start_time": "2022-12-24T23:20:41.197Z"
      },
      {
        "duration": 465,
        "start_time": "2022-12-24T23:21:23.746Z"
      },
      {
        "duration": 243,
        "start_time": "2022-12-24T23:22:10.499Z"
      },
      {
        "duration": 293,
        "start_time": "2022-12-24T23:23:56.389Z"
      },
      {
        "duration": 332,
        "start_time": "2022-12-24T23:24:05.194Z"
      },
      {
        "duration": 313,
        "start_time": "2022-12-24T23:24:09.998Z"
      },
      {
        "duration": 291,
        "start_time": "2022-12-24T23:24:33.640Z"
      },
      {
        "duration": 172,
        "start_time": "2022-12-24T23:25:41.327Z"
      },
      {
        "duration": 439,
        "start_time": "2022-12-24T23:26:05.990Z"
      },
      {
        "duration": 290,
        "start_time": "2022-12-24T23:28:15.132Z"
      },
      {
        "duration": 304,
        "start_time": "2022-12-24T23:32:41.866Z"
      },
      {
        "duration": 170,
        "start_time": "2022-12-24T23:33:04.790Z"
      },
      {
        "duration": 171,
        "start_time": "2022-12-24T23:33:26.916Z"
      },
      {
        "duration": 169,
        "start_time": "2022-12-24T23:34:13.617Z"
      },
      {
        "duration": 118,
        "start_time": "2022-12-24T23:35:09.181Z"
      },
      {
        "duration": 119,
        "start_time": "2022-12-24T23:35:27.559Z"
      },
      {
        "duration": 165,
        "start_time": "2022-12-24T23:35:40.306Z"
      },
      {
        "duration": 158,
        "start_time": "2022-12-24T23:40:50.911Z"
      },
      {
        "duration": 5,
        "start_time": "2022-12-24T23:42:54.265Z"
      },
      {
        "duration": 179,
        "start_time": "2022-12-24T23:43:46.317Z"
      },
      {
        "duration": 144,
        "start_time": "2022-12-24T23:44:02.142Z"
      },
      {
        "duration": 131,
        "start_time": "2022-12-24T23:44:37.262Z"
      },
      {
        "duration": 300,
        "start_time": "2022-12-24T23:46:12.057Z"
      },
      {
        "duration": 157,
        "start_time": "2022-12-24T23:46:24.432Z"
      },
      {
        "duration": 127,
        "start_time": "2022-12-24T23:46:40.525Z"
      },
      {
        "duration": 2801,
        "start_time": "2022-12-24T23:49:06.547Z"
      },
      {
        "duration": 1034,
        "start_time": "2022-12-24T23:50:49.304Z"
      },
      {
        "duration": 202,
        "start_time": "2022-12-24T23:55:27.589Z"
      },
      {
        "duration": 191,
        "start_time": "2022-12-24T23:56:26.013Z"
      },
      {
        "duration": 28,
        "start_time": "2022-12-24T23:58:30.008Z"
      },
      {
        "duration": 17,
        "start_time": "2022-12-24T23:58:43.031Z"
      },
      {
        "duration": 24,
        "start_time": "2022-12-24T23:59:05.915Z"
      },
      {
        "duration": 168,
        "start_time": "2022-12-25T00:00:57.991Z"
      },
      {
        "duration": 263,
        "start_time": "2022-12-25T00:01:06.382Z"
      },
      {
        "duration": 380,
        "start_time": "2022-12-25T00:01:24.688Z"
      },
      {
        "duration": 283,
        "start_time": "2022-12-25T00:01:48.107Z"
      },
      {
        "duration": 143,
        "start_time": "2022-12-25T00:06:19.311Z"
      },
      {
        "duration": 52,
        "start_time": "2022-12-25T00:08:31.387Z"
      },
      {
        "duration": 1040,
        "start_time": "2022-12-25T00:08:41.765Z"
      },
      {
        "duration": 1131,
        "start_time": "2022-12-25T00:09:17.490Z"
      },
      {
        "duration": 439,
        "start_time": "2022-12-25T00:11:06.409Z"
      },
      {
        "duration": 520,
        "start_time": "2022-12-25T00:12:56.319Z"
      },
      {
        "duration": 495,
        "start_time": "2022-12-25T00:13:06.573Z"
      },
      {
        "duration": 52,
        "start_time": "2022-12-25T00:13:55.042Z"
      },
      {
        "duration": 52,
        "start_time": "2022-12-25T00:15:19.780Z"
      },
      {
        "duration": 47,
        "start_time": "2022-12-25T00:15:44.308Z"
      },
      {
        "duration": 35,
        "start_time": "2022-12-25T00:16:13.720Z"
      },
      {
        "duration": 428,
        "start_time": "2022-12-25T00:16:47.090Z"
      },
      {
        "duration": 541,
        "start_time": "2022-12-25T00:18:58.040Z"
      },
      {
        "duration": 409,
        "start_time": "2022-12-25T00:19:21.868Z"
      },
      {
        "duration": 444,
        "start_time": "2022-12-25T00:19:32.197Z"
      },
      {
        "duration": 415,
        "start_time": "2022-12-25T00:19:37.768Z"
      },
      {
        "duration": 466,
        "start_time": "2022-12-25T00:19:42.162Z"
      },
      {
        "duration": 432,
        "start_time": "2022-12-25T00:19:50.052Z"
      },
      {
        "duration": 434,
        "start_time": "2022-12-25T00:20:00.327Z"
      },
      {
        "duration": 539,
        "start_time": "2022-12-25T00:20:05.645Z"
      },
      {
        "duration": 447,
        "start_time": "2022-12-25T00:22:07.496Z"
      },
      {
        "duration": 426,
        "start_time": "2022-12-25T00:24:00.212Z"
      },
      {
        "duration": 385,
        "start_time": "2022-12-25T00:26:00.125Z"
      },
      {
        "duration": 4,
        "start_time": "2022-12-25T00:33:58.210Z"
      },
      {
        "duration": 15,
        "start_time": "2022-12-25T00:36:31.880Z"
      },
      {
        "duration": 15,
        "start_time": "2022-12-25T00:37:12.875Z"
      },
      {
        "duration": 15,
        "start_time": "2022-12-25T00:37:27.707Z"
      },
      {
        "duration": 12,
        "start_time": "2022-12-25T00:37:41.704Z"
      },
      {
        "duration": 14,
        "start_time": "2022-12-25T00:38:57.476Z"
      },
      {
        "duration": 13,
        "start_time": "2022-12-25T00:39:14.321Z"
      },
      {
        "duration": 10,
        "start_time": "2022-12-25T00:40:15.113Z"
      },
      {
        "duration": 11,
        "start_time": "2022-12-25T00:40:28.731Z"
      },
      {
        "duration": 14,
        "start_time": "2022-12-25T00:40:40.397Z"
      },
      {
        "duration": 16,
        "start_time": "2022-12-25T00:42:09.381Z"
      },
      {
        "duration": 22,
        "start_time": "2022-12-25T00:42:46.334Z"
      },
      {
        "duration": 11,
        "start_time": "2022-12-25T00:46:29.857Z"
      },
      {
        "duration": 11,
        "start_time": "2022-12-25T00:46:38.282Z"
      },
      {
        "duration": 12,
        "start_time": "2022-12-25T00:47:48.705Z"
      },
      {
        "duration": 1120,
        "start_time": "2022-12-25T00:53:08.255Z"
      },
      {
        "duration": 53,
        "start_time": "2022-12-25T00:53:09.378Z"
      },
      {
        "duration": 22,
        "start_time": "2022-12-25T00:53:09.432Z"
      },
      {
        "duration": 31,
        "start_time": "2022-12-25T00:53:09.456Z"
      },
      {
        "duration": 32,
        "start_time": "2022-12-25T00:53:09.490Z"
      },
      {
        "duration": 17,
        "start_time": "2022-12-25T00:53:09.524Z"
      },
      {
        "duration": 8,
        "start_time": "2022-12-25T00:53:09.542Z"
      },
      {
        "duration": 12,
        "start_time": "2022-12-25T00:53:09.552Z"
      },
      {
        "duration": 6,
        "start_time": "2022-12-25T00:53:09.566Z"
      },
      {
        "duration": 43,
        "start_time": "2022-12-25T00:53:09.574Z"
      },
      {
        "duration": 5,
        "start_time": "2022-12-25T00:53:09.619Z"
      },
      {
        "duration": 16,
        "start_time": "2022-12-25T00:53:09.625Z"
      },
      {
        "duration": 17,
        "start_time": "2022-12-25T00:53:09.643Z"
      },
      {
        "duration": 6,
        "start_time": "2022-12-25T00:53:09.665Z"
      },
      {
        "duration": 44,
        "start_time": "2022-12-25T00:53:09.672Z"
      },
      {
        "duration": 267,
        "start_time": "2022-12-25T00:53:09.718Z"
      },
      {
        "duration": 31,
        "start_time": "2022-12-25T00:53:09.987Z"
      },
      {
        "duration": 326,
        "start_time": "2022-12-25T00:53:10.021Z"
      },
      {
        "duration": 298,
        "start_time": "2022-12-25T00:53:10.349Z"
      },
      {
        "duration": 8,
        "start_time": "2022-12-25T00:53:10.649Z"
      },
      {
        "duration": 10,
        "start_time": "2022-12-25T00:53:10.658Z"
      },
      {
        "duration": 358,
        "start_time": "2022-12-25T00:53:10.670Z"
      },
      {
        "duration": 178,
        "start_time": "2022-12-25T00:53:11.030Z"
      },
      {
        "duration": 180,
        "start_time": "2022-12-25T00:53:11.209Z"
      },
      {
        "duration": 162,
        "start_time": "2022-12-25T00:53:11.391Z"
      },
      {
        "duration": 1305,
        "start_time": "2022-12-25T00:53:11.554Z"
      },
      {
        "duration": 37,
        "start_time": "2022-12-25T00:53:12.861Z"
      },
      {
        "duration": 308,
        "start_time": "2022-12-25T00:53:12.900Z"
      },
      {
        "duration": 421,
        "start_time": "2022-12-25T00:53:13.210Z"
      },
      {
        "duration": 438,
        "start_time": "2022-12-25T00:53:13.633Z"
      },
      {
        "duration": 487,
        "start_time": "2022-12-25T00:53:14.072Z"
      },
      {
        "duration": 11,
        "start_time": "2022-12-25T00:53:14.561Z"
      },
      {
        "duration": 12,
        "start_time": "2022-12-25T00:53:14.574Z"
      },
      {
        "duration": 106,
        "start_time": "2022-12-25T00:54:14.520Z"
      },
      {
        "duration": 9,
        "start_time": "2022-12-25T00:54:20.661Z"
      },
      {
        "duration": 3,
        "start_time": "2022-12-25T00:55:04.728Z"
      },
      {
        "duration": 48,
        "start_time": "2022-12-25T00:55:05.063Z"
      },
      {
        "duration": 16,
        "start_time": "2022-12-25T00:55:05.551Z"
      },
      {
        "duration": 29,
        "start_time": "2022-12-25T00:55:05.861Z"
      },
      {
        "duration": 12,
        "start_time": "2022-12-25T00:55:05.892Z"
      },
      {
        "duration": 23,
        "start_time": "2022-12-25T00:55:07.371Z"
      },
      {
        "duration": 6,
        "start_time": "2022-12-25T00:55:09.282Z"
      },
      {
        "duration": 10,
        "start_time": "2022-12-25T00:55:09.677Z"
      },
      {
        "duration": 5,
        "start_time": "2022-12-25T00:55:10.580Z"
      },
      {
        "duration": 13,
        "start_time": "2022-12-25T00:55:11.328Z"
      },
      {
        "duration": 15,
        "start_time": "2022-12-25T00:55:12.797Z"
      },
      {
        "duration": 1547,
        "start_time": "2022-12-25T18:15:02.924Z"
      },
      {
        "duration": 91,
        "start_time": "2022-12-25T18:15:04.473Z"
      },
      {
        "duration": 30,
        "start_time": "2022-12-25T18:15:04.567Z"
      },
      {
        "duration": 35,
        "start_time": "2022-12-25T18:15:04.600Z"
      },
      {
        "duration": 13,
        "start_time": "2022-12-25T18:15:04.637Z"
      },
      {
        "duration": 16,
        "start_time": "2022-12-25T18:15:04.652Z"
      },
      {
        "duration": 8,
        "start_time": "2022-12-25T18:15:04.670Z"
      },
      {
        "duration": 16,
        "start_time": "2022-12-25T18:15:04.680Z"
      },
      {
        "duration": 6,
        "start_time": "2022-12-25T18:15:04.698Z"
      },
      {
        "duration": 9,
        "start_time": "2022-12-25T18:15:04.715Z"
      },
      {
        "duration": 13,
        "start_time": "2022-12-25T18:15:04.726Z"
      },
      {
        "duration": 6,
        "start_time": "2022-12-25T18:15:04.741Z"
      },
      {
        "duration": 11,
        "start_time": "2022-12-25T18:15:04.749Z"
      },
      {
        "duration": 20,
        "start_time": "2022-12-25T18:15:04.762Z"
      },
      {
        "duration": 4,
        "start_time": "2022-12-25T18:15:04.784Z"
      },
      {
        "duration": 21,
        "start_time": "2022-12-25T18:15:04.790Z"
      },
      {
        "duration": 342,
        "start_time": "2022-12-25T18:15:04.813Z"
      },
      {
        "duration": 71,
        "start_time": "2022-12-25T18:15:05.157Z"
      },
      {
        "duration": 398,
        "start_time": "2022-12-25T18:15:05.230Z"
      },
      {
        "duration": 327,
        "start_time": "2022-12-25T18:15:05.630Z"
      },
      {
        "duration": 9,
        "start_time": "2022-12-25T18:15:05.959Z"
      },
      {
        "duration": 21,
        "start_time": "2022-12-25T18:15:05.969Z"
      },
      {
        "duration": 423,
        "start_time": "2022-12-25T18:15:05.992Z"
      },
      {
        "duration": 270,
        "start_time": "2022-12-25T18:15:06.417Z"
      },
      {
        "duration": 180,
        "start_time": "2022-12-25T18:15:06.689Z"
      },
      {
        "duration": 160,
        "start_time": "2022-12-25T18:15:06.871Z"
      },
      {
        "duration": 1324,
        "start_time": "2022-12-25T18:15:07.034Z"
      },
      {
        "duration": 36,
        "start_time": "2022-12-25T18:15:08.362Z"
      },
      {
        "duration": 381,
        "start_time": "2022-12-25T18:15:08.400Z"
      },
      {
        "duration": 454,
        "start_time": "2022-12-25T18:15:08.783Z"
      },
      {
        "duration": 448,
        "start_time": "2022-12-25T18:15:09.239Z"
      },
      {
        "duration": 539,
        "start_time": "2022-12-25T18:15:09.689Z"
      },
      {
        "duration": 12,
        "start_time": "2022-12-25T18:15:10.230Z"
      },
      {
        "duration": 16,
        "start_time": "2022-12-25T18:15:10.244Z"
      },
      {
        "duration": 48,
        "start_time": "2022-12-25T21:46:23.205Z"
      },
      {
        "duration": 1305,
        "start_time": "2022-12-25T21:46:27.449Z"
      },
      {
        "duration": 90,
        "start_time": "2022-12-25T21:46:28.756Z"
      },
      {
        "duration": 22,
        "start_time": "2022-12-25T21:46:28.848Z"
      },
      {
        "duration": 33,
        "start_time": "2022-12-25T21:46:28.873Z"
      },
      {
        "duration": 15,
        "start_time": "2022-12-25T21:46:28.907Z"
      },
      {
        "duration": 19,
        "start_time": "2022-12-25T21:46:28.923Z"
      },
      {
        "duration": 7,
        "start_time": "2022-12-25T21:46:28.944Z"
      },
      {
        "duration": 11,
        "start_time": "2022-12-25T21:46:28.952Z"
      },
      {
        "duration": 33,
        "start_time": "2022-12-25T21:46:28.965Z"
      },
      {
        "duration": 10,
        "start_time": "2022-12-25T21:46:29.001Z"
      },
      {
        "duration": 11,
        "start_time": "2022-12-25T21:46:29.013Z"
      },
      {
        "duration": 5,
        "start_time": "2022-12-25T21:46:29.025Z"
      },
      {
        "duration": 11,
        "start_time": "2022-12-25T21:46:29.032Z"
      },
      {
        "duration": 17,
        "start_time": "2022-12-25T21:46:29.045Z"
      },
      {
        "duration": 5,
        "start_time": "2022-12-25T21:46:29.096Z"
      },
      {
        "duration": 20,
        "start_time": "2022-12-25T21:46:29.103Z"
      },
      {
        "duration": 285,
        "start_time": "2022-12-25T21:46:29.125Z"
      },
      {
        "duration": 22,
        "start_time": "2022-12-25T21:46:29.411Z"
      },
      {
        "duration": 331,
        "start_time": "2022-12-25T21:46:29.434Z"
      },
      {
        "duration": 327,
        "start_time": "2022-12-25T21:46:29.767Z"
      },
      {
        "duration": 7,
        "start_time": "2022-12-25T21:46:30.096Z"
      },
      {
        "duration": 29,
        "start_time": "2022-12-25T21:46:30.106Z"
      },
      {
        "duration": 381,
        "start_time": "2022-12-25T21:46:30.137Z"
      },
      {
        "duration": 182,
        "start_time": "2022-12-25T21:46:30.520Z"
      },
      {
        "duration": 185,
        "start_time": "2022-12-25T21:46:30.704Z"
      },
      {
        "duration": 159,
        "start_time": "2022-12-25T21:46:30.897Z"
      },
      {
        "duration": 1296,
        "start_time": "2022-12-25T21:46:31.058Z"
      },
      {
        "duration": 26,
        "start_time": "2022-12-25T21:46:32.357Z"
      },
      {
        "duration": 320,
        "start_time": "2022-12-25T21:46:32.397Z"
      },
      {
        "duration": 435,
        "start_time": "2022-12-25T21:46:32.719Z"
      },
      {
        "duration": 460,
        "start_time": "2022-12-25T21:46:33.155Z"
      },
      {
        "duration": 521,
        "start_time": "2022-12-25T21:46:33.617Z"
      },
      {
        "duration": 10,
        "start_time": "2022-12-25T21:46:34.140Z"
      },
      {
        "duration": 12,
        "start_time": "2022-12-25T21:46:34.152Z"
      },
      {
        "duration": 25,
        "start_time": "2022-12-25T21:53:36.923Z"
      },
      {
        "duration": 1144,
        "start_time": "2022-12-26T12:16:17.848Z"
      },
      {
        "duration": 58,
        "start_time": "2022-12-26T12:16:18.995Z"
      },
      {
        "duration": 35,
        "start_time": "2022-12-26T12:16:19.055Z"
      },
      {
        "duration": 59,
        "start_time": "2022-12-26T12:16:19.093Z"
      },
      {
        "duration": 18,
        "start_time": "2022-12-26T12:16:19.154Z"
      },
      {
        "duration": 50,
        "start_time": "2022-12-26T12:16:19.174Z"
      },
      {
        "duration": 15,
        "start_time": "2022-12-26T12:16:19.226Z"
      },
      {
        "duration": 52,
        "start_time": "2022-12-26T12:16:19.243Z"
      },
      {
        "duration": 34,
        "start_time": "2022-12-26T12:16:19.297Z"
      },
      {
        "duration": 45,
        "start_time": "2022-12-26T12:16:19.336Z"
      },
      {
        "duration": 32,
        "start_time": "2022-12-26T12:16:19.384Z"
      },
      {
        "duration": 9,
        "start_time": "2022-12-26T12:16:19.418Z"
      },
      {
        "duration": 34,
        "start_time": "2022-12-26T12:16:19.429Z"
      },
      {
        "duration": 47,
        "start_time": "2022-12-26T12:16:19.465Z"
      },
      {
        "duration": 5,
        "start_time": "2022-12-26T12:16:19.514Z"
      },
      {
        "duration": 48,
        "start_time": "2022-12-26T12:16:19.521Z"
      },
      {
        "duration": 306,
        "start_time": "2022-12-26T12:16:19.571Z"
      },
      {
        "duration": 19,
        "start_time": "2022-12-26T12:16:19.879Z"
      },
      {
        "duration": 338,
        "start_time": "2022-12-26T12:16:19.900Z"
      },
      {
        "duration": 310,
        "start_time": "2022-12-26T12:16:20.240Z"
      },
      {
        "duration": 8,
        "start_time": "2022-12-26T12:16:20.552Z"
      },
      {
        "duration": 27,
        "start_time": "2022-12-26T12:16:20.562Z"
      },
      {
        "duration": 355,
        "start_time": "2022-12-26T12:16:20.590Z"
      },
      {
        "duration": 188,
        "start_time": "2022-12-26T12:16:20.947Z"
      },
      {
        "duration": 176,
        "start_time": "2022-12-26T12:16:21.137Z"
      },
      {
        "duration": 155,
        "start_time": "2022-12-26T12:16:21.315Z"
      },
      {
        "duration": 1300,
        "start_time": "2022-12-26T12:16:21.471Z"
      },
      {
        "duration": 26,
        "start_time": "2022-12-26T12:16:22.775Z"
      },
      {
        "duration": 342,
        "start_time": "2022-12-26T12:16:22.803Z"
      },
      {
        "duration": 413,
        "start_time": "2022-12-26T12:16:23.146Z"
      },
      {
        "duration": 427,
        "start_time": "2022-12-26T12:16:23.562Z"
      },
      {
        "duration": 500,
        "start_time": "2022-12-26T12:16:23.990Z"
      },
      {
        "duration": 10,
        "start_time": "2022-12-26T12:16:24.491Z"
      },
      {
        "duration": 18,
        "start_time": "2022-12-26T12:16:24.503Z"
      }
    ],
    "kernelspec": {
      "display_name": "Python 3 (ipykernel)",
      "language": "python",
      "name": "python3"
    },
    "language_info": {
      "codemirror_mode": {
        "name": "ipython",
        "version": 3
      },
      "file_extension": ".py",
      "mimetype": "text/x-python",
      "name": "python",
      "nbconvert_exporter": "python",
      "pygments_lexer": "ipython3",
      "version": "3.9.5"
    },
    "toc": {
      "base_numbering": 1,
      "nav_menu": {},
      "number_sections": true,
      "sideBar": true,
      "skip_h1_title": true,
      "title_cell": "Table of Contents",
      "title_sidebar": "Contents",
      "toc_cell": false,
      "toc_position": {},
      "toc_section_display": true,
      "toc_window_display": false
    },
    "colab": {
      "provenance": []
    }
  },
  "nbformat": 4,
  "nbformat_minor": 0
}